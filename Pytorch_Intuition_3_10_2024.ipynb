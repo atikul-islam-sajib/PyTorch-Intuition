{
  "nbformat": 4,
  "nbformat_minor": 0,
  "metadata": {
    "colab": {
      "provenance": []
    },
    "kernelspec": {
      "name": "python3",
      "display_name": "Python 3"
    },
    "language_info": {
      "name": "python"
    }
  },
  "cells": [
    {
      "cell_type": "code",
      "execution_count": 1,
      "metadata": {
        "id": "3_H5Sj3ehKqF"
      },
      "outputs": [],
      "source": [
        "import torch\n",
        "import numpy as np\n",
        "import torch.nn as nn"
      ]
    },
    {
      "cell_type": "markdown",
      "source": [
        "# 1. torch.tensor()/torch.Tensor()"
      ],
      "metadata": {
        "id": "lfIxfvPghWxa"
      }
    },
    {
      "cell_type": "code",
      "source": [
        "torch.tensor([1, 2, 3])"
      ],
      "metadata": {
        "colab": {
          "base_uri": "https://localhost:8080/"
        },
        "id": "iDK9sY4ShUm7",
        "outputId": "b5158fdb-9618-435e-ee8b-12862fca70d4"
      },
      "execution_count": null,
      "outputs": [
        {
          "output_type": "execute_result",
          "data": {
            "text/plain": [
              "tensor([1, 2, 3])"
            ]
          },
          "metadata": {},
          "execution_count": 3
        }
      ]
    },
    {
      "cell_type": "code",
      "source": [
        "torch.tensor([[1, 2, 3], [4, 5, 6]])"
      ],
      "metadata": {
        "colab": {
          "base_uri": "https://localhost:8080/"
        },
        "id": "Q3SruZgchhD6",
        "outputId": "bb6dbbb1-7b44-4a68-caad-ad53f0898634"
      },
      "execution_count": null,
      "outputs": [
        {
          "output_type": "execute_result",
          "data": {
            "text/plain": [
              "tensor([[1, 2, 3],\n",
              "        [4, 5, 6]])"
            ]
          },
          "metadata": {},
          "execution_count": 4
        }
      ]
    },
    {
      "cell_type": "code",
      "source": [
        "torch.Tensor([1, 2, 3])"
      ],
      "metadata": {
        "colab": {
          "base_uri": "https://localhost:8080/"
        },
        "id": "_wTIjttRhk4g",
        "outputId": "79f3d7e2-c65c-4730-f431-1e164043f66a"
      },
      "execution_count": null,
      "outputs": [
        {
          "output_type": "execute_result",
          "data": {
            "text/plain": [
              "tensor([1., 2., 3.])"
            ]
          },
          "metadata": {},
          "execution_count": 5
        }
      ]
    },
    {
      "cell_type": "code",
      "source": [
        "torch.Tensor([[1, 2, 3], [4, 5, 6]])"
      ],
      "metadata": {
        "colab": {
          "base_uri": "https://localhost:8080/"
        },
        "id": "aNG28S-Fhn60",
        "outputId": "eca14f50-909d-4f77-acf3-eb14faae0b79"
      },
      "execution_count": null,
      "outputs": [
        {
          "output_type": "execute_result",
          "data": {
            "text/plain": [
              "tensor([[1., 2., 3.],\n",
              "        [4., 5., 6.]])"
            ]
          },
          "metadata": {},
          "execution_count": 6
        }
      ]
    },
    {
      "cell_type": "code",
      "source": [
        "list1 = [[1, 2, 3], [4, 5, 6]]\n",
        "list2 = [[1, 2, 3], [4, 5, 6]]\n",
        "\n",
        "torch.Tensor((list1, list2))"
      ],
      "metadata": {
        "colab": {
          "base_uri": "https://localhost:8080/"
        },
        "id": "fu6SCrgehsIX",
        "outputId": "cd6d406b-448c-433c-8bbd-fe7d66ee4b1c"
      },
      "execution_count": null,
      "outputs": [
        {
          "output_type": "execute_result",
          "data": {
            "text/plain": [
              "tensor([[[1., 2., 3.],\n",
              "         [4., 5., 6.]],\n",
              "\n",
              "        [[1., 2., 3.],\n",
              "         [4., 5., 6.]]])"
            ]
          },
          "metadata": {},
          "execution_count": 7
        }
      ]
    },
    {
      "cell_type": "markdown",
      "source": [
        "# 2. torch.from_numpy()"
      ],
      "metadata": {
        "id": "pR8xnkiWh4sD"
      }
    },
    {
      "cell_type": "code",
      "source": [
        "array = np.array([1, 2, 3])\n",
        "\n",
        "torch.from_numpy(array)"
      ],
      "metadata": {
        "colab": {
          "base_uri": "https://localhost:8080/"
        },
        "id": "EbsKgrH2h3DS",
        "outputId": "d8d44c69-f489-4531-9a03-5c60027879b5"
      },
      "execution_count": null,
      "outputs": [
        {
          "output_type": "execute_result",
          "data": {
            "text/plain": [
              "tensor([1, 2, 3])"
            ]
          },
          "metadata": {},
          "execution_count": 8
        }
      ]
    },
    {
      "cell_type": "code",
      "source": [
        "torch.from_numpy(np.array([[1, 2, 3], [4, 5, 6]]))"
      ],
      "metadata": {
        "colab": {
          "base_uri": "https://localhost:8080/"
        },
        "id": "JiO-XwbuiCzh",
        "outputId": "743b4bbf-e40c-4b50-9208-8b225b037792"
      },
      "execution_count": null,
      "outputs": [
        {
          "output_type": "execute_result",
          "data": {
            "text/plain": [
              "tensor([[1, 2, 3],\n",
              "        [4, 5, 6]])"
            ]
          },
          "metadata": {},
          "execution_count": 14
        }
      ]
    },
    {
      "cell_type": "markdown",
      "source": [
        "# 3. torch.rand()"
      ],
      "metadata": {
        "id": "vbNx8ye6iZwk"
      }
    },
    {
      "cell_type": "code",
      "source": [
        "torch.rand((4, ))"
      ],
      "metadata": {
        "colab": {
          "base_uri": "https://localhost:8080/"
        },
        "id": "c3EJcjsfiIyJ",
        "outputId": "6ba66274-355d-4f9c-87fb-e91423d46fee"
      },
      "execution_count": null,
      "outputs": [
        {
          "output_type": "execute_result",
          "data": {
            "text/plain": [
              "tensor([0.2850, 0.5590, 0.6600, 0.6660])"
            ]
          },
          "metadata": {},
          "execution_count": 15
        }
      ]
    },
    {
      "cell_type": "code",
      "source": [
        "torch.rand((3, 4)) # 2D"
      ],
      "metadata": {
        "colab": {
          "base_uri": "https://localhost:8080/"
        },
        "id": "Q9KFGErvid6S",
        "outputId": "0adefea6-1483-4699-9d8e-b01eb56052a2"
      },
      "execution_count": null,
      "outputs": [
        {
          "output_type": "execute_result",
          "data": {
            "text/plain": [
              "tensor([[0.3499, 0.6893, 0.0377, 0.0150],\n",
              "        [0.5514, 0.3862, 0.4897, 0.1769],\n",
              "        [0.7210, 0.7848, 0.3463, 0.7255]])"
            ]
          },
          "metadata": {},
          "execution_count": 16
        }
      ]
    },
    {
      "cell_type": "code",
      "source": [
        "torch.rand((3, 2, 4))"
      ],
      "metadata": {
        "colab": {
          "base_uri": "https://localhost:8080/"
        },
        "id": "vmiC0bydigiy",
        "outputId": "5b87fb74-918c-4697-f91b-72b68f2004a1"
      },
      "execution_count": null,
      "outputs": [
        {
          "output_type": "execute_result",
          "data": {
            "text/plain": [
              "tensor([[[0.0019, 0.2724, 0.4669, 0.0207],\n",
              "         [0.9908, 0.7979, 0.0541, 0.1274]],\n",
              "\n",
              "        [[0.0249, 0.3039, 0.3127, 0.4761],\n",
              "         [0.3788, 0.4697, 0.2553, 0.4115]],\n",
              "\n",
              "        [[0.2332, 0.0906, 0.4259, 0.1337],\n",
              "         [0.0243, 0.5883, 0.5215, 0.0266]]])"
            ]
          },
          "metadata": {},
          "execution_count": 17
        }
      ]
    },
    {
      "cell_type": "code",
      "source": [
        "torch.rand((16, 3, 128, 128)).size()"
      ],
      "metadata": {
        "colab": {
          "base_uri": "https://localhost:8080/"
        },
        "id": "9JKRIt8_ii2s",
        "outputId": "2e0df74e-44f7-407d-8f2e-ed7573daae14"
      },
      "execution_count": null,
      "outputs": [
        {
          "output_type": "execute_result",
          "data": {
            "text/plain": [
              "torch.Size([16, 3, 128, 128])"
            ]
          },
          "metadata": {},
          "execution_count": 18
        }
      ]
    },
    {
      "cell_type": "markdown",
      "source": [
        "# 3. torch.randn()"
      ],
      "metadata": {
        "id": "1lTl-Xgki0VU"
      }
    },
    {
      "cell_type": "code",
      "source": [
        "torch.randn((2, )) # 1D"
      ],
      "metadata": {
        "colab": {
          "base_uri": "https://localhost:8080/"
        },
        "id": "uqoB7DJhimSp",
        "outputId": "47e6a7c8-cf09-4795-91ef-15e50c22a531"
      },
      "execution_count": null,
      "outputs": [
        {
          "output_type": "execute_result",
          "data": {
            "text/plain": [
              "tensor([1.0260, 0.2438])"
            ]
          },
          "metadata": {},
          "execution_count": 19
        }
      ]
    },
    {
      "cell_type": "code",
      "source": [
        "torch.randn((3, 4)) # 2D"
      ],
      "metadata": {
        "colab": {
          "base_uri": "https://localhost:8080/"
        },
        "id": "T8sU2YQzi7It",
        "outputId": "6f168d95-bf11-4814-c7ce-91ac9a793906"
      },
      "execution_count": null,
      "outputs": [
        {
          "output_type": "execute_result",
          "data": {
            "text/plain": [
              "tensor([[-0.0866, -0.5227,  1.1566,  0.7062],\n",
              "        [ 2.2518,  0.4340, -0.8353,  0.7809],\n",
              "        [-1.1123,  0.1841, -0.0112,  0.5317]])"
            ]
          },
          "metadata": {},
          "execution_count": 20
        }
      ]
    },
    {
      "cell_type": "code",
      "source": [
        "torch.randn((2, 2, 4)) # 3D"
      ],
      "metadata": {
        "colab": {
          "base_uri": "https://localhost:8080/"
        },
        "id": "VVLwL8vhi-BP",
        "outputId": "8108e24e-7928-46ae-ad85-2cbcc11e2da4"
      },
      "execution_count": null,
      "outputs": [
        {
          "output_type": "execute_result",
          "data": {
            "text/plain": [
              "tensor([[[-0.4910,  1.0399, -1.5044, -2.2785],\n",
              "         [-0.7280, -0.3413, -0.1099,  0.2544]],\n",
              "\n",
              "        [[-0.0784,  0.3125, -1.6391, -1.0656],\n",
              "         [ 0.3892, -0.7178, -0.2287,  0.7575]]])"
            ]
          },
          "metadata": {},
          "execution_count": 21
        }
      ]
    },
    {
      "cell_type": "code",
      "source": [
        "torch.randn((16, 3, 128, 128)).size() # ND"
      ],
      "metadata": {
        "colab": {
          "base_uri": "https://localhost:8080/"
        },
        "id": "Ehi8DJODjAig",
        "outputId": "60d74a8d-f344-4b5d-ab2b-e16ec6c41cf5"
      },
      "execution_count": null,
      "outputs": [
        {
          "output_type": "execute_result",
          "data": {
            "text/plain": [
              "torch.Size([16, 3, 128, 128])"
            ]
          },
          "metadata": {},
          "execution_count": 23
        }
      ]
    },
    {
      "cell_type": "markdown",
      "source": [
        "# 4. torch.randint()"
      ],
      "metadata": {
        "id": "3s-HW-0BjVaS"
      }
    },
    {
      "cell_type": "code",
      "source": [
        "torch.randint(0, 10, (4, )) # 1D"
      ],
      "metadata": {
        "colab": {
          "base_uri": "https://localhost:8080/"
        },
        "id": "Nb2xY-jYjDu2",
        "outputId": "9c979efb-088b-4f7e-b723-ff8a2cac15a1"
      },
      "execution_count": null,
      "outputs": [
        {
          "output_type": "execute_result",
          "data": {
            "text/plain": [
              "tensor([5, 7, 7, 2])"
            ]
          },
          "metadata": {},
          "execution_count": 24
        }
      ]
    },
    {
      "cell_type": "code",
      "source": [
        "torch.randint(0, 10, (3, 4))"
      ],
      "metadata": {
        "colab": {
          "base_uri": "https://localhost:8080/"
        },
        "id": "DEjTb2Ybjdbq",
        "outputId": "bdfbe55f-0f36-4141-9cb4-cc4c89907f45"
      },
      "execution_count": null,
      "outputs": [
        {
          "output_type": "execute_result",
          "data": {
            "text/plain": [
              "tensor([[3, 0, 8, 5],\n",
              "        [3, 3, 8, 4],\n",
              "        [3, 6, 2, 3]])"
            ]
          },
          "metadata": {},
          "execution_count": 25
        }
      ]
    },
    {
      "cell_type": "code",
      "source": [
        "torch.randint(0, 10, (2, 3, 4)) # 3D"
      ],
      "metadata": {
        "colab": {
          "base_uri": "https://localhost:8080/"
        },
        "id": "Gavp-y3zjgZH",
        "outputId": "b8f0eae5-dc38-4f55-d278-de521bb5e97e"
      },
      "execution_count": null,
      "outputs": [
        {
          "output_type": "execute_result",
          "data": {
            "text/plain": [
              "tensor([[[9, 8, 4, 4],\n",
              "         [3, 0, 9, 5],\n",
              "         [0, 5, 5, 5]],\n",
              "\n",
              "        [[4, 9, 3, 5],\n",
              "         [2, 9, 8, 5],\n",
              "         [2, 5, 3, 7]]])"
            ]
          },
          "metadata": {},
          "execution_count": 26
        }
      ]
    },
    {
      "cell_type": "code",
      "source": [
        "torch.randint(0, 10, (16, 3, 128, 128)).size()"
      ],
      "metadata": {
        "colab": {
          "base_uri": "https://localhost:8080/"
        },
        "id": "EaXH_otHjj0H",
        "outputId": "2ee019c3-6767-4b23-eb55-a9212fd55568"
      },
      "execution_count": null,
      "outputs": [
        {
          "output_type": "execute_result",
          "data": {
            "text/plain": [
              "torch.Size([16, 3, 128, 128])"
            ]
          },
          "metadata": {},
          "execution_count": 27
        }
      ]
    },
    {
      "cell_type": "markdown",
      "source": [
        "# 5. torch.max()"
      ],
      "metadata": {
        "id": "7zCb2ZKejqjz"
      }
    },
    {
      "cell_type": "code",
      "source": [
        "torch.max(torch.randint(0, 10, (2, 3)))"
      ],
      "metadata": {
        "colab": {
          "base_uri": "https://localhost:8080/"
        },
        "id": "SlqnMEZFjoNd",
        "outputId": "4db3f694-0cb9-465d-ca50-179169258682"
      },
      "execution_count": null,
      "outputs": [
        {
          "output_type": "execute_result",
          "data": {
            "text/plain": [
              "tensor(9)"
            ]
          },
          "metadata": {},
          "execution_count": 28
        }
      ]
    },
    {
      "cell_type": "code",
      "source": [
        "value, _ = torch.max(torch.randint(0, 100, (16, 3, 20, 20)), dim = 0)\n",
        "\n",
        "value.size()"
      ],
      "metadata": {
        "colab": {
          "base_uri": "https://localhost:8080/"
        },
        "id": "4K_JKPeLjvbi",
        "outputId": "94d4eb4c-08df-424b-d3cf-e436906a0fb2"
      },
      "execution_count": null,
      "outputs": [
        {
          "output_type": "execute_result",
          "data": {
            "text/plain": [
              "torch.Size([3, 20, 20])"
            ]
          },
          "metadata": {},
          "execution_count": 31
        }
      ]
    },
    {
      "cell_type": "code",
      "source": [
        "value, _ = torch.max(torch.randint(0, 100, (16, 3, 20, 20)), dim = 1)\n",
        "\n",
        "value.size()"
      ],
      "metadata": {
        "colab": {
          "base_uri": "https://localhost:8080/"
        },
        "id": "Uu2v6PaQj2DQ",
        "outputId": "d5909998-c1ea-4757-ed5f-481873f7a62d"
      },
      "execution_count": null,
      "outputs": [
        {
          "output_type": "execute_result",
          "data": {
            "text/plain": [
              "torch.Size([16, 20, 20])"
            ]
          },
          "metadata": {},
          "execution_count": 32
        }
      ]
    },
    {
      "cell_type": "code",
      "source": [
        "value, _ = torch.max(torch.randint(0, 100, (16, 3, 20, 20)), dim = 2)\n",
        "\n",
        "value.size()"
      ],
      "metadata": {
        "colab": {
          "base_uri": "https://localhost:8080/"
        },
        "id": "6IwJRckcj_aF",
        "outputId": "f136f5d2-ac1f-4dee-9b1b-9f36348837fa"
      },
      "execution_count": null,
      "outputs": [
        {
          "output_type": "execute_result",
          "data": {
            "text/plain": [
              "torch.Size([16, 3, 20])"
            ]
          },
          "metadata": {},
          "execution_count": 33
        }
      ]
    },
    {
      "cell_type": "code",
      "source": [
        "value, _ = torch.max(torch.randint(0, 100, (16, 3, 20, 20)), dim = -1)\n",
        "\n",
        "value.size()"
      ],
      "metadata": {
        "colab": {
          "base_uri": "https://localhost:8080/"
        },
        "id": "nPxAFzA-kB4b",
        "outputId": "03685048-f003-41d3-fd3d-eeca6a1e7573"
      },
      "execution_count": null,
      "outputs": [
        {
          "output_type": "execute_result",
          "data": {
            "text/plain": [
              "torch.Size([16, 3, 20])"
            ]
          },
          "metadata": {},
          "execution_count": 34
        }
      ]
    },
    {
      "cell_type": "markdown",
      "source": [
        "# 6. torch.min()"
      ],
      "metadata": {
        "id": "I4DQz2NCkMZM"
      }
    },
    {
      "cell_type": "code",
      "source": [
        "torch.min(torch.randn(4, ))"
      ],
      "metadata": {
        "colab": {
          "base_uri": "https://localhost:8080/"
        },
        "id": "epO8xhaakDMC",
        "outputId": "fe10404f-6168-4dff-d60a-592be780a5b6"
      },
      "execution_count": null,
      "outputs": [
        {
          "output_type": "execute_result",
          "data": {
            "text/plain": [
              "tensor(-1.1934)"
            ]
          },
          "metadata": {},
          "execution_count": 35
        }
      ]
    },
    {
      "cell_type": "code",
      "source": [
        "value, idicies = torch.min(torch.randn((3, 4)), dim = 0) # Column wise -> the result shape would be 4\n",
        "\n",
        "print(value.size())\n",
        "\n",
        "value, idicies = torch.min(torch.randn((3, 4)), dim = 1) # ROW wise -> the result shape would be 3\n",
        "\n",
        "print(value.size())"
      ],
      "metadata": {
        "colab": {
          "base_uri": "https://localhost:8080/"
        },
        "id": "m1aoB5JVkRWd",
        "outputId": "6b827449-0297-407f-8829-acba38b7a043"
      },
      "execution_count": null,
      "outputs": [
        {
          "output_type": "stream",
          "name": "stdout",
          "text": [
            "torch.Size([4])\n",
            "torch.Size([3])\n"
          ]
        }
      ]
    },
    {
      "cell_type": "code",
      "source": [
        "value, indicies = torch.min(torch.randn((2, 3, 4)), dim = 0)\n",
        "\n",
        "print(value.size()) # It would be print (3, 4)\n",
        "\n",
        "value, indicies = torch.min(torch.randn((2, 3, 4)), dim = 1)\n",
        "\n",
        "print(value.size()) # It will print (2, 4)\n",
        "\n",
        "value, indicies = torch.min(torch.randn((2, 3, 4)), dim = 2)\n",
        "\n",
        "print(value.size()) # It will print (2, 3)"
      ],
      "metadata": {
        "colab": {
          "base_uri": "https://localhost:8080/"
        },
        "id": "k-hR5ku3keDa",
        "outputId": "677bf023-df3b-4a98-bb18-0a7e91f89ae3"
      },
      "execution_count": null,
      "outputs": [
        {
          "output_type": "stream",
          "name": "stdout",
          "text": [
            "torch.Size([3, 4])\n",
            "torch.Size([2, 4])\n",
            "torch.Size([2, 3])\n"
          ]
        }
      ]
    },
    {
      "cell_type": "markdown",
      "source": [
        "# 7. torch.mean()"
      ],
      "metadata": {
        "id": "nGDDUc8TlBKO"
      }
    },
    {
      "cell_type": "code",
      "source": [
        "torch.mean(torch.randn((2, )))"
      ],
      "metadata": {
        "colab": {
          "base_uri": "https://localhost:8080/"
        },
        "id": "CqWhfn20k5J7",
        "outputId": "16dd90aa-3ebd-4ce7-c008-f89e088ce84e"
      },
      "execution_count": null,
      "outputs": [
        {
          "output_type": "execute_result",
          "data": {
            "text/plain": [
              "tensor(-0.4021)"
            ]
          },
          "metadata": {},
          "execution_count": 39
        }
      ]
    },
    {
      "cell_type": "code",
      "source": [
        "torch.mean(torch.randn((3, 4)))"
      ],
      "metadata": {
        "colab": {
          "base_uri": "https://localhost:8080/"
        },
        "id": "4Fng_WW9lHvs",
        "outputId": "8d90fab9-27a9-4188-8ddc-1fad2b82c412"
      },
      "execution_count": null,
      "outputs": [
        {
          "output_type": "execute_result",
          "data": {
            "text/plain": [
              "tensor(-0.2171)"
            ]
          },
          "metadata": {},
          "execution_count": 40
        }
      ]
    },
    {
      "cell_type": "code",
      "source": [
        "torch.mean(torch.randint(0, 10, (16, 3, 128, 128)), dtype = torch.float)"
      ],
      "metadata": {
        "colab": {
          "base_uri": "https://localhost:8080/"
        },
        "id": "LnH4MoZAlKUk",
        "outputId": "c61b0866-22dc-4ace-bb99-e8bfb3ec5f8f"
      },
      "execution_count": null,
      "outputs": [
        {
          "output_type": "execute_result",
          "data": {
            "text/plain": [
              "tensor(4.4946)"
            ]
          },
          "metadata": {},
          "execution_count": 42
        }
      ]
    },
    {
      "cell_type": "code",
      "source": [
        "torch.mean(torch.randint(0, 10, (16, 3, 128, 128)), dtype = torch.float, dim = 0).size() # It will print -> (3, 128, 128)"
      ],
      "metadata": {
        "colab": {
          "base_uri": "https://localhost:8080/"
        },
        "id": "lUBg6-7WlOwp",
        "outputId": "b17aa74c-ffe4-45fb-d8ac-8ef4338c643a"
      },
      "execution_count": null,
      "outputs": [
        {
          "output_type": "execute_result",
          "data": {
            "text/plain": [
              "torch.Size([3, 128, 128])"
            ]
          },
          "metadata": {},
          "execution_count": 44
        }
      ]
    },
    {
      "cell_type": "code",
      "source": [
        "torch.mean(torch.randint(0, 10, (16, 3, 128, 128)), dtype = torch.float, dim = 1).size() # It will print -> (16, 128, 128)"
      ],
      "metadata": {
        "colab": {
          "base_uri": "https://localhost:8080/"
        },
        "id": "1YAZshMTlU3R",
        "outputId": "1e77b797-299a-4b21-cc9c-c5ce84172039"
      },
      "execution_count": null,
      "outputs": [
        {
          "output_type": "execute_result",
          "data": {
            "text/plain": [
              "torch.Size([16, 128, 128])"
            ]
          },
          "metadata": {},
          "execution_count": 45
        }
      ]
    },
    {
      "cell_type": "code",
      "source": [
        "torch.mean(torch.randint(0, 10, (16, 3, 128, 128)), dtype = torch.float, dim = 2).size() # It will print -> (16, 3, 128)"
      ],
      "metadata": {
        "colab": {
          "base_uri": "https://localhost:8080/"
        },
        "id": "8AfsL92-ldyA",
        "outputId": "07a00b3a-4ed8-412e-ccc0-d83b7848471b"
      },
      "execution_count": null,
      "outputs": [
        {
          "output_type": "execute_result",
          "data": {
            "text/plain": [
              "torch.Size([16, 3, 128])"
            ]
          },
          "metadata": {},
          "execution_count": 46
        }
      ]
    },
    {
      "cell_type": "code",
      "source": [
        "torch.mean(torch.randint(0, 10, (16, 3, 128, 128)), dtype = torch.float, dim = 3).size() # It will print -> (16, 3, 128)"
      ],
      "metadata": {
        "colab": {
          "base_uri": "https://localhost:8080/"
        },
        "id": "YUo_QjWXliaP",
        "outputId": "c319a63d-9009-4f79-86f9-2bc24b3683fc"
      },
      "execution_count": null,
      "outputs": [
        {
          "output_type": "execute_result",
          "data": {
            "text/plain": [
              "torch.Size([16, 3, 128])"
            ]
          },
          "metadata": {},
          "execution_count": 47
        }
      ]
    },
    {
      "cell_type": "markdown",
      "source": [
        "# 8. torch.median()"
      ],
      "metadata": {
        "id": "kXRn3-UUlm-8"
      }
    },
    {
      "cell_type": "code",
      "source": [
        "torch.median(torch.randn((2, )))"
      ],
      "metadata": {
        "colab": {
          "base_uri": "https://localhost:8080/"
        },
        "id": "WXB41HSelk_Z",
        "outputId": "6d836933-24d7-4df0-8fcc-ae7653e56a67"
      },
      "execution_count": null,
      "outputs": [
        {
          "output_type": "execute_result",
          "data": {
            "text/plain": [
              "tensor(-0.2132)"
            ]
          },
          "metadata": {},
          "execution_count": 48
        }
      ]
    },
    {
      "cell_type": "code",
      "source": [
        "value, _ = torch.median(torch.rand((3, 4)), dim = 0) # -> It will print : 4\n",
        "value.size()"
      ],
      "metadata": {
        "colab": {
          "base_uri": "https://localhost:8080/"
        },
        "id": "flCLoDo1lsTM",
        "outputId": "0d780e6c-f875-4ecf-ff36-9a59e1a19983"
      },
      "execution_count": null,
      "outputs": [
        {
          "output_type": "execute_result",
          "data": {
            "text/plain": [
              "torch.Size([4])"
            ]
          },
          "metadata": {},
          "execution_count": 52
        }
      ]
    },
    {
      "cell_type": "code",
      "source": [
        "value, _ = torch.median(torch.rand((3, 4)), dim = 1) # -> It will print : 3\n",
        "value.size()"
      ],
      "metadata": {
        "colab": {
          "base_uri": "https://localhost:8080/"
        },
        "id": "OicBe5uil1Nv",
        "outputId": "15091631-7c17-47d4-fc55-ce18ec460ae1"
      },
      "execution_count": null,
      "outputs": [
        {
          "output_type": "execute_result",
          "data": {
            "text/plain": [
              "torch.Size([3])"
            ]
          },
          "metadata": {},
          "execution_count": 53
        }
      ]
    },
    {
      "cell_type": "markdown",
      "source": [
        "# 9. torch.std()"
      ],
      "metadata": {
        "id": "fFF81XuTmEzi"
      }
    },
    {
      "cell_type": "code",
      "source": [
        "torch.std(torch.randn(2, ))"
      ],
      "metadata": {
        "colab": {
          "base_uri": "https://localhost:8080/"
        },
        "id": "5RoPYni3mDDM",
        "outputId": "f77e5823-ff69-4625-9af2-b70fca884271"
      },
      "execution_count": null,
      "outputs": [
        {
          "output_type": "execute_result",
          "data": {
            "text/plain": [
              "tensor(0.7701)"
            ]
          },
          "metadata": {},
          "execution_count": 54
        }
      ]
    },
    {
      "cell_type": "code",
      "source": [
        "torch.std(torch.randn((2, 3)), dim = 0).size() # It will print: 3"
      ],
      "metadata": {
        "colab": {
          "base_uri": "https://localhost:8080/"
        },
        "id": "6TMdvyL8mIpX",
        "outputId": "0d1fdd60-e53a-4181-9071-69447b7b43f0"
      },
      "execution_count": null,
      "outputs": [
        {
          "output_type": "execute_result",
          "data": {
            "text/plain": [
              "torch.Size([3])"
            ]
          },
          "metadata": {},
          "execution_count": 57
        }
      ]
    },
    {
      "cell_type": "code",
      "source": [
        "torch.std(torch.randn((2, 3)), dim = 1).size() # It will print: 2"
      ],
      "metadata": {
        "colab": {
          "base_uri": "https://localhost:8080/"
        },
        "id": "5XFshhLpmLWq",
        "outputId": "9505e118-8aee-475e-e7d8-8d3856070edd"
      },
      "execution_count": null,
      "outputs": [
        {
          "output_type": "execute_result",
          "data": {
            "text/plain": [
              "torch.Size([2])"
            ]
          },
          "metadata": {},
          "execution_count": 58
        }
      ]
    },
    {
      "cell_type": "code",
      "source": [
        "torch.std(torch.randn((16, 3, 128, 128)),dim = 0).size() # 3, 128, 128"
      ],
      "metadata": {
        "colab": {
          "base_uri": "https://localhost:8080/"
        },
        "id": "_4-iB5oOmSRv",
        "outputId": "7a40a069-02da-4bd5-afbc-8442dd1114a0"
      },
      "execution_count": null,
      "outputs": [
        {
          "output_type": "execute_result",
          "data": {
            "text/plain": [
              "torch.Size([3, 128, 128])"
            ]
          },
          "metadata": {},
          "execution_count": 59
        }
      ]
    },
    {
      "cell_type": "code",
      "source": [
        "torch.std(torch.randn((16, 3, 128, 128)),dim = 1).size() # 16, 128, 128"
      ],
      "metadata": {
        "colab": {
          "base_uri": "https://localhost:8080/"
        },
        "id": "5OOGPEoemYWT",
        "outputId": "59133ab2-1423-4eaa-b115-3cb8034d4254"
      },
      "execution_count": null,
      "outputs": [
        {
          "output_type": "execute_result",
          "data": {
            "text/plain": [
              "torch.Size([16, 128, 128])"
            ]
          },
          "metadata": {},
          "execution_count": 60
        }
      ]
    },
    {
      "cell_type": "code",
      "source": [
        "torch.std(torch.randn((16, 3, 128, 128)),dim = 2).size() # 16,3, 128"
      ],
      "metadata": {
        "colab": {
          "base_uri": "https://localhost:8080/"
        },
        "id": "sQfLABqkmeIx",
        "outputId": "1a5a1af4-89f5-4edc-fc88-8ba26d3a8035"
      },
      "execution_count": null,
      "outputs": [
        {
          "output_type": "execute_result",
          "data": {
            "text/plain": [
              "torch.Size([16, 3, 128])"
            ]
          },
          "metadata": {},
          "execution_count": 61
        }
      ]
    },
    {
      "cell_type": "code",
      "source": [
        "torch.std(torch.randn((16, 3, 128, 128)),dim = 3).size() # 16,3, 128"
      ],
      "metadata": {
        "colab": {
          "base_uri": "https://localhost:8080/"
        },
        "id": "FMkS5fgGmi9B",
        "outputId": "4a9bbb75-6f2b-4e0b-98a6-1f5dc02ec97b"
      },
      "execution_count": null,
      "outputs": [
        {
          "output_type": "execute_result",
          "data": {
            "text/plain": [
              "torch.Size([16, 3, 128])"
            ]
          },
          "metadata": {},
          "execution_count": 62
        }
      ]
    },
    {
      "cell_type": "markdown",
      "source": [
        "# 10.torch.var()"
      ],
      "metadata": {
        "id": "oQXgXfiImmY9"
      }
    },
    {
      "cell_type": "code",
      "source": [
        "torch.var(torch.randn((3, )))"
      ],
      "metadata": {
        "colab": {
          "base_uri": "https://localhost:8080/"
        },
        "id": "caoHS_kmmk_F",
        "outputId": "9437243a-e43f-4a24-ee1b-7aab7855d393"
      },
      "execution_count": null,
      "outputs": [
        {
          "output_type": "execute_result",
          "data": {
            "text/plain": [
              "tensor(1.6165)"
            ]
          },
          "metadata": {},
          "execution_count": 63
        }
      ]
    },
    {
      "cell_type": "code",
      "source": [
        "torch.var(torch.randn((3, 4)), dim = 0).size() # It will print: 4"
      ],
      "metadata": {
        "colab": {
          "base_uri": "https://localhost:8080/"
        },
        "id": "hx7AxRbTmw3Y",
        "outputId": "34823343-636b-4ec0-adf2-cf64d30c222e"
      },
      "execution_count": null,
      "outputs": [
        {
          "output_type": "execute_result",
          "data": {
            "text/plain": [
              "torch.Size([4])"
            ]
          },
          "metadata": {},
          "execution_count": 65
        }
      ]
    },
    {
      "cell_type": "code",
      "source": [
        "torch.var(torch.randn((3, 4)), dim = 1).size() # It will print: 3"
      ],
      "metadata": {
        "colab": {
          "base_uri": "https://localhost:8080/"
        },
        "id": "9fYC6vnrm1bU",
        "outputId": "c62b4fd6-ff6f-432f-fa47-47ef9a9c22cc"
      },
      "execution_count": null,
      "outputs": [
        {
          "output_type": "execute_result",
          "data": {
            "text/plain": [
              "torch.Size([3])"
            ]
          },
          "metadata": {},
          "execution_count": 66
        }
      ]
    },
    {
      "cell_type": "code",
      "source": [
        "torch.var(torch.randn((16, 3, 128, 128)), dim = 0).size() # It will return 3, 128, 128"
      ],
      "metadata": {
        "colab": {
          "base_uri": "https://localhost:8080/"
        },
        "id": "e6dkQRgkm6sh",
        "outputId": "d1dc9c33-ab5f-418e-e270-40511c4f0134"
      },
      "execution_count": null,
      "outputs": [
        {
          "output_type": "execute_result",
          "data": {
            "text/plain": [
              "torch.Size([3, 128, 128])"
            ]
          },
          "metadata": {},
          "execution_count": 67
        }
      ]
    },
    {
      "cell_type": "code",
      "source": [
        "torch.var(torch.randn((16, 3, 128, 128)), dim = 1).size() # It will return 16, 128, 128"
      ],
      "metadata": {
        "colab": {
          "base_uri": "https://localhost:8080/"
        },
        "id": "cmaimkUenDL8",
        "outputId": "14831724-34a8-4c56-8f02-a434b5d798e4"
      },
      "execution_count": null,
      "outputs": [
        {
          "output_type": "execute_result",
          "data": {
            "text/plain": [
              "torch.Size([16, 128, 128])"
            ]
          },
          "metadata": {},
          "execution_count": 68
        }
      ]
    },
    {
      "cell_type": "code",
      "source": [
        "torch.var(torch.randn((16, 3, 128, 128)), dim = 2).size() # It will return 16, 3, 128"
      ],
      "metadata": {
        "colab": {
          "base_uri": "https://localhost:8080/"
        },
        "id": "9sB2ph8FnFX3",
        "outputId": "3309250a-f4a0-4793-aae1-4fef0e82ef17"
      },
      "execution_count": null,
      "outputs": [
        {
          "output_type": "execute_result",
          "data": {
            "text/plain": [
              "torch.Size([16, 3, 128])"
            ]
          },
          "metadata": {},
          "execution_count": 69
        }
      ]
    },
    {
      "cell_type": "code",
      "source": [
        "torch.var(torch.randn((16, 3, 128, 128)), dim = 3).size() # It will return 16, 3, 128"
      ],
      "metadata": {
        "colab": {
          "base_uri": "https://localhost:8080/"
        },
        "id": "5vuYFIIQnHrs",
        "outputId": "097806ff-9e9c-4199-9966-3e389b0bd69a"
      },
      "execution_count": null,
      "outputs": [
        {
          "output_type": "execute_result",
          "data": {
            "text/plain": [
              "torch.Size([16, 3, 128])"
            ]
          },
          "metadata": {},
          "execution_count": 70
        }
      ]
    },
    {
      "cell_type": "markdown",
      "source": [
        "# 11. torch.max()"
      ],
      "metadata": {
        "id": "thnWjp_NnX5_"
      }
    },
    {
      "cell_type": "code",
      "source": [
        "for index in range(4):\n",
        "  print(torch.randn((16, 3, 128, 128)).max(dim = index)[0].size())"
      ],
      "metadata": {
        "colab": {
          "base_uri": "https://localhost:8080/"
        },
        "id": "7GAGvPqJnOVG",
        "outputId": "a66bda8f-cd25-47a3-e275-842f856e2043"
      },
      "execution_count": null,
      "outputs": [
        {
          "output_type": "stream",
          "name": "stdout",
          "text": [
            "torch.Size([3, 128, 128])\n",
            "torch.Size([16, 128, 128])\n",
            "torch.Size([16, 3, 128])\n",
            "torch.Size([16, 3, 128])\n"
          ]
        }
      ]
    },
    {
      "cell_type": "markdown",
      "source": [
        "# 12. torch.size()"
      ],
      "metadata": {
        "id": "ZaisxhJZnrqj"
      }
    },
    {
      "cell_type": "code",
      "source": [
        "torch.randint(0, 10, (4, )).size()"
      ],
      "metadata": {
        "colab": {
          "base_uri": "https://localhost:8080/"
        },
        "id": "i9-ON1_Nnks8",
        "outputId": "603f5d5b-3a37-4c8e-aee8-3a4371dd1090"
      },
      "execution_count": null,
      "outputs": [
        {
          "output_type": "execute_result",
          "data": {
            "text/plain": [
              "torch.Size([4])"
            ]
          },
          "metadata": {},
          "execution_count": 74
        }
      ]
    },
    {
      "cell_type": "code",
      "source": [
        "torch.randn((3, 4)).size()"
      ],
      "metadata": {
        "colab": {
          "base_uri": "https://localhost:8080/"
        },
        "id": "OVR88F26nymo",
        "outputId": "92ae106e-b5c0-4829-855a-8cda51c3d9b1"
      },
      "execution_count": null,
      "outputs": [
        {
          "output_type": "execute_result",
          "data": {
            "text/plain": [
              "torch.Size([3, 4])"
            ]
          },
          "metadata": {},
          "execution_count": 75
        }
      ]
    },
    {
      "cell_type": "code",
      "source": [
        "torch.randn((3, 4)).size(0), torch.randn((3, 4)).size(1)"
      ],
      "metadata": {
        "colab": {
          "base_uri": "https://localhost:8080/"
        },
        "id": "V4hvGtrGn08L",
        "outputId": "a6076cd0-27f2-4818-c603-08b8990f673b"
      },
      "execution_count": null,
      "outputs": [
        {
          "output_type": "execute_result",
          "data": {
            "text/plain": [
              "(3, 4)"
            ]
          },
          "metadata": {},
          "execution_count": 76
        }
      ]
    },
    {
      "cell_type": "code",
      "source": [
        "torch.randn((16, 3, 128, 128)).size()"
      ],
      "metadata": {
        "colab": {
          "base_uri": "https://localhost:8080/"
        },
        "id": "grEU6RjNn5rC",
        "outputId": "54b94703-31a9-4cf9-a8a9-b84bccaadb1c"
      },
      "execution_count": null,
      "outputs": [
        {
          "output_type": "execute_result",
          "data": {
            "text/plain": [
              "torch.Size([16, 3, 128, 128])"
            ]
          },
          "metadata": {},
          "execution_count": 77
        }
      ]
    },
    {
      "cell_type": "code",
      "source": [
        "torch.randn((16, 3, 128, 128)).size()[0]"
      ],
      "metadata": {
        "colab": {
          "base_uri": "https://localhost:8080/"
        },
        "id": "JNts-0kAn-Hd",
        "outputId": "600bf563-71c5-4354-8bf8-a21ec359ce8a"
      },
      "execution_count": null,
      "outputs": [
        {
          "output_type": "execute_result",
          "data": {
            "text/plain": [
              "16"
            ]
          },
          "metadata": {},
          "execution_count": 78
        }
      ]
    },
    {
      "cell_type": "code",
      "source": [
        "print(torch.randn((16, 3, 128, 128)).size()[1])\n",
        "print(torch.randn((16, 3, 128, 128)).size()[2])\n",
        "print(torch.randn((16, 3, 128, 128)).size()[3])"
      ],
      "metadata": {
        "colab": {
          "base_uri": "https://localhost:8080/"
        },
        "id": "hy9VGyBJn_zf",
        "outputId": "c3332f6a-5932-4f34-b933-5fcd3c9234b8"
      },
      "execution_count": null,
      "outputs": [
        {
          "output_type": "stream",
          "name": "stdout",
          "text": [
            "3\n",
            "128\n",
            "128\n"
          ]
        }
      ]
    },
    {
      "cell_type": "markdown",
      "source": [
        "#13. torch.shape/[]"
      ],
      "metadata": {
        "id": "N1FYqEJMoZId"
      }
    },
    {
      "cell_type": "code",
      "source": [
        "torch.randn((3, )).shape"
      ],
      "metadata": {
        "colab": {
          "base_uri": "https://localhost:8080/"
        },
        "id": "LkyPHsTQoIor",
        "outputId": "2d2469a7-6d16-40b2-e92a-e7415f271776"
      },
      "execution_count": null,
      "outputs": [
        {
          "output_type": "execute_result",
          "data": {
            "text/plain": [
              "torch.Size([3])"
            ]
          },
          "metadata": {},
          "execution_count": 80
        }
      ]
    },
    {
      "cell_type": "code",
      "source": [
        "torch.randn((3, 4)).shape"
      ],
      "metadata": {
        "colab": {
          "base_uri": "https://localhost:8080/"
        },
        "id": "nkcxqfFPohtN",
        "outputId": "bde091dd-3447-4fc0-a909-0bd0473d6399"
      },
      "execution_count": null,
      "outputs": [
        {
          "output_type": "execute_result",
          "data": {
            "text/plain": [
              "torch.Size([3, 4])"
            ]
          },
          "metadata": {},
          "execution_count": 81
        }
      ]
    },
    {
      "cell_type": "code",
      "source": [
        "torch.randn(64, 3, 128, 128).shape"
      ],
      "metadata": {
        "colab": {
          "base_uri": "https://localhost:8080/"
        },
        "id": "YlXvS9m2ojen",
        "outputId": "3f4a4e7f-4f91-4118-80ec-bc10510e8898"
      },
      "execution_count": null,
      "outputs": [
        {
          "output_type": "execute_result",
          "data": {
            "text/plain": [
              "torch.Size([64, 3, 128, 128])"
            ]
          },
          "metadata": {},
          "execution_count": 83
        }
      ]
    },
    {
      "cell_type": "code",
      "source": [
        "print(torch.randint(0, 10, (4, 5, 128, 128)).shape[0])\n",
        "print(torch.randint(0, 10, (4, 5, 128, 128)).shape[1])\n",
        "print(torch.randint(0, 10, (4, 5, 128, 128)).shape[2])\n",
        "print(torch.randint(0, 10, (4, 5, 128, 128)).shape[3])"
      ],
      "metadata": {
        "colab": {
          "base_uri": "https://localhost:8080/"
        },
        "id": "uo_VCFjgopXo",
        "outputId": "c5e0fddc-540b-48be-d453-61495f8a7647"
      },
      "execution_count": null,
      "outputs": [
        {
          "output_type": "stream",
          "name": "stdout",
          "text": [
            "4\n",
            "5\n",
            "128\n",
            "128\n"
          ]
        }
      ]
    },
    {
      "cell_type": "markdown",
      "source": [
        "# 14. torch.view()/-1"
      ],
      "metadata": {
        "id": "Z2puXdVro5Jp"
      }
    },
    {
      "cell_type": "code",
      "source": [
        "torch.randn((3, 4)).view(-1) # 1D"
      ],
      "metadata": {
        "colab": {
          "base_uri": "https://localhost:8080/"
        },
        "id": "NNekhE1KozNF",
        "outputId": "e40566b6-ae10-4848-a248-8fe3c6902fa6"
      },
      "execution_count": null,
      "outputs": [
        {
          "output_type": "execute_result",
          "data": {
            "text/plain": [
              "tensor([-0.1356, -0.3542, -1.0624, -1.0706, -1.2918, -0.7297, -1.8199,  0.0424,\n",
              "        -1.1206, -1.8227,  0.8953,  0.3168])"
            ]
          },
          "metadata": {},
          "execution_count": 85
        }
      ]
    },
    {
      "cell_type": "code",
      "source": [
        "torch.randn((3, 4)).view(4, 3).size() # (4, 3)"
      ],
      "metadata": {
        "colab": {
          "base_uri": "https://localhost:8080/"
        },
        "id": "psngJWldo_di",
        "outputId": "02c8ae9b-0ee0-49af-8448-2405e87ed6c0"
      },
      "execution_count": null,
      "outputs": [
        {
          "output_type": "execute_result",
          "data": {
            "text/plain": [
              "torch.Size([4, 3])"
            ]
          },
          "metadata": {},
          "execution_count": 86
        }
      ]
    },
    {
      "cell_type": "code",
      "source": [
        "A = torch.randn((16, 3, 128, 128))\n",
        "\n",
        "print(A.size())\n",
        "\n",
        "print(A.view(A.size(0), A.size(2), A.size(3), -1).size()) # (16, 128, 128, 3)\n",
        "\n",
        "print(A.view(16, 128, 128, -1).size())"
      ],
      "metadata": {
        "colab": {
          "base_uri": "https://localhost:8080/"
        },
        "id": "n1dC1K7PpEyZ",
        "outputId": "c597739b-19e6-4be3-8995-643ea7a9c9ec"
      },
      "execution_count": null,
      "outputs": [
        {
          "output_type": "stream",
          "name": "stdout",
          "text": [
            "torch.Size([16, 3, 128, 128])\n",
            "torch.Size([16, 128, 128, 3])\n",
            "torch.Size([16, 128, 128, 3])\n"
          ]
        }
      ]
    },
    {
      "cell_type": "markdown",
      "source": [
        "# 15. torch.reshape()"
      ],
      "metadata": {
        "id": "84Nu_yZtpiFk"
      }
    },
    {
      "cell_type": "code",
      "source": [
        "torch.randn((3, 4)).reshape(-1).size() # 1D"
      ],
      "metadata": {
        "colab": {
          "base_uri": "https://localhost:8080/"
        },
        "id": "XzMUxK_UpTOI",
        "outputId": "0de3de61-86a4-4d3b-a310-09503c3bf740"
      },
      "execution_count": null,
      "outputs": [
        {
          "output_type": "execute_result",
          "data": {
            "text/plain": [
              "torch.Size([12])"
            ]
          },
          "metadata": {},
          "execution_count": 92
        }
      ]
    },
    {
      "cell_type": "code",
      "source": [
        "torch.randn((3, 4)).reshape(4, -1).size() # (4, 3)"
      ],
      "metadata": {
        "colab": {
          "base_uri": "https://localhost:8080/"
        },
        "id": "eycO-N2upmQ1",
        "outputId": "4f582c1e-7b0d-4159-e767-b0470ff2ff63"
      },
      "execution_count": null,
      "outputs": [
        {
          "output_type": "execute_result",
          "data": {
            "text/plain": [
              "torch.Size([4, 3])"
            ]
          },
          "metadata": {},
          "execution_count": 93
        }
      ]
    },
    {
      "cell_type": "code",
      "source": [
        "torch.randn((16, 3, 128, 128)).reshape(16, 3, -1).view(-1, 3, 128, 128).size() # (16, 3, 128, 128)"
      ],
      "metadata": {
        "colab": {
          "base_uri": "https://localhost:8080/"
        },
        "id": "WEFNZqNRpuP-",
        "outputId": "5371a72e-6403-4326-f789-2933a9f3a9b9"
      },
      "execution_count": null,
      "outputs": [
        {
          "output_type": "execute_result",
          "data": {
            "text/plain": [
              "torch.Size([16, 3, 128, 128])"
            ]
          },
          "metadata": {},
          "execution_count": 95
        }
      ]
    },
    {
      "cell_type": "markdown",
      "source": [
        "# 16. torch.cat(dim = 0/1)"
      ],
      "metadata": {
        "id": "f7-XSv03qCVn"
      }
    },
    {
      "cell_type": "code",
      "source": [
        "A = torch.randn((3, 4))\n",
        "B = torch.randn((3, 60))\n",
        "\n",
        "torch.cat((A, B), dim = 1).size() # (3, 64)"
      ],
      "metadata": {
        "colab": {
          "base_uri": "https://localhost:8080/"
        },
        "id": "gh6JNDFap-kx",
        "outputId": "65fa261f-d714-4119-d653-d6623a8cae7d"
      },
      "execution_count": null,
      "outputs": [
        {
          "output_type": "execute_result",
          "data": {
            "text/plain": [
              "torch.Size([3, 64])"
            ]
          },
          "metadata": {},
          "execution_count": 96
        }
      ]
    },
    {
      "cell_type": "code",
      "source": [
        "A = torch.randn((3, 60))\n",
        "B = torch.randn((3, 60))\n",
        "\n",
        "torch.cat((A, B), dim = 0).size() # (3, 120)"
      ],
      "metadata": {
        "colab": {
          "base_uri": "https://localhost:8080/"
        },
        "id": "bSIpXMfGqPzd",
        "outputId": "78b08112-9a25-4333-b1af-20495d8e8989"
      },
      "execution_count": null,
      "outputs": [
        {
          "output_type": "execute_result",
          "data": {
            "text/plain": [
              "torch.Size([6, 60])"
            ]
          },
          "metadata": {},
          "execution_count": 97
        }
      ]
    },
    {
      "cell_type": "code",
      "source": [
        "A = torch.randn((16, 3, 128, 128))\n",
        "B = torch.randn((16, 3, 128, 128))\n",
        "\n",
        "torch.cat((A, B), dim = 1).size() # (16, 6, 128, 128)"
      ],
      "metadata": {
        "colab": {
          "base_uri": "https://localhost:8080/"
        },
        "id": "FGSh9pGsqWLL",
        "outputId": "368df645-4d0a-464f-fc3e-00bc71d1c821"
      },
      "execution_count": null,
      "outputs": [
        {
          "output_type": "execute_result",
          "data": {
            "text/plain": [
              "torch.Size([16, 6, 128, 128])"
            ]
          },
          "metadata": {},
          "execution_count": 98
        }
      ]
    },
    {
      "cell_type": "code",
      "source": [
        "A = torch.randn((16, 3, 128, 128))\n",
        "B = torch.randn((16, 3, 128, 128))\n",
        "\n",
        "torch.cat((A, B), dim = 0).size() # (32, 3, 128, 128)"
      ],
      "metadata": {
        "colab": {
          "base_uri": "https://localhost:8080/"
        },
        "id": "Rb4uITUcqugt",
        "outputId": "d1d1957b-5b9b-4ab1-8ef4-7e5d016eb6b0"
      },
      "execution_count": null,
      "outputs": [
        {
          "output_type": "execute_result",
          "data": {
            "text/plain": [
              "torch.Size([32, 3, 128, 128])"
            ]
          },
          "metadata": {},
          "execution_count": 99
        }
      ]
    },
    {
      "cell_type": "markdown",
      "source": [
        "# 17. torch.linespace() -> 1D?"
      ],
      "metadata": {
        "id": "-WAJbwuFq6fp"
      }
    },
    {
      "cell_type": "code",
      "source": [
        "torch.linspace(0, 10, 20)"
      ],
      "metadata": {
        "colab": {
          "base_uri": "https://localhost:8080/"
        },
        "id": "_s1Iznw6q36b",
        "outputId": "d74cf934-19dc-4843-9e36-a1af3f8f9e1f"
      },
      "execution_count": null,
      "outputs": [
        {
          "output_type": "execute_result",
          "data": {
            "text/plain": [
              "tensor([ 0.0000,  0.5263,  1.0526,  1.5789,  2.1053,  2.6316,  3.1579,  3.6842,\n",
              "         4.2105,  4.7368,  5.2632,  5.7895,  6.3158,  6.8421,  7.3684,  7.8947,\n",
              "         8.4211,  8.9474,  9.4737, 10.0000])"
            ]
          },
          "metadata": {},
          "execution_count": 101
        }
      ]
    },
    {
      "cell_type": "markdown",
      "source": [
        "# 18. torch.logspace() -> 1D?\n"
      ],
      "metadata": {
        "id": "944XCQD2rGEe"
      }
    },
    {
      "cell_type": "code",
      "source": [
        "torch.logspace(0, 10, 20)"
      ],
      "metadata": {
        "colab": {
          "base_uri": "https://localhost:8080/"
        },
        "id": "RkWEYC8brDeS",
        "outputId": "4c69f1d3-e4ea-49a4-a4c3-28f0b7790680"
      },
      "execution_count": null,
      "outputs": [
        {
          "output_type": "execute_result",
          "data": {
            "text/plain": [
              "tensor([1.0000e+00, 3.3598e+00, 1.1288e+01, 3.7927e+01, 1.2743e+02, 4.2813e+02,\n",
              "        1.4384e+03, 4.8329e+03, 1.6238e+04, 5.4556e+04, 1.8330e+05, 6.1585e+05,\n",
              "        2.0691e+06, 6.9519e+06, 2.3357e+07, 7.8476e+07, 2.6367e+08, 8.8587e+08,\n",
              "        2.9764e+09, 1.0000e+10])"
            ]
          },
          "metadata": {},
          "execution_count": 103
        }
      ]
    },
    {
      "cell_type": "markdown",
      "source": [
        "# 19. torch.arange()"
      ],
      "metadata": {
        "id": "v0yDJ4sara9R"
      }
    },
    {
      "cell_type": "code",
      "source": [
        "torch.arange(0, 10, 2)"
      ],
      "metadata": {
        "colab": {
          "base_uri": "https://localhost:8080/"
        },
        "id": "ILUbagK8rQl9",
        "outputId": "6a708f9c-0ba5-41fd-a732-d40d2c7ce0af"
      },
      "execution_count": null,
      "outputs": [
        {
          "output_type": "execute_result",
          "data": {
            "text/plain": [
              "tensor([0, 2, 4, 6, 8])"
            ]
          },
          "metadata": {},
          "execution_count": 106
        }
      ]
    },
    {
      "cell_type": "code",
      "source": [
        "torch.arange(0, 10, 20)"
      ],
      "metadata": {
        "colab": {
          "base_uri": "https://localhost:8080/"
        },
        "id": "5wwN8n3MrfqO",
        "outputId": "6f4d9e29-f953-4f75-a100-2f2a97def77c"
      },
      "execution_count": null,
      "outputs": [
        {
          "output_type": "execute_result",
          "data": {
            "text/plain": [
              "tensor([0])"
            ]
          },
          "metadata": {},
          "execution_count": 105
        }
      ]
    },
    {
      "cell_type": "markdown",
      "source": [
        "# 20 torch.flatten()"
      ],
      "metadata": {
        "id": "ZwOIFvvUrpPi"
      }
    },
    {
      "cell_type": "code",
      "source": [
        "torch.flatten(torch.randn((3, 4))).size() # 12"
      ],
      "metadata": {
        "colab": {
          "base_uri": "https://localhost:8080/"
        },
        "id": "BT7e2s0hriq6",
        "outputId": "5be9206a-e720-4cb3-bd24-a6d341428396"
      },
      "execution_count": null,
      "outputs": [
        {
          "output_type": "execute_result",
          "data": {
            "text/plain": [
              "torch.Size([12])"
            ]
          },
          "metadata": {},
          "execution_count": 107
        }
      ]
    },
    {
      "cell_type": "code",
      "source": [
        "torch.flatten(torch.randn((16, 3, 128, 128))).size()"
      ],
      "metadata": {
        "colab": {
          "base_uri": "https://localhost:8080/"
        },
        "id": "uDhd4o7_ryEk",
        "outputId": "a6652c84-14fd-4751-8ec4-d29f67a1b0c1"
      },
      "execution_count": null,
      "outputs": [
        {
          "output_type": "execute_result",
          "data": {
            "text/plain": [
              "torch.Size([786432])"
            ]
          },
          "metadata": {},
          "execution_count": 108
        }
      ]
    },
    {
      "cell_type": "code",
      "source": [
        "torch.randn((16, 3, 128, 128)).view(-1).size()"
      ],
      "metadata": {
        "colab": {
          "base_uri": "https://localhost:8080/"
        },
        "id": "zveOulZGr2h9",
        "outputId": "118d80b2-6c17-4af4-fcd5-68beabf97a20"
      },
      "execution_count": null,
      "outputs": [
        {
          "output_type": "execute_result",
          "data": {
            "text/plain": [
              "torch.Size([786432])"
            ]
          },
          "metadata": {},
          "execution_count": 109
        }
      ]
    },
    {
      "cell_type": "markdown",
      "source": [
        "# 21. torch.zeros()"
      ],
      "metadata": {
        "id": "GdRhW0ERr8Sy"
      }
    },
    {
      "cell_type": "code",
      "source": [
        "torch.zeros((3, ))"
      ],
      "metadata": {
        "colab": {
          "base_uri": "https://localhost:8080/"
        },
        "id": "lzlGCGuWr67J",
        "outputId": "2e2024aa-aedd-4964-f9b1-913dc7e13c03"
      },
      "execution_count": null,
      "outputs": [
        {
          "output_type": "execute_result",
          "data": {
            "text/plain": [
              "tensor([0., 0., 0.])"
            ]
          },
          "metadata": {},
          "execution_count": 110
        }
      ]
    },
    {
      "cell_type": "code",
      "source": [
        "torch.zeros((3, 4))"
      ],
      "metadata": {
        "colab": {
          "base_uri": "https://localhost:8080/"
        },
        "id": "pq2CtuZhsAkf",
        "outputId": "705533dc-53f4-4ac8-874c-e2fcfa75a4fb"
      },
      "execution_count": null,
      "outputs": [
        {
          "output_type": "execute_result",
          "data": {
            "text/plain": [
              "tensor([[0., 0., 0., 0.],\n",
              "        [0., 0., 0., 0.],\n",
              "        [0., 0., 0., 0.]])"
            ]
          },
          "metadata": {},
          "execution_count": 111
        }
      ]
    },
    {
      "cell_type": "code",
      "source": [
        "torch.zeros((16, 3, 128, 128)).size() # (16, 3, 128, 128)"
      ],
      "metadata": {
        "colab": {
          "base_uri": "https://localhost:8080/"
        },
        "id": "uLe_rpaTsC1o",
        "outputId": "e60cf6f7-b51c-4408-d072-05a8b00fd480"
      },
      "execution_count": null,
      "outputs": [
        {
          "output_type": "execute_result",
          "data": {
            "text/plain": [
              "torch.Size([16, 3, 128, 128])"
            ]
          },
          "metadata": {},
          "execution_count": 112
        }
      ]
    },
    {
      "cell_type": "markdown",
      "source": [
        "# 22. torch.ones()"
      ],
      "metadata": {
        "id": "iqgfPcjPsO37"
      }
    },
    {
      "cell_type": "code",
      "source": [
        "torch.ones((3, ))"
      ],
      "metadata": {
        "colab": {
          "base_uri": "https://localhost:8080/"
        },
        "id": "PWXQxIn7sNMx",
        "outputId": "d16e765b-d152-4f17-bf8f-47e627b258af"
      },
      "execution_count": null,
      "outputs": [
        {
          "output_type": "execute_result",
          "data": {
            "text/plain": [
              "tensor([1., 1., 1.])"
            ]
          },
          "metadata": {},
          "execution_count": 113
        }
      ]
    },
    {
      "cell_type": "code",
      "source": [
        "torch.ones((3, 4))"
      ],
      "metadata": {
        "colab": {
          "base_uri": "https://localhost:8080/"
        },
        "id": "VzmPGRkoscEk",
        "outputId": "a9469336-11e7-41d1-bba1-369838f53014"
      },
      "execution_count": null,
      "outputs": [
        {
          "output_type": "execute_result",
          "data": {
            "text/plain": [
              "tensor([[1., 1., 1., 1.],\n",
              "        [1., 1., 1., 1.],\n",
              "        [1., 1., 1., 1.]])"
            ]
          },
          "metadata": {},
          "execution_count": 114
        }
      ]
    },
    {
      "cell_type": "code",
      "source": [
        "torch.ones((16, 3, 128, 128)).size()"
      ],
      "metadata": {
        "colab": {
          "base_uri": "https://localhost:8080/"
        },
        "id": "sBgqknOCsdl4",
        "outputId": "84951ad6-17ac-4539-dd22-b2bf879ca5d1"
      },
      "execution_count": null,
      "outputs": [
        {
          "output_type": "execute_result",
          "data": {
            "text/plain": [
              "torch.Size([16, 3, 128, 128])"
            ]
          },
          "metadata": {},
          "execution_count": 115
        }
      ]
    },
    {
      "cell_type": "markdown",
      "source": [
        "# 23. torch.ones_like()"
      ],
      "metadata": {
        "id": "kes264l8shrv"
      }
    },
    {
      "cell_type": "code",
      "source": [
        "torch.ones_like(torch.randint(0, 10, (4, 5))).size() # (4, 5)"
      ],
      "metadata": {
        "colab": {
          "base_uri": "https://localhost:8080/"
        },
        "id": "1cp9o48Xsgip",
        "outputId": "f79f4c48-9bdf-4e33-c314-ffb869ee4644"
      },
      "execution_count": null,
      "outputs": [
        {
          "output_type": "execute_result",
          "data": {
            "text/plain": [
              "torch.Size([4, 5])"
            ]
          },
          "metadata": {},
          "execution_count": 116
        }
      ]
    },
    {
      "cell_type": "code",
      "source": [
        "torch.ones_like(torch.randn((16, 3, 128, 128))).size()"
      ],
      "metadata": {
        "colab": {
          "base_uri": "https://localhost:8080/"
        },
        "id": "DZgF8WsqsofS",
        "outputId": "5cead1bc-37b3-47d2-e224-7137b1ad3f67"
      },
      "execution_count": null,
      "outputs": [
        {
          "output_type": "execute_result",
          "data": {
            "text/plain": [
              "torch.Size([16, 3, 128, 128])"
            ]
          },
          "metadata": {},
          "execution_count": 117
        }
      ]
    },
    {
      "cell_type": "markdown",
      "source": [
        "# 24. torch.zeros_like()"
      ],
      "metadata": {
        "id": "JR2hJjJ8subL"
      }
    },
    {
      "cell_type": "code",
      "source": [
        "torch.zeros_like(torch.randint(0, 10, (3, 4))).size() # (3, 4)"
      ],
      "metadata": {
        "colab": {
          "base_uri": "https://localhost:8080/"
        },
        "id": "0LOL7CZDstN8",
        "outputId": "e7491fd2-129f-4b98-fdbf-d0df65f64eac"
      },
      "execution_count": null,
      "outputs": [
        {
          "output_type": "execute_result",
          "data": {
            "text/plain": [
              "torch.Size([3, 4])"
            ]
          },
          "metadata": {},
          "execution_count": 118
        }
      ]
    },
    {
      "cell_type": "code",
      "source": [
        "torch.zeros_like(torch.randint(0, 10, (3, 4, 128))).size() # (3, 4, 128)"
      ],
      "metadata": {
        "colab": {
          "base_uri": "https://localhost:8080/"
        },
        "id": "ZZoYE0mZs2iW",
        "outputId": "a059cefb-8015-4aba-8d7b-e7cac6d59c16"
      },
      "execution_count": null,
      "outputs": [
        {
          "output_type": "execute_result",
          "data": {
            "text/plain": [
              "torch.Size([3, 4, 128])"
            ]
          },
          "metadata": {},
          "execution_count": 119
        }
      ]
    },
    {
      "cell_type": "markdown",
      "source": [
        "# 25. torch.full()"
      ],
      "metadata": {
        "id": "DXsgDvBzs7rP"
      }
    },
    {
      "cell_type": "code",
      "source": [
        "torch.full((4, ), 0.00001)"
      ],
      "metadata": {
        "colab": {
          "base_uri": "https://localhost:8080/"
        },
        "id": "-nwNIatXs6sz",
        "outputId": "00a3edc0-b1bb-4b50-85d9-27b00c8a5848"
      },
      "execution_count": null,
      "outputs": [
        {
          "output_type": "execute_result",
          "data": {
            "text/plain": [
              "tensor([1.0000e-05, 1.0000e-05, 1.0000e-05, 1.0000e-05])"
            ]
          },
          "metadata": {},
          "execution_count": 120
        }
      ]
    },
    {
      "cell_type": "code",
      "source": [
        "torch.full((3, 4), 1e-10)"
      ],
      "metadata": {
        "colab": {
          "base_uri": "https://localhost:8080/"
        },
        "id": "njY7fhyqtCJu",
        "outputId": "84bedc63-bcf3-4f00-d670-42918eba5f64"
      },
      "execution_count": null,
      "outputs": [
        {
          "output_type": "execute_result",
          "data": {
            "text/plain": [
              "tensor([[1.0000e-10, 1.0000e-10, 1.0000e-10, 1.0000e-10],\n",
              "        [1.0000e-10, 1.0000e-10, 1.0000e-10, 1.0000e-10],\n",
              "        [1.0000e-10, 1.0000e-10, 1.0000e-10, 1.0000e-10]])"
            ]
          },
          "metadata": {},
          "execution_count": 121
        }
      ]
    },
    {
      "cell_type": "code",
      "source": [
        "torch.full((64, 3, 128, 128), -1e2).size()"
      ],
      "metadata": {
        "colab": {
          "base_uri": "https://localhost:8080/"
        },
        "id": "EeL4gUGStE73",
        "outputId": "50ed7030-395b-4367-f905-f8fc163eece3"
      },
      "execution_count": null,
      "outputs": [
        {
          "output_type": "execute_result",
          "data": {
            "text/plain": [
              "torch.Size([64, 3, 128, 128])"
            ]
          },
          "metadata": {},
          "execution_count": 123
        }
      ]
    },
    {
      "cell_type": "markdown",
      "source": [
        "# 26. torch.pow()"
      ],
      "metadata": {
        "id": "zH-N-G_RwB82"
      }
    },
    {
      "cell_type": "code",
      "source": [
        "array = torch.randn((3, 4))\n",
        "\n",
        "array = array.unsqueeze(0).unsqueeze(1)\n",
        "\n",
        "array = array.view(array.size(2), array.size(3), array.size(0), -1)\n",
        "\n",
        "torch.pow(array, 1e2).view(3, 4)"
      ],
      "metadata": {
        "colab": {
          "base_uri": "https://localhost:8080/"
        },
        "id": "XfveMtowtJzT",
        "outputId": "dd95727c-7115-415f-acb2-55f9069d9e38"
      },
      "execution_count": null,
      "outputs": [
        {
          "output_type": "execute_result",
          "data": {
            "text/plain": [
              "tensor([[1.6932e+16, 8.5553e-09, 1.0442e-13, 1.1112e-18],\n",
              "        [1.1917e+23, 0.0000e+00, 4.3070e-26, 0.0000e+00],\n",
              "        [8.0379e+03, 3.1059e-22, 2.2199e-08, 2.9654e-37]])"
            ]
          },
          "metadata": {},
          "execution_count": 128
        }
      ]
    },
    {
      "cell_type": "markdown",
      "source": [
        "# 27. torch.unbind()"
      ],
      "metadata": {
        "id": "uJnRnIxBwKTF"
      }
    },
    {
      "cell_type": "code",
      "source": [
        "torch.randn((3, 4)).unbind()"
      ],
      "metadata": {
        "id": "KEcTp3H2u5Va",
        "colab": {
          "base_uri": "https://localhost:8080/"
        },
        "outputId": "2ae14c12-0ec9-4049-f63b-6f7ba7e159e4"
      },
      "execution_count": null,
      "outputs": [
        {
          "output_type": "execute_result",
          "data": {
            "text/plain": [
              "(tensor([-0.4977,  0.5230,  0.0032, -1.2226]),\n",
              " tensor([-1.6497, -1.0003, -0.1340,  0.2897]),\n",
              " tensor([1.0764, 0.2958, 1.2764, 0.0625]))"
            ]
          },
          "metadata": {},
          "execution_count": 129
        }
      ]
    },
    {
      "cell_type": "code",
      "source": [
        "print(torch.randn((3, 4)).unbind()[0])\n",
        "print(torch.randn((3, 4)).unbind()[1])\n",
        "print(torch.randn((3, 4)).unbind()[2])"
      ],
      "metadata": {
        "colab": {
          "base_uri": "https://localhost:8080/"
        },
        "id": "tMDnj2O7wPpz",
        "outputId": "77177914-bfde-4f0e-bf9d-57748f99fb66"
      },
      "execution_count": null,
      "outputs": [
        {
          "output_type": "stream",
          "name": "stdout",
          "text": [
            "tensor([ 0.2065,  0.9993, -2.3691,  0.2010])\n",
            "tensor([-0.8578,  0.8737,  0.5324, -0.8851])\n",
            "tensor([-0.5355, -0.5456,  0.8180, -1.6136])\n"
          ]
        }
      ]
    },
    {
      "cell_type": "markdown",
      "source": [
        "# 28. torch.tile()"
      ],
      "metadata": {
        "id": "NqTm5cE0wfns"
      }
    },
    {
      "cell_type": "code",
      "source": [
        "torch.randn((3, 4)).tile(2, 16).size() # (6, 64)"
      ],
      "metadata": {
        "colab": {
          "base_uri": "https://localhost:8080/"
        },
        "id": "hjIQAP5uwWWC",
        "outputId": "f9d2d393-afe8-4d82-a92f-f5956e6215c0"
      },
      "execution_count": null,
      "outputs": [
        {
          "output_type": "execute_result",
          "data": {
            "text/plain": [
              "torch.Size([6, 64])"
            ]
          },
          "metadata": {},
          "execution_count": 131
        }
      ]
    },
    {
      "cell_type": "code",
      "source": [
        "torch.randn((64, 1, 128, 128)).tile(1, 3, 1, 1).size() # (64, 3, 128, 128)"
      ],
      "metadata": {
        "colab": {
          "base_uri": "https://localhost:8080/"
        },
        "id": "Vute7qPdwnef",
        "outputId": "eadd000f-b7d6-446a-9962-a5b467449269"
      },
      "execution_count": null,
      "outputs": [
        {
          "output_type": "execute_result",
          "data": {
            "text/plain": [
              "torch.Size([64, 3, 128, 128])"
            ]
          },
          "metadata": {},
          "execution_count": 132
        }
      ]
    },
    {
      "cell_type": "markdown",
      "source": [
        "# 29.torch.unsqueeze()/INDEX"
      ],
      "metadata": {
        "id": "knDJhavcwx3Z"
      }
    },
    {
      "cell_type": "code",
      "source": [
        "torch.randn(16, 128, 128).unsqueeze(1).size() # (16, 1, 128, 128)"
      ],
      "metadata": {
        "colab": {
          "base_uri": "https://localhost:8080/"
        },
        "id": "F7fSm-4EwvsZ",
        "outputId": "6b78c8e5-895b-4abe-d49a-ba7bfde84c8d"
      },
      "execution_count": null,
      "outputs": [
        {
          "output_type": "execute_result",
          "data": {
            "text/plain": [
              "torch.Size([16, 1, 128, 128])"
            ]
          },
          "metadata": {},
          "execution_count": 133
        }
      ]
    },
    {
      "cell_type": "code",
      "source": [
        "torch.randn((64, )).unsqueeze(0).unsqueeze(1).unsqueeze(2).size() # (1, 1, 1, 128)"
      ],
      "metadata": {
        "colab": {
          "base_uri": "https://localhost:8080/"
        },
        "id": "AqOTGYETw8fB",
        "outputId": "b70bb145-d3bf-4517-e3ee-ee23a4996ba4"
      },
      "execution_count": null,
      "outputs": [
        {
          "output_type": "execute_result",
          "data": {
            "text/plain": [
              "torch.Size([1, 1, 1, 64])"
            ]
          },
          "metadata": {},
          "execution_count": 134
        }
      ]
    },
    {
      "cell_type": "markdown",
      "source": [
        "# 30. torch.squeeze()"
      ],
      "metadata": {
        "id": "5Emr63xIxJVy"
      }
    },
    {
      "cell_type": "code",
      "source": [
        "torch.randn((16, 1, 128, 128)).squeeze().size() # Remove 1"
      ],
      "metadata": {
        "colab": {
          "base_uri": "https://localhost:8080/"
        },
        "id": "HybhdVl5xGcO",
        "outputId": "5749c48b-dc8e-4dd6-efbc-ad988eead2a1"
      },
      "execution_count": null,
      "outputs": [
        {
          "output_type": "execute_result",
          "data": {
            "text/plain": [
              "torch.Size([16, 128, 128])"
            ]
          },
          "metadata": {},
          "execution_count": 136
        }
      ]
    },
    {
      "cell_type": "code",
      "source": [
        "torch.randn((1, 1, 128, 128, 1)).squeeze().size() # (128, 128)"
      ],
      "metadata": {
        "colab": {
          "base_uri": "https://localhost:8080/"
        },
        "id": "l8wgzv3dxQCq",
        "outputId": "02526a7f-fa36-4fce-ea61-56a0f693f693"
      },
      "execution_count": null,
      "outputs": [
        {
          "output_type": "execute_result",
          "data": {
            "text/plain": [
              "torch.Size([128, 128])"
            ]
          },
          "metadata": {},
          "execution_count": 138
        }
      ]
    },
    {
      "cell_type": "markdown",
      "source": [
        "# 31. torch.eye()"
      ],
      "metadata": {
        "id": "ZtBkTdG_xi44"
      }
    },
    {
      "cell_type": "code",
      "source": [
        "torch.eye(3, 4)"
      ],
      "metadata": {
        "colab": {
          "base_uri": "https://localhost:8080/"
        },
        "id": "UzRmK7MFxgtk",
        "outputId": "376138d4-e44d-41df-9f9b-f9f5d65be380"
      },
      "execution_count": null,
      "outputs": [
        {
          "output_type": "execute_result",
          "data": {
            "text/plain": [
              "tensor([[1., 0., 0., 0.],\n",
              "        [0., 1., 0., 0.],\n",
              "        [0., 0., 1., 0.]])"
            ]
          },
          "metadata": {},
          "execution_count": 140
        }
      ]
    },
    {
      "cell_type": "code",
      "source": [
        "torch.eye(3)"
      ],
      "metadata": {
        "colab": {
          "base_uri": "https://localhost:8080/"
        },
        "id": "ByEXao2rxmW8",
        "outputId": "3d3a05d0-65ba-49e9-aa72-861eff0222cc"
      },
      "execution_count": null,
      "outputs": [
        {
          "output_type": "execute_result",
          "data": {
            "text/plain": [
              "tensor([[1., 0., 0.],\n",
              "        [0., 1., 0.],\n",
              "        [0., 0., 1.]])"
            ]
          },
          "metadata": {},
          "execution_count": 141
        }
      ]
    },
    {
      "cell_type": "markdown",
      "source": [
        "# 32. torch.where()"
      ],
      "metadata": {
        "id": "kKEA-N4qxxFz"
      }
    },
    {
      "cell_type": "code",
      "source": [
        "A = torch.randint(0, 10, (3, 4))\n",
        "torch.where(A > 8, 1e2, A)"
      ],
      "metadata": {
        "colab": {
          "base_uri": "https://localhost:8080/"
        },
        "id": "BWp2C3tixpWu",
        "outputId": "0b3b2894-56c5-4977-f735-6d2bcd54143f"
      },
      "execution_count": null,
      "outputs": [
        {
          "output_type": "execute_result",
          "data": {
            "text/plain": [
              "tensor([[  2.,   2.,   0.,   1.],\n",
              "        [  1.,   2.,   4.,   8.],\n",
              "        [100.,   0.,   3.,   1.]])"
            ]
          },
          "metadata": {},
          "execution_count": 147
        }
      ]
    },
    {
      "cell_type": "code",
      "source": [
        "torch.where(A>5, 0.001, 0)"
      ],
      "metadata": {
        "colab": {
          "base_uri": "https://localhost:8080/"
        },
        "id": "54Egv5dPyCLn",
        "outputId": "c40c8fff-0576-4242-ff9d-4fbc30eb918f"
      },
      "execution_count": null,
      "outputs": [
        {
          "output_type": "execute_result",
          "data": {
            "text/plain": [
              "tensor([[0.0000, 0.0000, 0.0000, 0.0000],\n",
              "        [0.0000, 0.0000, 0.0000, 0.0010],\n",
              "        [0.0010, 0.0000, 0.0000, 0.0000]])"
            ]
          },
          "metadata": {},
          "execution_count": 151
        }
      ]
    },
    {
      "cell_type": "markdown",
      "source": [
        "# 33. torch.transpose(dim = 0/1/2)/t()"
      ],
      "metadata": {
        "id": "uq7f8DSRydfn"
      }
    },
    {
      "cell_type": "code",
      "source": [
        "torch.randn((3, 4)).t().size() # (4, 3)"
      ],
      "metadata": {
        "colab": {
          "base_uri": "https://localhost:8080/"
        },
        "id": "hrhS5BJGyVd8",
        "outputId": "efd4d2dc-970a-4d5a-e8c4-8d9a727d85e7"
      },
      "execution_count": null,
      "outputs": [
        {
          "output_type": "execute_result",
          "data": {
            "text/plain": [
              "torch.Size([4, 3])"
            ]
          },
          "metadata": {},
          "execution_count": 152
        }
      ]
    },
    {
      "cell_type": "code",
      "source": [
        "torch.randn((16, 3, 128, 128)).transpose(1, -1).size() # (16, 128, 128, 3)"
      ],
      "metadata": {
        "colab": {
          "base_uri": "https://localhost:8080/"
        },
        "id": "BBUWVckbylyQ",
        "outputId": "6025dc33-5109-4893-931b-780ba3f1f3fe"
      },
      "execution_count": null,
      "outputs": [
        {
          "output_type": "execute_result",
          "data": {
            "text/plain": [
              "torch.Size([16, 128, 128, 3])"
            ]
          },
          "metadata": {},
          "execution_count": 154
        }
      ]
    },
    {
      "cell_type": "markdown",
      "source": [
        "# 34. torch.hstack()"
      ],
      "metadata": {
        "id": "Ia-OYOkny1lA"
      }
    },
    {
      "cell_type": "code",
      "source": [
        "A1 = torch.randn((3, 4))\n",
        "A2 = torch.randn((3, 4))\n",
        "\n",
        "torch.hstack((A1, A2)).size() # (3, 8)"
      ],
      "metadata": {
        "colab": {
          "base_uri": "https://localhost:8080/"
        },
        "id": "XMxH69PZysFn",
        "outputId": "b0b1e7ca-ab46-4ea4-f9b5-814d9f375a2a"
      },
      "execution_count": null,
      "outputs": [
        {
          "output_type": "execute_result",
          "data": {
            "text/plain": [
              "torch.Size([3, 8])"
            ]
          },
          "metadata": {},
          "execution_count": 156
        }
      ]
    },
    {
      "cell_type": "markdown",
      "source": [
        "# 35. torch.vstack()"
      ],
      "metadata": {
        "id": "tvWy2NF5zOxL"
      }
    },
    {
      "cell_type": "code",
      "source": [
        "A1 = torch.randn((3, 4))\n",
        "A2 = torch.randn((3, 4))\n",
        "\n",
        "torch.vstack((A1, A2)).size() # (6, 4)"
      ],
      "metadata": {
        "colab": {
          "base_uri": "https://localhost:8080/"
        },
        "id": "lTm89J3PzGiP",
        "outputId": "059c34e5-137b-43e4-9f26-4f24fc3f5909"
      },
      "execution_count": null,
      "outputs": [
        {
          "output_type": "execute_result",
          "data": {
            "text/plain": [
              "torch.Size([6, 4])"
            ]
          },
          "metadata": {},
          "execution_count": 157
        }
      ]
    },
    {
      "cell_type": "markdown",
      "source": [
        "# 36. torch.maxpool2D()"
      ],
      "metadata": {
        "id": "OQuxZ4FOzmUW"
      }
    },
    {
      "cell_type": "code",
      "source": [
        "torch.max_pool2d(torch.randn((16, 3, 128, 128)), kernel_size=2, stride=2).size() # (16, 3, 64, 64)"
      ],
      "metadata": {
        "id": "v3AVQTe2zSmg",
        "colab": {
          "base_uri": "https://localhost:8080/"
        },
        "outputId": "80b007dd-c893-4f37-a147-c45c90fc45c2"
      },
      "execution_count": 2,
      "outputs": [
        {
          "output_type": "execute_result",
          "data": {
            "text/plain": [
              "torch.Size([16, 3, 64, 64])"
            ]
          },
          "metadata": {},
          "execution_count": 2
        }
      ]
    },
    {
      "cell_type": "code",
      "source": [
        "A = nn.MaxPool2d(kernel_size=2, stride=2)\n",
        "\n",
        "A(torch.randn((16, 3, 128, 128))).size() # (16, 3, 64, 64)"
      ],
      "metadata": {
        "colab": {
          "base_uri": "https://localhost:8080/"
        },
        "id": "ERV2e6dlz3IR",
        "outputId": "236c94cf-dfed-42ff-bc08-0530f6133174"
      },
      "execution_count": 3,
      "outputs": [
        {
          "output_type": "execute_result",
          "data": {
            "text/plain": [
              "torch.Size([16, 3, 64, 64])"
            ]
          },
          "metadata": {},
          "execution_count": 3
        }
      ]
    },
    {
      "cell_type": "markdown",
      "source": [
        "# 37. Torch.Sigmoid()"
      ],
      "metadata": {
        "id": "gapbyPG40Lvd"
      }
    },
    {
      "cell_type": "code",
      "source": [
        "torch.sigmoid(torch.randn((64, 4))).size() # (64, 4)"
      ],
      "metadata": {
        "colab": {
          "base_uri": "https://localhost:8080/"
        },
        "id": "F6QAe3W90BjF",
        "outputId": "8336efd5-b4a8-4415-fa77-f2f735a677c9"
      },
      "execution_count": 4,
      "outputs": [
        {
          "output_type": "execute_result",
          "data": {
            "text/plain": [
              "torch.Size([64, 4])"
            ]
          },
          "metadata": {},
          "execution_count": 4
        }
      ]
    },
    {
      "cell_type": "code",
      "source": [
        "A = nn.Sigmoid()\n",
        "\n",
        "A(torch.randn((64, 4))).size() # (64, 4)"
      ],
      "metadata": {
        "colab": {
          "base_uri": "https://localhost:8080/"
        },
        "id": "wJ0g_Z1U0Td3",
        "outputId": "24e04e36-90b5-4781-dd7a-b010370ee492"
      },
      "execution_count": 5,
      "outputs": [
        {
          "output_type": "execute_result",
          "data": {
            "text/plain": [
              "torch.Size([64, 4])"
            ]
          },
          "metadata": {},
          "execution_count": 5
        }
      ]
    },
    {
      "cell_type": "code",
      "source": [
        "A = nn.Sigmoid()\n",
        "\n",
        "torch.where(A(torch.randn(4, 4))>0.5, 1, 0)"
      ],
      "metadata": {
        "colab": {
          "base_uri": "https://localhost:8080/"
        },
        "id": "1j_tIMiM0ZVZ",
        "outputId": "c369f83d-20ac-4889-82a8-fb69bc685476"
      },
      "execution_count": 6,
      "outputs": [
        {
          "output_type": "execute_result",
          "data": {
            "text/plain": [
              "tensor([[0, 0, 1, 0],\n",
              "        [1, 1, 1, 1],\n",
              "        [0, 1, 0, 1],\n",
              "        [1, 1, 1, 0]])"
            ]
          },
          "metadata": {},
          "execution_count": 6
        }
      ]
    },
    {
      "cell_type": "markdown",
      "source": [
        "# 38. torch.softamax()"
      ],
      "metadata": {
        "id": "3FPpViJ60npf"
      }
    },
    {
      "cell_type": "code",
      "source": [
        "torch.softmax(torch.randn((16, 4)), dim = 1).size() # (16, 4)"
      ],
      "metadata": {
        "colab": {
          "base_uri": "https://localhost:8080/"
        },
        "id": "UB40bvSG0lzx",
        "outputId": "bbc295be-126b-4717-a191-bb0891098a03"
      },
      "execution_count": 7,
      "outputs": [
        {
          "output_type": "execute_result",
          "data": {
            "text/plain": [
              "torch.Size([16, 4])"
            ]
          },
          "metadata": {},
          "execution_count": 7
        }
      ]
    },
    {
      "cell_type": "code",
      "source": [
        "A = nn.Softmax(dim = 1)\n",
        "\n",
        "A(torch.randn((16, 4))).size() # (16, 4)"
      ],
      "metadata": {
        "colab": {
          "base_uri": "https://localhost:8080/"
        },
        "id": "tMDd6ECo0y8j",
        "outputId": "9ea5979c-8e97-4296-e19f-d5bd1fd0ef07"
      },
      "execution_count": 8,
      "outputs": [
        {
          "output_type": "execute_result",
          "data": {
            "text/plain": [
              "torch.Size([16, 4])"
            ]
          },
          "metadata": {},
          "execution_count": 8
        }
      ]
    },
    {
      "cell_type": "code",
      "source": [
        "A = nn.Softmax(dim = 1)\n",
        "\n",
        "torch.argmax(A(torch.randn((16, 4))), dim = 1) # ROW WISE - > 16"
      ],
      "metadata": {
        "colab": {
          "base_uri": "https://localhost:8080/"
        },
        "id": "epiLPo5D07-Y",
        "outputId": "253e1806-18c3-4a23-aa30-b6a6f371dd59"
      },
      "execution_count": 14,
      "outputs": [
        {
          "output_type": "execute_result",
          "data": {
            "text/plain": [
              "tensor([3, 3, 2, 2, 0, 2, 1, 1, 1, 2, 1, 3, 3, 1, 2, 0])"
            ]
          },
          "metadata": {},
          "execution_count": 14
        }
      ]
    },
    {
      "cell_type": "markdown",
      "source": [
        "# 39. torch.norm(dim = 0/1/ND)"
      ],
      "metadata": {
        "id": "51GUH0NB1TFN"
      }
    },
    {
      "cell_type": "code",
      "source": [
        "torch.norm(torch.randn((4, 4)), dim = 1) # ROW WISE -> 4"
      ],
      "metadata": {
        "colab": {
          "base_uri": "https://localhost:8080/"
        },
        "id": "VtWWSDh90_bt",
        "outputId": "c63626c8-1bb8-4f72-8287-64dca52b7a1c"
      },
      "execution_count": 15,
      "outputs": [
        {
          "output_type": "execute_result",
          "data": {
            "text/plain": [
              "tensor([2.5904, 2.2807, 1.4130, 1.9226])"
            ]
          },
          "metadata": {},
          "execution_count": 15
        }
      ]
    },
    {
      "cell_type": "code",
      "source": [
        "torch.norm(torch.randn((16, 32)), dim = 0).size() # Column wise -> 32"
      ],
      "metadata": {
        "colab": {
          "base_uri": "https://localhost:8080/"
        },
        "id": "OU5Ixngm1dPt",
        "outputId": "ec800f77-9f36-4789-cd49-16446ae86c15"
      },
      "execution_count": 16,
      "outputs": [
        {
          "output_type": "execute_result",
          "data": {
            "text/plain": [
              "torch.Size([32])"
            ]
          },
          "metadata": {},
          "execution_count": 16
        }
      ]
    },
    {
      "cell_type": "code",
      "source": [
        "torch.norm(torch.randn((16, 3, 128, 128)), dim = 0).size() # (3, 128, 128)"
      ],
      "metadata": {
        "colab": {
          "base_uri": "https://localhost:8080/"
        },
        "id": "tGz5opbU1n6V",
        "outputId": "e4bb0cda-ec12-4ba6-e3e1-e97b2b8f2a93"
      },
      "execution_count": 17,
      "outputs": [
        {
          "output_type": "execute_result",
          "data": {
            "text/plain": [
              "torch.Size([3, 128, 128])"
            ]
          },
          "metadata": {},
          "execution_count": 17
        }
      ]
    },
    {
      "cell_type": "code",
      "source": [
        "torch.norm(torch.randn((16, 3, 128, 128)), dim = 1).size() # (16, 128, 128)"
      ],
      "metadata": {
        "colab": {
          "base_uri": "https://localhost:8080/"
        },
        "id": "7ajOYMvd1vvE",
        "outputId": "41ad1630-8033-4854-d4a8-a663e6f0dce9"
      },
      "execution_count": 18,
      "outputs": [
        {
          "output_type": "execute_result",
          "data": {
            "text/plain": [
              "torch.Size([16, 128, 128])"
            ]
          },
          "metadata": {},
          "execution_count": 18
        }
      ]
    },
    {
      "cell_type": "code",
      "source": [
        "torch.norm(torch.randn((16, 3, 128, 128)), dim = 2).size() # (16, 3, 128)"
      ],
      "metadata": {
        "colab": {
          "base_uri": "https://localhost:8080/"
        },
        "id": "Jw911iYb1zbd",
        "outputId": "d7576a53-1e45-4356-aee4-73ac37184a51"
      },
      "execution_count": 19,
      "outputs": [
        {
          "output_type": "execute_result",
          "data": {
            "text/plain": [
              "torch.Size([16, 3, 128])"
            ]
          },
          "metadata": {},
          "execution_count": 19
        }
      ]
    },
    {
      "cell_type": "code",
      "source": [
        "torch.norm(torch.randn((16, 3, 128, 128)), dim = 3).size() # (16, 3, 128)"
      ],
      "metadata": {
        "colab": {
          "base_uri": "https://localhost:8080/"
        },
        "id": "IkFq5tgX13UJ",
        "outputId": "299bcdd4-1c6b-4a4c-dd9a-01cc51986993"
      },
      "execution_count": 20,
      "outputs": [
        {
          "output_type": "execute_result",
          "data": {
            "text/plain": [
              "torch.Size([16, 3, 128])"
            ]
          },
          "metadata": {},
          "execution_count": 20
        }
      ]
    },
    {
      "cell_type": "markdown",
      "source": [
        "# 40. torch.abs()"
      ],
      "metadata": {
        "id": "qGcsHFC317YC"
      }
    },
    {
      "cell_type": "code",
      "source": [
        "torch.abs(torch.randn((16, 64)) - torch.randn((16, 64))).size() # (16, 64)"
      ],
      "metadata": {
        "colab": {
          "base_uri": "https://localhost:8080/"
        },
        "id": "7O3u2XZs15Th",
        "outputId": "e31ce7db-05cb-4345-8316-6ee4062ae0cd"
      },
      "execution_count": 21,
      "outputs": [
        {
          "output_type": "execute_result",
          "data": {
            "text/plain": [
              "torch.Size([16, 64])"
            ]
          },
          "metadata": {},
          "execution_count": 21
        }
      ]
    },
    {
      "cell_type": "code",
      "source": [
        "torch.abs(torch.randn((16, 64)) - torch.randn((64, ))).size() # Do the broadcasting and return (16, 64)"
      ],
      "metadata": {
        "colab": {
          "base_uri": "https://localhost:8080/"
        },
        "id": "33tE750A2Dh7",
        "outputId": "5971472c-a481-47ca-e659-61332a71013d"
      },
      "execution_count": 22,
      "outputs": [
        {
          "output_type": "execute_result",
          "data": {
            "text/plain": [
              "torch.Size([16, 64])"
            ]
          },
          "metadata": {},
          "execution_count": 22
        }
      ]
    },
    {
      "cell_type": "code",
      "source": [
        "torch.abs(torch.randn((16, 3, 128, 128)) - torch.randn((16, 3, 128, 128))).mean() # 1D -> Tensor"
      ],
      "metadata": {
        "colab": {
          "base_uri": "https://localhost:8080/"
        },
        "id": "si5e0-Z92MNC",
        "outputId": "b6f979c5-efac-473d-a463-1a761930e6d8"
      },
      "execution_count": 24,
      "outputs": [
        {
          "output_type": "execute_result",
          "data": {
            "text/plain": [
              "tensor(1.1272)"
            ]
          },
          "metadata": {},
          "execution_count": 24
        }
      ]
    },
    {
      "cell_type": "markdown",
      "source": [
        "# 41. torch.permute()"
      ],
      "metadata": {
        "id": "ILyTG0872ZQ3"
      }
    },
    {
      "cell_type": "code",
      "source": [
        "torch.randn((16, 3, 128, 128)).permute(0, 2, 3, 1).size() # (16, 128, 128, 3)"
      ],
      "metadata": {
        "colab": {
          "base_uri": "https://localhost:8080/"
        },
        "id": "dzuep4w02VUa",
        "outputId": "bea65ad6-889a-440d-d9c0-6c734b0d67a6"
      },
      "execution_count": 25,
      "outputs": [
        {
          "output_type": "execute_result",
          "data": {
            "text/plain": [
              "torch.Size([16, 128, 128, 3])"
            ]
          },
          "metadata": {},
          "execution_count": 25
        }
      ]
    },
    {
      "cell_type": "code",
      "source": [
        "torch.randn((16, 3, 128, 128)).view(16, 128, 128, 3).size() # (16, 128, 128, 3)"
      ],
      "metadata": {
        "colab": {
          "base_uri": "https://localhost:8080/"
        },
        "id": "C451jzgX2htz",
        "outputId": "5a2e412a-2f5c-427b-990d-36a2c044df9c"
      },
      "execution_count": 26,
      "outputs": [
        {
          "output_type": "execute_result",
          "data": {
            "text/plain": [
              "torch.Size([16, 128, 128, 3])"
            ]
          },
          "metadata": {},
          "execution_count": 26
        }
      ]
    },
    {
      "cell_type": "code",
      "source": [
        "torch.randn((16, 3, 128, 128)).transpose(1, -1).size() # (16, 128, 128, 3)"
      ],
      "metadata": {
        "colab": {
          "base_uri": "https://localhost:8080/"
        },
        "id": "KQWcxSHg2pKg",
        "outputId": "4abd328a-756d-4bbe-a0f1-6c9b96ec1b43"
      },
      "execution_count": 27,
      "outputs": [
        {
          "output_type": "execute_result",
          "data": {
            "text/plain": [
              "torch.Size([16, 128, 128, 3])"
            ]
          },
          "metadata": {},
          "execution_count": 27
        }
      ]
    },
    {
      "cell_type": "markdown",
      "source": [
        "# 42. torch.argmax(dim = 0/1)"
      ],
      "metadata": {
        "id": "YCzducc624FS"
      }
    },
    {
      "cell_type": "code",
      "source": [
        "torch.argmax(torch.randn((64, 4)), dim = 1).size() # ROW - > the result would be: 64"
      ],
      "metadata": {
        "colab": {
          "base_uri": "https://localhost:8080/"
        },
        "id": "HcQ_6gLW2wPF",
        "outputId": "88be6957-29d7-4a80-dc54-2e302a36bd12"
      },
      "execution_count": 29,
      "outputs": [
        {
          "output_type": "execute_result",
          "data": {
            "text/plain": [
              "torch.Size([64])"
            ]
          },
          "metadata": {},
          "execution_count": 29
        }
      ]
    },
    {
      "cell_type": "code",
      "source": [
        "torch.argmax(torch.randn((64, 4)), dim = 0).size() # Column - > the result would be: 4"
      ],
      "metadata": {
        "colab": {
          "base_uri": "https://localhost:8080/"
        },
        "id": "dwMLgW4L3Ept",
        "outputId": "1553316d-8941-4701-f7c5-f2d68bf9f61e"
      },
      "execution_count": 31,
      "outputs": [
        {
          "output_type": "execute_result",
          "data": {
            "text/plain": [
              "torch.Size([4])"
            ]
          },
          "metadata": {},
          "execution_count": 31
        }
      ]
    },
    {
      "cell_type": "code",
      "source": [
        "torch.argmax(torch.randn((16, 3, 128, 128)), dim = 0).size() # the result would be: 3, 128, 128"
      ],
      "metadata": {
        "colab": {
          "base_uri": "https://localhost:8080/"
        },
        "id": "snXZ5yxZ3Nft",
        "outputId": "d99e8ef2-9859-4ef6-c5ca-376b30d1a525"
      },
      "execution_count": 33,
      "outputs": [
        {
          "output_type": "execute_result",
          "data": {
            "text/plain": [
              "torch.Size([3, 128, 128])"
            ]
          },
          "metadata": {},
          "execution_count": 33
        }
      ]
    },
    {
      "cell_type": "code",
      "source": [
        "torch.argmax(torch.randn((16, 3, 128, 128)), dim = 1).size() # the result would be: 16, 128, 128"
      ],
      "metadata": {
        "colab": {
          "base_uri": "https://localhost:8080/"
        },
        "id": "ReVo5lvz3b7Y",
        "outputId": "8d54ec92-e904-4888-f043-22fd206c521b"
      },
      "execution_count": 34,
      "outputs": [
        {
          "output_type": "execute_result",
          "data": {
            "text/plain": [
              "torch.Size([16, 128, 128])"
            ]
          },
          "metadata": {},
          "execution_count": 34
        }
      ]
    },
    {
      "cell_type": "code",
      "source": [
        "torch.argmax(torch.randn((16, 3, 128, 128)), dim = 2).size() # the result would be: 16, 3, 128"
      ],
      "metadata": {
        "colab": {
          "base_uri": "https://localhost:8080/"
        },
        "id": "b-2z1UUA3hq6",
        "outputId": "2ddd8adb-6456-4a7b-eb62-ef92fc2f4a9e"
      },
      "execution_count": 35,
      "outputs": [
        {
          "output_type": "execute_result",
          "data": {
            "text/plain": [
              "torch.Size([16, 3, 128])"
            ]
          },
          "metadata": {},
          "execution_count": 35
        }
      ]
    },
    {
      "cell_type": "code",
      "source": [
        "torch.argmax(torch.randn((16, 3, 128, 128)), dim = 3).size() # the result would be: 16, 3, 128"
      ],
      "metadata": {
        "colab": {
          "base_uri": "https://localhost:8080/"
        },
        "id": "BoJpf4by3kDK",
        "outputId": "cbf02766-dd8d-4c72-def2-7a301bf801f7"
      },
      "execution_count": 37,
      "outputs": [
        {
          "output_type": "execute_result",
          "data": {
            "text/plain": [
              "torch.Size([16, 3, 128])"
            ]
          },
          "metadata": {},
          "execution_count": 37
        }
      ]
    },
    {
      "cell_type": "markdown",
      "source": [
        "# 43. torch.argmin(dim = 0/1/ND)"
      ],
      "metadata": {
        "id": "6lh2mlRm3uJ4"
      }
    },
    {
      "cell_type": "code",
      "source": [
        "torch.argmin(torch.randn((64, 4)), dim = 1).size() # (64)"
      ],
      "metadata": {
        "colab": {
          "base_uri": "https://localhost:8080/"
        },
        "id": "9HYR7ndE3mfC",
        "outputId": "52c0e1f1-06a8-4f8c-bea5-54a3bb5d8080"
      },
      "execution_count": 38,
      "outputs": [
        {
          "output_type": "execute_result",
          "data": {
            "text/plain": [
              "torch.Size([64])"
            ]
          },
          "metadata": {},
          "execution_count": 38
        }
      ]
    },
    {
      "cell_type": "code",
      "source": [
        "torch.argmin(torch.randn((128, 4)), dim = 0).size() # (4)"
      ],
      "metadata": {
        "colab": {
          "base_uri": "https://localhost:8080/"
        },
        "id": "M1wc6I1s4MuP",
        "outputId": "24fb879c-fc14-4eac-d09b-93dc5d04f7ac"
      },
      "execution_count": 39,
      "outputs": [
        {
          "output_type": "execute_result",
          "data": {
            "text/plain": [
              "torch.Size([4])"
            ]
          },
          "metadata": {},
          "execution_count": 39
        }
      ]
    },
    {
      "cell_type": "code",
      "source": [
        "torch.argmin(torch.randn((16, 3, 128, 128)), dim = 0).size() # (3, 128, 128)"
      ],
      "metadata": {
        "colab": {
          "base_uri": "https://localhost:8080/"
        },
        "id": "TvW24gLY352_",
        "outputId": "3ee3db18-81d8-4b13-9cac-c30a8de7bdd2"
      },
      "execution_count": 41,
      "outputs": [
        {
          "output_type": "execute_result",
          "data": {
            "text/plain": [
              "torch.Size([3, 128, 128])"
            ]
          },
          "metadata": {},
          "execution_count": 41
        }
      ]
    },
    {
      "cell_type": "code",
      "source": [
        "torch.argmin(torch.randn((16, 3, 128, 128)), dim = 1).size() # (16, 128, 128)"
      ],
      "metadata": {
        "colab": {
          "base_uri": "https://localhost:8080/"
        },
        "id": "2BmWYAd64XIO",
        "outputId": "e11fa51d-0720-4637-acfb-90c23cb95fab"
      },
      "execution_count": 42,
      "outputs": [
        {
          "output_type": "execute_result",
          "data": {
            "text/plain": [
              "torch.Size([16, 128, 128])"
            ]
          },
          "metadata": {},
          "execution_count": 42
        }
      ]
    },
    {
      "cell_type": "code",
      "source": [
        "torch.argmin(torch.randn((16, 3, 128, 128)), dim = 2).size() # (16, 3, 128)"
      ],
      "metadata": {
        "colab": {
          "base_uri": "https://localhost:8080/"
        },
        "id": "Oo-7EFCB4bgu",
        "outputId": "28f59859-819e-4a91-fa64-2f7e070b3a3d"
      },
      "execution_count": 43,
      "outputs": [
        {
          "output_type": "execute_result",
          "data": {
            "text/plain": [
              "torch.Size([16, 3, 128])"
            ]
          },
          "metadata": {},
          "execution_count": 43
        }
      ]
    },
    {
      "cell_type": "code",
      "source": [
        "torch.argmin(torch.randn((16, 3, 128, 128)), dim = 3).size() # (16, 3, 128)"
      ],
      "metadata": {
        "colab": {
          "base_uri": "https://localhost:8080/"
        },
        "id": "feaICG2k4eJG",
        "outputId": "6f18cc82-42ea-47bd-fa79-35be31f9dd0c"
      },
      "execution_count": 44,
      "outputs": [
        {
          "output_type": "execute_result",
          "data": {
            "text/plain": [
              "torch.Size([16, 3, 128])"
            ]
          },
          "metadata": {},
          "execution_count": 44
        }
      ]
    },
    {
      "cell_type": "markdown",
      "source": [
        "# 44. torch.sort(descending = True)"
      ],
      "metadata": {
        "id": "lj0xSvAh4iv0"
      }
    },
    {
      "cell_type": "code",
      "source": [
        "value, _ = torch.sort(torch.randint(0, 10, (3, 4)), descending=False)\n",
        "value.size()"
      ],
      "metadata": {
        "colab": {
          "base_uri": "https://localhost:8080/"
        },
        "id": "daJOoIwH4f4y",
        "outputId": "61cf44db-70b4-4f1a-b337-eec5d651ea01"
      },
      "execution_count": 46,
      "outputs": [
        {
          "output_type": "execute_result",
          "data": {
            "text/plain": [
              "torch.Size([3, 4])"
            ]
          },
          "metadata": {},
          "execution_count": 46
        }
      ]
    },
    {
      "cell_type": "code",
      "source": [
        "value, _ = torch.sort(torch.randint(0, 10, (3, 4)), descending=True)\n",
        "value.size()"
      ],
      "metadata": {
        "colab": {
          "base_uri": "https://localhost:8080/"
        },
        "id": "ACcXI4YO4tmv",
        "outputId": "9bbc5da5-e9a3-450d-fb63-058ca3cb8d27"
      },
      "execution_count": 47,
      "outputs": [
        {
          "output_type": "execute_result",
          "data": {
            "text/plain": [
              "torch.Size([3, 4])"
            ]
          },
          "metadata": {},
          "execution_count": 47
        }
      ]
    },
    {
      "cell_type": "code",
      "source": [
        "value, _ = torch.sort(torch.randint(0, 10, (3, 4)), descending=False, dim = 0) # Column wise: the result is: 4\n",
        "value.size()"
      ],
      "metadata": {
        "colab": {
          "base_uri": "https://localhost:8080/"
        },
        "id": "IWcx40xe43O2",
        "outputId": "dd4dfd24-1268-42e0-d403-daff814497bc"
      },
      "execution_count": 51,
      "outputs": [
        {
          "output_type": "execute_result",
          "data": {
            "text/plain": [
              "torch.Size([3, 4])"
            ]
          },
          "metadata": {},
          "execution_count": 51
        }
      ]
    },
    {
      "cell_type": "markdown",
      "source": [
        "#45. torch.embeddings()"
      ],
      "metadata": {
        "id": "ZjhY5_A95J67"
      }
    },
    {
      "cell_type": "code",
      "source": [
        "A = nn.Embedding(num_embeddings=20, embedding_dim=128)\n",
        "\n",
        "A(torch.randint(0, 20, (64, 200))).size() # (64, 200, 128)"
      ],
      "metadata": {
        "colab": {
          "base_uri": "https://localhost:8080/"
        },
        "id": "uc7viN7O49hV",
        "outputId": "a4a4e3f1-cfc1-4467-d925-400059c5fe9a"
      },
      "execution_count": 57,
      "outputs": [
        {
          "output_type": "execute_result",
          "data": {
            "text/plain": [
              "torch.Size([64, 200, 128])"
            ]
          },
          "metadata": {},
          "execution_count": 57
        }
      ]
    },
    {
      "cell_type": "markdown",
      "source": [
        "# 46. torch.upsample()"
      ],
      "metadata": {
        "id": "ED0sSdmt5qGL"
      }
    },
    {
      "cell_type": "code",
      "source": [
        "A = nn.Upsample(scale_factor=2, mode=\"bilinear\", align_corners=True)\n",
        "\n",
        "A(torch.randn((16, 3, 64, 64))).size() # (16, 3, 128, 128)"
      ],
      "metadata": {
        "colab": {
          "base_uri": "https://localhost:8080/"
        },
        "id": "hg8o2I7O5bZ-",
        "outputId": "d964a98a-0193-4b80-df37-98f329cd49b5"
      },
      "execution_count": 58,
      "outputs": [
        {
          "output_type": "execute_result",
          "data": {
            "text/plain": [
              "torch.Size([16, 3, 128, 128])"
            ]
          },
          "metadata": {},
          "execution_count": 58
        }
      ]
    },
    {
      "cell_type": "code",
      "source": [
        "A = nn.Upsample(scale_factor=4, mode = \"bilinear\", align_corners=True)\n",
        "\n",
        "\n",
        "A(torch.randn((16, 3, 64, 64))).size() # (16, 3, 256, 256)"
      ],
      "metadata": {
        "colab": {
          "base_uri": "https://localhost:8080/"
        },
        "id": "YGH_Ijul55jL",
        "outputId": "5dc9c7ee-3dde-4bd2-ecf5-83afff34c3b0"
      },
      "execution_count": 59,
      "outputs": [
        {
          "output_type": "execute_result",
          "data": {
            "text/plain": [
              "torch.Size([16, 3, 256, 256])"
            ]
          },
          "metadata": {},
          "execution_count": 59
        }
      ]
    },
    {
      "cell_type": "markdown",
      "source": [
        "# 47. nn.PixelShuffle()"
      ],
      "metadata": {
        "id": "dHLKSFMc6L7z"
      }
    },
    {
      "cell_type": "code",
      "source": [
        "A = nn.PixelShuffle(upscale_factor=2)\n",
        "\n",
        "A(torch.randn((16, 64, 128, 128))).size() # (16, 16, 256, 256)"
      ],
      "metadata": {
        "colab": {
          "base_uri": "https://localhost:8080/"
        },
        "id": "Vvq-k9qd6Kqr",
        "outputId": "1324fc89-1ca0-467f-ac26-33c065f6162e"
      },
      "execution_count": 60,
      "outputs": [
        {
          "output_type": "execute_result",
          "data": {
            "text/plain": [
              "torch.Size([16, 16, 256, 256])"
            ]
          },
          "metadata": {},
          "execution_count": 60
        }
      ]
    },
    {
      "cell_type": "code",
      "source": [
        "A = nn.PixelShuffle(upscale_factor=4)\n",
        "\n",
        "A(torch.randn((16, 64, 128, 128))).size() # (16, 4, 512, 512)"
      ],
      "metadata": {
        "colab": {
          "base_uri": "https://localhost:8080/"
        },
        "id": "Qr7fo7I56ZFG",
        "outputId": "aa2313d8-a8b0-43d5-f70b-cead82eb36ae"
      },
      "execution_count": 61,
      "outputs": [
        {
          "output_type": "execute_result",
          "data": {
            "text/plain": [
              "torch.Size([16, 4, 512, 512])"
            ]
          },
          "metadata": {},
          "execution_count": 61
        }
      ]
    },
    {
      "cell_type": "markdown",
      "source": [
        "# 48. torch.chunk(input = tensor)"
      ],
      "metadata": {
        "id": "VNQaPgib6hfY"
      }
    },
    {
      "cell_type": "code",
      "source": [
        "chunk1, chunk2, chunk3, chunk4 =  torch.chunk(torch.randn((16, 3, 64, 64)), chunks=4, dim = -1) # (16, 3, 64, 16) * 4 times\n",
        "\n",
        "print(chunk1.size(), chunk2.size(), chunk3.size(), chunk4.size())"
      ],
      "metadata": {
        "colab": {
          "base_uri": "https://localhost:8080/"
        },
        "id": "SumoGLP26f5W",
        "outputId": "edd980f4-5f4e-4efc-e676-b5a20971ae49"
      },
      "execution_count": 65,
      "outputs": [
        {
          "output_type": "stream",
          "name": "stdout",
          "text": [
            "torch.Size([16, 3, 64, 16]) torch.Size([16, 3, 64, 16]) torch.Size([16, 3, 64, 16]) torch.Size([16, 3, 64, 16])\n"
          ]
        }
      ]
    },
    {
      "cell_type": "code",
      "source": [
        "chunk1, chunk2, chunk3, chunk4 =  torch.chunk(torch.randn((16, 16, 64, 64)), chunks=4, dim = 1) # (16, 4, 64, 64) * 4 times\n",
        "\n",
        "print(chunk1.size(), chunk2.size(), chunk3.size(), chunk4.size())"
      ],
      "metadata": {
        "colab": {
          "base_uri": "https://localhost:8080/"
        },
        "id": "vMxBb7zB6zIb",
        "outputId": "77fb46da-801c-494c-dbf3-96a025cc466c"
      },
      "execution_count": 66,
      "outputs": [
        {
          "output_type": "stream",
          "name": "stdout",
          "text": [
            "torch.Size([16, 4, 64, 64]) torch.Size([16, 4, 64, 64]) torch.Size([16, 4, 64, 64]) torch.Size([16, 4, 64, 64])\n"
          ]
        }
      ]
    },
    {
      "cell_type": "markdown",
      "source": [
        "# 49. torch.triu()"
      ],
      "metadata": {
        "id": "X_i7xdQ_7Qz2"
      }
    },
    {
      "cell_type": "code",
      "source": [
        "torch.triu(torch.randn((3, 4)), diagonal=0)"
      ],
      "metadata": {
        "colab": {
          "base_uri": "https://localhost:8080/"
        },
        "id": "6aEpGxsD7NtX",
        "outputId": "b0146260-0c5e-4636-d8c9-b93c6fc9aafa"
      },
      "execution_count": 67,
      "outputs": [
        {
          "output_type": "execute_result",
          "data": {
            "text/plain": [
              "tensor([[ 0.0626,  0.6226,  1.2958, -0.4963],\n",
              "        [ 0.0000, -0.7367,  0.3011,  0.8339],\n",
              "        [ 0.0000,  0.0000, -1.1067,  1.5820]])"
            ]
          },
          "metadata": {},
          "execution_count": 67
        }
      ]
    },
    {
      "cell_type": "code",
      "source": [
        "torch.triu(torch.randn((3, 4)), diagonal=1)"
      ],
      "metadata": {
        "colab": {
          "base_uri": "https://localhost:8080/"
        },
        "id": "rEYBEZF17ZA9",
        "outputId": "56b47b91-0a61-4f6e-a669-baa3f79218c7"
      },
      "execution_count": 68,
      "outputs": [
        {
          "output_type": "execute_result",
          "data": {
            "text/plain": [
              "tensor([[ 0.0000,  1.9901,  0.3975,  0.7013],\n",
              "        [ 0.0000,  0.0000,  1.1758, -3.1144],\n",
              "        [ 0.0000,  0.0000,  0.0000,  0.0916]])"
            ]
          },
          "metadata": {},
          "execution_count": 68
        }
      ]
    },
    {
      "cell_type": "markdown",
      "source": [
        "# 50. torch.masked_fill()"
      ],
      "metadata": {
        "id": "QazVkBj37fMf"
      }
    },
    {
      "cell_type": "code",
      "source": [
        "A = torch.randint(0, 5, (5, 4))\n",
        "\n",
        "torch.masked_fill(A, A == 1, 100)"
      ],
      "metadata": {
        "colab": {
          "base_uri": "https://localhost:8080/"
        },
        "id": "J3R1V1Ii7bn7",
        "outputId": "66c83851-e1a4-444b-dc5a-aef0fb038c60"
      },
      "execution_count": 74,
      "outputs": [
        {
          "output_type": "execute_result",
          "data": {
            "text/plain": [
              "tensor([[100,   4,   4,   4],\n",
              "        [  0,   2, 100,   3],\n",
              "        [  4,   4,   2,   4],\n",
              "        [  0, 100,   3,   3],\n",
              "        [  2,   4,   3,   2]])"
            ]
          },
          "metadata": {},
          "execution_count": 74
        }
      ]
    },
    {
      "cell_type": "markdown",
      "source": [
        "# 51. Pointwise operation where the dimension is not changed"
      ],
      "metadata": {
        "id": "BcXGznaR8B5-"
      }
    },
    {
      "cell_type": "code",
      "source": [
        "# add\n",
        "\n",
        "torch.add(torch.randn((16, 4)), torch.randn((16, 4))).size()"
      ],
      "metadata": {
        "colab": {
          "base_uri": "https://localhost:8080/"
        },
        "id": "P3c90h-R7t9W",
        "outputId": "65169575-6726-4b82-f458-82b4617aa8d2"
      },
      "execution_count": 75,
      "outputs": [
        {
          "output_type": "execute_result",
          "data": {
            "text/plain": [
              "torch.Size([16, 4])"
            ]
          },
          "metadata": {},
          "execution_count": 75
        }
      ]
    },
    {
      "cell_type": "code",
      "source": [
        "torch.add(torch.randn((16, 4)), torch.randn((4, ))).size()"
      ],
      "metadata": {
        "colab": {
          "base_uri": "https://localhost:8080/"
        },
        "id": "FuvgQ1jG8OPd",
        "outputId": "ae64b95f-e475-4793-d754-845f30856221"
      },
      "execution_count": 76,
      "outputs": [
        {
          "output_type": "execute_result",
          "data": {
            "text/plain": [
              "torch.Size([16, 4])"
            ]
          },
          "metadata": {},
          "execution_count": 76
        }
      ]
    },
    {
      "cell_type": "code",
      "source": [
        "torch.add(torch.randn((16, 3, 128, 128)), torch.randn((16,128)).unsqueeze(1).unsqueeze(2)).size()"
      ],
      "metadata": {
        "colab": {
          "base_uri": "https://localhost:8080/"
        },
        "id": "tkCbJHS08SL5",
        "outputId": "6bc78436-cac2-4634-98e5-9ea49fadabae"
      },
      "execution_count": 78,
      "outputs": [
        {
          "output_type": "execute_result",
          "data": {
            "text/plain": [
              "torch.Size([16, 3, 128, 128])"
            ]
          },
          "metadata": {},
          "execution_count": 78
        }
      ]
    },
    {
      "cell_type": "code",
      "source": [
        "# sub\n",
        "\n",
        "torch.sub(torch.randn((16, 4)), torch.randn((16, 4))).size()"
      ],
      "metadata": {
        "colab": {
          "base_uri": "https://localhost:8080/"
        },
        "id": "BhGILdTN8XaJ",
        "outputId": "14d1451e-528d-413a-d74d-7d3ae07773c3"
      },
      "execution_count": 79,
      "outputs": [
        {
          "output_type": "execute_result",
          "data": {
            "text/plain": [
              "torch.Size([16, 4])"
            ]
          },
          "metadata": {},
          "execution_count": 79
        }
      ]
    },
    {
      "cell_type": "code",
      "source": [
        "torch.sub(torch.randn((16, 4)), torch.randn((4, ))).size()"
      ],
      "metadata": {
        "colab": {
          "base_uri": "https://localhost:8080/"
        },
        "id": "cdZ6Kugu8h_4",
        "outputId": "7803e0a9-0abe-4fd6-c3e5-8b6d6debfb71"
      },
      "execution_count": 80,
      "outputs": [
        {
          "output_type": "execute_result",
          "data": {
            "text/plain": [
              "torch.Size([16, 4])"
            ]
          },
          "metadata": {},
          "execution_count": 80
        }
      ]
    },
    {
      "cell_type": "code",
      "source": [
        "torch.sub(torch.randn((16, 3, 128, 128)), torch.randn((16,128)).unsqueeze(1).unsqueeze(2)).size()"
      ],
      "metadata": {
        "colab": {
          "base_uri": "https://localhost:8080/"
        },
        "id": "emMe1A6L8kfU",
        "outputId": "9286d265-701f-42e4-f00f-f6d0e59043cd"
      },
      "execution_count": 81,
      "outputs": [
        {
          "output_type": "execute_result",
          "data": {
            "text/plain": [
              "torch.Size([16, 3, 128, 128])"
            ]
          },
          "metadata": {},
          "execution_count": 81
        }
      ]
    },
    {
      "cell_type": "code",
      "source": [
        "# The same way all will be done, for instance\n",
        "'''\n",
        "1. mul\n",
        "2. div\n",
        "3. matmul\n",
        "'''"
      ],
      "metadata": {
        "id": "DYo6hxWz8m0y"
      },
      "execution_count": null,
      "outputs": []
    },
    {
      "cell_type": "markdown",
      "source": [
        "# 52. torch.randn_like(), torch.rand_like()"
      ],
      "metadata": {
        "id": "z6dpWlWB8xdt"
      }
    },
    {
      "cell_type": "code",
      "source": [
        "torch.randn_like(torch.randn((16, 3, 128, 128))).size()"
      ],
      "metadata": {
        "colab": {
          "base_uri": "https://localhost:8080/"
        },
        "id": "Gs_wacVX80It",
        "outputId": "85c0b325-911b-4cf6-c6be-45c41ee0623f"
      },
      "execution_count": 82,
      "outputs": [
        {
          "output_type": "execute_result",
          "data": {
            "text/plain": [
              "torch.Size([16, 3, 128, 128])"
            ]
          },
          "metadata": {},
          "execution_count": 82
        }
      ]
    },
    {
      "cell_type": "code",
      "source": [
        "torch.rand_like(torch.randn((16, 3, 128, 128))).size()"
      ],
      "metadata": {
        "colab": {
          "base_uri": "https://localhost:8080/"
        },
        "id": "MHQapcri84sg",
        "outputId": "971e88cf-174f-4508-c0fd-226e95bb854e"
      },
      "execution_count": 83,
      "outputs": [
        {
          "output_type": "execute_result",
          "data": {
            "text/plain": [
              "torch.Size([16, 3, 128, 128])"
            ]
          },
          "metadata": {},
          "execution_count": 83
        }
      ]
    },
    {
      "cell_type": "markdown",
      "source": [],
      "metadata": {
        "id": "yO5OYb1E9mRa"
      }
    },
    {
      "cell_type": "markdown",
      "source": [
        "# Clarification"
      ],
      "metadata": {
        "id": "ySWeyiQl9mZ1"
      }
    },
    {
      "cell_type": "code",
      "source": [
        "value, indicies = torch.randn((64, 4)).max(dim = 0) # Column wise: the result: 4\n",
        "value.size()"
      ],
      "metadata": {
        "colab": {
          "base_uri": "https://localhost:8080/"
        },
        "id": "V4OoIN-a9S_-",
        "outputId": "9eae51c8-8ad1-472c-bcaf-cd3a8632919d"
      },
      "execution_count": 91,
      "outputs": [
        {
          "output_type": "execute_result",
          "data": {
            "text/plain": [
              "torch.Size([4])"
            ]
          },
          "metadata": {},
          "execution_count": 91
        }
      ]
    },
    {
      "cell_type": "code",
      "source": [
        "value, indicies = torch.randn((64, 4)).max(dim = 1) # Row wise: the result: 64\n",
        "value.size()"
      ],
      "metadata": {
        "colab": {
          "base_uri": "https://localhost:8080/"
        },
        "id": "aq29D12K9v2I",
        "outputId": "76a299d4-a767-44c1-db15-96d77feda45c"
      },
      "execution_count": 92,
      "outputs": [
        {
          "output_type": "execute_result",
          "data": {
            "text/plain": [
              "torch.Size([64])"
            ]
          },
          "metadata": {},
          "execution_count": 92
        }
      ]
    },
    {
      "cell_type": "code",
      "source": [
        "value, indicies = torch.randn((64, 3, 128, 128)).max(dim = 1) # the result: 64, 128, 128\n",
        "value.size()"
      ],
      "metadata": {
        "colab": {
          "base_uri": "https://localhost:8080/"
        },
        "id": "CYxtX8hU94lG",
        "outputId": "4ad9062d-c3cc-4987-db5c-a04673b883c2"
      },
      "execution_count": 93,
      "outputs": [
        {
          "output_type": "execute_result",
          "data": {
            "text/plain": [
              "torch.Size([64, 128, 128])"
            ]
          },
          "metadata": {},
          "execution_count": 93
        }
      ]
    },
    {
      "cell_type": "code",
      "source": [],
      "metadata": {
        "id": "LdBZ_vvr-Axo"
      },
      "execution_count": null,
      "outputs": []
    }
  ]
}