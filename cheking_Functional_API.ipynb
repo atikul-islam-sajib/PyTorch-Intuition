{
  "nbformat": 4,
  "nbformat_minor": 0,
  "metadata": {
    "colab": {
      "provenance": []
    },
    "kernelspec": {
      "name": "python3",
      "display_name": "Python 3"
    },
    "language_info": {
      "name": "python"
    }
  },
  "cells": [
    {
      "cell_type": "code",
      "execution_count": 1,
      "metadata": {
        "id": "AuBsoX-hnoSp"
      },
      "outputs": [],
      "source": [
        "import torch\n",
        "import torch.nn as nn"
      ]
    },
    {
      "cell_type": "code",
      "source": [
        "a = (120, 3, 64, 64)\n",
        "a = torch.randn(a)"
      ],
      "metadata": {
        "id": "q3_NKHUPtUCB"
      },
      "execution_count": null,
      "outputs": []
    },
    {
      "cell_type": "code",
      "source": [
        "a.shape"
      ],
      "metadata": {
        "colab": {
          "base_uri": "https://localhost:8080/"
        },
        "outputId": "d6654554-181e-4384-fd91-4408053d6298",
        "id": "X7eeE-ontUCB"
      },
      "execution_count": null,
      "outputs": [
        {
          "output_type": "execute_result",
          "data": {
            "text/plain": [
              "torch.Size([120, 3, 64, 64])"
            ]
          },
          "metadata": {},
          "execution_count": 6
        }
      ]
    },
    {
      "cell_type": "code",
      "source": [
        "a.reshape(a.shape[0], -1).shape"
      ],
      "metadata": {
        "colab": {
          "base_uri": "https://localhost:8080/"
        },
        "outputId": "b7795e16-092a-4fbe-b205-a37042105a2d",
        "id": "SFV1K3y0tUCC"
      },
      "execution_count": null,
      "outputs": [
        {
          "output_type": "execute_result",
          "data": {
            "text/plain": [
              "torch.Size([120, 12288])"
            ]
          },
          "metadata": {},
          "execution_count": 8
        }
      ]
    },
    {
      "cell_type": "code",
      "source": [
        "class classifier(nn.Module):\n",
        "  def __init__(self):\n",
        "    super().__init__()\n",
        "\n",
        "    # (64 * 64) * 3\n",
        "    # (32 * 32) * 64\n",
        "    self.leftConvLayer1 = nn.Sequential(\n",
        "        nn.Conv2d(in_channels = 3, out_channels = 64, kernel_size = 3, stride = 1, padding = 1),\n",
        "        nn.ReLU(),\n",
        "        nn.MaxPool2d(kernel_size = 2, stride = 2),\n",
        "        nn.Dropout(p = 0.5)\n",
        "    )\n",
        "    # (16 * 16) * 32\n",
        "    self.leftConvLayer2 = nn.Sequential(\n",
        "        nn.Conv2d(in_channels = 64, out_channels = 32, kernel_size = 3, stride = 1, padding = 1),\n",
        "        nn.ReLU(),\n",
        "        nn.MaxPool2d(kernel_size = 2, stride = 2),\n",
        "        nn.Dropout(p = 0.5)\n",
        "    )\n",
        "    # (64 * 64) * 3 --- (32 * 32) * 128\n",
        "    self.rightConvLayer1 = nn.Sequential(\n",
        "        nn.Conv2d(in_channels = 3, out_channels = 128, kernel_size = 3, stride = 1, padding = 1),\n",
        "        nn.ReLU(),\n",
        "        nn.MaxPool2d(kernel_size = 2, stride = 2),\n",
        "        nn.Dropout(p = 0.5)\n",
        "    )\n",
        "    # (16 * 16) * 64\n",
        "    self.rightConvLayer2 = nn.Sequential(\n",
        "        nn.Conv2d(in_channels = 128, out_channels = 64, kernel_size = 3, stride = 1, padding = 1),\n",
        "        nn.ReLU(),\n",
        "        nn.MaxPool2d(kernel_size = 2, stride = 2),\n",
        "        nn.Dropout(p = 0.5)\n",
        "    )\n",
        "\n",
        "    self.fc1 = nn.Sequential(\n",
        "        nn.Linear(in_features = 16 * 16 * 32 + 16 * 16 * 64, out_features = 1024),\n",
        "        nn.ReLU(),\n",
        "        nn.Dropout(p = 0.7)\n",
        "    )\n",
        "\n",
        "    self.fc2 = nn.Sequential(\n",
        "        nn.Linear(in_features = 1024, out_features = 128),\n",
        "        nn.ReLU(),\n",
        "        nn.Dropout(p = 0.7)\n",
        "    )\n",
        "\n",
        "    self.outLayer = nn.Sequential(\n",
        "        nn.Linear(in_features = 128, out_features = 3),\n",
        "        nn.Softmax()\n",
        "    )\n",
        "\n",
        "  def forward(self, x):\n",
        "    x1 = self.leftConvLayer1(x)\n",
        "    x1 = self.leftConvLayer2(x1)\n",
        "    x1 = x1.reshape(x1.shape[0], -1)\n",
        "\n",
        "\n",
        "    x2 = self.rightConvLayer1(x)\n",
        "    x2 = self.rightConvLayer2(x2)\n",
        "    x2 = x2.reshape(x2.shape[0], -1)\n",
        "\n",
        "    out = torch.cat((x1, x2), dim = 1)\n",
        "\n",
        "    return out"
      ],
      "metadata": {
        "id": "Uv1zax0znwtH"
      },
      "execution_count": 28,
      "outputs": []
    },
    {
      "cell_type": "code",
      "source": [
        "model = classifier()"
      ],
      "metadata": {
        "id": "KYmysiIUqIsI"
      },
      "execution_count": 29,
      "outputs": []
    },
    {
      "cell_type": "code",
      "source": [
        "model.parameters"
      ],
      "metadata": {
        "colab": {
          "base_uri": "https://localhost:8080/"
        },
        "id": "5dVBIA8dqPCx",
        "outputId": "9cb9da23-fa8f-4492-9220-056f0de8ce6a"
      },
      "execution_count": 30,
      "outputs": [
        {
          "output_type": "execute_result",
          "data": {
            "text/plain": [
              "<bound method Module.parameters of classifier(\n",
              "  (leftConvLayer1): Sequential(\n",
              "    (0): Conv2d(3, 64, kernel_size=(3, 3), stride=(1, 1), padding=(1, 1))\n",
              "    (1): ReLU()\n",
              "    (2): MaxPool2d(kernel_size=2, stride=2, padding=0, dilation=1, ceil_mode=False)\n",
              "    (3): Dropout(p=0.5, inplace=False)\n",
              "  )\n",
              "  (leftConvLayer2): Sequential(\n",
              "    (0): Conv2d(64, 32, kernel_size=(3, 3), stride=(1, 1), padding=(1, 1))\n",
              "    (1): ReLU()\n",
              "    (2): MaxPool2d(kernel_size=2, stride=2, padding=0, dilation=1, ceil_mode=False)\n",
              "    (3): Dropout(p=0.5, inplace=False)\n",
              "  )\n",
              "  (rightConvLayer1): Sequential(\n",
              "    (0): Conv2d(3, 128, kernel_size=(3, 3), stride=(1, 1), padding=(1, 1))\n",
              "    (1): ReLU()\n",
              "    (2): MaxPool2d(kernel_size=2, stride=2, padding=0, dilation=1, ceil_mode=False)\n",
              "    (3): Dropout(p=0.5, inplace=False)\n",
              "  )\n",
              "  (rightConvLayer2): Sequential(\n",
              "    (0): Conv2d(128, 64, kernel_size=(3, 3), stride=(1, 1), padding=(1, 1))\n",
              "    (1): ReLU()\n",
              "    (2): MaxPool2d(kernel_size=2, stride=2, padding=0, dilation=1, ceil_mode=False)\n",
              "    (3): Dropout(p=0.5, inplace=False)\n",
              "  )\n",
              "  (fc1): Sequential(\n",
              "    (0): Linear(in_features=24576, out_features=1024, bias=True)\n",
              "    (1): ReLU()\n",
              "    (2): Dropout(p=0.7, inplace=False)\n",
              "  )\n",
              "  (fc2): Sequential(\n",
              "    (0): Linear(in_features=1024, out_features=128, bias=True)\n",
              "    (1): ReLU()\n",
              "    (2): Dropout(p=0.7, inplace=False)\n",
              "  )\n",
              "  (outLayer): Sequential(\n",
              "    (0): Linear(in_features=128, out_features=3, bias=True)\n",
              "    (1): Softmax(dim=None)\n",
              "  )\n",
              ")>"
            ]
          },
          "metadata": {},
          "execution_count": 30
        }
      ]
    },
    {
      "cell_type": "code",
      "source": [
        "from torchsummary import summary"
      ],
      "metadata": {
        "id": "Lu95nh9BqZ9n"
      },
      "execution_count": 32,
      "outputs": []
    },
    {
      "cell_type": "code",
      "source": [
        "summary(model = model, input_size = a.shape[1:])"
      ],
      "metadata": {
        "colab": {
          "base_uri": "https://localhost:8080/"
        },
        "id": "9jj4sZeAsTql",
        "outputId": "ca9d5736-0d14-43c9-a015-84d638fe7e6e"
      },
      "execution_count": 34,
      "outputs": [
        {
          "output_type": "stream",
          "name": "stdout",
          "text": [
            "----------------------------------------------------------------\n",
            "        Layer (type)               Output Shape         Param #\n",
            "================================================================\n",
            "            Conv2d-1           [-1, 64, 64, 64]           1,792\n",
            "              ReLU-2           [-1, 64, 64, 64]               0\n",
            "         MaxPool2d-3           [-1, 64, 32, 32]               0\n",
            "           Dropout-4           [-1, 64, 32, 32]               0\n",
            "            Conv2d-5           [-1, 32, 32, 32]          18,464\n",
            "              ReLU-6           [-1, 32, 32, 32]               0\n",
            "         MaxPool2d-7           [-1, 32, 16, 16]               0\n",
            "           Dropout-8           [-1, 32, 16, 16]               0\n",
            "            Conv2d-9          [-1, 128, 64, 64]           3,584\n",
            "             ReLU-10          [-1, 128, 64, 64]               0\n",
            "        MaxPool2d-11          [-1, 128, 32, 32]               0\n",
            "          Dropout-12          [-1, 128, 32, 32]               0\n",
            "           Conv2d-13           [-1, 64, 32, 32]          73,792\n",
            "             ReLU-14           [-1, 64, 32, 32]               0\n",
            "        MaxPool2d-15           [-1, 64, 16, 16]               0\n",
            "          Dropout-16           [-1, 64, 16, 16]               0\n",
            "================================================================\n",
            "Total params: 97,632\n",
            "Trainable params: 97,632\n",
            "Non-trainable params: 0\n",
            "----------------------------------------------------------------\n",
            "Input size (MB): 0.05\n",
            "Forward/backward pass size (MB): 16.88\n",
            "Params size (MB): 0.37\n",
            "Estimated Total Size (MB): 17.29\n",
            "----------------------------------------------------------------\n"
          ]
        }
      ]
    },
    {
      "cell_type": "code",
      "source": [
        "b = model(a)\n",
        "b.shape"
      ],
      "metadata": {
        "colab": {
          "base_uri": "https://localhost:8080/"
        },
        "id": "Whbe-gfMqSn8",
        "outputId": "1f5ae871-464f-4004-8338-46b719a6a67b"
      },
      "execution_count": 31,
      "outputs": [
        {
          "output_type": "execute_result",
          "data": {
            "text/plain": [
              "torch.Size([120, 24576])"
            ]
          },
          "metadata": {},
          "execution_count": 31
        }
      ]
    },
    {
      "cell_type": "code",
      "source": [
        "a = (120, 3, 64, 64)\n",
        "a = torch.randn(a)"
      ],
      "metadata": {
        "id": "Q_N3P7Dsnwwt"
      },
      "execution_count": 47,
      "outputs": []
    },
    {
      "cell_type": "code",
      "source": [
        "a.shape"
      ],
      "metadata": {
        "colab": {
          "base_uri": "https://localhost:8080/"
        },
        "id": "Smj4lQMso_8W",
        "outputId": "d6654554-181e-4384-fd91-4408053d6298"
      },
      "execution_count": 6,
      "outputs": [
        {
          "output_type": "execute_result",
          "data": {
            "text/plain": [
              "torch.Size([120, 3, 64, 64])"
            ]
          },
          "metadata": {},
          "execution_count": 6
        }
      ]
    },
    {
      "cell_type": "code",
      "source": [
        "a.reshape(a.shape[0], -1).shape"
      ],
      "metadata": {
        "colab": {
          "base_uri": "https://localhost:8080/"
        },
        "id": "kzoHcugzpBC-",
        "outputId": "b7795e16-092a-4fbe-b205-a37042105a2d"
      },
      "execution_count": 8,
      "outputs": [
        {
          "output_type": "execute_result",
          "data": {
            "text/plain": [
              "torch.Size([120, 12288])"
            ]
          },
          "metadata": {},
          "execution_count": 8
        }
      ]
    },
    {
      "cell_type": "markdown",
      "source": [
        "#Concat"
      ],
      "metadata": {
        "id": "Mt9a7zvksjpx"
      }
    },
    {
      "cell_type": "code",
      "source": [
        "torch_array1 = torch.randn(3, 4)\n",
        "torch_array1"
      ],
      "metadata": {
        "colab": {
          "base_uri": "https://localhost:8080/"
        },
        "id": "xNkNG5xwskml",
        "outputId": "22152edd-5d10-4626-b817-00e684795418"
      },
      "execution_count": 36,
      "outputs": [
        {
          "output_type": "execute_result",
          "data": {
            "text/plain": [
              "tensor([[-0.5293, -1.8028, -1.5676, -0.2366],\n",
              "        [-0.1088,  0.6906,  0.7843,  0.0110],\n",
              "        [-1.1788,  1.0149,  0.4733, -0.1897]])"
            ]
          },
          "metadata": {},
          "execution_count": 36
        }
      ]
    },
    {
      "cell_type": "code",
      "source": [
        "torch_array1.shape"
      ],
      "metadata": {
        "colab": {
          "base_uri": "https://localhost:8080/"
        },
        "id": "zt9SCCv6svNz",
        "outputId": "a92a37f0-8337-45f1-cf4e-a56d7e288b89"
      },
      "execution_count": 37,
      "outputs": [
        {
          "output_type": "execute_result",
          "data": {
            "text/plain": [
              "torch.Size([3, 4])"
            ]
          },
          "metadata": {},
          "execution_count": 37
        }
      ]
    },
    {
      "cell_type": "code",
      "source": [
        "torch_array2 = torch.randn(3, 4)\n",
        "torch_array2"
      ],
      "metadata": {
        "colab": {
          "base_uri": "https://localhost:8080/"
        },
        "id": "S6O_Xo8jswga",
        "outputId": "8bfbb1cc-685a-44da-d85b-aee6347fe35c"
      },
      "execution_count": 38,
      "outputs": [
        {
          "output_type": "execute_result",
          "data": {
            "text/plain": [
              "tensor([[-0.6997, -0.8853,  2.0967,  0.2480],\n",
              "        [ 0.0779, -1.3249,  0.1386, -0.6973],\n",
              "        [ 1.2399, -0.8816,  0.2463, -0.4146]])"
            ]
          },
          "metadata": {},
          "execution_count": 38
        }
      ]
    },
    {
      "cell_type": "code",
      "source": [
        "torch_array2.shape"
      ],
      "metadata": {
        "colab": {
          "base_uri": "https://localhost:8080/"
        },
        "id": "Q1zRZiHKs06N",
        "outputId": "03491425-11f5-4667-a443-5d4d31119f1e"
      },
      "execution_count": 40,
      "outputs": [
        {
          "output_type": "execute_result",
          "data": {
            "text/plain": [
              "torch.Size([3, 4])"
            ]
          },
          "metadata": {},
          "execution_count": 40
        }
      ]
    },
    {
      "cell_type": "code",
      "source": [
        "final_array = torch.cat((torch_array1, torch_array2), dim = 1)\n",
        "final_array"
      ],
      "metadata": {
        "colab": {
          "base_uri": "https://localhost:8080/"
        },
        "id": "7AnG2SJBs20a",
        "outputId": "c06fe17f-df6a-41e5-a665-731e41f0d5c9"
      },
      "execution_count": 42,
      "outputs": [
        {
          "output_type": "execute_result",
          "data": {
            "text/plain": [
              "tensor([[-0.5293, -1.8028, -1.5676, -0.2366, -0.6997, -0.8853,  2.0967,  0.2480],\n",
              "        [-0.1088,  0.6906,  0.7843,  0.0110,  0.0779, -1.3249,  0.1386, -0.6973],\n",
              "        [-1.1788,  1.0149,  0.4733, -0.1897,  1.2399, -0.8816,  0.2463, -0.4146]])"
            ]
          },
          "metadata": {},
          "execution_count": 42
        }
      ]
    },
    {
      "cell_type": "code",
      "source": [
        "final_array.shape"
      ],
      "metadata": {
        "colab": {
          "base_uri": "https://localhost:8080/"
        },
        "id": "IJWYwlPutBqr",
        "outputId": "0e35e27f-0e8e-44d3-f4c7-3e38a3fffb44"
      },
      "execution_count": 43,
      "outputs": [
        {
          "output_type": "execute_result",
          "data": {
            "text/plain": [
              "torch.Size([3, 8])"
            ]
          },
          "metadata": {},
          "execution_count": 43
        }
      ]
    },
    {
      "cell_type": "code",
      "source": [
        "final_array2 = torch.concat((torch_array1, torch_array2), dim = 1)\n",
        "final_array2"
      ],
      "metadata": {
        "colab": {
          "base_uri": "https://localhost:8080/"
        },
        "id": "VuBBwfNbtDKI",
        "outputId": "8d96a027-4e30-4823-a23b-4424e0e37086"
      },
      "execution_count": 45,
      "outputs": [
        {
          "output_type": "execute_result",
          "data": {
            "text/plain": [
              "tensor([[-0.5293, -1.8028, -1.5676, -0.2366, -0.6997, -0.8853,  2.0967,  0.2480],\n",
              "        [-0.1088,  0.6906,  0.7843,  0.0110,  0.0779, -1.3249,  0.1386, -0.6973],\n",
              "        [-1.1788,  1.0149,  0.4733, -0.1897,  1.2399, -0.8816,  0.2463, -0.4146]])"
            ]
          },
          "metadata": {},
          "execution_count": 45
        }
      ]
    },
    {
      "cell_type": "code",
      "source": [
        "final_array2.shape"
      ],
      "metadata": {
        "colab": {
          "base_uri": "https://localhost:8080/"
        },
        "id": "q5WtnOqOtNId",
        "outputId": "caa73fa3-f786-48f4-bed8-cf7ec2a1b957"
      },
      "execution_count": 46,
      "outputs": [
        {
          "output_type": "execute_result",
          "data": {
            "text/plain": [
              "torch.Size([3, 8])"
            ]
          },
          "metadata": {},
          "execution_count": 46
        }
      ]
    },
    {
      "cell_type": "code",
      "source": [],
      "metadata": {
        "id": "pQkP8hR7tuOk"
      },
      "execution_count": null,
      "outputs": []
    },
    {
      "cell_type": "code",
      "source": [
        "!pip install torchviz"
      ],
      "metadata": {
        "colab": {
          "base_uri": "https://localhost:8080/"
        },
        "id": "S1pTchBstuQf",
        "outputId": "f0f29923-258f-4723-dcb1-7e281588bde1"
      },
      "execution_count": 49,
      "outputs": [
        {
          "output_type": "stream",
          "name": "stdout",
          "text": [
            "Collecting torchviz\n",
            "  Downloading torchviz-0.0.2.tar.gz (4.9 kB)\n",
            "  Preparing metadata (setup.py) ... \u001b[?25l\u001b[?25hdone\n",
            "Requirement already satisfied: torch in /usr/local/lib/python3.10/dist-packages (from torchviz) (2.0.1+cu118)\n",
            "Requirement already satisfied: graphviz in /usr/local/lib/python3.10/dist-packages (from torchviz) (0.20.1)\n",
            "Requirement already satisfied: filelock in /usr/local/lib/python3.10/dist-packages (from torch->torchviz) (3.12.2)\n",
            "Requirement already satisfied: typing-extensions in /usr/local/lib/python3.10/dist-packages (from torch->torchviz) (4.7.1)\n",
            "Requirement already satisfied: sympy in /usr/local/lib/python3.10/dist-packages (from torch->torchviz) (1.11.1)\n",
            "Requirement already satisfied: networkx in /usr/local/lib/python3.10/dist-packages (from torch->torchviz) (3.1)\n",
            "Requirement already satisfied: jinja2 in /usr/local/lib/python3.10/dist-packages (from torch->torchviz) (3.1.2)\n",
            "Requirement already satisfied: triton==2.0.0 in /usr/local/lib/python3.10/dist-packages (from torch->torchviz) (2.0.0)\n",
            "Requirement already satisfied: cmake in /usr/local/lib/python3.10/dist-packages (from triton==2.0.0->torch->torchviz) (3.25.2)\n",
            "Requirement already satisfied: lit in /usr/local/lib/python3.10/dist-packages (from triton==2.0.0->torch->torchviz) (16.0.6)\n",
            "Requirement already satisfied: MarkupSafe>=2.0 in /usr/local/lib/python3.10/dist-packages (from jinja2->torch->torchviz) (2.1.3)\n",
            "Requirement already satisfied: mpmath>=0.19 in /usr/local/lib/python3.10/dist-packages (from sympy->torch->torchviz) (1.3.0)\n",
            "Building wheels for collected packages: torchviz\n",
            "  Building wheel for torchviz (setup.py) ... \u001b[?25l\u001b[?25hdone\n",
            "  Created wheel for torchviz: filename=torchviz-0.0.2-py3-none-any.whl size=4131 sha256=34358281c49b9ef92c4baa7e7268bb8af743c7c2e77693fa3873044cb5cbc84f\n",
            "  Stored in directory: /root/.cache/pip/wheels/4c/97/88/a02973217949e0db0c9f4346d154085f4725f99c4f15a87094\n",
            "Successfully built torchviz\n",
            "Installing collected packages: torchviz\n",
            "Successfully installed torchviz-0.0.2\n"
          ]
        }
      ]
    },
    {
      "cell_type": "code",
      "source": [
        "from torchviz import make_dot"
      ],
      "metadata": {
        "id": "EopgpBPwtuT4"
      },
      "execution_count": 50,
      "outputs": []
    },
    {
      "cell_type": "code",
      "source": [
        "dot = make_dot(b)\n",
        "dot.render(\"model_graph1\", format=\"png\")"
      ],
      "metadata": {
        "colab": {
          "base_uri": "https://localhost:8080/",
          "height": 36
        },
        "id": "DYc-ImPFt3z9",
        "outputId": "54426331-ef03-47fd-cf9c-0b85d23df543"
      },
      "execution_count": 54,
      "outputs": [
        {
          "output_type": "execute_result",
          "data": {
            "text/plain": [
              "'model_graph1.png'"
            ],
            "application/vnd.google.colaboratory.intrinsic+json": {
              "type": "string"
            }
          },
          "metadata": {},
          "execution_count": 54
        }
      ]
    },
    {
      "cell_type": "code",
      "source": [
        "from IPython.display import Image, display\n",
        "\n",
        "# Display the PNG image directly in the output cell\n",
        "display(Image(filename='model_graph1.png'))"
      ],
      "metadata": {
        "colab": {
          "base_uri": "https://localhost:8080/",
          "height": 981
        },
        "id": "4_7s5GqbugLu",
        "outputId": "794e9869-9df2-4cb4-890d-5cbce18072e9"
      },
      "execution_count": 57,
      "outputs": [
        {
          "output_type": "display_data",
          "data": {
            "image/png": "[encoded data removed]",
            "text/plain": [
              "<IPython.core.display.Image object>"
            ]
          },
          "metadata": {}
        }
      ]
    },
    {
      "cell_type": "code",
      "source": [
        "make_dot(model(a), params=dict(model.named_parameters()))"
      ],
      "metadata": {
        "colab": {
          "base_uri": "https://localhost:8080/",
          "height": 738
        },
        "id": "5IeECnW2uR3t",
        "outputId": "ce6076c8-e020-4711-ec5d-fb1f792297eb"
      },
      "execution_count": 52,
      "outputs": [
        {
          "output_type": "execute_result",
          "data": {
            "image/svg+xml": "<?xml version=\"1.0\" encoding=\"UTF-8\" standalone=\"no\"?>\n<!DOCTYPE svg PUBLIC \"-//W3C//DTD SVG 1.1//EN\"\n \"http://www.w3.org/Graphics/SVG/1.1/DTD/svg11.dtd\">\n<!-- Generated by graphviz version 2.43.0 (0)\n -->\n<!-- Title: %3 Pages: 1 -->\n<svg width=\"864pt\" height=\"537pt\"\n viewBox=\"0.00 0.00 864.00 537.02\" xmlns=\"http://www.w3.org/2000/svg\" xmlns:xlink=\"http://www.w3.org/1999/xlink\">\n<g id=\"graph0\" class=\"graph\" transform=\"scale(1.34 1.34) rotate(0) translate(4 717)\">\n<title>%3</title>\n<polygon fill=\"white\" stroke=\"transparent\" points=\"-4,4 -4,-717 1156,-717 1156,4 -4,4\"/>\n<!-- 133022039687712 -->\n<g id=\"node1\" class=\"node\">\n<title>133022039687712</title>\n<polygon fill=\"#caff70\" stroke=\"black\" points=\"675,-31 580,-31 580,0 675,0 675,-31\"/>\n<text text-anchor=\"middle\" x=\"627.5\" y=\"-7\" font-family=\"monospace\" font-size=\"10.00\"> (120, 24576)</text>\n</g>\n<!-- 133022040873120 -->\n<g id=\"node2\" class=\"node\">\n<title>133022040873120</title>\n<polygon fill=\"lightgrey\" stroke=\"black\" points=\"672,-86 583,-86 583,-67 672,-67 672,-86\"/>\n<text text-anchor=\"middle\" x=\"627.5\" y=\"-74\" font-family=\"monospace\" font-size=\"10.00\">CatBackward0</text>\n</g>\n<!-- 133022040873120&#45;&gt;133022039687712 -->\n<g id=\"edge35\" class=\"edge\">\n<title>133022040873120&#45;&gt;133022039687712</title>\n<path fill=\"none\" stroke=\"black\" d=\"M627.5,-66.79C627.5,-60.07 627.5,-50.4 627.5,-41.34\"/>\n<polygon fill=\"black\" stroke=\"black\" points=\"631,-41.19 627.5,-31.19 624,-41.19 631,-41.19\"/>\n</g>\n<!-- 133022040874032 -->\n<g id=\"node3\" class=\"node\">\n<title>133022040874032</title>\n<polygon fill=\"lightgrey\" stroke=\"black\" points=\"619,-141 476,-141 476,-122 619,-122 619,-141\"/>\n<text text-anchor=\"middle\" x=\"547.5\" y=\"-129\" font-family=\"monospace\" font-size=\"10.00\">ReshapeAliasBackward0</text>\n</g>\n<!-- 133022040874032&#45;&gt;133022040873120 -->\n<g id=\"edge1\" class=\"edge\">\n<title>133022040874032&#45;&gt;133022040873120</title>\n<path fill=\"none\" stroke=\"black\" d=\"M560.35,-121.98C572.64,-113.84 591.41,-101.41 605.98,-91.76\"/>\n<polygon fill=\"black\" stroke=\"black\" points=\"608.01,-94.61 614.41,-86.17 604.14,-88.78 608.01,-94.61\"/>\n</g>\n<!-- 133022040881520 -->\n<g id=\"node4\" class=\"node\">\n<title>133022040881520</title>\n<polygon fill=\"lightgrey\" stroke=\"black\" points=\"568,-196 479,-196 479,-177 568,-177 568,-196\"/>\n<text text-anchor=\"middle\" x=\"523.5\" y=\"-184\" font-family=\"monospace\" font-size=\"10.00\">MulBackward0</text>\n</g>\n<!-- 133022040881520&#45;&gt;133022040874032 -->\n<g id=\"edge2\" class=\"edge\">\n<title>133022040881520&#45;&gt;133022040874032</title>\n<path fill=\"none\" stroke=\"black\" d=\"M527.46,-176.75C530.71,-169.57 535.42,-159.18 539.45,-150.27\"/>\n<polygon fill=\"black\" stroke=\"black\" points=\"542.67,-151.64 543.61,-141.09 536.3,-148.75 542.67,-151.64\"/>\n</g>\n<!-- 133022040875664 -->\n<g id=\"node5\" class=\"node\">\n<title>133022040875664</title>\n<polygon fill=\"lightgrey\" stroke=\"black\" points=\"607,-251 416,-251 416,-232 607,-232 607,-251\"/>\n<text text-anchor=\"middle\" x=\"511.5\" y=\"-239\" font-family=\"monospace\" font-size=\"10.00\">MaxPool2DWithIndicesBackward0</text>\n</g>\n<!-- 133022040875664&#45;&gt;133022040881520 -->\n<g id=\"edge3\" class=\"edge\">\n<title>133022040875664&#45;&gt;133022040881520</title>\n<path fill=\"none\" stroke=\"black\" d=\"M513.48,-231.75C515.07,-224.72 517.36,-214.62 519.35,-205.84\"/>\n<polygon fill=\"black\" stroke=\"black\" points=\"522.76,-206.62 521.56,-196.09 515.93,-205.07 522.76,-206.62\"/>\n</g>\n<!-- 133022040877296 -->\n<g id=\"node6\" class=\"node\">\n<title>133022040877296</title>\n<polygon fill=\"lightgrey\" stroke=\"black\" points=\"547,-306 452,-306 452,-287 547,-287 547,-306\"/>\n<text text-anchor=\"middle\" x=\"499.5\" y=\"-294\" font-family=\"monospace\" font-size=\"10.00\">ReluBackward0</text>\n</g>\n<!-- 133022040877296&#45;&gt;133022040875664 -->\n<g id=\"edge4\" class=\"edge\">\n<title>133022040877296&#45;&gt;133022040875664</title>\n<path fill=\"none\" stroke=\"black\" d=\"M501.48,-286.75C503.07,-279.72 505.36,-269.62 507.35,-260.84\"/>\n<polygon fill=\"black\" stroke=\"black\" points=\"510.76,-261.62 509.56,-251.09 503.93,-260.07 510.76,-261.62\"/>\n</g>\n<!-- 133022040873504 -->\n<g id=\"node7\" class=\"node\">\n<title>133022040873504</title>\n<polygon fill=\"lightgrey\" stroke=\"black\" points=\"562,-361 425,-361 425,-342 562,-342 562,-361\"/>\n<text text-anchor=\"middle\" x=\"493.5\" y=\"-349\" font-family=\"monospace\" font-size=\"10.00\">ConvolutionBackward0</text>\n</g>\n<!-- 133022040873504&#45;&gt;133022040877296 -->\n<g id=\"edge5\" class=\"edge\">\n<title>133022040873504&#45;&gt;133022040877296</title>\n<path fill=\"none\" stroke=\"black\" d=\"M494.49,-341.75C495.28,-334.8 496.4,-324.85 497.39,-316.13\"/>\n<polygon fill=\"black\" stroke=\"black\" points=\"500.88,-316.42 498.53,-306.09 493.92,-315.63 500.88,-316.42\"/>\n</g>\n<!-- 133022040869040 -->\n<g id=\"node8\" class=\"node\">\n<title>133022040869040</title>\n<polygon fill=\"lightgrey\" stroke=\"black\" points=\"254,-416 165,-416 165,-397 254,-397 254,-416\"/>\n<text text-anchor=\"middle\" x=\"209.5\" y=\"-404\" font-family=\"monospace\" font-size=\"10.00\">MulBackward0</text>\n</g>\n<!-- 133022040869040&#45;&gt;133022040873504 -->\n<g id=\"edge6\" class=\"edge\">\n<title>133022040869040&#45;&gt;133022040873504</title>\n<path fill=\"none\" stroke=\"black\" d=\"M254.19,-397.16C303.79,-387.9 383.91,-372.95 437.62,-362.93\"/>\n<polygon fill=\"black\" stroke=\"black\" points=\"438.47,-366.33 447.66,-361.05 437.19,-359.45 438.47,-366.33\"/>\n</g>\n<!-- 133022040877776 -->\n<g id=\"node9\" class=\"node\">\n<title>133022040877776</title>\n<polygon fill=\"lightgrey\" stroke=\"black\" points=\"263,-476.5 72,-476.5 72,-457.5 263,-457.5 263,-476.5\"/>\n<text text-anchor=\"middle\" x=\"167.5\" y=\"-464.5\" font-family=\"monospace\" font-size=\"10.00\">MaxPool2DWithIndicesBackward0</text>\n</g>\n<!-- 133022040877776&#45;&gt;133022040869040 -->\n<g id=\"edge7\" class=\"edge\">\n<title>133022040877776&#45;&gt;133022040869040</title>\n<path fill=\"none\" stroke=\"black\" d=\"M173.7,-457.37C179.9,-448.73 189.61,-435.2 197.36,-424.42\"/>\n<polygon fill=\"black\" stroke=\"black\" points=\"200.29,-426.33 203.28,-416.17 194.6,-422.25 200.29,-426.33\"/>\n</g>\n<!-- 133022040877968 -->\n<g id=\"node10\" class=\"node\">\n<title>133022040877968</title>\n<polygon fill=\"lightgrey\" stroke=\"black\" points=\"215,-537 120,-537 120,-518 215,-518 215,-537\"/>\n<text text-anchor=\"middle\" x=\"167.5\" y=\"-525\" font-family=\"monospace\" font-size=\"10.00\">ReluBackward0</text>\n</g>\n<!-- 133022040877968&#45;&gt;133022040877776 -->\n<g id=\"edge8\" class=\"edge\">\n<title>133022040877968&#45;&gt;133022040877776</title>\n<path fill=\"none\" stroke=\"black\" d=\"M167.5,-517.87C167.5,-509.75 167.5,-497.31 167.5,-486.89\"/>\n<polygon fill=\"black\" stroke=\"black\" points=\"171,-486.67 167.5,-476.67 164,-486.67 171,-486.67\"/>\n</g>\n<!-- 133022040877728 -->\n<g id=\"node11\" class=\"node\">\n<title>133022040877728</title>\n<polygon fill=\"lightgrey\" stroke=\"black\" points=\"236,-592 99,-592 99,-573 236,-573 236,-592\"/>\n<text text-anchor=\"middle\" x=\"167.5\" y=\"-580\" font-family=\"monospace\" font-size=\"10.00\">ConvolutionBackward0</text>\n</g>\n<!-- 133022040877728&#45;&gt;133022040877968 -->\n<g id=\"edge9\" class=\"edge\">\n<title>133022040877728&#45;&gt;133022040877968</title>\n<path fill=\"none\" stroke=\"black\" d=\"M167.5,-572.75C167.5,-565.8 167.5,-555.85 167.5,-547.13\"/>\n<polygon fill=\"black\" stroke=\"black\" points=\"171,-547.09 167.5,-537.09 164,-547.09 171,-547.09\"/>\n</g>\n<!-- 133022040877104 -->\n<g id=\"node12\" class=\"node\">\n<title>133022040877104</title>\n<polygon fill=\"lightgrey\" stroke=\"black\" points=\"152,-647 51,-647 51,-628 152,-628 152,-647\"/>\n<text text-anchor=\"middle\" x=\"101.5\" y=\"-635\" font-family=\"monospace\" font-size=\"10.00\">AccumulateGrad</text>\n</g>\n<!-- 133022040877104&#45;&gt;133022040877728 -->\n<g id=\"edge10\" class=\"edge\">\n<title>133022040877104&#45;&gt;133022040877728</title>\n<path fill=\"none\" stroke=\"black\" d=\"M112.1,-627.98C121.96,-620.07 136.85,-608.11 148.72,-598.58\"/>\n<polygon fill=\"black\" stroke=\"black\" points=\"151.1,-601.16 156.7,-592.17 146.71,-595.7 151.1,-601.16\"/>\n</g>\n<!-- 133022039567280 -->\n<g id=\"node13\" class=\"node\">\n<title>133022039567280</title>\n<polygon fill=\"lightblue\" stroke=\"black\" points=\"155,-713 0,-713 0,-683 155,-683 155,-713\"/>\n<text text-anchor=\"middle\" x=\"77.5\" y=\"-701\" font-family=\"monospace\" font-size=\"10.00\">leftConvLayer1.0.weight</text>\n<text text-anchor=\"middle\" x=\"77.5\" y=\"-690\" font-family=\"monospace\" font-size=\"10.00\"> (64, 3, 3, 3)</text>\n</g>\n<!-- 133022039567280&#45;&gt;133022040877104 -->\n<g id=\"edge11\" class=\"edge\">\n<title>133022039567280&#45;&gt;133022040877104</title>\n<path fill=\"none\" stroke=\"black\" d=\"M83.31,-682.84C86.54,-674.95 90.61,-665.05 94.07,-656.61\"/>\n<polygon fill=\"black\" stroke=\"black\" points=\"97.35,-657.85 97.9,-647.27 90.87,-655.19 97.35,-657.85\"/>\n</g>\n<!-- 133022040870048 -->\n<g id=\"node14\" class=\"node\">\n<title>133022040870048</title>\n<polygon fill=\"lightgrey\" stroke=\"black\" points=\"283,-647 182,-647 182,-628 283,-628 283,-647\"/>\n<text text-anchor=\"middle\" x=\"232.5\" y=\"-635\" font-family=\"monospace\" font-size=\"10.00\">AccumulateGrad</text>\n</g>\n<!-- 133022040870048&#45;&gt;133022040877728 -->\n<g id=\"edge12\" class=\"edge\">\n<title>133022040870048&#45;&gt;133022040877728</title>\n<path fill=\"none\" stroke=\"black\" d=\"M222.06,-627.98C212.35,-620.07 197.68,-608.11 186,-598.58\"/>\n<polygon fill=\"black\" stroke=\"black\" points=\"188.1,-595.78 178.13,-592.17 183.67,-601.2 188.1,-595.78\"/>\n</g>\n<!-- 133022039568400 -->\n<g id=\"node15\" class=\"node\">\n<title>133022039568400</title>\n<polygon fill=\"lightblue\" stroke=\"black\" points=\"316,-713 173,-713 173,-683 316,-683 316,-713\"/>\n<text text-anchor=\"middle\" x=\"244.5\" y=\"-701\" font-family=\"monospace\" font-size=\"10.00\">leftConvLayer1.0.bias</text>\n<text text-anchor=\"middle\" x=\"244.5\" y=\"-690\" font-family=\"monospace\" font-size=\"10.00\"> (64)</text>\n</g>\n<!-- 133022039568400&#45;&gt;133022040870048 -->\n<g id=\"edge13\" class=\"edge\">\n<title>133022039568400&#45;&gt;133022040870048</title>\n<path fill=\"none\" stroke=\"black\" d=\"M241.6,-682.84C240.01,-675.13 238.04,-665.49 236.33,-657.17\"/>\n<polygon fill=\"black\" stroke=\"black\" points=\"239.74,-656.36 234.3,-647.27 232.88,-657.77 239.74,-656.36\"/>\n</g>\n<!-- 133022040871872 -->\n<g id=\"node16\" class=\"node\">\n<title>133022040871872</title>\n<polygon fill=\"lightgrey\" stroke=\"black\" points=\"412,-416 311,-416 311,-397 412,-397 412,-416\"/>\n<text text-anchor=\"middle\" x=\"361.5\" y=\"-404\" font-family=\"monospace\" font-size=\"10.00\">AccumulateGrad</text>\n</g>\n<!-- 133022040871872&#45;&gt;133022040873504 -->\n<g id=\"edge14\" class=\"edge\">\n<title>133022040871872&#45;&gt;133022040873504</title>\n<path fill=\"none\" stroke=\"black\" d=\"M382.71,-396.98C404.23,-388.34 437.78,-374.87 462.33,-365.02\"/>\n<polygon fill=\"black\" stroke=\"black\" points=\"463.93,-368.14 471.91,-361.17 461.32,-361.65 463.93,-368.14\"/>\n</g>\n<!-- 133022039562960 -->\n<g id=\"node17\" class=\"node\">\n<title>133022039562960</title>\n<polygon fill=\"lightblue\" stroke=\"black\" points=\"436,-482 281,-482 281,-452 436,-452 436,-482\"/>\n<text text-anchor=\"middle\" x=\"358.5\" y=\"-470\" font-family=\"monospace\" font-size=\"10.00\">leftConvLayer2.0.weight</text>\n<text text-anchor=\"middle\" x=\"358.5\" y=\"-459\" font-family=\"monospace\" font-size=\"10.00\"> (32, 64, 3, 3)</text>\n</g>\n<!-- 133022039562960&#45;&gt;133022040871872 -->\n<g id=\"edge15\" class=\"edge\">\n<title>133022039562960&#45;&gt;133022040871872</title>\n<path fill=\"none\" stroke=\"black\" d=\"M359.23,-451.84C359.62,-444.21 360.1,-434.7 360.53,-426.45\"/>\n<polygon fill=\"black\" stroke=\"black\" points=\"364.03,-426.43 361.05,-416.27 357.04,-426.07 364.03,-426.43\"/>\n</g>\n<!-- 133022040871488 -->\n<g id=\"node18\" class=\"node\">\n<title>133022040871488</title>\n<polygon fill=\"lightgrey\" stroke=\"black\" points=\"565,-416 464,-416 464,-397 565,-397 565,-416\"/>\n<text text-anchor=\"middle\" x=\"514.5\" y=\"-404\" font-family=\"monospace\" font-size=\"10.00\">AccumulateGrad</text>\n</g>\n<!-- 133022040871488&#45;&gt;133022040873504 -->\n<g id=\"edge16\" class=\"edge\">\n<title>133022040871488&#45;&gt;133022040873504</title>\n<path fill=\"none\" stroke=\"black\" d=\"M511.03,-396.75C508.22,-389.65 504.16,-379.4 500.65,-370.56\"/>\n<polygon fill=\"black\" stroke=\"black\" points=\"503.84,-369.1 496.9,-361.09 497.33,-371.68 503.84,-369.1\"/>\n</g>\n<!-- 133022039572080 -->\n<g id=\"node19\" class=\"node\">\n<title>133022039572080</title>\n<polygon fill=\"lightblue\" stroke=\"black\" points=\"597,-482 454,-482 454,-452 597,-452 597,-482\"/>\n<text text-anchor=\"middle\" x=\"525.5\" y=\"-470\" font-family=\"monospace\" font-size=\"10.00\">leftConvLayer2.0.bias</text>\n<text text-anchor=\"middle\" x=\"525.5\" y=\"-459\" font-family=\"monospace\" font-size=\"10.00\"> (32)</text>\n</g>\n<!-- 133022039572080&#45;&gt;133022040871488 -->\n<g id=\"edge17\" class=\"edge\">\n<title>133022039572080&#45;&gt;133022040871488</title>\n<path fill=\"none\" stroke=\"black\" d=\"M522.84,-451.84C521.39,-444.13 519.57,-434.49 518.01,-426.17\"/>\n<polygon fill=\"black\" stroke=\"black\" points=\"521.44,-425.45 516.15,-416.27 514.56,-426.74 521.44,-425.45\"/>\n</g>\n<!-- 133022040869520 -->\n<g id=\"node20\" class=\"node\">\n<title>133022040869520</title>\n<polygon fill=\"lightgrey\" stroke=\"black\" points=\"789,-141 646,-141 646,-122 789,-122 789,-141\"/>\n<text text-anchor=\"middle\" x=\"717.5\" y=\"-129\" font-family=\"monospace\" font-size=\"10.00\">ReshapeAliasBackward0</text>\n</g>\n<!-- 133022040869520&#45;&gt;133022040873120 -->\n<g id=\"edge18\" class=\"edge\">\n<title>133022040869520&#45;&gt;133022040873120</title>\n<path fill=\"none\" stroke=\"black\" d=\"M703.04,-121.98C689.08,-113.77 667.71,-101.18 651.25,-91.49\"/>\n<polygon fill=\"black\" stroke=\"black\" points=\"652.62,-88.23 642.22,-86.17 649.06,-94.26 652.62,-88.23\"/>\n</g>\n<!-- 133022040880656 -->\n<g id=\"node21\" class=\"node\">\n<title>133022040880656</title>\n<polygon fill=\"lightgrey\" stroke=\"black\" points=\"767,-196 678,-196 678,-177 767,-177 767,-196\"/>\n<text text-anchor=\"middle\" x=\"722.5\" y=\"-184\" font-family=\"monospace\" font-size=\"10.00\">MulBackward0</text>\n</g>\n<!-- 133022040880656&#45;&gt;133022040869520 -->\n<g id=\"edge19\" class=\"edge\">\n<title>133022040880656&#45;&gt;133022040869520</title>\n<path fill=\"none\" stroke=\"black\" d=\"M721.67,-176.75C721.02,-169.8 720.08,-159.85 719.26,-151.13\"/>\n<polygon fill=\"black\" stroke=\"black\" points=\"722.73,-150.72 718.31,-141.09 715.77,-151.37 722.73,-150.72\"/>\n</g>\n<!-- 133022040879792 -->\n<g id=\"node22\" class=\"node\">\n<title>133022040879792</title>\n<polygon fill=\"lightgrey\" stroke=\"black\" points=\"823,-251 632,-251 632,-232 823,-232 823,-251\"/>\n<text text-anchor=\"middle\" x=\"727.5\" y=\"-239\" font-family=\"monospace\" font-size=\"10.00\">MaxPool2DWithIndicesBackward0</text>\n</g>\n<!-- 133022040879792&#45;&gt;133022040880656 -->\n<g id=\"edge20\" class=\"edge\">\n<title>133022040879792&#45;&gt;133022040880656</title>\n<path fill=\"none\" stroke=\"black\" d=\"M726.67,-231.75C726.02,-224.8 725.08,-214.85 724.26,-206.13\"/>\n<polygon fill=\"black\" stroke=\"black\" points=\"727.73,-205.72 723.31,-196.09 720.77,-206.37 727.73,-205.72\"/>\n</g>\n<!-- 133022040872256 -->\n<g id=\"node23\" class=\"node\">\n<title>133022040872256</title>\n<polygon fill=\"lightgrey\" stroke=\"black\" points=\"777,-306 682,-306 682,-287 777,-287 777,-306\"/>\n<text text-anchor=\"middle\" x=\"729.5\" y=\"-294\" font-family=\"monospace\" font-size=\"10.00\">ReluBackward0</text>\n</g>\n<!-- 133022040872256&#45;&gt;133022040879792 -->\n<g id=\"edge21\" class=\"edge\">\n<title>133022040872256&#45;&gt;133022040879792</title>\n<path fill=\"none\" stroke=\"black\" d=\"M729.17,-286.75C728.91,-279.8 728.53,-269.85 728.2,-261.13\"/>\n<polygon fill=\"black\" stroke=\"black\" points=\"731.7,-260.95 727.82,-251.09 724.7,-261.21 731.7,-260.95\"/>\n</g>\n<!-- 133022040881472 -->\n<g id=\"node24\" class=\"node\">\n<title>133022040881472</title>\n<polygon fill=\"lightgrey\" stroke=\"black\" points=\"811,-361 674,-361 674,-342 811,-342 811,-361\"/>\n<text text-anchor=\"middle\" x=\"742.5\" y=\"-349\" font-family=\"monospace\" font-size=\"10.00\">ConvolutionBackward0</text>\n</g>\n<!-- 133022040881472&#45;&gt;133022040872256 -->\n<g id=\"edge22\" class=\"edge\">\n<title>133022040881472&#45;&gt;133022040872256</title>\n<path fill=\"none\" stroke=\"black\" d=\"M740.35,-341.75C738.63,-334.72 736.15,-324.62 734,-315.84\"/>\n<polygon fill=\"black\" stroke=\"black\" points=\"737.39,-314.97 731.61,-306.09 730.59,-316.63 737.39,-314.97\"/>\n</g>\n<!-- 133022040877248 -->\n<g id=\"node25\" class=\"node\">\n<title>133022040877248</title>\n<polygon fill=\"lightgrey\" stroke=\"black\" points=\"766,-416 677,-416 677,-397 766,-397 766,-416\"/>\n<text text-anchor=\"middle\" x=\"721.5\" y=\"-404\" font-family=\"monospace\" font-size=\"10.00\">MulBackward0</text>\n</g>\n<!-- 133022040877248&#45;&gt;133022040881472 -->\n<g id=\"edge23\" class=\"edge\">\n<title>133022040877248&#45;&gt;133022040881472</title>\n<path fill=\"none\" stroke=\"black\" d=\"M724.97,-396.75C727.78,-389.65 731.84,-379.4 735.35,-370.56\"/>\n<polygon fill=\"black\" stroke=\"black\" points=\"738.67,-371.68 739.1,-361.09 732.16,-369.1 738.67,-371.68\"/>\n</g>\n<!-- 133022040874224 -->\n<g id=\"node26\" class=\"node\">\n<title>133022040874224</title>\n<polygon fill=\"lightgrey\" stroke=\"black\" points=\"806,-476.5 615,-476.5 615,-457.5 806,-457.5 806,-476.5\"/>\n<text text-anchor=\"middle\" x=\"710.5\" y=\"-464.5\" font-family=\"monospace\" font-size=\"10.00\">MaxPool2DWithIndicesBackward0</text>\n</g>\n<!-- 133022040874224&#45;&gt;133022040877248 -->\n<g id=\"edge24\" class=\"edge\">\n<title>133022040874224&#45;&gt;133022040877248</title>\n<path fill=\"none\" stroke=\"black\" d=\"M712.12,-457.37C713.67,-449.16 716.04,-436.54 718.01,-426.05\"/>\n<polygon fill=\"black\" stroke=\"black\" points=\"721.46,-426.64 719.87,-416.17 714.58,-425.35 721.46,-426.64\"/>\n</g>\n<!-- 133022040882912 -->\n<g id=\"node27\" class=\"node\">\n<title>133022040882912</title>\n<polygon fill=\"lightgrey\" stroke=\"black\" points=\"758,-537 663,-537 663,-518 758,-518 758,-537\"/>\n<text text-anchor=\"middle\" x=\"710.5\" y=\"-525\" font-family=\"monospace\" font-size=\"10.00\">ReluBackward0</text>\n</g>\n<!-- 133022040882912&#45;&gt;133022040874224 -->\n<g id=\"edge25\" class=\"edge\">\n<title>133022040882912&#45;&gt;133022040874224</title>\n<path fill=\"none\" stroke=\"black\" d=\"M710.5,-517.87C710.5,-509.75 710.5,-497.31 710.5,-486.89\"/>\n<polygon fill=\"black\" stroke=\"black\" points=\"714,-486.67 710.5,-476.67 707,-486.67 714,-486.67\"/>\n</g>\n<!-- 133022040868800 -->\n<g id=\"node28\" class=\"node\">\n<title>133022040868800</title>\n<polygon fill=\"lightgrey\" stroke=\"black\" points=\"779,-592 642,-592 642,-573 779,-573 779,-592\"/>\n<text text-anchor=\"middle\" x=\"710.5\" y=\"-580\" font-family=\"monospace\" font-size=\"10.00\">ConvolutionBackward0</text>\n</g>\n<!-- 133022040868800&#45;&gt;133022040882912 -->\n<g id=\"edge26\" class=\"edge\">\n<title>133022040868800&#45;&gt;133022040882912</title>\n<path fill=\"none\" stroke=\"black\" d=\"M710.5,-572.75C710.5,-565.8 710.5,-555.85 710.5,-547.13\"/>\n<polygon fill=\"black\" stroke=\"black\" points=\"714,-547.09 710.5,-537.09 707,-547.09 714,-547.09\"/>\n</g>\n<!-- 133022040867840 -->\n<g id=\"node29\" class=\"node\">\n<title>133022040867840</title>\n<polygon fill=\"lightgrey\" stroke=\"black\" points=\"688,-647 587,-647 587,-628 688,-628 688,-647\"/>\n<text text-anchor=\"middle\" x=\"637.5\" y=\"-635\" font-family=\"monospace\" font-size=\"10.00\">AccumulateGrad</text>\n</g>\n<!-- 133022040867840&#45;&gt;133022040868800 -->\n<g id=\"edge27\" class=\"edge\">\n<title>133022040867840&#45;&gt;133022040868800</title>\n<path fill=\"none\" stroke=\"black\" d=\"M649.23,-627.98C660.23,-620 676.92,-607.88 690.1,-598.31\"/>\n<polygon fill=\"black\" stroke=\"black\" points=\"692.52,-600.88 698.56,-592.17 688.41,-595.21 692.52,-600.88\"/>\n</g>\n<!-- 133022039563120 -->\n<g id=\"node30\" class=\"node\">\n<title>133022039563120</title>\n<polygon fill=\"lightblue\" stroke=\"black\" points=\"705,-713 544,-713 544,-683 705,-683 705,-713\"/>\n<text text-anchor=\"middle\" x=\"624.5\" y=\"-701\" font-family=\"monospace\" font-size=\"10.00\">rightConvLayer1.0.weight</text>\n<text text-anchor=\"middle\" x=\"624.5\" y=\"-690\" font-family=\"monospace\" font-size=\"10.00\"> (128, 3, 3, 3)</text>\n</g>\n<!-- 133022039563120&#45;&gt;133022040867840 -->\n<g id=\"edge28\" class=\"edge\">\n<title>133022039563120&#45;&gt;133022040867840</title>\n<path fill=\"none\" stroke=\"black\" d=\"M627.65,-682.84C629.36,-675.13 631.5,-665.49 633.35,-657.17\"/>\n<polygon fill=\"black\" stroke=\"black\" points=\"636.8,-657.79 635.55,-647.27 629.97,-656.27 636.8,-657.79\"/>\n</g>\n<!-- 133022040882816 -->\n<g id=\"node31\" class=\"node\">\n<title>133022040882816</title>\n<polygon fill=\"lightgrey\" stroke=\"black\" points=\"834,-647 733,-647 733,-628 834,-628 834,-647\"/>\n<text text-anchor=\"middle\" x=\"783.5\" y=\"-635\" font-family=\"monospace\" font-size=\"10.00\">AccumulateGrad</text>\n</g>\n<!-- 133022040882816&#45;&gt;133022040868800 -->\n<g id=\"edge29\" class=\"edge\">\n<title>133022040882816&#45;&gt;133022040868800</title>\n<path fill=\"none\" stroke=\"black\" d=\"M771.77,-627.98C760.77,-620 744.08,-607.88 730.9,-598.31\"/>\n<polygon fill=\"black\" stroke=\"black\" points=\"732.59,-595.21 722.44,-592.17 728.48,-600.88 732.59,-595.21\"/>\n</g>\n<!-- 133022039557680 -->\n<g id=\"node32\" class=\"node\">\n<title>133022039557680</title>\n<polygon fill=\"lightblue\" stroke=\"black\" points=\"872,-713 723,-713 723,-683 872,-683 872,-713\"/>\n<text text-anchor=\"middle\" x=\"797.5\" y=\"-701\" font-family=\"monospace\" font-size=\"10.00\">rightConvLayer1.0.bias</text>\n<text text-anchor=\"middle\" x=\"797.5\" y=\"-690\" font-family=\"monospace\" font-size=\"10.00\"> (128)</text>\n</g>\n<!-- 133022039557680&#45;&gt;133022040882816 -->\n<g id=\"edge30\" class=\"edge\">\n<title>133022039557680&#45;&gt;133022040882816</title>\n<path fill=\"none\" stroke=\"black\" d=\"M794.11,-682.84C792.27,-675.13 789.96,-665.49 787.97,-657.17\"/>\n<polygon fill=\"black\" stroke=\"black\" points=\"791.33,-656.18 785.6,-647.27 784.52,-657.81 791.33,-656.18\"/>\n</g>\n<!-- 133022040871200 -->\n<g id=\"node33\" class=\"node\">\n<title>133022040871200</title>\n<polygon fill=\"lightgrey\" stroke=\"black\" points=\"925,-416 824,-416 824,-397 925,-397 925,-416\"/>\n<text text-anchor=\"middle\" x=\"874.5\" y=\"-404\" font-family=\"monospace\" font-size=\"10.00\">AccumulateGrad</text>\n</g>\n<!-- 133022040871200&#45;&gt;133022040881472 -->\n<g id=\"edge31\" class=\"edge\">\n<title>133022040871200&#45;&gt;133022040881472</title>\n<path fill=\"none\" stroke=\"black\" d=\"M853.29,-396.98C831.77,-388.34 798.22,-374.87 773.67,-365.02\"/>\n<polygon fill=\"black\" stroke=\"black\" points=\"774.68,-361.65 764.09,-361.17 772.07,-368.14 774.68,-361.65\"/>\n</g>\n<!-- 133022039564880 -->\n<g id=\"node34\" class=\"node\">\n<title>133022039564880</title>\n<polygon fill=\"lightblue\" stroke=\"black\" points=\"985,-482 824,-482 824,-452 985,-452 985,-482\"/>\n<text text-anchor=\"middle\" x=\"904.5\" y=\"-470\" font-family=\"monospace\" font-size=\"10.00\">rightConvLayer2.0.weight</text>\n<text text-anchor=\"middle\" x=\"904.5\" y=\"-459\" font-family=\"monospace\" font-size=\"10.00\"> (64, 128, 3, 3)</text>\n</g>\n<!-- 133022039564880&#45;&gt;133022040871200 -->\n<g id=\"edge32\" class=\"edge\">\n<title>133022039564880&#45;&gt;133022040871200</title>\n<path fill=\"none\" stroke=\"black\" d=\"M897.24,-451.84C893.15,-443.87 888.01,-433.84 883.64,-425.33\"/>\n<polygon fill=\"black\" stroke=\"black\" points=\"886.67,-423.57 879,-416.27 880.44,-426.76 886.67,-423.57\"/>\n</g>\n<!-- 133022040883104 -->\n<g id=\"node35\" class=\"node\">\n<title>133022040883104</title>\n<polygon fill=\"lightgrey\" stroke=\"black\" points=\"1091,-416 990,-416 990,-397 1091,-397 1091,-416\"/>\n<text text-anchor=\"middle\" x=\"1040.5\" y=\"-404\" font-family=\"monospace\" font-size=\"10.00\">AccumulateGrad</text>\n</g>\n<!-- 133022040883104&#45;&gt;133022040881472 -->\n<g id=\"edge33\" class=\"edge\">\n<title>133022040883104&#45;&gt;133022040881472</title>\n<path fill=\"none\" stroke=\"black\" d=\"M992.62,-396.98C940.42,-387.7 856.88,-372.84 800.88,-362.88\"/>\n<polygon fill=\"black\" stroke=\"black\" points=\"801.21,-359.39 790.75,-361.08 799.99,-366.28 801.21,-359.39\"/>\n</g>\n<!-- 133022039571120 -->\n<g id=\"node36\" class=\"node\">\n<title>133022039571120</title>\n<polygon fill=\"lightblue\" stroke=\"black\" points=\"1152,-482 1003,-482 1003,-452 1152,-452 1152,-482\"/>\n<text text-anchor=\"middle\" x=\"1077.5\" y=\"-470\" font-family=\"monospace\" font-size=\"10.00\">rightConvLayer2.0.bias</text>\n<text text-anchor=\"middle\" x=\"1077.5\" y=\"-459\" font-family=\"monospace\" font-size=\"10.00\"> (64)</text>\n</g>\n<!-- 133022039571120&#45;&gt;133022040883104 -->\n<g id=\"edge34\" class=\"edge\">\n<title>133022039571120&#45;&gt;133022040883104</title>\n<path fill=\"none\" stroke=\"black\" d=\"M1068.54,-451.84C1063.39,-443.69 1056.88,-433.4 1051.43,-424.78\"/>\n<polygon fill=\"black\" stroke=\"black\" points=\"1054.35,-422.85 1046.04,-416.27 1048.43,-426.59 1054.35,-422.85\"/>\n</g>\n</g>\n</svg>\n",
            "text/plain": [
              "<graphviz.graphs.Digraph at 0x78fb9b7e4be0>"
            ]
          },
          "metadata": {},
          "execution_count": 52
        }
      ]
    }
  ]
}