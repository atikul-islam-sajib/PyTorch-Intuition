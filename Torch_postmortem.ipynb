{
  "nbformat": 4,
  "nbformat_minor": 0,
  "metadata": {
    "colab": {
      "provenance": []
    },
    "kernelspec": {
      "name": "python3",
      "display_name": "Python 3"
    },
    "language_info": {
      "name": "python"
    }
  },
  "cells": [
    {
      "cell_type": "code",
      "execution_count": 1,
      "metadata": {
        "id": "EvGEyqvWGyEZ"
      },
      "outputs": [],
      "source": [
        "import torch"
      ]
    },
    {
      "cell_type": "markdown",
      "source": [
        "# Create a dummy array"
      ],
      "metadata": {
        "id": "ZRVXMwXgG3yy"
      }
    },
    {
      "cell_type": "code",
      "source": [
        "\"\"\"\n",
        "    rand function take the row/ (row + column) & type is torch.Tensor\n",
        "\"\"\"\n",
        "print(torch.rand(4, 4),'\\n')\n",
        "print(torch.rand(3, 4, 4),'\\n')\n",
        "print(type(torch.rand(4 ,4)))\n",
        "\n",
        "\"\"\"\n",
        "    Display the dimension. To display this it will take [.ndim] -> number of dimension\n",
        "\"\"\"\n",
        "print(torch.rand(4, 4).ndim, '\\n')\n",
        "\n",
        "print(torch.rand(3, 4, 4).ndim)"
      ],
      "metadata": {
        "colab": {
          "base_uri": "https://localhost:8080/"
        },
        "id": "xyxWGx5lG6bB",
        "outputId": "09cfe1da-2e9a-448c-daf0-644cc2fbb9cc"
      },
      "execution_count": 2,
      "outputs": [
        {
          "output_type": "stream",
          "name": "stdout",
          "text": [
            "tensor([[0.0231, 0.7095, 0.2891, 0.4397],\n",
            "        [0.3246, 0.6407, 0.8446, 0.5415],\n",
            "        [0.7765, 0.1788, 0.8334, 0.6119],\n",
            "        [0.5206, 0.5552, 0.0793, 0.8039]]) \n",
            "\n",
            "tensor([[[0.6970, 0.8722, 0.5310, 0.5874],\n",
            "         [0.5252, 0.0391, 0.2686, 0.9383],\n",
            "         [0.8754, 0.1188, 0.4693, 0.6673],\n",
            "         [0.8512, 0.2618, 0.0812, 0.3020]],\n",
            "\n",
            "        [[0.5232, 0.1826, 0.7979, 0.6663],\n",
            "         [0.4260, 0.9745, 0.4333, 0.5308],\n",
            "         [0.7388, 0.4578, 0.6383, 0.9054],\n",
            "         [0.2341, 0.1899, 0.9892, 0.2005]],\n",
            "\n",
            "        [[0.1987, 0.6716, 0.1649, 0.8143],\n",
            "         [0.2158, 0.7240, 0.2362, 0.5235],\n",
            "         [0.8652, 0.6716, 0.1782, 0.4680],\n",
            "         [0.9049, 0.4282, 0.1025, 0.0298]]]) \n",
            "\n",
            "<class 'torch.Tensor'>\n",
            "2 \n",
            "\n",
            "3\n"
          ]
        }
      ]
    },
    {
      "cell_type": "markdown",
      "source": [
        "#Create an another array using randn"
      ],
      "metadata": {
        "id": "etJAT_1hH1Rw"
      }
    },
    {
      "cell_type": "code",
      "source": [
        "\"\"\"\n",
        "    Both rand and randn is used to generate the array but their distribution is quite diffrent while generating the data\n",
        "\"\"\"\n",
        "print(torch.randn(4, 4),'\\n')\n",
        "\n",
        "print(torch.rand(4, 4),'\\n')\n",
        "\n",
        "print(type(torch.rand(4, 4)),'\\n')\n",
        "\n",
        "print(type(torch.randn(4, 4)),'\\n')\n",
        "\n",
        "# Change the Data Type while generating random numbers\n",
        "\"\"\"\n",
        "    Needless to say that, randn normally gives the float32 value, if we specifically want the Integer value then used `randint`\n",
        "\"\"\"\n",
        "\n",
        "print(torch.randn(3, 4, 5, dtype = torch.float32),'\\n')"
      ],
      "metadata": {
        "colab": {
          "base_uri": "https://localhost:8080/"
        },
        "id": "BG2FyoX8G6eg",
        "outputId": "6830c984-3e71-43ce-afea-1584cff3e85c"
      },
      "execution_count": 3,
      "outputs": [
        {
          "output_type": "stream",
          "name": "stdout",
          "text": [
            "tensor([[-1.2460,  0.4189, -2.1429,  1.0735],\n",
            "        [ 0.0056, -0.4914, -0.3512,  0.6674],\n",
            "        [ 0.3210, -1.4654,  1.6054,  2.3658],\n",
            "        [ 0.1264,  1.4006, -0.6416,  0.6950]]) \n",
            "\n",
            "tensor([[0.8619, 0.1826, 0.0936, 0.3130],\n",
            "        [0.2471, 0.8246, 0.9848, 0.7474],\n",
            "        [0.4385, 0.5259, 0.4947, 0.2753],\n",
            "        [0.8824, 0.4972, 0.4894, 0.0281]]) \n",
            "\n",
            "<class 'torch.Tensor'> \n",
            "\n",
            "<class 'torch.Tensor'> \n",
            "\n",
            "tensor([[[-6.7708e-01,  1.4994e+00,  1.6086e+00,  2.9788e-01, -3.4883e-02],\n",
            "         [-1.3312e-01, -3.8702e-01, -1.5333e+00, -1.9935e-01, -1.5333e-01],\n",
            "         [-1.8882e-03,  1.0527e+00,  1.0657e-01, -2.4752e+00, -2.9150e-01],\n",
            "         [-8.5877e-01, -4.2836e-01, -7.5100e-01, -1.3254e+00,  2.2767e+00]],\n",
            "\n",
            "        [[ 4.5993e-01, -1.8417e+00, -2.2001e+00, -7.0435e-02,  1.0666e+00],\n",
            "         [ 3.8864e-01, -3.2916e-01,  5.7274e-02, -5.4101e-01, -4.9123e-01],\n",
            "         [ 5.8536e-02, -1.0630e+00,  6.1446e-02,  6.1105e-01,  1.0610e+00],\n",
            "         [-7.1853e-01, -3.7286e-01, -6.4132e-02,  2.2366e-01, -2.0270e-01]],\n",
            "\n",
            "        [[-1.6435e+00, -2.0717e-01, -6.3278e-01, -2.4275e+00, -1.2050e+00],\n",
            "         [-6.1051e-01, -3.6954e-01,  1.7142e+00, -7.8764e-01, -4.8121e-01],\n",
            "         [ 3.3257e+00,  1.0125e+00,  4.6476e-01, -1.0614e-01, -1.2400e+00],\n",
            "         [-6.4186e-01, -7.9444e-01, -1.1083e+00,  4.0324e-01, -9.9707e-01]]]) \n",
            "\n"
          ]
        }
      ]
    },
    {
      "cell_type": "markdown",
      "source": [
        "#Create an array with randint"
      ],
      "metadata": {
        "id": "8dZ7LvIzKKy6"
      }
    },
    {
      "cell_type": "code",
      "source": [
        "\"\"\"\n",
        "    In `randint` first parameters is low, second parameter is high, then size - size means row/(row+column)\n",
        "\"\"\"\n",
        "print(torch.randint(low = 0, high = 10, size = (4, 5)),'\\n'*2)\n",
        "\n",
        "print(torch.randint(low = 10, high = 100, size = (6, 3, 3)))"
      ],
      "metadata": {
        "colab": {
          "base_uri": "https://localhost:8080/"
        },
        "id": "JJtBqjU4Jb9I",
        "outputId": "24eb0c1e-27eb-44b0-9e4e-0a968a58b0e1"
      },
      "execution_count": 4,
      "outputs": [
        {
          "output_type": "stream",
          "name": "stdout",
          "text": [
            "tensor([[2, 6, 6, 5, 1],\n",
            "        [1, 3, 7, 2, 1],\n",
            "        [0, 1, 2, 9, 4],\n",
            "        [9, 1, 2, 8, 0]]) \n",
            "\n",
            "\n",
            "tensor([[[33, 83, 20],\n",
            "         [41, 96, 16],\n",
            "         [40, 16, 73]],\n",
            "\n",
            "        [[46, 90, 59],\n",
            "         [83, 75, 95],\n",
            "         [90, 67, 68]],\n",
            "\n",
            "        [[84, 86, 73],\n",
            "         [26, 23, 70],\n",
            "         [49, 27, 77]],\n",
            "\n",
            "        [[51, 87, 72],\n",
            "         [61, 57, 62],\n",
            "         [60, 20, 44]],\n",
            "\n",
            "        [[90, 54, 37],\n",
            "         [72, 37, 99],\n",
            "         [37, 34, 96]],\n",
            "\n",
            "        [[61, 35, 48],\n",
            "         [89, 58, 21],\n",
            "         [69, 77, 20]]])\n"
          ]
        }
      ]
    },
    {
      "cell_type": "markdown",
      "source": [
        "#Create an array with all one's"
      ],
      "metadata": {
        "id": "ZWcw1hbAKei2"
      }
    },
    {
      "cell_type": "code",
      "source": [
        "print(torch.ones(4, 5),'\\n')\n",
        "\n",
        "print(torch.ones(3, 5, 4),'\\n')\n",
        "\n",
        "# Change the Data Type\n",
        "print(torch.ones(3, 4, dtype = torch.int))"
      ],
      "metadata": {
        "colab": {
          "base_uri": "https://localhost:8080/"
        },
        "id": "Vc25cX4RKiIQ",
        "outputId": "5a738a75-95e4-44cb-d1cd-3de66ae27115"
      },
      "execution_count": 5,
      "outputs": [
        {
          "output_type": "stream",
          "name": "stdout",
          "text": [
            "tensor([[1., 1., 1., 1., 1.],\n",
            "        [1., 1., 1., 1., 1.],\n",
            "        [1., 1., 1., 1., 1.],\n",
            "        [1., 1., 1., 1., 1.]]) \n",
            "\n",
            "tensor([[[1., 1., 1., 1.],\n",
            "         [1., 1., 1., 1.],\n",
            "         [1., 1., 1., 1.],\n",
            "         [1., 1., 1., 1.],\n",
            "         [1., 1., 1., 1.]],\n",
            "\n",
            "        [[1., 1., 1., 1.],\n",
            "         [1., 1., 1., 1.],\n",
            "         [1., 1., 1., 1.],\n",
            "         [1., 1., 1., 1.],\n",
            "         [1., 1., 1., 1.]],\n",
            "\n",
            "        [[1., 1., 1., 1.],\n",
            "         [1., 1., 1., 1.],\n",
            "         [1., 1., 1., 1.],\n",
            "         [1., 1., 1., 1.],\n",
            "         [1., 1., 1., 1.]]]) \n",
            "\n",
            "tensor([[1, 1, 1, 1],\n",
            "        [1, 1, 1, 1],\n",
            "        [1, 1, 1, 1]], dtype=torch.int32)\n"
          ]
        }
      ]
    },
    {
      "cell_type": "markdown",
      "source": [
        "# Create an array with all zero's"
      ],
      "metadata": {
        "id": "3ULo96BmK4Oz"
      }
    },
    {
      "cell_type": "code",
      "source": [
        "print(torch.zeros(5),'\\n')\n",
        "\n",
        "print(torch.zeros(4, 4),'\\n')\n",
        "\n",
        "print(torch.zeros(6, 7, 4))"
      ],
      "metadata": {
        "colab": {
          "base_uri": "https://localhost:8080/"
        },
        "id": "qY4aqeblK7EC",
        "outputId": "04f0bcdf-c80e-4dca-fbb4-5b73dab5b414"
      },
      "execution_count": 6,
      "outputs": [
        {
          "output_type": "stream",
          "name": "stdout",
          "text": [
            "tensor([0., 0., 0., 0., 0.]) \n",
            "\n",
            "tensor([[0., 0., 0., 0.],\n",
            "        [0., 0., 0., 0.],\n",
            "        [0., 0., 0., 0.],\n",
            "        [0., 0., 0., 0.]]) \n",
            "\n",
            "tensor([[[0., 0., 0., 0.],\n",
            "         [0., 0., 0., 0.],\n",
            "         [0., 0., 0., 0.],\n",
            "         [0., 0., 0., 0.],\n",
            "         [0., 0., 0., 0.],\n",
            "         [0., 0., 0., 0.],\n",
            "         [0., 0., 0., 0.]],\n",
            "\n",
            "        [[0., 0., 0., 0.],\n",
            "         [0., 0., 0., 0.],\n",
            "         [0., 0., 0., 0.],\n",
            "         [0., 0., 0., 0.],\n",
            "         [0., 0., 0., 0.],\n",
            "         [0., 0., 0., 0.],\n",
            "         [0., 0., 0., 0.]],\n",
            "\n",
            "        [[0., 0., 0., 0.],\n",
            "         [0., 0., 0., 0.],\n",
            "         [0., 0., 0., 0.],\n",
            "         [0., 0., 0., 0.],\n",
            "         [0., 0., 0., 0.],\n",
            "         [0., 0., 0., 0.],\n",
            "         [0., 0., 0., 0.]],\n",
            "\n",
            "        [[0., 0., 0., 0.],\n",
            "         [0., 0., 0., 0.],\n",
            "         [0., 0., 0., 0.],\n",
            "         [0., 0., 0., 0.],\n",
            "         [0., 0., 0., 0.],\n",
            "         [0., 0., 0., 0.],\n",
            "         [0., 0., 0., 0.]],\n",
            "\n",
            "        [[0., 0., 0., 0.],\n",
            "         [0., 0., 0., 0.],\n",
            "         [0., 0., 0., 0.],\n",
            "         [0., 0., 0., 0.],\n",
            "         [0., 0., 0., 0.],\n",
            "         [0., 0., 0., 0.],\n",
            "         [0., 0., 0., 0.]],\n",
            "\n",
            "        [[0., 0., 0., 0.],\n",
            "         [0., 0., 0., 0.],\n",
            "         [0., 0., 0., 0.],\n",
            "         [0., 0., 0., 0.],\n",
            "         [0., 0., 0., 0.],\n",
            "         [0., 0., 0., 0.],\n",
            "         [0., 0., 0., 0.]]])\n"
          ]
        }
      ]
    },
    {
      "cell_type": "markdown",
      "source": [
        "# Do the concat/cat operation"
      ],
      "metadata": {
        "id": "8ZkTttMvLKDF"
      }
    },
    {
      "cell_type": "code",
      "source": [
        "\"\"\"\n",
        "    Concat/cat is same. here, 1 - means column-wise and 0 - means row-wise\n",
        "\"\"\"\n",
        "torch.manual_seed(42)\n",
        "print(torch.randn(2, 5), '\\n')\n",
        "\n",
        "print(torch.randn(4, 5), '\\n')\n",
        "\n",
        "# Do the concat with respect to column-wise\n",
        "print(torch.concat((torch.randn(2, 5),\\\n",
        "                    torch.randn(2, 4)), axis = 1),'\\n')\n",
        "\n",
        "print(torch.cat((torch.randn(2, 5),\\\n",
        "                 torch.randn(2, 5)), axis = 0),'\\n')"
      ],
      "metadata": {
        "colab": {
          "base_uri": "https://localhost:8080/"
        },
        "id": "9g5EDSvrLM5Y",
        "outputId": "6941d0fd-935c-41e5-8292-97944ac2937a"
      },
      "execution_count": 7,
      "outputs": [
        {
          "output_type": "stream",
          "name": "stdout",
          "text": [
            "tensor([[ 0.3367,  0.1288,  0.2345,  0.2303, -1.1229],\n",
            "        [-0.1863,  2.2082, -0.6380,  0.4617,  0.2674]]) \n",
            "\n",
            "tensor([[-0.7581,  1.0783,  0.8008,  1.6806,  0.0349],\n",
            "        [ 0.3211,  1.5736, -0.8455,  1.3123,  0.6872],\n",
            "        [-1.0892, -0.3553, -1.4181,  0.8963,  0.0499],\n",
            "        [ 2.2667,  1.1790, -0.4345, -1.3864, -1.2862]]) \n",
            "\n",
            "tensor([[-0.0499,  0.5263, -0.0085,  0.7291,  0.1331, -0.3870,  0.9912,  0.4679,\n",
            "         -0.2049],\n",
            "        [ 0.8640, -1.0157, -0.8887,  0.1498, -0.2089, -0.7409,  0.3618,  1.9199,\n",
            "         -0.2254]]) \n",
            "\n",
            "tensor([[-0.3417,  0.3040, -0.6890, -1.1267, -0.2858],\n",
            "        [-1.0935,  1.1351,  0.7592, -3.5945,  0.0192],\n",
            "        [ 0.1052,  0.9603, -0.5672, -0.5706,  1.5980],\n",
            "        [ 0.1115, -0.0392,  1.4112, -0.6556,  0.8576]]) \n",
            "\n"
          ]
        }
      ]
    },
    {
      "cell_type": "markdown",
      "source": [
        "#Change the shape"
      ],
      "metadata": {
        "id": "e6hyz-_UMgYZ"
      }
    },
    {
      "cell_type": "code",
      "source": [
        "\"\"\"\n",
        "    To change their shape, use `reshape`/'view'.\n",
        "\"\"\"\n",
        "torch.manual_seed(42)\n",
        "A = torch.randn(3, 4, 5, dtype = torch.float32)\n",
        "print(A,'\\n')\n",
        "\n",
        "# I want to make it 2D - row: 3, and column: 20\n",
        "print(A.reshape(A.shape[0], -1))"
      ],
      "metadata": {
        "colab": {
          "base_uri": "https://localhost:8080/"
        },
        "id": "jbx6VQonMjD2",
        "outputId": "42053fa3-c815-4259-f7bf-1b136be913f7"
      },
      "execution_count": 8,
      "outputs": [
        {
          "output_type": "stream",
          "name": "stdout",
          "text": [
            "tensor([[[ 1.9269,  1.4873,  0.9007, -2.1055,  0.6784],\n",
            "         [-1.2345, -0.0431, -1.6047, -0.7521,  1.6487],\n",
            "         [-0.3925, -1.4036, -0.7279, -0.5594, -0.7688],\n",
            "         [ 0.7624,  1.6423, -0.1596, -0.4974,  0.4396]],\n",
            "\n",
            "        [[-0.7581,  1.0783,  0.8008,  1.6806,  1.2791],\n",
            "         [ 1.2964,  0.6105,  1.3347, -0.2316,  0.0418],\n",
            "         [-0.2516,  0.8599, -1.3847, -0.8712, -0.2234],\n",
            "         [ 1.7174,  0.3189, -0.4245,  0.3057, -0.7746]],\n",
            "\n",
            "        [[-1.5576,  0.9956, -0.8798, -0.6011,  0.3672],\n",
            "         [ 0.1754,  1.3852, -0.4459,  1.4451,  0.8564],\n",
            "         [ 2.2181,  0.5232,  1.1754,  0.5612, -0.4527],\n",
            "         [-0.7718, -0.1722,  0.5238,  0.0566,  0.4263]]]) \n",
            "\n",
            "tensor([[ 1.9269,  1.4873,  0.9007, -2.1055,  0.6784, -1.2345, -0.0431, -1.6047,\n",
            "         -0.7521,  1.6487, -0.3925, -1.4036, -0.7279, -0.5594, -0.7688,  0.7624,\n",
            "          1.6423, -0.1596, -0.4974,  0.4396],\n",
            "        [-0.7581,  1.0783,  0.8008,  1.6806,  1.2791,  1.2964,  0.6105,  1.3347,\n",
            "         -0.2316,  0.0418, -0.2516,  0.8599, -1.3847, -0.8712, -0.2234,  1.7174,\n",
            "          0.3189, -0.4245,  0.3057, -0.7746],\n",
            "        [-1.5576,  0.9956, -0.8798, -0.6011,  0.3672,  0.1754,  1.3852, -0.4459,\n",
            "          1.4451,  0.8564,  2.2181,  0.5232,  1.1754,  0.5612, -0.4527, -0.7718,\n",
            "         -0.1722,  0.5238,  0.0566,  0.4263]])\n"
          ]
        }
      ]
    },
    {
      "cell_type": "markdown",
      "source": [
        "#Expand the dimension"
      ],
      "metadata": {
        "id": "qYOvx8bTNESX"
      }
    },
    {
      "cell_type": "code",
      "source": [
        "A = torch.randint(low = 1, high = 20, size = (4, 5))\n",
        "print(A, '\\n')\n",
        "print(A.ndim,'\\n')\n",
        "print(A.shape,'\\n')\n",
        "\n",
        "\"\"\"\n",
        "    Like np.expand_dims() - in PyTorch we use unsqueeze(data, dim), dim = 1 means column-wise, 0 = means row-wise\n",
        "\"\"\"\n",
        "# Here, A shape is (4, 5) -> I want to make it (1, 4, 5) - dim = 0\n",
        "print(torch.unsqueeze(A, dim = 0).shape,'\\n')\n",
        "\n",
        "# Here, A shape is (4, 5) -> I want to make it (4, 1, 5) - dim = 1\n",
        "print(torch.unsqueeze(A, dim = 1).shape,'\\n')"
      ],
      "metadata": {
        "colab": {
          "base_uri": "https://localhost:8080/"
        },
        "id": "v-L5AiY8NGpU",
        "outputId": "812921fe-15f2-4fb0-9dcb-3ba62b6a3e03"
      },
      "execution_count": 9,
      "outputs": [
        {
          "output_type": "stream",
          "name": "stdout",
          "text": [
            "tensor([[ 3, 14, 10, 13,  8],\n",
            "        [11,  8, 12, 19,  7],\n",
            "        [14, 15,  6,  7, 12],\n",
            "        [ 2, 17,  3, 11,  8]]) \n",
            "\n",
            "2 \n",
            "\n",
            "torch.Size([4, 5]) \n",
            "\n",
            "torch.Size([1, 4, 5]) \n",
            "\n",
            "torch.Size([4, 1, 5]) \n",
            "\n"
          ]
        }
      ]
    },
    {
      "cell_type": "markdown",
      "source": [
        "#Aslike np.where()"
      ],
      "metadata": {
        "id": "cY7X-QX8OdR7"
      }
    },
    {
      "cell_type": "code",
      "source": [
        "torch.manual_seed(42)\n",
        "A = torch.randint(low = 0, high = 4, size = (2, 3), dtype = torch.int)\n",
        "\n",
        "print(A, '\\n')\n",
        "\n",
        "THESHOLD = 2\n",
        "print(torch.where(A > THESHOLD, True, False),'\\n\\n')\n",
        "\n",
        "# Do the boolean-indexing\n",
        "print(A[torch.where(A > THESHOLD, True, False)])"
      ],
      "metadata": {
        "colab": {
          "base_uri": "https://localhost:8080/"
        },
        "id": "_XDraSepOkOH",
        "outputId": "31a2d56c-96ed-4c05-f490-e45ee6f6fa96"
      },
      "execution_count": 10,
      "outputs": [
        {
          "output_type": "stream",
          "name": "stdout",
          "text": [
            "tensor([[2, 3, 0],\n",
            "        [2, 2, 3]], dtype=torch.int32) \n",
            "\n",
            "tensor([[False,  True, False],\n",
            "        [False, False,  True]]) \n",
            "\n",
            "\n",
            "tensor([3, 3], dtype=torch.int32)\n"
          ]
        }
      ]
    },
    {
      "cell_type": "markdown",
      "source": [
        "#Horizontal Split"
      ],
      "metadata": {
        "id": "S7hq8d4HPiy2"
      }
    },
    {
      "cell_type": "code",
      "source": [
        "\"\"\"\n",
        "    In Horizontal Split, split is done with column-wise. hsplit(tensor, int): if int = 2, then when it will be passed in exact 2, it will be splitted based on column\n",
        "\"\"\"\n",
        "torch.manual_seed(42)\n",
        "\n",
        "A = torch.randn(2, 4)\n",
        "\n",
        "print(A, '\\n\\n\\n')\n",
        "\n",
        "print(torch.hsplit(A, 2))"
      ],
      "metadata": {
        "colab": {
          "base_uri": "https://localhost:8080/"
        },
        "id": "80K0eCKuPkp7",
        "outputId": "4f1f9ada-d61a-4552-cf7f-aa4a9115a090"
      },
      "execution_count": 11,
      "outputs": [
        {
          "output_type": "stream",
          "name": "stdout",
          "text": [
            "tensor([[ 0.3367,  0.1288,  0.2345,  0.2303],\n",
            "        [-1.1229, -0.1863,  2.2082, -0.6380]]) \n",
            "\n",
            "\n",
            "\n",
            "(tensor([[ 0.3367,  0.1288],\n",
            "        [-1.1229, -0.1863]]), tensor([[ 0.2345,  0.2303],\n",
            "        [ 2.2082, -0.6380]]))\n"
          ]
        }
      ]
    },
    {
      "cell_type": "markdown",
      "source": [
        "#Vertical Split"
      ],
      "metadata": {
        "id": "2xKUIDgKQNpW"
      }
    },
    {
      "cell_type": "code",
      "source": [
        "\"\"\"\n",
        "      In Vertical Split, split is done with row-wise\n",
        "\"\"\"\n",
        "torch.manual_seed(42)\n",
        "\n",
        "A = torch.randn(4, 4)\n",
        "\n",
        "print(A, '\\n\\n\\n')\n",
        "\n",
        "print(torch.vsplit(A, 2))"
      ],
      "metadata": {
        "colab": {
          "base_uri": "https://localhost:8080/"
        },
        "id": "EouKuAifOkWH",
        "outputId": "1c3f2bfb-edb9-4104-a750-1fb7596835c6"
      },
      "execution_count": 12,
      "outputs": [
        {
          "output_type": "stream",
          "name": "stdout",
          "text": [
            "tensor([[ 1.9269,  1.4873,  0.9007, -2.1055],\n",
            "        [ 0.6784, -1.2345, -0.0431, -1.6047],\n",
            "        [-0.7521,  1.6487, -0.3925, -1.4036],\n",
            "        [-0.7279, -0.5594, -0.7688,  0.7624]]) \n",
            "\n",
            "\n",
            "\n",
            "(tensor([[ 1.9269,  1.4873,  0.9007, -2.1055],\n",
            "        [ 0.6784, -1.2345, -0.0431, -1.6047]]), tensor([[-0.7521,  1.6487, -0.3925, -1.4036],\n",
            "        [-0.7279, -0.5594, -0.7688,  0.7624]]))\n"
          ]
        }
      ]
    },
    {
      "cell_type": "markdown",
      "source": [
        "#Transpose"
      ],
      "metadata": {
        "id": "rPzhjyMKSN3l"
      }
    },
    {
      "cell_type": "code",
      "source": [
        "torch.manual_seed(42)\n",
        "\n",
        "A = torch.randn(2, 3)\n",
        "\n",
        "print(A,'\\n\\n\\n')\n",
        "\n",
        "print(A.T)"
      ],
      "metadata": {
        "colab": {
          "base_uri": "https://localhost:8080/"
        },
        "id": "Dvro85DPSPn7",
        "outputId": "ef1b4408-885b-4283-aeab-3396287e11f3"
      },
      "execution_count": 13,
      "outputs": [
        {
          "output_type": "stream",
          "name": "stdout",
          "text": [
            "tensor([[ 0.3367,  0.1288,  0.2345],\n",
            "        [ 0.2303, -1.1229, -0.1863]]) \n",
            "\n",
            "\n",
            "\n",
            "tensor([[ 0.3367,  0.2303],\n",
            "        [ 0.1288, -1.1229],\n",
            "        [ 0.2345, -0.1863]])\n"
          ]
        }
      ]
    },
    {
      "cell_type": "markdown",
      "source": [
        "#Sort the tensor"
      ],
      "metadata": {
        "id": "U3PXsbdzRM4m"
      }
    },
    {
      "cell_type": "code",
      "source": [
        "\"\"\"\n",
        "    In torch, after being done the sorting it will return values and indices.\n",
        "\"\"\"\n",
        "values, indicies = torch.randint(low = 1, high = 5, size = (2, 5)).sort(descending = False)\n",
        "\n",
        "print(values, '\\n\\n\\n')\n",
        "\n",
        "print(torch.randint(low = 1, high = 5, size = (2, 5)).sort(descending = True))"
      ],
      "metadata": {
        "colab": {
          "base_uri": "https://localhost:8080/"
        },
        "id": "ukQz_DCPROv0",
        "outputId": "188ad87c-2433-41ae-f3b4-9eaa1fa3046f"
      },
      "execution_count": 14,
      "outputs": [
        {
          "output_type": "stream",
          "name": "stdout",
          "text": [
            "tensor([[1, 3, 3, 4, 4],\n",
            "        [1, 2, 3, 4, 4]]) \n",
            "\n",
            "\n",
            "\n",
            "torch.return_types.sort(\n",
            "values=tensor([[4, 4, 2, 2, 2],\n",
            "        [4, 4, 2, 1, 1]]),\n",
            "indices=tensor([[1, 2, 0, 3, 4],\n",
            "        [1, 2, 0, 3, 4]]))\n"
          ]
        }
      ]
    },
    {
      "cell_type": "markdown",
      "source": [
        "#Some Mathematical Operation"
      ],
      "metadata": {
        "id": "tPphisf6Shxv"
      }
    },
    {
      "cell_type": "code",
      "source": [
        "# ADD\n",
        "torch.manual_seed(42)\n",
        "A = torch.randn(2, 3)\n",
        "B = torch.randn(2, 3)\n",
        "\n",
        "print(A + B,'\\n'*5)\n",
        "\n",
        "print(torch.add(A, B))"
      ],
      "metadata": {
        "colab": {
          "base_uri": "https://localhost:8080/"
        },
        "id": "Es0c5j3PSkpR",
        "outputId": "bc692a55-e782-49ae-a1fd-bac9c3b39d3a"
      },
      "execution_count": 15,
      "outputs": [
        {
          "output_type": "stream",
          "name": "stdout",
          "text": [
            "tensor([[ 2.5449, -0.5092,  0.6961],\n",
            "        [ 0.4977, -0.5880,  0.6230]]) \n",
            "\n",
            "\n",
            "\n",
            "\n",
            "\n",
            "tensor([[ 2.5449, -0.5092,  0.6961],\n",
            "        [ 0.4977, -0.5880,  0.6230]])\n"
          ]
        }
      ]
    },
    {
      "cell_type": "code",
      "source": [
        "# SUB\n",
        "torch.manual_seed(42)\n",
        "A = torch.randn(2, 3)\n",
        "B = torch.randn(2, 3)\n",
        "\n",
        "print(A - B,'\\n'*5)\n",
        "\n",
        "print(torch.sub(A, B))"
      ],
      "metadata": {
        "colab": {
          "base_uri": "https://localhost:8080/"
        },
        "id": "V_dS-5k9Skrl",
        "outputId": "99eec7b6-e465-433f-a840-0e089ac2d4fa"
      },
      "execution_count": 16,
      "outputs": [
        {
          "output_type": "stream",
          "name": "stdout",
          "text": [
            "tensor([[-1.8715,  0.7668, -0.2272],\n",
            "        [-0.0370, -1.6578, -0.9957]]) \n",
            "\n",
            "\n",
            "\n",
            "\n",
            "\n",
            "tensor([[-1.8715,  0.7668, -0.2272],\n",
            "        [-0.0370, -1.6578, -0.9957]])\n"
          ]
        }
      ]
    },
    {
      "cell_type": "code",
      "source": [
        "# MULTIPLY\n",
        "torch.manual_seed(42)\n",
        "A = torch.randn(2, 3)\n",
        "B = torch.randn(2, 3)\n",
        "\n",
        "print(A * B,'\\n'*5)\n",
        "\n",
        "print(torch.mul(A, B))"
      ],
      "metadata": {
        "colab": {
          "base_uri": "https://localhost:8080/"
        },
        "id": "erXdVszUSkt7",
        "outputId": "48ead032-1e55-4456-9328-f7e0d1c6a9e2"
      },
      "execution_count": 17,
      "outputs": [
        {
          "output_type": "stream",
          "name": "stdout",
          "text": [
            "tensor([[ 0.7435, -0.0822,  0.1082],\n",
            "        [ 0.0616, -0.6006, -0.1508]]) \n",
            "\n",
            "\n",
            "\n",
            "\n",
            "\n",
            "tensor([[ 0.7435, -0.0822,  0.1082],\n",
            "        [ 0.0616, -0.6006, -0.1508]])\n"
          ]
        }
      ]
    },
    {
      "cell_type": "code",
      "source": [
        "# MEAN\n",
        "torch.manual_seed(42)\n",
        "A = torch.randn(2, 3)\n",
        "B = torch.randn(2, 3)\n",
        "\n",
        "print(A.mean())\n",
        "\n",
        "print(B.mean())"
      ],
      "metadata": {
        "colab": {
          "base_uri": "https://localhost:8080/"
        },
        "id": "IwGBuaoiSkxM",
        "outputId": "eba6fe3d-527a-4e64-945a-745749376139"
      },
      "execution_count": 18,
      "outputs": [
        {
          "output_type": "stream",
          "name": "stdout",
          "text": [
            "tensor(-0.0631)\n",
            "tensor(0.6072)\n"
          ]
        }
      ]
    },
    {
      "cell_type": "code",
      "source": [
        "# STD\n",
        "torch.manual_seed(42)\n",
        "A = torch.randn(2, 3)\n",
        "B = torch.randn(2, 3)\n",
        "\n",
        "print(A.std())\n",
        "\n",
        "print(B.std())"
      ],
      "metadata": {
        "colab": {
          "base_uri": "https://localhost:8080/"
        },
        "id": "oQaae4MITYBi",
        "outputId": "bf48945b-f776-498a-d48d-61850eb28cbd"
      },
      "execution_count": 19,
      "outputs": [
        {
          "output_type": "stream",
          "name": "stdout",
          "text": [
            "tensor(0.5495)\n",
            "tensor(0.9270)\n"
          ]
        }
      ]
    },
    {
      "cell_type": "code",
      "source": [
        "# SQRT\n",
        "torch.manual_seed(42)\n",
        "A = torch.randn(2, 3)\n",
        "B = torch.randn(2, 3)\n",
        "\n",
        "print(torch.sqrt(A))\n",
        "\n",
        "print(torch.sqrt(B))"
      ],
      "metadata": {
        "colab": {
          "base_uri": "https://localhost:8080/"
        },
        "id": "egs-IUreTiOb",
        "outputId": "909c086f-5611-46df-b311-2c19511a3afd"
      },
      "execution_count": 20,
      "outputs": [
        {
          "output_type": "stream",
          "name": "stdout",
          "text": [
            "tensor([[0.5803, 0.3589, 0.4842],\n",
            "        [0.4799,    nan,    nan]])\n",
            "tensor([[1.4860,    nan, 0.6795],\n",
            "        [0.5171, 0.7314, 0.8996]])\n"
          ]
        }
      ]
    },
    {
      "cell_type": "markdown",
      "source": [
        "#Convert NumPy to Torch"
      ],
      "metadata": {
        "id": "y9byvEGhTsA-"
      }
    },
    {
      "cell_type": "code",
      "source": [
        "import numpy as np\n",
        "import random\n",
        "A = np.random.randn(3, 4)\n",
        "\n",
        "print(A,'\\n\\n')\n",
        "\n",
        "print(type(A),'\\n')\n",
        "\n",
        "\n",
        "print(torch.from_numpy(A))\n",
        "\n",
        "print(type(torch.from_numpy(A)))"
      ],
      "metadata": {
        "colab": {
          "base_uri": "https://localhost:8080/"
        },
        "id": "mUh4PLzzTv8a",
        "outputId": "efae4911-0001-45f8-be9f-49f6abad1a9c"
      },
      "execution_count": 21,
      "outputs": [
        {
          "output_type": "stream",
          "name": "stdout",
          "text": [
            "[[-0.52709517 -0.84266689  1.64491972  0.49378418]\n",
            " [-1.41446344  0.05202807 -0.2139749   0.15121291]\n",
            " [-0.35987769  0.24148204 -2.50243338 -1.62535717]] \n",
            "\n",
            "\n",
            "<class 'numpy.ndarray'> \n",
            "\n",
            "tensor([[-0.5271, -0.8427,  1.6449,  0.4938],\n",
            "        [-1.4145,  0.0520, -0.2140,  0.1512],\n",
            "        [-0.3599,  0.2415, -2.5024, -1.6254]], dtype=torch.float64)\n",
            "<class 'torch.Tensor'>\n"
          ]
        }
      ]
    },
    {
      "cell_type": "markdown",
      "source": [
        "#Convert Torch to NumPy"
      ],
      "metadata": {
        "id": "Rs0WdZ72US8j"
      }
    },
    {
      "cell_type": "code",
      "source": [
        "torch.manual_seed(42)\n",
        "\n",
        "A = torch.randn(4, 5)\n",
        "\n",
        "print(A, '\\n\\n')\n",
        "\n",
        "print(type(A),'\\n\\n')\n",
        "\n",
        "A = A.numpy()\n",
        "\n",
        "print(A, '\\n\\n')\n",
        "\n",
        "print(type(A))"
      ],
      "metadata": {
        "colab": {
          "base_uri": "https://localhost:8080/"
        },
        "id": "L2t7mwt_UVtU",
        "outputId": "60c56f97-678d-496e-93fe-5757d99fa2af"
      },
      "execution_count": 22,
      "outputs": [
        {
          "output_type": "stream",
          "name": "stdout",
          "text": [
            "tensor([[ 1.9269,  1.4873,  0.9007, -2.1055, -0.7581],\n",
            "        [ 1.0783,  0.8008,  1.6806,  0.3559, -0.6866],\n",
            "        [-0.4934,  0.2415, -0.2316,  0.0418, -0.2516],\n",
            "        [ 0.8599, -0.3097, -0.3957,  0.8034, -0.6216]]) \n",
            "\n",
            "\n",
            "<class 'torch.Tensor'> \n",
            "\n",
            "\n",
            "[[ 1.9269153   1.4872841   0.9007172  -2.105521   -0.75813115]\n",
            " [ 1.0783176   0.80080056  1.6806206   0.3558599  -0.686623  ]\n",
            " [-0.49335635  0.24148779 -0.23162432  0.04175949 -0.2515753 ]\n",
            " [ 0.8598585  -0.30972677 -0.3957105   0.80340934 -0.6215954 ]] \n",
            "\n",
            "\n",
            "<class 'numpy.ndarray'>\n"
          ]
        }
      ]
    },
    {
      "cell_type": "markdown",
      "source": [
        "#Generate the Sequence of Numbers"
      ],
      "metadata": {
        "id": "22z7JD3-UtK5"
      }
    },
    {
      "cell_type": "code",
      "source": [
        "\"\"\"\n",
        "    Using arange(start, end, step, dtype): 1D\n",
        "\"\"\"\n",
        "torch.arange(start = 0, end = 100, step = 20, dtype = torch.int)"
      ],
      "metadata": {
        "colab": {
          "base_uri": "https://localhost:8080/"
        },
        "id": "X2N98V1lTv-9",
        "outputId": "6b282e7c-edaa-4619-f904-b7eae93c2b07"
      },
      "execution_count": 23,
      "outputs": [
        {
          "output_type": "execute_result",
          "data": {
            "text/plain": [
              "tensor([ 0, 20, 40, 60, 80], dtype=torch.int32)"
            ]
          },
          "metadata": {},
          "execution_count": 23
        }
      ]
    },
    {
      "cell_type": "code",
      "source": [
        "\"\"\"\n",
        "    Using linspace(start, end, steps, dtype): 1D\n",
        "\"\"\"\n",
        "torch.linspace(start = 0, end = 100, steps = 20, dtype = torch.int)"
      ],
      "metadata": {
        "colab": {
          "base_uri": "https://localhost:8080/"
        },
        "id": "Co8TsTrmTwCT",
        "outputId": "54041bd8-02ef-4fca-8e05-a35a53bf91ce"
      },
      "execution_count": 24,
      "outputs": [
        {
          "output_type": "execute_result",
          "data": {
            "text/plain": [
              "tensor([  0,   5,  10,  15,  21,  26,  31,  36,  42,  47,  52,  57,  63,  68,\n",
              "         73,  78,  84,  89,  94, 100], dtype=torch.int32)"
            ]
          },
          "metadata": {},
          "execution_count": 24
        }
      ]
    }
  ]
}