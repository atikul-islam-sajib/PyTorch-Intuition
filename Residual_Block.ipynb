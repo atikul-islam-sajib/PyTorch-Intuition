{
  "nbformat": 4,
  "nbformat_minor": 0,
  "metadata": {
    "colab": {
      "provenance": [],
      "gpuType": "T4"
    },
    "kernelspec": {
      "name": "python3",
      "display_name": "Python 3"
    },
    "language_info": {
      "name": "python"
    },
    "accelerator": "GPU"
  },
  "cells": [
    {
      "cell_type": "code",
      "execution_count": 1,
      "metadata": {
        "id": "Sgxa04gKN_4J"
      },
      "outputs": [],
      "source": [
        "import torch\n",
        "import torch.nn as nn"
      ]
    },
    {
      "cell_type": "code",
      "source": [
        "class ResidualBlock(nn.Module):\n",
        "  def __init__(self, input_channels = None, output_dimension = None):\n",
        "    super().__init__()\n",
        "\n",
        "    self.CONV_LAYER = self.conv_block(input_channel = input_channels, output_channel = 16, dropout = 0.1)\n",
        "    self.RES_BLOCK  = self.residual_block(input_channel = input_channels, output_channel = 16, dropout = 0.1)\n",
        "    self.FC_LAYER   = self.fc_block(input_features = 10 * 10 * 8 + 20 * 20 * 16, output_features = 512, dropout = 0.1)\n",
        "\n",
        "  def residual_block(self, input_channel = None, output_channel = None, dropout = None):\n",
        "        return nn.Sequential(\n",
        "        nn.Conv2d(in_channels = input_channel,\\\n",
        "                  out_channels = output_channel,\\\n",
        "                  kernel_size = (3, 3),\\\n",
        "                  stride = (1, 1),\n",
        "                  padding = 1),\n",
        "        nn.ReLU(),\n",
        "        nn.MaxPool2d(kernel_size = (2, 2),\\\n",
        "                     stride = (2, 2)),\n",
        "        nn.Dropout(p = dropout)\n",
        "\n",
        "        )\n",
        "  def conv_block(self, input_channel = None, output_channel = None, dropout = None):\n",
        "    return nn.Sequential(\n",
        "        nn.Conv2d(in_channels = input_channel,\\\n",
        "                  out_channels = output_channel,\\\n",
        "                  kernel_size = (3, 3),\\\n",
        "                  stride = (1, 1),\n",
        "                  padding = 1),\n",
        "        nn.ReLU(),\n",
        "        nn.MaxPool2d(kernel_size = (2, 2),\\\n",
        "                     stride = (2, 2)),\n",
        "        nn.Dropout(p = dropout),\n",
        "\n",
        "        nn.Conv2d(in_channels = 16,\\\n",
        "                  out_channels = 8,\\\n",
        "                  kernel_size = (3, 3),\\\n",
        "                  stride = (1, 1),\n",
        "                  padding = 1),\n",
        "        nn.ReLU(),\n",
        "        nn.MaxPool2d(kernel_size = (2, 2),\\\n",
        "                     stride = (2, 2)),\n",
        "        nn.Dropout(p = dropout)\n",
        "    )\n",
        "  def fc_block(self, input_features = None, output_features = None, dropout = None):\n",
        "    return nn.Sequential(\n",
        "        nn.Linear(in_features = input_features,\\\n",
        "                  out_features = output_features),\n",
        "        nn.ReLU(),\n",
        "\n",
        "        nn.Linear(in_features = 512,\\\n",
        "                  out_features = 4),\n",
        "        nn.Softmax()\n",
        "    )\n",
        "\n",
        "  def forward(self, x):\n",
        "    CONV1 = self.CONV_LAYER(x)\n",
        "\n",
        "    CONV1 = CONV1.reshape(CONV1.shape[0], -1)\n",
        "\n",
        "    RESIDUAL = self.RES_BLOCK(x)\n",
        "\n",
        "    RESIDUAL = RESIDUAL.reshape(RESIDUAL.shape[0], -1)\n",
        "\n",
        "    CONCAT = torch.concat((CONV1, RESIDUAL), dim = 1)\n",
        "\n",
        "    FC = self.FC_LAYER(CONCAT)\n",
        "\n",
        "    return FC"
      ],
      "metadata": {
        "id": "tjZ-WhbJOGsS"
      },
      "execution_count": 6,
      "outputs": []
    },
    {
      "cell_type": "code",
      "source": [
        "device = torch.device('cuda' if torch.cuda.is_available() else 'çpu')\n",
        "device"
      ],
      "metadata": {
        "colab": {
          "base_uri": "https://localhost:8080/"
        },
        "id": "bzDDfF34OGu1",
        "outputId": "e08b637a-54c1-46ac-fb67-3315031acb56"
      },
      "execution_count": 4,
      "outputs": [
        {
          "output_type": "execute_result",
          "data": {
            "text/plain": [
              "device(type='cuda')"
            ]
          },
          "metadata": {},
          "execution_count": 4
        }
      ]
    },
    {
      "cell_type": "code",
      "source": [
        "model = ResidualBlock(3, 4)\n",
        "model = model.to(device)"
      ],
      "metadata": {
        "id": "n5FKCdV7OGyU"
      },
      "execution_count": 7,
      "outputs": []
    },
    {
      "cell_type": "code",
      "source": [
        "model.parameters"
      ],
      "metadata": {
        "colab": {
          "base_uri": "https://localhost:8080/"
        },
        "id": "znDr82DCR8ow",
        "outputId": "95655ed0-bebe-487c-9771-64b21ee7ccfe"
      },
      "execution_count": 8,
      "outputs": [
        {
          "output_type": "execute_result",
          "data": {
            "text/plain": [
              "<bound method Module.parameters of ResidualBlock(\n",
              "  (CONV_LAYER): Sequential(\n",
              "    (0): Conv2d(3, 16, kernel_size=(3, 3), stride=(1, 1), padding=(1, 1))\n",
              "    (1): ReLU()\n",
              "    (2): MaxPool2d(kernel_size=(2, 2), stride=(2, 2), padding=0, dilation=1, ceil_mode=False)\n",
              "    (3): Dropout(p=0.1, inplace=False)\n",
              "    (4): Conv2d(16, 8, kernel_size=(3, 3), stride=(1, 1), padding=(1, 1))\n",
              "    (5): ReLU()\n",
              "    (6): MaxPool2d(kernel_size=(2, 2), stride=(2, 2), padding=0, dilation=1, ceil_mode=False)\n",
              "    (7): Dropout(p=0.1, inplace=False)\n",
              "  )\n",
              "  (RES_BLOCK): Sequential(\n",
              "    (0): Conv2d(3, 16, kernel_size=(3, 3), stride=(1, 1), padding=(1, 1))\n",
              "    (1): ReLU()\n",
              "    (2): MaxPool2d(kernel_size=(2, 2), stride=(2, 2), padding=0, dilation=1, ceil_mode=False)\n",
              "    (3): Dropout(p=0.1, inplace=False)\n",
              "  )\n",
              "  (FC_LAYER): Sequential(\n",
              "    (0): Linear(in_features=7200, out_features=512, bias=True)\n",
              "    (1): ReLU()\n",
              "    (2): Linear(in_features=512, out_features=4, bias=True)\n",
              "    (3): Softmax(dim=None)\n",
              "  )\n",
              ")>"
            ]
          },
          "metadata": {},
          "execution_count": 8
        }
      ]
    },
    {
      "cell_type": "code",
      "source": [
        "!pip install torchviz"
      ],
      "metadata": {
        "colab": {
          "base_uri": "https://localhost:8080/"
        },
        "id": "JHzZJ_QVR8rG",
        "outputId": "7ac44ec2-ac06-4605-a493-244059462b96"
      },
      "execution_count": 10,
      "outputs": [
        {
          "output_type": "stream",
          "name": "stdout",
          "text": [
            "Collecting torchviz\n",
            "  Downloading torchviz-0.0.2.tar.gz (4.9 kB)\n",
            "  Preparing metadata (setup.py) ... \u001b[?25l\u001b[?25hdone\n",
            "Requirement already satisfied: torch in /usr/local/lib/python3.10/dist-packages (from torchviz) (2.0.1+cu118)\n",
            "Requirement already satisfied: graphviz in /usr/local/lib/python3.10/dist-packages (from torchviz) (0.20.1)\n",
            "Requirement already satisfied: filelock in /usr/local/lib/python3.10/dist-packages (from torch->torchviz) (3.12.2)\n",
            "Requirement already satisfied: typing-extensions in /usr/local/lib/python3.10/dist-packages (from torch->torchviz) (4.7.1)\n",
            "Requirement already satisfied: sympy in /usr/local/lib/python3.10/dist-packages (from torch->torchviz) (1.12)\n",
            "Requirement already satisfied: networkx in /usr/local/lib/python3.10/dist-packages (from torch->torchviz) (3.1)\n",
            "Requirement already satisfied: jinja2 in /usr/local/lib/python3.10/dist-packages (from torch->torchviz) (3.1.2)\n",
            "Requirement already satisfied: triton==2.0.0 in /usr/local/lib/python3.10/dist-packages (from torch->torchviz) (2.0.0)\n",
            "Requirement already satisfied: cmake in /usr/local/lib/python3.10/dist-packages (from triton==2.0.0->torch->torchviz) (3.27.2)\n",
            "Requirement already satisfied: lit in /usr/local/lib/python3.10/dist-packages (from triton==2.0.0->torch->torchviz) (16.0.6)\n",
            "Requirement already satisfied: MarkupSafe>=2.0 in /usr/local/lib/python3.10/dist-packages (from jinja2->torch->torchviz) (2.1.3)\n",
            "Requirement already satisfied: mpmath>=0.19 in /usr/local/lib/python3.10/dist-packages (from sympy->torch->torchviz) (1.3.0)\n",
            "Building wheels for collected packages: torchviz\n",
            "  Building wheel for torchviz (setup.py) ... \u001b[?25l\u001b[?25hdone\n",
            "  Created wheel for torchviz: filename=torchviz-0.0.2-py3-none-any.whl size=4131 sha256=865b78d91e0c756a6d0603f5957b93a1a0386409c78c33c1f8fd5bbcd12f84a7\n",
            "  Stored in directory: /root/.cache/pip/wheels/4c/97/88/a02973217949e0db0c9f4346d154085f4725f99c4f15a87094\n",
            "Successfully built torchviz\n",
            "Installing collected packages: torchviz\n",
            "Successfully installed torchviz-0.0.2\n"
          ]
        }
      ]
    },
    {
      "cell_type": "code",
      "source": [
        "dummy_data = torch.randn(16, 3, 40, 40)\n",
        "dummy_data = dummy_data.to(device)\n",
        "S = model(dummy_data)\n",
        "S.shape"
      ],
      "metadata": {
        "colab": {
          "base_uri": "https://localhost:8080/"
        },
        "id": "bIau7Au8SUW2",
        "outputId": "42b8190a-4799-44d0-88ad-aabe930da617"
      },
      "execution_count": 12,
      "outputs": [
        {
          "output_type": "stream",
          "name": "stderr",
          "text": [
            "/usr/local/lib/python3.10/dist-packages/torch/nn/modules/container.py:217: UserWarning: Implicit dimension choice for softmax has been deprecated. Change the call to include dim=X as an argument.\n",
            "  input = module(input)\n"
          ]
        },
        {
          "output_type": "execute_result",
          "data": {
            "text/plain": [
              "torch.Size([16, 4])"
            ]
          },
          "metadata": {},
          "execution_count": 12
        }
      ]
    },
    {
      "cell_type": "code",
      "source": [
        "# Import the library\n",
        "from torchviz import make_dot\n",
        "\n",
        "make_dot(model(dummy_data),\\\n",
        "         show_attrs = False)"
      ],
      "metadata": {
        "colab": {
          "base_uri": "https://localhost:8080/",
          "height": 1000
        },
        "id": "FbGUtDgjR8ut",
        "outputId": "d7c6719a-23a8-4c2f-b18a-1abde6936c88"
      },
      "execution_count": 14,
      "outputs": [
        {
          "output_type": "stream",
          "name": "stderr",
          "text": [
            "/usr/local/lib/python3.10/dist-packages/torch/nn/modules/container.py:217: UserWarning: Implicit dimension choice for softmax has been deprecated. Change the call to include dim=X as an argument.\n",
            "  input = module(input)\n"
          ]
        },
        {
          "output_type": "execute_result",
          "data": {
            "image/svg+xml": "<?xml version=\"1.0\" encoding=\"UTF-8\" standalone=\"no\"?>\n<!DOCTYPE svg PUBLIC \"-//W3C//DTD SVG 1.1//EN\"\n \"http://www.w3.org/Graphics/SVG/1.1/DTD/svg11.dtd\">\n<!-- Generated by graphviz version 2.43.0 (0)\n -->\n<!-- Title: %3 Pages: 1 -->\n<svg width=\"618pt\" height=\"896pt\"\n viewBox=\"0.00 0.00 617.53 896.00\" xmlns=\"http://www.w3.org/2000/svg\" xmlns:xlink=\"http://www.w3.org/1999/xlink\">\n<g id=\"graph0\" class=\"graph\" transform=\"scale(1.11 1.11) rotate(0) translate(4 987)\">\n<title>%3</title>\n<polygon fill=\"white\" stroke=\"transparent\" points=\"-4,4 -4,-987 679,-987 679,4 -4,4\"/>\n<!-- 135935418635328 -->\n<g id=\"node1\" class=\"node\">\n<title>135935418635328</title>\n<polygon fill=\"#caff70\" stroke=\"black\" points=\"473,-31 408,-31 408,0 473,0 473,-31\"/>\n<text text-anchor=\"middle\" x=\"440.5\" y=\"-7\" font-family=\"monospace\" font-size=\"10.00\"> (16, 4)</text>\n</g>\n<!-- 135935420061232 -->\n<g id=\"node2\" class=\"node\">\n<title>135935420061232</title>\n<polygon fill=\"lightgrey\" stroke=\"black\" points=\"497,-86 384,-86 384,-67 497,-67 497,-86\"/>\n<text text-anchor=\"middle\" x=\"440.5\" y=\"-74\" font-family=\"monospace\" font-size=\"10.00\">SoftmaxBackward0</text>\n</g>\n<!-- 135935420061232&#45;&gt;135935418635328 -->\n<g id=\"edge41\" class=\"edge\">\n<title>135935420061232&#45;&gt;135935418635328</title>\n<path fill=\"none\" stroke=\"black\" d=\"M440.5,-66.79C440.5,-60.07 440.5,-50.4 440.5,-41.34\"/>\n<polygon fill=\"black\" stroke=\"black\" points=\"444,-41.19 440.5,-31.19 437,-41.19 444,-41.19\"/>\n</g>\n<!-- 135935420056672 -->\n<g id=\"node3\" class=\"node\">\n<title>135935420056672</title>\n<polygon fill=\"lightgrey\" stroke=\"black\" points=\"491,-141 390,-141 390,-122 491,-122 491,-141\"/>\n<text text-anchor=\"middle\" x=\"440.5\" y=\"-129\" font-family=\"monospace\" font-size=\"10.00\">AddmmBackward0</text>\n</g>\n<!-- 135935420056672&#45;&gt;135935420061232 -->\n<g id=\"edge1\" class=\"edge\">\n<title>135935420056672&#45;&gt;135935420061232</title>\n<path fill=\"none\" stroke=\"black\" d=\"M440.5,-121.75C440.5,-114.8 440.5,-104.85 440.5,-96.13\"/>\n<polygon fill=\"black\" stroke=\"black\" points=\"444,-96.09 440.5,-86.09 437,-96.09 444,-96.09\"/>\n</g>\n<!-- 135935420059648 -->\n<g id=\"node4\" class=\"node\">\n<title>135935420059648</title>\n<polygon fill=\"lightgrey\" stroke=\"black\" points=\"375,-196 274,-196 274,-177 375,-177 375,-196\"/>\n<text text-anchor=\"middle\" x=\"324.5\" y=\"-184\" font-family=\"monospace\" font-size=\"10.00\">AccumulateGrad</text>\n</g>\n<!-- 135935420059648&#45;&gt;135935420056672 -->\n<g id=\"edge2\" class=\"edge\">\n<title>135935420059648&#45;&gt;135935420056672</title>\n<path fill=\"none\" stroke=\"black\" d=\"M343.14,-176.98C361.8,-168.46 390.75,-155.23 412.24,-145.41\"/>\n<polygon fill=\"black\" stroke=\"black\" points=\"413.88,-148.51 421.52,-141.17 410.97,-142.14 413.88,-148.51\"/>\n</g>\n<!-- 135935420095504 -->\n<g id=\"node5\" class=\"node\">\n<title>135935420095504</title>\n<polygon fill=\"lightblue\" stroke=\"black\" points=\"351.5,-263 297.5,-263 297.5,-232 351.5,-232 351.5,-263\"/>\n<text text-anchor=\"middle\" x=\"324.5\" y=\"-239\" font-family=\"monospace\" font-size=\"10.00\"> (4)</text>\n</g>\n<!-- 135935420095504&#45;&gt;135935420059648 -->\n<g id=\"edge3\" class=\"edge\">\n<title>135935420095504&#45;&gt;135935420059648</title>\n<path fill=\"none\" stroke=\"black\" d=\"M324.5,-231.92C324.5,-224.22 324.5,-214.69 324.5,-206.43\"/>\n<polygon fill=\"black\" stroke=\"black\" points=\"328,-206.25 324.5,-196.25 321,-206.25 328,-206.25\"/>\n</g>\n<!-- 135935420063392 -->\n<g id=\"node6\" class=\"node\">\n<title>135935420063392</title>\n<polygon fill=\"lightgrey\" stroke=\"black\" points=\"488,-196 393,-196 393,-177 488,-177 488,-196\"/>\n<text text-anchor=\"middle\" x=\"440.5\" y=\"-184\" font-family=\"monospace\" font-size=\"10.00\">ReluBackward0</text>\n</g>\n<!-- 135935420063392&#45;&gt;135935420056672 -->\n<g id=\"edge4\" class=\"edge\">\n<title>135935420063392&#45;&gt;135935420056672</title>\n<path fill=\"none\" stroke=\"black\" d=\"M440.5,-176.75C440.5,-169.8 440.5,-159.85 440.5,-151.13\"/>\n<polygon fill=\"black\" stroke=\"black\" points=\"444,-151.09 440.5,-141.09 437,-151.09 444,-151.09\"/>\n</g>\n<!-- 135935420068096 -->\n<g id=\"node7\" class=\"node\">\n<title>135935420068096</title>\n<polygon fill=\"lightgrey\" stroke=\"black\" points=\"486,-257 385,-257 385,-238 486,-238 486,-257\"/>\n<text text-anchor=\"middle\" x=\"435.5\" y=\"-245\" font-family=\"monospace\" font-size=\"10.00\">AddmmBackward0</text>\n</g>\n<!-- 135935420068096&#45;&gt;135935420063392 -->\n<g id=\"edge5\" class=\"edge\">\n<title>135935420068096&#45;&gt;135935420063392</title>\n<path fill=\"none\" stroke=\"black\" d=\"M436.24,-237.79C436.94,-229.52 438.02,-216.79 438.91,-206.21\"/>\n<polygon fill=\"black\" stroke=\"black\" points=\"442.4,-206.5 439.76,-196.24 435.43,-205.91 442.4,-206.5\"/>\n</g>\n<!-- 135935420062624 -->\n<g id=\"node8\" class=\"node\">\n<title>135935420062624</title>\n<polygon fill=\"lightgrey\" stroke=\"black\" points=\"335,-324 234,-324 234,-305 335,-305 335,-324\"/>\n<text text-anchor=\"middle\" x=\"284.5\" y=\"-312\" font-family=\"monospace\" font-size=\"10.00\">AccumulateGrad</text>\n</g>\n<!-- 135935420062624&#45;&gt;135935420068096 -->\n<g id=\"edge6\" class=\"edge\">\n<title>135935420062624&#45;&gt;135935420068096</title>\n<path fill=\"none\" stroke=\"black\" d=\"M304.55,-304.87C330.5,-293.7 375.92,-274.15 405.86,-261.26\"/>\n<polygon fill=\"black\" stroke=\"black\" points=\"407.56,-264.34 415.37,-257.17 404.8,-257.91 407.56,-264.34\"/>\n</g>\n<!-- 135935420093264 -->\n<g id=\"node9\" class=\"node\">\n<title>135935420093264</title>\n<polygon fill=\"lightblue\" stroke=\"black\" points=\"229.5,-397 175.5,-397 175.5,-366 229.5,-366 229.5,-397\"/>\n<text text-anchor=\"middle\" x=\"202.5\" y=\"-373\" font-family=\"monospace\" font-size=\"10.00\"> (512)</text>\n</g>\n<!-- 135935420093264&#45;&gt;135935420062624 -->\n<g id=\"edge7\" class=\"edge\">\n<title>135935420093264&#45;&gt;135935420062624</title>\n<path fill=\"none\" stroke=\"black\" d=\"M221.11,-365.75C234.44,-355.18 252.33,-341 265.71,-330.39\"/>\n<polygon fill=\"black\" stroke=\"black\" points=\"268.09,-332.97 273.75,-324.02 263.74,-327.49 268.09,-332.97\"/>\n</g>\n<!-- 135935420063008 -->\n<g id=\"node10\" class=\"node\">\n<title>135935420063008</title>\n<polygon fill=\"lightgrey\" stroke=\"black\" points=\"444,-324 355,-324 355,-305 444,-305 444,-324\"/>\n<text text-anchor=\"middle\" x=\"399.5\" y=\"-312\" font-family=\"monospace\" font-size=\"10.00\">CatBackward0</text>\n</g>\n<!-- 135935420063008&#45;&gt;135935420068096 -->\n<g id=\"edge8\" class=\"edge\">\n<title>135935420063008&#45;&gt;135935420068096</title>\n<path fill=\"none\" stroke=\"black\" d=\"M404.36,-304.73C409.81,-294.89 418.8,-278.66 425.72,-266.16\"/>\n<polygon fill=\"black\" stroke=\"black\" points=\"428.94,-267.57 430.72,-257.13 422.81,-264.18 428.94,-267.57\"/>\n</g>\n<!-- 135935420057008 -->\n<g id=\"node11\" class=\"node\">\n<title>135935420057008</title>\n<polygon fill=\"lightgrey\" stroke=\"black\" points=\"391,-391 248,-391 248,-372 391,-372 391,-391\"/>\n<text text-anchor=\"middle\" x=\"319.5\" y=\"-379\" font-family=\"monospace\" font-size=\"10.00\">ReshapeAliasBackward0</text>\n</g>\n<!-- 135935420057008&#45;&gt;135935420063008 -->\n<g id=\"edge9\" class=\"edge\">\n<title>135935420057008&#45;&gt;135935420063008</title>\n<path fill=\"none\" stroke=\"black\" d=\"M330.29,-371.73C343.24,-361.21 365.19,-343.38 380.89,-330.62\"/>\n<polygon fill=\"black\" stroke=\"black\" points=\"383.33,-333.15 388.88,-324.13 378.91,-327.72 383.33,-333.15\"/>\n</g>\n<!-- 135935420069248 -->\n<g id=\"node12\" class=\"node\">\n<title>135935420069248</title>\n<polygon fill=\"lightgrey\" stroke=\"black\" points=\"380,-458 231,-458 231,-439 380,-439 380,-458\"/>\n<text text-anchor=\"middle\" x=\"305.5\" y=\"-446\" font-family=\"monospace\" font-size=\"10.00\">NativeDropoutBackward0</text>\n</g>\n<!-- 135935420069248&#45;&gt;135935420057008 -->\n<g id=\"edge10\" class=\"edge\">\n<title>135935420069248&#45;&gt;135935420057008</title>\n<path fill=\"none\" stroke=\"black\" d=\"M307.39,-438.73C309.47,-429.09 312.87,-413.3 315.54,-400.91\"/>\n<polygon fill=\"black\" stroke=\"black\" points=\"318.96,-401.64 317.64,-391.13 312.11,-400.17 318.96,-401.64\"/>\n</g>\n<!-- 135935420069056 -->\n<g id=\"node13\" class=\"node\">\n<title>135935420069056</title>\n<polygon fill=\"lightgrey\" stroke=\"black\" points=\"380,-519 189,-519 189,-500 380,-500 380,-519\"/>\n<text text-anchor=\"middle\" x=\"284.5\" y=\"-507\" font-family=\"monospace\" font-size=\"10.00\">MaxPool2DWithIndicesBackward0</text>\n</g>\n<!-- 135935420069056&#45;&gt;135935420069248 -->\n<g id=\"edge11\" class=\"edge\">\n<title>135935420069056&#45;&gt;135935420069248</title>\n<path fill=\"none\" stroke=\"black\" d=\"M287.6,-499.79C290.58,-491.43 295.17,-478.52 298.96,-467.88\"/>\n<polygon fill=\"black\" stroke=\"black\" points=\"302.33,-468.84 302.39,-458.24 295.74,-466.49 302.33,-468.84\"/>\n</g>\n<!-- 135935420069824 -->\n<g id=\"node14\" class=\"node\">\n<title>135935420069824</title>\n<polygon fill=\"lightgrey\" stroke=\"black\" points=\"318,-574 223,-574 223,-555 318,-555 318,-574\"/>\n<text text-anchor=\"middle\" x=\"270.5\" y=\"-562\" font-family=\"monospace\" font-size=\"10.00\">ReluBackward0</text>\n</g>\n<!-- 135935420069824&#45;&gt;135935420069056 -->\n<g id=\"edge12\" class=\"edge\">\n<title>135935420069824&#45;&gt;135935420069056</title>\n<path fill=\"none\" stroke=\"black\" d=\"M272.81,-554.75C274.67,-547.72 277.34,-537.62 279.65,-528.84\"/>\n<polygon fill=\"black\" stroke=\"black\" points=\"283.06,-529.65 282.23,-519.09 276.29,-527.86 283.06,-529.65\"/>\n</g>\n<!-- 135935420067376 -->\n<g id=\"node15\" class=\"node\">\n<title>135935420067376</title>\n<polygon fill=\"lightgrey\" stroke=\"black\" points=\"338,-629 201,-629 201,-610 338,-610 338,-629\"/>\n<text text-anchor=\"middle\" x=\"269.5\" y=\"-617\" font-family=\"monospace\" font-size=\"10.00\">ConvolutionBackward0</text>\n</g>\n<!-- 135935420067376&#45;&gt;135935420069824 -->\n<g id=\"edge13\" class=\"edge\">\n<title>135935420067376&#45;&gt;135935420069824</title>\n<path fill=\"none\" stroke=\"black\" d=\"M269.67,-609.75C269.8,-602.8 269.98,-592.85 270.15,-584.13\"/>\n<polygon fill=\"black\" stroke=\"black\" points=\"273.65,-584.15 270.34,-574.09 266.65,-584.02 273.65,-584.15\"/>\n</g>\n<!-- 135935420062720 -->\n<g id=\"node16\" class=\"node\">\n<title>135935420062720</title>\n<polygon fill=\"lightgrey\" stroke=\"black\" points=\"194,-684 45,-684 45,-665 194,-665 194,-684\"/>\n<text text-anchor=\"middle\" x=\"119.5\" y=\"-672\" font-family=\"monospace\" font-size=\"10.00\">NativeDropoutBackward0</text>\n</g>\n<!-- 135935420062720&#45;&gt;135935420067376 -->\n<g id=\"edge14\" class=\"edge\">\n<title>135935420062720&#45;&gt;135935420067376</title>\n<path fill=\"none\" stroke=\"black\" d=\"M143.6,-664.98C168.38,-656.23 207.2,-642.51 235.19,-632.62\"/>\n<polygon fill=\"black\" stroke=\"black\" points=\"236.7,-635.8 244.96,-629.17 234.37,-629.2 236.7,-635.8\"/>\n</g>\n<!-- 135935420064448 -->\n<g id=\"node17\" class=\"node\">\n<title>135935420064448</title>\n<polygon fill=\"lightgrey\" stroke=\"black\" points=\"205,-745 14,-745 14,-726 205,-726 205,-745\"/>\n<text text-anchor=\"middle\" x=\"109.5\" y=\"-733\" font-family=\"monospace\" font-size=\"10.00\">MaxPool2DWithIndicesBackward0</text>\n</g>\n<!-- 135935420064448&#45;&gt;135935420062720 -->\n<g id=\"edge15\" class=\"edge\">\n<title>135935420064448&#45;&gt;135935420062720</title>\n<path fill=\"none\" stroke=\"black\" d=\"M110.98,-725.79C112.38,-717.52 114.54,-704.79 116.33,-694.21\"/>\n<polygon fill=\"black\" stroke=\"black\" points=\"119.8,-694.69 118.02,-684.24 112.9,-693.52 119.8,-694.69\"/>\n</g>\n<!-- 135935420068864 -->\n<g id=\"node18\" class=\"node\">\n<title>135935420068864</title>\n<polygon fill=\"lightgrey\" stroke=\"black\" points=\"157,-806 62,-806 62,-787 157,-787 157,-806\"/>\n<text text-anchor=\"middle\" x=\"109.5\" y=\"-794\" font-family=\"monospace\" font-size=\"10.00\">ReluBackward0</text>\n</g>\n<!-- 135935420068864&#45;&gt;135935420064448 -->\n<g id=\"edge16\" class=\"edge\">\n<title>135935420068864&#45;&gt;135935420064448</title>\n<path fill=\"none\" stroke=\"black\" d=\"M109.5,-786.79C109.5,-778.6 109.5,-766.06 109.5,-755.55\"/>\n<polygon fill=\"black\" stroke=\"black\" points=\"113,-755.24 109.5,-745.24 106,-755.24 113,-755.24\"/>\n</g>\n<!-- 135935420059120 -->\n<g id=\"node19\" class=\"node\">\n<title>135935420059120</title>\n<polygon fill=\"lightgrey\" stroke=\"black\" points=\"178,-861 41,-861 41,-842 178,-842 178,-861\"/>\n<text text-anchor=\"middle\" x=\"109.5\" y=\"-849\" font-family=\"monospace\" font-size=\"10.00\">ConvolutionBackward0</text>\n</g>\n<!-- 135935420059120&#45;&gt;135935420068864 -->\n<g id=\"edge17\" class=\"edge\">\n<title>135935420059120&#45;&gt;135935420068864</title>\n<path fill=\"none\" stroke=\"black\" d=\"M109.5,-841.75C109.5,-834.8 109.5,-824.85 109.5,-816.13\"/>\n<polygon fill=\"black\" stroke=\"black\" points=\"113,-816.09 109.5,-806.09 106,-816.09 113,-816.09\"/>\n</g>\n<!-- 135935420059936 -->\n<g id=\"node20\" class=\"node\">\n<title>135935420059936</title>\n<polygon fill=\"lightgrey\" stroke=\"black\" points=\"101,-916 0,-916 0,-897 101,-897 101,-916\"/>\n<text text-anchor=\"middle\" x=\"50.5\" y=\"-904\" font-family=\"monospace\" font-size=\"10.00\">AccumulateGrad</text>\n</g>\n<!-- 135935420059936&#45;&gt;135935420059120 -->\n<g id=\"edge18\" class=\"edge\">\n<title>135935420059936&#45;&gt;135935420059120</title>\n<path fill=\"none\" stroke=\"black\" d=\"M59.98,-896.98C68.7,-889.15 81.84,-877.34 92.4,-867.86\"/>\n<polygon fill=\"black\" stroke=\"black\" points=\"94.75,-870.46 99.85,-861.17 90.07,-865.25 94.75,-870.46\"/>\n</g>\n<!-- 135935420093184 -->\n<g id=\"node21\" class=\"node\">\n<title>135935420093184</title>\n<polygon fill=\"lightblue\" stroke=\"black\" points=\"101,-983 0,-983 0,-952 101,-952 101,-983\"/>\n<text text-anchor=\"middle\" x=\"50.5\" y=\"-959\" font-family=\"monospace\" font-size=\"10.00\"> (16, 3, 3, 3)</text>\n</g>\n<!-- 135935420093184&#45;&gt;135935420059936 -->\n<g id=\"edge19\" class=\"edge\">\n<title>135935420093184&#45;&gt;135935420059936</title>\n<path fill=\"none\" stroke=\"black\" d=\"M50.5,-951.92C50.5,-944.22 50.5,-934.69 50.5,-926.43\"/>\n<polygon fill=\"black\" stroke=\"black\" points=\"54,-926.25 50.5,-916.25 47,-926.25 54,-926.25\"/>\n</g>\n<!-- 135935420059696 -->\n<g id=\"node22\" class=\"node\">\n<title>135935420059696</title>\n<polygon fill=\"lightgrey\" stroke=\"black\" points=\"220,-916 119,-916 119,-897 220,-897 220,-916\"/>\n<text text-anchor=\"middle\" x=\"169.5\" y=\"-904\" font-family=\"monospace\" font-size=\"10.00\">AccumulateGrad</text>\n</g>\n<!-- 135935420059696&#45;&gt;135935420059120 -->\n<g id=\"edge20\" class=\"edge\">\n<title>135935420059696&#45;&gt;135935420059120</title>\n<path fill=\"none\" stroke=\"black\" d=\"M159.86,-896.98C150.99,-889.15 137.63,-877.34 126.89,-867.86\"/>\n<polygon fill=\"black\" stroke=\"black\" points=\"129.13,-865.17 119.32,-861.17 124.49,-870.41 129.13,-865.17\"/>\n</g>\n<!-- 135935420089664 -->\n<g id=\"node23\" class=\"node\">\n<title>135935420089664</title>\n<polygon fill=\"lightblue\" stroke=\"black\" points=\"196.5,-983 142.5,-983 142.5,-952 196.5,-952 196.5,-983\"/>\n<text text-anchor=\"middle\" x=\"169.5\" y=\"-959\" font-family=\"monospace\" font-size=\"10.00\"> (16)</text>\n</g>\n<!-- 135935420089664&#45;&gt;135935420059696 -->\n<g id=\"edge21\" class=\"edge\">\n<title>135935420089664&#45;&gt;135935420059696</title>\n<path fill=\"none\" stroke=\"black\" d=\"M169.5,-951.92C169.5,-944.22 169.5,-934.69 169.5,-926.43\"/>\n<polygon fill=\"black\" stroke=\"black\" points=\"173,-926.25 169.5,-916.25 166,-926.25 173,-926.25\"/>\n</g>\n<!-- 135935420062816 -->\n<g id=\"node24\" class=\"node\">\n<title>135935420062816</title>\n<polygon fill=\"lightgrey\" stroke=\"black\" points=\"318,-684 217,-684 217,-665 318,-665 318,-684\"/>\n<text text-anchor=\"middle\" x=\"267.5\" y=\"-672\" font-family=\"monospace\" font-size=\"10.00\">AccumulateGrad</text>\n</g>\n<!-- 135935420062816&#45;&gt;135935420067376 -->\n<g id=\"edge22\" class=\"edge\">\n<title>135935420062816&#45;&gt;135935420067376</title>\n<path fill=\"none\" stroke=\"black\" d=\"M267.83,-664.75C268.09,-657.8 268.47,-647.85 268.8,-639.13\"/>\n<polygon fill=\"black\" stroke=\"black\" points=\"272.3,-639.21 269.18,-629.09 265.3,-638.95 272.3,-639.21\"/>\n</g>\n<!-- 135935420098464 -->\n<g id=\"node25\" class=\"node\">\n<title>135935420098464</title>\n<polygon fill=\"lightblue\" stroke=\"black\" points=\"324,-751 223,-751 223,-720 324,-720 324,-751\"/>\n<text text-anchor=\"middle\" x=\"273.5\" y=\"-727\" font-family=\"monospace\" font-size=\"10.00\"> (8, 16, 3, 3)</text>\n</g>\n<!-- 135935420098464&#45;&gt;135935420062816 -->\n<g id=\"edge23\" class=\"edge\">\n<title>135935420098464&#45;&gt;135935420062816</title>\n<path fill=\"none\" stroke=\"black\" d=\"M272.02,-719.92C271.23,-712.22 270.26,-702.69 269.43,-694.43\"/>\n<polygon fill=\"black\" stroke=\"black\" points=\"272.88,-693.84 268.39,-684.25 265.92,-694.55 272.88,-693.84\"/>\n</g>\n<!-- 135935420062768 -->\n<g id=\"node26\" class=\"node\">\n<title>135935420062768</title>\n<polygon fill=\"lightgrey\" stroke=\"black\" points=\"437,-684 336,-684 336,-665 437,-665 437,-684\"/>\n<text text-anchor=\"middle\" x=\"386.5\" y=\"-672\" font-family=\"monospace\" font-size=\"10.00\">AccumulateGrad</text>\n</g>\n<!-- 135935420062768&#45;&gt;135935420067376 -->\n<g id=\"edge24\" class=\"edge\">\n<title>135935420062768&#45;&gt;135935420067376</title>\n<path fill=\"none\" stroke=\"black\" d=\"M367.7,-664.98C348.88,-656.46 319.68,-643.23 298,-633.41\"/>\n<polygon fill=\"black\" stroke=\"black\" points=\"299.19,-630.11 288.64,-629.17 296.3,-636.48 299.19,-630.11\"/>\n</g>\n<!-- 135935420099424 -->\n<g id=\"node27\" class=\"node\">\n<title>135935420099424</title>\n<polygon fill=\"lightblue\" stroke=\"black\" points=\"413.5,-751 359.5,-751 359.5,-720 413.5,-720 413.5,-751\"/>\n<text text-anchor=\"middle\" x=\"386.5\" y=\"-727\" font-family=\"monospace\" font-size=\"10.00\"> (8)</text>\n</g>\n<!-- 135935420099424&#45;&gt;135935420062768 -->\n<g id=\"edge25\" class=\"edge\">\n<title>135935420099424&#45;&gt;135935420062768</title>\n<path fill=\"none\" stroke=\"black\" d=\"M386.5,-719.92C386.5,-712.22 386.5,-702.69 386.5,-694.43\"/>\n<polygon fill=\"black\" stroke=\"black\" points=\"390,-694.25 386.5,-684.25 383,-694.25 390,-694.25\"/>\n</g>\n<!-- 135935420066560 -->\n<g id=\"node28\" class=\"node\">\n<title>135935420066560</title>\n<polygon fill=\"lightgrey\" stroke=\"black\" points=\"552,-391 409,-391 409,-372 552,-372 552,-391\"/>\n<text text-anchor=\"middle\" x=\"480.5\" y=\"-379\" font-family=\"monospace\" font-size=\"10.00\">ReshapeAliasBackward0</text>\n</g>\n<!-- 135935420066560&#45;&gt;135935420063008 -->\n<g id=\"edge26\" class=\"edge\">\n<title>135935420066560&#45;&gt;135935420063008</title>\n<path fill=\"none\" stroke=\"black\" d=\"M469.58,-371.73C456.46,-361.21 434.24,-343.38 418.34,-330.62\"/>\n<polygon fill=\"black\" stroke=\"black\" points=\"420.24,-327.66 410.25,-324.13 415.86,-333.12 420.24,-327.66\"/>\n</g>\n<!-- 135935420057488 -->\n<g id=\"node29\" class=\"node\">\n<title>135935420057488</title>\n<polygon fill=\"lightgrey\" stroke=\"black\" points=\"557,-458 408,-458 408,-439 557,-439 557,-458\"/>\n<text text-anchor=\"middle\" x=\"482.5\" y=\"-446\" font-family=\"monospace\" font-size=\"10.00\">NativeDropoutBackward0</text>\n</g>\n<!-- 135935420057488&#45;&gt;135935420066560 -->\n<g id=\"edge27\" class=\"edge\">\n<title>135935420057488&#45;&gt;135935420066560</title>\n<path fill=\"none\" stroke=\"black\" d=\"M482.23,-438.73C481.94,-429.18 481.46,-413.62 481.08,-401.28\"/>\n<polygon fill=\"black\" stroke=\"black\" points=\"484.57,-401.01 480.77,-391.13 477.57,-401.23 484.57,-401.01\"/>\n</g>\n<!-- 135935420067184 -->\n<g id=\"node30\" class=\"node\">\n<title>135935420067184</title>\n<polygon fill=\"lightgrey\" stroke=\"black\" points=\"596,-519 405,-519 405,-500 596,-500 596,-519\"/>\n<text text-anchor=\"middle\" x=\"500.5\" y=\"-507\" font-family=\"monospace\" font-size=\"10.00\">MaxPool2DWithIndicesBackward0</text>\n</g>\n<!-- 135935420067184&#45;&gt;135935420057488 -->\n<g id=\"edge28\" class=\"edge\">\n<title>135935420067184&#45;&gt;135935420057488</title>\n<path fill=\"none\" stroke=\"black\" d=\"M497.84,-499.79C495.29,-491.43 491.35,-478.52 488.11,-467.88\"/>\n<polygon fill=\"black\" stroke=\"black\" points=\"491.43,-466.78 485.17,-458.24 484.74,-468.83 491.43,-466.78\"/>\n</g>\n<!-- 135935420062672 -->\n<g id=\"node31\" class=\"node\">\n<title>135935420062672</title>\n<polygon fill=\"lightgrey\" stroke=\"black\" points=\"549,-574 454,-574 454,-555 549,-555 549,-574\"/>\n<text text-anchor=\"middle\" x=\"501.5\" y=\"-562\" font-family=\"monospace\" font-size=\"10.00\">ReluBackward0</text>\n</g>\n<!-- 135935420062672&#45;&gt;135935420067184 -->\n<g id=\"edge29\" class=\"edge\">\n<title>135935420062672&#45;&gt;135935420067184</title>\n<path fill=\"none\" stroke=\"black\" d=\"M501.33,-554.75C501.2,-547.8 501.02,-537.85 500.85,-529.13\"/>\n<polygon fill=\"black\" stroke=\"black\" points=\"504.35,-529.02 500.66,-519.09 497.35,-529.15 504.35,-529.02\"/>\n</g>\n<!-- 135935420057152 -->\n<g id=\"node32\" class=\"node\">\n<title>135935420057152</title>\n<polygon fill=\"lightgrey\" stroke=\"black\" points=\"574,-629 437,-629 437,-610 574,-610 574,-629\"/>\n<text text-anchor=\"middle\" x=\"505.5\" y=\"-617\" font-family=\"monospace\" font-size=\"10.00\">ConvolutionBackward0</text>\n</g>\n<!-- 135935420057152&#45;&gt;135935420062672 -->\n<g id=\"edge30\" class=\"edge\">\n<title>135935420057152&#45;&gt;135935420062672</title>\n<path fill=\"none\" stroke=\"black\" d=\"M504.84,-609.75C504.32,-602.8 503.56,-592.85 502.91,-584.13\"/>\n<polygon fill=\"black\" stroke=\"black\" points=\"506.39,-583.8 502.15,-574.09 499.41,-584.32 506.39,-583.8\"/>\n</g>\n<!-- 135935420060944 -->\n<g id=\"node33\" class=\"node\">\n<title>135935420060944</title>\n<polygon fill=\"lightgrey\" stroke=\"black\" points=\"556,-684 455,-684 455,-665 556,-665 556,-684\"/>\n<text text-anchor=\"middle\" x=\"505.5\" y=\"-672\" font-family=\"monospace\" font-size=\"10.00\">AccumulateGrad</text>\n</g>\n<!-- 135935420060944&#45;&gt;135935420057152 -->\n<g id=\"edge31\" class=\"edge\">\n<title>135935420060944&#45;&gt;135935420057152</title>\n<path fill=\"none\" stroke=\"black\" d=\"M505.5,-664.75C505.5,-657.8 505.5,-647.85 505.5,-639.13\"/>\n<polygon fill=\"black\" stroke=\"black\" points=\"509,-639.09 505.5,-629.09 502,-639.09 509,-639.09\"/>\n</g>\n<!-- 135935419895856 -->\n<g id=\"node34\" class=\"node\">\n<title>135935419895856</title>\n<polygon fill=\"lightblue\" stroke=\"black\" points=\"556,-751 455,-751 455,-720 556,-720 556,-751\"/>\n<text text-anchor=\"middle\" x=\"505.5\" y=\"-727\" font-family=\"monospace\" font-size=\"10.00\"> (16, 3, 3, 3)</text>\n</g>\n<!-- 135935419895856&#45;&gt;135935420060944 -->\n<g id=\"edge32\" class=\"edge\">\n<title>135935419895856&#45;&gt;135935420060944</title>\n<path fill=\"none\" stroke=\"black\" d=\"M505.5,-719.92C505.5,-712.22 505.5,-702.69 505.5,-694.43\"/>\n<polygon fill=\"black\" stroke=\"black\" points=\"509,-694.25 505.5,-684.25 502,-694.25 509,-694.25\"/>\n</g>\n<!-- 135935420060656 -->\n<g id=\"node35\" class=\"node\">\n<title>135935420060656</title>\n<polygon fill=\"lightgrey\" stroke=\"black\" points=\"675,-684 574,-684 574,-665 675,-665 675,-684\"/>\n<text text-anchor=\"middle\" x=\"624.5\" y=\"-672\" font-family=\"monospace\" font-size=\"10.00\">AccumulateGrad</text>\n</g>\n<!-- 135935420060656&#45;&gt;135935420057152 -->\n<g id=\"edge33\" class=\"edge\">\n<title>135935420060656&#45;&gt;135935420057152</title>\n<path fill=\"none\" stroke=\"black\" d=\"M605.38,-664.98C586.15,-656.42 556.27,-643.11 534.19,-633.28\"/>\n<polygon fill=\"black\" stroke=\"black\" points=\"535.53,-630.04 524.97,-629.17 532.68,-636.44 535.53,-630.04\"/>\n</g>\n<!-- 135935420100544 -->\n<g id=\"node36\" class=\"node\">\n<title>135935420100544</title>\n<polygon fill=\"lightblue\" stroke=\"black\" points=\"651.5,-751 597.5,-751 597.5,-720 651.5,-720 651.5,-751\"/>\n<text text-anchor=\"middle\" x=\"624.5\" y=\"-727\" font-family=\"monospace\" font-size=\"10.00\"> (16)</text>\n</g>\n<!-- 135935420100544&#45;&gt;135935420060656 -->\n<g id=\"edge34\" class=\"edge\">\n<title>135935420100544&#45;&gt;135935420060656</title>\n<path fill=\"none\" stroke=\"black\" d=\"M624.5,-719.92C624.5,-712.22 624.5,-702.69 624.5,-694.43\"/>\n<polygon fill=\"black\" stroke=\"black\" points=\"628,-694.25 624.5,-684.25 621,-694.25 628,-694.25\"/>\n</g>\n<!-- 135935420062864 -->\n<g id=\"node37\" class=\"node\">\n<title>135935420062864</title>\n<polygon fill=\"lightgrey\" stroke=\"black\" points=\"539,-324 462,-324 462,-305 539,-305 539,-324\"/>\n<text text-anchor=\"middle\" x=\"500.5\" y=\"-312\" font-family=\"monospace\" font-size=\"10.00\">TBackward0</text>\n</g>\n<!-- 135935420062864&#45;&gt;135935420068096 -->\n<g id=\"edge35\" class=\"edge\">\n<title>135935420062864&#45;&gt;135935420068096</title>\n<path fill=\"none\" stroke=\"black\" d=\"M491.73,-304.73C481.4,-294.4 464.04,-277.04 451.33,-264.33\"/>\n<polygon fill=\"black\" stroke=\"black\" points=\"453.67,-261.72 444.13,-257.13 448.72,-266.67 453.67,-261.72\"/>\n</g>\n<!-- 135935420060800 -->\n<g id=\"node38\" class=\"node\">\n<title>135935420060800</title>\n<polygon fill=\"lightgrey\" stroke=\"black\" points=\"671,-391 570,-391 570,-372 671,-372 671,-391\"/>\n<text text-anchor=\"middle\" x=\"620.5\" y=\"-379\" font-family=\"monospace\" font-size=\"10.00\">AccumulateGrad</text>\n</g>\n<!-- 135935420060800&#45;&gt;135935420062864 -->\n<g id=\"edge36\" class=\"edge\">\n<title>135935420060800&#45;&gt;135935420062864</title>\n<path fill=\"none\" stroke=\"black\" d=\"M604.32,-371.73C584.07,-360.77 549.2,-341.88 525.51,-329.05\"/>\n<polygon fill=\"black\" stroke=\"black\" points=\"526.89,-325.81 516.43,-324.13 523.55,-331.97 526.89,-325.81\"/>\n</g>\n<!-- 135935581638864 -->\n<g id=\"node39\" class=\"node\">\n<title>135935581638864</title>\n<polygon fill=\"lightblue\" stroke=\"black\" points=\"665,-464 576,-464 576,-433 665,-433 665,-464\"/>\n<text text-anchor=\"middle\" x=\"620.5\" y=\"-440\" font-family=\"monospace\" font-size=\"10.00\"> (512, 7200)</text>\n</g>\n<!-- 135935581638864&#45;&gt;135935420060800 -->\n<g id=\"edge37\" class=\"edge\">\n<title>135935581638864&#45;&gt;135935420060800</title>\n<path fill=\"none\" stroke=\"black\" d=\"M620.5,-432.75C620.5,-423.39 620.5,-411.19 620.5,-401.16\"/>\n<polygon fill=\"black\" stroke=\"black\" points=\"624,-401.02 620.5,-391.02 617,-401.02 624,-401.02\"/>\n</g>\n<!-- 135935420059792 -->\n<g id=\"node40\" class=\"node\">\n<title>135935420059792</title>\n<polygon fill=\"lightgrey\" stroke=\"black\" points=\"591,-196 514,-196 514,-177 591,-177 591,-196\"/>\n<text text-anchor=\"middle\" x=\"552.5\" y=\"-184\" font-family=\"monospace\" font-size=\"10.00\">TBackward0</text>\n</g>\n<!-- 135935420059792&#45;&gt;135935420056672 -->\n<g id=\"edge38\" class=\"edge\">\n<title>135935420059792&#45;&gt;135935420056672</title>\n<path fill=\"none\" stroke=\"black\" d=\"M534.51,-176.98C516.57,-168.5 488.78,-155.35 468.07,-145.54\"/>\n<polygon fill=\"black\" stroke=\"black\" points=\"469.36,-142.28 458.82,-141.17 466.36,-148.61 469.36,-142.28\"/>\n</g>\n<!-- 135935420065216 -->\n<g id=\"node41\" class=\"node\">\n<title>135935420065216</title>\n<polygon fill=\"lightgrey\" stroke=\"black\" points=\"607,-257 506,-257 506,-238 607,-238 607,-257\"/>\n<text text-anchor=\"middle\" x=\"556.5\" y=\"-245\" font-family=\"monospace\" font-size=\"10.00\">AccumulateGrad</text>\n</g>\n<!-- 135935420065216&#45;&gt;135935420059792 -->\n<g id=\"edge39\" class=\"edge\">\n<title>135935420065216&#45;&gt;135935420059792</title>\n<path fill=\"none\" stroke=\"black\" d=\"M555.91,-237.79C555.35,-229.6 554.5,-217.06 553.79,-206.55\"/>\n<polygon fill=\"black\" stroke=\"black\" points=\"557.26,-205.98 553.09,-196.24 550.28,-206.46 557.26,-205.98\"/>\n</g>\n<!-- 135935420089824 -->\n<g id=\"node42\" class=\"node\">\n<title>135935420089824</title>\n<polygon fill=\"lightblue\" stroke=\"black\" points=\"628,-330 557,-330 557,-299 628,-299 628,-330\"/>\n<text text-anchor=\"middle\" x=\"592.5\" y=\"-306\" font-family=\"monospace\" font-size=\"10.00\"> (4, 512)</text>\n</g>\n<!-- 135935420089824&#45;&gt;135935420065216 -->\n<g id=\"edge40\" class=\"edge\">\n<title>135935420089824&#45;&gt;135935420065216</title>\n<path fill=\"none\" stroke=\"black\" d=\"M584.33,-298.75C578.92,-288.99 571.81,-276.14 566.12,-265.88\"/>\n<polygon fill=\"black\" stroke=\"black\" points=\"569.12,-264.07 561.22,-257.02 563,-267.46 569.12,-264.07\"/>\n</g>\n</g>\n</svg>\n",
            "text/plain": [
              "<graphviz.graphs.Digraph at 0x7ba1ee606ef0>"
            ]
          },
          "metadata": {},
          "execution_count": 14
        }
      ]
    }
  ]
}