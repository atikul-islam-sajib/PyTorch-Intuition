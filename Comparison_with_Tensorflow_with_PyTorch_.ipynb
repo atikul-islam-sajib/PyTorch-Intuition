{
  "nbformat": 4,
  "nbformat_minor": 0,
  "metadata": {
    "colab": {
      "provenance": []
    },
    "kernelspec": {
      "name": "python3",
      "display_name": "Python 3"
    },
    "language_info": {
      "name": "python"
    }
  },
  "cells": [
    {
      "cell_type": "markdown",
      "source": [
        "#TensorFlow"
      ],
      "metadata": {
        "id": "WYOw6DMtebeS"
      }
    },
    {
      "cell_type": "code",
      "source": [
        "##### Import all necessity functions for Machine Learning #####\n",
        "import sys\n",
        "import math\n",
        "import string\n",
        "import numpy as np\n",
        "import pandas as pd\n",
        "import seaborn as sns\n",
        "import matplotlib.pyplot as plt\n",
        "import scipy as shc\n",
        "import warnings\n",
        "import zipfile\n",
        "import cv2\n",
        "import os\n",
        "import re\n",
        "import nltk\n",
        "import random\n",
        "import requests\n",
        "from bs4 import BeautifulSoup\n",
        "import re\n",
        "from collections import Counter\n",
        "from functools import reduce\n",
        "from itertools import chain\n",
        "from wordcloud import WordCloud\n",
        "from google.colab.patches import cv2_imshow\n",
        "from keras.preprocessing import image\n",
        "from sklearn.metrics._plot.confusion_matrix import confusion_matrix\n",
        "from sklearn.model_selection import train_test_split, KFold, StratifiedKFold, GridSearchCV, RandomizedSearchCV\n",
        "from sklearn.preprocessing import StandardScaler, RobustScaler, MinMaxScaler\n",
        "from sklearn.decomposition import PCA\n",
        "from sklearn.cluster import KMeans, DBSCAN, AgglomerativeClustering\n",
        "from sklearn.feature_selection import mutual_info_classif, mutual_info_regression, SelectKBest, chi2, VarianceThreshold\n",
        "from imblearn.under_sampling import RandomUnderSampler, NearMiss\n",
        "from imblearn.over_sampling import RandomOverSampler, SMOTE, SMOTEN, SMOTENC, SVMSMOTE, KMeansSMOTE, BorderlineSMOTE, ADASYN\n",
        "from imblearn.ensemble import EasyEnsembleClassifier\n",
        "from sklearn.feature_extraction.text import CountVectorizer, TfidfVectorizer\n",
        "from sklearn.naive_bayes import GaussianNB, BernoulliNB, MultinomialNB\n",
        "from sklearn.neighbors import KNeighborsClassifier, KNeighborsRegressor, NearestNeighbors\n",
        "from sklearn.linear_model import LinearRegression, LogisticRegression, SGDClassifier, SGDRegressor, Perceptron\n",
        "from sklearn.neural_network import MLPClassifier, MLPRegressor\n",
        "from sklearn.svm import SVC, SVR\n",
        "from sklearn.tree import DecisionTreeClassifier, DecisionTreeRegressor, ExtraTreeClassifier, ExtraTreeRegressor\n",
        "from sklearn.ensemble import BaggingClassifier, BaggingRegressor, RandomForestClassifier, RandomForestRegressor, VotingClassifier, VotingRegressor\n",
        "from sklearn.ensemble import AdaBoostClassifier, AdaBoostRegressor, GradientBoostingClassifier, GradientBoostingRegressor, StackingClassifier, StackingRegressor\n",
        "from sklearn.metrics import classification_report, mean_absolute_error, mean_squared_error, r2_score, accuracy_score, recall_score, precision_score, f1_score, silhouette_score\n",
        "from xgboost import XGBClassifier, XGBRegressor\n",
        "\n",
        "##### Download keras #####\n",
        "!pip install keras\n",
        "\n",
        "##### Remove all warnings #####\n",
        "import warnings\n",
        "warnings.filterwarnings(\"ignore\")\n",
        "\n",
        "##### Import all necessity functions for Neural Network #####\n",
        "import tensorflow as tf\n",
        "from keras.models import Sequential, Model\n",
        "from keras.utils import plot_model\n",
        "from keras.layers import Dense, Conv2D, LSTM, GRU, RNN, Flatten, AvgPool2D, MaxPool2D, GlobalAveragePooling2D, BatchNormalization, Dropout, LeakyReLU, ELU, PReLU,  Embedding\n",
        "from keras.activations import tanh, relu, sigmoid, softmax, swish\n",
        "from keras.regularizers import L1, L2, L1L2\n",
        "from keras.optimizers import SGD, Adagrad, Adadelta, RMSprop, Adam, Adamax, Nadam\n",
        "from keras.initializers import HeNormal, HeUniform, GlorotNormal, GlorotUniform\n",
        "from keras.losses import SparseCategoricalCrossentropy, CategoricalCrossentropy, hinge, MSE, MAE, Huber, BinaryCrossentropy\n",
        "import keras.utils as image\n",
        "from google.colab.patches import cv2_imshow\n",
        "from keras.utils import plot_model\n",
        "\n",
        "##### Plotting the confusion matrix #####\n",
        "from mlxtend.evaluate import confusion_matrix\n",
        "from mlxtend.plotting import plot_confusion_matrix\n",
        "from sklearn.metrics import multilabel_confusion_matrix\n",
        "from sklearn.metrics import confusion_matrix\n",
        "\n",
        "###### NLP Libraries ######\n",
        "\n",
        "from nltk.corpus import stopwords\n",
        "from nltk.tokenize import word_tokenize, sent_tokenize\n",
        "from nltk.stem.porter import PorterStemmer\n",
        "from nltk.stem import WordNetLemmatizer\n",
        "\n",
        "###### Download functions for nltk ######\n",
        "\n",
        "nltk.download('stopwords')\n",
        "nltk.download('punkt')\n",
        "nltk.download('wordnet')\n",
        "nltk.download('omw-1.4')"
      ],
      "metadata": {
        "colab": {
          "base_uri": "https://localhost:8080/"
        },
        "id": "BA4MRc6beewv",
        "outputId": "bb2d1ad8-5a64-41b1-af3b-b55aaf4808be"
      },
      "execution_count": 1,
      "outputs": [
        {
          "output_type": "stream",
          "name": "stdout",
          "text": [
            "Requirement already satisfied: keras in /usr/local/lib/python3.10/dist-packages (2.12.0)\n"
          ]
        },
        {
          "output_type": "stream",
          "name": "stderr",
          "text": [
            "[nltk_data] Downloading package stopwords to /root/nltk_data...\n",
            "[nltk_data]   Package stopwords is already up-to-date!\n",
            "[nltk_data] Downloading package punkt to /root/nltk_data...\n",
            "[nltk_data]   Package punkt is already up-to-date!\n",
            "[nltk_data] Downloading package wordnet to /root/nltk_data...\n",
            "[nltk_data]   Package wordnet is already up-to-date!\n",
            "[nltk_data] Downloading package omw-1.4 to /root/nltk_data...\n",
            "[nltk_data]   Package omw-1.4 is already up-to-date!\n"
          ]
        },
        {
          "output_type": "execute_result",
          "data": {
            "text/plain": [
              "True"
            ]
          },
          "metadata": {},
          "execution_count": 1
        }
      ]
    },
    {
      "cell_type": "markdown",
      "source": [
        "####Load the dataset"
      ],
      "metadata": {
        "id": "vwY0ZxTIe15n"
      }
    },
    {
      "cell_type": "code",
      "source": [
        "df = pd.read_csv('/content/diabetes.csv')\n",
        "df.head()"
      ],
      "metadata": {
        "colab": {
          "base_uri": "https://localhost:8080/",
          "height": 206
        },
        "id": "inBhvj9peezO",
        "outputId": "0bca9ca7-efd7-4f5b-cdf9-5c2bee4999dc"
      },
      "execution_count": 2,
      "outputs": [
        {
          "output_type": "execute_result",
          "data": {
            "text/plain": [
              "   Pregnancies  Glucose  BloodPressure  SkinThickness  Insulin   BMI  \\\n",
              "0            6      148             72             35        0  33.6   \n",
              "1            1       85             66             29        0  26.6   \n",
              "2            8      183             64              0        0  23.3   \n",
              "3            1       89             66             23       94  28.1   \n",
              "4            0      137             40             35      168  43.1   \n",
              "\n",
              "   DiabetesPedigreeFunction  Age  Outcome  \n",
              "0                     0.627   50        1  \n",
              "1                     0.351   31        0  \n",
              "2                     0.672   32        1  \n",
              "3                     0.167   21        0  \n",
              "4                     2.288   33        1  "
            ],
            "text/html": [
              "\n",
              "\n",
              "  <div id=\"df-52eac021-55f9-44f7-8d41-1dfa11f946af\">\n",
              "    <div class=\"colab-df-container\">\n",
              "      <div>\n",
              "<style scoped>\n",
              "    .dataframe tbody tr th:only-of-type {\n",
              "        vertical-align: middle;\n",
              "    }\n",
              "\n",
              "    .dataframe tbody tr th {\n",
              "        vertical-align: top;\n",
              "    }\n",
              "\n",
              "    .dataframe thead th {\n",
              "        text-align: right;\n",
              "    }\n",
              "</style>\n",
              "<table border=\"1\" class=\"dataframe\">\n",
              "  <thead>\n",
              "    <tr style=\"text-align: right;\">\n",
              "      <th></th>\n",
              "      <th>Pregnancies</th>\n",
              "      <th>Glucose</th>\n",
              "      <th>BloodPressure</th>\n",
              "      <th>SkinThickness</th>\n",
              "      <th>Insulin</th>\n",
              "      <th>BMI</th>\n",
              "      <th>DiabetesPedigreeFunction</th>\n",
              "      <th>Age</th>\n",
              "      <th>Outcome</th>\n",
              "    </tr>\n",
              "  </thead>\n",
              "  <tbody>\n",
              "    <tr>\n",
              "      <th>0</th>\n",
              "      <td>6</td>\n",
              "      <td>148</td>\n",
              "      <td>72</td>\n",
              "      <td>35</td>\n",
              "      <td>0</td>\n",
              "      <td>33.6</td>\n",
              "      <td>0.627</td>\n",
              "      <td>50</td>\n",
              "      <td>1</td>\n",
              "    </tr>\n",
              "    <tr>\n",
              "      <th>1</th>\n",
              "      <td>1</td>\n",
              "      <td>85</td>\n",
              "      <td>66</td>\n",
              "      <td>29</td>\n",
              "      <td>0</td>\n",
              "      <td>26.6</td>\n",
              "      <td>0.351</td>\n",
              "      <td>31</td>\n",
              "      <td>0</td>\n",
              "    </tr>\n",
              "    <tr>\n",
              "      <th>2</th>\n",
              "      <td>8</td>\n",
              "      <td>183</td>\n",
              "      <td>64</td>\n",
              "      <td>0</td>\n",
              "      <td>0</td>\n",
              "      <td>23.3</td>\n",
              "      <td>0.672</td>\n",
              "      <td>32</td>\n",
              "      <td>1</td>\n",
              "    </tr>\n",
              "    <tr>\n",
              "      <th>3</th>\n",
              "      <td>1</td>\n",
              "      <td>89</td>\n",
              "      <td>66</td>\n",
              "      <td>23</td>\n",
              "      <td>94</td>\n",
              "      <td>28.1</td>\n",
              "      <td>0.167</td>\n",
              "      <td>21</td>\n",
              "      <td>0</td>\n",
              "    </tr>\n",
              "    <tr>\n",
              "      <th>4</th>\n",
              "      <td>0</td>\n",
              "      <td>137</td>\n",
              "      <td>40</td>\n",
              "      <td>35</td>\n",
              "      <td>168</td>\n",
              "      <td>43.1</td>\n",
              "      <td>2.288</td>\n",
              "      <td>33</td>\n",
              "      <td>1</td>\n",
              "    </tr>\n",
              "  </tbody>\n",
              "</table>\n",
              "</div>\n",
              "      <button class=\"colab-df-convert\" onclick=\"convertToInteractive('df-52eac021-55f9-44f7-8d41-1dfa11f946af')\"\n",
              "              title=\"Convert this dataframe to an interactive table.\"\n",
              "              style=\"display:none;\">\n",
              "\n",
              "  <svg xmlns=\"http://www.w3.org/2000/svg\" height=\"24px\"viewBox=\"0 0 24 24\"\n",
              "       width=\"24px\">\n",
              "    <path d=\"M0 0h24v24H0V0z\" fill=\"none\"/>\n",
              "    <path d=\"M18.56 5.44l.94 2.06.94-2.06 2.06-.94-2.06-.94-.94-2.06-.94 2.06-2.06.94zm-11 1L8.5 8.5l.94-2.06 2.06-.94-2.06-.94L8.5 2.5l-.94 2.06-2.06.94zm10 10l.94 2.06.94-2.06 2.06-.94-2.06-.94-.94-2.06-.94 2.06-2.06.94z\"/><path d=\"M17.41 7.96l-1.37-1.37c-.4-.4-.92-.59-1.43-.59-.52 0-1.04.2-1.43.59L10.3 9.45l-7.72 7.72c-.78.78-.78 2.05 0 2.83L4 21.41c.39.39.9.59 1.41.59.51 0 1.02-.2 1.41-.59l7.78-7.78 2.81-2.81c.8-.78.8-2.07 0-2.86zM5.41 20L4 18.59l7.72-7.72 1.47 1.35L5.41 20z\"/>\n",
              "  </svg>\n",
              "      </button>\n",
              "\n",
              "\n",
              "\n",
              "    <div id=\"df-bbbe922b-5636-440e-8b97-e0d678c7c2fe\">\n",
              "      <button class=\"colab-df-quickchart\" onclick=\"quickchart('df-bbbe922b-5636-440e-8b97-e0d678c7c2fe')\"\n",
              "              title=\"Suggest charts.\"\n",
              "              style=\"display:none;\">\n",
              "\n",
              "<svg xmlns=\"http://www.w3.org/2000/svg\" height=\"24px\"viewBox=\"0 0 24 24\"\n",
              "     width=\"24px\">\n",
              "    <g>\n",
              "        <path d=\"M19 3H5c-1.1 0-2 .9-2 2v14c0 1.1.9 2 2 2h14c1.1 0 2-.9 2-2V5c0-1.1-.9-2-2-2zM9 17H7v-7h2v7zm4 0h-2V7h2v10zm4 0h-2v-4h2v4z\"/>\n",
              "    </g>\n",
              "</svg>\n",
              "      </button>\n",
              "    </div>\n",
              "\n",
              "<style>\n",
              "  .colab-df-quickchart {\n",
              "    background-color: #E8F0FE;\n",
              "    border: none;\n",
              "    border-radius: 50%;\n",
              "    cursor: pointer;\n",
              "    display: none;\n",
              "    fill: #1967D2;\n",
              "    height: 32px;\n",
              "    padding: 0 0 0 0;\n",
              "    width: 32px;\n",
              "  }\n",
              "\n",
              "  .colab-df-quickchart:hover {\n",
              "    background-color: #E2EBFA;\n",
              "    box-shadow: 0px 1px 2px rgba(60, 64, 67, 0.3), 0px 1px 3px 1px rgba(60, 64, 67, 0.15);\n",
              "    fill: #174EA6;\n",
              "  }\n",
              "\n",
              "  [theme=dark] .colab-df-quickchart {\n",
              "    background-color: #3B4455;\n",
              "    fill: #D2E3FC;\n",
              "  }\n",
              "\n",
              "  [theme=dark] .colab-df-quickchart:hover {\n",
              "    background-color: #434B5C;\n",
              "    box-shadow: 0px 1px 3px 1px rgba(0, 0, 0, 0.15);\n",
              "    filter: drop-shadow(0px 1px 2px rgba(0, 0, 0, 0.3));\n",
              "    fill: #FFFFFF;\n",
              "  }\n",
              "</style>\n",
              "\n",
              "    <script>\n",
              "      async function quickchart(key) {\n",
              "        const containerElement = document.querySelector('#' + key);\n",
              "        const charts = await google.colab.kernel.invokeFunction(\n",
              "            'suggestCharts', [key], {});\n",
              "      }\n",
              "    </script>\n",
              "\n",
              "      <script>\n",
              "\n",
              "function displayQuickchartButton(domScope) {\n",
              "  let quickchartButtonEl =\n",
              "    domScope.querySelector('#df-bbbe922b-5636-440e-8b97-e0d678c7c2fe button.colab-df-quickchart');\n",
              "  quickchartButtonEl.style.display =\n",
              "    google.colab.kernel.accessAllowed ? 'block' : 'none';\n",
              "}\n",
              "\n",
              "        displayQuickchartButton(document);\n",
              "      </script>\n",
              "      <style>\n",
              "    .colab-df-container {\n",
              "      display:flex;\n",
              "      flex-wrap:wrap;\n",
              "      gap: 12px;\n",
              "    }\n",
              "\n",
              "    .colab-df-convert {\n",
              "      background-color: #E8F0FE;\n",
              "      border: none;\n",
              "      border-radius: 50%;\n",
              "      cursor: pointer;\n",
              "      display: none;\n",
              "      fill: #1967D2;\n",
              "      height: 32px;\n",
              "      padding: 0 0 0 0;\n",
              "      width: 32px;\n",
              "    }\n",
              "\n",
              "    .colab-df-convert:hover {\n",
              "      background-color: #E2EBFA;\n",
              "      box-shadow: 0px 1px 2px rgba(60, 64, 67, 0.3), 0px 1px 3px 1px rgba(60, 64, 67, 0.15);\n",
              "      fill: #174EA6;\n",
              "    }\n",
              "\n",
              "    [theme=dark] .colab-df-convert {\n",
              "      background-color: #3B4455;\n",
              "      fill: #D2E3FC;\n",
              "    }\n",
              "\n",
              "    [theme=dark] .colab-df-convert:hover {\n",
              "      background-color: #434B5C;\n",
              "      box-shadow: 0px 1px 3px 1px rgba(0, 0, 0, 0.15);\n",
              "      filter: drop-shadow(0px 1px 2px rgba(0, 0, 0, 0.3));\n",
              "      fill: #FFFFFF;\n",
              "    }\n",
              "  </style>\n",
              "\n",
              "      <script>\n",
              "        const buttonEl =\n",
              "          document.querySelector('#df-52eac021-55f9-44f7-8d41-1dfa11f946af button.colab-df-convert');\n",
              "        buttonEl.style.display =\n",
              "          google.colab.kernel.accessAllowed ? 'block' : 'none';\n",
              "\n",
              "        async function convertToInteractive(key) {\n",
              "          const element = document.querySelector('#df-52eac021-55f9-44f7-8d41-1dfa11f946af');\n",
              "          const dataTable =\n",
              "            await google.colab.kernel.invokeFunction('convertToInteractive',\n",
              "                                                     [key], {});\n",
              "          if (!dataTable) return;\n",
              "\n",
              "          const docLinkHtml = 'Like what you see? Visit the ' +\n",
              "            '<a target=\"_blank\" href=https://colab.research.google.com/notebooks/data_table.ipynb>data table notebook</a>'\n",
              "            + ' to learn more about interactive tables.';\n",
              "          element.innerHTML = '';\n",
              "          dataTable['output_type'] = 'display_data';\n",
              "          await google.colab.output.renderOutput(dataTable, element);\n",
              "          const docLink = document.createElement('div');\n",
              "          docLink.innerHTML = docLinkHtml;\n",
              "          element.appendChild(docLink);\n",
              "        }\n",
              "      </script>\n",
              "    </div>\n",
              "  </div>\n"
            ]
          },
          "metadata": {},
          "execution_count": 2
        }
      ]
    },
    {
      "cell_type": "markdown",
      "source": [
        "####Split the dataset into train and testing"
      ],
      "metadata": {
        "id": "r_yBOE7Je86g"
      }
    },
    {
      "cell_type": "code",
      "source": [
        "X = df.iloc[:, :-1].values\n",
        "y = df.iloc[:, -1].values\n",
        "\n",
        "X_train, X_test, y_train, y_test = train_test_split(X,\\\n",
        "                                                    y,\\\n",
        "                                                    test_size = 0.25,\\\n",
        "                                                    random_state = 42)\n",
        "\n",
        "print(\"The shape of X_train is = {}\".format(X_train.shape),'\\n')\n",
        "print(\"The shape of X_test is  = {}\".format(X_test.shape),'\\n')\n",
        "print(\"The shape of y_train is = {}\".format(y_train.shape),'\\n')\n",
        "print(\"The shape of y_test  is = {}\".format(X_test.shape))"
      ],
      "metadata": {
        "colab": {
          "base_uri": "https://localhost:8080/"
        },
        "id": "HQHTmbzNee1y",
        "outputId": "d8ce7094-4593-4c09-8148-d8442a395f76"
      },
      "execution_count": 3,
      "outputs": [
        {
          "output_type": "stream",
          "name": "stdout",
          "text": [
            "The shape of X_train is = (576, 8) \n",
            "\n",
            "The shape of X_test is  = (192, 8) \n",
            "\n",
            "The shape of y_train is = (576,) \n",
            "\n",
            "The shape of y_test  is = (192, 8)\n"
          ]
        }
      ]
    },
    {
      "cell_type": "markdown",
      "source": [
        "####Do the Standard Scaler"
      ],
      "metadata": {
        "id": "h3sDLOMg2ebY"
      }
    },
    {
      "cell_type": "code",
      "source": [
        "# standard_scaler = StandardScaler()\n",
        "# X_train = standard_scaler.fit_transform(X_train)"
      ],
      "metadata": {
        "id": "dbNUNTLY2gzP"
      },
      "execution_count": 4,
      "outputs": []
    },
    {
      "cell_type": "code",
      "source": [
        "# X_test = standard_scaler.transform(X_test)"
      ],
      "metadata": {
        "id": "ae85fv7l2rjT"
      },
      "execution_count": 5,
      "outputs": []
    },
    {
      "cell_type": "markdown",
      "source": [
        "####Create the Sequential Model with TensorFlow & Keras"
      ],
      "metadata": {
        "id": "tOHpI_cWfkN4"
      }
    },
    {
      "cell_type": "code",
      "source": [
        "model = Sequential()\n",
        "\"\"\"Create the first hidden layer\"\"\"\n",
        "model.add(Dense(units = 64,\\\n",
        "                kernel_initializer = 'he_normal',\\\n",
        "                activation = 'relu',\\\n",
        "                input_shape = X_train.shape[1:]))\n",
        "\"\"\"Create the second hidden layer\"\"\"\n",
        "model.add(Dense(units = 32,\\\n",
        "                kernel_initializer = 'he_normal',\\\n",
        "                activation = 'relu'))\n",
        "\"\"\"Create the output layer\"\"\"\n",
        "model.add(Dense(units = 1,\\\n",
        "                kernel_initializer = 'glorot_uniform',\\\n",
        "                activation = 'sigmoid'))\n",
        "\"\"\"Compile the Neural Network\"\"\"\n",
        "model.compile(optimizer = Adam(learning_rate = 0.001),\\\n",
        "              loss = BinaryCrossentropy(),\\\n",
        "              metrics = ['accuracy'])"
      ],
      "metadata": {
        "id": "sfzLfcuuee4Q"
      },
      "execution_count": 6,
      "outputs": []
    },
    {
      "cell_type": "code",
      "source": [
        "\"\"\"Display the model summary\"\"\"\n",
        "model.summary()"
      ],
      "metadata": {
        "colab": {
          "base_uri": "https://localhost:8080/"
        },
        "id": "J05LjeGvee6V",
        "outputId": "ce5f162d-51a1-4157-be47-fcc7f5e59b39"
      },
      "execution_count": 7,
      "outputs": [
        {
          "output_type": "stream",
          "name": "stdout",
          "text": [
            "Model: \"sequential\"\n",
            "_________________________________________________________________\n",
            " Layer (type)                Output Shape              Param #   \n",
            "=================================================================\n",
            " dense (Dense)               (None, 64)                576       \n",
            "                                                                 \n",
            " dense_1 (Dense)             (None, 32)                2080      \n",
            "                                                                 \n",
            " dense_2 (Dense)             (None, 1)                 33        \n",
            "                                                                 \n",
            "=================================================================\n",
            "Total params: 2,689\n",
            "Trainable params: 2,689\n",
            "Non-trainable params: 0\n",
            "_________________________________________________________________\n"
          ]
        }
      ]
    },
    {
      "cell_type": "code",
      "source": [
        "\"\"\"Run the model with\n",
        "    EPOCH: 100\n",
        "    batch_size: 16\n",
        "\"\"\"\n",
        "history = model.fit(x = X_train,\\\n",
        "                    y = y_train,\\\n",
        "                    epochs = 100,\\\n",
        "                    batch_size = 32,\\\n",
        "                    validation_data = (X_test, y_test),\\\n",
        "                    verbose = 1)"
      ],
      "metadata": {
        "colab": {
          "base_uri": "https://localhost:8080/"
        },
        "id": "-vnJLMP2g9c6",
        "outputId": "8a8908b2-1993-4b9b-d274-add98a19082e"
      },
      "execution_count": 8,
      "outputs": [
        {
          "output_type": "stream",
          "name": "stdout",
          "text": [
            "Epoch 1/100\n",
            "18/18 [==============================] - 2s 21ms/step - loss: 9.6009 - accuracy: 0.5087 - val_loss: 5.5968 - val_accuracy: 0.5365\n",
            "Epoch 2/100\n",
            "18/18 [==============================] - 0s 7ms/step - loss: 4.1222 - accuracy: 0.6059 - val_loss: 3.0825 - val_accuracy: 0.5938\n",
            "Epoch 3/100\n",
            "18/18 [==============================] - 0s 7ms/step - loss: 3.0454 - accuracy: 0.5729 - val_loss: 2.9449 - val_accuracy: 0.6250\n",
            "Epoch 4/100\n",
            "18/18 [==============================] - 0s 6ms/step - loss: 2.1611 - accuracy: 0.6042 - val_loss: 2.0984 - val_accuracy: 0.6458\n",
            "Epoch 5/100\n",
            "18/18 [==============================] - 0s 5ms/step - loss: 1.4903 - accuracy: 0.6424 - val_loss: 1.8041 - val_accuracy: 0.5990\n",
            "Epoch 6/100\n",
            "18/18 [==============================] - 0s 5ms/step - loss: 1.3006 - accuracy: 0.6198 - val_loss: 1.7531 - val_accuracy: 0.6510\n",
            "Epoch 7/100\n",
            "18/18 [==============================] - 0s 5ms/step - loss: 1.3050 - accuracy: 0.6215 - val_loss: 1.6135 - val_accuracy: 0.6615\n",
            "Epoch 8/100\n",
            "18/18 [==============================] - 0s 5ms/step - loss: 1.0955 - accuracy: 0.6615 - val_loss: 1.3678 - val_accuracy: 0.6615\n",
            "Epoch 9/100\n",
            "18/18 [==============================] - 0s 5ms/step - loss: 1.0107 - accuracy: 0.6701 - val_loss: 1.6746 - val_accuracy: 0.6406\n",
            "Epoch 10/100\n",
            "18/18 [==============================] - 0s 5ms/step - loss: 1.0190 - accuracy: 0.6458 - val_loss: 1.1970 - val_accuracy: 0.6719\n",
            "Epoch 11/100\n",
            "18/18 [==============================] - 0s 5ms/step - loss: 0.8544 - accuracy: 0.6892 - val_loss: 1.1780 - val_accuracy: 0.6406\n",
            "Epoch 12/100\n",
            "18/18 [==============================] - 0s 5ms/step - loss: 0.8581 - accuracy: 0.6823 - val_loss: 1.1191 - val_accuracy: 0.6094\n",
            "Epoch 13/100\n",
            "18/18 [==============================] - 0s 5ms/step - loss: 0.7380 - accuracy: 0.6944 - val_loss: 1.0291 - val_accuracy: 0.6510\n",
            "Epoch 14/100\n",
            "18/18 [==============================] - 0s 5ms/step - loss: 0.7545 - accuracy: 0.6944 - val_loss: 1.1290 - val_accuracy: 0.6510\n",
            "Epoch 15/100\n",
            "18/18 [==============================] - 0s 5ms/step - loss: 0.8378 - accuracy: 0.6840 - val_loss: 1.1728 - val_accuracy: 0.6458\n",
            "Epoch 16/100\n",
            "18/18 [==============================] - 0s 4ms/step - loss: 0.7639 - accuracy: 0.6806 - val_loss: 1.1932 - val_accuracy: 0.6042\n",
            "Epoch 17/100\n",
            "18/18 [==============================] - 0s 5ms/step - loss: 0.7827 - accuracy: 0.6736 - val_loss: 0.9690 - val_accuracy: 0.6667\n",
            "Epoch 18/100\n",
            "18/18 [==============================] - 0s 16ms/step - loss: 0.6438 - accuracy: 0.7205 - val_loss: 0.9505 - val_accuracy: 0.6719\n",
            "Epoch 19/100\n",
            "18/18 [==============================] - 0s 8ms/step - loss: 0.6002 - accuracy: 0.7378 - val_loss: 0.9746 - val_accuracy: 0.6927\n",
            "Epoch 20/100\n",
            "18/18 [==============================] - 0s 8ms/step - loss: 0.7552 - accuracy: 0.6840 - val_loss: 1.2053 - val_accuracy: 0.6719\n",
            "Epoch 21/100\n",
            "18/18 [==============================] - 0s 8ms/step - loss: 0.8530 - accuracy: 0.6944 - val_loss: 0.9421 - val_accuracy: 0.6823\n",
            "Epoch 22/100\n",
            "18/18 [==============================] - 0s 7ms/step - loss: 0.6536 - accuracy: 0.7240 - val_loss: 0.9503 - val_accuracy: 0.6615\n",
            "Epoch 23/100\n",
            "18/18 [==============================] - 0s 8ms/step - loss: 0.5966 - accuracy: 0.7292 - val_loss: 0.9796 - val_accuracy: 0.6875\n",
            "Epoch 24/100\n",
            "18/18 [==============================] - 0s 7ms/step - loss: 0.6263 - accuracy: 0.7240 - val_loss: 0.9558 - val_accuracy: 0.6875\n",
            "Epoch 25/100\n",
            "18/18 [==============================] - 0s 10ms/step - loss: 0.6135 - accuracy: 0.7257 - val_loss: 0.8983 - val_accuracy: 0.6771\n",
            "Epoch 26/100\n",
            "18/18 [==============================] - 0s 7ms/step - loss: 0.6302 - accuracy: 0.7240 - val_loss: 1.1650 - val_accuracy: 0.6354\n",
            "Epoch 27/100\n",
            "18/18 [==============================] - 0s 7ms/step - loss: 0.8027 - accuracy: 0.6806 - val_loss: 1.0406 - val_accuracy: 0.6771\n",
            "Epoch 28/100\n",
            "18/18 [==============================] - 0s 9ms/step - loss: 0.6501 - accuracy: 0.7222 - val_loss: 0.9198 - val_accuracy: 0.6667\n",
            "Epoch 29/100\n",
            "18/18 [==============================] - 0s 10ms/step - loss: 0.5605 - accuracy: 0.7205 - val_loss: 0.9974 - val_accuracy: 0.5833\n",
            "Epoch 30/100\n",
            "18/18 [==============================] - 0s 8ms/step - loss: 0.6511 - accuracy: 0.7309 - val_loss: 1.0343 - val_accuracy: 0.5938\n",
            "Epoch 31/100\n",
            "18/18 [==============================] - 0s 10ms/step - loss: 0.6171 - accuracy: 0.7153 - val_loss: 1.0208 - val_accuracy: 0.6510\n",
            "Epoch 32/100\n",
            "18/18 [==============================] - 0s 13ms/step - loss: 0.5658 - accuracy: 0.7309 - val_loss: 1.0991 - val_accuracy: 0.6823\n",
            "Epoch 33/100\n",
            "18/18 [==============================] - 0s 7ms/step - loss: 1.0270 - accuracy: 0.6736 - val_loss: 1.6456 - val_accuracy: 0.4479\n",
            "Epoch 34/100\n",
            "18/18 [==============================] - 0s 8ms/step - loss: 0.7605 - accuracy: 0.6910 - val_loss: 1.0988 - val_accuracy: 0.6875\n",
            "Epoch 35/100\n",
            "18/18 [==============================] - 0s 9ms/step - loss: 0.7083 - accuracy: 0.7031 - val_loss: 1.1251 - val_accuracy: 0.6510\n",
            "Epoch 36/100\n",
            "18/18 [==============================] - 0s 14ms/step - loss: 0.6295 - accuracy: 0.7274 - val_loss: 1.0775 - val_accuracy: 0.6198\n",
            "Epoch 37/100\n",
            "18/18 [==============================] - 0s 9ms/step - loss: 0.6034 - accuracy: 0.7222 - val_loss: 0.9805 - val_accuracy: 0.6094\n",
            "Epoch 38/100\n",
            "18/18 [==============================] - 0s 10ms/step - loss: 0.6055 - accuracy: 0.7344 - val_loss: 1.0575 - val_accuracy: 0.6979\n",
            "Epoch 39/100\n",
            "18/18 [==============================] - 0s 9ms/step - loss: 0.7104 - accuracy: 0.6892 - val_loss: 1.2279 - val_accuracy: 0.5885\n",
            "Epoch 40/100\n",
            "18/18 [==============================] - 0s 8ms/step - loss: 0.6540 - accuracy: 0.7222 - val_loss: 0.9675 - val_accuracy: 0.6927\n",
            "Epoch 41/100\n",
            "18/18 [==============================] - 0s 7ms/step - loss: 0.6439 - accuracy: 0.7274 - val_loss: 1.2730 - val_accuracy: 0.6458\n",
            "Epoch 42/100\n",
            "18/18 [==============================] - 0s 10ms/step - loss: 0.6176 - accuracy: 0.7622 - val_loss: 0.9617 - val_accuracy: 0.6250\n",
            "Epoch 43/100\n",
            "18/18 [==============================] - 0s 10ms/step - loss: 0.6490 - accuracy: 0.7031 - val_loss: 0.9098 - val_accuracy: 0.6615\n",
            "Epoch 44/100\n",
            "18/18 [==============================] - 0s 7ms/step - loss: 0.6155 - accuracy: 0.7274 - val_loss: 0.8659 - val_accuracy: 0.6771\n",
            "Epoch 45/100\n",
            "18/18 [==============================] - 0s 10ms/step - loss: 0.6247 - accuracy: 0.7240 - val_loss: 0.9891 - val_accuracy: 0.6615\n",
            "Epoch 46/100\n",
            "18/18 [==============================] - 0s 19ms/step - loss: 0.6350 - accuracy: 0.7188 - val_loss: 1.0111 - val_accuracy: 0.6354\n",
            "Epoch 47/100\n",
            "18/18 [==============================] - 0s 18ms/step - loss: 0.5920 - accuracy: 0.7222 - val_loss: 0.9728 - val_accuracy: 0.6562\n",
            "Epoch 48/100\n",
            "18/18 [==============================] - 0s 21ms/step - loss: 0.5741 - accuracy: 0.7292 - val_loss: 0.8734 - val_accuracy: 0.6615\n",
            "Epoch 49/100\n",
            "18/18 [==============================] - 0s 23ms/step - loss: 0.5272 - accuracy: 0.7378 - val_loss: 1.0165 - val_accuracy: 0.6667\n",
            "Epoch 50/100\n",
            "18/18 [==============================] - 0s 16ms/step - loss: 0.5663 - accuracy: 0.7604 - val_loss: 1.0373 - val_accuracy: 0.6562\n",
            "Epoch 51/100\n",
            "18/18 [==============================] - 0s 13ms/step - loss: 0.6027 - accuracy: 0.7361 - val_loss: 0.8755 - val_accuracy: 0.6875\n",
            "Epoch 52/100\n",
            "18/18 [==============================] - 0s 18ms/step - loss: 0.5208 - accuracy: 0.7674 - val_loss: 1.3485 - val_accuracy: 0.6979\n",
            "Epoch 53/100\n",
            "18/18 [==============================] - 0s 18ms/step - loss: 0.6502 - accuracy: 0.7222 - val_loss: 0.8958 - val_accuracy: 0.6146\n",
            "Epoch 54/100\n",
            "18/18 [==============================] - 0s 19ms/step - loss: 0.6105 - accuracy: 0.7257 - val_loss: 1.0440 - val_accuracy: 0.5573\n",
            "Epoch 55/100\n",
            "18/18 [==============================] - 0s 20ms/step - loss: 0.5446 - accuracy: 0.7569 - val_loss: 0.8907 - val_accuracy: 0.7083\n",
            "Epoch 56/100\n",
            "18/18 [==============================] - 0s 15ms/step - loss: 0.5133 - accuracy: 0.7622 - val_loss: 0.9033 - val_accuracy: 0.6875\n",
            "Epoch 57/100\n",
            "18/18 [==============================] - 0s 12ms/step - loss: 0.4799 - accuracy: 0.7917 - val_loss: 0.8770 - val_accuracy: 0.6927\n",
            "Epoch 58/100\n",
            "18/18 [==============================] - 0s 21ms/step - loss: 0.5420 - accuracy: 0.7517 - val_loss: 0.8735 - val_accuracy: 0.6562\n",
            "Epoch 59/100\n",
            "18/18 [==============================] - 0s 13ms/step - loss: 0.5270 - accuracy: 0.7604 - val_loss: 0.9686 - val_accuracy: 0.6667\n",
            "Epoch 60/100\n",
            "18/18 [==============================] - 0s 17ms/step - loss: 0.5185 - accuracy: 0.7604 - val_loss: 0.9717 - val_accuracy: 0.6667\n",
            "Epoch 61/100\n",
            "18/18 [==============================] - 0s 12ms/step - loss: 0.5647 - accuracy: 0.7413 - val_loss: 0.8490 - val_accuracy: 0.6719\n",
            "Epoch 62/100\n",
            "18/18 [==============================] - 0s 9ms/step - loss: 0.4813 - accuracy: 0.7778 - val_loss: 0.9376 - val_accuracy: 0.6146\n",
            "Epoch 63/100\n",
            "18/18 [==============================] - 0s 8ms/step - loss: 0.5459 - accuracy: 0.7500 - val_loss: 0.8653 - val_accuracy: 0.6875\n",
            "Epoch 64/100\n",
            "18/18 [==============================] - 0s 8ms/step - loss: 0.5119 - accuracy: 0.7760 - val_loss: 0.8790 - val_accuracy: 0.6198\n",
            "Epoch 65/100\n",
            "18/18 [==============================] - 0s 9ms/step - loss: 0.5166 - accuracy: 0.7431 - val_loss: 0.8341 - val_accuracy: 0.6979\n",
            "Epoch 66/100\n",
            "18/18 [==============================] - 0s 9ms/step - loss: 0.5943 - accuracy: 0.7344 - val_loss: 1.0546 - val_accuracy: 0.6406\n",
            "Epoch 67/100\n",
            "18/18 [==============================] - 0s 7ms/step - loss: 0.5199 - accuracy: 0.7517 - val_loss: 0.9396 - val_accuracy: 0.6667\n",
            "Epoch 68/100\n",
            "18/18 [==============================] - 0s 11ms/step - loss: 0.5301 - accuracy: 0.7465 - val_loss: 0.8760 - val_accuracy: 0.6615\n",
            "Epoch 69/100\n",
            "18/18 [==============================] - 0s 8ms/step - loss: 0.5025 - accuracy: 0.7691 - val_loss: 0.9092 - val_accuracy: 0.6302\n",
            "Epoch 70/100\n",
            "18/18 [==============================] - 0s 10ms/step - loss: 0.5166 - accuracy: 0.7413 - val_loss: 0.8842 - val_accuracy: 0.6719\n",
            "Epoch 71/100\n",
            "18/18 [==============================] - 0s 10ms/step - loss: 0.4916 - accuracy: 0.7587 - val_loss: 0.8524 - val_accuracy: 0.6667\n",
            "Epoch 72/100\n",
            "18/18 [==============================] - 0s 11ms/step - loss: 0.5112 - accuracy: 0.7639 - val_loss: 0.9992 - val_accuracy: 0.6719\n",
            "Epoch 73/100\n",
            "18/18 [==============================] - 0s 8ms/step - loss: 0.5341 - accuracy: 0.7656 - val_loss: 0.8280 - val_accuracy: 0.7135\n",
            "Epoch 74/100\n",
            "18/18 [==============================] - 0s 7ms/step - loss: 0.4717 - accuracy: 0.7569 - val_loss: 0.8207 - val_accuracy: 0.7031\n",
            "Epoch 75/100\n",
            "18/18 [==============================] - 0s 11ms/step - loss: 0.5436 - accuracy: 0.7500 - val_loss: 0.8475 - val_accuracy: 0.6979\n",
            "Epoch 76/100\n",
            "18/18 [==============================] - 0s 11ms/step - loss: 0.4787 - accuracy: 0.7639 - val_loss: 0.8983 - val_accuracy: 0.6354\n",
            "Epoch 77/100\n",
            "18/18 [==============================] - 0s 8ms/step - loss: 0.5697 - accuracy: 0.7396 - val_loss: 0.9716 - val_accuracy: 0.6719\n",
            "Epoch 78/100\n",
            "18/18 [==============================] - 0s 10ms/step - loss: 0.5635 - accuracy: 0.7535 - val_loss: 0.8362 - val_accuracy: 0.7188\n",
            "Epoch 79/100\n",
            "18/18 [==============================] - 0s 13ms/step - loss: 0.5224 - accuracy: 0.7604 - val_loss: 0.8597 - val_accuracy: 0.6354\n",
            "Epoch 80/100\n",
            "18/18 [==============================] - 0s 8ms/step - loss: 0.4828 - accuracy: 0.7882 - val_loss: 0.8522 - val_accuracy: 0.6562\n",
            "Epoch 81/100\n",
            "18/18 [==============================] - 0s 8ms/step - loss: 0.4895 - accuracy: 0.7760 - val_loss: 0.9267 - val_accuracy: 0.6667\n",
            "Epoch 82/100\n",
            "18/18 [==============================] - 0s 7ms/step - loss: 0.5766 - accuracy: 0.7326 - val_loss: 1.0443 - val_accuracy: 0.6354\n",
            "Epoch 83/100\n",
            "18/18 [==============================] - 0s 6ms/step - loss: 0.5401 - accuracy: 0.7639 - val_loss: 0.8710 - val_accuracy: 0.6562\n",
            "Epoch 84/100\n",
            "18/18 [==============================] - 0s 12ms/step - loss: 0.5069 - accuracy: 0.7726 - val_loss: 0.9141 - val_accuracy: 0.6354\n",
            "Epoch 85/100\n",
            "18/18 [==============================] - 0s 7ms/step - loss: 0.4637 - accuracy: 0.7760 - val_loss: 0.9013 - val_accuracy: 0.6771\n",
            "Epoch 86/100\n",
            "18/18 [==============================] - 0s 6ms/step - loss: 0.5438 - accuracy: 0.7604 - val_loss: 1.0219 - val_accuracy: 0.6719\n",
            "Epoch 87/100\n",
            "18/18 [==============================] - 0s 7ms/step - loss: 0.5628 - accuracy: 0.7448 - val_loss: 0.8552 - val_accuracy: 0.6458\n",
            "Epoch 88/100\n",
            "18/18 [==============================] - 0s 7ms/step - loss: 0.5524 - accuracy: 0.7535 - val_loss: 1.0388 - val_accuracy: 0.6615\n",
            "Epoch 89/100\n",
            "18/18 [==============================] - 0s 11ms/step - loss: 0.5117 - accuracy: 0.7622 - val_loss: 0.8791 - val_accuracy: 0.6771\n",
            "Epoch 90/100\n",
            "18/18 [==============================] - 0s 10ms/step - loss: 0.4720 - accuracy: 0.7812 - val_loss: 0.8741 - val_accuracy: 0.6615\n",
            "Epoch 91/100\n",
            "18/18 [==============================] - 0s 10ms/step - loss: 0.4687 - accuracy: 0.7812 - val_loss: 0.8326 - val_accuracy: 0.6823\n",
            "Epoch 92/100\n",
            "18/18 [==============================] - 0s 8ms/step - loss: 0.4896 - accuracy: 0.7830 - val_loss: 0.8479 - val_accuracy: 0.6458\n",
            "Epoch 93/100\n",
            "18/18 [==============================] - 0s 9ms/step - loss: 0.5211 - accuracy: 0.7535 - val_loss: 1.1038 - val_accuracy: 0.5573\n",
            "Epoch 94/100\n",
            "18/18 [==============================] - 0s 10ms/step - loss: 0.6815 - accuracy: 0.7135 - val_loss: 1.0386 - val_accuracy: 0.6719\n",
            "Epoch 95/100\n",
            "18/18 [==============================] - 0s 9ms/step - loss: 0.7144 - accuracy: 0.7066 - val_loss: 0.9795 - val_accuracy: 0.6615\n",
            "Epoch 96/100\n",
            "18/18 [==============================] - 0s 8ms/step - loss: 0.6773 - accuracy: 0.7118 - val_loss: 1.2615 - val_accuracy: 0.6458\n",
            "Epoch 97/100\n",
            "18/18 [==============================] - 0s 8ms/step - loss: 0.4697 - accuracy: 0.7760 - val_loss: 0.9620 - val_accuracy: 0.6719\n",
            "Epoch 98/100\n",
            "18/18 [==============================] - 0s 6ms/step - loss: 0.4646 - accuracy: 0.7899 - val_loss: 0.8669 - val_accuracy: 0.6771\n",
            "Epoch 99/100\n",
            "18/18 [==============================] - 0s 6ms/step - loss: 0.4957 - accuracy: 0.7569 - val_loss: 0.9044 - val_accuracy: 0.6615\n",
            "Epoch 100/100\n",
            "18/18 [==============================] - 0s 7ms/step - loss: 0.4954 - accuracy: 0.7743 - val_loss: 1.0186 - val_accuracy: 0.5938\n"
          ]
        }
      ]
    },
    {
      "cell_type": "code",
      "source": [
        "\"\"\"Make the prediction\"\"\"\n",
        "predicted = np.where(model.predict(X_test) > 0.5, 1, 0)\n",
        "\n",
        "print(\"accuracy  ## {}\".upper().format(accuracy_score(predicted, y_test)),'\\n')\n",
        "print(\"precision ## {}\".upper().format(precision_score(predicted, y_test)),'\\n')\n",
        "print(\"recall    ## {}\".upper().format(recall_score(predicted, y_test)),'\\n')\n",
        "print(\"f1_score  ## {}\".upper().format(f1_score(predicted, y_test)))"
      ],
      "metadata": {
        "colab": {
          "base_uri": "https://localhost:8080/"
        },
        "id": "VRhutv46g9gV",
        "outputId": "a15a1f86-2ba5-4320-f6d6-6098dd51ae0a"
      },
      "execution_count": 9,
      "outputs": [
        {
          "output_type": "stream",
          "name": "stdout",
          "text": [
            "6/6 [==============================] - 0s 3ms/step\n",
            "ACCURACY  ## 0.59375 \n",
            "\n",
            "PRECISION ## 0.7536231884057971 \n",
            "\n",
            "RECALL    ## 0.46017699115044247 \n",
            "\n",
            "F1_SCORE  ## 0.5714285714285714\n"
          ]
        }
      ]
    },
    {
      "cell_type": "code",
      "source": [
        "plt.plot(history.history['loss'], label = 'train loss')\n",
        "plt.plot(history.history['val_loss'], label = 'test loss')\n",
        "plt.legend()\n",
        "plt.show()"
      ],
      "metadata": {
        "colab": {
          "base_uri": "https://localhost:8080/",
          "height": 433
        },
        "id": "tLoR5e8Ree94",
        "outputId": "da14f013-3110-4d06-dd60-c8fb82ff6ab0"
      },
      "execution_count": 10,
      "outputs": [
        {
          "output_type": "display_data",
          "data": {
            "text/plain": [
              "<Figure size 640x480 with 1 Axes>"
            ],
            "image/png": "[encoded data removed]"
          },
          "metadata": {}
        }
      ]
    },
    {
      "cell_type": "code",
      "source": [
        "plt.plot(history.history['accuracy'], label = 'train accuracy')\n",
        "plt.plot(history.history['val_accuracy'], label = 'test accuracy')\n",
        "plt.legend()\n",
        "plt.show()"
      ],
      "metadata": {
        "colab": {
          "base_uri": "https://localhost:8080/",
          "height": 430
        },
        "id": "klfyUnimi3Gx",
        "outputId": "3d4ecf07-4750-4741-e72d-8bd1e089b3e8"
      },
      "execution_count": 11,
      "outputs": [
        {
          "output_type": "display_data",
          "data": {
            "text/plain": [
              "<Figure size 640x480 with 1 Axes>"
            ],
            "image/png": "[encoded data removed]"
          },
          "metadata": {}
        }
      ]
    },
    {
      "cell_type": "markdown",
      "source": [
        "#PyTorch Implementation"
      ],
      "metadata": {
        "id": "9mwra6mhi_6b"
      }
    },
    {
      "cell_type": "code",
      "source": [
        "X = df.iloc[:, :-1].values\n",
        "y = df.iloc[:, -1].values"
      ],
      "metadata": {
        "id": "9pgjj-_9jCLP"
      },
      "execution_count": 12,
      "outputs": []
    },
    {
      "cell_type": "code",
      "source": [
        "#Import some of the crucial library\n",
        "import torch\n",
        "from torch.utils.data import Dataset, DataLoader\n",
        "import torch.nn as nn\n",
        "import torch.optim as optim"
      ],
      "metadata": {
        "id": "sHNpxcr_jCOK"
      },
      "execution_count": 13,
      "outputs": []
    },
    {
      "cell_type": "code",
      "source": [
        "\"\"\"Make this data as a torch Float\"\"\"\n",
        "X_float = torch.tensor(data = X, dtype = torch.float32)\n",
        "y_float = torch.tensor(data = y, dtype = torch.float32)"
      ],
      "metadata": {
        "id": "-RhYkBTdjCRu"
      },
      "execution_count": 14,
      "outputs": []
    },
    {
      "cell_type": "code",
      "source": [
        "X_float"
      ],
      "metadata": {
        "colab": {
          "base_uri": "https://localhost:8080/"
        },
        "id": "nBZdzArJjY8T",
        "outputId": "f0549468-06e1-4e3b-da61-e9ef6aa50350"
      },
      "execution_count": 15,
      "outputs": [
        {
          "output_type": "execute_result",
          "data": {
            "text/plain": [
              "tensor([[  6.0000, 148.0000,  72.0000,  ...,  33.6000,   0.6270,  50.0000],\n",
              "        [  1.0000,  85.0000,  66.0000,  ...,  26.6000,   0.3510,  31.0000],\n",
              "        [  8.0000, 183.0000,  64.0000,  ...,  23.3000,   0.6720,  32.0000],\n",
              "        ...,\n",
              "        [  5.0000, 121.0000,  72.0000,  ...,  26.2000,   0.2450,  30.0000],\n",
              "        [  1.0000, 126.0000,  60.0000,  ...,  30.1000,   0.3490,  47.0000],\n",
              "        [  1.0000,  93.0000,  70.0000,  ...,  30.4000,   0.3150,  23.0000]])"
            ]
          },
          "metadata": {},
          "execution_count": 15
        }
      ]
    },
    {
      "cell_type": "code",
      "source": [
        "y_float"
      ],
      "metadata": {
        "colab": {
          "base_uri": "https://localhost:8080/"
        },
        "id": "ReTw422ykEcm",
        "outputId": "8d269514-5728-40d2-9ed2-5e3ed720fe9b"
      },
      "execution_count": 16,
      "outputs": [
        {
          "output_type": "execute_result",
          "data": {
            "text/plain": [
              "tensor([1., 0., 1., 0., 1., 0., 1., 0., 1., 1., 0., 1., 0., 1., 1., 1., 1., 1.,\n",
              "        0., 1., 0., 0., 1., 1., 1., 1., 1., 0., 0., 0., 0., 1., 0., 0., 0., 0.,\n",
              "        0., 1., 1., 1., 0., 0., 0., 1., 0., 1., 0., 0., 1., 0., 0., 0., 0., 1.,\n",
              "        0., 0., 1., 0., 0., 0., 0., 1., 0., 0., 1., 0., 1., 0., 0., 0., 1., 0.,\n",
              "        1., 0., 0., 0., 0., 0., 1., 0., 0., 0., 0., 0., 1., 0., 0., 0., 1., 0.,\n",
              "        0., 0., 0., 1., 0., 0., 0., 0., 0., 1., 1., 0., 0., 0., 0., 0., 0., 0.,\n",
              "        0., 1., 1., 1., 0., 0., 1., 1., 1., 0., 0., 0., 1., 0., 0., 0., 1., 1.,\n",
              "        0., 0., 1., 1., 1., 1., 1., 0., 0., 0., 0., 0., 0., 0., 0., 0., 0., 1.,\n",
              "        0., 0., 0., 0., 0., 0., 0., 0., 1., 0., 1., 1., 0., 0., 0., 1., 0., 0.,\n",
              "        0., 0., 1., 1., 0., 0., 0., 0., 1., 1., 0., 0., 0., 1., 0., 1., 0., 1.,\n",
              "        0., 0., 0., 0., 0., 1., 1., 1., 1., 1., 0., 0., 1., 1., 0., 1., 0., 1.,\n",
              "        1., 1., 0., 0., 0., 0., 0., 0., 1., 1., 0., 1., 0., 0., 0., 1., 1., 1.,\n",
              "        1., 0., 1., 1., 1., 1., 0., 0., 0., 0., 0., 1., 0., 0., 1., 1., 0., 0.,\n",
              "        0., 1., 1., 1., 1., 0., 0., 0., 1., 1., 0., 1., 0., 0., 0., 0., 0., 0.,\n",
              "        0., 0., 1., 1., 0., 0., 0., 1., 0., 1., 0., 0., 1., 0., 1., 0., 0., 1.,\n",
              "        1., 0., 0., 0., 0., 0., 1., 0., 0., 0., 1., 0., 0., 1., 1., 0., 0., 1.,\n",
              "        0., 0., 0., 1., 1., 1., 0., 0., 1., 0., 1., 0., 1., 1., 0., 1., 0., 0.,\n",
              "        1., 0., 1., 1., 0., 0., 1., 0., 1., 0., 0., 1., 0., 1., 0., 1., 1., 1.,\n",
              "        0., 0., 1., 0., 1., 0., 0., 0., 1., 0., 0., 0., 0., 1., 1., 1., 0., 0.,\n",
              "        0., 0., 0., 0., 0., 0., 0., 1., 0., 0., 0., 0., 0., 1., 1., 1., 0., 1.,\n",
              "        1., 0., 0., 1., 0., 0., 1., 0., 0., 1., 1., 0., 0., 0., 0., 1., 0., 0.,\n",
              "        1., 0., 0., 0., 0., 0., 0., 0., 1., 1., 1., 0., 0., 1., 0., 0., 1., 0.,\n",
              "        0., 1., 0., 1., 1., 0., 1., 0., 1., 0., 1., 0., 1., 1., 0., 0., 0., 0.,\n",
              "        1., 1., 0., 1., 0., 1., 0., 0., 0., 0., 1., 1., 0., 1., 0., 1., 0., 0.,\n",
              "        0., 0., 0., 1., 0., 0., 0., 0., 1., 0., 0., 1., 1., 1., 0., 0., 1., 0.,\n",
              "        0., 1., 0., 0., 0., 1., 0., 0., 1., 0., 0., 0., 0., 0., 0., 0., 0., 0.,\n",
              "        1., 0., 0., 0., 0., 0., 0., 0., 1., 0., 0., 0., 1., 0., 0., 0., 1., 1.,\n",
              "        0., 0., 0., 0., 0., 0., 0., 1., 0., 0., 0., 0., 1., 0., 0., 0., 1., 0.,\n",
              "        0., 0., 1., 0., 0., 0., 1., 0., 0., 0., 0., 1., 1., 0., 0., 0., 0., 0.,\n",
              "        0., 1., 0., 0., 0., 0., 0., 0., 0., 0., 0., 0., 0., 1., 0., 0., 0., 1.,\n",
              "        1., 1., 1., 0., 0., 1., 1., 0., 0., 0., 0., 0., 0., 0., 0., 0., 0., 0.,\n",
              "        0., 0., 1., 1., 0., 0., 0., 0., 0., 0., 0., 1., 0., 0., 0., 0., 0., 0.,\n",
              "        0., 1., 0., 1., 1., 0., 0., 0., 1., 0., 1., 0., 1., 0., 1., 0., 1., 0.,\n",
              "        0., 1., 0., 0., 1., 0., 0., 0., 0., 1., 1., 0., 1., 0., 0., 0., 0., 1.,\n",
              "        1., 0., 1., 0., 0., 0., 1., 1., 0., 0., 0., 0., 0., 0., 0., 0., 0., 0.,\n",
              "        1., 0., 0., 0., 0., 1., 0., 0., 1., 0., 0., 0., 1., 0., 0., 0., 1., 1.,\n",
              "        1., 0., 0., 0., 0., 0., 0., 1., 0., 0., 0., 1., 0., 1., 1., 1., 1., 0.,\n",
              "        1., 1., 0., 0., 0., 0., 0., 0., 0., 1., 1., 0., 1., 0., 0., 1., 0., 1.,\n",
              "        0., 0., 0., 0., 0., 1., 0., 1., 0., 1., 0., 1., 1., 0., 0., 0., 0., 1.,\n",
              "        1., 0., 0., 0., 1., 0., 1., 1., 0., 0., 1., 0., 0., 1., 1., 0., 0., 1.,\n",
              "        0., 0., 1., 0., 0., 0., 0., 0., 0., 0., 1., 1., 1., 0., 0., 0., 0., 0.,\n",
              "        0., 1., 1., 0., 0., 1., 0., 0., 1., 0., 1., 1., 1., 0., 0., 1., 1., 1.,\n",
              "        0., 1., 0., 1., 0., 1., 0., 0., 0., 0., 1., 0.])"
            ]
          },
          "metadata": {},
          "execution_count": 16
        }
      ]
    },
    {
      "cell_type": "code",
      "source": [
        "\"\"\"Split the dataset with train & test\"\"\"\n",
        "X_train, X_test, y_train, y_test = train_test_split(X_float,\\\n",
        "                                                    y_float,\\\n",
        "                                                    test_size = 0.25,\\\n",
        "                                                    random_state = 42)\n",
        "\n",
        "print(\"The shape of X_train is = {}\".format(X_train.shape),'\\n')\n",
        "print(\"The shape of X_test is  = {}\".format(X_test.shape),'\\n')\n",
        "print(\"The shape of y_train is = {}\".format(y_train.shape),'\\n')\n",
        "print(\"The shape of y_test  is = {}\".format(y_test.shape))"
      ],
      "metadata": {
        "colab": {
          "base_uri": "https://localhost:8080/"
        },
        "id": "ixD5kmefj6vn",
        "outputId": "d97b3f30-8a3e-4fbf-f612-d6c0d6b78046"
      },
      "execution_count": 17,
      "outputs": [
        {
          "output_type": "stream",
          "name": "stdout",
          "text": [
            "The shape of X_train is = torch.Size([576, 8]) \n",
            "\n",
            "The shape of X_test is  = torch.Size([192, 8]) \n",
            "\n",
            "The shape of y_train is = torch.Size([576]) \n",
            "\n",
            "The shape of y_test  is = torch.Size([192])\n"
          ]
        }
      ]
    },
    {
      "cell_type": "markdown",
      "source": [
        "####Do the scaling using Standard scaling"
      ],
      "metadata": {
        "id": "2Io1mE8j3OHc"
      }
    },
    {
      "cell_type": "code",
      "source": [
        "# X_train = standard_scaler.fit_transform(X_train)\n",
        "# X_test  = standard_scaler.transform(X_test)"
      ],
      "metadata": {
        "id": "z3FRqZPZ3CGU"
      },
      "execution_count": 18,
      "outputs": []
    },
    {
      "cell_type": "code",
      "source": [
        "X_train.shape[1]"
      ],
      "metadata": {
        "colab": {
          "base_uri": "https://localhost:8080/"
        },
        "id": "I1GKla-elOuh",
        "outputId": "2ced17a1-4bca-47f9-cb70-8e8671c3baf3"
      },
      "execution_count": 19,
      "outputs": [
        {
          "output_type": "execute_result",
          "data": {
            "text/plain": [
              "8"
            ]
          },
          "metadata": {},
          "execution_count": 19
        }
      ]
    },
    {
      "cell_type": "code",
      "source": [
        "\"\"\"Initialize the DataLoader with batch_size::16\"\"\"\n",
        "loader = DataLoader(dataset = list(zip(X_train, y_train)),\\\n",
        "                    batch_size = 32,\\\n",
        "                    shuffle = True)\n",
        "\n",
        "print(\"The batch size is {}\".format(loader.batch_size))"
      ],
      "metadata": {
        "colab": {
          "base_uri": "https://localhost:8080/"
        },
        "id": "MBAuA7Pmpq_B",
        "outputId": "27443682-144f-4b5f-b4e6-3d90f366c39c"
      },
      "execution_count": 20,
      "outputs": [
        {
          "output_type": "stream",
          "name": "stdout",
          "text": [
            "The batch size is 32\n"
          ]
        }
      ]
    },
    {
      "cell_type": "code",
      "source": [
        "data, labels = next(iter(loader))"
      ],
      "metadata": {
        "id": "GQ8F2_ofp9Dy"
      },
      "execution_count": 21,
      "outputs": []
    },
    {
      "cell_type": "code",
      "source": [
        "data"
      ],
      "metadata": {
        "colab": {
          "base_uri": "https://localhost:8080/"
        },
        "id": "HrLeEP5LqD66",
        "outputId": "10677173-5931-49c9-90dd-2aed1c75e4b1"
      },
      "execution_count": 22,
      "outputs": [
        {
          "output_type": "execute_result",
          "data": {
            "text/plain": [
              "tensor([[4.0000e+00, 1.4500e+02, 8.2000e+01, 1.8000e+01, 0.0000e+00, 3.2500e+01,\n",
              "         2.3500e-01, 7.0000e+01],\n",
              "        [5.0000e+00, 1.3900e+02, 6.4000e+01, 3.5000e+01, 1.4000e+02, 2.8600e+01,\n",
              "         4.1100e-01, 2.6000e+01],\n",
              "        [3.0000e+00, 1.2800e+02, 7.8000e+01, 0.0000e+00, 0.0000e+00, 2.1100e+01,\n",
              "         2.6800e-01, 5.5000e+01],\n",
              "        [7.0000e+00, 1.2500e+02, 8.6000e+01, 0.0000e+00, 0.0000e+00, 3.7600e+01,\n",
              "         3.0400e-01, 5.1000e+01],\n",
              "        [8.0000e+00, 1.8800e+02, 7.8000e+01, 0.0000e+00, 0.0000e+00, 4.7900e+01,\n",
              "         1.3700e-01, 4.3000e+01],\n",
              "        [2.0000e+00, 1.2200e+02, 6.0000e+01, 1.8000e+01, 1.0600e+02, 2.9800e+01,\n",
              "         7.1700e-01, 2.2000e+01],\n",
              "        [3.0000e+00, 1.4200e+02, 8.0000e+01, 1.5000e+01, 0.0000e+00, 3.2400e+01,\n",
              "         2.0000e-01, 6.3000e+01],\n",
              "        [0.0000e+00, 1.2400e+02, 7.0000e+01, 2.0000e+01, 0.0000e+00, 2.7400e+01,\n",
              "         2.5400e-01, 3.6000e+01],\n",
              "        [1.5000e+01, 1.3600e+02, 7.0000e+01, 3.2000e+01, 1.1000e+02, 3.7100e+01,\n",
              "         1.5300e-01, 4.3000e+01],\n",
              "        [2.0000e+00, 1.2200e+02, 7.6000e+01, 2.7000e+01, 2.0000e+02, 3.5900e+01,\n",
              "         4.8300e-01, 2.6000e+01],\n",
              "        [2.0000e+00, 1.2900e+02, 8.4000e+01, 0.0000e+00, 0.0000e+00, 2.8000e+01,\n",
              "         2.8400e-01, 2.7000e+01],\n",
              "        [7.0000e+00, 1.6800e+02, 8.8000e+01, 4.2000e+01, 3.2100e+02, 3.8200e+01,\n",
              "         7.8700e-01, 4.0000e+01],\n",
              "        [0.0000e+00, 9.3000e+01, 1.0000e+02, 3.9000e+01, 7.2000e+01, 4.3400e+01,\n",
              "         1.0210e+00, 3.5000e+01],\n",
              "        [3.0000e+00, 8.2000e+01, 7.0000e+01, 0.0000e+00, 0.0000e+00, 2.1100e+01,\n",
              "         3.8900e-01, 2.5000e+01],\n",
              "        [6.0000e+00, 1.3400e+02, 7.0000e+01, 2.3000e+01, 1.3000e+02, 3.5400e+01,\n",
              "         5.4200e-01, 2.9000e+01],\n",
              "        [2.0000e+00, 1.2700e+02, 4.6000e+01, 2.1000e+01, 3.3500e+02, 3.4400e+01,\n",
              "         1.7600e-01, 2.2000e+01],\n",
              "        [1.0000e+00, 1.3300e+02, 1.0200e+02, 2.8000e+01, 1.4000e+02, 3.2800e+01,\n",
              "         2.3400e-01, 4.5000e+01],\n",
              "        [1.0000e+00, 9.1000e+01, 6.4000e+01, 2.4000e+01, 0.0000e+00, 2.9200e+01,\n",
              "         1.9200e-01, 2.1000e+01],\n",
              "        [0.0000e+00, 1.3700e+02, 8.4000e+01, 2.7000e+01, 0.0000e+00, 2.7300e+01,\n",
              "         2.3100e-01, 5.9000e+01],\n",
              "        [1.0000e+00, 1.8100e+02, 6.4000e+01, 3.0000e+01, 1.8000e+02, 3.4100e+01,\n",
              "         3.2800e-01, 3.8000e+01],\n",
              "        [6.0000e+00, 1.4800e+02, 7.2000e+01, 3.5000e+01, 0.0000e+00, 3.3600e+01,\n",
              "         6.2700e-01, 5.0000e+01],\n",
              "        [1.0000e+00, 8.1000e+01, 7.2000e+01, 1.8000e+01, 4.0000e+01, 2.6600e+01,\n",
              "         2.8300e-01, 2.4000e+01],\n",
              "        [0.0000e+00, 9.9000e+01, 0.0000e+00, 0.0000e+00, 0.0000e+00, 2.5000e+01,\n",
              "         2.5300e-01, 2.2000e+01],\n",
              "        [1.0000e+00, 1.2600e+02, 6.0000e+01, 0.0000e+00, 0.0000e+00, 3.0100e+01,\n",
              "         3.4900e-01, 4.7000e+01],\n",
              "        [0.0000e+00, 1.5100e+02, 9.0000e+01, 4.6000e+01, 0.0000e+00, 4.2100e+01,\n",
              "         3.7100e-01, 2.1000e+01],\n",
              "        [5.0000e+00, 1.4400e+02, 8.2000e+01, 2.6000e+01, 2.8500e+02, 3.2000e+01,\n",
              "         4.5200e-01, 5.8000e+01],\n",
              "        [7.0000e+00, 1.1400e+02, 6.4000e+01, 0.0000e+00, 0.0000e+00, 2.7400e+01,\n",
              "         7.3200e-01, 3.4000e+01],\n",
              "        [3.0000e+00, 7.8000e+01, 7.0000e+01, 0.0000e+00, 0.0000e+00, 3.2500e+01,\n",
              "         2.7000e-01, 3.9000e+01],\n",
              "        [4.0000e+00, 9.5000e+01, 6.0000e+01, 3.2000e+01, 0.0000e+00, 3.5400e+01,\n",
              "         2.8400e-01, 2.8000e+01],\n",
              "        [1.1000e+01, 1.2000e+02, 8.0000e+01, 3.7000e+01, 1.5000e+02, 4.2300e+01,\n",
              "         7.8500e-01, 4.8000e+01],\n",
              "        [6.0000e+00, 9.2000e+01, 6.2000e+01, 3.2000e+01, 1.2600e+02, 3.2000e+01,\n",
              "         8.5000e-02, 4.6000e+01],\n",
              "        [3.0000e+00, 1.9300e+02, 7.0000e+01, 3.1000e+01, 0.0000e+00, 3.4900e+01,\n",
              "         2.4100e-01, 2.5000e+01]])"
            ]
          },
          "metadata": {},
          "execution_count": 22
        }
      ]
    },
    {
      "cell_type": "code",
      "source": [
        "labels"
      ],
      "metadata": {
        "colab": {
          "base_uri": "https://localhost:8080/"
        },
        "id": "D4AAKhwyqFB7",
        "outputId": "c860090d-506a-4e34-d414-108fde0d6c0a"
      },
      "execution_count": 23,
      "outputs": [
        {
          "output_type": "execute_result",
          "data": {
            "text/plain": [
              "tensor([1., 0., 0., 0., 1., 0., 0., 1., 1., 0., 0., 1., 0., 0., 1., 0., 1., 0.,\n",
              "        0., 1., 1., 0., 0., 1., 1., 1., 1., 0., 0., 1., 0., 1.])"
            ]
          },
          "metadata": {},
          "execution_count": 23
        }
      ]
    },
    {
      "cell_type": "code",
      "source": [
        "data.shape, labels.shape"
      ],
      "metadata": {
        "colab": {
          "base_uri": "https://localhost:8080/"
        },
        "id": "EVBTdXeTqHHi",
        "outputId": "43d1351b-1447-453f-be00-93573e15f647"
      },
      "execution_count": 24,
      "outputs": [
        {
          "output_type": "execute_result",
          "data": {
            "text/plain": [
              "(torch.Size([32, 8]), torch.Size([32]))"
            ]
          },
          "metadata": {},
          "execution_count": 24
        }
      ]
    },
    {
      "cell_type": "markdown",
      "source": [
        "####Model building"
      ],
      "metadata": {
        "id": "yqtX2t1hkJh_"
      }
    },
    {
      "cell_type": "code",
      "source": [
        "\"\"\"Create a class named DiabetesClassifier\"\"\"\n",
        "class DiabetesClassifier(nn.Module):\n",
        "  \"\"\"Create an constructor with no parameter\"\"\"\n",
        "  def __init__(self):\n",
        "    \"\"\"Call the super() function for inherit the parent class\"\"\"\n",
        "    super().__init__()\n",
        "    \"\"\"Create the first hidden & actiation layer with\n",
        "       input_features = 8,\n",
        "       output_feature = 64,\n",
        "       activation:: ReLU\n",
        "    \"\"\"\n",
        "    self.hidden1 = nn.Linear(in_features = 8,\\\n",
        "                             out_features = 64,\\\n",
        "                             bias = True)\n",
        "    self.activation1 = nn.ReLU()\n",
        "\n",
        "    \"\"\"Create the second hidden layer & activation with\n",
        "       input_features = 64,\n",
        "       output_featues = 32,\n",
        "       activation:: ReLU\n",
        "    \"\"\"\n",
        "    self.hidden2 = nn.Linear(in_features = 64,\\\n",
        "                             out_features = 32,\\\n",
        "                             bias = True)\n",
        "    self.activation2 = nn.ReLU()\n",
        "\n",
        "    \"\"\"Create the output layer & activation with\n",
        "       input_features  = 64,\n",
        "       output_features = 1,\n",
        "       activation:: Sigmoid()\n",
        "    \"\"\"\n",
        "\n",
        "    self.output = nn.Linear(in_features = 32,\\\n",
        "                            out_features = 1,\\\n",
        "                            bias = True)\n",
        "    self.actOutput = nn.Sigmoid()\n",
        "\n",
        "  \"\"\"Create the Forward Propagation\"\"\"\n",
        "  def forward(self, x):\n",
        "    \"\"\"Make this FP with Activation(W^t + b)\"\"\"\n",
        "    x = self.activation1(self.hidden1(x))\n",
        "    x = self.activation2(self.hidden2(x))\n",
        "    x = self.actOutput(self.output(x))\n",
        "\n",
        "    return x"
      ],
      "metadata": {
        "id": "sBqmZ5HmkIIJ"
      },
      "execution_count": 25,
      "outputs": []
    },
    {
      "cell_type": "code",
      "source": [
        "# Call this model\n",
        "model = DiabetesClassifier()\n",
        "#Display this model\n",
        "print(model.parameters)"
      ],
      "metadata": {
        "colab": {
          "base_uri": "https://localhost:8080/"
        },
        "id": "4lbWRJaXm-iL",
        "outputId": "0ec54aed-0a89-420b-ab9d-8a8b0e674eb3"
      },
      "execution_count": 26,
      "outputs": [
        {
          "output_type": "stream",
          "name": "stdout",
          "text": [
            "<bound method Module.parameters of DiabetesClassifier(\n",
            "  (hidden1): Linear(in_features=8, out_features=64, bias=True)\n",
            "  (activation1): ReLU()\n",
            "  (hidden2): Linear(in_features=64, out_features=32, bias=True)\n",
            "  (activation2): ReLU()\n",
            "  (output): Linear(in_features=32, out_features=1, bias=True)\n",
            "  (actOutput): Sigmoid()\n",
            ")>\n"
          ]
        }
      ]
    },
    {
      "cell_type": "code",
      "source": [
        "\"\"\"Display this model\"\"\"\n",
        "from torchsummary import summary\n",
        "summary(model = model, input_size = X.shape)"
      ],
      "metadata": {
        "colab": {
          "base_uri": "https://localhost:8080/"
        },
        "id": "55rG6_t6nGoX",
        "outputId": "a80dd226-48c2-4c46-eb87-eb53aaf6937b"
      },
      "execution_count": 27,
      "outputs": [
        {
          "output_type": "stream",
          "name": "stdout",
          "text": [
            "----------------------------------------------------------------\n",
            "        Layer (type)               Output Shape         Param #\n",
            "================================================================\n",
            "            Linear-1              [-1, 768, 64]             576\n",
            "              ReLU-2              [-1, 768, 64]               0\n",
            "            Linear-3              [-1, 768, 32]           2,080\n",
            "              ReLU-4              [-1, 768, 32]               0\n",
            "            Linear-5               [-1, 768, 1]              33\n",
            "           Sigmoid-6               [-1, 768, 1]               0\n",
            "================================================================\n",
            "Total params: 2,689\n",
            "Trainable params: 2,689\n",
            "Non-trainable params: 0\n",
            "----------------------------------------------------------------\n",
            "Input size (MB): 0.02\n",
            "Forward/backward pass size (MB): 1.14\n",
            "Params size (MB): 0.01\n",
            "Estimated Total Size (MB): 1.17\n",
            "----------------------------------------------------------------\n"
          ]
        }
      ]
    },
    {
      "cell_type": "markdown",
      "source": [
        "####Do the comparision with model.summary() -- > TensorFlow"
      ],
      "metadata": {
        "id": "MNI14_UWoBmu"
      }
    },
    {
      "cell_type": "code",
      "source": [
        "# model.summary()"
      ],
      "metadata": {
        "id": "hHQXSOdzoIr7"
      },
      "execution_count": 28,
      "outputs": []
    },
    {
      "cell_type": "code",
      "source": [
        "\"\"\"Initialize the loss function & optimizer\"\"\"\n",
        "loss_function = nn.BCELoss()\n",
        "optimizer = optim.Adam(params = model.parameters(), lr = 0.001)"
      ],
      "metadata": {
        "id": "WHUYOwBoq1jd"
      },
      "execution_count": 29,
      "outputs": []
    },
    {
      "cell_type": "markdown",
      "source": [
        "####Train the model(PyTorch - model)"
      ],
      "metadata": {
        "id": "KF_ZS7jpoU4P"
      }
    },
    {
      "cell_type": "code",
      "source": [
        "model.train()\n",
        "# Initialize the loss & epoch\n",
        "EPOCHS, LOSS, accuracy = 100, [], []\n",
        "\"\"\"Run a loop\n",
        "   1. First loop would be: For EPOCH\n",
        "   2. Second loop would be: For extracting X_batch & y_batch\n",
        "\"\"\"\n",
        "for epoch in range(EPOCHS):\n",
        "  loss_calculate = []\n",
        "  for data_loader in loader:\n",
        "    \"\"\"Split the X_batch and y_batch\"\"\"\n",
        "    X_batch, y_batch = data_loader\n",
        "    \"\"\"Call the model and do the prediction\"\"\"\n",
        "    prediction = model(X_batch)\n",
        "    \"\"\"Compute the loss function\n",
        "       Here, use flatten() because in **\"prediction\"** the shape was([16, 1]) & [**y_batch shape is ([16])**. That's the reason !!! We can also use **view()**]\n",
        "    \"\"\"\n",
        "    loss = loss_function(prediction.flatten(), y_batch)\n",
        "    loss_calculate.append(loss.item())\n",
        "    \"\"\"Initialize the Gradient\"\"\"\n",
        "    optimizer.zero_grad()\n",
        "    \"\"\"Do the backward propagation\"\"\"\n",
        "    loss.backward()\n",
        "    optimizer.step()\n",
        "    \"\"\"Compute the accuracy for each epoch\"\"\"\n",
        "    y_pred = torch.where(prediction > 0.5, 1, 0)\n",
        "  # Store this Loss function\n",
        "  LOSS.append(np.array(loss_calculate).mean())\n",
        "  # Store this accuracy\n",
        "  accuracy.append(accuracy_score(y_pred, y_batch.reshape(-1, 1)))\n",
        "  # Display this ERROR, ACCURACY\n",
        "  print(\"For EPOCH: {}, the mean loss function is = {}, and the accuracy is = {}\".\\\n",
        "        format(epoch,\\\n",
        "               np.array(loss_calculate).mean(),\\\n",
        "               accuracy_score(y_pred,\\\n",
        "               y_batch.reshape(-1, 1))))"
      ],
      "metadata": {
        "colab": {
          "base_uri": "https://localhost:8080/"
        },
        "id": "B-Qf2SNYoUDx",
        "outputId": "2893f3e8-2202-44ee-bb7b-8814210170ff"
      },
      "execution_count": 30,
      "outputs": [
        {
          "output_type": "stream",
          "name": "stdout",
          "text": [
            "For EPOCH: 0, the mean loss function is = 0.8586602012316386, and the accuracy is = 0.59375\n",
            "For EPOCH: 1, the mean loss function is = 0.6443792548444536, and the accuracy is = 0.84375\n",
            "For EPOCH: 2, the mean loss function is = 0.638992021481196, and the accuracy is = 0.78125\n",
            "For EPOCH: 3, the mean loss function is = 0.6084282795588175, and the accuracy is = 0.71875\n",
            "For EPOCH: 4, the mean loss function is = 0.6056495590342416, and the accuracy is = 0.5625\n",
            "For EPOCH: 5, the mean loss function is = 0.5722546362214618, and the accuracy is = 0.75\n",
            "For EPOCH: 6, the mean loss function is = 0.5835953570074506, and the accuracy is = 0.71875\n",
            "For EPOCH: 7, the mean loss function is = 0.5795220401551988, and the accuracy is = 0.8125\n",
            "For EPOCH: 8, the mean loss function is = 0.5767799797985289, and the accuracy is = 0.59375\n",
            "For EPOCH: 9, the mean loss function is = 0.5881808830632104, and the accuracy is = 0.625\n",
            "For EPOCH: 10, the mean loss function is = 0.5829796509610282, and the accuracy is = 0.8125\n",
            "For EPOCH: 11, the mean loss function is = 0.6085491991705365, and the accuracy is = 0.5\n",
            "For EPOCH: 12, the mean loss function is = 0.591586732202106, and the accuracy is = 0.71875\n",
            "For EPOCH: 13, the mean loss function is = 0.5672146512402428, and the accuracy is = 0.71875\n",
            "For EPOCH: 14, the mean loss function is = 0.5556316441959805, and the accuracy is = 0.6875\n",
            "For EPOCH: 15, the mean loss function is = 0.5504412419266171, and the accuracy is = 0.75\n",
            "For EPOCH: 16, the mean loss function is = 0.5551891095108457, and the accuracy is = 0.8125\n",
            "For EPOCH: 17, the mean loss function is = 0.5457693636417389, and the accuracy is = 0.625\n",
            "For EPOCH: 18, the mean loss function is = 0.5545404238833321, and the accuracy is = 0.71875\n",
            "For EPOCH: 19, the mean loss function is = 0.5729919373989105, and the accuracy is = 0.625\n",
            "For EPOCH: 20, the mean loss function is = 0.5553320712513394, and the accuracy is = 0.84375\n",
            "For EPOCH: 21, the mean loss function is = 0.53612077401744, and the accuracy is = 0.6875\n",
            "For EPOCH: 22, the mean loss function is = 0.5801822195450465, and the accuracy is = 0.625\n",
            "For EPOCH: 23, the mean loss function is = 0.53101061615679, and the accuracy is = 0.6875\n",
            "For EPOCH: 24, the mean loss function is = 0.5265532781680425, and the accuracy is = 0.65625\n",
            "For EPOCH: 25, the mean loss function is = 0.5256305038928986, and the accuracy is = 0.8125\n",
            "For EPOCH: 26, the mean loss function is = 0.5462577491998672, and the accuracy is = 0.6875\n",
            "For EPOCH: 27, the mean loss function is = 0.5467021117607752, and the accuracy is = 0.71875\n",
            "For EPOCH: 28, the mean loss function is = 0.5685652014282014, and the accuracy is = 0.6875\n",
            "For EPOCH: 29, the mean loss function is = 0.5516653176811006, and the accuracy is = 0.75\n",
            "For EPOCH: 30, the mean loss function is = 0.5228824582364824, and the accuracy is = 0.65625\n",
            "For EPOCH: 31, the mean loss function is = 0.5236053417126337, and the accuracy is = 0.78125\n",
            "For EPOCH: 32, the mean loss function is = 0.5319993330372704, and the accuracy is = 0.75\n",
            "For EPOCH: 33, the mean loss function is = 0.5171293318271637, and the accuracy is = 0.78125\n",
            "For EPOCH: 34, the mean loss function is = 0.5279460019535489, and the accuracy is = 0.78125\n",
            "For EPOCH: 35, the mean loss function is = 0.5281128668122821, and the accuracy is = 0.84375\n",
            "For EPOCH: 36, the mean loss function is = 0.5318893873029285, and the accuracy is = 0.8125\n",
            "For EPOCH: 37, the mean loss function is = 0.5651336014270782, and the accuracy is = 0.65625\n",
            "For EPOCH: 38, the mean loss function is = 0.5057086000839869, and the accuracy is = 0.75\n",
            "For EPOCH: 39, the mean loss function is = 0.5472628027200699, and the accuracy is = 0.78125\n",
            "For EPOCH: 40, the mean loss function is = 0.535652274886767, and the accuracy is = 0.75\n",
            "For EPOCH: 41, the mean loss function is = 0.5181491755776935, and the accuracy is = 0.78125\n",
            "For EPOCH: 42, the mean loss function is = 0.5610791759358512, and the accuracy is = 0.6875\n",
            "For EPOCH: 43, the mean loss function is = 0.5428415603107877, and the accuracy is = 0.75\n",
            "For EPOCH: 44, the mean loss function is = 0.5456077638599608, and the accuracy is = 0.75\n",
            "For EPOCH: 45, the mean loss function is = 0.5294514033529494, and the accuracy is = 0.71875\n",
            "For EPOCH: 46, the mean loss function is = 0.5301780237091912, and the accuracy is = 0.71875\n",
            "For EPOCH: 47, the mean loss function is = 0.5126746644576391, and the accuracy is = 0.71875\n",
            "For EPOCH: 48, the mean loss function is = 0.5095188998513751, and the accuracy is = 0.84375\n",
            "For EPOCH: 49, the mean loss function is = 0.49901892410384285, and the accuracy is = 0.84375\n",
            "For EPOCH: 50, the mean loss function is = 0.49894533389144474, and the accuracy is = 0.625\n",
            "For EPOCH: 51, the mean loss function is = 0.4967074675692452, and the accuracy is = 0.78125\n",
            "For EPOCH: 52, the mean loss function is = 0.513668793771002, and the accuracy is = 0.84375\n",
            "For EPOCH: 53, the mean loss function is = 0.513148244884279, and the accuracy is = 0.8125\n",
            "For EPOCH: 54, the mean loss function is = 0.5223720288938947, and the accuracy is = 0.625\n",
            "For EPOCH: 55, the mean loss function is = 0.5139106214046478, and the accuracy is = 0.8125\n",
            "For EPOCH: 56, the mean loss function is = 0.510473887125651, and the accuracy is = 0.75\n",
            "For EPOCH: 57, the mean loss function is = 0.495762856470214, and the accuracy is = 0.84375\n",
            "For EPOCH: 58, the mean loss function is = 0.5284126185708575, and the accuracy is = 0.6875\n",
            "For EPOCH: 59, the mean loss function is = 0.5262056026193831, and the accuracy is = 0.875\n",
            "For EPOCH: 60, the mean loss function is = 0.48720308144887287, and the accuracy is = 0.75\n",
            "For EPOCH: 61, the mean loss function is = 0.4972916824950112, and the accuracy is = 0.75\n",
            "For EPOCH: 62, the mean loss function is = 0.49918721947405076, and the accuracy is = 0.8125\n",
            "For EPOCH: 63, the mean loss function is = 0.5187875744369295, and the accuracy is = 0.78125\n",
            "For EPOCH: 64, the mean loss function is = 0.5041170948081546, and the accuracy is = 0.6875\n",
            "For EPOCH: 65, the mean loss function is = 0.48575008081065285, and the accuracy is = 0.71875\n",
            "For EPOCH: 66, the mean loss function is = 0.4859575347767936, and the accuracy is = 0.75\n",
            "For EPOCH: 67, the mean loss function is = 0.4883837468094296, and the accuracy is = 0.78125\n",
            "For EPOCH: 68, the mean loss function is = 0.4786027802361382, and the accuracy is = 0.78125\n",
            "For EPOCH: 69, the mean loss function is = 0.49504393339157104, and the accuracy is = 0.71875\n",
            "For EPOCH: 70, the mean loss function is = 0.5010284682114919, and the accuracy is = 0.65625\n",
            "For EPOCH: 71, the mean loss function is = 0.48101018203629387, and the accuracy is = 0.78125\n",
            "For EPOCH: 72, the mean loss function is = 0.48632873098055523, and the accuracy is = 0.78125\n",
            "For EPOCH: 73, the mean loss function is = 0.4771209888988071, and the accuracy is = 0.625\n",
            "For EPOCH: 74, the mean loss function is = 0.5203637993997998, and the accuracy is = 0.59375\n",
            "For EPOCH: 75, the mean loss function is = 0.460461997323566, and the accuracy is = 0.8125\n",
            "For EPOCH: 76, the mean loss function is = 0.49138591190179187, and the accuracy is = 0.65625\n",
            "For EPOCH: 77, the mean loss function is = 0.5363450845082601, and the accuracy is = 0.75\n",
            "For EPOCH: 78, the mean loss function is = 0.4824521276685927, and the accuracy is = 0.84375\n",
            "For EPOCH: 79, the mean loss function is = 0.4734271102481418, and the accuracy is = 0.71875\n",
            "For EPOCH: 80, the mean loss function is = 0.46572182410293156, and the accuracy is = 0.65625\n",
            "For EPOCH: 81, the mean loss function is = 0.4638730270995034, and the accuracy is = 0.84375\n",
            "For EPOCH: 82, the mean loss function is = 0.4747330935464965, and the accuracy is = 0.84375\n",
            "For EPOCH: 83, the mean loss function is = 0.5005254944165548, and the accuracy is = 0.6875\n",
            "For EPOCH: 84, the mean loss function is = 0.4684649060169856, and the accuracy is = 0.75\n",
            "For EPOCH: 85, the mean loss function is = 0.46028754115104675, and the accuracy is = 0.71875\n",
            "For EPOCH: 86, the mean loss function is = 0.45821740561061436, and the accuracy is = 0.71875\n",
            "For EPOCH: 87, the mean loss function is = 0.4682682487699721, and the accuracy is = 0.75\n",
            "For EPOCH: 88, the mean loss function is = 0.46553469863202834, and the accuracy is = 0.8125\n",
            "For EPOCH: 89, the mean loss function is = 0.4518577688270145, and the accuracy is = 0.6875\n",
            "For EPOCH: 90, the mean loss function is = 0.46575724416308933, and the accuracy is = 0.78125\n",
            "For EPOCH: 91, the mean loss function is = 0.4626527776320775, and the accuracy is = 0.71875\n",
            "For EPOCH: 92, the mean loss function is = 0.44906823171509636, and the accuracy is = 0.75\n",
            "For EPOCH: 93, the mean loss function is = 0.45642789867189193, and the accuracy is = 0.6875\n",
            "For EPOCH: 94, the mean loss function is = 0.4893918087085088, and the accuracy is = 0.8125\n",
            "For EPOCH: 95, the mean loss function is = 0.4735743569003211, and the accuracy is = 0.90625\n",
            "For EPOCH: 96, the mean loss function is = 0.46835477815734017, and the accuracy is = 0.75\n",
            "For EPOCH: 97, the mean loss function is = 0.44609495997428894, and the accuracy is = 0.875\n",
            "For EPOCH: 98, the mean loss function is = 0.4540966318713294, and the accuracy is = 0.875\n",
            "For EPOCH: 99, the mean loss function is = 0.4424484835730659, and the accuracy is = 0.78125\n"
          ]
        }
      ]
    },
    {
      "cell_type": "code",
      "source": [
        "model.eval()\n",
        "predicted = torch.where(model(X_test) > 0.5, 1, 0)\n",
        "print(\"accuracy  ## {}\".upper().format(accuracy_score(predicted, y_test)),'\\n')\n",
        "print(\"precision ## {}\".upper().format(precision_score(predicted, y_test)),'\\n')\n",
        "print(\"recall    ## {}\".upper().format(recall_score(predicted, y_test)),'\\n')\n",
        "print(\"f1_score  ## {}\".upper().format(f1_score(predicted, y_test)))"
      ],
      "metadata": {
        "colab": {
          "base_uri": "https://localhost:8080/"
        },
        "id": "-fqr18McxdtD",
        "outputId": "9d5ea78a-bc99-4bd3-df96-fb471ad053b9"
      },
      "execution_count": 31,
      "outputs": [
        {
          "output_type": "stream",
          "name": "stdout",
          "text": [
            "ACCURACY  ## 0.7083333333333334 \n",
            "\n",
            "PRECISION ## 0.4492753623188406 \n",
            "\n",
            "RECALL    ## 0.6326530612244898 \n",
            "\n",
            "F1_SCORE  ## 0.5254237288135593\n"
          ]
        }
      ]
    },
    {
      "cell_type": "code",
      "source": [
        "plt.plot(LOSS, label = 'train_loss')\n",
        "plt.legend()\n",
        "plt.show()"
      ],
      "metadata": {
        "colab": {
          "base_uri": "https://localhost:8080/",
          "height": 430
        },
        "id": "97EYcHd31Oqp",
        "outputId": "57ba089a-be51-4e39-b4ef-97102d61bc9c"
      },
      "execution_count": 32,
      "outputs": [
        {
          "output_type": "display_data",
          "data": {
            "text/plain": [
              "<Figure size 640x480 with 1 Axes>"
            ],
            "image/png": "[encoded data removed]"
          },
          "metadata": {}
        }
      ]
    },
    {
      "cell_type": "code",
      "source": [
        "plt.plot(accuracy, label = 'train accuracy')\n",
        "plt.legend()\n",
        "plt.show()"
      ],
      "metadata": {
        "colab": {
          "base_uri": "https://localhost:8080/",
          "height": 430
        },
        "id": "EzZc_8Yn4J_r",
        "outputId": "613e0acc-3b1e-49a3-a758-298474a91704"
      },
      "execution_count": 33,
      "outputs": [
        {
          "output_type": "display_data",
          "data": {
            "text/plain": [
              "<Figure size 640x480 with 1 Axes>"
            ],
            "image/png": "[encoded data removed]"
          },
          "metadata": {}
        }
      ]
    }
  ]
}