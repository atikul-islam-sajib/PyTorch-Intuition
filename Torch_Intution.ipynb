{
  "nbformat": 4,
  "nbformat_minor": 0,
  "metadata": {
    "colab": {
      "provenance": []
    },
    "kernelspec": {
      "name": "python3",
      "display_name": "Python 3"
    },
    "language_info": {
      "name": "python"
    }
  },
  "cells": [
    {
      "cell_type": "code",
      "execution_count": 5,
      "metadata": {
        "id": "ObJiQxsyYldy"
      },
      "outputs": [],
      "source": [
        "import torch\n",
        "import numpy as np\n",
        "import torch.nn as nn"
      ]
    },
    {
      "cell_type": "markdown",
      "source": [
        "1. torch.tensor / torch.Tensor"
      ],
      "metadata": {
        "id": "8XmzfmY9Ynfv"
      }
    },
    {
      "cell_type": "code",
      "source": [
        "torch.tensor([1, 2, 3])"
      ],
      "metadata": {
        "colab": {
          "base_uri": "https://localhost:8080/"
        },
        "id": "am-31kZ8Yqko",
        "outputId": "beb4078d-32ad-408a-c46d-054aa96b1cb2"
      },
      "execution_count": 3,
      "outputs": [
        {
          "output_type": "execute_result",
          "data": {
            "text/plain": [
              "tensor([1, 2, 3])"
            ]
          },
          "metadata": {},
          "execution_count": 3
        }
      ]
    },
    {
      "cell_type": "code",
      "source": [
        "torch.tensor([\n",
        "    [1, 2, 3],\n",
        "    [3, 4, 6]\n",
        "])"
      ],
      "metadata": {
        "colab": {
          "base_uri": "https://localhost:8080/"
        },
        "id": "gT6RsyytYtOe",
        "outputId": "d5c8cc9f-1bc1-4ab4-8206-9e993a63f106"
      },
      "execution_count": 4,
      "outputs": [
        {
          "output_type": "execute_result",
          "data": {
            "text/plain": [
              "tensor([[1, 2, 3],\n",
              "        [3, 4, 6]])"
            ]
          },
          "metadata": {},
          "execution_count": 4
        }
      ]
    },
    {
      "cell_type": "markdown",
      "source": [
        "2. torch.from_numpy()"
      ],
      "metadata": {
        "id": "-taqRSGvY3ck"
      }
    },
    {
      "cell_type": "code",
      "source": [
        "torch.from_numpy(np.array(\n",
        "    [\n",
        "        [1, 2, 3],\n",
        "        [4, 5, 6]\n",
        "    ]\n",
        "))"
      ],
      "metadata": {
        "colab": {
          "base_uri": "https://localhost:8080/"
        },
        "id": "DuugW3_zY2ms",
        "outputId": "c78ac708-f3f7-4f09-ebde-16f68aa40970"
      },
      "execution_count": 6,
      "outputs": [
        {
          "output_type": "execute_result",
          "data": {
            "text/plain": [
              "tensor([[1, 2, 3],\n",
              "        [4, 5, 6]])"
            ]
          },
          "metadata": {},
          "execution_count": 6
        }
      ]
    },
    {
      "cell_type": "markdown",
      "source": [
        "3. torch.rand()"
      ],
      "metadata": {
        "id": "8EO5HvPTZDFp"
      }
    },
    {
      "cell_type": "code",
      "source": [
        "torch.rand((64, )).size()"
      ],
      "metadata": {
        "colab": {
          "base_uri": "https://localhost:8080/"
        },
        "id": "1gSpqWKEZB4A",
        "outputId": "f837ef7d-d8a0-4ab2-d443-19087d40f173"
      },
      "execution_count": 8,
      "outputs": [
        {
          "output_type": "execute_result",
          "data": {
            "text/plain": [
              "torch.Size([64])"
            ]
          },
          "metadata": {},
          "execution_count": 8
        }
      ]
    },
    {
      "cell_type": "code",
      "source": [
        "torch.rand((64, 128)).size()"
      ],
      "metadata": {
        "colab": {
          "base_uri": "https://localhost:8080/"
        },
        "id": "9P4nrqkbZJ7c",
        "outputId": "47ee5bb3-268e-4263-8333-e441bf97394e"
      },
      "execution_count": 9,
      "outputs": [
        {
          "output_type": "execute_result",
          "data": {
            "text/plain": [
              "torch.Size([64, 128])"
            ]
          },
          "metadata": {},
          "execution_count": 9
        }
      ]
    },
    {
      "cell_type": "code",
      "source": [
        "torch.rand((64, 3, 128, 128)).size()"
      ],
      "metadata": {
        "colab": {
          "base_uri": "https://localhost:8080/"
        },
        "id": "0YXLQXWPZOQi",
        "outputId": "38b68884-1d35-4345-fb85-cf77b615a487"
      },
      "execution_count": 10,
      "outputs": [
        {
          "output_type": "execute_result",
          "data": {
            "text/plain": [
              "torch.Size([64, 3, 128, 128])"
            ]
          },
          "metadata": {},
          "execution_count": 10
        }
      ]
    },
    {
      "cell_type": "markdown",
      "source": [
        "4. torch.randn()"
      ],
      "metadata": {
        "id": "Nfhyv8mcZZsX"
      }
    },
    {
      "cell_type": "code",
      "source": [
        "torch.randn((64, )).size()"
      ],
      "metadata": {
        "colab": {
          "base_uri": "https://localhost:8080/"
        },
        "id": "toh4Nld6ZRyr",
        "outputId": "f683e9b7-9dd9-444b-84bc-2658310ce8e7"
      },
      "execution_count": 11,
      "outputs": [
        {
          "output_type": "execute_result",
          "data": {
            "text/plain": [
              "torch.Size([64])"
            ]
          },
          "metadata": {},
          "execution_count": 11
        }
      ]
    },
    {
      "cell_type": "code",
      "source": [
        "torch.randn((64, 128)).size()"
      ],
      "metadata": {
        "colab": {
          "base_uri": "https://localhost:8080/"
        },
        "id": "uxFZXoTcZdYq",
        "outputId": "1d9c2a58-5dcb-4290-df01-d1c92e723b91"
      },
      "execution_count": 12,
      "outputs": [
        {
          "output_type": "execute_result",
          "data": {
            "text/plain": [
              "torch.Size([64, 128])"
            ]
          },
          "metadata": {},
          "execution_count": 12
        }
      ]
    },
    {
      "cell_type": "code",
      "source": [
        "torch.randn((64, 3, 128, 128)).size()"
      ],
      "metadata": {
        "colab": {
          "base_uri": "https://localhost:8080/"
        },
        "id": "A90pD8knZfkf",
        "outputId": "1b2ff8d2-3417-4a87-abf2-56f687748a33"
      },
      "execution_count": 13,
      "outputs": [
        {
          "output_type": "execute_result",
          "data": {
            "text/plain": [
              "torch.Size([64, 3, 128, 128])"
            ]
          },
          "metadata": {},
          "execution_count": 13
        }
      ]
    },
    {
      "cell_type": "markdown",
      "source": [
        "5. torch.randint()"
      ],
      "metadata": {
        "id": "DOtn3rhtZixp"
      }
    },
    {
      "cell_type": "code",
      "source": [
        "torch.randint(0, 10, (64, )).size()"
      ],
      "metadata": {
        "colab": {
          "base_uri": "https://localhost:8080/"
        },
        "id": "eSNCTdeEZh0v",
        "outputId": "1f0681b8-a37f-42fd-c7c1-cea7609b752f"
      },
      "execution_count": 15,
      "outputs": [
        {
          "output_type": "execute_result",
          "data": {
            "text/plain": [
              "torch.Size([64])"
            ]
          },
          "metadata": {},
          "execution_count": 15
        }
      ]
    },
    {
      "cell_type": "code",
      "source": [
        "torch.randint(9, 10, (64, 128)).size()"
      ],
      "metadata": {
        "colab": {
          "base_uri": "https://localhost:8080/"
        },
        "id": "YKjHWwMlZnlI",
        "outputId": "9bec52cb-383a-4cfd-997d-83f35efacf7c"
      },
      "execution_count": 16,
      "outputs": [
        {
          "output_type": "execute_result",
          "data": {
            "text/plain": [
              "torch.Size([64, 128])"
            ]
          },
          "metadata": {},
          "execution_count": 16
        }
      ]
    },
    {
      "cell_type": "code",
      "source": [
        "torch.randint(0, 10, (64, 3, 128, 128)).size()"
      ],
      "metadata": {
        "colab": {
          "base_uri": "https://localhost:8080/"
        },
        "id": "UwGwad30ZuIe",
        "outputId": "634824d0-4818-4e92-d5b8-9bf6a447fcb2"
      },
      "execution_count": 17,
      "outputs": [
        {
          "output_type": "execute_result",
          "data": {
            "text/plain": [
              "torch.Size([64, 3, 128, 128])"
            ]
          },
          "metadata": {},
          "execution_count": 17
        }
      ]
    },
    {
      "cell_type": "markdown",
      "source": [
        "6. torch.min()"
      ],
      "metadata": {
        "id": "s-fHS1L_Zz_Z"
      }
    },
    {
      "cell_type": "code",
      "source": [
        "torch.min(torch.randint(10, 20, (64, )))"
      ],
      "metadata": {
        "colab": {
          "base_uri": "https://localhost:8080/"
        },
        "id": "YXwxthuRZylA",
        "outputId": "fa3f5dde-30ab-46c9-f0e9-45aecc4d7de5"
      },
      "execution_count": 19,
      "outputs": [
        {
          "output_type": "execute_result",
          "data": {
            "text/plain": [
              "tensor(10)"
            ]
          },
          "metadata": {},
          "execution_count": 19
        }
      ]
    },
    {
      "cell_type": "code",
      "source": [
        "A = torch.randn((64, 3, 128, 128))\n",
        "print(A.size())\n",
        "value, _ = torch.min(A, dim = -1)\n",
        "print(value.size())\n",
        "value, _ = torch.min(A, dim = 0)\n",
        "print(value.size()) # 3, 128, 128"
      ],
      "metadata": {
        "colab": {
          "base_uri": "https://localhost:8080/"
        },
        "id": "mJ8Fz7WiZ9dX",
        "outputId": "82682d54-8c20-40aa-c4f7-4fb6fbb95b7e"
      },
      "execution_count": 25,
      "outputs": [
        {
          "output_type": "stream",
          "name": "stdout",
          "text": [
            "torch.Size([64, 3, 128, 128])\n",
            "torch.Size([64, 3, 128])\n",
            "torch.Size([3, 128, 128])\n"
          ]
        }
      ]
    },
    {
      "cell_type": "markdown",
      "source": [
        "7. torch.max()"
      ],
      "metadata": {
        "id": "64Wy-dtbafaD"
      }
    },
    {
      "cell_type": "code",
      "source": [
        "A = torch.randn((3, 4))\n",
        "print(torch.max(A))\n",
        "\n",
        "A = torch.randn((64, 3, 128, 128))\n",
        "value, _ = torch.max(A, dim = 1)\n",
        "print(value.size()) # 64, 128, 128"
      ],
      "metadata": {
        "colab": {
          "base_uri": "https://localhost:8080/"
        },
        "id": "bOiyX4-qaMlM",
        "outputId": "55fe360e-1fa6-46d8-d30d-0fb3c5009df8"
      },
      "execution_count": 27,
      "outputs": [
        {
          "output_type": "stream",
          "name": "stdout",
          "text": [
            "tensor(2.1910)\n",
            "torch.Size([64, 128, 128])\n"
          ]
        }
      ]
    },
    {
      "cell_type": "markdown",
      "source": [
        "8. torch.std()"
      ],
      "metadata": {
        "id": "KTJLSOeJav0_"
      }
    },
    {
      "cell_type": "code",
      "source": [
        "torch.std(torch.randn((64, 3)))"
      ],
      "metadata": {
        "colab": {
          "base_uri": "https://localhost:8080/"
        },
        "id": "wNZPgS2QamoC",
        "outputId": "3eeb11a6-eebf-45a2-d020-281ae970c805"
      },
      "execution_count": 28,
      "outputs": [
        {
          "output_type": "execute_result",
          "data": {
            "text/plain": [
              "tensor(1.0331)"
            ]
          },
          "metadata": {},
          "execution_count": 28
        }
      ]
    },
    {
      "cell_type": "code",
      "source": [
        "A = torch.randn((64, 3, 128, 128))\n",
        "print(torch.std(A, dim = 0).size()) # 3, 128, 128\n",
        "print(torch.std(A, dim = 1).size()) # 64, 128, 128"
      ],
      "metadata": {
        "colab": {
          "base_uri": "https://localhost:8080/"
        },
        "id": "6vu9HOZxa2Sf",
        "outputId": "f3fc34d2-444b-4a0c-c06a-59412a6d9952"
      },
      "execution_count": 29,
      "outputs": [
        {
          "output_type": "stream",
          "name": "stdout",
          "text": [
            "torch.Size([3, 128, 128])\n",
            "torch.Size([64, 128, 128])\n"
          ]
        }
      ]
    },
    {
      "cell_type": "markdown",
      "source": [
        "9.torch.var()"
      ],
      "metadata": {
        "id": "GaAYkPtIbFVi"
      }
    },
    {
      "cell_type": "code",
      "source": [
        "torch.var(torch.randn((64, )))"
      ],
      "metadata": {
        "colab": {
          "base_uri": "https://localhost:8080/"
        },
        "id": "eTAES_4fbEUK",
        "outputId": "8f901cd5-bc59-4e90-c565-1a80318ff4a3"
      },
      "execution_count": 30,
      "outputs": [
        {
          "output_type": "execute_result",
          "data": {
            "text/plain": [
              "tensor(1.2169)"
            ]
          },
          "metadata": {},
          "execution_count": 30
        }
      ]
    },
    {
      "cell_type": "code",
      "source": [
        "A = torch.randint(0, 10, (64, 3, 128, 128), dtype=torch.float)\n",
        "print(A.var(dim = 1).size()) # 64, 128, 128"
      ],
      "metadata": {
        "colab": {
          "base_uri": "https://localhost:8080/"
        },
        "id": "dZGAdFk4bJEz",
        "outputId": "9891898f-3b9a-46e2-bdd9-3b51540a0d2c"
      },
      "execution_count": 32,
      "outputs": [
        {
          "output_type": "stream",
          "name": "stdout",
          "text": [
            "torch.Size([64, 128, 128])\n"
          ]
        }
      ]
    },
    {
      "cell_type": "markdown",
      "source": [
        "# 10. torch.mean()"
      ],
      "metadata": {
        "id": "Lqu552HvbWVk"
      }
    },
    {
      "cell_type": "code",
      "source": [
        "torch.mean(torch.randint(0, 10, (64, ), dtype = torch.float))"
      ],
      "metadata": {
        "colab": {
          "base_uri": "https://localhost:8080/"
        },
        "id": "r4vdIJv7bREG",
        "outputId": "7796d658-3658-4cfb-ee6c-71c157b0e33b"
      },
      "execution_count": 35,
      "outputs": [
        {
          "output_type": "execute_result",
          "data": {
            "text/plain": [
              "tensor(4.4531)"
            ]
          },
          "metadata": {},
          "execution_count": 35
        }
      ]
    },
    {
      "cell_type": "code",
      "source": [
        "A = torch.randint(0, 10, (64, 3, 128, 128), dtype=torch.float)\n",
        "print(A.mean().size()) # []\n",
        "print(torch.mean(A, dim = 0).size()) # 3, 128, 128\n",
        "print(torch.mean(A, dim = -1).size()) # 64, 3, 128"
      ],
      "metadata": {
        "colab": {
          "base_uri": "https://localhost:8080/"
        },
        "id": "SRC-CKbkbeSR",
        "outputId": "8bd68381-278d-41ab-baa0-e470b01e0460"
      },
      "execution_count": 37,
      "outputs": [
        {
          "output_type": "stream",
          "name": "stdout",
          "text": [
            "torch.Size([])\n",
            "torch.Size([3, 128, 128])\n",
            "torch.Size([64, 3, 128])\n"
          ]
        }
      ]
    },
    {
      "cell_type": "markdown",
      "source": [
        "11. torch.median()"
      ],
      "metadata": {
        "id": "9gWZp_zzb6NM"
      }
    },
    {
      "cell_type": "code",
      "source": [
        "torch.randn((64, )).median()"
      ],
      "metadata": {
        "colab": {
          "base_uri": "https://localhost:8080/"
        },
        "id": "46MO7QDmb1oy",
        "outputId": "9084fe7a-6b20-4529-d983-5864f3e7e55a"
      },
      "execution_count": 38,
      "outputs": [
        {
          "output_type": "execute_result",
          "data": {
            "text/plain": [
              "tensor(-0.1400)"
            ]
          },
          "metadata": {},
          "execution_count": 38
        }
      ]
    },
    {
      "cell_type": "code",
      "source": [
        "A = torch.randn((64, 3, 128, 128))\n",
        "value, _ = torch.median(A, dim = 0)\n",
        "print(value.size()) # 3, 128, 128\n",
        "value, _ = A.median(dim = 2)\n",
        "print(value.size()) # 64, 3, 128"
      ],
      "metadata": {
        "colab": {
          "base_uri": "https://localhost:8080/"
        },
        "id": "S17fUwMLb-no",
        "outputId": "61b1271a-eeb2-4fe0-95c2-92c244863ecc"
      },
      "execution_count": 42,
      "outputs": [
        {
          "output_type": "stream",
          "name": "stdout",
          "text": [
            "torch.Size([3, 128, 128])\n",
            "torch.Size([64, 3, 128])\n"
          ]
        }
      ]
    },
    {
      "cell_type": "markdown",
      "source": [
        "12. torch.size()"
      ],
      "metadata": {
        "id": "Si4Ahu-lca22"
      }
    },
    {
      "cell_type": "code",
      "source": [
        "torch.randn((64, 3, 128, 128)).size()"
      ],
      "metadata": {
        "colab": {
          "base_uri": "https://localhost:8080/"
        },
        "id": "2Pn3OKlwcLA_",
        "outputId": "751cdc2b-278b-4485-af79-b32820f93134"
      },
      "execution_count": 43,
      "outputs": [
        {
          "output_type": "execute_result",
          "data": {
            "text/plain": [
              "torch.Size([64, 3, 128, 128])"
            ]
          },
          "metadata": {},
          "execution_count": 43
        }
      ]
    },
    {
      "cell_type": "code",
      "source": [
        "print(torch.randn((64, 3, 128, 128)).size(0))\n",
        "print(torch.randn((64, 3, 128, 128)).size(1))\n",
        "print(torch.randn((64, 3, 128, 128)).size(2))\n",
        "print(torch.randn((64, 3, 128, 128)).size(3))"
      ],
      "metadata": {
        "colab": {
          "base_uri": "https://localhost:8080/"
        },
        "id": "_NMMZS4-ce_W",
        "outputId": "686a8f3f-82c4-4604-c177-5074f83b4159"
      },
      "execution_count": 44,
      "outputs": [
        {
          "output_type": "stream",
          "name": "stdout",
          "text": [
            "64\n",
            "3\n",
            "128\n",
            "128\n"
          ]
        }
      ]
    },
    {
      "cell_type": "markdown",
      "source": [
        "13. torch.shape"
      ],
      "metadata": {
        "id": "Z_BWEhRAcnvX"
      }
    },
    {
      "cell_type": "code",
      "source": [
        "torch.randn((64, 128)).shape"
      ],
      "metadata": {
        "colab": {
          "base_uri": "https://localhost:8080/"
        },
        "id": "EJlUOtNPcmLt",
        "outputId": "eae67d56-4c64-4149-a76b-0617abb24129"
      },
      "execution_count": 45,
      "outputs": [
        {
          "output_type": "execute_result",
          "data": {
            "text/plain": [
              "torch.Size([64, 128])"
            ]
          },
          "metadata": {},
          "execution_count": 45
        }
      ]
    },
    {
      "cell_type": "code",
      "source": [
        "A = torch.randint(0, 10, (64, 3, 128, 128), dtype = torch.float)\n",
        "print(A.shape[0])\n",
        "print(A.shape[1])\n",
        "print(A.shape[2])\n",
        "print(A.shape[3])"
      ],
      "metadata": {
        "colab": {
          "base_uri": "https://localhost:8080/"
        },
        "id": "TSrApaTYcweB",
        "outputId": "1b6b1922-eb5b-40cc-9483-a0f34f7d66c6"
      },
      "execution_count": 48,
      "outputs": [
        {
          "output_type": "stream",
          "name": "stdout",
          "text": [
            "64\n",
            "3\n",
            "128\n",
            "128\n"
          ]
        }
      ]
    },
    {
      "cell_type": "markdown",
      "source": [
        "14. torch.view()"
      ],
      "metadata": {
        "id": "42nv0_nsdF64"
      }
    },
    {
      "cell_type": "code",
      "source": [
        "A = torch.randn((64, 3, 128, 128))\n",
        "print(A.view(-1).size())"
      ],
      "metadata": {
        "colab": {
          "base_uri": "https://localhost:8080/"
        },
        "id": "8xMg2YNfc7T1",
        "outputId": "4b8de284-212a-4b52-f296-b4f4b45fd4ad"
      },
      "execution_count": 50,
      "outputs": [
        {
          "output_type": "stream",
          "name": "stdout",
          "text": [
            "torch.Size([3145728])\n"
          ]
        }
      ]
    },
    {
      "cell_type": "code",
      "source": [
        "print(A.view(128, 128, 3, 64).size())"
      ],
      "metadata": {
        "colab": {
          "base_uri": "https://localhost:8080/"
        },
        "id": "0BHbsoCkdQdS",
        "outputId": "a8ed507a-2df1-452e-fe8d-2d86e480f962"
      },
      "execution_count": 51,
      "outputs": [
        {
          "output_type": "stream",
          "name": "stdout",
          "text": [
            "torch.Size([128, 128, 3, 64])\n"
          ]
        }
      ]
    },
    {
      "cell_type": "markdown",
      "source": [
        "15. torch.reshape()"
      ],
      "metadata": {
        "id": "0Clw8KT-dXOX"
      }
    },
    {
      "cell_type": "code",
      "source": [
        "A = torch.full((64, 3, 128, 128), 1e-10)\n",
        "print(A.reshape(-1).size())\n",
        "print(A.reshape(64, 128, 128, 3).size())\n",
        "print(A.reshape(A.size(0), A.size(-1), A.size(-2), A.size(1)).size()) # 64, 128, 128, 3"
      ],
      "metadata": {
        "colab": {
          "base_uri": "https://localhost:8080/"
        },
        "id": "POBJ-4m5dWH5",
        "outputId": "097f01da-f77f-40b8-9d63-1e9985eed06c"
      },
      "execution_count": 58,
      "outputs": [
        {
          "output_type": "stream",
          "name": "stdout",
          "text": [
            "torch.Size([3145728])\n",
            "torch.Size([64, 128, 128, 3])\n",
            "torch.Size([64, 128, 128, 3])\n"
          ]
        }
      ]
    },
    {
      "cell_type": "markdown",
      "source": [
        "16. torch.cat()"
      ],
      "metadata": {
        "id": "UkcDUxnCeEKL"
      }
    },
    {
      "cell_type": "code",
      "source": [
        "A = torch.randn((64, 3, 128, 128))\n",
        "B = torch.randn((64, 3, 128, 128))\n",
        "\n",
        "torch.cat((A, B), dim = 1).size() # 64, 6, 128, 128"
      ],
      "metadata": {
        "colab": {
          "base_uri": "https://localhost:8080/"
        },
        "id": "ib6VXjAZdsbC",
        "outputId": "db2b09f2-cb5c-48fe-9d66-f17ec6f5f855"
      },
      "execution_count": 59,
      "outputs": [
        {
          "output_type": "execute_result",
          "data": {
            "text/plain": [
              "torch.Size([64, 6, 128, 128])"
            ]
          },
          "metadata": {},
          "execution_count": 59
        }
      ]
    },
    {
      "cell_type": "code",
      "source": [
        "torch.cat((A, B), dim = 0).size() # 128, 3, 128, 128"
      ],
      "metadata": {
        "colab": {
          "base_uri": "https://localhost:8080/"
        },
        "id": "p6tkiTD_eP1Z",
        "outputId": "12d771f7-d73d-4f12-b84d-64caa60577bc"
      },
      "execution_count": 61,
      "outputs": [
        {
          "output_type": "execute_result",
          "data": {
            "text/plain": [
              "torch.Size([128, 3, 128, 128])"
            ]
          },
          "metadata": {},
          "execution_count": 61
        }
      ]
    },
    {
      "cell_type": "code",
      "source": [
        "A = torch.randn((64, 128))\n",
        "B = torch.randn((64, 128))\n",
        "\n",
        "torch.cat((A, B), dim = 1).size() # 64, 256"
      ],
      "metadata": {
        "colab": {
          "base_uri": "https://localhost:8080/"
        },
        "id": "-NNZpQoHeVO2",
        "outputId": "db7e232f-2be3-470e-9f55-784d72940e19"
      },
      "execution_count": 62,
      "outputs": [
        {
          "output_type": "execute_result",
          "data": {
            "text/plain": [
              "torch.Size([64, 256])"
            ]
          },
          "metadata": {},
          "execution_count": 62
        }
      ]
    },
    {
      "cell_type": "code",
      "source": [
        "torch.cat((A, B), dim = 0).size() # 128, 128"
      ],
      "metadata": {
        "colab": {
          "base_uri": "https://localhost:8080/"
        },
        "id": "ZslsPT2FefwS",
        "outputId": "536a3f2e-0ef8-4cf2-dd78-12874a5214f6"
      },
      "execution_count": 63,
      "outputs": [
        {
          "output_type": "execute_result",
          "data": {
            "text/plain": [
              "torch.Size([128, 128])"
            ]
          },
          "metadata": {},
          "execution_count": 63
        }
      ]
    },
    {
      "cell_type": "markdown",
      "source": [
        "17. torch.linespace()"
      ],
      "metadata": {
        "id": "z990RQF0esaf"
      }
    },
    {
      "cell_type": "code",
      "source": [
        "torch.linspace(0, 100, 5).size()"
      ],
      "metadata": {
        "colab": {
          "base_uri": "https://localhost:8080/"
        },
        "id": "XgFqHqgPerUh",
        "outputId": "f258eebc-fd9b-4521-9044-5faa6528682e"
      },
      "execution_count": 64,
      "outputs": [
        {
          "output_type": "execute_result",
          "data": {
            "text/plain": [
              "torch.Size([5])"
            ]
          },
          "metadata": {},
          "execution_count": 64
        }
      ]
    },
    {
      "cell_type": "markdown",
      "source": [
        "18. torch.logspace()"
      ],
      "metadata": {
        "id": "2-U65S5Fezhk"
      }
    },
    {
      "cell_type": "code",
      "source": [
        "torch.logspace(0, 10, 4).size()"
      ],
      "metadata": {
        "colab": {
          "base_uri": "https://localhost:8080/"
        },
        "id": "EQ33oPHxeyY9",
        "outputId": "b132daa8-40e8-4113-bc3d-abde87fbbbc4"
      },
      "execution_count": 65,
      "outputs": [
        {
          "output_type": "execute_result",
          "data": {
            "text/plain": [
              "torch.Size([4])"
            ]
          },
          "metadata": {},
          "execution_count": 65
        }
      ]
    },
    {
      "cell_type": "markdown",
      "source": [
        "19.torch.arange()"
      ],
      "metadata": {
        "id": "VfcHciSse8Pp"
      }
    },
    {
      "cell_type": "code",
      "source": [
        "torch.arange(0, 10, 2).size()"
      ],
      "metadata": {
        "colab": {
          "base_uri": "https://localhost:8080/"
        },
        "id": "OlUEXhoZe7Sz",
        "outputId": "1772d51a-d2aa-4aa0-d988-08ce87973fd6"
      },
      "execution_count": 66,
      "outputs": [
        {
          "output_type": "execute_result",
          "data": {
            "text/plain": [
              "torch.Size([5])"
            ]
          },
          "metadata": {},
          "execution_count": 66
        }
      ]
    },
    {
      "cell_type": "code",
      "source": [
        "torch.arange(0, 10, 20).size()"
      ],
      "metadata": {
        "colab": {
          "base_uri": "https://localhost:8080/"
        },
        "id": "BKL7JmTwfBmn",
        "outputId": "767e70dc-5ed1-44f2-e047-b9f3969f431a"
      },
      "execution_count": 67,
      "outputs": [
        {
          "output_type": "execute_result",
          "data": {
            "text/plain": [
              "torch.Size([1])"
            ]
          },
          "metadata": {},
          "execution_count": 67
        }
      ]
    },
    {
      "cell_type": "markdown",
      "source": [
        "20. torch.flatten()"
      ],
      "metadata": {
        "id": "S4OY9DmqfFLK"
      }
    },
    {
      "cell_type": "code",
      "source": [
        "A = torch.randn((64, 3, 128, 128))\n",
        "print(A.flatten().size())\n",
        "print(torch.flatten(A).size())"
      ],
      "metadata": {
        "colab": {
          "base_uri": "https://localhost:8080/"
        },
        "id": "n0nMaZN3fEbg",
        "outputId": "793cf34c-bbe8-4a4a-e8af-9f2677266ac7"
      },
      "execution_count": 68,
      "outputs": [
        {
          "output_type": "stream",
          "name": "stdout",
          "text": [
            "torch.Size([3145728])\n",
            "torch.Size([3145728])\n"
          ]
        }
      ]
    },
    {
      "cell_type": "markdown",
      "source": [
        "21. torch.zeros()"
      ],
      "metadata": {
        "id": "ss1XLFESfS5Y"
      }
    },
    {
      "cell_type": "code",
      "source": [
        "print(torch.zeros((64, )).size())\n",
        "print(torch.zeros((64, 128)).size())\n",
        "print(torch.zeros((64, 3, 128, 128)).size())"
      ],
      "metadata": {
        "colab": {
          "base_uri": "https://localhost:8080/"
        },
        "id": "yRD1_iVwfOtO",
        "outputId": "ebaf16af-e8e1-42ca-9a41-4daab797ceb8"
      },
      "execution_count": 69,
      "outputs": [
        {
          "output_type": "stream",
          "name": "stdout",
          "text": [
            "torch.Size([64])\n",
            "torch.Size([64, 128])\n",
            "torch.Size([64, 3, 128, 128])\n"
          ]
        }
      ]
    },
    {
      "cell_type": "markdown",
      "source": [
        "22. torch.ones()"
      ],
      "metadata": {
        "id": "-I-CM0JaffHo"
      }
    },
    {
      "cell_type": "code",
      "source": [
        "print(torch.ones((64, )).size())\n",
        "print(torch.ones((64, 128)).size())\n",
        "print(torch.ones((64, 3, 128, 128)).size())"
      ],
      "metadata": {
        "colab": {
          "base_uri": "https://localhost:8080/"
        },
        "id": "_0qYmbY1fd79",
        "outputId": "e8cc4118-0b82-4626-b777-b4edbe4f07b3"
      },
      "execution_count": 71,
      "outputs": [
        {
          "output_type": "stream",
          "name": "stdout",
          "text": [
            "torch.Size([64])\n",
            "torch.Size([64, 128])\n",
            "torch.Size([64, 3, 128, 128])\n"
          ]
        }
      ]
    },
    {
      "cell_type": "markdown",
      "source": [
        "23. torch.zeros_like()"
      ],
      "metadata": {
        "id": "OUsQzXb9fs1M"
      }
    },
    {
      "cell_type": "code",
      "source": [
        "torch.zeros_like(torch.randn((64, 3, 128, 128))).size()"
      ],
      "metadata": {
        "colab": {
          "base_uri": "https://localhost:8080/"
        },
        "id": "4wvQkvs6fpnr",
        "outputId": "4bff5a92-c9ee-4cf0-d6ac-c26a920b4ae0"
      },
      "execution_count": 72,
      "outputs": [
        {
          "output_type": "execute_result",
          "data": {
            "text/plain": [
              "torch.Size([64, 3, 128, 128])"
            ]
          },
          "metadata": {},
          "execution_count": 72
        }
      ]
    },
    {
      "cell_type": "markdown",
      "source": [
        "24. torch.ones_like()"
      ],
      "metadata": {
        "id": "NYCOlURif0Oy"
      }
    },
    {
      "cell_type": "code",
      "source": [
        "torch.ones_like(torch.full((64, 128), 1e-10)).size()"
      ],
      "metadata": {
        "colab": {
          "base_uri": "https://localhost:8080/"
        },
        "id": "bF6Ti2UwfzPh",
        "outputId": "cc00091f-6d55-4614-938c-b3677bc0f21b"
      },
      "execution_count": 73,
      "outputs": [
        {
          "output_type": "execute_result",
          "data": {
            "text/plain": [
              "torch.Size([64, 128])"
            ]
          },
          "metadata": {},
          "execution_count": 73
        }
      ]
    },
    {
      "cell_type": "markdown",
      "source": [
        "25. torch.full()"
      ],
      "metadata": {
        "id": "7etF8cw_f-XT"
      }
    },
    {
      "cell_type": "code",
      "source": [
        "print(torch.full((64, 128), 1e-10).size())\n",
        "print(torch.full((64, 3, 128, 128), 1e-1).size())"
      ],
      "metadata": {
        "colab": {
          "base_uri": "https://localhost:8080/"
        },
        "id": "yo6iOmULf9dU",
        "outputId": "1858cb00-1597-4203-ac2e-fc1806c7345c"
      },
      "execution_count": 80,
      "outputs": [
        {
          "output_type": "stream",
          "name": "stdout",
          "text": [
            "torch.Size([64, 128])\n",
            "torch.Size([64, 3, 128, 128])\n"
          ]
        }
      ]
    },
    {
      "cell_type": "markdown",
      "source": [
        "26. torch.unbind()"
      ],
      "metadata": {
        "id": "SHA3ZFMugeUi"
      }
    },
    {
      "cell_type": "code",
      "source": [
        "A = torch.randn((3, 4))\n",
        "print(A.unbind()[0].size())\n",
        "print(torch.unbind(A)[1].size())\n",
        "print(A.unbind()[2].size())"
      ],
      "metadata": {
        "colab": {
          "base_uri": "https://localhost:8080/"
        },
        "id": "xQD8yK2LgMwL",
        "outputId": "dc0849c7-42b6-479e-bfdc-486618576eb1"
      },
      "execution_count": 92,
      "outputs": [
        {
          "output_type": "stream",
          "name": "stdout",
          "text": [
            "torch.Size([4])\n",
            "torch.Size([4])\n",
            "torch.Size([4])\n"
          ]
        }
      ]
    },
    {
      "cell_type": "code",
      "source": [
        "A = torch.randn((64, 3, 128, 128))\n",
        "print(A.unbind()[0].size())\n",
        "print(torch.unbind(A)[1].size())\n",
        "print(A.unbind()[2].size())"
      ],
      "metadata": {
        "colab": {
          "base_uri": "https://localhost:8080/"
        },
        "id": "zaeNG15pgi0R",
        "outputId": "8a51c654-cd31-4e28-b418-0704697e0343"
      },
      "execution_count": 95,
      "outputs": [
        {
          "output_type": "stream",
          "name": "stdout",
          "text": [
            "torch.Size([3, 128, 128])\n",
            "torch.Size([3, 128, 128])\n",
            "torch.Size([3, 128, 128])\n"
          ]
        }
      ]
    },
    {
      "cell_type": "markdown",
      "source": [
        "27. torch.pow()"
      ],
      "metadata": {
        "id": "60ohbmmVhJ7k"
      }
    },
    {
      "cell_type": "code",
      "source": [
        "torch.pow(torch.randint(0, 10, (4, )), exponent=2)"
      ],
      "metadata": {
        "colab": {
          "base_uri": "https://localhost:8080/"
        },
        "id": "eYlJMQDDg_DC",
        "outputId": "69136078-4091-4620-d300-09d160672a25"
      },
      "execution_count": 96,
      "outputs": [
        {
          "output_type": "execute_result",
          "data": {
            "text/plain": [
              "tensor([ 0,  0,  9, 25])"
            ]
          },
          "metadata": {},
          "execution_count": 96
        }
      ]
    },
    {
      "cell_type": "code",
      "source": [
        "A = torch.randn((64, 3, 128, 128))\n",
        "A.pow(exponent=1e-6).size()"
      ],
      "metadata": {
        "colab": {
          "base_uri": "https://localhost:8080/"
        },
        "id": "DoHMPIbShSJF",
        "outputId": "42de55c1-40d7-48c8-b747-2b489b243fb5"
      },
      "execution_count": 98,
      "outputs": [
        {
          "output_type": "execute_result",
          "data": {
            "text/plain": [
              "torch.Size([64, 3, 128, 128])"
            ]
          },
          "metadata": {},
          "execution_count": 98
        }
      ]
    },
    {
      "cell_type": "markdown",
      "source": [
        "28. torch.tile()"
      ],
      "metadata": {
        "id": "qGY5pq4NhaHf"
      }
    },
    {
      "cell_type": "code",
      "source": [
        "A = torch.randint(0, 10, (64, 1, 32, 32))\n",
        "A.tile(dims = (1, 3, 2, 2)).size() # 64, 3, 64, 64"
      ],
      "metadata": {
        "colab": {
          "base_uri": "https://localhost:8080/"
        },
        "id": "MxaKSPE5hX5z",
        "outputId": "3cefc3a1-ff48-4f95-c196-5bf07550e38c"
      },
      "execution_count": 99,
      "outputs": [
        {
          "output_type": "execute_result",
          "data": {
            "text/plain": [
              "torch.Size([64, 3, 64, 64])"
            ]
          },
          "metadata": {},
          "execution_count": 99
        }
      ]
    },
    {
      "cell_type": "code",
      "source": [
        "print(torch.tile(A, dims = (1, 3, 32, 32)).size())"
      ],
      "metadata": {
        "colab": {
          "base_uri": "https://localhost:8080/"
        },
        "id": "adl86Unhhja-",
        "outputId": "87134ff4-0d3d-4640-ec3e-be70bdf02e56"
      },
      "execution_count": 101,
      "outputs": [
        {
          "output_type": "stream",
          "name": "stdout",
          "text": [
            "torch.Size([64, 3, 1024, 1024])\n"
          ]
        }
      ]
    },
    {
      "cell_type": "markdown",
      "source": [
        "29. torch.unsqueeze()"
      ],
      "metadata": {
        "id": "w28DZWq2i3cb"
      }
    },
    {
      "cell_type": "code",
      "source": [
        "A = torch.randn((64, 128, 128))\n",
        "print(A.unsqueeze(1).size())\n",
        "print(A.unsqueeze(0).size())"
      ],
      "metadata": {
        "colab": {
          "base_uri": "https://localhost:8080/"
        },
        "id": "Y9GXRoqQhpJx",
        "outputId": "a56f0951-1904-4e4b-e508-c4c816365216"
      },
      "execution_count": 102,
      "outputs": [
        {
          "output_type": "stream",
          "name": "stdout",
          "text": [
            "torch.Size([64, 1, 128, 128])\n",
            "torch.Size([1, 64, 128, 128])\n"
          ]
        }
      ]
    },
    {
      "cell_type": "markdown",
      "source": [
        "30. torch.squeeze()"
      ],
      "metadata": {
        "id": "baKHv_66joWw"
      }
    },
    {
      "cell_type": "code",
      "source": [
        "A = torch.randn((64, 1, 128, 128))\n",
        "print(A.squeeze().size()) # 64, 128, 128"
      ],
      "metadata": {
        "colab": {
          "base_uri": "https://localhost:8080/"
        },
        "id": "OxfPldWojlLt",
        "outputId": "edf06dc5-55e7-4c96-a263-6b1646be7291"
      },
      "execution_count": 103,
      "outputs": [
        {
          "output_type": "stream",
          "name": "stdout",
          "text": [
            "torch.Size([64, 128, 128])\n"
          ]
        }
      ]
    },
    {
      "cell_type": "markdown",
      "source": [
        "31. torch.eye()"
      ],
      "metadata": {
        "id": "5s-Udhbrj6UH"
      }
    },
    {
      "cell_type": "code",
      "source": [
        "torch.eye(3, 4).size()"
      ],
      "metadata": {
        "colab": {
          "base_uri": "https://localhost:8080/"
        },
        "id": "DKnaJjCij5co",
        "outputId": "3ec58850-047b-49f2-d47f-77e9f88cb697"
      },
      "execution_count": 105,
      "outputs": [
        {
          "output_type": "execute_result",
          "data": {
            "text/plain": [
              "torch.Size([3, 4])"
            ]
          },
          "metadata": {},
          "execution_count": 105
        }
      ]
    },
    {
      "cell_type": "code",
      "source": [
        "torch.eye(3).size()"
      ],
      "metadata": {
        "colab": {
          "base_uri": "https://localhost:8080/"
        },
        "id": "cRLBvJP7kGvF",
        "outputId": "457c44a5-0c2c-44fb-aea2-714811e46bf1"
      },
      "execution_count": 106,
      "outputs": [
        {
          "output_type": "execute_result",
          "data": {
            "text/plain": [
              "torch.Size([3, 3])"
            ]
          },
          "metadata": {},
          "execution_count": 106
        }
      ]
    },
    {
      "cell_type": "markdown",
      "source": [
        "32. torch.where()"
      ],
      "metadata": {
        "id": "6ktKszCGkMN8"
      }
    },
    {
      "cell_type": "code",
      "source": [
        "A = torch.randint(0, 10, (16, ))\n",
        "\n",
        "torch.where(A > 5, 1e-5, A)"
      ],
      "metadata": {
        "colab": {
          "base_uri": "https://localhost:8080/"
        },
        "id": "1Q6vw8xYkJ2T",
        "outputId": "e3dceb5e-cd85-48d1-9f08-ca2a1e7a722f"
      },
      "execution_count": 109,
      "outputs": [
        {
          "output_type": "execute_result",
          "data": {
            "text/plain": [
              "tensor([2.0000e+00, 1.0000e+00, 2.0000e+00, 1.0000e-05, 1.0000e-05, 1.0000e-05,\n",
              "        1.0000e-05, 5.0000e+00, 1.0000e+00, 5.0000e+00, 1.0000e-05, 1.0000e-05,\n",
              "        0.0000e+00, 1.0000e-05, 2.0000e+00, 4.0000e+00])"
            ]
          },
          "metadata": {},
          "execution_count": 109
        }
      ]
    },
    {
      "cell_type": "markdown",
      "source": [
        "33. torch.transpose(INDEX) / t()"
      ],
      "metadata": {
        "id": "1Z2lAsiUkczc"
      }
    },
    {
      "cell_type": "code",
      "source": [
        "A = torch.randn((64, 3, 128, 128))\n",
        "print(A.transpose(1, -1).size()) # 64, 128, 128, 3"
      ],
      "metadata": {
        "colab": {
          "base_uri": "https://localhost:8080/"
        },
        "id": "RK1ob-CnkW_6",
        "outputId": "b8a8923a-b804-4dcf-9990-0c19984a8d52"
      },
      "execution_count": 112,
      "outputs": [
        {
          "output_type": "stream",
          "name": "stdout",
          "text": [
            "torch.Size([64, 128, 128, 3])\n"
          ]
        }
      ]
    },
    {
      "cell_type": "code",
      "source": [
        "A = torch.randn((4, 6))\n",
        "print(A.t().size())"
      ],
      "metadata": {
        "colab": {
          "base_uri": "https://localhost:8080/"
        },
        "id": "7t2UTclZkvLV",
        "outputId": "555bbc05-40d4-4ad7-c75a-e62a8e5f494e"
      },
      "execution_count": 114,
      "outputs": [
        {
          "output_type": "stream",
          "name": "stdout",
          "text": [
            "torch.Size([6, 4])\n"
          ]
        }
      ]
    },
    {
      "cell_type": "markdown",
      "source": [
        "34. torch.hstack()"
      ],
      "metadata": {
        "id": "c8TQ2ys0k8CB"
      }
    },
    {
      "cell_type": "code",
      "source": [
        "A = torch.randn((64, 3, 128, 128))\n",
        "B = torch.randn((64, 3, 128, 128))"
      ],
      "metadata": {
        "id": "px2X6DEpk0jx"
      },
      "execution_count": 115,
      "outputs": []
    },
    {
      "cell_type": "code",
      "source": [
        "torch.hstack((A, B)).size() # It would work like torch.cat() where dim = 1"
      ],
      "metadata": {
        "colab": {
          "base_uri": "https://localhost:8080/"
        },
        "id": "HgvHt1pQlDEg",
        "outputId": "cf384d55-87cf-4ed7-c3a9-4880f08a7a3b"
      },
      "execution_count": 116,
      "outputs": [
        {
          "output_type": "execute_result",
          "data": {
            "text/plain": [
              "torch.Size([64, 6, 128, 128])"
            ]
          },
          "metadata": {},
          "execution_count": 116
        }
      ]
    },
    {
      "cell_type": "markdown",
      "source": [
        "35. torch.vstack()"
      ],
      "metadata": {
        "id": "uKL7ulQ2lMr4"
      }
    },
    {
      "cell_type": "code",
      "source": [
        "A = torch.randn((64, 3, 128, 128))\n",
        "B = torch.randn((64, 3, 128, 128))"
      ],
      "metadata": {
        "id": "e2jqES_mlFq7"
      },
      "execution_count": 117,
      "outputs": []
    },
    {
      "cell_type": "code",
      "source": [
        "torch.vstack((A, B)).size() # 128, 3, 128, 128"
      ],
      "metadata": {
        "colab": {
          "base_uri": "https://localhost:8080/"
        },
        "id": "TIh_gS2zlQAz",
        "outputId": "95d533ad-7c29-443a-e918-302723d86593"
      },
      "execution_count": 118,
      "outputs": [
        {
          "output_type": "execute_result",
          "data": {
            "text/plain": [
              "torch.Size([128, 3, 128, 128])"
            ]
          },
          "metadata": {},
          "execution_count": 118
        }
      ]
    },
    {
      "cell_type": "markdown",
      "source": [
        "36. torch.sigmoid()"
      ],
      "metadata": {
        "id": "14coMzOulWPV"
      }
    },
    {
      "cell_type": "code",
      "source": [
        "A = nn.Sigmoid()\n",
        "print(A(torch.randn((64, 4))).size()) # 64, 4"
      ],
      "metadata": {
        "colab": {
          "base_uri": "https://localhost:8080/"
        },
        "id": "RI2uz-StlUUk",
        "outputId": "fc34e84d-a269-4119-e5ee-951388e3a76f"
      },
      "execution_count": 120,
      "outputs": [
        {
          "output_type": "stream",
          "name": "stdout",
          "text": [
            "torch.Size([64, 4])\n"
          ]
        }
      ]
    },
    {
      "cell_type": "markdown",
      "source": [
        "37. torch.softmax()"
      ],
      "metadata": {
        "id": "4LCD-JfQlimm"
      }
    },
    {
      "cell_type": "code",
      "source": [
        "torch.softmax(torch.randn((64, 4)), dim = 1).size()"
      ],
      "metadata": {
        "colab": {
          "base_uri": "https://localhost:8080/"
        },
        "id": "acETLemllg14",
        "outputId": "7f462d60-4169-4732-f35c-f029ba21d74d"
      },
      "execution_count": 121,
      "outputs": [
        {
          "output_type": "execute_result",
          "data": {
            "text/plain": [
              "torch.Size([64, 4])"
            ]
          },
          "metadata": {},
          "execution_count": 121
        }
      ]
    },
    {
      "cell_type": "code",
      "source": [
        "A = nn.Softmax(dim = 1)\n",
        "A(torch.randn(64, 4)).size()"
      ],
      "metadata": {
        "colab": {
          "base_uri": "https://localhost:8080/"
        },
        "id": "RZj81QiilseN",
        "outputId": "ff0f1473-f99b-4a60-97c1-abcbfb31469f"
      },
      "execution_count": 122,
      "outputs": [
        {
          "output_type": "execute_result",
          "data": {
            "text/plain": [
              "torch.Size([64, 4])"
            ]
          },
          "metadata": {},
          "execution_count": 122
        }
      ]
    },
    {
      "cell_type": "code",
      "source": [
        "A = nn.Softmax(dim = -1)\n",
        "A(torch.randn(64, 3, 128)).size()"
      ],
      "metadata": {
        "colab": {
          "base_uri": "https://localhost:8080/"
        },
        "id": "E0aBLXbIl1FE",
        "outputId": "d67436de-7d5e-4773-b772-ffffe4ab4b56"
      },
      "execution_count": 123,
      "outputs": [
        {
          "output_type": "execute_result",
          "data": {
            "text/plain": [
              "torch.Size([64, 3, 128])"
            ]
          },
          "metadata": {},
          "execution_count": 123
        }
      ]
    },
    {
      "cell_type": "markdown",
      "source": [
        "38. torch.norm()"
      ],
      "metadata": {
        "id": "EUTt2RKdl5vl"
      }
    },
    {
      "cell_type": "code",
      "source": [
        "torch.norm(torch.randn((64, 4)), dim = 1).size() # 64"
      ],
      "metadata": {
        "colab": {
          "base_uri": "https://localhost:8080/"
        },
        "id": "z13ekIjIl4uo",
        "outputId": "11c55331-df0f-4bd6-fa4a-403acae331ec"
      },
      "execution_count": 124,
      "outputs": [
        {
          "output_type": "execute_result",
          "data": {
            "text/plain": [
              "torch.Size([64])"
            ]
          },
          "metadata": {},
          "execution_count": 124
        }
      ]
    },
    {
      "cell_type": "code",
      "source": [
        "torch.norm(torch.randn((64, 3, 128, 128)), dim = -1).size() # 64, 3, 128"
      ],
      "metadata": {
        "colab": {
          "base_uri": "https://localhost:8080/"
        },
        "id": "HwK4VeG5mDTe",
        "outputId": "f6f75f49-778a-49d5-86e9-c050f281458c"
      },
      "execution_count": 126,
      "outputs": [
        {
          "output_type": "execute_result",
          "data": {
            "text/plain": [
              "torch.Size([64, 3, 128])"
            ]
          },
          "metadata": {},
          "execution_count": 126
        }
      ]
    },
    {
      "cell_type": "markdown",
      "source": [
        "39. torch.abs()"
      ],
      "metadata": {
        "id": "zTKBYStjmZ3G"
      }
    },
    {
      "cell_type": "code",
      "source": [
        "A = torch.randn((64, 3, 128, 128))\n",
        "B = torch.randn((64, 3, 128, 128))\n",
        "torch.abs((A - B)).size() # 64, 3, 128, 128"
      ],
      "metadata": {
        "colab": {
          "base_uri": "https://localhost:8080/"
        },
        "id": "TFf_21wEmO3k",
        "outputId": "0ba421ea-98bb-49bd-a2ae-81e48dfb85fb"
      },
      "execution_count": 129,
      "outputs": [
        {
          "output_type": "execute_result",
          "data": {
            "text/plain": [
              "torch.Size([64, 3, 128, 128])"
            ]
          },
          "metadata": {},
          "execution_count": 129
        }
      ]
    },
    {
      "cell_type": "markdown",
      "source": [
        "40. torch.maxpool2D()"
      ],
      "metadata": {
        "id": "buf6miiWm5n_"
      }
    },
    {
      "cell_type": "code",
      "source": [
        "torch.max_pool2d(torch.randn((64, 3, 128, 128)), stride = 2, kernel_size = 2).size()"
      ],
      "metadata": {
        "colab": {
          "base_uri": "https://localhost:8080/"
        },
        "id": "iGECoMaImxqp",
        "outputId": "ae0ac884-97d4-42f0-9d39-d49b09fa46e9"
      },
      "execution_count": 130,
      "outputs": [
        {
          "output_type": "execute_result",
          "data": {
            "text/plain": [
              "torch.Size([64, 3, 64, 64])"
            ]
          },
          "metadata": {},
          "execution_count": 130
        }
      ]
    },
    {
      "cell_type": "code",
      "source": [
        "A = nn.MaxPool2d(kernel_size = 2, stride = 2)\n",
        "print(A(torch.randn((64, 3, 128, 128))).size())"
      ],
      "metadata": {
        "colab": {
          "base_uri": "https://localhost:8080/"
        },
        "id": "59nKpjnfnFVs",
        "outputId": "7ae1c432-f90d-4710-e26a-a2cf39daf49a"
      },
      "execution_count": 131,
      "outputs": [
        {
          "output_type": "stream",
          "name": "stdout",
          "text": [
            "torch.Size([64, 3, 64, 64])\n"
          ]
        }
      ]
    },
    {
      "cell_type": "markdown",
      "source": [
        "41. torch.permute()"
      ],
      "metadata": {
        "id": "mlH6VvuwnSv0"
      }
    },
    {
      "cell_type": "code",
      "source": [
        "A = torch.randn((64, 3, 128, 128))"
      ],
      "metadata": {
        "id": "uE5h_7iOnOBm"
      },
      "execution_count": 134,
      "outputs": []
    },
    {
      "cell_type": "code",
      "source": [
        "torch.permute(A, (0, 2, 3, 1)).size()"
      ],
      "metadata": {
        "colab": {
          "base_uri": "https://localhost:8080/"
        },
        "id": "xxGCwmkJna50",
        "outputId": "de2bf41d-47ce-405d-aa2f-ae15a8f1c232"
      },
      "execution_count": 136,
      "outputs": [
        {
          "output_type": "execute_result",
          "data": {
            "text/plain": [
              "torch.Size([64, 128, 128, 3])"
            ]
          },
          "metadata": {},
          "execution_count": 136
        }
      ]
    },
    {
      "cell_type": "code",
      "source": [
        "A.permute(0, 2, 3, 1).size()"
      ],
      "metadata": {
        "colab": {
          "base_uri": "https://localhost:8080/"
        },
        "id": "l0PbusOAnjOO",
        "outputId": "c281acf8-4660-4fcb-e6c6-3d5f1a6ad173"
      },
      "execution_count": 137,
      "outputs": [
        {
          "output_type": "execute_result",
          "data": {
            "text/plain": [
              "torch.Size([64, 128, 128, 3])"
            ]
          },
          "metadata": {},
          "execution_count": 137
        }
      ]
    },
    {
      "cell_type": "markdown",
      "source": [
        "42. torch.argmax()"
      ],
      "metadata": {
        "id": "4xKkmRWdnoGc"
      }
    },
    {
      "cell_type": "code",
      "source": [
        "A = torch.randn((64, 4))\n",
        "A = torch.softmax(A, dim = 1)\n",
        "print(A.size())\n",
        "print(torch.argmax(A, dim = 1).size())\n",
        "print(A.argmax(dim=1).size()) # 64"
      ],
      "metadata": {
        "colab": {
          "base_uri": "https://localhost:8080/"
        },
        "id": "XQoi3TxhnnAI",
        "outputId": "fadf117f-bb2f-43e6-d4ea-b7aa0d62ec23"
      },
      "execution_count": 140,
      "outputs": [
        {
          "output_type": "stream",
          "name": "stdout",
          "text": [
            "torch.Size([64, 4])\n",
            "torch.Size([64])\n",
            "torch.Size([64])\n"
          ]
        }
      ]
    },
    {
      "cell_type": "markdown",
      "source": [
        "43. torch.argmin()"
      ],
      "metadata": {
        "id": "IeQ__bYaoMQe"
      }
    },
    {
      "cell_type": "code",
      "source": [
        "A = torch.randn((64, 128))\n",
        "A = torch.softmax(A, dim = -1)\n",
        "A = torch.argmin(A, dim = -1)\n",
        "A = torch.randn((64, 128))\n",
        "B = A.argmin(dim = -1)\n",
        "\n",
        "print(A.size(), B.size())"
      ],
      "metadata": {
        "colab": {
          "base_uri": "https://localhost:8080/"
        },
        "id": "oi5WIVZDoAJ5",
        "outputId": "ddbb103d-dd8b-4d7c-f42d-992c6e514a30"
      },
      "execution_count": 142,
      "outputs": [
        {
          "output_type": "stream",
          "name": "stdout",
          "text": [
            "torch.Size([64, 128]) torch.Size([64])\n"
          ]
        }
      ]
    },
    {
      "cell_type": "markdown",
      "source": [
        "44. torch.embeddings()"
      ],
      "metadata": {
        "id": "kJ5RZkSXoiOO"
      }
    },
    {
      "cell_type": "code",
      "source": [
        "A = nn.Embedding(num_embeddings=10, embedding_dim=512)\n",
        "\n",
        "print(A(torch.randint(0, 10, (64, ))).size())\n",
        "print(A(torch.randint(0, 10, (64, 128))).size())"
      ],
      "metadata": {
        "colab": {
          "base_uri": "https://localhost:8080/"
        },
        "id": "T02IoSMFoah9",
        "outputId": "73bae94b-d7d7-4940-a100-ae2491755057"
      },
      "execution_count": 143,
      "outputs": [
        {
          "output_type": "stream",
          "name": "stdout",
          "text": [
            "torch.Size([64, 512])\n",
            "torch.Size([64, 128, 512])\n"
          ]
        }
      ]
    },
    {
      "cell_type": "markdown",
      "source": [
        "45. torch.sort()"
      ],
      "metadata": {
        "id": "sermDuk-oyI2"
      }
    },
    {
      "cell_type": "code",
      "source": [
        "value, _ = torch.sort(torch.randint(0, 10, (32, )), descending=True)\n",
        "print(value)"
      ],
      "metadata": {
        "colab": {
          "base_uri": "https://localhost:8080/"
        },
        "id": "ZHuen16yoxKf",
        "outputId": "e04f4557-6212-42e9-95db-55c600a6079f"
      },
      "execution_count": 144,
      "outputs": [
        {
          "output_type": "stream",
          "name": "stdout",
          "text": [
            "tensor([9, 9, 9, 9, 9, 8, 8, 7, 7, 7, 6, 6, 6, 6, 5, 5, 4, 4, 3, 3, 3, 3, 2, 1,\n",
            "        1, 1, 1, 1, 1, 1, 1, 0])\n"
          ]
        }
      ]
    },
    {
      "cell_type": "code",
      "source": [
        "value, _ = torch.sort(torch.randint(0, 10, (32, )), descending=False)\n",
        "print(value)"
      ],
      "metadata": {
        "colab": {
          "base_uri": "https://localhost:8080/"
        },
        "id": "Zfu_8ZJvpAu4",
        "outputId": "5b18aee3-a131-47df-91ec-b6e37f6b6d05"
      },
      "execution_count": 145,
      "outputs": [
        {
          "output_type": "stream",
          "name": "stdout",
          "text": [
            "tensor([0, 1, 1, 1, 1, 2, 2, 2, 2, 2, 2, 3, 3, 3, 4, 4, 4, 4, 5, 5, 6, 6, 6, 6,\n",
            "        6, 7, 8, 8, 8, 8, 9, 9])\n"
          ]
        }
      ]
    },
    {
      "cell_type": "markdown",
      "source": [
        "46. torch.clamp_"
      ],
      "metadata": {
        "id": "2GpWkZ5IpI6Y"
      }
    },
    {
      "cell_type": "code",
      "source": [
        "torch.clamp(torch.randn((64, 3, 128, 128)), min = 1e-5, max = 1.0).size()"
      ],
      "metadata": {
        "colab": {
          "base_uri": "https://localhost:8080/"
        },
        "id": "rZtblE-spDHC",
        "outputId": "6cafdabe-169a-4565-c585-16767b828682"
      },
      "execution_count": 146,
      "outputs": [
        {
          "output_type": "execute_result",
          "data": {
            "text/plain": [
              "torch.Size([64, 3, 128, 128])"
            ]
          },
          "metadata": {},
          "execution_count": 146
        }
      ]
    },
    {
      "cell_type": "code",
      "source": [
        "A = torch.randn((64, 3, 128, 128))\n",
        "print(A.clamp_(min = 1.0, max = 1000).size())"
      ],
      "metadata": {
        "colab": {
          "base_uri": "https://localhost:8080/"
        },
        "id": "_DEypX1CpTc_",
        "outputId": "41d8e357-6de3-4d00-d67e-6411d7b03928"
      },
      "execution_count": 148,
      "outputs": [
        {
          "output_type": "stream",
          "name": "stdout",
          "text": [
            "torch.Size([64, 3, 128, 128])\n"
          ]
        }
      ]
    },
    {
      "cell_type": "markdown",
      "source": [
        "47. torch.upscale()"
      ],
      "metadata": {
        "id": "2qXQw3zlpbMo"
      }
    },
    {
      "cell_type": "code",
      "source": [
        "A = nn.Upsample(align_corners=False, mode=\"bilinear\", scale_factor=2)\n",
        "print(A(torch.randn((64, 3, 32, 32))).size())"
      ],
      "metadata": {
        "colab": {
          "base_uri": "https://localhost:8080/"
        },
        "id": "WsyljLQipZDj",
        "outputId": "71df7b97-d5e6-424a-dd7a-7e8b9955f7a3"
      },
      "execution_count": 154,
      "outputs": [
        {
          "output_type": "stream",
          "name": "stdout",
          "text": [
            "torch.Size([64, 3, 64, 64])\n"
          ]
        }
      ]
    },
    {
      "cell_type": "markdown",
      "source": [
        "48. torch.pixelshuffle()"
      ],
      "metadata": {
        "id": "txvfw5yIp6wo"
      }
    },
    {
      "cell_type": "code",
      "source": [
        "A = nn.PixelShuffle(upscale_factor=2)\n",
        "A(torch.randn((64, 16, 32, 32))).size() # 64, 4, 64, 64"
      ],
      "metadata": {
        "colab": {
          "base_uri": "https://localhost:8080/"
        },
        "id": "tHM9TiYSptcf",
        "outputId": "4b3a645c-7022-434a-97ee-97f8eef10221"
      },
      "execution_count": 155,
      "outputs": [
        {
          "output_type": "execute_result",
          "data": {
            "text/plain": [
              "torch.Size([64, 4, 64, 64])"
            ]
          },
          "metadata": {},
          "execution_count": 155
        }
      ]
    },
    {
      "cell_type": "markdown",
      "source": [
        "49. torch.chunk()"
      ],
      "metadata": {
        "id": "LMTTYePYqIZJ"
      }
    },
    {
      "cell_type": "code",
      "source": [
        "chunk1, chunk2, chunk3, chunk4 = torch.chunk(torch.randn((64, 3, 16, 16)), chunks=4, dim = -1)\n",
        "\n",
        "print(chunk1.size())\n",
        "print(chunk2.size())\n",
        "print(chunk3.size())\n",
        "print(chunk4.size())"
      ],
      "metadata": {
        "colab": {
          "base_uri": "https://localhost:8080/"
        },
        "id": "e6aPfvUPqHfA",
        "outputId": "e7b889ee-225d-4c43-d1c6-9b19091d5258"
      },
      "execution_count": 156,
      "outputs": [
        {
          "output_type": "stream",
          "name": "stdout",
          "text": [
            "torch.Size([64, 3, 16, 4])\n",
            "torch.Size([64, 3, 16, 4])\n",
            "torch.Size([64, 3, 16, 4])\n",
            "torch.Size([64, 3, 16, 4])\n"
          ]
        }
      ]
    },
    {
      "cell_type": "markdown",
      "source": [
        "50. torch.triu(...., diagonal = 0/1)"
      ],
      "metadata": {
        "id": "sYqWBweQqfnQ"
      }
    },
    {
      "cell_type": "code",
      "source": [
        "torch.triu(torch.randn(3, 4), diagonal=0)"
      ],
      "metadata": {
        "colab": {
          "base_uri": "https://localhost:8080/"
        },
        "id": "TXlNW6n4qbM_",
        "outputId": "2454ee07-c0e0-4785-ae17-10b6b5e6acf9"
      },
      "execution_count": 157,
      "outputs": [
        {
          "output_type": "execute_result",
          "data": {
            "text/plain": [
              "tensor([[-1.1507, -0.2345, -1.4698,  0.9172],\n",
              "        [ 0.0000, -0.1806, -0.9393, -0.1486],\n",
              "        [ 0.0000,  0.0000, -0.0897,  0.1621]])"
            ]
          },
          "metadata": {},
          "execution_count": 157
        }
      ]
    },
    {
      "cell_type": "code",
      "source": [
        "torch.triu(torch.randn(3, 4), diagonal=1)"
      ],
      "metadata": {
        "colab": {
          "base_uri": "https://localhost:8080/"
        },
        "id": "5omO0dAiqpbp",
        "outputId": "80bcb0fe-86d9-487a-fe32-d6920237a277"
      },
      "execution_count": 158,
      "outputs": [
        {
          "output_type": "execute_result",
          "data": {
            "text/plain": [
              "tensor([[ 0.0000,  0.5505,  1.2230, -0.3839],\n",
              "        [ 0.0000,  0.0000, -0.9918, -1.5316],\n",
              "        [ 0.0000,  0.0000,  0.0000, -1.4474]])"
            ]
          },
          "metadata": {},
          "execution_count": 158
        }
      ]
    },
    {
      "cell_type": "markdown",
      "source": [
        "51. torch.masked_fill()"
      ],
      "metadata": {
        "id": "bgdMllGrqtyx"
      }
    },
    {
      "cell_type": "code",
      "source": [
        "A = torch.randint(0, 10, (3, 4))\n",
        "torch.masked_fill(A, A >= 4, 5e4)"
      ],
      "metadata": {
        "colab": {
          "base_uri": "https://localhost:8080/"
        },
        "id": "yBA2JpUIqr1Q",
        "outputId": "96d28062-fc82-4ce6-a51c-72db80d275a9"
      },
      "execution_count": 173,
      "outputs": [
        {
          "output_type": "execute_result",
          "data": {
            "text/plain": [
              "tensor([[    3,     3,     1,     2],\n",
              "        [50000,     3, 50000, 50000],\n",
              "        [    2, 50000, 50000, 50000]])"
            ]
          },
          "metadata": {},
          "execution_count": 173
        }
      ]
    },
    {
      "cell_type": "markdown",
      "source": [
        "52. torch.randn_like()"
      ],
      "metadata": {
        "id": "ShluF8qErNp1"
      }
    },
    {
      "cell_type": "code",
      "source": [
        "torch.randn_like(torch.full((64, 3, 128, 128), 1e-100)).size()"
      ],
      "metadata": {
        "colab": {
          "base_uri": "https://localhost:8080/"
        },
        "id": "JuI56p75q4dw",
        "outputId": "58043d39-b6fb-405f-9485-8d97e71d3ffd"
      },
      "execution_count": 174,
      "outputs": [
        {
          "output_type": "execute_result",
          "data": {
            "text/plain": [
              "torch.Size([64, 3, 128, 128])"
            ]
          },
          "metadata": {},
          "execution_count": 174
        }
      ]
    },
    {
      "cell_type": "markdown",
      "source": [
        "53. torch.rand_like()"
      ],
      "metadata": {
        "id": "C3QrqcuwrZU_"
      }
    },
    {
      "cell_type": "code",
      "source": [
        "torch.rand_like(torch.arange(0, 100, 0.01)).size()"
      ],
      "metadata": {
        "colab": {
          "base_uri": "https://localhost:8080/"
        },
        "id": "pleUdcD2rYak",
        "outputId": "a8de0d49-275c-4234-a8fe-46f38609a351"
      },
      "execution_count": 175,
      "outputs": [
        {
          "output_type": "execute_result",
          "data": {
            "text/plain": [
              "torch.Size([10000])"
            ]
          },
          "metadata": {},
          "execution_count": 175
        }
      ]
    },
    {
      "cell_type": "markdown",
      "source": [
        "54. torch.add(), sub(), mul(), div(), matmul()"
      ],
      "metadata": {
        "id": "KNOAlGnvrgXd"
      }
    },
    {
      "cell_type": "code",
      "source": [
        "A = torch.randn((64, 3, 128, 128))\n",
        "B = torch.randn((64, 3, 128, 128))"
      ],
      "metadata": {
        "id": "eg238OherfiV"
      },
      "execution_count": 176,
      "outputs": []
    },
    {
      "cell_type": "code",
      "source": [
        "torch.add(A, B).size() # 64, 3, 128, 128"
      ],
      "metadata": {
        "colab": {
          "base_uri": "https://localhost:8080/"
        },
        "id": "cRDWJkXlro9d",
        "outputId": "4cd29d2d-4e7a-4e4e-a450-a92734767152"
      },
      "execution_count": 178,
      "outputs": [
        {
          "output_type": "execute_result",
          "data": {
            "text/plain": [
              "torch.Size([64, 3, 128, 128])"
            ]
          },
          "metadata": {},
          "execution_count": 178
        }
      ]
    },
    {
      "cell_type": "code",
      "source": [
        "torch.sub(A, B).size() # 64, 3, 128, 128"
      ],
      "metadata": {
        "colab": {
          "base_uri": "https://localhost:8080/"
        },
        "id": "sFAXaLAtrtLh",
        "outputId": "998c73a0-3490-424c-83c9-1804e812c4af"
      },
      "execution_count": 179,
      "outputs": [
        {
          "output_type": "execute_result",
          "data": {
            "text/plain": [
              "torch.Size([64, 3, 128, 128])"
            ]
          },
          "metadata": {},
          "execution_count": 179
        }
      ]
    },
    {
      "cell_type": "code",
      "source": [
        "torch.mul(A, B).size() # 64, 3, 128, 128"
      ],
      "metadata": {
        "colab": {
          "base_uri": "https://localhost:8080/"
        },
        "id": "L6dPu5G1rxAB",
        "outputId": "b937fe9d-b439-46bf-99ee-019e9e0b34a7"
      },
      "execution_count": 180,
      "outputs": [
        {
          "output_type": "execute_result",
          "data": {
            "text/plain": [
              "torch.Size([64, 3, 128, 128])"
            ]
          },
          "metadata": {},
          "execution_count": 180
        }
      ]
    },
    {
      "cell_type": "code",
      "source": [
        "torch.div(A, B).size() # 64, 3, 128, 128"
      ],
      "metadata": {
        "colab": {
          "base_uri": "https://localhost:8080/"
        },
        "id": "AJMskjPTrx7L",
        "outputId": "d2f2e487-206f-44c9-ca86-e78b24cb04f0"
      },
      "execution_count": 181,
      "outputs": [
        {
          "output_type": "execute_result",
          "data": {
            "text/plain": [
              "torch.Size([64, 3, 128, 128])"
            ]
          },
          "metadata": {},
          "execution_count": 181
        }
      ]
    },
    {
      "cell_type": "code",
      "source": [
        "torch.matmul(A, B).size() # 64, 3, 128, 128"
      ],
      "metadata": {
        "colab": {
          "base_uri": "https://localhost:8080/"
        },
        "id": "79qDa0Liryvt",
        "outputId": "41ebe5d4-c92f-4549-d3b3-1127bcbf22fc"
      },
      "execution_count": 182,
      "outputs": [
        {
          "output_type": "execute_result",
          "data": {
            "text/plain": [
              "torch.Size([64, 3, 128, 128])"
            ]
          },
          "metadata": {},
          "execution_count": 182
        }
      ]
    },
    {
      "cell_type": "code",
      "source": [
        "A = torch.randn((64, 3, 128, 128))\n",
        "B = torch.randn((128, )) # If the last dim is same then it can be done"
      ],
      "metadata": {
        "id": "YJG2lWOPr0BL"
      },
      "execution_count": 183,
      "outputs": []
    },
    {
      "cell_type": "code",
      "source": [
        "torch.sub(A, B).size() # 64, 3, 128, 128"
      ],
      "metadata": {
        "colab": {
          "base_uri": "https://localhost:8080/"
        },
        "id": "OrwCSuAFr52r",
        "outputId": "d5323849-4392-44ae-cf21-f723553e0b53"
      },
      "execution_count": 184,
      "outputs": [
        {
          "output_type": "execute_result",
          "data": {
            "text/plain": [
              "torch.Size([64, 3, 128, 128])"
            ]
          },
          "metadata": {},
          "execution_count": 184
        }
      ]
    },
    {
      "cell_type": "code",
      "source": [
        "A = torch.randn((64, 3, 128, 128))\n",
        "B = torch.randn((64, )) # If the last dim is not same then during that time we need to do the broadcasting manually and it can work during that time\n",
        "\n",
        "B = B.unsqueeze(1).unsqueeze(2).unsqueeze(3)"
      ],
      "metadata": {
        "id": "7VGzKzB_r7c6"
      },
      "execution_count": 189,
      "outputs": []
    },
    {
      "cell_type": "code",
      "source": [
        "torch.sub(A, B).size() # 64, 3, 128, 128"
      ],
      "metadata": {
        "colab": {
          "base_uri": "https://localhost:8080/"
        },
        "id": "uXXxbni5r-GB",
        "outputId": "e1bbe470-65da-4730-bba3-d8907f6167ac"
      },
      "execution_count": 190,
      "outputs": [
        {
          "output_type": "execute_result",
          "data": {
            "text/plain": [
              "torch.Size([64, 3, 128, 128])"
            ]
          },
          "metadata": {},
          "execution_count": 190
        }
      ]
    },
    {
      "cell_type": "code",
      "source": [],
      "metadata": {
        "id": "VLdzJor1r_Tc"
      },
      "execution_count": 190,
      "outputs": []
    }
  ]
}