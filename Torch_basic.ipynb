{
  "nbformat": 4,
  "nbformat_minor": 0,
  "metadata": {
    "colab": {
      "provenance": []
    },
    "kernelspec": {
      "name": "python3",
      "display_name": "Python 3"
    },
    "language_info": {
      "name": "python"
    }
  },
  "cells": [
    {
      "cell_type": "code",
      "execution_count": 1,
      "metadata": {
        "id": "Lhi9BAl3vYyH"
      },
      "outputs": [],
      "source": [
        "import torch"
      ]
    },
    {
      "cell_type": "markdown",
      "source": [
        "# Torch.tensor\n",
        "\n",
        "- This will make the data into tensor"
      ],
      "metadata": {
        "id": "6s9zFRs-vdhW"
      }
    },
    {
      "cell_type": "code",
      "source": [
        "data = torch.randint(0, 10, (64, ))\n",
        "data = torch.tensor(data, dtype = torch.float32)\n",
        "\n",
        "print(data)"
      ],
      "metadata": {
        "colab": {
          "base_uri": "https://localhost:8080/"
        },
        "id": "0Huafzz8vfGn",
        "outputId": "812c5d5d-585f-4dcd-ded0-1e328af0bf37"
      },
      "execution_count": 8,
      "outputs": [
        {
          "output_type": "stream",
          "name": "stdout",
          "text": [
            "tensor([8., 7., 2., 6., 4., 4., 2., 7., 0., 5., 4., 6., 5., 2., 0., 9., 5., 4.,\n",
            "        8., 2., 1., 5., 7., 0., 6., 5., 1., 9., 6., 4., 5., 0., 6., 0., 3., 5.,\n",
            "        8., 0., 3., 8., 6., 8., 0., 9., 4., 6., 0., 3., 1., 3., 8., 7., 5., 3.,\n",
            "        8., 3., 8., 0., 7., 0., 7., 5., 0., 4.])\n"
          ]
        },
        {
          "output_type": "stream",
          "name": "stderr",
          "text": [
            "<ipython-input-8-58ed05a1dbab>:2: UserWarning: To copy construct from a tensor, it is recommended to use sourceTensor.clone().detach() or sourceTensor.clone().detach().requires_grad_(True), rather than torch.tensor(sourceTensor).\n",
            "  data = torch.tensor(data, dtype = torch.float32)\n"
          ]
        }
      ]
    },
    {
      "cell_type": "code",
      "source": [
        "row = 4\n",
        "column = 4\n",
        "\n",
        "data = torch.eye(row, column)\n",
        "data = torch.tensor(data = data, dtype = torch.long)\n",
        "\n",
        "print(data)"
      ],
      "metadata": {
        "colab": {
          "base_uri": "https://localhost:8080/"
        },
        "id": "e05xp4YSvuqa",
        "outputId": "dfa9c0f8-07bd-429a-ab5e-e3b66bf446eb"
      },
      "execution_count": 13,
      "outputs": [
        {
          "output_type": "stream",
          "name": "stdout",
          "text": [
            "tensor([[1, 0, 0, 0],\n",
            "        [0, 1, 0, 0],\n",
            "        [0, 0, 1, 0],\n",
            "        [0, 0, 0, 1]])\n"
          ]
        },
        {
          "output_type": "stream",
          "name": "stderr",
          "text": [
            "<ipython-input-13-926a020a37f6>:5: UserWarning: To copy construct from a tensor, it is recommended to use sourceTensor.clone().detach() or sourceTensor.clone().detach().requires_grad_(True), rather than torch.tensor(sourceTensor).\n",
            "  data = torch.tensor(data = data, dtype = torch.long)\n"
          ]
        }
      ]
    },
    {
      "cell_type": "markdown",
      "source": [
        "2. Torch.from_numpy\n",
        "\n",
        "- That will convert the NumPy array into Tensor"
      ],
      "metadata": {
        "id": "Zg3zG_bxwl79"
      }
    },
    {
      "cell_type": "code",
      "source": [
        "import numpy as np\n",
        "\n",
        "data_numpy = np.array([[1, 2, 3, 4, 5],\n",
        "                      [5, 6, 7, 8, 9,],\n",
        "                      [10, 11, 12, 13, 14]])\n",
        "\n",
        "print(data_numpy)\n",
        "print(data_numpy.dtype)\n",
        "\n",
        "print(\"_\"*50,'\\n')\n",
        "\n",
        "data = torch.from_numpy(data_numpy)\n",
        "\n",
        "print(data)\n",
        "print(data.dtype)"
      ],
      "metadata": {
        "colab": {
          "base_uri": "https://localhost:8080/"
        },
        "id": "BTye2SBJwWZu",
        "outputId": "610f0747-9271-4fd0-cf03-2f66d0d20f26"
      },
      "execution_count": 17,
      "outputs": [
        {
          "output_type": "stream",
          "name": "stdout",
          "text": [
            "[[ 1  2  3  4  5]\n",
            " [ 5  6  7  8  9]\n",
            " [10 11 12 13 14]]\n",
            "int64\n",
            "__________________________________________________ \n",
            "\n",
            "tensor([[ 1,  2,  3,  4,  5],\n",
            "        [ 5,  6,  7,  8,  9],\n",
            "        [10, 11, 12, 13, 14]])\n",
            "torch.int64\n"
          ]
        }
      ]
    },
    {
      "cell_type": "markdown",
      "source": [
        "3. Torch.rand()\n",
        "\n",
        "- That will return random variables but not in normal distribution"
      ],
      "metadata": {
        "id": "fHzAUIQqxZV5"
      }
    },
    {
      "cell_type": "code",
      "source": [
        "data_1D = torch.rand((10,))\n",
        "\n",
        "print(data_1D)\n",
        "print(data_1D.shape,'\\n')\n",
        "\n",
        "data_2D = torch.rand((6, 4))\n",
        "print(data_2D.shape)\n",
        "\n",
        "data_ND = torch.rand(64, 3, 64, 64)\n",
        "print(data_ND.shape)"
      ],
      "metadata": {
        "colab": {
          "base_uri": "https://localhost:8080/"
        },
        "id": "R-hHzCVdw3Cl",
        "outputId": "43a81fcd-faa9-4dec-8c0f-691f334fcb08"
      },
      "execution_count": 20,
      "outputs": [
        {
          "output_type": "stream",
          "name": "stdout",
          "text": [
            "tensor([0.4951, 0.3279, 0.4474, 0.8746, 0.0197, 0.4494, 0.1943, 0.1035, 0.2338,\n",
            "        0.6997])\n",
            "torch.Size([10]) \n",
            "\n",
            "torch.Size([6, 4])\n",
            "torch.Size([64, 3, 64, 64])\n"
          ]
        }
      ]
    },
    {
      "cell_type": "markdown",
      "source": [
        "4.  Torch.randn()\n",
        "\n",
        "- That will provide the random variables and it will return the normal distribution of the data"
      ],
      "metadata": {
        "id": "G5pLQKLIyNX1"
      }
    },
    {
      "cell_type": "code",
      "source": [
        "data_1D = torch.randn((64, ))\n",
        "print(data_1D.shape)\n",
        "\n",
        "data_2D = torch.randn((4, 5))\n",
        "print(data_2D.shape)\n",
        "\n",
        "data_ND = torch.randn(64, 1, 64, 64)\n",
        "print(data_ND.shape)"
      ],
      "metadata": {
        "colab": {
          "base_uri": "https://localhost:8080/"
        },
        "id": "Jtt5FbkgxmFz",
        "outputId": "a6ffd3ca-749e-424a-b40c-f4eec43d016f"
      },
      "execution_count": 21,
      "outputs": [
        {
          "output_type": "stream",
          "name": "stdout",
          "text": [
            "torch.Size([64])\n",
            "torch.Size([4, 5])\n",
            "torch.Size([64, 1, 64, 64])\n"
          ]
        }
      ]
    },
    {
      "cell_type": "markdown",
      "source": [
        "5. Torch.randint(start, end, size)\n",
        "\n",
        "- That will return random variables and it will return the int value"
      ],
      "metadata": {
        "id": "cljyQu7Xyy39"
      }
    },
    {
      "cell_type": "code",
      "source": [
        "data_1D = torch.randint(low = 0, high = 5, size = (5,))\n",
        "print(data_1D.shape)\n",
        "\n",
        "data_2D = torch.randint(low = 0, high = 3, size = (4, 5))\n",
        "print(data_2D)\n",
        "\n",
        "data_ND = torch.randint(low = 0, high = 5, size = (3, 1, 3, 4))\n",
        "print(data_ND)"
      ],
      "metadata": {
        "colab": {
          "base_uri": "https://localhost:8080/"
        },
        "id": "N4iJAq5Jyl5w",
        "outputId": "f1bf0094-b76a-4d59-c577-e9c7a22169b5"
      },
      "execution_count": 25,
      "outputs": [
        {
          "output_type": "stream",
          "name": "stdout",
          "text": [
            "torch.Size([5])\n",
            "tensor([[2, 0, 0, 0, 2],\n",
            "        [0, 0, 0, 1, 2],\n",
            "        [1, 1, 1, 2, 1],\n",
            "        [1, 2, 1, 1, 2]])\n",
            "tensor([[[[1, 1, 1, 1],\n",
            "          [4, 3, 1, 2],\n",
            "          [1, 2, 3, 0]]],\n",
            "\n",
            "\n",
            "        [[[0, 2, 3, 3],\n",
            "          [4, 0, 1, 4],\n",
            "          [0, 4, 3, 1]]],\n",
            "\n",
            "\n",
            "        [[[2, 1, 1, 2],\n",
            "          [0, 3, 1, 4],\n",
            "          [1, 0, 0, 0]]]])\n"
          ]
        }
      ]
    },
    {
      "cell_type": "markdown",
      "source": [
        "6. Torch.min()\n",
        "\n",
        "- That will return the min value"
      ],
      "metadata": {
        "id": "08vZ-pWTAniK"
      }
    },
    {
      "cell_type": "code",
      "source": [
        "data = torch.arange(start = 0, end = 11, step = 2)\n",
        "data = data.reshape(2, 3)\n",
        "\n",
        "print(data)\n",
        "\n",
        "print(data.min())"
      ],
      "metadata": {
        "colab": {
          "base_uri": "https://localhost:8080/"
        },
        "id": "3XVrkrMg0EOr",
        "outputId": "f7b578b9-7a38-4654-e227-6f6fe65e45fb"
      },
      "execution_count": 35,
      "outputs": [
        {
          "output_type": "stream",
          "name": "stdout",
          "text": [
            "tensor([[ 0,  2,  4],\n",
            "        [ 6,  8, 10]])\n",
            "tensor(0)\n"
          ]
        }
      ]
    },
    {
      "cell_type": "markdown",
      "source": [
        "7. torch.max()\n",
        "\n",
        "- That will return the maximum value"
      ],
      "metadata": {
        "id": "4jmKYajXBLnB"
      }
    },
    {
      "cell_type": "code",
      "source": [
        "data = torch.arange(start = 0, end = 100, step = 3)\n",
        "data = data.reshape((2, data.shape[0]//2))\n",
        "\n",
        "print(data)\n",
        "\n",
        "print(data.max())"
      ],
      "metadata": {
        "colab": {
          "base_uri": "https://localhost:8080/"
        },
        "id": "Qn9c-amgA2zU",
        "outputId": "a2d56664-d2b8-45c0-80a5-3d12c4abc003"
      },
      "execution_count": 40,
      "outputs": [
        {
          "output_type": "stream",
          "name": "stdout",
          "text": [
            "tensor([[ 0,  3,  6,  9, 12, 15, 18, 21, 24, 27, 30, 33, 36, 39, 42, 45, 48],\n",
            "        [51, 54, 57, 60, 63, 66, 69, 72, 75, 78, 81, 84, 87, 90, 93, 96, 99]])\n",
            "tensor(99)\n"
          ]
        }
      ]
    },
    {
      "cell_type": "markdown",
      "source": [
        "8. torch.mean()\n",
        "\n",
        "- that will return the average value"
      ],
      "metadata": {
        "id": "lVcxNf4DBh3g"
      }
    },
    {
      "cell_type": "code",
      "source": [
        "data = torch.randint(0, 5, (10, ), dtype = torch.float32)\n",
        "\n",
        "print(data)\n",
        "\n",
        "print(data.mean())\n",
        "\n",
        "data = torch.randn((3, 4))\n",
        "\n",
        "print(data)\n",
        "\n",
        "print(data.mean(dim = 1)) # 1 = Row wise\n",
        "\n",
        "data = torch.randint(0, 5, (3, 4), dtype = torch.float32)\n",
        "\n",
        "print(data)\n",
        "\n",
        "print(data.mean(dim = 0)) # 0 - column wise"
      ],
      "metadata": {
        "colab": {
          "base_uri": "https://localhost:8080/"
        },
        "id": "cSsVAWIUBVXX",
        "outputId": "523402b6-67ae-40b3-cc7b-a519d01cd88b"
      },
      "execution_count": 48,
      "outputs": [
        {
          "output_type": "stream",
          "name": "stdout",
          "text": [
            "tensor([0., 0., 1., 1., 0., 1., 2., 1., 3., 1.])\n",
            "tensor(1.)\n",
            "tensor([[ 0.6243,  0.1179, -1.3938, -0.2352],\n",
            "        [-0.2211,  0.0655,  0.1372,  0.3601],\n",
            "        [ 0.9583,  2.1311,  1.2468,  0.1893]])\n",
            "tensor([-0.2217,  0.0854,  1.1314])\n",
            "tensor([[4., 1., 1., 1.],\n",
            "        [1., 1., 0., 1.],\n",
            "        [0., 2., 0., 3.]])\n",
            "tensor([1.6667, 1.3333, 0.3333, 1.6667])\n"
          ]
        }
      ]
    },
    {
      "cell_type": "markdown",
      "source": [
        "9. torch.var()\n",
        "\n",
        "- It will return the variance of the data"
      ],
      "metadata": {
        "id": "CGsfU-UFCqNZ"
      }
    },
    {
      "cell_type": "code",
      "source": [
        "data = torch.linspace(0, 10, 12)\n",
        "data = data.reshape(4, 3)\n",
        "\n",
        "print(data.var(dim = 1)) # 1- ROW wise\n",
        "print(data.var(dim = 0)) # 0- COLUMN wise"
      ],
      "metadata": {
        "colab": {
          "base_uri": "https://localhost:8080/"
        },
        "id": "7qpK_dudBrGo",
        "outputId": "bf27d63d-1c02-4f99-ed9f-5aa5b71e1b90"
      },
      "execution_count": 56,
      "outputs": [
        {
          "output_type": "stream",
          "name": "stdout",
          "text": [
            "tensor([0.8264, 0.8264, 0.8264, 0.8264])\n",
            "tensor([12.3967, 12.3967, 12.3967])\n"
          ]
        }
      ]
    },
    {
      "cell_type": "markdown",
      "source": [
        "10. torch.std()\n",
        "\n",
        "- It will return the standard deviation of the data"
      ],
      "metadata": {
        "id": "a8wcso5ZDLxc"
      }
    },
    {
      "cell_type": "code",
      "source": [
        "data = torch.rand((3, 4))\n",
        "\n",
        "print(data)\n",
        "\n",
        "print(data.std(dim = 1)) # 1 - ROW wise\n",
        "print(data.std(dim = 0)) # 0 - Column wise"
      ],
      "metadata": {
        "colab": {
          "base_uri": "https://localhost:8080/"
        },
        "id": "SEucKIVvCzhK",
        "outputId": "fd488271-0633-4b1f-fd2b-c35a2527e043"
      },
      "execution_count": 58,
      "outputs": [
        {
          "output_type": "stream",
          "name": "stdout",
          "text": [
            "tensor([[0.5410, 0.2355, 0.9923, 0.1403],\n",
            "        [0.5840, 0.9787, 0.4355, 0.7424],\n",
            "        [0.8982, 0.2962, 0.2411, 0.0219]])\n",
            "tensor([0.3836, 0.2324, 0.3751])\n",
            "tensor([0.1950, 0.4127, 0.3899, 0.3864])\n"
          ]
        }
      ]
    },
    {
      "cell_type": "markdown",
      "source": [
        "11. torch.size()\n",
        "\n",
        "- It will return the shape/size of the dataset"
      ],
      "metadata": {
        "id": "W87abMhmDnsl"
      }
    },
    {
      "cell_type": "code",
      "source": [
        "data = torch.rand(3, 4)\n",
        "\n",
        "print(data)\n",
        "\n",
        "print(data.size())\n",
        "\n",
        "print(data.size(0))\n",
        "print(data.size(1))"
      ],
      "metadata": {
        "colab": {
          "base_uri": "https://localhost:8080/"
        },
        "id": "Ti36N74pDTF1",
        "outputId": "4d8e1f96-b1ca-4c22-d232-5b45bc0ffb0e"
      },
      "execution_count": 61,
      "outputs": [
        {
          "output_type": "stream",
          "name": "stdout",
          "text": [
            "tensor([[0.4900, 0.1459, 0.4619, 0.7824],\n",
            "        [0.1013, 0.3910, 0.7213, 0.5136],\n",
            "        [0.7766, 0.0721, 0.1772, 0.2134]])\n",
            "torch.Size([3, 4])\n",
            "3\n",
            "4\n"
          ]
        }
      ]
    },
    {
      "cell_type": "markdown",
      "source": [
        "12. torch.shape\n",
        "\n",
        "- It will return the shape/size of the dataset"
      ],
      "metadata": {
        "id": "LdJDZNaKD-TX"
      }
    },
    {
      "cell_type": "code",
      "source": [
        "data = torch.logspace(0, 10, 24).reshape(4, 6)\n",
        "\n",
        "print(data)\n",
        "\n",
        "print(data.shape)\n",
        "print(data.shape[0])\n",
        "print(data.shape[1])"
      ],
      "metadata": {
        "colab": {
          "base_uri": "https://localhost:8080/"
        },
        "id": "nxhiMukzDum2",
        "outputId": "b71e6cee-acc9-45f1-c91b-66211c145154"
      },
      "execution_count": 62,
      "outputs": [
        {
          "output_type": "stream",
          "name": "stdout",
          "text": [
            "tensor([[1.0000e+00, 2.7213e+00, 7.4057e+00, 2.0153e+01, 5.4844e+01, 1.4925e+02],\n",
            "        [4.0616e+02, 1.1053e+03, 3.0079e+03, 8.1855e+03, 2.2275e+04, 6.0619e+04],\n",
            "        [1.6496e+05, 4.4893e+05, 1.2217e+06, 3.3246e+06, 9.0474e+06, 2.4621e+07],\n",
            "        [6.7002e+07, 1.8233e+08, 4.9619e+08, 1.3503e+09, 3.6747e+09, 1.0000e+10]])\n",
            "torch.Size([4, 6])\n",
            "4\n",
            "6\n"
          ]
        }
      ]
    },
    {
      "cell_type": "markdown",
      "source": [
        "13. torch.view()\n",
        "\n",
        "- It is exactly same as reshape"
      ],
      "metadata": {
        "id": "MJVt4-s8EVHL"
      }
    },
    {
      "cell_type": "code",
      "source": [
        "data = torch.arange(start = 0, end = 100, step = 4)\n",
        "\n",
        "print(data)\n",
        "\n",
        "data = data.view((5, data.size(0)//5))\n",
        "print(data)"
      ],
      "metadata": {
        "colab": {
          "base_uri": "https://localhost:8080/"
        },
        "id": "FhY9pIPREPJE",
        "outputId": "bdd782e0-189b-41d2-da07-6de25643dbe0"
      },
      "execution_count": 66,
      "outputs": [
        {
          "output_type": "stream",
          "name": "stdout",
          "text": [
            "tensor([ 0,  4,  8, 12, 16, 20, 24, 28, 32, 36, 40, 44, 48, 52, 56, 60, 64, 68,\n",
            "        72, 76, 80, 84, 88, 92, 96])\n",
            "tensor([[ 0,  4,  8, 12, 16],\n",
            "        [20, 24, 28, 32, 36],\n",
            "        [40, 44, 48, 52, 56],\n",
            "        [60, 64, 68, 72, 76],\n",
            "        [80, 84, 88, 92, 96]])\n"
          ]
        }
      ]
    },
    {
      "cell_type": "markdown",
      "source": [
        "14. torch.concat()/torch.cat() with dim = 0/1\n",
        "\n",
        "- It will merge the multiple tensor"
      ],
      "metadata": {
        "id": "dO4R1u8nEwRd"
      }
    },
    {
      "cell_type": "code",
      "source": [
        "data1 = torch.randint(1, 100, (24,)).view((4, 6))\n",
        "\n",
        "print(data1.shape)\n",
        "\n",
        "data2 = torch.randn((4, 6))\n",
        "\n",
        "print(data2.shape)\n",
        "\n",
        "data3 = torch.cat((data1, data2), dim = 1)\n",
        "\n",
        "print(data3.shape) # (4, 12)\n",
        "\n",
        "\n",
        "#------------------------------------------------------------------#\n",
        "\n",
        "data1 = torch.randn(4, 6)\n",
        "\n",
        "print(data1.shape)\n",
        "\n",
        "data2 = torch.eye(100, 6)\n",
        "\n",
        "print(data2.shape)\n",
        "\n",
        "data3 = torch.cat((data1, data2), dim = 0)\n",
        "\n",
        "print(data3.shape) # (104, 6)"
      ],
      "metadata": {
        "colab": {
          "base_uri": "https://localhost:8080/"
        },
        "id": "bN9g9hIFEetn",
        "outputId": "c53f2419-11ae-47a9-9397-debe6dc7da94"
      },
      "execution_count": 85,
      "outputs": [
        {
          "output_type": "stream",
          "name": "stdout",
          "text": [
            "torch.Size([4, 6])\n",
            "torch.Size([4, 6])\n",
            "torch.Size([4, 12])\n",
            "torch.Size([4, 6])\n",
            "torch.Size([100, 6])\n",
            "torch.Size([104, 6])\n"
          ]
        }
      ]
    },
    {
      "cell_type": "markdown",
      "source": [
        "15. torch.linspace()\n",
        "\n",
        "- It will return the random variables and return 1D tensor for sure"
      ],
      "metadata": {
        "id": "9lp_x6bfISVc"
      }
    },
    {
      "cell_type": "code",
      "source": [
        "data = torch.linspace(start = 0.01, end = 0.99, steps = 64)\n",
        "\n",
        "print(data.shape)\n",
        "\n",
        "print(data.view(8, data.size(0)//8).shape)"
      ],
      "metadata": {
        "colab": {
          "base_uri": "https://localhost:8080/"
        },
        "id": "elUvVBoYFKLb",
        "outputId": "0fb55347-1952-462f-be44-26069b383c89"
      },
      "execution_count": 90,
      "outputs": [
        {
          "output_type": "stream",
          "name": "stdout",
          "text": [
            "torch.Size([64])\n",
            "torch.Size([8, 8])\n"
          ]
        }
      ]
    },
    {
      "cell_type": "markdown",
      "source": [
        "16. torch.logspace(start, end, steps)\n",
        "\n",
        "- It will return the random varibales using log and return 1D tensor"
      ],
      "metadata": {
        "id": "SyTt5dkCIu3f"
      }
    },
    {
      "cell_type": "code",
      "source": [
        "data = torch.logspace(0.01, 0.99, 24)\n",
        "\n",
        "print(data.size())\n",
        "\n",
        "print(data.view(4, 6))"
      ],
      "metadata": {
        "colab": {
          "base_uri": "https://localhost:8080/"
        },
        "id": "aWDa00PVF1-G",
        "outputId": "aef44699-c496-43f0-c60f-46edb6e2485f"
      },
      "execution_count": 91,
      "outputs": [
        {
          "output_type": "stream",
          "name": "stdout",
          "text": [
            "torch.Size([24])\n",
            "tensor([[1.0233, 1.1288, 1.2451, 1.3735, 1.5151, 1.6713],\n",
            "        [1.8435, 2.0336, 2.2432, 2.4744, 2.7295, 3.0109],\n",
            "        [3.3213, 3.6636, 4.0413, 4.4579, 4.9174, 5.4244],\n",
            "        [5.9835, 6.6003, 7.2807, 8.0312, 8.8591, 9.7724]])\n"
          ]
        }
      ]
    },
    {
      "cell_type": "markdown",
      "source": [
        "17. torch.arange(start, end, steps)\n",
        "\n",
        "- It will return random varibales and return 1D tesnor"
      ],
      "metadata": {
        "id": "bIwKwpIeJE1I"
      }
    },
    {
      "cell_type": "code",
      "source": [
        "torch.arange(0, 100, 0.01).shape"
      ],
      "metadata": {
        "colab": {
          "base_uri": "https://localhost:8080/"
        },
        "id": "mwHoKrlvJDp9",
        "outputId": "9d63d473-c078-4877-963a-901d725f9a3f"
      },
      "execution_count": 93,
      "outputs": [
        {
          "output_type": "execute_result",
          "data": {
            "text/plain": [
              "torch.Size([10000])"
            ]
          },
          "metadata": {},
          "execution_count": 93
        }
      ]
    },
    {
      "cell_type": "markdown",
      "source": [
        "18. torch.zeros()\n",
        "\n",
        "- It will give a tensor with full zeros"
      ],
      "metadata": {
        "id": "3iucG14OJh5G"
      }
    },
    {
      "cell_type": "code",
      "source": [
        "data = torch.zeros((4, ))\n",
        "\n",
        "print(data.shape)\n",
        "\n",
        "data = torch.zeros((4, 6))\n",
        "\n",
        "print(data.shape)\n",
        "\n",
        "data = torch.zeros((64, 1, 64, 64))\n",
        "\n",
        "print(data.shape)"
      ],
      "metadata": {
        "colab": {
          "base_uri": "https://localhost:8080/"
        },
        "id": "4TYCoT5cJPXa",
        "outputId": "de59953e-67f4-4b03-8d11-2dbc28d5760f"
      },
      "execution_count": 94,
      "outputs": [
        {
          "output_type": "stream",
          "name": "stdout",
          "text": [
            "torch.Size([4])\n",
            "torch.Size([4, 6])\n",
            "torch.Size([64, 1, 64, 64])\n"
          ]
        }
      ]
    },
    {
      "cell_type": "markdown",
      "source": [
        "19. torch.ones()\n",
        "\n",
        "- It will return the tensor with full of ones"
      ],
      "metadata": {
        "id": "vEzKCySGJ0LS"
      }
    },
    {
      "cell_type": "code",
      "source": [
        "data = torch.ones((64, ))\n",
        "\n",
        "print(data.size())\n",
        "\n",
        "data = torch.ones((4, 6))\n",
        "\n",
        "print(data.size())\n",
        "\n",
        "data = torch.ones((3, 1, 64, 64))\n",
        "\n",
        "print(data.shape)"
      ],
      "metadata": {
        "colab": {
          "base_uri": "https://localhost:8080/"
        },
        "id": "Zsz1fVpaJy-s",
        "outputId": "2d29f40c-772c-4f8e-c3b0-62b280986667"
      },
      "execution_count": 95,
      "outputs": [
        {
          "output_type": "stream",
          "name": "stdout",
          "text": [
            "torch.Size([64])\n",
            "torch.Size([4, 6])\n",
            "torch.Size([3, 1, 64, 64])\n"
          ]
        }
      ]
    },
    {
      "cell_type": "markdown",
      "source": [
        "20. torch.full()\n",
        "\n",
        "- It will return the tensor with specific value"
      ],
      "metadata": {
        "id": "FoDrjMEuKwge"
      }
    },
    {
      "cell_type": "code",
      "source": [
        "print(torch.full((64, ), 5))\n",
        "\n",
        "print(torch.full((4, 6), 0.0009))"
      ],
      "metadata": {
        "colab": {
          "base_uri": "https://localhost:8080/"
        },
        "id": "QDJyACEOKEkW",
        "outputId": "c67f8ac4-94f0-4162-d984-1cd63c301379"
      },
      "execution_count": 97,
      "outputs": [
        {
          "output_type": "stream",
          "name": "stdout",
          "text": [
            "tensor([5, 5, 5, 5, 5, 5, 5, 5, 5, 5, 5, 5, 5, 5, 5, 5, 5, 5, 5, 5, 5, 5, 5, 5,\n",
            "        5, 5, 5, 5, 5, 5, 5, 5, 5, 5, 5, 5, 5, 5, 5, 5, 5, 5, 5, 5, 5, 5, 5, 5,\n",
            "        5, 5, 5, 5, 5, 5, 5, 5, 5, 5, 5, 5, 5, 5, 5, 5])\n",
            "tensor([[0.0009, 0.0009, 0.0009, 0.0009, 0.0009, 0.0009],\n",
            "        [0.0009, 0.0009, 0.0009, 0.0009, 0.0009, 0.0009],\n",
            "        [0.0009, 0.0009, 0.0009, 0.0009, 0.0009, 0.0009],\n",
            "        [0.0009, 0.0009, 0.0009, 0.0009, 0.0009, 0.0009]])\n"
          ]
        }
      ]
    },
    {
      "cell_type": "markdown",
      "source": [
        "21. torch.unbind()\n",
        "\n",
        "- It will split the tensor and return the tuple"
      ],
      "metadata": {
        "id": "ik0ju3ZDK2jM"
      }
    },
    {
      "cell_type": "code",
      "source": [
        "data = torch.linspace(0.01, 0.99, 64)\n",
        "data = data.view(8, 8)\n",
        "\n",
        "print(data.unbind()[0])\n",
        "print(data.unbind()[6])"
      ],
      "metadata": {
        "colab": {
          "base_uri": "https://localhost:8080/"
        },
        "id": "Zc0Vd3vRKQKj",
        "outputId": "f62eb9c0-f3d7-448b-b6bc-2165f0bb65f2"
      },
      "execution_count": 100,
      "outputs": [
        {
          "output_type": "stream",
          "name": "stdout",
          "text": [
            "tensor([0.0100, 0.0256, 0.0411, 0.0567, 0.0722, 0.0878, 0.1033, 0.1189])\n",
            "tensor([0.7567, 0.7722, 0.7878, 0.8033, 0.8189, 0.8344, 0.8500, 0.8656])\n"
          ]
        }
      ]
    },
    {
      "cell_type": "markdown",
      "source": [
        "22. torch.pow()\n",
        "\n",
        "- It will return the power of the tensor"
      ],
      "metadata": {
        "id": "IujYxGTbLSsr"
      }
    },
    {
      "cell_type": "code",
      "source": [
        "data = torch.randint(0, 10, (10, ))\n",
        "\n",
        "print(torch.pow(data, 2))\n",
        "print(data.pow(2))\n",
        "\n",
        "data = torch.arange(0, 10, 1)\n",
        "data = data.view(2, 5)\n",
        "\n",
        "print(data.pow(0.001))"
      ],
      "metadata": {
        "colab": {
          "base_uri": "https://localhost:8080/"
        },
        "id": "3iHUAxkVLEKD",
        "outputId": "e7c4c547-24c9-4ce3-f9de-bc2760ecfc99"
      },
      "execution_count": 108,
      "outputs": [
        {
          "output_type": "stream",
          "name": "stdout",
          "text": [
            "tensor([81, 16,  1,  0, 25, 64, 64,  0, 16, 64])\n",
            "tensor([81, 16,  1,  0, 25, 64, 64,  0, 16, 64])\n",
            "tensor([[0.0000, 1.0000, 1.0007, 1.0011, 1.0014],\n",
            "        [1.0016, 1.0018, 1.0019, 1.0021, 1.0022]])\n"
          ]
        }
      ]
    },
    {
      "cell_type": "markdown",
      "source": [
        "23. torch.sort()\n",
        "\n",
        "- It will return the sorted value and indicies and use dim 1/0\n",
        "\n",
        "- 1 means ROW wise\n",
        "- 0 means Column wise"
      ],
      "metadata": {
        "id": "iB-3ocxaMTD6"
      }
    },
    {
      "cell_type": "code",
      "source": [
        "data = torch.randint(1, 20, (15, ))\n",
        "sorted_value, _ = data.sort()\n",
        "\n",
        "print(sorted_value)\n",
        "\n",
        "data = torch.randint(0, 100, (24, ))\n",
        "data = data.view(4, 6)\n",
        "\n",
        "print(data)\n",
        "\n",
        "value, _ = data.sort(dim = 1, descending=False) # Row wise\n",
        "print(value)\n",
        "\n",
        "\n",
        "value, _ = data.sort(dim = 0, descending=False) # Column wise\n",
        "print(value)"
      ],
      "metadata": {
        "colab": {
          "base_uri": "https://localhost:8080/"
        },
        "id": "xeWXr7KMLcHD",
        "outputId": "0002ae5e-639f-4495-e5db-fddda23ddcde"
      },
      "execution_count": 112,
      "outputs": [
        {
          "output_type": "stream",
          "name": "stdout",
          "text": [
            "tensor([ 4,  4,  6,  6,  8,  8,  9,  9, 10, 11, 11, 13, 14, 18, 19])\n",
            "tensor([[90, 94, 18, 72, 10, 74],\n",
            "        [ 9, 66, 77, 35, 82, 77],\n",
            "        [23, 22, 59, 95,  8, 25],\n",
            "        [57, 99, 76, 12, 71, 10]])\n",
            "tensor([[10, 18, 72, 74, 90, 94],\n",
            "        [ 9, 35, 66, 77, 77, 82],\n",
            "        [ 8, 22, 23, 25, 59, 95],\n",
            "        [10, 12, 57, 71, 76, 99]])\n",
            "tensor([[ 9, 22, 18, 12,  8, 10],\n",
            "        [23, 66, 59, 35, 10, 25],\n",
            "        [57, 94, 76, 72, 71, 74],\n",
            "        [90, 99, 77, 95, 82, 77]])\n"
          ]
        }
      ]
    },
    {
      "cell_type": "markdown",
      "source": [
        "24. Torch.unsquueze()\n",
        "\n",
        "- It will create a new dimension"
      ],
      "metadata": {
        "id": "LC7HH8-DNXql"
      }
    },
    {
      "cell_type": "code",
      "source": [
        "data = torch.randn((4, 6))\n",
        "print(data.size())\n",
        "\n",
        "print(data.unsqueeze(1).shape)\n",
        "\n",
        "print(data.unsqueeze(0).shape)\n",
        "\n",
        "print(data.unsqueeze(2).shape)"
      ],
      "metadata": {
        "colab": {
          "base_uri": "https://localhost:8080/"
        },
        "id": "NlwaU0fPMoI9",
        "outputId": "8ded77bc-abea-467f-a4f0-4f06478cd3aa"
      },
      "execution_count": 116,
      "outputs": [
        {
          "output_type": "stream",
          "name": "stdout",
          "text": [
            "torch.Size([4, 6])\n",
            "torch.Size([4, 1, 6])\n",
            "torch.Size([1, 4, 6])\n",
            "torch.Size([4, 6, 1])\n"
          ]
        }
      ]
    },
    {
      "cell_type": "markdown",
      "source": [
        "25. torch.squeeze()\n",
        "\n",
        "- It will remove the dimension where it has 1"
      ],
      "metadata": {
        "id": "EEeVbFoZPzcO"
      }
    },
    {
      "cell_type": "code",
      "source": [
        "data = torch.logspace(10, 111, 24).reshape(1, 4, 6)\n",
        "\n",
        "print(data.shape)\n",
        "\n",
        "print(data.squeeze().shape)\n",
        "\n",
        "print(data.unsqueeze(2).squeeze().shape)"
      ],
      "metadata": {
        "colab": {
          "base_uri": "https://localhost:8080/"
        },
        "id": "8K7jdD4dPqf9",
        "outputId": "7354fe04-5c21-449d-eecf-8f834f110076"
      },
      "execution_count": 120,
      "outputs": [
        {
          "output_type": "stream",
          "name": "stdout",
          "text": [
            "torch.Size([1, 4, 6])\n",
            "torch.Size([4, 6])\n",
            "torch.Size([4, 6])\n"
          ]
        }
      ]
    },
    {
      "cell_type": "markdown",
      "source": [
        "26. torch.tile()\n",
        "\n",
        "- It will change the dimension"
      ],
      "metadata": {
        "id": "YCtNOju4Qbii"
      }
    },
    {
      "cell_type": "code",
      "source": [
        "data = torch.randn(32, 1, 32, 32)\n",
        "\n",
        "print(data.shape)\n",
        "\n",
        "print(data.tile(2, 3, 2, 2).shape) # 64, 3, 64, 64"
      ],
      "metadata": {
        "colab": {
          "base_uri": "https://localhost:8080/"
        },
        "id": "kgYsVy0PQE5n",
        "outputId": "97a6ec2f-dc44-498a-aa31-9e8c3931fec1"
      },
      "execution_count": 122,
      "outputs": [
        {
          "output_type": "stream",
          "name": "stdout",
          "text": [
            "torch.Size([32, 1, 32, 32])\n",
            "torch.Size([64, 3, 64, 64])\n"
          ]
        }
      ]
    },
    {
      "cell_type": "markdown",
      "source": [
        "27. torch.eye()\n",
        "\n",
        "- It will create a tensor (row*column)"
      ],
      "metadata": {
        "id": "WwX0ZOweQ1Oa"
      }
    },
    {
      "cell_type": "code",
      "source": [
        "data = torch.eye(3)\n",
        "\n",
        "print(data)\n",
        "\n",
        "data = torch.eye(3, 3)\n",
        "\n",
        "print(data)"
      ],
      "metadata": {
        "colab": {
          "base_uri": "https://localhost:8080/"
        },
        "id": "awADIbiNQqoK",
        "outputId": "846a7e6c-eb45-4f63-de08-e2093e82bee0"
      },
      "execution_count": 123,
      "outputs": [
        {
          "output_type": "stream",
          "name": "stdout",
          "text": [
            "tensor([[1., 0., 0.],\n",
            "        [0., 1., 0.],\n",
            "        [0., 0., 1.]])\n",
            "tensor([[1., 0., 0.],\n",
            "        [0., 1., 0.],\n",
            "        [0., 0., 1.]])\n"
          ]
        }
      ]
    },
    {
      "cell_type": "markdown",
      "source": [
        "28. torch.where()\n",
        "\n",
        "- Its same as np.where"
      ],
      "metadata": {
        "id": "CIEom7dsRLob"
      }
    },
    {
      "cell_type": "code",
      "source": [
        "data = torch.randint(1, 100, (20, )).view(4, 5)\n",
        "\n",
        "print(data)\n",
        "\n",
        "mask = torch.where(data%2==0, 1, 0)\n",
        "\n",
        "print(mask)"
      ],
      "metadata": {
        "colab": {
          "base_uri": "https://localhost:8080/"
        },
        "id": "MPGr6qltRCJh",
        "outputId": "7d02fe0e-a7e8-4fc7-894d-e18a4ce43dd1"
      },
      "execution_count": 128,
      "outputs": [
        {
          "output_type": "stream",
          "name": "stdout",
          "text": [
            "tensor([[88, 16, 26, 39, 95],\n",
            "        [88, 19, 19,  7, 58],\n",
            "        [74, 35, 87, 31, 92],\n",
            "        [89, 94, 33, 39, 31]])\n",
            "tensor([[1, 1, 1, 0, 0],\n",
            "        [1, 0, 0, 0, 1],\n",
            "        [1, 0, 0, 0, 1],\n",
            "        [0, 1, 0, 0, 0]])\n"
          ]
        }
      ]
    },
    {
      "cell_type": "markdown",
      "source": [
        "29.torch.transpose()/t\n",
        "\n",
        "- It will change all the tensor"
      ],
      "metadata": {
        "id": "EEEuB_TXRwOz"
      }
    },
    {
      "cell_type": "code",
      "source": [
        "data = torch.full((20, ), 0.009, dtype = torch.float).view(4, 5)\n",
        "\n",
        "print(data.shape)\n",
        "print(data.t().size())"
      ],
      "metadata": {
        "colab": {
          "base_uri": "https://localhost:8080/"
        },
        "id": "pbcheofgRa1B",
        "outputId": "7b220db0-93db-451c-ad2b-453628b011bc"
      },
      "execution_count": 135,
      "outputs": [
        {
          "output_type": "stream",
          "name": "stdout",
          "text": [
            "torch.Size([4, 5])\n",
            "torch.Size([5, 4])\n"
          ]
        }
      ]
    },
    {
      "cell_type": "markdown",
      "source": [
        "30. torch.hstack()\n",
        "\n",
        "- It will stack the data like torch.cat() with dim = 1"
      ],
      "metadata": {
        "id": "auD6O3baSSmo"
      }
    },
    {
      "cell_type": "code",
      "source": [
        "data1 = torch.randn((10, 4))\n",
        "data2 = torch.randn((10, 100))\n",
        "\n",
        "print(torch.cat((data1, data2), dim = 1).shape)\n",
        "\n",
        "print(torch.hstack((data1, data2)).shape)"
      ],
      "metadata": {
        "colab": {
          "base_uri": "https://localhost:8080/"
        },
        "id": "1NMtOpd2R9dC",
        "outputId": "5e6e345b-983b-4009-a552-f97e5cd02c4f"
      },
      "execution_count": 140,
      "outputs": [
        {
          "output_type": "stream",
          "name": "stdout",
          "text": [
            "torch.Size([10, 104])\n",
            "torch.Size([10, 104])\n"
          ]
        }
      ]
    },
    {
      "cell_type": "markdown",
      "source": [
        "31. torch.vstack()\n",
        "\n",
        "- It will stack the tensor with torch.cat() - dim = 0"
      ],
      "metadata": {
        "id": "urRbJ5P8S1uJ"
      }
    },
    {
      "cell_type": "code",
      "source": [
        "data1 = torch.randint(1, 6, (4, 5), dtype = torch.float32)\n",
        "data2 = torch.full((100, 5), 0.001)\n",
        "\n",
        "print(torch.cat((data1, data2), dim = 0).shape)\n",
        "print(torch.vstack((data1, data2)).shape)"
      ],
      "metadata": {
        "colab": {
          "base_uri": "https://localhost:8080/"
        },
        "id": "AMAMSbyySjHA",
        "outputId": "586197b6-8d08-4761-c965-2d887c697ec5"
      },
      "execution_count": 143,
      "outputs": [
        {
          "output_type": "stream",
          "name": "stdout",
          "text": [
            "torch.Size([104, 5])\n",
            "torch.Size([104, 5])\n"
          ]
        }
      ]
    }
  ]
}