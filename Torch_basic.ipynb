{
  "nbformat": 4,
  "nbformat_minor": 0,
  "metadata": {
    "colab": {
      "provenance": []
    },
    "kernelspec": {
      "name": "python3",
      "display_name": "Python 3"
    },
    "language_info": {
      "name": "python"
    }
  },
  "cells": [
    {
      "cell_type": "code",
      "execution_count": 129,
      "metadata": {
        "id": "dari1ToS01IU"
      },
      "outputs": [],
      "source": [
        "import torch\n",
        "import torch.nn as nn"
      ]
    },
    {
      "cell_type": "markdown",
      "source": [
        "# 1. torch.tensor"
      ],
      "metadata": {
        "id": "2i7usWkl08yw"
      }
    },
    {
      "cell_type": "code",
      "source": [
        "# Create 1D tesnor\n",
        "torch.tensor([1, 2, 3])"
      ],
      "metadata": {
        "colab": {
          "base_uri": "https://localhost:8080/"
        },
        "id": "tDKdIul_05Gg",
        "outputId": "3079ed26-76ce-4f57-befe-d214f9128fec"
      },
      "execution_count": 130,
      "outputs": [
        {
          "output_type": "execute_result",
          "data": {
            "text/plain": [
              "tensor([1, 2, 3])"
            ]
          },
          "metadata": {},
          "execution_count": 130
        }
      ]
    },
    {
      "cell_type": "code",
      "source": [
        "type(torch.tensor([1, 2, 3]))"
      ],
      "metadata": {
        "colab": {
          "base_uri": "https://localhost:8080/"
        },
        "id": "c16j9ZQr1Ckv",
        "outputId": "ea49ed10-3b8d-43c4-e566-f0ab19afedc0"
      },
      "execution_count": 131,
      "outputs": [
        {
          "output_type": "execute_result",
          "data": {
            "text/plain": [
              "torch.Tensor"
            ]
          },
          "metadata": {},
          "execution_count": 131
        }
      ]
    },
    {
      "cell_type": "code",
      "source": [
        "# Create 2d tensor\n",
        "torch.tensor([\n",
        "    [1, 2, 3],\n",
        "    [4, 5, 6]\n",
        "])"
      ],
      "metadata": {
        "colab": {
          "base_uri": "https://localhost:8080/"
        },
        "id": "EyjU5IOo1FFG",
        "outputId": "269b3578-ac2b-41d7-8e95-04a205ab53c2"
      },
      "execution_count": 132,
      "outputs": [
        {
          "output_type": "execute_result",
          "data": {
            "text/plain": [
              "tensor([[1, 2, 3],\n",
              "        [4, 5, 6]])"
            ]
          },
          "metadata": {},
          "execution_count": 132
        }
      ]
    },
    {
      "cell_type": "code",
      "source": [
        "# Create 3D tensor\n",
        "\n",
        "torch.tensor([[\n",
        "    [1, 2, 3],\n",
        "    [4, 5, 6]\n",
        "]])"
      ],
      "metadata": {
        "colab": {
          "base_uri": "https://localhost:8080/"
        },
        "id": "5aQTbtFp1LXG",
        "outputId": "7192d52d-3d1c-43f7-9c3e-1b4a9ed2c487"
      },
      "execution_count": 133,
      "outputs": [
        {
          "output_type": "execute_result",
          "data": {
            "text/plain": [
              "tensor([[[1, 2, 3],\n",
              "         [4, 5, 6]]])"
            ]
          },
          "metadata": {},
          "execution_count": 133
        }
      ]
    },
    {
      "cell_type": "code",
      "source": [
        "# Create the tensor and show dim\n",
        "torch.tensor([[\n",
        "    [1, 2, 3],\n",
        "    [4, 5, 6]\n",
        "]]).dim()"
      ],
      "metadata": {
        "colab": {
          "base_uri": "https://localhost:8080/"
        },
        "id": "Ffn_moMc1Rg5",
        "outputId": "68349be3-bb70-4395-a454-a0390b14894e"
      },
      "execution_count": 134,
      "outputs": [
        {
          "output_type": "execute_result",
          "data": {
            "text/plain": [
              "3"
            ]
          },
          "metadata": {},
          "execution_count": 134
        }
      ]
    },
    {
      "cell_type": "code",
      "source": [
        "import numpy as np\n",
        "np_array = np.array([[1, 2, 3,], [4, 5, 6]])\n",
        "\n",
        "torch.tensor(data = np_array, dtype = torch.float)"
      ],
      "metadata": {
        "colab": {
          "base_uri": "https://localhost:8080/"
        },
        "id": "6bnuCfLb1ULP",
        "outputId": "0d59fba2-d9f9-49f9-b8c8-9e7580a0b8a1"
      },
      "execution_count": 135,
      "outputs": [
        {
          "output_type": "execute_result",
          "data": {
            "text/plain": [
              "tensor([[1., 2., 3.],\n",
              "        [4., 5., 6.]])"
            ]
          },
          "metadata": {},
          "execution_count": 135
        }
      ]
    },
    {
      "cell_type": "markdown",
      "source": [
        "# 2. torch.from_numpy()"
      ],
      "metadata": {
        "id": "vOeXIZDk1rGc"
      }
    },
    {
      "cell_type": "code",
      "source": [
        "np_arary = np.array([\n",
        "    [1, 2, 3],\n",
        "    [4, 5, 6]\n",
        "])\n",
        "\n",
        "torch.from_numpy(np_array)"
      ],
      "metadata": {
        "colab": {
          "base_uri": "https://localhost:8080/"
        },
        "id": "d8zhGM5s1kkx",
        "outputId": "3413cd9a-b074-41a0-b604-85ed01ec85be"
      },
      "execution_count": 136,
      "outputs": [
        {
          "output_type": "execute_result",
          "data": {
            "text/plain": [
              "tensor([[1, 2, 3],\n",
              "        [4, 5, 6]])"
            ]
          },
          "metadata": {},
          "execution_count": 136
        }
      ]
    },
    {
      "cell_type": "code",
      "source": [
        "torch.tensor(data = np_array)"
      ],
      "metadata": {
        "colab": {
          "base_uri": "https://localhost:8080/"
        },
        "id": "Z7Iu2QJU136V",
        "outputId": "ea386158-240b-4f27-89d8-d4ac1b927c76"
      },
      "execution_count": 137,
      "outputs": [
        {
          "output_type": "execute_result",
          "data": {
            "text/plain": [
              "tensor([[1, 2, 3],\n",
              "        [4, 5, 6]])"
            ]
          },
          "metadata": {},
          "execution_count": 137
        }
      ]
    },
    {
      "cell_type": "code",
      "source": [
        "A = torch.from_numpy(np_array)\n",
        "B = torch.tensor(data = np_array)\n",
        "\n",
        "A.eq(B)"
      ],
      "metadata": {
        "colab": {
          "base_uri": "https://localhost:8080/"
        },
        "id": "9tY6z32b1_KV",
        "outputId": "388f9102-2905-4d6c-a8c6-3e09e7f3ddb7"
      },
      "execution_count": 138,
      "outputs": [
        {
          "output_type": "execute_result",
          "data": {
            "text/plain": [
              "tensor([[True, True, True],\n",
              "        [True, True, True]])"
            ]
          },
          "metadata": {},
          "execution_count": 138
        }
      ]
    },
    {
      "cell_type": "markdown",
      "source": [
        "# 3. torch.rand()"
      ],
      "metadata": {
        "id": "ePXT27GK2K-P"
      }
    },
    {
      "cell_type": "code",
      "source": [
        "# Create the random_variables\n",
        "\n",
        "# 1D\n",
        "torch.rand((64, )).size()"
      ],
      "metadata": {
        "colab": {
          "base_uri": "https://localhost:8080/"
        },
        "id": "ZDgfMDTl2Ipp",
        "outputId": "f0cae13b-b85c-42c8-f99d-df8f44864d8b"
      },
      "execution_count": 139,
      "outputs": [
        {
          "output_type": "execute_result",
          "data": {
            "text/plain": [
              "torch.Size([64])"
            ]
          },
          "metadata": {},
          "execution_count": 139
        }
      ]
    },
    {
      "cell_type": "code",
      "source": [
        "# 2D\n",
        "torch.rand((3, 4), dtype = torch.float32)"
      ],
      "metadata": {
        "colab": {
          "base_uri": "https://localhost:8080/"
        },
        "id": "cQXFGa5i2TNi",
        "outputId": "80ade14a-4f9f-40f6-df42-a414e7c7e702"
      },
      "execution_count": 140,
      "outputs": [
        {
          "output_type": "execute_result",
          "data": {
            "text/plain": [
              "tensor([[0.3562, 0.8405, 0.8168, 0.4210],\n",
              "        [0.2720, 0.5742, 0.3860, 0.8090],\n",
              "        [0.8918, 0.4823, 0.2892, 0.2260]])"
            ]
          },
          "metadata": {},
          "execution_count": 140
        }
      ]
    },
    {
      "cell_type": "code",
      "source": [
        "# 3D\n",
        "torch.rand((64, 3, 64, 64)).size()"
      ],
      "metadata": {
        "colab": {
          "base_uri": "https://localhost:8080/"
        },
        "id": "fcT4in7V2Zv7",
        "outputId": "ba60d7ae-e509-4af0-a4bd-84033a3bea81"
      },
      "execution_count": 141,
      "outputs": [
        {
          "output_type": "execute_result",
          "data": {
            "text/plain": [
              "torch.Size([64, 3, 64, 64])"
            ]
          },
          "metadata": {},
          "execution_count": 141
        }
      ]
    },
    {
      "cell_type": "markdown",
      "source": [
        "# 4. torch.randn()"
      ],
      "metadata": {
        "id": "ZYkmcqYc2gIC"
      }
    },
    {
      "cell_type": "code",
      "source": [
        "# 1D - random variables\n",
        "torch.randn((64, )).size()"
      ],
      "metadata": {
        "colab": {
          "base_uri": "https://localhost:8080/"
        },
        "id": "AWC6maYG2eyX",
        "outputId": "909b62ea-7d9a-40c4-e2bc-3a77045c1bae"
      },
      "execution_count": 142,
      "outputs": [
        {
          "output_type": "execute_result",
          "data": {
            "text/plain": [
              "torch.Size([64])"
            ]
          },
          "metadata": {},
          "execution_count": 142
        }
      ]
    },
    {
      "cell_type": "code",
      "source": [
        "# 2D\n",
        "torch.randn((3, 4)).size()"
      ],
      "metadata": {
        "colab": {
          "base_uri": "https://localhost:8080/"
        },
        "id": "yX1lh-OY2oH5",
        "outputId": "8009e09f-0b33-408b-a139-fa9a33991a55"
      },
      "execution_count": 143,
      "outputs": [
        {
          "output_type": "execute_result",
          "data": {
            "text/plain": [
              "torch.Size([3, 4])"
            ]
          },
          "metadata": {},
          "execution_count": 143
        }
      ]
    },
    {
      "cell_type": "code",
      "source": [
        "# 3D\n",
        "torch.randn((64, 3, 64, 64)).size()"
      ],
      "metadata": {
        "colab": {
          "base_uri": "https://localhost:8080/"
        },
        "id": "jyO3wCM62sBc",
        "outputId": "f9edd426-3282-4f6f-b374-2156cb3ded3f"
      },
      "execution_count": 144,
      "outputs": [
        {
          "output_type": "execute_result",
          "data": {
            "text/plain": [
              "torch.Size([64, 3, 64, 64])"
            ]
          },
          "metadata": {},
          "execution_count": 144
        }
      ]
    },
    {
      "cell_type": "markdown",
      "source": [
        "# 5. torch.randint()"
      ],
      "metadata": {
        "id": "UpheXdyV2xnu"
      }
    },
    {
      "cell_type": "code",
      "source": [
        "# 1D\n",
        "torch.randint(0, 101, (64, )).size()"
      ],
      "metadata": {
        "colab": {
          "base_uri": "https://localhost:8080/"
        },
        "id": "IrV1dQPb2wEp",
        "outputId": "db8f7153-3c7c-4288-83a7-393f511b5eca"
      },
      "execution_count": 145,
      "outputs": [
        {
          "output_type": "execute_result",
          "data": {
            "text/plain": [
              "torch.Size([64])"
            ]
          },
          "metadata": {},
          "execution_count": 145
        }
      ]
    },
    {
      "cell_type": "code",
      "source": [
        "# 2D\n",
        "torch.randint(0, 20, (3, 5)).size()"
      ],
      "metadata": {
        "colab": {
          "base_uri": "https://localhost:8080/"
        },
        "id": "o5rhS-yh26Gs",
        "outputId": "4f2308ab-4d6e-4b90-a359-ce63ffd3d080"
      },
      "execution_count": 146,
      "outputs": [
        {
          "output_type": "execute_result",
          "data": {
            "text/plain": [
              "torch.Size([3, 5])"
            ]
          },
          "metadata": {},
          "execution_count": 146
        }
      ]
    },
    {
      "cell_type": "code",
      "source": [
        "# 3D\n",
        "torch.randint(0, 5, (64, 3, 64, 64)).size()"
      ],
      "metadata": {
        "colab": {
          "base_uri": "https://localhost:8080/"
        },
        "id": "jT634IjM3CQ-",
        "outputId": "2affe093-4d63-42a4-d59a-92a8d0557184"
      },
      "execution_count": 147,
      "outputs": [
        {
          "output_type": "execute_result",
          "data": {
            "text/plain": [
              "torch.Size([64, 3, 64, 64])"
            ]
          },
          "metadata": {},
          "execution_count": 147
        }
      ]
    },
    {
      "cell_type": "markdown",
      "source": [
        "# 6. torch.min()"
      ],
      "metadata": {
        "id": "GAC1K_J23KRw"
      }
    },
    {
      "cell_type": "code",
      "source": [
        "torch.tensor([1, -2, 3]).min()"
      ],
      "metadata": {
        "colab": {
          "base_uri": "https://localhost:8080/"
        },
        "id": "zAlFuNAM3IyB",
        "outputId": "45405d90-b6e6-41bf-9eed-81782252ba61"
      },
      "execution_count": 148,
      "outputs": [
        {
          "output_type": "execute_result",
          "data": {
            "text/plain": [
              "tensor(-2)"
            ]
          },
          "metadata": {},
          "execution_count": 148
        }
      ]
    },
    {
      "cell_type": "code",
      "source": [
        "value, _ = torch.randint(0, 50, (3, 4)).min(dim = 1) # Row wise\n",
        "value"
      ],
      "metadata": {
        "colab": {
          "base_uri": "https://localhost:8080/"
        },
        "id": "qiC0T89f3PSe",
        "outputId": "8b395c39-3eef-4761-82ab-db16a5486529"
      },
      "execution_count": 149,
      "outputs": [
        {
          "output_type": "execute_result",
          "data": {
            "text/plain": [
              "tensor([7, 2, 3])"
            ]
          },
          "metadata": {},
          "execution_count": 149
        }
      ]
    },
    {
      "cell_type": "code",
      "source": [
        "value, _ = torch.randint(0, 50, (3, 4)).min(dim = 0) # Column wise\n",
        "value"
      ],
      "metadata": {
        "colab": {
          "base_uri": "https://localhost:8080/"
        },
        "id": "qDkg5h3o3d5i",
        "outputId": "18b3fbc5-8655-43c7-ea14-baa339b79486"
      },
      "execution_count": 150,
      "outputs": [
        {
          "output_type": "execute_result",
          "data": {
            "text/plain": [
              "tensor([ 1, 11,  4, 15])"
            ]
          },
          "metadata": {},
          "execution_count": 150
        }
      ]
    },
    {
      "cell_type": "code",
      "source": [
        "value.min()"
      ],
      "metadata": {
        "colab": {
          "base_uri": "https://localhost:8080/"
        },
        "id": "M8ARHyjj3m_a",
        "outputId": "4bdb0034-bb22-411c-b34f-a09a09c259da"
      },
      "execution_count": 151,
      "outputs": [
        {
          "output_type": "execute_result",
          "data": {
            "text/plain": [
              "tensor(1)"
            ]
          },
          "metadata": {},
          "execution_count": 151
        }
      ]
    },
    {
      "cell_type": "markdown",
      "source": [
        "# 7. torch.max()"
      ],
      "metadata": {
        "id": "Uw8ml1Yl3rY6"
      }
    },
    {
      "cell_type": "code",
      "source": [
        "# 1D\n",
        "torch.full((64, ), 0.01).max()"
      ],
      "metadata": {
        "colab": {
          "base_uri": "https://localhost:8080/"
        },
        "id": "XWjjn9p33ozq",
        "outputId": "33167cfb-2faa-428b-930c-14042f1fac76"
      },
      "execution_count": 152,
      "outputs": [
        {
          "output_type": "execute_result",
          "data": {
            "text/plain": [
              "tensor(0.0100)"
            ]
          },
          "metadata": {},
          "execution_count": 152
        }
      ]
    },
    {
      "cell_type": "code",
      "source": [
        "# 2D\n",
        "value, _ = torch.full((3, 4), 0.01).max(dim = 1) # Row\n",
        "value"
      ],
      "metadata": {
        "colab": {
          "base_uri": "https://localhost:8080/"
        },
        "id": "hUD_JEMP31Fs",
        "outputId": "5d62a7cf-1e53-4ff6-90fe-bf3b0cdfe7c2"
      },
      "execution_count": 153,
      "outputs": [
        {
          "output_type": "execute_result",
          "data": {
            "text/plain": [
              "tensor([0.0100, 0.0100, 0.0100])"
            ]
          },
          "metadata": {},
          "execution_count": 153
        }
      ]
    },
    {
      "cell_type": "code",
      "source": [
        "# 3D\n",
        "value, _ = torch.randn((64, 3, 64, 64)).max(dim = 0)\n",
        "value.min()"
      ],
      "metadata": {
        "colab": {
          "base_uri": "https://localhost:8080/"
        },
        "id": "olmeuzSl3-lq",
        "outputId": "706b240b-a53f-4fb9-a5b1-34f25c9bcbb8"
      },
      "execution_count": 154,
      "outputs": [
        {
          "output_type": "execute_result",
          "data": {
            "text/plain": [
              "tensor(1.1453)"
            ]
          },
          "metadata": {},
          "execution_count": 154
        }
      ]
    },
    {
      "cell_type": "markdown",
      "source": [
        "# 8. torch.mean()"
      ],
      "metadata": {
        "id": "JR2KXA8N4K4I"
      }
    },
    {
      "cell_type": "code",
      "source": [
        "torch.tensor([1, 2, 3], dtype = torch.float).mean()"
      ],
      "metadata": {
        "colab": {
          "base_uri": "https://localhost:8080/"
        },
        "id": "GvpHKR2e4IBk",
        "outputId": "245aa8f0-492d-421d-a96b-160a78fb84dd"
      },
      "execution_count": 155,
      "outputs": [
        {
          "output_type": "execute_result",
          "data": {
            "text/plain": [
              "tensor(2.)"
            ]
          },
          "metadata": {},
          "execution_count": 155
        }
      ]
    },
    {
      "cell_type": "code",
      "source": [
        "# 2D\n",
        "torch.randn((3, 4)).mean(dim = 1) # Row"
      ],
      "metadata": {
        "colab": {
          "base_uri": "https://localhost:8080/"
        },
        "id": "Q5XF9XZT4ReR",
        "outputId": "f9f19e4d-af5b-4813-8bc2-e7f13b439866"
      },
      "execution_count": 156,
      "outputs": [
        {
          "output_type": "execute_result",
          "data": {
            "text/plain": [
              "tensor([-0.6005, -0.0610,  0.3530])"
            ]
          },
          "metadata": {},
          "execution_count": 156
        }
      ]
    },
    {
      "cell_type": "code",
      "source": [
        "torch.randn((1, 3, 1, 1)).mean(dim = 0) # Column wise"
      ],
      "metadata": {
        "colab": {
          "base_uri": "https://localhost:8080/"
        },
        "id": "nuvZXctN4bOj",
        "outputId": "3d8041da-af01-4b12-f05d-4020dcb46736"
      },
      "execution_count": 157,
      "outputs": [
        {
          "output_type": "execute_result",
          "data": {
            "text/plain": [
              "tensor([[[-0.5077]],\n",
              "\n",
              "        [[-0.1322]],\n",
              "\n",
              "        [[ 1.8512]]])"
            ]
          },
          "metadata": {},
          "execution_count": 157
        }
      ]
    },
    {
      "cell_type": "markdown",
      "source": [
        "# 9. torch.std()"
      ],
      "metadata": {
        "id": "HyW_pxLn4mVR"
      }
    },
    {
      "cell_type": "code",
      "source": [
        "torch.randn((3, 4)).std()"
      ],
      "metadata": {
        "colab": {
          "base_uri": "https://localhost:8080/"
        },
        "id": "j3d-KV5s4j58",
        "outputId": "8feeca76-da75-4b39-c980-bd00c0a44a95"
      },
      "execution_count": 158,
      "outputs": [
        {
          "output_type": "execute_result",
          "data": {
            "text/plain": [
              "tensor(0.8856)"
            ]
          },
          "metadata": {},
          "execution_count": 158
        }
      ]
    },
    {
      "cell_type": "markdown",
      "source": [
        "# 10. torch.var()"
      ],
      "metadata": {
        "id": "ZyDVFKXh4saz"
      }
    },
    {
      "cell_type": "code",
      "source": [
        "torch.randn([1, 2, 3], dtype = torch.float).var()"
      ],
      "metadata": {
        "colab": {
          "base_uri": "https://localhost:8080/"
        },
        "id": "KRWvRO8c4rNV",
        "outputId": "6005ab06-f1f2-4a9f-99a7-6bd09e986304"
      },
      "execution_count": 159,
      "outputs": [
        {
          "output_type": "execute_result",
          "data": {
            "text/plain": [
              "tensor(1.5800)"
            ]
          },
          "metadata": {},
          "execution_count": 159
        }
      ]
    },
    {
      "cell_type": "code",
      "source": [
        "torch.eye(3).var(dim = 1) # Row wise"
      ],
      "metadata": {
        "colab": {
          "base_uri": "https://localhost:8080/"
        },
        "id": "L6JaEpaO4x4r",
        "outputId": "1d756fc2-8ab2-4116-b4b6-20206ad9cacb"
      },
      "execution_count": 160,
      "outputs": [
        {
          "output_type": "execute_result",
          "data": {
            "text/plain": [
              "tensor([0.3333, 0.3333, 0.3333])"
            ]
          },
          "metadata": {},
          "execution_count": 160
        }
      ]
    },
    {
      "cell_type": "code",
      "source": [
        "torch.arange(0, 100, 2, dtype=torch.float).view(10, 5).var(dim = 0) # Column  wise"
      ],
      "metadata": {
        "colab": {
          "base_uri": "https://localhost:8080/"
        },
        "id": "c_ZtJixo40rP",
        "outputId": "18d3576c-5071-4a86-c73b-9ee34a6e5b8e"
      },
      "execution_count": 161,
      "outputs": [
        {
          "output_type": "execute_result",
          "data": {
            "text/plain": [
              "tensor([916.6667, 916.6667, 916.6667, 916.6667, 916.6667])"
            ]
          },
          "metadata": {},
          "execution_count": 161
        }
      ]
    },
    {
      "cell_type": "markdown",
      "source": [
        "# 11. torch.size()"
      ],
      "metadata": {
        "id": "Ss3a_V7V5KMF"
      }
    },
    {
      "cell_type": "code",
      "source": [
        "torch.linspace(0, 100, 20).size()"
      ],
      "metadata": {
        "colab": {
          "base_uri": "https://localhost:8080/"
        },
        "id": "uApSqiHn449S",
        "outputId": "4faa42e7-40cc-4322-aaa9-c459b4ba56ec"
      },
      "execution_count": 162,
      "outputs": [
        {
          "output_type": "execute_result",
          "data": {
            "text/plain": [
              "torch.Size([20])"
            ]
          },
          "metadata": {},
          "execution_count": 162
        }
      ]
    },
    {
      "cell_type": "code",
      "source": [
        "torch.rand((3, 4)).size()"
      ],
      "metadata": {
        "colab": {
          "base_uri": "https://localhost:8080/"
        },
        "id": "dLsfLNLs5Oxa",
        "outputId": "5abda32c-92b2-4726-90aa-edd585149c40"
      },
      "execution_count": 163,
      "outputs": [
        {
          "output_type": "execute_result",
          "data": {
            "text/plain": [
              "torch.Size([3, 4])"
            ]
          },
          "metadata": {},
          "execution_count": 163
        }
      ]
    },
    {
      "cell_type": "code",
      "source": [
        "torch.randn((64, 3, 64, 64)).size(0)"
      ],
      "metadata": {
        "colab": {
          "base_uri": "https://localhost:8080/"
        },
        "id": "GAoJGgFq5RrY",
        "outputId": "5bcb7cc0-ca91-4612-b418-0b2affcc9b1c"
      },
      "execution_count": 164,
      "outputs": [
        {
          "output_type": "execute_result",
          "data": {
            "text/plain": [
              "64"
            ]
          },
          "metadata": {},
          "execution_count": 164
        }
      ]
    },
    {
      "cell_type": "markdown",
      "source": [
        "# 12. torch.shape"
      ],
      "metadata": {
        "id": "tYKpEuXy5XH1"
      }
    },
    {
      "cell_type": "code",
      "source": [
        "# 1D\n",
        "torch.range(0, 100).shape"
      ],
      "metadata": {
        "colab": {
          "base_uri": "https://localhost:8080/"
        },
        "id": "eT1fHa425VlB",
        "outputId": "b56ee237-7355-4aac-d2a8-108230fd2cf9"
      },
      "execution_count": 165,
      "outputs": [
        {
          "output_type": "stream",
          "name": "stderr",
          "text": [
            "<ipython-input-165-e0718141ac2a>:2: UserWarning: torch.range is deprecated and will be removed in a future release because its behavior is inconsistent with Python's range builtin. Instead, use torch.arange, which produces values in [start, end).\n",
            "  torch.range(0, 100).shape\n"
          ]
        },
        {
          "output_type": "execute_result",
          "data": {
            "text/plain": [
              "torch.Size([101])"
            ]
          },
          "metadata": {},
          "execution_count": 165
        }
      ]
    },
    {
      "cell_type": "code",
      "source": [
        "torch.zeros((3, 4)).shape[1]"
      ],
      "metadata": {
        "colab": {
          "base_uri": "https://localhost:8080/"
        },
        "id": "jTX1OH5Q5cgH",
        "outputId": "6bde16fd-d934-4444-a078-10f432d59233"
      },
      "execution_count": 166,
      "outputs": [
        {
          "output_type": "execute_result",
          "data": {
            "text/plain": [
              "4"
            ]
          },
          "metadata": {},
          "execution_count": 166
        }
      ]
    },
    {
      "cell_type": "code",
      "source": [
        "torch.ones((64, 3, 64, 64)).shape"
      ],
      "metadata": {
        "colab": {
          "base_uri": "https://localhost:8080/"
        },
        "id": "ADvUIH1u5gIs",
        "outputId": "298c7e5d-652f-4cb5-b945-173832ef8928"
      },
      "execution_count": 167,
      "outputs": [
        {
          "output_type": "execute_result",
          "data": {
            "text/plain": [
              "torch.Size([64, 3, 64, 64])"
            ]
          },
          "metadata": {},
          "execution_count": 167
        }
      ]
    },
    {
      "cell_type": "markdown",
      "source": [
        "# 13. torch.view()"
      ],
      "metadata": {
        "id": "gMPBIeZT5kmT"
      }
    },
    {
      "cell_type": "code",
      "source": [
        "# Do the flatten using -1\n",
        "torch.randn((64, 3, 32, 32)).view(-1).size()"
      ],
      "metadata": {
        "colab": {
          "base_uri": "https://localhost:8080/"
        },
        "id": "fRLBqJqA5jha",
        "outputId": "b8cb18fe-eae8-40d7-841a-3dae0f1e712f"
      },
      "execution_count": 168,
      "outputs": [
        {
          "output_type": "execute_result",
          "data": {
            "text/plain": [
              "torch.Size([196608])"
            ]
          },
          "metadata": {},
          "execution_count": 168
        }
      ]
    },
    {
      "cell_type": "code",
      "source": [
        "# Reshape\n",
        "torch.zeros((32, )).view(4, 8).size()"
      ],
      "metadata": {
        "colab": {
          "base_uri": "https://localhost:8080/"
        },
        "id": "w2Fi39II5tyo",
        "outputId": "b5c511b7-f2b6-48fd-bb01-1eba71f9aeff"
      },
      "execution_count": 169,
      "outputs": [
        {
          "output_type": "execute_result",
          "data": {
            "text/plain": [
              "torch.Size([4, 8])"
            ]
          },
          "metadata": {},
          "execution_count": 169
        }
      ]
    },
    {
      "cell_type": "markdown",
      "source": [
        "# 14. Torch.reshape()"
      ],
      "metadata": {
        "id": "TxjcmquS53Yz"
      }
    },
    {
      "cell_type": "code",
      "source": [
        "# 1D\n",
        "torch.tensor([1, 2, 3]).reshape(-1).size()"
      ],
      "metadata": {
        "colab": {
          "base_uri": "https://localhost:8080/"
        },
        "id": "owpv0Vfw51rD",
        "outputId": "060cbefc-1815-4c2d-c3c3-6ae0f5166ef7"
      },
      "execution_count": 170,
      "outputs": [
        {
          "output_type": "execute_result",
          "data": {
            "text/plain": [
              "torch.Size([3])"
            ]
          },
          "metadata": {},
          "execution_count": 170
        }
      ]
    },
    {
      "cell_type": "code",
      "source": [
        "# 2D tensor\n",
        "torch.arange(0, 500, 10).reshape(10, 5).shape"
      ],
      "metadata": {
        "colab": {
          "base_uri": "https://localhost:8080/"
        },
        "id": "X4-ORn8V58Pr",
        "outputId": "5100e23a-9fda-4fd3-c27b-331f6929fd71"
      },
      "execution_count": 171,
      "outputs": [
        {
          "output_type": "execute_result",
          "data": {
            "text/plain": [
              "torch.Size([10, 5])"
            ]
          },
          "metadata": {},
          "execution_count": 171
        }
      ]
    },
    {
      "cell_type": "markdown",
      "source": [
        "# 15. torch.concat()/cat()"
      ],
      "metadata": {
        "id": "0nsabsRn6OP8"
      }
    },
    {
      "cell_type": "code",
      "source": [
        "A = torch.randn((3, 4))\n",
        "B = torch.randn(3, 12)\n",
        "\n",
        "torch.cat((A, B), dim = 1).size()"
      ],
      "metadata": {
        "colab": {
          "base_uri": "https://localhost:8080/"
        },
        "id": "oCSooSal6ECr",
        "outputId": "5b7e3506-2241-4a1f-98ec-e89ae2d46835"
      },
      "execution_count": 172,
      "outputs": [
        {
          "output_type": "execute_result",
          "data": {
            "text/plain": [
              "torch.Size([3, 16])"
            ]
          },
          "metadata": {},
          "execution_count": 172
        }
      ]
    },
    {
      "cell_type": "code",
      "source": [
        "A = torch.randn((3, 4))\n",
        "B = torch.randn((4, 4))\n",
        "\n",
        "torch.cat((A, B), dim = 0).size()"
      ],
      "metadata": {
        "colab": {
          "base_uri": "https://localhost:8080/"
        },
        "id": "Ib2NU2Tx8eqy",
        "outputId": "3e547f81-7c56-4971-a559-d10193a973b2"
      },
      "execution_count": 173,
      "outputs": [
        {
          "output_type": "execute_result",
          "data": {
            "text/plain": [
              "torch.Size([7, 4])"
            ]
          },
          "metadata": {},
          "execution_count": 173
        }
      ]
    },
    {
      "cell_type": "code",
      "source": [
        "A = torch.randn((64, 3, 32, 32))\n",
        "B = torch.randn((64, 3, 32, 32))\n",
        "\n",
        "torch.cat((A, B), dim = 1).size()"
      ],
      "metadata": {
        "colab": {
          "base_uri": "https://localhost:8080/"
        },
        "id": "nRpQEdlQ8tAx",
        "outputId": "ecb2a387-6a26-4415-904a-35fd3687a706"
      },
      "execution_count": 174,
      "outputs": [
        {
          "output_type": "execute_result",
          "data": {
            "text/plain": [
              "torch.Size([64, 6, 32, 32])"
            ]
          },
          "metadata": {},
          "execution_count": 174
        }
      ]
    },
    {
      "cell_type": "code",
      "source": [
        "A = torch.randn((64, 3, 32, 32))\n",
        "B = torch.randn((32, 3, 32, 32))\n",
        "\n",
        "torch.cat((A, B), dim = 0).size()"
      ],
      "metadata": {
        "colab": {
          "base_uri": "https://localhost:8080/"
        },
        "id": "ARcMm3vg85aw",
        "outputId": "1179a26b-e5b1-4d0f-9dde-4650833afd8f"
      },
      "execution_count": 175,
      "outputs": [
        {
          "output_type": "execute_result",
          "data": {
            "text/plain": [
              "torch.Size([96, 3, 32, 32])"
            ]
          },
          "metadata": {},
          "execution_count": 175
        }
      ]
    },
    {
      "cell_type": "markdown",
      "source": [
        "# Torch.linspace()"
      ],
      "metadata": {
        "id": "y-iH05we9H4w"
      }
    },
    {
      "cell_type": "code",
      "source": [
        "torch.linspace(0, 100, 20).size()"
      ],
      "metadata": {
        "colab": {
          "base_uri": "https://localhost:8080/"
        },
        "id": "2xGSuomp9GJh",
        "outputId": "4cadcdfa-336e-49b9-a4df-f7f795f7a531"
      },
      "execution_count": 176,
      "outputs": [
        {
          "output_type": "execute_result",
          "data": {
            "text/plain": [
              "torch.Size([20])"
            ]
          },
          "metadata": {},
          "execution_count": 176
        }
      ]
    },
    {
      "cell_type": "markdown",
      "source": [
        "# 18. torch.arange()"
      ],
      "metadata": {
        "id": "WCFoH4I99Oig"
      }
    },
    {
      "cell_type": "code",
      "source": [
        "torch.arange(0, 20, 1).size()"
      ],
      "metadata": {
        "colab": {
          "base_uri": "https://localhost:8080/"
        },
        "id": "JIO2N9Gn9NPn",
        "outputId": "a8a46533-10c4-4170-df54-1d02af38e425"
      },
      "execution_count": 177,
      "outputs": [
        {
          "output_type": "execute_result",
          "data": {
            "text/plain": [
              "torch.Size([20])"
            ]
          },
          "metadata": {},
          "execution_count": 177
        }
      ]
    },
    {
      "cell_type": "markdown",
      "source": [
        "# 19. torch.logspace()"
      ],
      "metadata": {
        "id": "mIle1JLe9Xc3"
      }
    },
    {
      "cell_type": "code",
      "source": [
        "torch.logspace(0, 100, 20).view(2, 1, 10).size()"
      ],
      "metadata": {
        "colab": {
          "base_uri": "https://localhost:8080/"
        },
        "id": "P1GPOn6C9WWe",
        "outputId": "60d3198f-35d6-4cbe-fed0-a857091cf8d1"
      },
      "execution_count": 178,
      "outputs": [
        {
          "output_type": "execute_result",
          "data": {
            "text/plain": [
              "torch.Size([2, 1, 10])"
            ]
          },
          "metadata": {},
          "execution_count": 178
        }
      ]
    },
    {
      "cell_type": "markdown",
      "source": [
        "# 20. torch.zeros()"
      ],
      "metadata": {
        "id": "5a1LuyFS9kcm"
      }
    },
    {
      "cell_type": "code",
      "source": [
        "# 1D\n",
        "torch.zeros((64, )).size()"
      ],
      "metadata": {
        "colab": {
          "base_uri": "https://localhost:8080/"
        },
        "id": "yVuOQ1R99eby",
        "outputId": "6e4e15e2-6268-4a22-95b5-408669649e6c"
      },
      "execution_count": 179,
      "outputs": [
        {
          "output_type": "execute_result",
          "data": {
            "text/plain": [
              "torch.Size([64])"
            ]
          },
          "metadata": {},
          "execution_count": 179
        }
      ]
    },
    {
      "cell_type": "code",
      "source": [
        "#2D\n",
        "torch.zeros((3, 4)).size()"
      ],
      "metadata": {
        "colab": {
          "base_uri": "https://localhost:8080/"
        },
        "id": "b3BOJjSI9pCc",
        "outputId": "2d0e2c71-0806-4fdd-d416-bbe89e080bc8"
      },
      "execution_count": 180,
      "outputs": [
        {
          "output_type": "execute_result",
          "data": {
            "text/plain": [
              "torch.Size([3, 4])"
            ]
          },
          "metadata": {},
          "execution_count": 180
        }
      ]
    },
    {
      "cell_type": "code",
      "source": [
        "# 3D\n",
        "torch.zeros((64, 3, 64, 64)).size()"
      ],
      "metadata": {
        "colab": {
          "base_uri": "https://localhost:8080/"
        },
        "id": "NYHIMVix9u92",
        "outputId": "db8cf608-c6ee-4ce1-806a-6b0e2467692a"
      },
      "execution_count": 181,
      "outputs": [
        {
          "output_type": "execute_result",
          "data": {
            "text/plain": [
              "torch.Size([64, 3, 64, 64])"
            ]
          },
          "metadata": {},
          "execution_count": 181
        }
      ]
    },
    {
      "cell_type": "markdown",
      "source": [
        "# 21. torch.ones()"
      ],
      "metadata": {
        "id": "BlHkFPdK9z72"
      }
    },
    {
      "cell_type": "code",
      "source": [
        "torch.ones((32, )).size()"
      ],
      "metadata": {
        "colab": {
          "base_uri": "https://localhost:8080/"
        },
        "id": "Fw4fhRkV9ysL",
        "outputId": "2c0caf64-1195-474a-f856-a38acc4a6789"
      },
      "execution_count": 182,
      "outputs": [
        {
          "output_type": "execute_result",
          "data": {
            "text/plain": [
              "torch.Size([32])"
            ]
          },
          "metadata": {},
          "execution_count": 182
        }
      ]
    },
    {
      "cell_type": "code",
      "source": [
        "torch.ones((3, 4)).size()"
      ],
      "metadata": {
        "colab": {
          "base_uri": "https://localhost:8080/"
        },
        "id": "9pr2jeQ394iQ",
        "outputId": "f653008f-9fc7-49df-f454-bf609e857794"
      },
      "execution_count": 183,
      "outputs": [
        {
          "output_type": "execute_result",
          "data": {
            "text/plain": [
              "torch.Size([3, 4])"
            ]
          },
          "metadata": {},
          "execution_count": 183
        }
      ]
    },
    {
      "cell_type": "code",
      "source": [
        "torch.ones((32, 1, 32, 32)).size()"
      ],
      "metadata": {
        "colab": {
          "base_uri": "https://localhost:8080/"
        },
        "id": "Ix6bxkDE96uQ",
        "outputId": "375684b4-62c0-4f4f-e3a7-90af1bcfbfd3"
      },
      "execution_count": 184,
      "outputs": [
        {
          "output_type": "execute_result",
          "data": {
            "text/plain": [
              "torch.Size([32, 1, 32, 32])"
            ]
          },
          "metadata": {},
          "execution_count": 184
        }
      ]
    },
    {
      "cell_type": "markdown",
      "source": [
        "# 22. torch.full()"
      ],
      "metadata": {
        "id": "1Mf-PZ219_a8"
      }
    },
    {
      "cell_type": "code",
      "source": [
        "# 1D\n",
        "torch.full((64, ), 0.01).size()"
      ],
      "metadata": {
        "colab": {
          "base_uri": "https://localhost:8080/"
        },
        "id": "-gabz4Ol9-SU",
        "outputId": "fb41e7b4-4285-42d5-ef89-cba07ed089a2"
      },
      "execution_count": 185,
      "outputs": [
        {
          "output_type": "execute_result",
          "data": {
            "text/plain": [
              "torch.Size([64])"
            ]
          },
          "metadata": {},
          "execution_count": 185
        }
      ]
    },
    {
      "cell_type": "code",
      "source": [
        "# 2D\n",
        "torch.full((3, 4), -.01)"
      ],
      "metadata": {
        "colab": {
          "base_uri": "https://localhost:8080/"
        },
        "id": "cnsQqwFY-EWj",
        "outputId": "7bd384ee-f90e-40a6-ced2-c5c051c32b44"
      },
      "execution_count": 186,
      "outputs": [
        {
          "output_type": "execute_result",
          "data": {
            "text/plain": [
              "tensor([[-0.0100, -0.0100, -0.0100, -0.0100],\n",
              "        [-0.0100, -0.0100, -0.0100, -0.0100],\n",
              "        [-0.0100, -0.0100, -0.0100, -0.0100]])"
            ]
          },
          "metadata": {},
          "execution_count": 186
        }
      ]
    },
    {
      "cell_type": "code",
      "source": [
        "# 3D\n",
        "torch.full((64, 3, 32, 32), 0.01).size()"
      ],
      "metadata": {
        "colab": {
          "base_uri": "https://localhost:8080/"
        },
        "id": "C_zqkdXT-JiQ",
        "outputId": "271d79b1-73a6-4cd2-fa47-acf01845668a"
      },
      "execution_count": 187,
      "outputs": [
        {
          "output_type": "execute_result",
          "data": {
            "text/plain": [
              "torch.Size([64, 3, 32, 32])"
            ]
          },
          "metadata": {},
          "execution_count": 187
        }
      ]
    },
    {
      "cell_type": "markdown",
      "source": [
        "# 23. torch.unbind()"
      ],
      "metadata": {
        "id": "ATfNV9vT-R35"
      }
    },
    {
      "cell_type": "code",
      "source": [
        "torch.randn((3, 4)).unbind()"
      ],
      "metadata": {
        "colab": {
          "base_uri": "https://localhost:8080/"
        },
        "id": "XeuhL5SC-PE8",
        "outputId": "3aa7a79a-d6c8-483d-c54d-3e0c2d9b4ca2"
      },
      "execution_count": 188,
      "outputs": [
        {
          "output_type": "execute_result",
          "data": {
            "text/plain": [
              "(tensor([ 0.1657, -0.7371,  0.9365,  0.3541]),\n",
              " tensor([-0.8140, -2.4358,  1.6971,  0.1182]),\n",
              " tensor([-1.2444,  1.0372,  0.3939,  1.4434]))"
            ]
          },
          "metadata": {},
          "execution_count": 188
        }
      ]
    },
    {
      "cell_type": "markdown",
      "source": [
        "# 24. torch.pow()"
      ],
      "metadata": {
        "id": "YMjGlfAx-YYn"
      }
    },
    {
      "cell_type": "code",
      "source": [
        "torch.pow(torch.randn((3, 4)), 2)"
      ],
      "metadata": {
        "colab": {
          "base_uri": "https://localhost:8080/"
        },
        "id": "sTK7trGj-XQF",
        "outputId": "964869df-e918-40cf-bfb2-87b87314b9a7"
      },
      "execution_count": 189,
      "outputs": [
        {
          "output_type": "execute_result",
          "data": {
            "text/plain": [
              "tensor([[0.0207, 2.8885, 0.0955, 4.3697],\n",
              "        [4.7660, 1.6560, 2.2351, 0.5868],\n",
              "        [3.1596, 0.9080, 0.0915, 0.0160]])"
            ]
          },
          "metadata": {},
          "execution_count": 189
        }
      ]
    },
    {
      "cell_type": "markdown",
      "source": [
        "# 25. torch.tile()"
      ],
      "metadata": {
        "id": "c8mw8pUw-jzB"
      }
    },
    {
      "cell_type": "code",
      "source": [
        "torch.randn(32, 1, 32, 32).tile(2, 3, 2, 2,).size()"
      ],
      "metadata": {
        "colab": {
          "base_uri": "https://localhost:8080/"
        },
        "id": "1dBmvkik-goi",
        "outputId": "74e56f3b-04bb-4455-c780-2394de6e3fa4"
      },
      "execution_count": 190,
      "outputs": [
        {
          "output_type": "execute_result",
          "data": {
            "text/plain": [
              "torch.Size([64, 3, 64, 64])"
            ]
          },
          "metadata": {},
          "execution_count": 190
        }
      ]
    },
    {
      "cell_type": "markdown",
      "source": [
        "# 26. torch.unsqueeze()"
      ],
      "metadata": {
        "id": "Yr1oinQs-tJI"
      }
    },
    {
      "cell_type": "code",
      "source": [
        "torch.randn(64, 64, 64).unsqueeze(1).size()"
      ],
      "metadata": {
        "colab": {
          "base_uri": "https://localhost:8080/"
        },
        "id": "eDA9dgaB-raU",
        "outputId": "846f47ec-1c07-417e-d46a-74f58c715cd4"
      },
      "execution_count": 191,
      "outputs": [
        {
          "output_type": "execute_result",
          "data": {
            "text/plain": [
              "torch.Size([64, 1, 64, 64])"
            ]
          },
          "metadata": {},
          "execution_count": 191
        }
      ]
    },
    {
      "cell_type": "markdown",
      "source": [
        "# 27. torch.squeeze()"
      ],
      "metadata": {
        "id": "Vq963yU3-1sq"
      }
    },
    {
      "cell_type": "code",
      "source": [
        "torch.randn((64, 1, 64, 64)).squeeze().size()"
      ],
      "metadata": {
        "colab": {
          "base_uri": "https://localhost:8080/"
        },
        "id": "0XiEX_OZ-0fL",
        "outputId": "f648f253-7fb4-4c03-cd52-8bbab738aa79"
      },
      "execution_count": 192,
      "outputs": [
        {
          "output_type": "execute_result",
          "data": {
            "text/plain": [
              "torch.Size([64, 64, 64])"
            ]
          },
          "metadata": {},
          "execution_count": 192
        }
      ]
    },
    {
      "cell_type": "code",
      "source": [
        "torch.randn((64, 1, 1, 1)).squeeze().shape"
      ],
      "metadata": {
        "colab": {
          "base_uri": "https://localhost:8080/"
        },
        "id": "WASlIwIk-9Oo",
        "outputId": "2ad7eed9-d8b9-4a12-b1c3-2bba2962f5a4"
      },
      "execution_count": 193,
      "outputs": [
        {
          "output_type": "execute_result",
          "data": {
            "text/plain": [
              "torch.Size([64])"
            ]
          },
          "metadata": {},
          "execution_count": 193
        }
      ]
    },
    {
      "cell_type": "markdown",
      "source": [
        "# 28. torch.eye()"
      ],
      "metadata": {
        "id": "WdiGiLHE_Eeh"
      }
    },
    {
      "cell_type": "code",
      "source": [
        "torch.eye(3)"
      ],
      "metadata": {
        "colab": {
          "base_uri": "https://localhost:8080/"
        },
        "id": "wArECyPn_DQL",
        "outputId": "dcf8a6a7-c2ef-4d0b-e3f9-f7164cdee538"
      },
      "execution_count": 194,
      "outputs": [
        {
          "output_type": "execute_result",
          "data": {
            "text/plain": [
              "tensor([[1., 0., 0.],\n",
              "        [0., 1., 0.],\n",
              "        [0., 0., 1.]])"
            ]
          },
          "metadata": {},
          "execution_count": 194
        }
      ]
    },
    {
      "cell_type": "code",
      "source": [
        "torch.eye(3, 5)"
      ],
      "metadata": {
        "colab": {
          "base_uri": "https://localhost:8080/"
        },
        "id": "YBAWVOpg_IUl",
        "outputId": "dc369cf6-95e8-420e-abaa-11fabb3d7ab2"
      },
      "execution_count": 195,
      "outputs": [
        {
          "output_type": "execute_result",
          "data": {
            "text/plain": [
              "tensor([[1., 0., 0., 0., 0.],\n",
              "        [0., 1., 0., 0., 0.],\n",
              "        [0., 0., 1., 0., 0.]])"
            ]
          },
          "metadata": {},
          "execution_count": 195
        }
      ]
    },
    {
      "cell_type": "markdown",
      "source": [
        "# 29. torch.where()"
      ],
      "metadata": {
        "id": "cTltnu9N_OGI"
      }
    },
    {
      "cell_type": "code",
      "source": [
        "torch.where(torch.tensor([1, 2, 3])%2==0, True, False)"
      ],
      "metadata": {
        "colab": {
          "base_uri": "https://localhost:8080/"
        },
        "id": "2xT0pVVq_KpS",
        "outputId": "cb77073f-1ed8-4fec-c01f-4c0cc4aa365e"
      },
      "execution_count": 196,
      "outputs": [
        {
          "output_type": "execute_result",
          "data": {
            "text/plain": [
              "tensor([False,  True, False])"
            ]
          },
          "metadata": {},
          "execution_count": 196
        }
      ]
    },
    {
      "cell_type": "markdown",
      "source": [
        "# 30. torch.hstack()"
      ],
      "metadata": {
        "id": "oQ_klodH_Wsf"
      }
    },
    {
      "cell_type": "code",
      "source": [
        "A = torch.randn((64, 3, 64, 64))\n",
        "B = torch.randn((64, 100, 64, 64))\n",
        "\n",
        "torch.hstack((A, B)).size()"
      ],
      "metadata": {
        "colab": {
          "base_uri": "https://localhost:8080/"
        },
        "id": "AjwhXfjn_VMs",
        "outputId": "93c2407f-ff52-489b-8cd6-749e89cb95e9"
      },
      "execution_count": 197,
      "outputs": [
        {
          "output_type": "execute_result",
          "data": {
            "text/plain": [
              "torch.Size([64, 103, 64, 64])"
            ]
          },
          "metadata": {},
          "execution_count": 197
        }
      ]
    },
    {
      "cell_type": "markdown",
      "source": [
        "# 31. torch.vstack()"
      ],
      "metadata": {
        "id": "AvKGDlfv_i81"
      }
    },
    {
      "cell_type": "code",
      "source": [
        "A = torch.randn((64, 1, 32, 32))\n",
        "B = torch.randn((64, 1, 32, 32))\n",
        "\n",
        "torch.vstack((A, B)).size()"
      ],
      "metadata": {
        "colab": {
          "base_uri": "https://localhost:8080/"
        },
        "id": "OaBnQQRM_hxW",
        "outputId": "7c9cdaec-8c1b-4467-b364-e11001bfb2f4"
      },
      "execution_count": 198,
      "outputs": [
        {
          "output_type": "execute_result",
          "data": {
            "text/plain": [
              "torch.Size([128, 1, 32, 32])"
            ]
          },
          "metadata": {},
          "execution_count": 198
        }
      ]
    },
    {
      "cell_type": "markdown",
      "source": [
        "# 32. torch.maxpool/nn.maxpool()"
      ],
      "metadata": {
        "id": "pJz-vQ1J_wYJ"
      }
    },
    {
      "cell_type": "code",
      "source": [
        "torch.max_pool2d(input = torch.randn((64, 3, 64, 64)), kernel_size = 2, stride = 2).size()"
      ],
      "metadata": {
        "colab": {
          "base_uri": "https://localhost:8080/"
        },
        "id": "EC3Cj_tC_vMd",
        "outputId": "fed6ce5e-a37b-4892-b431-0679085870ca"
      },
      "execution_count": 199,
      "outputs": [
        {
          "output_type": "execute_result",
          "data": {
            "text/plain": [
              "torch.Size([64, 3, 32, 32])"
            ]
          },
          "metadata": {},
          "execution_count": 199
        }
      ]
    },
    {
      "cell_type": "code",
      "source": [
        "pool = nn.MaxPool2d(kernel_size = 2, stride = 2)\n",
        "\n",
        "pool(torch.randn((64, 3, 64, 64))).size()"
      ],
      "metadata": {
        "colab": {
          "base_uri": "https://localhost:8080/"
        },
        "id": "f3UQIsf8_9ga",
        "outputId": "fe9a877e-3da4-4e20-f5fe-415b4a5d8875"
      },
      "execution_count": 200,
      "outputs": [
        {
          "output_type": "execute_result",
          "data": {
            "text/plain": [
              "torch.Size([64, 3, 32, 32])"
            ]
          },
          "metadata": {},
          "execution_count": 200
        }
      ]
    },
    {
      "cell_type": "markdown",
      "source": [
        "# 33. torch.sigmoid()/nn.Sigmoid()"
      ],
      "metadata": {
        "id": "w32lvurhAdpb"
      }
    },
    {
      "cell_type": "code",
      "source": [
        "torch.sigmoid(input=torch.randn((64, 64))).size()"
      ],
      "metadata": {
        "colab": {
          "base_uri": "https://localhost:8080/"
        },
        "id": "Gwkxv8zYAcn-",
        "outputId": "db4fbce8-c22a-4c0b-936f-80dc506a46ea"
      },
      "execution_count": 201,
      "outputs": [
        {
          "output_type": "execute_result",
          "data": {
            "text/plain": [
              "torch.Size([64, 64])"
            ]
          },
          "metadata": {},
          "execution_count": 201
        }
      ]
    },
    {
      "cell_type": "code",
      "source": [
        "sigmoid = nn.Sigmoid()\n",
        "\n",
        "sigmoid(torch.randn((64, 64))).size()"
      ],
      "metadata": {
        "colab": {
          "base_uri": "https://localhost:8080/"
        },
        "id": "jVJBc0lQAnwR",
        "outputId": "a8970b5a-83a7-4452-8712-3a0825aab845"
      },
      "execution_count": 202,
      "outputs": [
        {
          "output_type": "execute_result",
          "data": {
            "text/plain": [
              "torch.Size([64, 64])"
            ]
          },
          "metadata": {},
          "execution_count": 202
        }
      ]
    },
    {
      "cell_type": "markdown",
      "source": [
        "# 34. torch.softmax()/nn.Softmax()"
      ],
      "metadata": {
        "id": "-8fyggE-Ax_P"
      }
    },
    {
      "cell_type": "code",
      "source": [
        "soft = nn.Softmax(dim = 1)\n",
        "\n",
        "soft(torch.randn((64, 3, 64, 64))).size()"
      ],
      "metadata": {
        "colab": {
          "base_uri": "https://localhost:8080/"
        },
        "id": "CgVg9DIGAwtP",
        "outputId": "9b741f60-67b1-42b4-cb67-63b24c1ee186"
      },
      "execution_count": 203,
      "outputs": [
        {
          "output_type": "execute_result",
          "data": {
            "text/plain": [
              "torch.Size([64, 3, 64, 64])"
            ]
          },
          "metadata": {},
          "execution_count": 203
        }
      ]
    },
    {
      "cell_type": "markdown",
      "source": [
        "# 35. torch.norm()"
      ],
      "metadata": {
        "id": "ntIq7rbKBWr7"
      }
    },
    {
      "cell_type": "code",
      "source": [
        "# L1 regularization\n",
        "torch.norm(torch.randn((64, 3, 64, 64)), p = 1)"
      ],
      "metadata": {
        "colab": {
          "base_uri": "https://localhost:8080/"
        },
        "id": "4xphojPfA5rm",
        "outputId": "a61a54fc-00cf-4b1b-8145-c1f5247bfe99"
      },
      "execution_count": 204,
      "outputs": [
        {
          "output_type": "execute_result",
          "data": {
            "text/plain": [
              "tensor(627925.9375)"
            ]
          },
          "metadata": {},
          "execution_count": 204
        }
      ]
    },
    {
      "cell_type": "code",
      "source": [
        "# L2 regularization\n",
        "torch.norm(torch.randn((64, 3, 64, 64)), p = 2)"
      ],
      "metadata": {
        "colab": {
          "base_uri": "https://localhost:8080/"
        },
        "id": "UobxTniJBget",
        "outputId": "4fd51628-1087-466b-ff46-913e1adc1805"
      },
      "execution_count": 205,
      "outputs": [
        {
          "output_type": "execute_result",
          "data": {
            "text/plain": [
              "tensor(886.5328)"
            ]
          },
          "metadata": {},
          "execution_count": 205
        }
      ]
    },
    {
      "cell_type": "markdown",
      "source": [
        "# 36. torch.abs()"
      ],
      "metadata": {
        "id": "Twnz33ubBm9W"
      }
    },
    {
      "cell_type": "code",
      "source": [
        "torch.abs(torch.tensor(10) - torch.tensor(20))"
      ],
      "metadata": {
        "colab": {
          "base_uri": "https://localhost:8080/"
        },
        "id": "D_9Wh90BBlHJ",
        "outputId": "646c12de-b17d-4e05-f7f7-6d668109d368"
      },
      "execution_count": 206,
      "outputs": [
        {
          "output_type": "execute_result",
          "data": {
            "text/plain": [
              "tensor(10)"
            ]
          },
          "metadata": {},
          "execution_count": 206
        }
      ]
    },
    {
      "cell_type": "markdown",
      "source": [
        "# 37, torch.permute()"
      ],
      "metadata": {
        "id": "5bJNGkXxBvro"
      }
    },
    {
      "cell_type": "code",
      "source": [
        "# 2D\n",
        "torch.randn((4, 5)).unsqueeze(1).permute(0, 2, 1).size()"
      ],
      "metadata": {
        "colab": {
          "base_uri": "https://localhost:8080/"
        },
        "id": "lVxM7rrxBtpe",
        "outputId": "0e0825cf-814e-4ca3-c1e9-6830671deb19"
      },
      "execution_count": 207,
      "outputs": [
        {
          "output_type": "execute_result",
          "data": {
            "text/plain": [
              "torch.Size([4, 5, 1])"
            ]
          },
          "metadata": {},
          "execution_count": 207
        }
      ]
    },
    {
      "cell_type": "code",
      "source": [
        "# 3D\n",
        "torch.randn((64, 3, 64, 64)).permute(0, 2, 3, 1).size()"
      ],
      "metadata": {
        "colab": {
          "base_uri": "https://localhost:8080/"
        },
        "id": "0HYz6rDDB9Zq",
        "outputId": "c195edf0-3135-4a61-9236-e687826e66e7"
      },
      "execution_count": 208,
      "outputs": [
        {
          "output_type": "execute_result",
          "data": {
            "text/plain": [
              "torch.Size([64, 64, 64, 3])"
            ]
          },
          "metadata": {},
          "execution_count": 208
        }
      ]
    },
    {
      "cell_type": "markdown",
      "source": [
        "# 38. torch.argmax()"
      ],
      "metadata": {
        "id": "EePTdqsTCcsp"
      }
    },
    {
      "cell_type": "code",
      "source": [
        "torch.randn((64, 3, 64, 64)).argmax(dim = 1).size() # Row"
      ],
      "metadata": {
        "colab": {
          "base_uri": "https://localhost:8080/"
        },
        "id": "_HfwKiX1Car8",
        "outputId": "fde5e9bf-19fb-4dac-a179-7bfd683f85f6"
      },
      "execution_count": 209,
      "outputs": [
        {
          "output_type": "execute_result",
          "data": {
            "text/plain": [
              "torch.Size([64, 64, 64])"
            ]
          },
          "metadata": {},
          "execution_count": 209
        }
      ]
    },
    {
      "cell_type": "code",
      "source": [
        "torch.randn((64, 3, 64, 64)).argmax(dim = 0).size() # column"
      ],
      "metadata": {
        "colab": {
          "base_uri": "https://localhost:8080/"
        },
        "id": "IGO3AouiCjmk",
        "outputId": "87d5a292-b103-431e-fff3-4268f1146100"
      },
      "execution_count": 210,
      "outputs": [
        {
          "output_type": "execute_result",
          "data": {
            "text/plain": [
              "torch.Size([3, 64, 64])"
            ]
          },
          "metadata": {},
          "execution_count": 210
        }
      ]
    },
    {
      "cell_type": "markdown",
      "source": [
        "# 39. torch.argmin()"
      ],
      "metadata": {
        "id": "g4BIxFzwCsnc"
      }
    },
    {
      "cell_type": "code",
      "source": [
        "torch.randn((3, 4)).argmin(dim= 0) # column"
      ],
      "metadata": {
        "colab": {
          "base_uri": "https://localhost:8080/"
        },
        "id": "l_WmihJdCru6",
        "outputId": "04e06fab-97fb-4d27-922a-7ab05eda75af"
      },
      "execution_count": 211,
      "outputs": [
        {
          "output_type": "execute_result",
          "data": {
            "text/plain": [
              "tensor([0, 2, 2, 2])"
            ]
          },
          "metadata": {},
          "execution_count": 211
        }
      ]
    },
    {
      "cell_type": "code",
      "source": [
        "torch.randn((64, 3, 64, 64)).argmin(dim = 1).size() # row"
      ],
      "metadata": {
        "colab": {
          "base_uri": "https://localhost:8080/"
        },
        "id": "39dMGoGHCyhU",
        "outputId": "f94b1828-b2d4-4ff8-a994-1daa712f8fe3"
      },
      "execution_count": 212,
      "outputs": [
        {
          "output_type": "execute_result",
          "data": {
            "text/plain": [
              "torch.Size([64, 64, 64])"
            ]
          },
          "metadata": {},
          "execution_count": 212
        }
      ]
    },
    {
      "cell_type": "markdown",
      "source": [
        "# 40. torch.sort()"
      ],
      "metadata": {
        "id": "98W2M5-YC6Ut"
      }
    },
    {
      "cell_type": "code",
      "source": [
        "value, indices = torch.sort(torch.randn((3, 4)), dim = 1) # Row\n",
        "value"
      ],
      "metadata": {
        "colab": {
          "base_uri": "https://localhost:8080/"
        },
        "id": "cL0q3zWRC4Wz",
        "outputId": "5fe65362-bfce-4878-f90b-2832be265c45"
      },
      "execution_count": 213,
      "outputs": [
        {
          "output_type": "execute_result",
          "data": {
            "text/plain": [
              "tensor([[-1.4203, -0.9201,  0.0459,  0.7679],\n",
              "        [-0.5866, -0.1736,  0.2872,  1.3056],\n",
              "        [-0.5507,  0.4988,  1.0418,  1.1432]])"
            ]
          },
          "metadata": {},
          "execution_count": 213
        }
      ]
    },
    {
      "cell_type": "code",
      "source": [
        "value, indices = torch.sort(torch.randn((3, 4)), dim = 0)\n",
        "value"
      ],
      "metadata": {
        "colab": {
          "base_uri": "https://localhost:8080/"
        },
        "id": "p1nsZxMHDGmI",
        "outputId": "310b8d37-df41-4af5-ae07-8da6d4cedc65"
      },
      "execution_count": 214,
      "outputs": [
        {
          "output_type": "execute_result",
          "data": {
            "text/plain": [
              "tensor([[ 0.0930,  0.1283, -1.8347, -1.0951],\n",
              "        [ 0.8095,  0.5738, -1.1022, -0.1155],\n",
              "        [ 0.8167,  1.3621,  0.7993,  1.6206]])"
            ]
          },
          "metadata": {},
          "execution_count": 214
        }
      ]
    },
    {
      "cell_type": "code",
      "source": [
        "value, indices = torch.sort(torch.randn((3, 4)), dim = 0, descending=True)\n",
        "value"
      ],
      "metadata": {
        "colab": {
          "base_uri": "https://localhost:8080/"
        },
        "id": "Q84JZIESDNEN",
        "outputId": "96f19aef-0985-48d2-9f02-191ab05f4b74"
      },
      "execution_count": 215,
      "outputs": [
        {
          "output_type": "execute_result",
          "data": {
            "text/plain": [
              "tensor([[ 0.2078, -0.3021,  0.3297,  1.3867],\n",
              "        [-1.0176, -0.9930, -0.2384,  1.2793],\n",
              "        [-1.4133, -1.8492, -2.0562,  0.0577]])"
            ]
          },
          "metadata": {},
          "execution_count": 215
        }
      ]
    },
    {
      "cell_type": "markdown",
      "source": [
        "# 41. nn.Embeddings()"
      ],
      "metadata": {
        "id": "GNk9p07TDUMa"
      }
    },
    {
      "cell_type": "code",
      "source": [
        "emb = nn.Embedding(10, 64)\n",
        "\n",
        "emb(torch.randint(0, 10, (64, ))).size()"
      ],
      "metadata": {
        "colab": {
          "base_uri": "https://localhost:8080/"
        },
        "id": "JGJ_VGGqDR4T",
        "outputId": "bca5aac5-230a-4e17-9767-2409472fbbc4"
      },
      "execution_count": 216,
      "outputs": [
        {
          "output_type": "execute_result",
          "data": {
            "text/plain": [
              "torch.Size([64, 64])"
            ]
          },
          "metadata": {},
          "execution_count": 216
        }
      ]
    },
    {
      "cell_type": "code",
      "source": [
        "emb(torch.randint(0, 10, (64, 3, 32, 32))).size() # 64, 3, 32, 32, 64"
      ],
      "metadata": {
        "colab": {
          "base_uri": "https://localhost:8080/"
        },
        "id": "Occ64cRJEfdK",
        "outputId": "62150f9e-6cc5-46fe-b722-85399e9079e6"
      },
      "execution_count": 217,
      "outputs": [
        {
          "output_type": "execute_result",
          "data": {
            "text/plain": [
              "torch.Size([64, 3, 32, 32, 64])"
            ]
          },
          "metadata": {},
          "execution_count": 217
        }
      ]
    },
    {
      "cell_type": "markdown",
      "source": [
        "#42. torch.clamp_()"
      ],
      "metadata": {
        "id": "iV2hZWaFErhI"
      }
    },
    {
      "cell_type": "code",
      "source": [
        "torch.clamp_(torch.tensor([1., 2., 3.]), -1.0, 1.0)"
      ],
      "metadata": {
        "colab": {
          "base_uri": "https://localhost:8080/"
        },
        "id": "JOAm9PZ4Eoyj",
        "outputId": "31324f34-8d23-41b4-dd4a-16508fdce396"
      },
      "execution_count": 218,
      "outputs": [
        {
          "output_type": "execute_result",
          "data": {
            "text/plain": [
              "tensor([1., 1., 1.])"
            ]
          },
          "metadata": {},
          "execution_count": 218
        }
      ]
    },
    {
      "cell_type": "markdown",
      "source": [
        "# 43. torch.UpSample()/torch.upsample()"
      ],
      "metadata": {
        "id": "TCTK8G4JE1td"
      }
    },
    {
      "cell_type": "code",
      "source": [
        "up = nn.Upsample(scale_factor = 2, mode = \"bilinear\", align_corners=False)\n",
        "up(torch.randn(64, 3, 64, 64)).size()"
      ],
      "metadata": {
        "colab": {
          "base_uri": "https://localhost:8080/"
        },
        "id": "Wn_SWXevEyCT",
        "outputId": "613ecb9a-47e4-44ce-9f81-22024355a6ef"
      },
      "execution_count": 219,
      "outputs": [
        {
          "output_type": "execute_result",
          "data": {
            "text/plain": [
              "torch.Size([64, 3, 128, 128])"
            ]
          },
          "metadata": {},
          "execution_count": 219
        }
      ]
    },
    {
      "cell_type": "markdown",
      "source": [
        "# 44. torch.PixelShuffle()"
      ],
      "metadata": {
        "id": "5iAAmm-aFHAh"
      }
    },
    {
      "cell_type": "code",
      "source": [
        "shuffle = nn.PixelShuffle(upscale_factor=2)\n",
        "\n",
        "shuffle(torch.randn(64, 128, 32, 32)).size() # 64, 32, 64, 64"
      ],
      "metadata": {
        "colab": {
          "base_uri": "https://localhost:8080/"
        },
        "id": "H4pZRLGdFFtJ",
        "outputId": "88c1b795-3d64-4295-af4e-e32ce32259be"
      },
      "execution_count": 220,
      "outputs": [
        {
          "output_type": "execute_result",
          "data": {
            "text/plain": [
              "torch.Size([64, 32, 64, 64])"
            ]
          },
          "metadata": {},
          "execution_count": 220
        }
      ]
    }
  ]
}