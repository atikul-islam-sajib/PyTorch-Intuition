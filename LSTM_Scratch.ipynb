{
  "nbformat": 4,
  "nbformat_minor": 0,
  "metadata": {
    "colab": {
      "provenance": []
    },
    "kernelspec": {
      "name": "python3",
      "display_name": "Python 3"
    },
    "language_info": {
      "name": "python"
    }
  },
  "cells": [
    {
      "cell_type": "code",
      "execution_count": 1,
      "metadata": {
        "id": "pttrTt0GGGot"
      },
      "outputs": [],
      "source": [
        "import torch\n",
        "import torch.nn as nn"
      ]
    },
    {
      "cell_type": "code",
      "source": [
        "torch.manual_seed(42)"
      ],
      "metadata": {
        "colab": {
          "base_uri": "https://localhost:8080/"
        },
        "id": "Zk1tFNb6Mgf4",
        "outputId": "7133ecbd-8386-4a3f-a1cc-0b80fd055394"
      },
      "execution_count": 87,
      "outputs": [
        {
          "output_type": "execute_result",
          "data": {
            "text/plain": [
              "<torch._C.Generator at 0x79179b4d1810>"
            ]
          },
          "metadata": {},
          "execution_count": 87
        }
      ]
    },
    {
      "cell_type": "code",
      "source": [
        "class SimpleLSTM(nn.Module):\n",
        "  def __init__(self, input_size: int = 512, hidden_size: int = 64, bias: bool = False):\n",
        "    super(SimpleLSTM, self).__init__()\n",
        "    self.input_size = input_size\n",
        "    self.hidden_size = hidden_size\n",
        "    self.bias = bias\n",
        "\n",
        "    self.W_f = nn.Linear(in_features=input_size+hidden_size, out_features=hidden_size, bias = bias)\n",
        "    self.W_i = nn.Linear(in_features=input_size+hidden_size, out_features=hidden_size, bias = bias)\n",
        "    self.W_o = nn.Linear(in_features=input_size+hidden_size, out_features=hidden_size, bias = bias)\n",
        "    self.W_c = nn.Linear(in_features=input_size+hidden_size, out_features=hidden_size, bias = bias)\n",
        "\n",
        "  def forward(self, x: torch.Tensor):\n",
        "    if isinstance(x, torch.Tensor):\n",
        "      h_t = torch.zeros((x.size(0), self.hidden_size))\n",
        "      c_t = torch.zeros((x.size(0), self.hidden_size))\n",
        "\n",
        "      for sequence in range(x.size(1)):\n",
        "        combined = torch.cat((x[:, sequence, :], h_t), dim = 1)\n",
        "\n",
        "        f_t = torch.sigmoid(self.W_f(combined))\n",
        "        i_t = torch.sigmoid(self.W_i(combined))\n",
        "        o_t = torch.sigmoid(self.W_o(combined))\n",
        "        c_tilde_t = torch.tanh(self.W_c(combined))\n",
        "\n",
        "        c_t = (f_t * c_t) + (i_t * c_tilde_t)\n",
        "        h_t = o_t * torch.tanh(c_t)\n",
        "\n",
        "      return h_t, c_t\n",
        "\n",
        "    else:\n",
        "      raise ValueError(\"Input must be a torch.Tensor\".capitalize())"
      ],
      "metadata": {
        "id": "VfY1WbBPGJYn"
      },
      "execution_count": 88,
      "outputs": []
    },
    {
      "cell_type": "code",
      "source": [
        "x = torch.randint(0, 128, (64, 128, 512))"
      ],
      "metadata": {
        "id": "87t2mqBNGhos"
      },
      "execution_count": 89,
      "outputs": []
    },
    {
      "cell_type": "code",
      "source": [
        "x.size()"
      ],
      "metadata": {
        "colab": {
          "base_uri": "https://localhost:8080/"
        },
        "id": "SZEtJSRsHRnX",
        "outputId": "a257151b-1977-4b2d-fb49-a03bf773778c"
      },
      "execution_count": 90,
      "outputs": [
        {
          "output_type": "execute_result",
          "data": {
            "text/plain": [
              "torch.Size([64, 128, 512])"
            ]
          },
          "metadata": {},
          "execution_count": 90
        }
      ]
    },
    {
      "cell_type": "code",
      "source": [
        "lstm = SimpleLSTM(\n",
        "    input_size = 512,\n",
        "    hidden_size = 32,\n",
        "    bias = False\n",
        ")"
      ],
      "metadata": {
        "id": "RH5KhiQdHSlC"
      },
      "execution_count": 91,
      "outputs": []
    },
    {
      "cell_type": "code",
      "source": [
        "hidden, final = lstm(x)"
      ],
      "metadata": {
        "id": "MBDEzs60IeJW"
      },
      "execution_count": 92,
      "outputs": []
    },
    {
      "cell_type": "code",
      "source": [
        "hidden.size()"
      ],
      "metadata": {
        "colab": {
          "base_uri": "https://localhost:8080/"
        },
        "id": "EYFt8mTAIkhy",
        "outputId": "14bbd2bf-d89e-425a-9acd-e0b5bbdf5bf4"
      },
      "execution_count": 93,
      "outputs": [
        {
          "output_type": "execute_result",
          "data": {
            "text/plain": [
              "torch.Size([64, 32])"
            ]
          },
          "metadata": {},
          "execution_count": 93
        }
      ]
    },
    {
      "cell_type": "code",
      "source": [
        "final.size()"
      ],
      "metadata": {
        "colab": {
          "base_uri": "https://localhost:8080/"
        },
        "id": "Z4AlpjXCImFo",
        "outputId": "731a5b6a-24a5-4ba1-915e-05a73efe24b5"
      },
      "execution_count": 94,
      "outputs": [
        {
          "output_type": "execute_result",
          "data": {
            "text/plain": [
              "torch.Size([64, 32])"
            ]
          },
          "metadata": {},
          "execution_count": 94
        }
      ]
    },
    {
      "cell_type": "code",
      "source": [
        "lstm(x)"
      ],
      "metadata": {
        "colab": {
          "base_uri": "https://localhost:8080/"
        },
        "id": "zOTgFsoeInym",
        "outputId": "52f07f43-cce6-4b03-ef46-ff68e711ecca"
      },
      "execution_count": 95,
      "outputs": [
        {
          "output_type": "execute_result",
          "data": {
            "text/plain": [
              "(tensor([[-1.1340e-10, -7.4174e-01,  5.8275e-16,  ..., -0.0000e+00,\n",
              "           1.9973e-14, -1.3326e-11],\n",
              "         [-2.0052e-06, -9.9915e-01,  8.0094e-04,  ..., -4.7934e-25,\n",
              "           2.4143e-13, -1.0000e+00],\n",
              "         [ 3.0224e-17, -7.6159e-01,  1.9764e-19,  ..., -2.2767e-18,\n",
              "           9.6616e-01, -1.0000e+00],\n",
              "         ...,\n",
              "         [ 1.7695e-09, -3.3399e-01, -1.8983e-20,  ..., -2.6970e-21,\n",
              "           8.0304e-16, -1.0000e+00],\n",
              "         [-1.7508e-01, -9.1771e-01,  6.6451e-10,  ..., -1.3309e-36,\n",
              "           2.5826e-03, -2.2654e-01],\n",
              "         [-3.0249e-01, -7.5947e-01,  2.3873e-11,  ..., -1.8556e-32,\n",
              "           9.5886e-10, -4.9908e-11]], grad_fn=<MulBackward0>),\n",
              " tensor([[-3.3853e-06, -9.5434e-01,  1.9263e+01,  ..., -6.9183e+00,\n",
              "           1.7156e+01, -2.5827e+01],\n",
              "         [-9.8162e-01, -3.8802e+00,  2.9014e+00,  ..., -7.2786e+00,\n",
              "           3.9862e+00, -3.7735e+01],\n",
              "         [ 5.7069e-10, -1.0000e+00,  1.1080e+01,  ..., -1.3195e+01,\n",
              "           2.0311e+00, -2.9857e+01],\n",
              "         ...,\n",
              "         [ 1.0000e+00, -1.9997e+00, -1.9937e+00,  ..., -1.5338e+00,\n",
              "           1.5730e+01, -2.6969e+01],\n",
              "         [-2.1350e-01, -1.5743e+00,  6.9802e+00,  ..., -4.0002e+00,\n",
              "           2.7712e+01, -2.7917e+01],\n",
              "         [-3.1225e-01, -9.9496e-01,  5.0382e+00,  ..., -7.9901e+00,\n",
              "           4.8679e+01, -2.7428e+01]], grad_fn=<AddBackward0>))"
            ]
          },
          "metadata": {},
          "execution_count": 95
        }
      ]
    },
    {
      "cell_type": "code",
      "source": [
        "torch.manual_seed(42)"
      ],
      "metadata": {
        "colab": {
          "base_uri": "https://localhost:8080/"
        },
        "id": "xiZwqtz6NOdQ",
        "outputId": "fa4a91c3-75a2-46c9-9f64-a5995aecc168"
      },
      "execution_count": 96,
      "outputs": [
        {
          "output_type": "execute_result",
          "data": {
            "text/plain": [
              "<torch._C.Generator at 0x79179b4d1810>"
            ]
          },
          "metadata": {},
          "execution_count": 96
        }
      ]
    },
    {
      "cell_type": "code",
      "source": [
        "class LSTMCells(nn.Module):\n",
        "  def __init__(self, input_size: int = 512, hidden_size: int =  32):\n",
        "    super(LSTMCells, self).__init__()\n",
        "    self.input_size = input_size\n",
        "    self.hidden_size = hidden_size\n",
        "\n",
        "    self.W_f = nn.Linear(in_features=input_size+hidden_size, out_features=hidden_size)\n",
        "    self.W_i = nn.Linear(in_features=input_size+hidden_size, out_features=hidden_size)\n",
        "    self.W_o = nn.Linear(in_features=input_size+hidden_size, out_features=hidden_size)\n",
        "    self.W_c = nn.Linear(in_features=input_size+hidden_size, out_features=hidden_size)\n",
        "\n",
        "  def forward(self, combined_h_t_and_x_t: torch.Tensor, c_t):\n",
        "    if isinstance(combined_h_t_and_x_t, torch.Tensor):\n",
        "      f_t = torch.sigmoid(self.W_f(combined_h_t_and_x_t))\n",
        "      i_t = torch.sigmoid(self.W_i(combined_h_t_and_x_t))\n",
        "      o_t = torch.sigmoid(self.W_o(combined_h_t_and_x_t))\n",
        "      c_tilde_t = torch.tanh(self.W_c(combined_h_t_and_x_t))\n",
        "\n",
        "      c_t = (f_t * c_t) + (i_t * c_tilde_t)\n",
        "      h_t = o_t * torch.tanh(c_t)\n",
        "\n",
        "      return h_t, c_t\n",
        "\n",
        "    else:\n",
        "      raise ValueError(\"Input must be a torch.Tensor\".capitalize())"
      ],
      "metadata": {
        "id": "jCzgdQhgJG5b"
      },
      "execution_count": 97,
      "outputs": []
    },
    {
      "cell_type": "code",
      "source": [
        "class SimpleLSTMScratch(nn.Module):\n",
        "  def __init__(self, input_size: int = 512, hidden_size: int = 32, bias: bool = False):\n",
        "    super(SimpleLSTMScratch, self).__init__()\n",
        "    self.input_size = input_size\n",
        "    self.hidden_size = hidden_size\n",
        "    self.bias = bias\n",
        "\n",
        "    self.lstm_cell = LSTMCells(\n",
        "        input_size = input_size,\n",
        "        hidden_size = hidden_size\n",
        "    )\n",
        "\n",
        "  def forward(self, x: torch.Tensor):\n",
        "    if isinstance(x, torch.Tensor):\n",
        "      batch_size, sequence_size, dimension = x.size()\n",
        "\n",
        "      h_t = torch.zeros((batch_size, self.hidden_size))\n",
        "      c_t = torch.zeros((batch_size, self.hidden_size))\n",
        "\n",
        "      for sequence in range(sequence_size):\n",
        "        combined_h_t_and_x_t = torch.cat((x[:, sequence, :], h_t), dim = 1)\n",
        "        h_t, c_t = self.lstm_cell(combined_h_t_and_x_t, c_t)\n",
        "\n",
        "        return (h_t, c_t)\n",
        "\n",
        "    else:\n",
        "      raise ValueError(\"Input must be a torch.Tensor\".capitalize())"
      ],
      "metadata": {
        "id": "JoMwTBP7K6VV"
      },
      "execution_count": 98,
      "outputs": []
    },
    {
      "cell_type": "code",
      "source": [
        "lstm = SimpleLSTMScratch(\n",
        "    input_size = 512,\n",
        "    hidden_size = 32,\n",
        "    bias = False\n",
        ")"
      ],
      "metadata": {
        "id": "XDa7DSBLLgk1"
      },
      "execution_count": 99,
      "outputs": []
    },
    {
      "cell_type": "code",
      "source": [
        "lstm(x)"
      ],
      "metadata": {
        "colab": {
          "base_uri": "https://localhost:8080/"
        },
        "id": "9XSbQa4iMACJ",
        "outputId": "8fa02653-138b-4005-ef2c-e25888f49430"
      },
      "execution_count": 100,
      "outputs": [
        {
          "output_type": "execute_result",
          "data": {
            "text/plain": [
              "(tensor([[-7.6159e-01, -1.0474e-25,  1.9339e-23,  ...,  2.7926e-33,\n",
              "           7.6159e-01,  3.8541e-01],\n",
              "         [-4.9133e-11, -1.3033e-11,  1.5515e-32,  ...,  1.8470e-07,\n",
              "           1.1286e-10,  7.6159e-01],\n",
              "         [-7.6159e-01, -1.1087e-07,  8.1617e-21,  ...,  4.9214e-21,\n",
              "           7.6159e-01,  7.6159e-01],\n",
              "         ...,\n",
              "         [-7.6065e-01, -5.6067e-10, -7.8415e-18,  ..., -2.7846e-08,\n",
              "           7.6157e-01,  7.4912e-01],\n",
              "         [-4.5788e-01, -1.5258e-13, -3.1972e-29,  ..., -4.1658e-01,\n",
              "           7.5800e-01,  6.9344e-01],\n",
              "         [-7.6155e-01, -7.0166e-01,  5.5753e-16,  ...,  7.1014e-23,\n",
              "           2.2679e-07,  2.0069e-20]], grad_fn=<MulBackward0>),\n",
              " tensor([[-1.0000e+00, -1.0484e-25,  1.9339e-23,  ...,  1.0000e+00,\n",
              "           1.0000e+00,  4.0640e-01],\n",
              "         [-4.9133e-11, -4.0002e-01,  1.5515e-32,  ...,  1.0000e+00,\n",
              "           1.1286e-10,  1.0000e+00],\n",
              "         [-1.0000e+00, -1.1087e-07,  2.1341e-15,  ...,  1.0000e+00,\n",
              "           1.0000e+00,  1.0000e+00],\n",
              "         ...,\n",
              "         [-9.9777e-01, -5.6084e-10, -5.6149e-16,  ..., -1.0000e+00,\n",
              "           9.9995e-01,  9.7094e-01],\n",
              "         [-4.9462e-01, -3.5768e-07, -2.6199e-28,  ..., -1.0000e+00,\n",
              "           9.9150e-01,  8.5456e-01],\n",
              "         [-9.9989e-01, -8.7071e-01,  5.5753e-16,  ...,  1.0000e+00,\n",
              "           2.2679e-07,  2.0069e-20]], grad_fn=<AddBackward0>))"
            ]
          },
          "metadata": {},
          "execution_count": 100
        }
      ]
    },
    {
      "cell_type": "code",
      "source": [
        "import torch\n",
        "\n",
        "# Set a fixed random seed\n",
        "torch.manual_seed(42)\n",
        "\n",
        "# Generate a random tensor\n",
        "tensor = torch.randn(3, 3)\n",
        "print(tensor)\n"
      ],
      "metadata": {
        "colab": {
          "base_uri": "https://localhost:8080/"
        },
        "id": "V0V_OA9pMDbT",
        "outputId": "07c7ed47-52bb-447c-ac55-049b51dc7b3c"
      },
      "execution_count": 101,
      "outputs": [
        {
          "output_type": "stream",
          "name": "stdout",
          "text": [
            "tensor([[ 0.3367,  0.1288,  0.2345],\n",
            "        [ 0.2303, -1.1229, -0.1863],\n",
            "        [ 2.2082, -0.6380,  0.4617]])\n"
          ]
        }
      ]
    },
    {
      "cell_type": "code",
      "source": [
        "# Generate a random tensor\n",
        "tensor = torch.randn(3, 3)\n",
        "print(tensor)"
      ],
      "metadata": {
        "colab": {
          "base_uri": "https://localhost:8080/"
        },
        "id": "E7UHPsyBM90B",
        "outputId": "57e5ff18-4c0c-401a-97ea-708f48b80b1f"
      },
      "execution_count": 102,
      "outputs": [
        {
          "output_type": "stream",
          "name": "stdout",
          "text": [
            "tensor([[ 0.2674,  0.5349,  0.8094],\n",
            "        [ 1.1103, -1.6898, -0.9890],\n",
            "        [ 0.9580,  1.3221,  0.8172]])\n"
          ]
        }
      ]
    },
    {
      "cell_type": "code",
      "source": [],
      "metadata": {
        "id": "u0fef_LhM_ms"
      },
      "execution_count": null,
      "outputs": []
    }
  ]
}