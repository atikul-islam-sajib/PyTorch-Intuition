{
  "nbformat": 4,
  "nbformat_minor": 0,
  "metadata": {
    "colab": {
      "provenance": []
    },
    "kernelspec": {
      "name": "python3",
      "display_name": "Python 3"
    },
    "language_info": {
      "name": "python"
    }
  },
  "cells": [
    {
      "cell_type": "code",
      "execution_count": 1,
      "metadata": {
        "id": "GLVdXUyat_Sd"
      },
      "outputs": [],
      "source": [
        "import torch\n",
        "import torch.nn as nn"
      ]
    },
    {
      "cell_type": "code",
      "source": [
        "data = torch.randint(0, 100, (64, 100))"
      ],
      "metadata": {
        "id": "sX1lbseOuDyP"
      },
      "execution_count": 6,
      "outputs": []
    },
    {
      "cell_type": "code",
      "source": [
        "data.size()"
      ],
      "metadata": {
        "colab": {
          "base_uri": "https://localhost:8080/"
        },
        "id": "-m-OMcszufFK",
        "outputId": "ef6e37d0-968a-4c36-c10f-61debb33748b"
      },
      "execution_count": 7,
      "outputs": [
        {
          "output_type": "execute_result",
          "data": {
            "text/plain": [
              "torch.Size([64, 100])"
            ]
          },
          "metadata": {},
          "execution_count": 7
        }
      ]
    },
    {
      "cell_type": "code",
      "source": [
        "embedding = nn.Embedding(num_embeddings=100, embedding_dim=512)"
      ],
      "metadata": {
        "id": "hJJKlTFVuK19"
      },
      "execution_count": 8,
      "outputs": []
    },
    {
      "cell_type": "code",
      "source": [
        "embedding(data).size()"
      ],
      "metadata": {
        "colab": {
          "base_uri": "https://localhost:8080/"
        },
        "id": "RXXEKW6duQ5r",
        "outputId": "04989e46-eed3-4cdb-bb1d-515d4f6b6bf3"
      },
      "execution_count": 9,
      "outputs": [
        {
          "output_type": "execute_result",
          "data": {
            "text/plain": [
              "torch.Size([64, 100, 512])"
            ]
          },
          "metadata": {},
          "execution_count": 9
        }
      ]
    },
    {
      "cell_type": "code",
      "source": [
        "data = embedding(data)"
      ],
      "metadata": {
        "id": "BfS6TfzHuwhp"
      },
      "execution_count": 11,
      "outputs": []
    },
    {
      "cell_type": "code",
      "source": [
        "rnn = nn.RNN(input_size=512, hidden_size=32, num_layers=1, batch_first=True)"
      ],
      "metadata": {
        "id": "J09QI8h4uUW_"
      },
      "execution_count": 12,
      "outputs": []
    },
    {
      "cell_type": "code",
      "source": [
        "len(rnn(data))"
      ],
      "metadata": {
        "colab": {
          "base_uri": "https://localhost:8080/"
        },
        "id": "rPtR6fpMuuGS",
        "outputId": "cb564e8f-5532-4ab1-e15c-2cb165bafec5"
      },
      "execution_count": 15,
      "outputs": [
        {
          "output_type": "execute_result",
          "data": {
            "text/plain": [
              "2"
            ]
          },
          "metadata": {},
          "execution_count": 15
        }
      ]
    },
    {
      "cell_type": "code",
      "source": [
        "hidden, final = rnn(data)"
      ],
      "metadata": {
        "id": "h1K77LHLu0sH"
      },
      "execution_count": 16,
      "outputs": []
    },
    {
      "cell_type": "code",
      "source": [
        "hidden.size()"
      ],
      "metadata": {
        "colab": {
          "base_uri": "https://localhost:8080/"
        },
        "id": "_sAXrZRYu_c-",
        "outputId": "d3c7dab1-7dd5-4540-9445-b7b1f932ffbc"
      },
      "execution_count": 17,
      "outputs": [
        {
          "output_type": "execute_result",
          "data": {
            "text/plain": [
              "torch.Size([64, 100, 32])"
            ]
          },
          "metadata": {},
          "execution_count": 17
        }
      ]
    },
    {
      "cell_type": "code",
      "source": [
        "final.size()"
      ],
      "metadata": {
        "colab": {
          "base_uri": "https://localhost:8080/"
        },
        "id": "81zC_f81vAkY",
        "outputId": "c77af449-0983-48a9-a51e-a7a0729a0b79"
      },
      "execution_count": 18,
      "outputs": [
        {
          "output_type": "execute_result",
          "data": {
            "text/plain": [
              "torch.Size([1, 64, 32])"
            ]
          },
          "metadata": {},
          "execution_count": 18
        }
      ]
    },
    {
      "cell_type": "code",
      "source": [
        "hidden[:, -1, :].size()"
      ],
      "metadata": {
        "colab": {
          "base_uri": "https://localhost:8080/"
        },
        "id": "hFUdahnKvBiO",
        "outputId": "76fff1dd-a739-4891-adf3-9f21aa919800"
      },
      "execution_count": 19,
      "outputs": [
        {
          "output_type": "execute_result",
          "data": {
            "text/plain": [
              "torch.Size([64, 32])"
            ]
          },
          "metadata": {},
          "execution_count": 19
        }
      ]
    },
    {
      "cell_type": "code",
      "source": [
        "check = hidden[:, -1, :] == final.squeeze()"
      ],
      "metadata": {
        "id": "bd1UVgWAvJ6i"
      },
      "execution_count": 21,
      "outputs": []
    },
    {
      "cell_type": "code",
      "source": [
        "if check.all() == True:\n",
        "  print(\"Yes\")\n",
        "else:\n",
        "  print(\"False\")"
      ],
      "metadata": {
        "colab": {
          "base_uri": "https://localhost:8080/"
        },
        "id": "nIrDfUvyvVGy",
        "outputId": "85b540c5-d6e8-4a5c-b4a4-b5b804b75b9d"
      },
      "execution_count": 22,
      "outputs": [
        {
          "output_type": "stream",
          "name": "stdout",
          "text": [
            "Yes\n"
          ]
        }
      ]
    },
    {
      "cell_type": "code",
      "source": [
        "class SimpleRNN(nn.Module):\n",
        "  def __init__(self, vocabulary_size: int = 100, num_dimension: int = 512):\n",
        "    super(SimpleRNN, self).__init__()\n",
        "    self.vocabulary_size = vocabulary_size\n",
        "    self.num_dimension = num_dimension\n",
        "    self.hidden_size = 64\n",
        "    self.out_features = 10\n",
        "\n",
        "    self.embedding = nn.Embedding(num_embeddings=vocabulary_size, embedding_dim=num_dimension)\n",
        "    self.model = nn.RNN(input_size=num_dimension, hidden_size=self.hidden_size, num_layers=1, batch_first=True)\n",
        "    self.output = nn.Linear(in_features=self.hidden_size, out_features=self.out_features)\n",
        "\n",
        "  def forward(self, x: torch.Tensor):\n",
        "    if isinstance(x, torch.Tensor):\n",
        "      x = self.embedding(x)\n",
        "      _, final = self.model(x)\n",
        "      return self.output(final.squeeze(0))\n",
        "\n",
        "    else:\n",
        "      raise Exception(\"INput should be the torch tensor format\".capitalize())"
      ],
      "metadata": {
        "id": "y5OopQb-veTZ"
      },
      "execution_count": 32,
      "outputs": []
    },
    {
      "cell_type": "code",
      "source": [
        "class SimpleRNN(nn.Module):\n",
        "  def __init__(self, vocabulary_size: int = 100, num_dimension: int = 512):\n",
        "    super(SimpleRNN, self).__init__()\n",
        "    self.vocabulary_size = vocabulary_size\n",
        "    self.num_dimension = num_dimension\n",
        "    self.hidden_size = 64 # Hidden state that is also known hidden layers\n",
        "    self.out_features = 10 # Final neurons that is for the last layer\n",
        "\n",
        "    self.embedding = nn.Embedding(num_embeddings=vocabulary_size, embedding_dim=num_dimension) # 64, 100, 512\n",
        "    self.model = nn.RNN(input_size=num_dimension, hidden_size=self.hidden_size, num_layers=1, batch_first=True) # 512(dimension) would be passed to the RNN in the timestamps\n",
        "    self.output = nn.Linear(in_features=self.hidden_size, out_features=self.out_features)\n",
        "\n",
        "  def forward(self, x: torch.Tensor):\n",
        "    if isinstance(x, torch.Tensor):\n",
        "      x = self.embedding(x)\n",
        "      _, final = self.model(x)\n",
        "      return self.output(final.squeeze(0))\n",
        "\n",
        "    else:\n",
        "      raise Exception(\"INput should be the torch tensor format\".capitalize())"
      ],
      "metadata": {
        "id": "ygkvI6rayBfG"
      },
      "execution_count": null,
      "outputs": []
    },
    {
      "cell_type": "code",
      "source": [
        "classifier = SimpleRNN()"
      ],
      "metadata": {
        "id": "UnCwLrNIw1ul"
      },
      "execution_count": 33,
      "outputs": []
    },
    {
      "cell_type": "code",
      "source": [
        "print(\"Total parameters of this simple model = \", sum(params.numel() for params in classifier.parameters()))"
      ],
      "metadata": {
        "colab": {
          "base_uri": "https://localhost:8080/"
        },
        "id": "Dp3-ynFew5Lb",
        "outputId": "0a7bb31f-6442-4e0a-9c9e-c97f62aa9337"
      },
      "execution_count": 34,
      "outputs": [
        {
          "output_type": "stream",
          "name": "stdout",
          "text": [
            "Total parameters of this simple model =  88842\n"
          ]
        }
      ]
    },
    {
      "cell_type": "code",
      "source": [
        "data = torch.randint(0, 100, (64, 100))"
      ],
      "metadata": {
        "id": "s6glDaiyxGV9"
      },
      "execution_count": 35,
      "outputs": []
    },
    {
      "cell_type": "code",
      "source": [
        "data.size()"
      ],
      "metadata": {
        "colab": {
          "base_uri": "https://localhost:8080/"
        },
        "id": "-_gsxdaJxXZx",
        "outputId": "b3628790-4800-4227-db25-08da2cccb96b"
      },
      "execution_count": 36,
      "outputs": [
        {
          "output_type": "execute_result",
          "data": {
            "text/plain": [
              "torch.Size([64, 100])"
            ]
          },
          "metadata": {},
          "execution_count": 36
        }
      ]
    },
    {
      "cell_type": "code",
      "source": [
        "classifier(data).size()"
      ],
      "metadata": {
        "colab": {
          "base_uri": "https://localhost:8080/"
        },
        "id": "Ok2g51SaxS-T",
        "outputId": "f5f269bb-c5ed-45f6-d50b-46b8f1c0f61f"
      },
      "execution_count": 38,
      "outputs": [
        {
          "output_type": "execute_result",
          "data": {
            "text/plain": [
              "torch.Size([64, 10])"
            ]
          },
          "metadata": {},
          "execution_count": 38
        }
      ]
    },
    {
      "cell_type": "code",
      "source": [
        "A = torch.randn((1, 64, 512))"
      ],
      "metadata": {
        "id": "qoTWG-cLxUTR"
      },
      "execution_count": 41,
      "outputs": []
    },
    {
      "cell_type": "code",
      "source": [
        "A.view(A.size(0) * A.size(1), A.size(2)).size()"
      ],
      "metadata": {
        "colab": {
          "base_uri": "https://localhost:8080/"
        },
        "id": "O6PSXfzxxpmr",
        "outputId": "6c750838-361f-45d8-a37e-8408387008a8"
      },
      "execution_count": 45,
      "outputs": [
        {
          "output_type": "execute_result",
          "data": {
            "text/plain": [
              "torch.Size([64, 512])"
            ]
          },
          "metadata": {},
          "execution_count": 45
        }
      ]
    },
    {
      "cell_type": "code",
      "source": [
        "import torch\n",
        "import numpy as np\n",
        "import torch.nn as nn\n",
        "import torch.optim as optim\n",
        "from sklearn.model_selection import train_test_split\n",
        "from torch.utils.data import DataLoader\n",
        "from torchsummary import summary\n",
        "from sklearn.metrics import accuracy_score, precision_score, recall_score, f1_score"
      ],
      "metadata": {
        "id": "pxzx3urexttp"
      },
      "execution_count": 262,
      "outputs": []
    },
    {
      "cell_type": "code",
      "source": [
        "batch_size = 32\n",
        "vocabulary_size = 100\n",
        "split_size = 0.30\n",
        "num_dimension = 128\n",
        "lr = 1e-4\n",
        "EPOCHS = 2"
      ],
      "metadata": {
        "id": "rmdoMo9PzC9V"
      },
      "execution_count": 356,
      "outputs": []
    },
    {
      "cell_type": "code",
      "source": [
        "X = torch.randint(0, 100, (400, 100))\n",
        "y = torch.randint(0, 2, (400, ))"
      ],
      "metadata": {
        "id": "H1XBGV0tzIuN"
      },
      "execution_count": 357,
      "outputs": []
    },
    {
      "cell_type": "code",
      "source": [
        "X.size(), y.size()"
      ],
      "metadata": {
        "colab": {
          "base_uri": "https://localhost:8080/"
        },
        "id": "Ox1FqTN4zcV1",
        "outputId": "e8b8a722-67d4-40ce-933f-999d11d7d7da"
      },
      "execution_count": 358,
      "outputs": [
        {
          "output_type": "execute_result",
          "data": {
            "text/plain": [
              "(torch.Size([400, 100]), torch.Size([400]))"
            ]
          },
          "metadata": {},
          "execution_count": 358
        }
      ]
    },
    {
      "cell_type": "code",
      "source": [
        "X - torch.tensor(data = X, dtype=torch.float)\n",
        "y = torch.tensor(data = y, dtype=torch.float)\n",
        "\n",
        "X.size(), y.size()"
      ],
      "metadata": {
        "colab": {
          "base_uri": "https://localhost:8080/"
        },
        "id": "pZet7WHA2v5E",
        "outputId": "0af3a0d3-b57f-415c-c7c2-412633fa6763"
      },
      "execution_count": 359,
      "outputs": [
        {
          "output_type": "stream",
          "name": "stderr",
          "text": [
            "<ipython-input-359-8580990f0d65>:1: UserWarning: To copy construct from a tensor, it is recommended to use sourceTensor.clone().detach() or sourceTensor.clone().detach().requires_grad_(True), rather than torch.tensor(sourceTensor).\n",
            "  X - torch.tensor(data = X, dtype=torch.float)\n",
            "<ipython-input-359-8580990f0d65>:2: UserWarning: To copy construct from a tensor, it is recommended to use sourceTensor.clone().detach() or sourceTensor.clone().detach().requires_grad_(True), rather than torch.tensor(sourceTensor).\n",
            "  y = torch.tensor(data = y, dtype=torch.float)\n"
          ]
        },
        {
          "output_type": "execute_result",
          "data": {
            "text/plain": [
              "(torch.Size([400, 100]), torch.Size([400]))"
            ]
          },
          "metadata": {},
          "execution_count": 359
        }
      ]
    },
    {
      "cell_type": "code",
      "source": [
        "X_train, X_test, y_train, y_test = train_test_split(X, y, test_size=split_size, random_state=42)"
      ],
      "metadata": {
        "id": "98PTo-WSzfNz"
      },
      "execution_count": 360,
      "outputs": []
    },
    {
      "cell_type": "code",
      "source": [
        "X_train.size(), y_train.size(), X_test.size(), y_test.size()"
      ],
      "metadata": {
        "colab": {
          "base_uri": "https://localhost:8080/"
        },
        "id": "Jm4bSQB-zzzI",
        "outputId": "ccd12916-7ae3-4304-a743-c9d2efedf497"
      },
      "execution_count": 361,
      "outputs": [
        {
          "output_type": "execute_result",
          "data": {
            "text/plain": [
              "(torch.Size([280, 100]),\n",
              " torch.Size([280]),\n",
              " torch.Size([120, 100]),\n",
              " torch.Size([120]))"
            ]
          },
          "metadata": {},
          "execution_count": 361
        }
      ]
    },
    {
      "cell_type": "code",
      "source": [
        "train_dataloader = DataLoader(dataset=list(zip(X_train, y_train)), batch_size=batch_size, shuffle=True)\n",
        "valid_dataloader = DataLoader(dataset=list(zip(X_test, y_test)), batch_size=batch_size, shuffle=True)"
      ],
      "metadata": {
        "id": "-mEc4Ml0z5yJ"
      },
      "execution_count": 362,
      "outputs": []
    },
    {
      "cell_type": "code",
      "source": [
        "data, labels = next(iter(train_dataloader))\n",
        "\n",
        "data.size(), labels.size()"
      ],
      "metadata": {
        "colab": {
          "base_uri": "https://localhost:8080/"
        },
        "id": "MRPIINTZ0FRz",
        "outputId": "482666e1-b1f2-4024-ef3d-e4fd607b2874"
      },
      "execution_count": 363,
      "outputs": [
        {
          "output_type": "execute_result",
          "data": {
            "text/plain": [
              "(torch.Size([32, 100]), torch.Size([32]))"
            ]
          },
          "metadata": {},
          "execution_count": 363
        }
      ]
    },
    {
      "cell_type": "code",
      "source": [
        "class SimpleClassifier(nn.Module):\n",
        "  def __init__(self, vocabulary_size: int = 100, num_dimension: int = 128):\n",
        "    super(SimpleClassifier, self).__init__()\n",
        "\n",
        "    self.vocabulary_size = vocabulary_size\n",
        "    self.num_dimension = num_dimension\n",
        "    self.hidden_layers = 32\n",
        "    self.out_features = 1\n",
        "\n",
        "    self.embedding = nn.Embedding(num_embeddings=self.vocabulary_size, embedding_dim=self.num_dimension)\n",
        "    self.rnn_model = nn.RNN(input_size=self.num_dimension, hidden_size=self.hidden_layers, num_layers=1, batch_first=True)\n",
        "    self.output_layer = nn.Linear(in_features=self.hidden_layers, out_features=self.out_features)\n",
        "\n",
        "  def forward(self, x: torch.Tensor):\n",
        "    if isinstance(x, torch.Tensor):\n",
        "      embedding = self.embedding(x)\n",
        "      _, final = self.rnn_model(embedding)\n",
        "      return self.output_layer(final.squeeze(0))\n",
        "\n",
        "    else:\n",
        "      raise Exception(\"Input should be in the format of tensor\".capitalize())"
      ],
      "metadata": {
        "id": "-uOpllnK0Qb3"
      },
      "execution_count": 271,
      "outputs": []
    },
    {
      "cell_type": "code",
      "source": [
        "classifier = SimpleClassifier(vocabulary_size=vocabulary_size, num_dimension=num_dimension)"
      ],
      "metadata": {
        "id": "zOIPm2LI14Z_"
      },
      "execution_count": 272,
      "outputs": []
    },
    {
      "cell_type": "code",
      "source": [
        "print(\"Total number of parameters = \", sum(params.numel() for params in classifier.parameters()))"
      ],
      "metadata": {
        "colab": {
          "base_uri": "https://localhost:8080/"
        },
        "id": "hrtO1I-E1-A-",
        "outputId": "7f607a91-6463-4418-d33e-6b217d965182"
      },
      "execution_count": 273,
      "outputs": [
        {
          "output_type": "stream",
          "name": "stdout",
          "text": [
            "Total number of parameters =  18017\n"
          ]
        }
      ]
    },
    {
      "cell_type": "code",
      "source": [
        "classifier(data).size()"
      ],
      "metadata": {
        "colab": {
          "base_uri": "https://localhost:8080/"
        },
        "id": "NemWrzdJ2HuE",
        "outputId": "188c6e5c-12c9-4ff3-ffae-b6e8ac116c9d"
      },
      "execution_count": 274,
      "outputs": [
        {
          "output_type": "execute_result",
          "data": {
            "text/plain": [
              "torch.Size([32, 1])"
            ]
          },
          "metadata": {},
          "execution_count": 274
        }
      ]
    },
    {
      "cell_type": "code",
      "source": [
        "criterion = nn.BCEWithLogitsLoss()\n",
        "optimizer = optim.Adam(params=classifier.parameters(), lr = lr, betas=(0.9, 0.999))"
      ],
      "metadata": {
        "id": "hrF6oWyC3gqI"
      },
      "execution_count": 275,
      "outputs": []
    },
    {
      "cell_type": "code",
      "source": [
        "labels"
      ],
      "metadata": {
        "colab": {
          "base_uri": "https://localhost:8080/"
        },
        "id": "fIDxW_bE4cSW",
        "outputId": "1de103d2-3814-4ffc-c0b1-cd084a6d5087"
      },
      "execution_count": 276,
      "outputs": [
        {
          "output_type": "execute_result",
          "data": {
            "text/plain": [
              "tensor([1., 0., 1., 0., 1., 1., 0., 0., 0., 0., 0., 0., 0., 1., 1., 1., 0., 0.,\n",
              "        1., 1., 0., 1., 0., 1., 0., 0., 1., 1., 0., 1., 1., 0.])"
            ]
          },
          "metadata": {},
          "execution_count": 276
        }
      ]
    },
    {
      "cell_type": "code",
      "source": [
        "total_train_loss = []\n",
        "total_valid_loss = []\n",
        "\n",
        "for epoch in range(EPOCHS):\n",
        "  train_loss = []\n",
        "  valid_loss = []\n",
        "\n",
        "  for data, labels in train_dataloader:\n",
        "    predicted = classifier(data)\n",
        "    predicted = predicted.view(-1)\n",
        "\n",
        "    loss = criterion(predicted, labels)\n",
        "\n",
        "    train_loss.append(loss.item())\n",
        "\n",
        "    optimizer.zero_grad()\n",
        "    loss.backward()\n",
        "    optimizer.step()\n",
        "\n",
        "  for data, labels in valid_dataloader:\n",
        "    predicted = classifier(data)\n",
        "    predicted = predicted.view(-1)\n",
        "\n",
        "    loss = criterion(predicted, labels)\n",
        "\n",
        "    valid_loss.append(loss.item())\n",
        "\n",
        "    total_train_loss.append(np.array(train_loss).mean)\n",
        "    total_valid_loss.append(np.array(valid_loss).mean())\n",
        "\n",
        "  print(\"Epochs: [{}/{}] - train_loss: {} - valid_loss: {}\".format(epoch, EPOCHS, np.array(train_loss).mean(), np.array(valid_loss).mean()))"
      ],
      "metadata": {
        "colab": {
          "base_uri": "https://localhost:8080/"
        },
        "id": "rSdZ0N022qAN",
        "outputId": "3b0a0e1f-7e41-4177-ead2-9d842de9197c"
      },
      "execution_count": 277,
      "outputs": [
        {
          "output_type": "stream",
          "name": "stdout",
          "text": [
            "Epochs: [0/2] - train_loss: 0.7320349944962395 - valid_loss: 0.7510333508253098\n",
            "Epochs: [1/2] - train_loss: 0.7253956662284003 - valid_loss: 0.7490456700325012\n"
          ]
        }
      ]
    },
    {
      "cell_type": "code",
      "source": [
        "import numpy as np\n",
        "from sklearn.metrics import accuracy_score\n",
        "\n",
        "predicted_labels = []\n",
        "actual_labels = []\n",
        "\n",
        "for data, labels in valid_dataloader:\n",
        "    predicted = classifier(data)\n",
        "    predicted = predicted.view(-1)\n",
        "    predicted = torch.sigmoid(predicted)\n",
        "    predicted = (predicted > 0.5).int()\n",
        "\n",
        "    predicted_labels.extend(predicted.detach().cpu().numpy().flatten())\n",
        "    actual_labels.extend(labels.detach().cpu().numpy().flatten())\n",
        "\n",
        "predicted_labels = np.array(predicted_labels)\n",
        "actual_labels = np.array(actual_labels)"
      ],
      "metadata": {
        "id": "Gl5CGXzX4GAJ"
      },
      "execution_count": 278,
      "outputs": []
    },
    {
      "cell_type": "code",
      "source": [
        "classifier = SimpleClassifier(vocabulary_size=vocabulary_size, num_dimension=num_dimension)"
      ],
      "metadata": {
        "id": "XYanyLMuBT0B"
      },
      "execution_count": null,
      "outputs": []
    },
    {
      "cell_type": "code",
      "source": [
        "print(\"Total number of parameters = \", sum(params.numel() for params in classifier.parameters()))"
      ],
      "metadata": {
        "colab": {
          "base_uri": "https://localhost:8080/"
        },
        "outputId": "7f607a91-6463-4418-d33e-6b217d965182",
        "id": "ABlbYpuzBT0C"
      },
      "execution_count": null,
      "outputs": [
        {
          "output_type": "stream",
          "name": "stdout",
          "text": [
            "Total number of parameters =  18017\n"
          ]
        }
      ]
    },
    {
      "cell_type": "code",
      "source": [
        "classifier(data).size()"
      ],
      "metadata": {
        "colab": {
          "base_uri": "https://localhost:8080/"
        },
        "outputId": "188c6e5c-12c9-4ff3-ffae-b6e8ac116c9d",
        "id": "z_dM5Bf9BT0C"
      },
      "execution_count": null,
      "outputs": [
        {
          "output_type": "execute_result",
          "data": {
            "text/plain": [
              "torch.Size([32, 1])"
            ]
          },
          "metadata": {},
          "execution_count": 274
        }
      ]
    },
    {
      "cell_type": "code",
      "source": [
        "criterion = nn.BCEWithLogitsLoss()\n",
        "optimizer = optim.Adam(params=classifier.parameters(), lr = lr, betas=(0.9, 0.999))"
      ],
      "metadata": {
        "id": "1XJAIoscBT0C"
      },
      "execution_count": null,
      "outputs": []
    },
    {
      "cell_type": "code",
      "source": [
        "labels"
      ],
      "metadata": {
        "colab": {
          "base_uri": "https://localhost:8080/"
        },
        "outputId": "1de103d2-3814-4ffc-c0b1-cd084a6d5087",
        "id": "aforLrChBT0C"
      },
      "execution_count": null,
      "outputs": [
        {
          "output_type": "execute_result",
          "data": {
            "text/plain": [
              "tensor([1., 0., 1., 0., 1., 1., 0., 0., 0., 0., 0., 0., 0., 1., 1., 1., 0., 0.,\n",
              "        1., 1., 0., 1., 0., 1., 0., 0., 1., 1., 0., 1., 1., 0.])"
            ]
          },
          "metadata": {},
          "execution_count": 276
        }
      ]
    },
    {
      "cell_type": "code",
      "source": [
        "total_train_loss = []\n",
        "total_valid_loss = []\n",
        "\n",
        "for epoch in range(EPOCHS):\n",
        "  train_loss = []\n",
        "  valid_loss = []\n",
        "\n",
        "  for data, labels in train_dataloader:\n",
        "    predicted = classifier(data)\n",
        "    predicted = predicted.view(-1)\n",
        "\n",
        "    loss = criterion(predicted, labels)\n",
        "\n",
        "    train_loss.append(loss.item())\n",
        "\n",
        "    optimizer.zero_grad()\n",
        "    loss.backward()\n",
        "    optimizer.step()\n",
        "\n",
        "  for data, labels in valid_dataloader:\n",
        "    predicted = classifier(data)\n",
        "    predicted = predicted.view(-1)\n",
        "\n",
        "    loss = criterion(predicted, labels)\n",
        "\n",
        "    valid_loss.append(loss.item())\n",
        "\n",
        "    total_train_loss.append(np.array(train_loss).mean)\n",
        "    total_valid_loss.append(np.array(valid_loss).mean())\n",
        "\n",
        "  print(\"Epochs: [{}/{}] - train_loss: {} - valid_loss: {}\".format(epoch, EPOCHS, np.array(train_loss).mean(), np.array(valid_loss).mean()))"
      ],
      "metadata": {
        "colab": {
          "base_uri": "https://localhost:8080/"
        },
        "outputId": "3b0a0e1f-7e41-4177-ead2-9d842de9197c",
        "id": "k0YB6Q-EBT0C"
      },
      "execution_count": null,
      "outputs": [
        {
          "output_type": "stream",
          "name": "stdout",
          "text": [
            "Epochs: [0/2] - train_loss: 0.7320349944962395 - valid_loss: 0.7510333508253098\n",
            "Epochs: [1/2] - train_loss: 0.7253956662284003 - valid_loss: 0.7490456700325012\n"
          ]
        }
      ]
    },
    {
      "cell_type": "code",
      "source": [
        "import numpy as np\n",
        "from sklearn.metrics import accuracy_score\n",
        "\n",
        "predicted_labels = []\n",
        "actual_labels = []\n",
        "\n",
        "for data, labels in valid_dataloader:\n",
        "    predicted = classifier(data)\n",
        "    predicted = predicted.view(-1)\n",
        "    predicted = torch.sigmoid(predicted)\n",
        "    predicted = (predicted > 0.5).int()\n",
        "\n",
        "    predicted_labels.extend(predicted.detach().cpu().numpy().flatten())\n",
        "    actual_labels.extend(labels.detach().cpu().numpy().flatten())\n",
        "\n",
        "predicted_labels = np.array(predicted_labels)\n",
        "actual_labels = np.array(actual_labels)"
      ],
      "metadata": {
        "id": "4KDRj9MABT0C"
      },
      "execution_count": null,
      "outputs": []
    },
    {
      "cell_type": "code",
      "source": [
        "print(\"accuarcy = \", accuracy_score(predicted_labels, actual_labels))\n",
        "print(\"precision = \", precision_score(predicted_labels, actual_labels))\n",
        "print(\"recall = \", recall_score(predicted_labels, actual_labels))\n",
        "print(\"f1 = \", f1_score(predicted_labels, actual_labels))"
      ],
      "metadata": {
        "colab": {
          "base_uri": "https://localhost:8080/"
        },
        "outputId": "db2bf442-7611-49de-aa61-50daff83fcae",
        "id": "Ji8Omfe1BT0C"
      },
      "execution_count": null,
      "outputs": [
        {
          "output_type": "stream",
          "name": "stdout",
          "text": [
            "accuarcy =  0.4583333333333333\n",
            "precision =  0.4262295081967213\n",
            "recall =  0.4642857142857143\n",
            "f1 =  0.4444444444444444\n"
          ]
        }
      ]
    },
    {
      "cell_type": "code",
      "source": [
        "print(\"accuarcy = \", accuracy_score(predicted_labels, actual_labels))\n",
        "print(\"precision = \", precision_score(predicted_labels, actual_labels))\n",
        "print(\"recall = \", recall_score(predicted_labels, actual_labels))\n",
        "print(\"f1 = \", f1_score(predicted_labels, actual_labels))"
      ],
      "metadata": {
        "colab": {
          "base_uri": "https://localhost:8080/"
        },
        "id": "NUCkFWhI7CDd",
        "outputId": "db2bf442-7611-49de-aa61-50daff83fcae"
      },
      "execution_count": 279,
      "outputs": [
        {
          "output_type": "stream",
          "name": "stdout",
          "text": [
            "accuarcy =  0.4583333333333333\n",
            "precision =  0.4262295081967213\n",
            "recall =  0.4642857142857143\n",
            "f1 =  0.4444444444444444\n"
          ]
        }
      ]
    },
    {
      "cell_type": "code",
      "source": [
        "predicted_labels"
      ],
      "metadata": {
        "colab": {
          "base_uri": "https://localhost:8080/"
        },
        "id": "7yKUO48s7mw-",
        "outputId": "f0f27a04-a7d4-4460-ba29-7fca5da66c29"
      },
      "execution_count": 280,
      "outputs": [
        {
          "output_type": "execute_result",
          "data": {
            "text/plain": [
              "array([0, 1, 1, 0, 1, 1, 1, 1, 0, 0, 1, 1, 0, 0, 1, 0, 0, 0, 0, 1, 0, 1,\n",
              "       0, 0, 0, 1, 0, 1, 0, 0, 0, 1, 1, 0, 0, 0, 0, 1, 0, 0, 1, 0, 1, 0,\n",
              "       0, 0, 0, 0, 1, 0, 0, 0, 0, 0, 0, 0, 1, 0, 0, 1, 0, 0, 1, 1, 0, 0,\n",
              "       0, 0, 1, 1, 1, 1, 0, 0, 0, 1, 0, 0, 0, 1, 0, 0, 0, 0, 1, 1, 1, 0,\n",
              "       1, 1, 1, 0, 1, 1, 1, 0, 1, 0, 1, 1, 1, 1, 1, 1, 1, 1, 1, 1, 0, 1,\n",
              "       1, 1, 0, 1, 1, 1, 0, 0, 1, 0], dtype=int32)"
            ]
          },
          "metadata": {},
          "execution_count": 280
        }
      ]
    },
    {
      "cell_type": "code",
      "source": [
        "actual_labels"
      ],
      "metadata": {
        "colab": {
          "base_uri": "https://localhost:8080/"
        },
        "id": "HZVM0hhc75dz",
        "outputId": "172dc2d6-10d0-4eae-fc6b-d336cb88b720"
      },
      "execution_count": 281,
      "outputs": [
        {
          "output_type": "execute_result",
          "data": {
            "text/plain": [
              "array([0., 0., 1., 0., 1., 1., 0., 1., 1., 1., 1., 1., 0., 1., 0., 1., 0.,\n",
              "       1., 1., 1., 1., 0., 1., 0., 0., 1., 1., 0., 1., 1., 1., 1., 0., 0.,\n",
              "       0., 1., 0., 1., 0., 0., 0., 1., 1., 1., 1., 0., 0., 1., 0., 1., 1.,\n",
              "       1., 1., 0., 0., 0., 1., 1., 0., 1., 0., 1., 1., 1., 1., 1., 0., 0.,\n",
              "       0., 0., 1., 0., 0., 1., 0., 0., 1., 0., 0., 0., 1., 1., 1., 0., 0.,\n",
              "       0., 0., 0., 0., 0., 0., 1., 1., 1., 0., 1., 0., 0., 0., 1., 1., 1.,\n",
              "       0., 1., 0., 0., 0., 0., 1., 0., 1., 0., 0., 1., 0., 1., 1., 1., 1.,\n",
              "       0.], dtype=float32)"
            ]
          },
          "metadata": {},
          "execution_count": 281
        }
      ]
    },
    {
      "cell_type": "markdown",
      "source": [
        "## Using LSTM"
      ],
      "metadata": {
        "id": "Wun8_KzABEEU"
      }
    },
    {
      "cell_type": "code",
      "source": [
        "batch_size = 64\n",
        "vocabulary_size = 100\n",
        "split_size = 0.30\n",
        "num_dimension = 32\n",
        "lr = 1e-3\n",
        "EPOCHS = 2"
      ],
      "metadata": {
        "id": "AVlMuj2yCXlT"
      },
      "execution_count": 352,
      "outputs": []
    },
    {
      "cell_type": "code",
      "source": [
        "class SimpleClassifier(nn.Module):\n",
        "  def __init__(self, vocabulary_size: int = 100, num_dimension: int = 128):\n",
        "    super(SimpleClassifier, self).__init__()\n",
        "\n",
        "    self.vocabulary_size = vocabulary_size\n",
        "    self.num_dimension = num_dimension\n",
        "    self.hidden_layers = 32\n",
        "    self.out_features = 1\n",
        "\n",
        "    self.embedding = nn.Embedding(num_embeddings=self.vocabulary_size, embedding_dim=self.num_dimension)\n",
        "    self.lstm_model = nn.LSTM(input_size=self.num_dimension, hidden_size=self.hidden_layers, num_layers=1, batch_first=True)\n",
        "    self.output_layer = nn.Linear(in_features=self.hidden_layers, out_features=self.out_features)\n",
        "\n",
        "  def forward(self, x: torch.Tensor):\n",
        "    if isinstance(x, torch.Tensor):\n",
        "      embedding = self.embedding(x)\n",
        "      _, final = self.lstm_model(embedding)\n",
        "      return self.output_layer(final[0].squeeze(0))\n",
        "\n",
        "    else:\n",
        "      raise Exception(\"Input should be in the format of tensor\".capitalize())"
      ],
      "metadata": {
        "id": "swm8kets8es9"
      },
      "execution_count": 395,
      "outputs": []
    },
    {
      "cell_type": "code",
      "source": [
        "classifier = SimpleClassifier(vocabulary_size=vocabulary_size, num_dimension=num_dimension)"
      ],
      "metadata": {
        "id": "CX1I2UveBW3q"
      },
      "execution_count": 396,
      "outputs": []
    },
    {
      "cell_type": "code",
      "source": [
        "print(\"Total number of parameters = \", sum(params.numel() for params in classifier.parameters()))"
      ],
      "metadata": {
        "colab": {
          "base_uri": "https://localhost:8080/"
        },
        "outputId": "7cfcf00d-2b0e-4591-85ff-94832e77baa9",
        "id": "dyAcR5JvBW3q"
      },
      "execution_count": 397,
      "outputs": [
        {
          "output_type": "stream",
          "name": "stdout",
          "text": [
            "Total number of parameters =  33569\n"
          ]
        }
      ]
    },
    {
      "cell_type": "code",
      "source": [
        "classifier(data).size()"
      ],
      "metadata": {
        "colab": {
          "base_uri": "https://localhost:8080/"
        },
        "outputId": "475380e4-f5ae-41be-8df6-de63dfb49d71",
        "id": "6pb_1dHQBW3q"
      },
      "execution_count": 398,
      "outputs": [
        {
          "output_type": "execute_result",
          "data": {
            "text/plain": [
              "torch.Size([32, 1])"
            ]
          },
          "metadata": {},
          "execution_count": 398
        }
      ]
    },
    {
      "cell_type": "code",
      "source": [
        "criterion = nn.BCEWithLogitsLoss()\n",
        "optimizer = optim.Adam(params=classifier.parameters(), lr = lr, betas=(0.9, 0.999))"
      ],
      "metadata": {
        "id": "r9thZuTrBW3q"
      },
      "execution_count": 399,
      "outputs": []
    },
    {
      "cell_type": "code",
      "source": [
        "labels\n",
        "EPOCHS = 50"
      ],
      "metadata": {
        "id": "JmsFrIM2BW3q"
      },
      "execution_count": 400,
      "outputs": []
    },
    {
      "cell_type": "code",
      "source": [
        "total_train_loss = []\n",
        "total_valid_loss = []\n",
        "\n",
        "for epoch in range(EPOCHS):\n",
        "  train_loss = []\n",
        "  valid_loss = []\n",
        "\n",
        "  for data, labels in train_dataloader:\n",
        "    predicted = classifier(data)\n",
        "    predicted = predicted.view(-1)\n",
        "\n",
        "    loss = criterion(predicted, labels)\n",
        "\n",
        "    train_loss.append(loss.item())\n",
        "\n",
        "    optimizer.zero_grad()\n",
        "    loss.backward()\n",
        "    optimizer.step()\n",
        "\n",
        "  for data, labels in valid_dataloader:\n",
        "    predicted = classifier(data)\n",
        "    predicted = predicted.view(-1)\n",
        "\n",
        "    loss = criterion(predicted, labels)\n",
        "\n",
        "    valid_loss.append(loss.item())\n",
        "\n",
        "    total_train_loss.append(np.array(train_loss).mean)\n",
        "    total_valid_loss.append(np.array(valid_loss).mean())\n",
        "\n",
        "  print(\"Epochs: [{}/{}] - train_loss: {} - valid_loss: {}\".format(epoch, EPOCHS, np.array(train_loss).mean(), np.array(valid_loss).mean()))"
      ],
      "metadata": {
        "colab": {
          "base_uri": "https://localhost:8080/"
        },
        "outputId": "8b4cf44f-3272-4679-a720-14d0d0f9fbc2",
        "id": "o1m6OPkrBW3q"
      },
      "execution_count": 401,
      "outputs": [
        {
          "output_type": "stream",
          "name": "stdout",
          "text": [
            "Epochs: [0/50] - train_loss: 0.6942809489038255 - valid_loss: 0.6834733337163925\n",
            "Epochs: [1/50] - train_loss: 0.6929750045140585 - valid_loss: 0.6825533509254456\n",
            "Epochs: [2/50] - train_loss: 0.6908016999562582 - valid_loss: 0.6833926737308502\n",
            "Epochs: [3/50] - train_loss: 0.6890093286832174 - valid_loss: 0.6816552430391312\n",
            "Epochs: [4/50] - train_loss: 0.687235520945655 - valid_loss: 0.6844297647476196\n",
            "Epochs: [5/50] - train_loss: 0.6856551965077718 - valid_loss: 0.6825556755065918\n",
            "Epochs: [6/50] - train_loss: 0.6838811039924622 - valid_loss: 0.6820230185985565\n",
            "Epochs: [7/50] - train_loss: 0.6817042297787137 - valid_loss: 0.6841358095407486\n",
            "Epochs: [8/50] - train_loss: 0.6803909738858541 - valid_loss: 0.6824590116739273\n",
            "Epochs: [9/50] - train_loss: 0.6781366666158041 - valid_loss: 0.6822476536035538\n",
            "Epochs: [10/50] - train_loss: 0.6768925918473138 - valid_loss: 0.6832815259695053\n",
            "Epochs: [11/50] - train_loss: 0.6753380762206184 - valid_loss: 0.6848435401916504\n",
            "Epochs: [12/50] - train_loss: 0.6743502418200175 - valid_loss: 0.6847068071365356\n",
            "Epochs: [13/50] - train_loss: 0.6714846558041043 - valid_loss: 0.6848772168159485\n",
            "Epochs: [14/50] - train_loss: 0.6709497173627218 - valid_loss: 0.6841437667608261\n",
            "Epochs: [15/50] - train_loss: 0.6687151458528307 - valid_loss: 0.6834989339113235\n",
            "Epochs: [16/50] - train_loss: 0.6671960420078702 - valid_loss: 0.6837039887905121\n",
            "Epochs: [17/50] - train_loss: 0.6645435757107205 - valid_loss: 0.6847255825996399\n",
            "Epochs: [18/50] - train_loss: 0.6634412341647677 - valid_loss: 0.6844887584447861\n",
            "Epochs: [19/50] - train_loss: 0.6623191833496094 - valid_loss: 0.6831163763999939\n",
            "Epochs: [20/50] - train_loss: 0.6602244178454081 - valid_loss: 0.6853360682725906\n",
            "Epochs: [21/50] - train_loss: 0.6587408251232572 - valid_loss: 0.685225248336792\n",
            "Epochs: [22/50] - train_loss: 0.6560148596763611 - valid_loss: 0.684713676571846\n",
            "Epochs: [23/50] - train_loss: 0.6545598175790575 - valid_loss: 0.6844311058521271\n",
            "Epochs: [24/50] - train_loss: 0.65339019563463 - valid_loss: 0.6841884851455688\n",
            "Epochs: [25/50] - train_loss: 0.651170445813073 - valid_loss: 0.6862866878509521\n",
            "Epochs: [26/50] - train_loss: 0.6497864392068651 - valid_loss: 0.6838190257549286\n",
            "Epochs: [27/50] - train_loss: 0.6484096182717217 - valid_loss: 0.6872859001159668\n",
            "Epochs: [28/50] - train_loss: 0.6459619998931885 - valid_loss: 0.6848526448011398\n",
            "Epochs: [29/50] - train_loss: 0.6456304060088264 - valid_loss: 0.6861082911491394\n",
            "Epochs: [30/50] - train_loss: 0.6423500511381361 - valid_loss: 0.6859529614448547\n",
            "Epochs: [31/50] - train_loss: 0.6414164437188042 - valid_loss: 0.684168353676796\n",
            "Epochs: [32/50] - train_loss: 0.6388742791281806 - valid_loss: 0.6862338185310364\n",
            "Epochs: [33/50] - train_loss: 0.6377803881963094 - valid_loss: 0.6850772798061371\n",
            "Epochs: [34/50] - train_loss: 0.6348776751094394 - valid_loss: 0.6855672001838684\n",
            "Epochs: [35/50] - train_loss: 0.6335066225793626 - valid_loss: 0.6870941668748856\n",
            "Epochs: [36/50] - train_loss: 0.6314615276124742 - valid_loss: 0.6894624382257462\n",
            "Epochs: [37/50] - train_loss: 0.62944006257587 - valid_loss: 0.6897273063659668\n",
            "Epochs: [38/50] - train_loss: 0.6278551552030776 - valid_loss: 0.6868372112512589\n",
            "Epochs: [39/50] - train_loss: 0.625246975156996 - valid_loss: 0.6883447915315628\n",
            "Epochs: [40/50] - train_loss: 0.6228943268458048 - valid_loss: 0.686836764216423\n",
            "Epochs: [41/50] - train_loss: 0.6224184764756097 - valid_loss: 0.6896814107894897\n",
            "Epochs: [42/50] - train_loss: 0.6201225585407681 - valid_loss: 0.686375230550766\n",
            "Epochs: [43/50] - train_loss: 0.6184307403034635 - valid_loss: 0.6878673285245895\n",
            "Epochs: [44/50] - train_loss: 0.6169015169143677 - valid_loss: 0.6895697563886642\n",
            "Epochs: [45/50] - train_loss: 0.6144269174999661 - valid_loss: 0.6891146451234818\n",
            "Epochs: [46/50] - train_loss: 0.6114329894383749 - valid_loss: 0.6890423893928528\n",
            "Epochs: [47/50] - train_loss: 0.6096204585499234 - valid_loss: 0.6892250329256058\n",
            "Epochs: [48/50] - train_loss: 0.6083002885182699 - valid_loss: 0.6890766471624374\n",
            "Epochs: [49/50] - train_loss: 0.6057159238391452 - valid_loss: 0.6907990127801895\n"
          ]
        }
      ]
    },
    {
      "cell_type": "code",
      "source": [
        "import numpy as np\n",
        "from sklearn.metrics import accuracy_score\n",
        "\n",
        "predicted_labels = []\n",
        "actual_labels = []\n",
        "\n",
        "for data, labels in valid_dataloader:\n",
        "    predicted = classifier(data)\n",
        "    predicted = predicted.view(-1)\n",
        "    predicted = torch.sigmoid(predicted)\n",
        "    predicted = (predicted > 0.5).int()\n",
        "\n",
        "    predicted_labels.extend(predicted.detach().cpu().numpy().flatten())\n",
        "    actual_labels.extend(labels.detach().cpu().numpy().flatten())\n",
        "\n",
        "predicted_labels = np.array(predicted_labels)\n",
        "actual_labels = np.array(actual_labels)"
      ],
      "metadata": {
        "id": "C-SldKUBBW3q"
      },
      "execution_count": 404,
      "outputs": []
    },
    {
      "cell_type": "code",
      "source": [
        "print(\"accuarcy = \", accuracy_score(predicted_labels, actual_labels))\n",
        "print(\"precision = \", precision_score(predicted_labels, actual_labels))\n",
        "print(\"recall = \", recall_score(predicted_labels, actual_labels))\n",
        "print(\"f1 = \", f1_score(predicted_labels, actual_labels))"
      ],
      "metadata": {
        "colab": {
          "base_uri": "https://localhost:8080/"
        },
        "outputId": "3cd73b4e-d390-427a-ddd5-66e3d5ad5768",
        "id": "24ZkEFH4BW3q"
      },
      "execution_count": 405,
      "outputs": [
        {
          "output_type": "stream",
          "name": "stdout",
          "text": [
            "accuarcy =  0.5583333333333333\n",
            "precision =  0.55\n",
            "recall =  0.559322033898305\n",
            "f1 =  0.5546218487394958\n"
          ]
        }
      ]
    },
    {
      "cell_type": "code",
      "source": [
        "data = torch.randn((32, 3, 128, 128))"
      ],
      "metadata": {
        "id": "Lumcs28MCUBf"
      },
      "execution_count": 406,
      "outputs": []
    },
    {
      "cell_type": "code",
      "source": [
        "data[:, :, :].size()"
      ],
      "metadata": {
        "colab": {
          "base_uri": "https://localhost:8080/"
        },
        "id": "mdBDo8MwCpe3",
        "outputId": "ea1a64bf-21d5-4d6c-f7cd-f8d1628ee3fc"
      },
      "execution_count": 407,
      "outputs": [
        {
          "output_type": "execute_result",
          "data": {
            "text/plain": [
              "torch.Size([32, 3, 128, 128])"
            ]
          },
          "metadata": {},
          "execution_count": 407
        }
      ]
    },
    {
      "cell_type": "code",
      "source": [
        "data[:, : , :, -1].size() # 32, 3, 128"
      ],
      "metadata": {
        "colab": {
          "base_uri": "https://localhost:8080/"
        },
        "id": "kku3rcuyCtgZ",
        "outputId": "349ce8c1-29c4-4567-b258-5e038e5b3af8"
      },
      "execution_count": 408,
      "outputs": [
        {
          "output_type": "execute_result",
          "data": {
            "text/plain": [
              "torch.Size([32, 3, 128])"
            ]
          },
          "metadata": {},
          "execution_count": 408
        }
      ]
    },
    {
      "cell_type": "code",
      "source": [
        "data[:, :, -1, :].size()"
      ],
      "metadata": {
        "colab": {
          "base_uri": "https://localhost:8080/"
        },
        "id": "Cy0-OiidCyaQ",
        "outputId": "c5fec8a3-4453-4e2f-a4f5-79c852c42915"
      },
      "execution_count": 409,
      "outputs": [
        {
          "output_type": "execute_result",
          "data": {
            "text/plain": [
              "torch.Size([32, 3, 128])"
            ]
          },
          "metadata": {},
          "execution_count": 409
        }
      ]
    },
    {
      "cell_type": "code",
      "source": [],
      "metadata": {
        "id": "VgYEmAH1C-r-"
      },
      "execution_count": null,
      "outputs": []
    }
  ]
}