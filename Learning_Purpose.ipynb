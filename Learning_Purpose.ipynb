{
  "nbformat": 4,
  "nbformat_minor": 0,
  "metadata": {
    "colab": {
      "provenance": [],
      "gpuType": "T4"
    },
    "kernelspec": {
      "name": "python3",
      "display_name": "Python 3"
    },
    "language_info": {
      "name": "python"
    },
    "accelerator": "GPU"
  },
  "cells": [
    {
      "cell_type": "code",
      "execution_count": null,
      "metadata": {
        "id": "wHpriHrZg2FF"
      },
      "outputs": [],
      "source": [
        "import torch\n",
        "import torch.nn as nn\n",
        "import numpy as np\n",
        "import pandas as pd\n",
        "import torch.optim as optim\n",
        "from torch.utils.data import DataLoader\n",
        "from sklearn.model_selection import train_test_split\n",
        "from sklearn.metrics import accuracy_score, precision_score, recall_score, f1_score"
      ]
    },
    {
      "cell_type": "code",
      "source": [
        "data = [\n",
        "    {\"review\": \"An absolute triumph! Everything about this movie was perfect.\", \"label\": 1},\n",
        "    {\"review\": \"What a waste of potential. Nothing about this worked.\", \"label\": 0},\n",
        "    {\"review\": \"The performances were top-notch. A must-watch!\", \"label\": 1},\n",
        "    {\"review\": \"I couldn’t care less about any of the characters.\", \"label\": 0},\n",
        "    {\"review\": \"An emotional rollercoaster that left me speechless.\", \"label\": 1},\n",
        "    {\"review\": \"Predictable from start to finish. Zero originality.\", \"label\": 0},\n",
        "    {\"review\": \"One of the most gripping thrillers I’ve seen in years!\", \"label\": 1},\n",
        "    {\"review\": \"The special effects were laughably bad. Felt outdated.\", \"label\": 0},\n",
        "    {\"review\": \"A touching story that stays with you long after the credits roll.\", \"label\": 1},\n",
        "    {\"review\": \"More style than substance. It looked good, but that’s about it.\", \"label\": 0},\n",
        "    {\"review\": \"Brilliantly crafted with a powerful message.\", \"label\": 1},\n",
        "    {\"review\": \"A complete snooze-fest. I nearly fell asleep.\", \"label\": 0},\n",
        "    {\"review\": \"A film that captures the beauty of human emotions.\", \"label\": 1},\n",
        "    {\"review\": \"One of the most confusing plots I’ve ever seen.\", \"label\": 0},\n",
        "    {\"review\": \"A visually stunning masterpiece with a soul.\", \"label\": 1},\n",
        "    {\"review\": \"Terribly written and poorly acted. A complete failure.\", \"label\": 0},\n",
        "    {\"review\": \"A fresh and bold take on storytelling!\", \"label\": 1},\n",
        "    {\"review\": \"Nothing memorable about this. Completely forgettable.\", \"label\": 0},\n",
        "    {\"review\": \"An intense and gripping drama that never lets go.\", \"label\": 1},\n",
        "    {\"review\": \"The dialogue was so bad, I couldn’t take it seriously.\", \"label\": 0},\n",
        "    {\"review\": \"A perfect balance of heart, humor, and action!\", \"label\": 1},\n",
        "    {\"review\": \"A train wreck from beginning to end.\", \"label\": 0},\n",
        "    {\"review\": \"A beautifully shot and emotionally powerful film.\", \"label\": 1},\n",
        "    {\"review\": \"A disjointed mess with no real payoff.\", \"label\": 0},\n",
        "    {\"review\": \"This film deserves every award it gets!\", \"label\": 1},\n",
        "    {\"review\": \"So bad it’s almost funny. Almost.\", \"label\": 0},\n",
        "    {\"review\": \"A breathtaking adventure that I won’t forget!\", \"label\": 1},\n",
        "    {\"review\": \"Painfully generic. It felt like a copy of better movies.\", \"label\": 0},\n",
        "    {\"review\": \"An absolute gem! The cast did an outstanding job.\", \"label\": 1},\n",
        "    {\"review\": \"The story was all over the place. Hard to follow.\", \"label\": 0},\n",
        "    {\"review\": \"A thought-provoking masterpiece!\", \"label\": 1},\n",
        "    {\"review\": \"The pacing was unbearable. I couldn’t sit through it.\", \"label\": 0},\n",
        "    {\"review\": \"A celebration of cinema at its finest!\", \"label\": 1},\n",
        "    {\"review\": \"A complete and utter disaster.\", \"label\": 0},\n",
        "    {\"review\": \"An unforgettable journey that left me in awe.\", \"label\": 1},\n",
        "    {\"review\": \"Too much exposition, not enough action.\", \"label\": 0},\n",
        "    {\"review\": \"A powerful and emotional story that resonated deeply.\", \"label\": 1},\n",
        "    {\"review\": \"It tried to be profound but failed miserably.\", \"label\": 0},\n",
        "    {\"review\": \"An exhilarating ride from start to finish!\", \"label\": 1},\n",
        "    {\"review\": \"The cinematography was the only redeeming factor.\", \"label\": 0},\n",
        "    {\"review\": \"A thought-provoking and deeply moving film.\", \"label\": 1},\n",
        "    {\"review\": \"Horribly paced and completely uninspired.\", \"label\": 0},\n",
        "    {\"review\": \"A fantastic example of masterful storytelling!\", \"label\": 1},\n",
        "    {\"review\": \"The plot twists made no sense. A waste of time.\", \"label\": 0},\n",
        "    {\"review\": \"A work of art that left a lasting impact on me.\", \"label\": 1},\n",
        "    {\"review\": \"Why was this even made? Nothing about it worked.\", \"label\": 0},\n",
        "    {\"review\": \"A gripping film that keeps you hooked till the end!\", \"label\": 1},\n",
        "    {\"review\": \"An empty, lifeless movie with no passion.\", \"label\": 0},\n",
        "    {\"review\": \"A cinematic masterpiece that will stand the test of time!\", \"label\": 1},\n",
        "    {\"review\": \"A convoluted mess with no real direction.\", \"label\": 0},\n",
        "    {\"review\": \"A brilliant script brought to life by incredible performances!\", \"label\": 1},\n",
        "    {\"review\": \"The entire thing felt forced and unnatural.\", \"label\": 0},\n",
        "    {\"review\": \"A refreshing and unique film that breaks new ground!\", \"label\": 1},\n",
        "    {\"review\": \"A huge letdown. I expected much more.\", \"label\": 0},\n",
        "    {\"review\": \"A visually and emotionally captivating experience.\", \"label\": 1},\n",
        "    {\"review\": \"Too many clichés, not enough originality.\", \"label\": 0},\n",
        "    {\"review\": \"A groundbreaking film that redefines the genre!\", \"label\": 1},\n",
        "    {\"review\": \"I kept checking my watch, waiting for it to end.\", \"label\": 0},\n",
        "    {\"review\": \"An absolutely mesmerizing performance from the lead!\", \"label\": 1},\n",
        "    {\"review\": \"This had so much potential but completely wasted it.\", \"label\": 0},\n",
        "    {\"review\": \"A brilliant exploration of human emotions!\", \"label\": 1},\n",
        "    {\"review\": \"The execution was sloppy and uninspired.\", \"label\": 0},\n",
        "    {\"review\": \"A timeless classic that will never be forgotten!\", \"label\": 1},\n",
        "    {\"review\": \"Felt like a low-budget knockoff of better films.\", \"label\": 0},\n",
        "    {\"review\": \"A masterclass in filmmaking!\", \"label\": 1},\n",
        "    {\"review\": \"This movie had no soul. Just a hollow experience.\", \"label\": 0},\n",
        "    {\"review\": \"An uplifting and beautifully crafted story!\", \"label\": 1},\n",
        "    {\"review\": \"I didn’t care about a single character.\", \"label\": 0},\n",
        "    {\"review\": \"An emotional journey that touched my heart.\", \"label\": 1},\n",
        "    {\"review\": \"The editing was terrible. It felt choppy and rushed.\", \"label\": 0},\n",
        "    {\"review\": \"A bold and visionary film that delivers!\", \"label\": 1},\n",
        "    {\"review\": \"An unoriginal cash grab that wasn’t worth my time.\", \"label\": 0},\n",
        "    {\"review\": \"A hauntingly beautiful experience.\", \"label\": 1},\n",
        "    {\"review\": \"The writing was just bad. No effort was put into it.\", \"label\": 0},\n",
        "    {\"review\": \"A breathtaking achievement in storytelling!\", \"label\": 1},\n",
        "    {\"review\": \"A slow and painful movie with nothing to offer.\", \"label\": 0},\n",
        "    {\"review\": \"A deeply moving and unforgettable story.\", \"label\": 1},\n",
        "    {\"review\": \"It dragged on forever with no real purpose.\", \"label\": 0},\n",
        "    {\"review\": \"A spectacular film that sets a new standard!\", \"label\": 1},\n",
        "    {\"review\": \"Nothing made sense. It was just random nonsense.\", \"label\": 0},\n",
        "    {\"review\": \"A thrilling ride that kept me entertained throughout!\", \"label\": 1},\n",
        "    {\"review\": \"The worst film I’ve seen all year.\", \"label\": 0},\n",
        "    {\"review\": \"A triumphant work of art that deserves all the praise!\", \"label\": 1},\n",
        "    {\"review\": \"Nothing about this was interesting. Total flop.\", \"label\": 0},\n",
        "    {\"review\": \"An expertly crafted and profoundly moving film!\", \"label\": 1},\n",
        "    {\"review\": \"The worst pacing I’ve ever experienced in a movie.\", \"label\": 0},\n",
        "]\n"
      ],
      "metadata": {
        "id": "-HlgBC8fhCBq"
      },
      "execution_count": null,
      "outputs": []
    },
    {
      "cell_type": "code",
      "source": [
        "df = pd.DataFrame(data)\n",
        "df.head()"
      ],
      "metadata": {
        "id": "9X5lUg0YiWU3"
      },
      "execution_count": null,
      "outputs": []
    },
    {
      "cell_type": "code",
      "source": [
        "df.loc[:, \"label\"].value_counts()"
      ],
      "metadata": {
        "id": "Gh2pROAYid1v"
      },
      "execution_count": null,
      "outputs": []
    },
    {
      "cell_type": "code",
      "source": [
        "df.shape"
      ],
      "metadata": {
        "id": "H-Mg5K3hlwPn"
      },
      "execution_count": null,
      "outputs": []
    },
    {
      "cell_type": "code",
      "source": [
        "max_seq_length = df.loc[:, \"review\"].str.len().max()\n",
        "print(\"Maximum sequence length = {}\".format(max_seq_length))"
      ],
      "metadata": {
        "id": "O3wrpW-ui-rG"
      },
      "execution_count": null,
      "outputs": []
    },
    {
      "cell_type": "code",
      "source": [
        "total_vocabularies = []\n",
        "dictonary_representation = {}\n",
        "numerical_representation = []"
      ],
      "metadata": {
        "id": "7Mbha3FzlS54"
      },
      "execution_count": null,
      "outputs": []
    },
    {
      "cell_type": "code",
      "source": [
        "EPOCHS = 100\n",
        "learning_rate = 1e-2\n",
        "sequence_length = max_seq_length + 24\n",
        "number_dimension = 128\n",
        "beta1 = 0.5\n",
        "beta2 = 0.999\n",
        "constant = 200\n",
        "batch_size = 8"
      ],
      "metadata": {
        "id": "6PihDDEIjFJi"
      },
      "execution_count": null,
      "outputs": []
    },
    {
      "cell_type": "code",
      "source": [
        "df[\"review\"] = df.loc[:, \"review\"].str.lower()\n",
        "df.head()"
      ],
      "metadata": {
        "id": "azb_CaNcmC-2"
      },
      "execution_count": null,
      "outputs": []
    },
    {
      "cell_type": "code",
      "source": [
        "def create_vocabularies(instance):\n",
        "  for index, word in enumerate(instance.split(\" \")):\n",
        "    if word.lower() not in total_vocabularies:\n",
        "      total_vocabularies.append(word.lower())\n",
        "\n",
        "\n",
        "if __name__ == \"__main__\":\n",
        "  df.loc[:, \"review\"].apply(create_vocabularies)"
      ],
      "metadata": {
        "id": "uCmn2AT4lE_d"
      },
      "execution_count": null,
      "outputs": []
    },
    {
      "cell_type": "code",
      "source": [
        "total_vocabularies[:5]"
      ],
      "metadata": {
        "id": "39dKyh24leVM"
      },
      "execution_count": null,
      "outputs": []
    },
    {
      "cell_type": "code",
      "source": [
        "total_vocabularies.append(\"<UNKNOWN>\")"
      ],
      "metadata": {
        "id": "_k0NQZMGzwlt"
      },
      "execution_count": null,
      "outputs": []
    },
    {
      "cell_type": "code",
      "source": [
        "total_vocabularies.index(\"<UNKNOWN>\")"
      ],
      "metadata": {
        "id": "pHVEo6aOz0oT"
      },
      "execution_count": null,
      "outputs": []
    },
    {
      "cell_type": "code",
      "source": [
        "total_vocabularies[193], len(total_vocabularies)"
      ],
      "metadata": {
        "id": "QURsv5ud0ggI"
      },
      "execution_count": null,
      "outputs": []
    },
    {
      "cell_type": "code",
      "source": [
        "def create_dictonaries(instance):\n",
        "  for word in instance.split(\" \"):\n",
        "    if word in total_vocabularies:\n",
        "      dictonary_representation[word] = total_vocabularies.index(word)\n",
        "\n",
        "if __name__ == \"__main__\":\n",
        "  df.loc[:, \"review\"].apply(create_dictonaries)"
      ],
      "metadata": {
        "id": "CovwKsgcnijY"
      },
      "execution_count": null,
      "outputs": []
    },
    {
      "cell_type": "code",
      "source": [
        "dictonary_representation[\"<UNKNOWN>\"] = total_vocabularies.index(\"<UNKNOWN>\")"
      ],
      "metadata": {
        "id": "Vl_WwU1q0w1r"
      },
      "execution_count": null,
      "outputs": []
    },
    {
      "cell_type": "code",
      "source": [
        "assert len(dictonary_representation) == len(total_vocabularies), \"Length should be same\".capitalize()"
      ],
      "metadata": {
        "id": "YNcMWw8an8wJ"
      },
      "execution_count": null,
      "outputs": []
    },
    {
      "cell_type": "code",
      "source": [
        "dictonary_representation"
      ],
      "metadata": {
        "id": "IXZ9jiE5oflK"
      },
      "execution_count": null,
      "outputs": []
    },
    {
      "cell_type": "code",
      "source": [
        "def create_numerical_representation(instance, max_seq_length: int = 100):\n",
        "  num_representation = []\n",
        "  for index, word in enumerate(instance.split(\" \")):\n",
        "    if word in dictonary_representation:\n",
        "      num_representation.append(dictonary_representation[word])\n",
        "\n",
        "  if len(num_representation) != max_seq_length:\n",
        "    for _ in range(max_seq_length - len(num_representation)):\n",
        "      num_representation.append(dictonary_representation[\"<UNKNOWN>\"])\n",
        "\n",
        "  numerical_representation.append(num_representation)\n",
        "\n",
        "if __name__ == \"__main__\":\n",
        "  df.loc[:, \"review\"].apply(create_numerical_representation)"
      ],
      "metadata": {
        "id": "4N8XwDdQlqR9"
      },
      "execution_count": null,
      "outputs": []
    },
    {
      "cell_type": "code",
      "source": [
        "numerical_representation[0]"
      ],
      "metadata": {
        "id": "1AWjbag-vj4d"
      },
      "execution_count": null,
      "outputs": []
    },
    {
      "cell_type": "code",
      "source": [
        "X = torch.tensor(numerical_representation, dtype = torch.long)\n",
        "y = torch.tensor(df.loc[:, \"label\"].values, dtype = torch.long)"
      ],
      "metadata": {
        "id": "Gmwk7tqcrP6a"
      },
      "execution_count": null,
      "outputs": []
    },
    {
      "cell_type": "code",
      "source": [
        "X.size(), y.size()"
      ],
      "metadata": {
        "id": "mVC93bSzrW2j"
      },
      "execution_count": null,
      "outputs": []
    },
    {
      "cell_type": "code",
      "source": [
        "train_dataloader = DataLoader(\n",
        "    dataset = list(zip(X[0:60], y[0:60])),\n",
        "    batch_size = batch_size,\n",
        "    shuffle=True\n",
        ")\n",
        "\n",
        "valid_dataloader = DataLoader(\n",
        "    dataset = list(zip(X[60:df.shape[0]], y[60:df.shape[0]])),\n",
        "    batch_size = batch_size,\n",
        "    shuffle = True\n",
        ")"
      ],
      "metadata": {
        "id": "HXUEMk-jra9A"
      },
      "execution_count": null,
      "outputs": []
    },
    {
      "cell_type": "code",
      "source": [
        "train_data, train_labels = next(iter(train_dataloader))\n",
        "train_data.size(), train_labels.size()"
      ],
      "metadata": {
        "id": "rIkGEr78rh-6"
      },
      "execution_count": null,
      "outputs": []
    },
    {
      "cell_type": "code",
      "source": [
        "valid_data, valid_labels = next(iter(valid_dataloader))\n",
        "valid_data.size(), valid_labels.size()"
      ],
      "metadata": {
        "id": "PYxiNXqRssKH"
      },
      "execution_count": null,
      "outputs": []
    },
    {
      "cell_type": "code",
      "source": [
        "print(\"Train batch_size in total = \", sum(data.size(0) for data, labels in train_dataloader))\n",
        "print(\"Valid batch_size in total = \", sum(data.size(0) for data, labels in valid_dataloader))"
      ],
      "metadata": {
        "id": "f4Hr8pxBs2bt"
      },
      "execution_count": null,
      "outputs": []
    },
    {
      "cell_type": "code",
      "source": [
        "for X, y in train_dataloader:\n",
        "  print(y)"
      ],
      "metadata": {
        "id": "wWouA0Jj5mVF"
      },
      "execution_count": null,
      "outputs": []
    },
    {
      "cell_type": "code",
      "source": [
        "class SimpleCLassifier(nn.Module):\n",
        "  def __init__(self, num_embeddings: int = 100, embeddings_dimension: int = 128):\n",
        "    super(SimpleCLassifier, self).__init__()\n",
        "\n",
        "    self.num_embeddings = num_embeddings\n",
        "    self.embeddings_dimension = embeddings_dimension\n",
        "    self.hidden_state = 128\n",
        "\n",
        "    self.embedding = nn.Embedding(num_embeddings=self.num_embeddings, embedding_dim=self.embeddings_dimension)\n",
        "    self.lstm_model = nn.LSTM(input_size=self.embeddings_dimension, hidden_size=self.hidden_state, num_layers=2, batch_first=True)\n",
        "    self.output_layer = nn.Linear(in_features=self.hidden_state, out_features=self.hidden_state//self.hidden_state)\n",
        "\n",
        "  def forward(self, x: torch.Tensor):\n",
        "    if isinstance(x, torch.Tensor):\n",
        "      embedding = self.embedding(x)\n",
        "      hidden, _ = self.lstm_model(embedding)\n",
        "      return self.output_layer(hidden[:, -1, :]).view(-1)\n",
        "\n",
        "    else:\n",
        "      raise ValueError(\"Input should be in the format of tensor\".capitalize())"
      ],
      "metadata": {
        "id": "TvZs6M7Qs_p1"
      },
      "execution_count": null,
      "outputs": []
    },
    {
      "cell_type": "code",
      "source": [
        "classifier = SimpleCLassifier(\n",
        "    num_embeddings=len(total_vocabularies)+1,\n",
        "    embeddings_dimension=number_dimension\n",
        ")\n",
        "\n",
        "classifier"
      ],
      "metadata": {
        "id": "HlRjdMrsuWeo"
      },
      "execution_count": null,
      "outputs": []
    },
    {
      "cell_type": "code",
      "source": [
        "print(\"Total parameters of this c lassifier = \", sum(params.numel() for params in classifier.parameters()))"
      ],
      "metadata": {
        "id": "Xs5zmyQ7ymc0"
      },
      "execution_count": null,
      "outputs": []
    },
    {
      "cell_type": "code",
      "source": [
        "classifier(train_data).size()"
      ],
      "metadata": {
        "id": "zfjuhoQP1R2M"
      },
      "execution_count": null,
      "outputs": []
    },
    {
      "cell_type": "code",
      "source": [
        "criterion = nn.BCEWithLogitsLoss()\n",
        "optimizer = optim.Adam(\n",
        "    params=classifier.parameters(),\n",
        "    lr = learning_rate,\n",
        "    betas=(beta1, beta2)\n",
        ")"
      ],
      "metadata": {
        "id": "LrBoUbsX1cjy"
      },
      "execution_count": null,
      "outputs": []
    },
    {
      "cell_type": "code",
      "source": [
        "total_train_loss = list()\n",
        "total_valid_loss = list()\n",
        "\n",
        "for epoch in range(EPOCHS):\n",
        "  train_loss = list()\n",
        "  valid_loss = list()\n",
        "  for index, (data, labels) in enumerate(train_dataloader):\n",
        "    predicted = classifier(data)\n",
        "    loss = criterion(predicted.float(), labels.float())\n",
        "\n",
        "    train_loss.append(loss.item())\n",
        "\n",
        "    optimizer.zero_grad()\n",
        "    loss.backward()\n",
        "    optimizer.step()\n",
        "\n",
        "  for index, (valid_data, valid_labels) in enumerate(valid_dataloader):\n",
        "    predicted = classifier(valid_data)\n",
        "    loss = criterion(predicted.float(), valid_labels.float())\n",
        "\n",
        "    valid_loss.append(loss.item())\n",
        "\n",
        "  total_train_loss.append(np.array(train_loss).mean())\n",
        "  total_valid_loss.append(np.array(valid_loss).mean())\n",
        "\n",
        "  print(\"Epochs: [{}/{}] - train_loss: {} - test_loss: {}\".format(epoch, EPOCHS, np.array(train_loss).mean(), np.array(valid_loss).mean()))\n"
      ],
      "metadata": {
        "id": "gPSa-IsG19ZF"
      },
      "execution_count": null,
      "outputs": []
    },
    {
      "cell_type": "code",
      "source": [
        "total_predicted_labels = []\n",
        "total_actual_labels = []\n",
        "\n",
        "for valid_data, valid_labels in valid_dataloader:\n",
        "  predicted = classifier(valid_data)\n",
        "  predicted = torch.where(predicted > 0.5, 1, 0)\n",
        "\n",
        "  total_predicted_labels.extend(predicted.detach().cpu().numpy())\n",
        "  total_actual_labels.extend(valid_labels.detach().cpu().numpy())"
      ],
      "metadata": {
        "id": "Ni3O6s8z2XUz"
      },
      "execution_count": null,
      "outputs": []
    },
    {
      "cell_type": "code",
      "source": [
        "print(accuracy_score(total_predicted_labels, total_actual_labels))\n",
        "print(precision_score(total_predicted_labels, total_actual_labels))\n",
        "print(recall_score(total_predicted_labels, total_actual_labels))\n",
        "print(f1_score(total_predicted_labels, total_actual_labels))"
      ],
      "metadata": {
        "id": "E26Azc3943Yw"
      },
      "execution_count": null,
      "outputs": []
    },
    {
      "cell_type": "code",
      "source": [],
      "metadata": {
        "id": "1oAPPfFc5aRI"
      },
      "execution_count": null,
      "outputs": []
    }
  ]
}