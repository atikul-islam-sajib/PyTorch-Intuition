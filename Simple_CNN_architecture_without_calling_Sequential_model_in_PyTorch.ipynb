{
  "nbformat": 4,
  "nbformat_minor": 0,
  "metadata": {
    "colab": {
      "provenance": []
    },
    "kernelspec": {
      "name": "python3",
      "display_name": "Python 3"
    },
    "language_info": {
      "name": "python"
    }
  },
  "cells": [
    {
      "cell_type": "code",
      "execution_count": 1,
      "metadata": {
        "id": "EGV-dq1E0dmq",
        "colab": {
          "base_uri": "https://localhost:8080/"
        },
        "outputId": "6351fa3b-f0c4-4728-d84b-be0f3386842b"
      },
      "outputs": [
        {
          "output_type": "stream",
          "name": "stdout",
          "text": [
            "Requirement already satisfied: keras in /usr/local/lib/python3.10/dist-packages (2.12.0)\n"
          ]
        }
      ],
      "source": [
        "# Import all necessity functions for Machine Learning\n",
        "import sys\n",
        "import math\n",
        "import string\n",
        "import numpy as np\n",
        "import pandas as pd\n",
        "import seaborn as sns\n",
        "import matplotlib.pyplot as plt\n",
        "import scipy as shc\n",
        "import warnings\n",
        "import zipfile\n",
        "import cv2\n",
        "import os\n",
        "import re\n",
        "import nltk\n",
        "import random\n",
        "import requests\n",
        "from bs4 import BeautifulSoup\n",
        "import re\n",
        "from collections import Counter\n",
        "from functools import reduce\n",
        "from itertools import chain\n",
        "from wordcloud import WordCloud\n",
        "from google.colab.patches import cv2_imshow\n",
        "from keras.preprocessing import image\n",
        "from sklearn.metrics._plot.confusion_matrix import confusion_matrix\n",
        "from sklearn.model_selection import train_test_split, KFold, StratifiedKFold, GridSearchCV, RandomizedSearchCV\n",
        "from sklearn.preprocessing import StandardScaler, RobustScaler, MinMaxScaler\n",
        "from sklearn.decomposition import PCA\n",
        "from sklearn.cluster import KMeans, DBSCAN, AgglomerativeClustering\n",
        "from sklearn.feature_selection import mutual_info_classif, mutual_info_regression, SelectKBest, chi2, VarianceThreshold\n",
        "from imblearn.under_sampling import RandomUnderSampler, NearMiss\n",
        "from imblearn.over_sampling import RandomOverSampler, SMOTE, SMOTEN, SMOTENC, SVMSMOTE, KMeansSMOTE, BorderlineSMOTE, ADASYN\n",
        "from imblearn.ensemble import EasyEnsembleClassifier\n",
        "from sklearn.feature_extraction.text import CountVectorizer, TfidfVectorizer\n",
        "from sklearn.naive_bayes import GaussianNB, BernoulliNB, MultinomialNB\n",
        "from sklearn.neighbors import KNeighborsClassifier, KNeighborsRegressor, NearestNeighbors\n",
        "from sklearn.linear_model import LinearRegression, LogisticRegression, SGDClassifier, SGDRegressor, Perceptron\n",
        "from sklearn.neural_network import MLPClassifier, MLPRegressor\n",
        "from sklearn.svm import SVC, SVR\n",
        "from sklearn.tree import DecisionTreeClassifier, DecisionTreeRegressor, ExtraTreeClassifier, ExtraTreeRegressor\n",
        "from sklearn.ensemble import BaggingClassifier, BaggingRegressor, RandomForestClassifier, RandomForestRegressor, VotingClassifier, VotingRegressor\n",
        "from sklearn.ensemble import AdaBoostClassifier, AdaBoostRegressor, GradientBoostingClassifier, GradientBoostingRegressor, StackingClassifier, StackingRegressor\n",
        "from sklearn.metrics import classification_report, mean_absolute_error, mean_squared_error, r2_score, accuracy_score, recall_score, precision_score, f1_score, silhouette_score\n",
        "from xgboost import XGBClassifier, XGBRegressor\n",
        "\n",
        "# Download keras\n",
        "!pip install keras\n",
        "\n",
        "# Import all necessity functions for Neural Network\n",
        "import tensorflow as tf\n",
        "from keras.models import Sequential, Model\n",
        "from keras.utils import plot_model\n",
        "from keras.layers import Dense, Conv2D, LSTM, GRU, RNN, Flatten, AvgPool2D, MaxPool2D, GlobalAveragePooling2D, BatchNormalization, Dropout, LeakyReLU, ELU, PReLU,  Embedding\n",
        "from keras.activations import tanh, relu, sigmoid, softmax, swish\n",
        "from keras.regularizers import L1, L2, L1L2\n",
        "from keras.optimizers import SGD, Adagrad, Adadelta, RMSprop, Adam, Adamax, Nadam\n",
        "from keras.initializers import HeNormal, HeUniform, GlorotNormal, GlorotUniform\n",
        "from keras.losses import SparseCategoricalCrossentropy, CategoricalCrossentropy, hinge, MSE, MAE, Huber, BinaryCrossentropy\n",
        "import keras.utils as image\n",
        "from google.colab.patches import cv2_imshow\n",
        "from keras.utils import plot_model\n",
        "\n",
        "# Plotting the confusion matrix\n",
        "from mlxtend.evaluate import confusion_matrix\n",
        "from mlxtend.plotting import plot_confusion_matrix\n",
        "from sklearn.metrics import multilabel_confusion_matrix\n",
        "from sklearn.metrics import confusion_matrix"
      ]
    },
    {
      "cell_type": "code",
      "source": [
        "# Remove all warnings\n",
        "import warnings\n",
        "warnings.filterwarnings(\"ignore\")"
      ],
      "metadata": {
        "id": "LtNPLbXT0lkz"
      },
      "execution_count": 2,
      "outputs": []
    },
    {
      "cell_type": "markdown",
      "source": [
        "#####Import the dataset"
      ],
      "metadata": {
        "id": "WULinOZQMErV"
      }
    },
    {
      "cell_type": "code",
      "source": [
        "import keras\n",
        "tf.keras.datasets.mnist.load_data(path=\"mnist.npz\")\n",
        "(X_train, y_train), (X_test, y_test) = keras.datasets.mnist.load_data()\n",
        "\n",
        "print(\"X_train shape # {} \".format(X_train.shape),'\\n')\n",
        "print(\"X_test shape  # {} \".format(X_test.shape),'\\n')\n",
        "print(\"y_train shape # {} \".format(y_train.shape),'\\n')\n",
        "print(\"y_test shape  # {} \".format(y_test.shape))"
      ],
      "metadata": {
        "colab": {
          "base_uri": "https://localhost:8080/"
        },
        "id": "WMzXAM2wMLk-",
        "outputId": "0927a688-b346-42ab-bf6d-3a5593ee4bbb"
      },
      "execution_count": 17,
      "outputs": [
        {
          "output_type": "stream",
          "name": "stdout",
          "text": [
            "X_train shape # (60000, 28, 28)  \n",
            "\n",
            "X_test shape  # (10000, 28, 28)  \n",
            "\n",
            "y_train shape # (60000,)  \n",
            "\n",
            "y_test shape  # (10000,) \n"
          ]
        }
      ]
    },
    {
      "cell_type": "markdown",
      "source": [
        "#####Display some of the dataset"
      ],
      "metadata": {
        "id": "owvvcwWRNCaL"
      }
    },
    {
      "cell_type": "code",
      "source": [
        "plt.figure(figsize = (16, 10))\n",
        "for index, data in enumerate(X_train[0:20]):\n",
        "  plt.subplot(2, 10, index + 1)\n",
        "  plt.imshow(data)\n",
        "\n",
        "plt.tight_layout()\n",
        "plt.show()"
      ],
      "metadata": {
        "colab": {
          "base_uri": "https://localhost:8080/",
          "height": 504
        },
        "id": "Ej8IuOFSNE4L",
        "outputId": "a4ce47ae-8033-4cf2-b952-9dcec9721433"
      },
      "execution_count": 18,
      "outputs": [
        {
          "output_type": "display_data",
          "data": {
            "text/plain": [
              "<Figure size 1600x1000 with 20 Axes>"
            ],
            "image/png": "[encoded data removed]"
          },
          "metadata": {}
        }
      ]
    },
    {
      "cell_type": "markdown",
      "source": [
        "#####Do the normalization"
      ],
      "metadata": {
        "id": "YsmuoKI6M_Z2"
      }
    },
    {
      "cell_type": "code",
      "source": [
        "X_train = X_train/255\n",
        "X_test  = X_test/255\n",
        "\n",
        "print(\"Normalozation is completed.\")"
      ],
      "metadata": {
        "colab": {
          "base_uri": "https://localhost:8080/"
        },
        "id": "KUNiP3bYM50a",
        "outputId": "245108a0-664a-4253-c62c-a63142a9919d"
      },
      "execution_count": 19,
      "outputs": [
        {
          "output_type": "stream",
          "name": "stdout",
          "text": [
            "Normalozation is completed.\n"
          ]
        }
      ]
    },
    {
      "cell_type": "code",
      "source": [
        "np.unique(y_test).shape"
      ],
      "metadata": {
        "colab": {
          "base_uri": "https://localhost:8080/"
        },
        "id": "9QdVKFqKMLwD",
        "outputId": "81313596-1e82-4075-e61f-1fd05d623095"
      },
      "execution_count": 20,
      "outputs": [
        {
          "output_type": "execute_result",
          "data": {
            "text/plain": [
              "(10,)"
            ]
          },
          "metadata": {},
          "execution_count": 20
        }
      ]
    },
    {
      "cell_type": "markdown",
      "source": [
        "#####Convert the data type into float with respect to PyTorch"
      ],
      "metadata": {
        "id": "1FVeeAyKP11M"
      }
    },
    {
      "cell_type": "code",
      "source": [
        "import torch\n",
        "\n",
        "X_train = np.expand_dims(X_train, 1)\n",
        "X_train = torch.tensor(data = X_train, dtype = torch.float32)\n",
        "y_train = torch.tensor(data = y_train, dtype = torch.float32)\n",
        "\n",
        "X_test  = np.expand_dims(X_test, 1)\n",
        "X_test  = torch.tensor(data = X_test, dtype = torch.float32)\n",
        "y_test  = torch.tensor(data = y_test, dtype = torch.float32)"
      ],
      "metadata": {
        "id": "5jjcFeNPP64h"
      },
      "execution_count": 21,
      "outputs": []
    },
    {
      "cell_type": "markdown",
      "source": [
        "#####Initialize the DataLoader with batch_size: 64"
      ],
      "metadata": {
        "id": "OeOXtH3hOfBD"
      }
    },
    {
      "cell_type": "code",
      "source": [
        "import torch\n",
        "import torch.nn as nn\n",
        "import torch.functional as F\n",
        "import torch.optim as optim\n",
        "from torchsummary import summary\n",
        "from torch.utils.data import Dataset, DataLoader"
      ],
      "metadata": {
        "id": "M10ACt_VMLyG"
      },
      "execution_count": 22,
      "outputs": []
    },
    {
      "cell_type": "code",
      "source": [
        "BATCH_SIZE = 128\n",
        "train_loader = DataLoader(dataset = list(zip(X_train, y_train)), batch_size = BATCH_SIZE, shuffle = True)\n",
        "test_loader  = DataLoader(dataset = list(zip(X_test, y_test)), batch_size = BATCH_SIZE, shuffle = True)\n",
        "\n",
        "print(\"Batch size of Train # {} \".format(train_loader.batch_size),'\\n')\n",
        "print(\"Batch size of Test  # {} \".format(test_loader.batch_size),'\\n')\n",
        "\n",
        "train_data, train_label = next(iter(train_loader))\n",
        "test_data, test_label   = next(iter(test_loader))\n",
        "\n",
        "print(\"Train data shape with batch_size  # {} \".format(train_data.shape),'\\n')\n",
        "print(\"Train label shape with batch_size # {} \".format(train_label.shape),'\\n')\n",
        "\n",
        "print(\"Test data shape with batch_size   # {} \".format(test_data.shape),'\\n')\n",
        "print(\"Test label shape with batch_size  # {} \".format(test_label.shape))"
      ],
      "metadata": {
        "colab": {
          "base_uri": "https://localhost:8080/"
        },
        "id": "N28Jx4RYML1n",
        "outputId": "d37f89bb-031f-4c0e-b085-6a1bcddd6a12"
      },
      "execution_count": 23,
      "outputs": [
        {
          "output_type": "stream",
          "name": "stdout",
          "text": [
            "Batch size of Train # 128  \n",
            "\n",
            "Batch size of Test  # 128  \n",
            "\n",
            "Train data shape with batch_size  # torch.Size([128, 1, 28, 28])  \n",
            "\n",
            "Train label shape with batch_size # torch.Size([128])  \n",
            "\n",
            "Test data shape with batch_size   # torch.Size([128, 1, 28, 28])  \n",
            "\n",
            "Test label shape with batch_size  # torch.Size([128]) \n"
          ]
        }
      ]
    },
    {
      "cell_type": "markdown",
      "source": [
        "#####Model Building"
      ],
      "metadata": {
        "id": "LouX5lscQLj_"
      }
    },
    {
      "cell_type": "code",
      "source": [
        "\"\"\"\n",
        "    Create the class named DigitClassifier that would take TWO parameters\n",
        "    1. input_channel: Define whether Image is RGB or Gray\n",
        "    2. output_dimension: Define the class or label that I want to predict\n",
        "    3. Call the super function that will inherit all functionalities of PyTorch\n",
        "\"\"\"\n",
        "class DigitClassifier(nn.Module):\n",
        "  def __init__(self, input_channel = None, output_dimension = None):\n",
        "    super().__init__()\n",
        "    \"\"\"\n",
        "        Create the First Convolutional Layer with\n",
        "            1. in_channels: Define the input_channel\n",
        "            2. out_channels: Define the next neurons with respect to image\n",
        "            3. kernel_size: Define the kernel/filter that would be placed on top of image\n",
        "            4. stride: Define how our kernel would be moved\n",
        "            5. padding: padding 0 means no padding and 1 means padding\n",
        "\n",
        "        Define the Pooling Layer\n",
        "            1. MaxPooling: Prevent the overfitting problem\n",
        "\n",
        "        Define the activation function & Dropout Layer\n",
        "            1. Activation: ReLU\n",
        "            2. Dropout: Prevent the overfitting problem\n",
        "\n",
        "        Input shape: (28 * 28) * 1\n",
        "    \"\"\"\n",
        "    self.conv1 = nn.Conv2d(in_channels = input_channel, out_channels = 64, kernel_size = 3, stride = 1, padding = 1)\n",
        "    self.act1  = nn.ReLU()\n",
        "    self.pool1 = nn.MaxPool2d(kernel_size = 2, stride = 2)\n",
        "    self.drop1 = nn.Dropout(p = 0.3)\n",
        "\n",
        "    \"\"\"\n",
        "      Create the Second Convolutional Layer with\n",
        "          1. in_channels: Define the input_channel\n",
        "          2. out_channels: Define the next neurons with respect to image\n",
        "          3. kernel_size: Define the kernel/filter that would be placed on top of image\n",
        "          4. stride: Define how our kernel would be moved\n",
        "          5. padding: padding 0 means no padding and 1 means padding\n",
        "\n",
        "      Define the Pooling Layer with\n",
        "          MaxPooling: Prevent the overfitting\n",
        "\n",
        "      Define the activation function & Dropout Layer\n",
        "          1. Activation: ReLU\n",
        "          2. Dropout: Prevent the overfitting problem\n",
        "\n",
        "      Input shape: (14 * 14) * 64\n",
        "    \"\"\"\n",
        "    self.conv2 = nn.Conv2d(in_channels = 64, out_channels = 32, kernel_size = 3, stride = 1, padding = 1)\n",
        "    self.act2  = nn.ReLU()\n",
        "    self.pool2 = nn.MaxPool2d(kernel_size = 2, stride = 2)\n",
        "    self.drop2 = nn.Dropout(p = 0.4)\n",
        "\n",
        "    \"\"\"\n",
        "      Do the Flatten operation so that we can perform the classification task and add some neurons with respect to ANN\n",
        "\n",
        "      Create a fully connected layer that would take\n",
        "          1. in_features = Input shape: (7 * 7) * 32\n",
        "          3. out_features = 128\n",
        "          4. Activation: ReLU\n",
        "          5. Dropout: rate would be 0.5\n",
        "    \"\"\"\n",
        "    self.flat = nn.Flatten()\n",
        "\n",
        "    self.hidden1     = nn.Linear(in_features = 7 * 7 * 32, out_features = 128)\n",
        "    self.activation1 = nn.ReLU()\n",
        "    self.dropoutLayer= nn.Dropout(p = 0.5)\n",
        "\n",
        "    \"\"\"\n",
        "        Create the second hidden Layer\n",
        "        1. in_features = 128\n",
        "        2. out_features = 64\n",
        "        3. Activation : ReLU\n",
        "    \"\"\"\n",
        "    self.hidden2     = nn.Linear(in_features = 128, out_features = 64)\n",
        "    self.activation2 = nn.ReLU()\n",
        "\n",
        "    \"\"\"\n",
        "        Create the output layer with\n",
        "        1. in_features = 64\n",
        "        2. out_features = output_dimension\n",
        "    \"\"\"\n",
        "    self.outLayer = nn.Linear(in_features = 64, out_features = output_dimension)\n",
        "    self.outActivation = nn.Softmax()\n",
        "\n",
        "  def forward(self, x):\n",
        "    \"\"\"\n",
        "        For First Convolutional Layer\n",
        "    \"\"\"\n",
        "    x = self.act1(self.conv1(x))\n",
        "    x = self.pool1(x)\n",
        "    x = self.drop1(x)\n",
        "\n",
        "    \"\"\"\n",
        "        For the Second Convolutional Layer\n",
        "    \"\"\"\n",
        "    x = self.act2(self.conv2(x))\n",
        "    x = self.pool2(x)\n",
        "    x = self.drop2(x)\n",
        "\n",
        "    x = self.flat(x)\n",
        "\n",
        "    \"\"\"\n",
        "        For the First Hidden Layer\n",
        "    \"\"\"\n",
        "    x = self.activation1(self.hidden1(x))\n",
        "    x = self.dropoutLayer(x)\n",
        "\n",
        "    \"\"\"\n",
        "        For the Second Hidden Layer\n",
        "    \"\"\"\n",
        "    x = self.activation2(self.hidden2(x))\n",
        "\n",
        "    \"\"\"\n",
        "        For the output Layer\n",
        "    \"\"\"\n",
        "    if self.outActivation is not None:\n",
        "      x = self.outActivation(self.outLayer(x))\n",
        "\n",
        "    else:\n",
        "      x = self.outLayer(x)\n",
        "\n",
        "    return x"
      ],
      "metadata": {
        "id": "eiCtIdoFOxTQ"
      },
      "execution_count": 24,
      "outputs": []
    },
    {
      "cell_type": "code",
      "source": [
        "# Call the model\n",
        "try:\n",
        "  model = DigitClassifier(input_channel = 1, output_dimension = 10)\n",
        "except Exception as e:\n",
        "  print(e.with_traceback())\n",
        "else:\n",
        "  print(model.parameters)"
      ],
      "metadata": {
        "colab": {
          "base_uri": "https://localhost:8080/"
        },
        "id": "YoSOQjg2OxVs",
        "outputId": "3f016b0e-e81c-422d-91d5-747c002191f9"
      },
      "execution_count": 25,
      "outputs": [
        {
          "output_type": "stream",
          "name": "stdout",
          "text": [
            "<bound method Module.parameters of DigitClassifier(\n",
            "  (conv1): Conv2d(1, 64, kernel_size=(3, 3), stride=(1, 1), padding=(1, 1))\n",
            "  (act1): ReLU()\n",
            "  (pool1): MaxPool2d(kernel_size=2, stride=2, padding=0, dilation=1, ceil_mode=False)\n",
            "  (drop1): Dropout(p=0.3, inplace=False)\n",
            "  (conv2): Conv2d(64, 32, kernel_size=(3, 3), stride=(1, 1), padding=(1, 1))\n",
            "  (act2): ReLU()\n",
            "  (pool2): MaxPool2d(kernel_size=2, stride=2, padding=0, dilation=1, ceil_mode=False)\n",
            "  (drop2): Dropout(p=0.4, inplace=False)\n",
            "  (flat): Flatten(start_dim=1, end_dim=-1)\n",
            "  (hidden1): Linear(in_features=1568, out_features=128, bias=True)\n",
            "  (activation1): ReLU()\n",
            "  (dropoutLayer): Dropout(p=0.5, inplace=False)\n",
            "  (hidden2): Linear(in_features=128, out_features=64, bias=True)\n",
            "  (activation2): ReLU()\n",
            "  (outLayer): Linear(in_features=64, out_features=10, bias=True)\n",
            "  (outActivation): Softmax(dim=None)\n",
            ")>\n"
          ]
        }
      ]
    },
    {
      "cell_type": "code",
      "source": [
        "summary(model = model, input_size = X_train.shape[1:])"
      ],
      "metadata": {
        "colab": {
          "base_uri": "https://localhost:8080/"
        },
        "id": "XLMOqHvcZYdq",
        "outputId": "89beb5f1-8dd6-455e-9f27-0a1839511b6d"
      },
      "execution_count": 26,
      "outputs": [
        {
          "output_type": "stream",
          "name": "stdout",
          "text": [
            "----------------------------------------------------------------\n",
            "        Layer (type)               Output Shape         Param #\n",
            "================================================================\n",
            "            Conv2d-1           [-1, 64, 28, 28]             640\n",
            "              ReLU-2           [-1, 64, 28, 28]               0\n",
            "         MaxPool2d-3           [-1, 64, 14, 14]               0\n",
            "           Dropout-4           [-1, 64, 14, 14]               0\n",
            "            Conv2d-5           [-1, 32, 14, 14]          18,464\n",
            "              ReLU-6           [-1, 32, 14, 14]               0\n",
            "         MaxPool2d-7             [-1, 32, 7, 7]               0\n",
            "           Dropout-8             [-1, 32, 7, 7]               0\n",
            "           Flatten-9                 [-1, 1568]               0\n",
            "           Linear-10                  [-1, 128]         200,832\n",
            "             ReLU-11                  [-1, 128]               0\n",
            "          Dropout-12                  [-1, 128]               0\n",
            "           Linear-13                   [-1, 64]           8,256\n",
            "             ReLU-14                   [-1, 64]               0\n",
            "           Linear-15                   [-1, 10]             650\n",
            "          Softmax-16                   [-1, 10]               0\n",
            "================================================================\n",
            "Total params: 228,842\n",
            "Trainable params: 228,842\n",
            "Non-trainable params: 0\n",
            "----------------------------------------------------------------\n",
            "Input size (MB): 0.00\n",
            "Forward/backward pass size (MB): 1.09\n",
            "Params size (MB): 0.87\n",
            "Estimated Total Size (MB): 1.97\n",
            "----------------------------------------------------------------\n"
          ]
        }
      ]
    },
    {
      "cell_type": "markdown",
      "source": [
        "#####Define the loss & optimizer"
      ],
      "metadata": {
        "id": "nFDBEjqIZiYa"
      }
    },
    {
      "cell_type": "code",
      "source": [
        "LEARNING_RATE = 0.001\n",
        "loss_function = nn.CrossEntropyLoss()\n",
        "optimizer = optim.Adamax(params = model.parameters(), lr = LEARNING_RATE)"
      ],
      "metadata": {
        "id": "WAJoJoCAZlZF"
      },
      "execution_count": 27,
      "outputs": []
    },
    {
      "cell_type": "markdown",
      "source": [
        "#####Train the model"
      ],
      "metadata": {
        "id": "3idUPpLEZ0wy"
      }
    },
    {
      "cell_type": "code",
      "source": [
        "# Initialize some varibales\n",
        "EPOCHS     = 5\n",
        "TRAIN_LOSS = []\n",
        "VAL_LOSS   = []\n",
        "TRAIN_ACC  = []\n",
        "VAL_ACC    = []\n",
        "\n",
        "# Call the model train\n",
        "model.train()\n",
        "\n",
        "\"\"\"\n",
        "    1. Run a loop with respect to EPOCHS\n",
        "\n",
        "    2. Initialize some of the crucial variables\n",
        "        1. total_train_loss: Define the total train loss with respect to epoch\n",
        "        2. total_val_loss  : Define the total validation loss with respect to epoch\n",
        "        3. train_predictions : Define the total train prediction with respect to epoch\n",
        "        4. val_predictions : Define the total validation predictions with respect to epoch\n",
        "        5. train_lables : Store all the train labels during batch size\n",
        "        6. val_labels : Store all the validation labels duirng batch size\n",
        "\n",
        "    3. Run a loop with respect to train_loader & extrac data and label\n",
        "\"\"\"\n",
        "#######################\n",
        "#      Training       #\n",
        "#######################\n",
        "\n",
        "for epoch in range(EPOCHS):\n",
        "  total_train_loss  = []\n",
        "  total_val_loss    = []\n",
        "  train_predictions = []\n",
        "  val_predictions   = []\n",
        "  train_labels      = []\n",
        "  val_labels        = []\n",
        "\n",
        "  for X_batch, y_batch in train_loader:\n",
        "    y_batch = y_batch.long()\n",
        "    train_prediction = model(X_batch)\n",
        "    train_loss = loss_function(train_prediction, y_batch)\n",
        "\n",
        "    \"\"\"\n",
        "        1. Initialize the optimizer to adjust the weight and bias\n",
        "        2. Do backward propagation with respect to train loss\n",
        "        3. Do step operation with respect to optimizer\n",
        "    \"\"\"\n",
        "\n",
        "    optimizer.zero_grad()\n",
        "    train_loss.backward()\n",
        "    optimizer.step()\n",
        "\n",
        "    # Store the orginal train labels into train_labels\n",
        "    train_labels.extend(y_batch.flatten().detach().numpy())\n",
        "\n",
        "    # Store the train loss into train_loss\n",
        "    total_train_loss.append(train_loss.item())\n",
        "\n",
        "    # Store the predicted labels\n",
        "    train_predictions.extend(torch.argmax(train_prediction, 1).flatten().detach().numpy())\n",
        "\n",
        "  # ===============================================================================================\n",
        "  # ===============================================================================================\n",
        "  \"\"\"\n",
        "      Store the train loss and accuracy into TRAIN_LOSS & TRAIN_ACC list after being completed Epoch\n",
        "  \"\"\"\n",
        "  # Store the accuracy into TRAIN_ACCURACY\n",
        "  TRAIN_ACC.append(accuracy_score(train_labels, train_predictions))\n",
        "\n",
        "  # Store the train loss into TRAIN_LOSS\n",
        "  TRAIN_LOSS.append(np.array(total_train_loss).mean())\n",
        "\n",
        "  ########################\n",
        "  #        Testing       #\n",
        "  ########################\n",
        "  model.eval()\n",
        "\n",
        "  for val_data, val_label in test_loader:\n",
        "    val_label = val_label.long()\n",
        "    val_prediction = model(val_data)\n",
        "    val_loss = loss_function(val_prediction, val_label)\n",
        "\n",
        "    # Store the orginal validation labels into val_labels\n",
        "    val_labels.extend(val_label.flatten().detach().numpy())\n",
        "\n",
        "    # Store the validation loss into total_val_loss\n",
        "    total_val_loss.append(val_loss.item())\n",
        "\n",
        "    # Store the validation prediction labels\n",
        "    val_predictions.extend(torch.argmax(val_prediction, 1).flatten().detach().numpy())\n",
        "\n",
        "  # ===============================================================================================\n",
        "  # ===============================================================================================\n",
        "  \"\"\"\n",
        "      Store the train loss and accuracy into VAL_LOSS & VAL_ACC list after being completed Epoch\n",
        "  \"\"\"\n",
        "  # Store the val loss into VAL_LOSS\n",
        "  VAL_LOSS.append(np.array(total_val_loss).mean())\n",
        "\n",
        "  # Store the validation accuracy into VAL_ACC\n",
        "  VAL_ACC.append(accuracy_score(val_labels, val_predictions))\n",
        "\n",
        "  ########################\n",
        "  #       Display        #\n",
        "  ########################\n",
        "\n",
        "  print(\"Epoch {}/{} \".format(epoch + 1, EPOCHS))\n",
        "\n",
        "  print(\"{}/{} [=========================] loss: {} - accuracy: {} - val_loss: {} - val_accuracy: {}\".format(train_loader.batch_size,\\\n",
        "                                                                                                             train_loader.batch_size,\\\n",
        "                                                                                                             np.array(total_train_loss).mean(),\\\n",
        "                                                                                                             accuracy_score(train_labels, train_predictions),\\\n",
        "                                                                                                             np.array(total_val_loss).mean(),\\\n",
        "                                                                                                             accuracy_score(val_labels, val_predictions)))"
      ],
      "metadata": {
        "colab": {
          "base_uri": "https://localhost:8080/"
        },
        "id": "FXG-6inpZlcq",
        "outputId": "1f7c860d-162b-47f7-8911-b99b305ef04e"
      },
      "execution_count": 28,
      "outputs": [
        {
          "output_type": "stream",
          "name": "stdout",
          "text": [
            "Epoch 1/5 \n",
            "128/128 [=========================] loss: 1.8165154975614568 - accuracy: 0.6578666666666667 - val_loss: 1.6237392365177976 - val_accuracy: 0.8399\n",
            "Epoch 2/5 \n",
            "128/128 [=========================] loss: 1.554246224320011 - accuracy: 0.91185 - val_loss: 1.5168158419524567 - val_accuracy: 0.9476\n",
            "Epoch 3/5 \n",
            "128/128 [=========================] loss: 1.5078206001314274 - accuracy: 0.9563 - val_loss: 1.4943692729442934 - val_accuracy: 0.9696\n",
            "Epoch 4/5 \n",
            "128/128 [=========================] loss: 1.4941539439056981 - accuracy: 0.9690333333333333 - val_loss: 1.4890126668954198 - val_accuracy: 0.9736\n",
            "Epoch 5/5 \n",
            "128/128 [=========================] loss: 1.4874893475188884 - accuracy: 0.9757833333333333 - val_loss: 1.4843668168104147 - val_accuracy: 0.9797\n"
          ]
        }
      ]
    },
    {
      "cell_type": "markdown",
      "source": [
        "#####Display the loss & accuracy"
      ],
      "metadata": {
        "id": "yqCXBY2Qjl7o"
      }
    },
    {
      "cell_type": "code",
      "source": [
        "plt.plot(np.array(TRAIN_LOSS), label = 'train_loss')\n",
        "plt.plot(np.array(VAL_LOSS), label = 'val_loss')\n",
        "plt.title('Train Vs Test Loss')\n",
        "plt.xlabel('Epochs')\n",
        "plt.ylabel('Loss')\n",
        "plt.grid(True)\n",
        "plt.legend()\n",
        "plt.tight_layout()\n",
        "plt.show()"
      ],
      "metadata": {
        "colab": {
          "base_uri": "https://localhost:8080/",
          "height": 487
        },
        "id": "abe2A90xkpg5",
        "outputId": "08480a6e-6412-4911-8d5e-ce7ab22b5bb0"
      },
      "execution_count": 29,
      "outputs": [
        {
          "output_type": "display_data",
          "data": {
            "text/plain": [
              "<Figure size 640x480 with 1 Axes>"
            ],
            "image/png": "[encoded data removed]"
          },
          "metadata": {}
        }
      ]
    },
    {
      "cell_type": "code",
      "source": [
        "plt.plot(np.array(TRAIN_ACC), label = 'train_accuracy')\n",
        "plt.plot(np.array(VAL_ACC), label = 'val_accuracy')\n",
        "plt.title('Train Vs Test accuracy')\n",
        "plt.xlabel('Epochs')\n",
        "plt.ylabel('Accuracy')\n",
        "plt.grid(True)\n",
        "plt.legend()\n",
        "plt.tight_layout()\n",
        "plt.show()"
      ],
      "metadata": {
        "colab": {
          "base_uri": "https://localhost:8080/",
          "height": 487
        },
        "id": "GjVUa2ipkpke",
        "outputId": "8c2bc2b5-de1a-4401-b392-0ff9ece67111"
      },
      "execution_count": 30,
      "outputs": [
        {
          "output_type": "display_data",
          "data": {
            "text/plain": [
              "<Figure size 640x480 with 1 Axes>"
            ],
            "image/png": "[encoded data removed]"
          },
          "metadata": {}
        }
      ]
    },
    {
      "cell_type": "markdown",
      "source": [
        "#####Evaluation the model performance"
      ],
      "metadata": {
        "id": "PiNdMzogjpHD"
      }
    },
    {
      "cell_type": "code",
      "source": [
        "with torch.no_grad():\n",
        "  predicted = model(X_train)\n",
        "  predicted = torch.argmax(predicted, 1)\n",
        "\n",
        "  print(\"ACCURACY  # {}\".format(accuracy_score(y_train, predicted, average = 'macro')),'\\n')\n",
        "  print(\"PRECISION # {}\".format(precision_score(y_train, predicted, average = 'macro')),'\\n')\n",
        "  print(\"RECALL    # {}\".format(recall_score(y_train, predicted, average = 'macro')),'\\n')\n",
        "  print(\"F1_SCORE  # {}\".format(f1_score(y_train, predicted, average = 'macro')))"
      ],
      "metadata": {
        "id": "bJiEPOx4itlV"
      },
      "execution_count": null,
      "outputs": []
    },
    {
      "cell_type": "code",
      "source": [
        "with torch.no_grad():\n",
        "  predicted = model(X_test)\n",
        "  predicted = torch.argmax(predicted, 1)\n",
        "\n",
        "  print(\"ACCURACY  # {}\".format(accuracy_score(y_test, predicted, average = 'macro')),'\\n')\n",
        "  print(\"PRECISION # {}\".format(precision_score(y_test, predicted, average = 'macro')),'\\n')\n",
        "  print(\"RECALL    # {}\".format(recall_score(y_test, predicted, average = 'macro')),'\\n')\n",
        "  print(\"F1_SCORE  # {}\".format(f1_score(y_test, predicted, average = 'macro')))"
      ],
      "metadata": {
        "id": "9lO65gAqitnx"
      },
      "execution_count": null,
      "outputs": []
    }
  ]
}