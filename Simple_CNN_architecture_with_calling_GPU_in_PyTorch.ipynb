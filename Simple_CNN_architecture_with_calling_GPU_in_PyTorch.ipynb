{
  "nbformat": 4,
  "nbformat_minor": 0,
  "metadata": {
    "colab": {
      "provenance": [],
      "gpuType": "T4"
    },
    "kernelspec": {
      "name": "python3",
      "display_name": "Python 3"
    },
    "language_info": {
      "name": "python"
    },
    "accelerator": "GPU"
  },
  "cells": [
    {
      "cell_type": "code",
      "execution_count": 1,
      "metadata": {
        "id": "EGV-dq1E0dmq",
        "colab": {
          "base_uri": "https://localhost:8080/"
        },
        "outputId": "5bb77276-75b0-433a-e2a0-5674c7805b7f"
      },
      "outputs": [
        {
          "output_type": "stream",
          "name": "stdout",
          "text": [
            "Requirement already satisfied: keras in /usr/local/lib/python3.10/dist-packages (2.12.0)\n"
          ]
        }
      ],
      "source": [
        "# Import all necessity functions for Machine Learning\n",
        "import sys\n",
        "import math\n",
        "import string\n",
        "import numpy as np\n",
        "import pandas as pd\n",
        "import seaborn as sns\n",
        "import matplotlib.pyplot as plt\n",
        "import scipy as shc\n",
        "import warnings\n",
        "import zipfile\n",
        "import cv2\n",
        "import os\n",
        "import re\n",
        "import nltk\n",
        "import random\n",
        "import requests\n",
        "from bs4 import BeautifulSoup\n",
        "import re\n",
        "from collections import Counter\n",
        "from functools import reduce\n",
        "from itertools import chain\n",
        "from wordcloud import WordCloud\n",
        "from google.colab.patches import cv2_imshow\n",
        "from keras.preprocessing import image\n",
        "from sklearn.metrics._plot.confusion_matrix import confusion_matrix\n",
        "from sklearn.model_selection import train_test_split, KFold, StratifiedKFold, GridSearchCV, RandomizedSearchCV\n",
        "from sklearn.preprocessing import StandardScaler, RobustScaler, MinMaxScaler\n",
        "from sklearn.decomposition import PCA\n",
        "from sklearn.cluster import KMeans, DBSCAN, AgglomerativeClustering\n",
        "from sklearn.feature_selection import mutual_info_classif, mutual_info_regression, SelectKBest, chi2, VarianceThreshold\n",
        "from imblearn.under_sampling import RandomUnderSampler, NearMiss\n",
        "from imblearn.over_sampling import RandomOverSampler, SMOTE, SMOTEN, SMOTENC, SVMSMOTE, KMeansSMOTE, BorderlineSMOTE, ADASYN\n",
        "from imblearn.ensemble import EasyEnsembleClassifier\n",
        "from sklearn.feature_extraction.text import CountVectorizer, TfidfVectorizer\n",
        "from sklearn.naive_bayes import GaussianNB, BernoulliNB, MultinomialNB\n",
        "from sklearn.neighbors import KNeighborsClassifier, KNeighborsRegressor, NearestNeighbors\n",
        "from sklearn.linear_model import LinearRegression, LogisticRegression, SGDClassifier, SGDRegressor, Perceptron\n",
        "from sklearn.neural_network import MLPClassifier, MLPRegressor\n",
        "from sklearn.svm import SVC, SVR\n",
        "from sklearn.tree import DecisionTreeClassifier, DecisionTreeRegressor, ExtraTreeClassifier, ExtraTreeRegressor\n",
        "from sklearn.ensemble import BaggingClassifier, BaggingRegressor, RandomForestClassifier, RandomForestRegressor, VotingClassifier, VotingRegressor\n",
        "from sklearn.ensemble import AdaBoostClassifier, AdaBoostRegressor, GradientBoostingClassifier, GradientBoostingRegressor, StackingClassifier, StackingRegressor\n",
        "from sklearn.metrics import classification_report, mean_absolute_error, mean_squared_error, r2_score, accuracy_score, recall_score, precision_score, f1_score, silhouette_score\n",
        "from xgboost import XGBClassifier, XGBRegressor\n",
        "\n",
        "# Download keras\n",
        "!pip install keras\n",
        "\n",
        "# Import all necessity functions for Neural Network\n",
        "import tensorflow as tf\n",
        "from keras.models import Sequential, Model\n",
        "from keras.utils import plot_model\n",
        "from keras.layers import Dense, Conv2D, LSTM, GRU, RNN, Flatten, AvgPool2D, MaxPool2D, GlobalAveragePooling2D, BatchNormalization, Dropout, LeakyReLU, ELU, PReLU,  Embedding\n",
        "from keras.activations import tanh, relu, sigmoid, softmax, swish\n",
        "from keras.regularizers import L1, L2, L1L2\n",
        "from keras.optimizers import SGD, Adagrad, Adadelta, RMSprop, Adam, Adamax, Nadam\n",
        "from keras.initializers import HeNormal, HeUniform, GlorotNormal, GlorotUniform\n",
        "from keras.losses import SparseCategoricalCrossentropy, CategoricalCrossentropy, hinge, MSE, MAE, Huber, BinaryCrossentropy\n",
        "import keras.utils as image\n",
        "from google.colab.patches import cv2_imshow\n",
        "from keras.utils import plot_model\n",
        "\n",
        "# Plotting the confusion matrix\n",
        "from mlxtend.evaluate import confusion_matrix\n",
        "from mlxtend.plotting import plot_confusion_matrix\n",
        "from sklearn.metrics import multilabel_confusion_matrix\n",
        "from sklearn.metrics import confusion_matrix"
      ]
    },
    {
      "cell_type": "code",
      "source": [
        "# Remove all warnings\n",
        "import warnings\n",
        "warnings.filterwarnings(\"ignore\")"
      ],
      "metadata": {
        "id": "LtNPLbXT0lkz"
      },
      "execution_count": 2,
      "outputs": []
    },
    {
      "cell_type": "markdown",
      "source": [
        "#####Import the dataset"
      ],
      "metadata": {
        "id": "WULinOZQMErV"
      }
    },
    {
      "cell_type": "code",
      "source": [
        "import keras\n",
        "tf.keras.datasets.mnist.load_data(path=\"mnist.npz\")\n",
        "(X_train, y_train), (X_test, y_test) = keras.datasets.mnist.load_data()\n",
        "\n",
        "print(\"X_train shape # {} \".format(X_train.shape),'\\n')\n",
        "print(\"X_test shape  # {} \".format(X_test.shape),'\\n')\n",
        "print(\"y_train shape # {} \".format(y_train.shape),'\\n')\n",
        "print(\"y_test shape  # {} \".format(y_test.shape))"
      ],
      "metadata": {
        "colab": {
          "base_uri": "https://localhost:8080/"
        },
        "id": "WMzXAM2wMLk-",
        "outputId": "6a01073c-930d-43f1-b9a7-cae1817951eb"
      },
      "execution_count": 3,
      "outputs": [
        {
          "output_type": "stream",
          "name": "stdout",
          "text": [
            "X_train shape # (60000, 28, 28)  \n",
            "\n",
            "X_test shape  # (10000, 28, 28)  \n",
            "\n",
            "y_train shape # (60000,)  \n",
            "\n",
            "y_test shape  # (10000,) \n"
          ]
        }
      ]
    },
    {
      "cell_type": "markdown",
      "source": [
        "#####Display some of the dataset"
      ],
      "metadata": {
        "id": "owvvcwWRNCaL"
      }
    },
    {
      "cell_type": "code",
      "source": [
        "plt.figure(figsize = (16, 10))\n",
        "for index, data in enumerate(X_train[0:20]):\n",
        "  plt.subplot(2, 10, index + 1)\n",
        "  plt.imshow(data)\n",
        "\n",
        "plt.tight_layout()\n",
        "plt.show()"
      ],
      "metadata": {
        "colab": {
          "base_uri": "https://localhost:8080/",
          "height": 504
        },
        "id": "Ej8IuOFSNE4L",
        "outputId": "6c66f29d-e762-4d2d-94ba-3b0f7082e9d9"
      },
      "execution_count": 4,
      "outputs": [
        {
          "output_type": "display_data",
          "data": {
            "text/plain": [
              "<Figure size 1600x1000 with 20 Axes>"
            ],
            "image/png": "[encoded data removed]"
          },
          "metadata": {}
        }
      ]
    },
    {
      "cell_type": "markdown",
      "source": [
        "#####Do the normalization"
      ],
      "metadata": {
        "id": "YsmuoKI6M_Z2"
      }
    },
    {
      "cell_type": "code",
      "source": [
        "X_train = X_train/255\n",
        "X_test  = X_test/255\n",
        "\n",
        "print(\"Normalozation is completed.\")"
      ],
      "metadata": {
        "colab": {
          "base_uri": "https://localhost:8080/"
        },
        "id": "KUNiP3bYM50a",
        "outputId": "17449a01-f87d-4811-c03f-38c69b24e482"
      },
      "execution_count": 5,
      "outputs": [
        {
          "output_type": "stream",
          "name": "stdout",
          "text": [
            "Normalozation is completed.\n"
          ]
        }
      ]
    },
    {
      "cell_type": "code",
      "source": [
        "np.unique(y_test).shape[0]"
      ],
      "metadata": {
        "colab": {
          "base_uri": "https://localhost:8080/"
        },
        "id": "9QdVKFqKMLwD",
        "outputId": "3e4adbee-9319-4bc3-f6b1-401e6a21a063"
      },
      "execution_count": 6,
      "outputs": [
        {
          "output_type": "execute_result",
          "data": {
            "text/plain": [
              "10"
            ]
          },
          "metadata": {},
          "execution_count": 6
        }
      ]
    },
    {
      "cell_type": "markdown",
      "source": [
        "#####Convert the data type into float with respect to PyTorch"
      ],
      "metadata": {
        "id": "1FVeeAyKP11M"
      }
    },
    {
      "cell_type": "code",
      "source": [
        "import torch\n",
        "\n",
        "X_train = np.expand_dims(X_train, 1)\n",
        "X_train = torch.tensor(data = X_train, dtype = torch.float32)\n",
        "y_train = torch.tensor(data = y_train, dtype = torch.float32)\n",
        "\n",
        "X_test  = np.expand_dims(X_test, 1)\n",
        "X_test  = torch.tensor(data = X_test, dtype = torch.float32)\n",
        "y_test  = torch.tensor(data = y_test, dtype = torch.float32)"
      ],
      "metadata": {
        "id": "5jjcFeNPP64h"
      },
      "execution_count": 7,
      "outputs": []
    },
    {
      "cell_type": "markdown",
      "source": [
        "#####Initialize the DataLoader with batch_size: 64"
      ],
      "metadata": {
        "id": "OeOXtH3hOfBD"
      }
    },
    {
      "cell_type": "code",
      "source": [
        "import torch\n",
        "import torch.nn as nn\n",
        "import torch.functional as F\n",
        "import torch.optim as optim\n",
        "from torchsummary import summary\n",
        "from torch.utils.data import Dataset, DataLoader"
      ],
      "metadata": {
        "id": "M10ACt_VMLyG"
      },
      "execution_count": 8,
      "outputs": []
    },
    {
      "cell_type": "code",
      "source": [
        "BATCH_SIZE = 128\n",
        "train_loader = DataLoader(dataset = list(zip(X_train, y_train)), batch_size = BATCH_SIZE, shuffle = True)\n",
        "test_loader  = DataLoader(dataset = list(zip(X_test, y_test)), batch_size = BATCH_SIZE, shuffle = True)\n",
        "\n",
        "print(\"Batch size of Train # {} \".format(train_loader.batch_size),'\\n')\n",
        "print(\"Batch size of Test  # {} \".format(test_loader.batch_size),'\\n')\n",
        "\n",
        "train_data, train_label = next(iter(train_loader))\n",
        "test_data, test_label   = next(iter(test_loader))\n",
        "\n",
        "print(\"Train data shape with batch_size  # {} \".format(train_data.shape),'\\n')\n",
        "print(\"Train label shape with batch_size # {} \".format(train_label.shape),'\\n')\n",
        "\n",
        "print(\"Test data shape with batch_size   # {} \".format(test_data.shape),'\\n')\n",
        "print(\"Test label shape with batch_size  # {} \".format(test_label.shape))"
      ],
      "metadata": {
        "colab": {
          "base_uri": "https://localhost:8080/"
        },
        "id": "N28Jx4RYML1n",
        "outputId": "bf63d0a9-cb31-45a2-f349-9d00f9224ad3"
      },
      "execution_count": 9,
      "outputs": [
        {
          "output_type": "stream",
          "name": "stdout",
          "text": [
            "Batch size of Train # 128  \n",
            "\n",
            "Batch size of Test  # 128  \n",
            "\n",
            "Train data shape with batch_size  # torch.Size([128, 1, 28, 28])  \n",
            "\n",
            "Train label shape with batch_size # torch.Size([128])  \n",
            "\n",
            "Test data shape with batch_size   # torch.Size([128, 1, 28, 28])  \n",
            "\n",
            "Test label shape with batch_size  # torch.Size([128]) \n"
          ]
        }
      ]
    },
    {
      "cell_type": "markdown",
      "source": [
        "#####Model Building"
      ],
      "metadata": {
        "id": "LouX5lscQLj_"
      }
    },
    {
      "cell_type": "code",
      "source": [
        "\"\"\"\n",
        "    Create the class named DigitClassifier that would take TWO parameters\n",
        "    1. input_channel: Define whether Image is RGB or Gray\n",
        "    2. output_dimension: Define the class or label that I want to predict\n",
        "    3. Call the super function that will inherit all functionalities of PyTorch\n",
        "\"\"\"\n",
        "class DigitClassifier(nn.Module):\n",
        "  def __init__(self, input_channel = None, output_dimension = None):\n",
        "    super().__init__()\n",
        "    \"\"\"\n",
        "        Create the First Convolutional Layer with\n",
        "            1. in_channels: Define the input_channel\n",
        "            2. out_channels: Define the next neurons with respect to image\n",
        "            3. kernel_size: Define the kernel/filter that would be placed on top of image\n",
        "            4. stride: Define how our kernel would be moved\n",
        "            5. padding: padding 0 means no padding and 1 means padding\n",
        "\n",
        "        Define the Pooling Layer\n",
        "            1. MaxPooling: Prevent the overfitting problem\n",
        "\n",
        "        Define the activation function & Dropout Layer\n",
        "            1. Activation: ReLU\n",
        "            2. Dropout: Prevent the overfitting problem\n",
        "\n",
        "        Input shape: (28 * 28) * 1\n",
        "    \"\"\"\n",
        "    self.conv1 = nn.Conv2d(in_channels = input_channel, out_channels = 64, kernel_size = 3, stride = 1, padding = 1)\n",
        "    self.act1  = nn.ReLU()\n",
        "    self.pool1 = nn.MaxPool2d(kernel_size = 2, stride = 2)\n",
        "    self.drop1 = nn.Dropout(p = 0.3)\n",
        "\n",
        "    \"\"\"\n",
        "      Create the Second Convolutional Layer with\n",
        "          1. in_channels: Define the input_channel\n",
        "          2. out_channels: Define the next neurons with respect to image\n",
        "          3. kernel_size: Define the kernel/filter that would be placed on top of image\n",
        "          4. stride: Define how our kernel would be moved\n",
        "          5. padding: padding 0 means no padding and 1 means padding\n",
        "\n",
        "      Define the Pooling Layer with\n",
        "          MaxPooling: Prevent the overfitting\n",
        "\n",
        "      Define the activation function & Dropout Layer\n",
        "          1. Activation: ReLU\n",
        "          2. Dropout: Prevent the overfitting problem\n",
        "\n",
        "      Input shape: (14 * 14) * 64\n",
        "    \"\"\"\n",
        "    self.conv2 = nn.Conv2d(in_channels = 64, out_channels = 32, kernel_size = 3, stride = 1, padding = 1)\n",
        "    self.act2  = nn.ReLU()\n",
        "    self.pool2 = nn.MaxPool2d(kernel_size = 2, stride = 2)\n",
        "    self.drop2 = nn.Dropout(p = 0.4)\n",
        "\n",
        "    \"\"\"\n",
        "      Do the Flatten operation so that we can perform the classification task and add some neurons with respect to ANN\n",
        "\n",
        "      Create a fully connected layer that would take\n",
        "          1. in_features = Input shape: (7 * 7) * 32\n",
        "          3. out_features = 128\n",
        "          4. Activation: ReLU\n",
        "          5. Dropout: rate would be 0.5\n",
        "    \"\"\"\n",
        "    self.flat = nn.Flatten()\n",
        "\n",
        "    self.hidden1     = nn.Linear(in_features = 7 * 7 * 32, out_features = 128)\n",
        "    self.activation1 = nn.ReLU()\n",
        "    self.dropoutLayer= nn.Dropout(p = 0.5)\n",
        "\n",
        "    \"\"\"\n",
        "        Create the second hidden Layer\n",
        "        1. in_features = 128\n",
        "        2. out_features = 64\n",
        "        3. Activation : ReLU\n",
        "    \"\"\"\n",
        "    self.hidden2     = nn.Linear(in_features = 128, out_features = 64)\n",
        "    self.activation2 = nn.ReLU()\n",
        "\n",
        "    \"\"\"\n",
        "        Create the output layer with\n",
        "        1. in_features = 64\n",
        "        2. out_features = output_dimension\n",
        "    \"\"\"\n",
        "    self.outLayer = nn.Linear(in_features = 64, out_features = output_dimension)\n",
        "    self.outActivation = nn.Softmax()\n",
        "\n",
        "  def forward(self, x):\n",
        "    \"\"\"\n",
        "        For First Convolutional Layer\n",
        "    \"\"\"\n",
        "    x = self.act1(self.conv1(x))\n",
        "    x = self.pool1(x)\n",
        "    x = self.drop1(x)\n",
        "\n",
        "    \"\"\"\n",
        "        For the Second Convolutional Layer\n",
        "    \"\"\"\n",
        "    x = self.act2(self.conv2(x))\n",
        "    x = self.pool2(x)\n",
        "    x = self.drop2(x)\n",
        "\n",
        "    x = self.flat(x)\n",
        "\n",
        "    \"\"\"\n",
        "        For the First Hidden Layer\n",
        "    \"\"\"\n",
        "    x = self.activation1(self.hidden1(x))\n",
        "    x = self.dropoutLayer(x)\n",
        "\n",
        "    \"\"\"\n",
        "        For the Second Hidden Layer\n",
        "    \"\"\"\n",
        "    x = self.activation2(self.hidden2(x))\n",
        "\n",
        "    \"\"\"\n",
        "        For the output Layer\n",
        "    \"\"\"\n",
        "    if self.outActivation is not None:\n",
        "      x = self.outActivation(self.outLayer(x))\n",
        "\n",
        "    else:\n",
        "      x = self.outLayer(x)\n",
        "\n",
        "    return x"
      ],
      "metadata": {
        "id": "eiCtIdoFOxTQ"
      },
      "execution_count": 10,
      "outputs": []
    },
    {
      "cell_type": "code",
      "source": [
        "# Call the model\n",
        "try:\n",
        "  model = DigitClassifier(input_channel = 1, output_dimension = np.unique(y_test).shape[0])\n",
        "except Exception as e:\n",
        "  print(e.with_traceback())\n",
        "else:\n",
        "  print(model.parameters)"
      ],
      "metadata": {
        "colab": {
          "base_uri": "https://localhost:8080/"
        },
        "id": "YoSOQjg2OxVs",
        "outputId": "21d648d8-6578-4c09-987f-e2d9f6af8b9f"
      },
      "execution_count": 11,
      "outputs": [
        {
          "output_type": "stream",
          "name": "stdout",
          "text": [
            "<bound method Module.parameters of DigitClassifier(\n",
            "  (conv1): Conv2d(1, 64, kernel_size=(3, 3), stride=(1, 1), padding=(1, 1))\n",
            "  (act1): ReLU()\n",
            "  (pool1): MaxPool2d(kernel_size=2, stride=2, padding=0, dilation=1, ceil_mode=False)\n",
            "  (drop1): Dropout(p=0.3, inplace=False)\n",
            "  (conv2): Conv2d(64, 32, kernel_size=(3, 3), stride=(1, 1), padding=(1, 1))\n",
            "  (act2): ReLU()\n",
            "  (pool2): MaxPool2d(kernel_size=2, stride=2, padding=0, dilation=1, ceil_mode=False)\n",
            "  (drop2): Dropout(p=0.4, inplace=False)\n",
            "  (flat): Flatten(start_dim=1, end_dim=-1)\n",
            "  (hidden1): Linear(in_features=1568, out_features=128, bias=True)\n",
            "  (activation1): ReLU()\n",
            "  (dropoutLayer): Dropout(p=0.5, inplace=False)\n",
            "  (hidden2): Linear(in_features=128, out_features=64, bias=True)\n",
            "  (activation2): ReLU()\n",
            "  (outLayer): Linear(in_features=64, out_features=10, bias=True)\n",
            "  (outActivation): Softmax(dim=None)\n",
            ")>\n"
          ]
        }
      ]
    },
    {
      "cell_type": "markdown",
      "source": [
        "#####GPU connect"
      ],
      "metadata": {
        "id": "oV8QM-sBvqqn"
      }
    },
    {
      "cell_type": "code",
      "source": [
        "device = torch.device('cuda' if torch.cuda.is_available else 'cpu')\n",
        "device"
      ],
      "metadata": {
        "colab": {
          "base_uri": "https://localhost:8080/"
        },
        "id": "GE1eq5g1vsUH",
        "outputId": "236c7c88-4974-4f76-9615-1ead233fbde1"
      },
      "execution_count": 12,
      "outputs": [
        {
          "output_type": "execute_result",
          "data": {
            "text/plain": [
              "device(type='cuda')"
            ]
          },
          "metadata": {},
          "execution_count": 12
        }
      ]
    },
    {
      "cell_type": "markdown",
      "source": [
        "#####Connect GPU to the model"
      ],
      "metadata": {
        "id": "_rB04Jhqv7cG"
      }
    },
    {
      "cell_type": "code",
      "source": [
        "model = model.to(device)"
      ],
      "metadata": {
        "id": "HLT2eWwlv9wc"
      },
      "execution_count": 13,
      "outputs": []
    },
    {
      "cell_type": "code",
      "source": [
        "summary(model = model, input_size = X_train.shape[1:])"
      ],
      "metadata": {
        "colab": {
          "base_uri": "https://localhost:8080/"
        },
        "id": "XLMOqHvcZYdq",
        "outputId": "8da5eb02-dab3-449c-b493-1d85750f89a0"
      },
      "execution_count": 14,
      "outputs": [
        {
          "output_type": "stream",
          "name": "stdout",
          "text": [
            "----------------------------------------------------------------\n",
            "        Layer (type)               Output Shape         Param #\n",
            "================================================================\n",
            "            Conv2d-1           [-1, 64, 28, 28]             640\n",
            "              ReLU-2           [-1, 64, 28, 28]               0\n",
            "         MaxPool2d-3           [-1, 64, 14, 14]               0\n",
            "           Dropout-4           [-1, 64, 14, 14]               0\n",
            "            Conv2d-5           [-1, 32, 14, 14]          18,464\n",
            "              ReLU-6           [-1, 32, 14, 14]               0\n",
            "         MaxPool2d-7             [-1, 32, 7, 7]               0\n",
            "           Dropout-8             [-1, 32, 7, 7]               0\n",
            "           Flatten-9                 [-1, 1568]               0\n",
            "           Linear-10                  [-1, 128]         200,832\n",
            "             ReLU-11                  [-1, 128]               0\n",
            "          Dropout-12                  [-1, 128]               0\n",
            "           Linear-13                   [-1, 64]           8,256\n",
            "             ReLU-14                   [-1, 64]               0\n",
            "           Linear-15                   [-1, 10]             650\n",
            "          Softmax-16                   [-1, 10]               0\n",
            "================================================================\n",
            "Total params: 228,842\n",
            "Trainable params: 228,842\n",
            "Non-trainable params: 0\n",
            "----------------------------------------------------------------\n",
            "Input size (MB): 0.00\n",
            "Forward/backward pass size (MB): 1.09\n",
            "Params size (MB): 0.87\n",
            "Estimated Total Size (MB): 1.97\n",
            "----------------------------------------------------------------\n"
          ]
        }
      ]
    },
    {
      "cell_type": "markdown",
      "source": [
        "#####Define the loss & optimizer"
      ],
      "metadata": {
        "id": "nFDBEjqIZiYa"
      }
    },
    {
      "cell_type": "code",
      "source": [
        "LEARNING_RATE = 0.001\n",
        "loss_function = nn.CrossEntropyLoss()\n",
        "optimizer = optim.AdamW(params = model.parameters(), lr = LEARNING_RATE)"
      ],
      "metadata": {
        "id": "WAJoJoCAZlZF"
      },
      "execution_count": 15,
      "outputs": []
    },
    {
      "cell_type": "markdown",
      "source": [
        "#####Train the model"
      ],
      "metadata": {
        "id": "3idUPpLEZ0wy"
      }
    },
    {
      "cell_type": "code",
      "source": [
        "# Initialize some varibales\n",
        "EPOCHS     = 50\n",
        "TRAIN_LOSS = []\n",
        "VAL_LOSS   = []\n",
        "TRAIN_ACC  = []\n",
        "VAL_ACC    = []\n",
        "\n",
        "# Call the model train\n",
        "model.train()\n",
        "\n",
        "\"\"\"\n",
        "    1. Run a loop with respect to EPOCHS\n",
        "\n",
        "    2. Initialize some of the crucial variables\n",
        "        1. total_train_loss: Define the total train loss with respect to epoch\n",
        "        2. total_val_loss  : Define the total validation loss with respect to epoch\n",
        "        3. train_predictions : Define the total train prediction with respect to epoch\n",
        "        4. val_predictions : Define the total validation predictions with respect to epoch\n",
        "        5. train_lables : Store all the train labels during batch size\n",
        "        6. val_labels : Store all the validation labels duirng batch size\n",
        "\n",
        "    3. Run a loop with respect to train_loader & extrac data and label\n",
        "\"\"\"\n",
        "#######################\n",
        "#      Training       #\n",
        "#######################\n",
        "\n",
        "for epoch in range(EPOCHS):\n",
        "  total_train_loss  = []\n",
        "  total_val_loss    = []\n",
        "  train_predictions = []\n",
        "  val_predictions   = []\n",
        "  train_labels      = []\n",
        "  val_labels        = []\n",
        "\n",
        "  for X_batch, y_batch in train_loader:\n",
        "    y_batch = y_batch.long()\n",
        "    # Connect GPU to X_batch & y_batch\n",
        "    X_batch = X_batch.to(device)\n",
        "    y_batch = y_batch.to(device)\n",
        "    # Do the prediction\n",
        "    train_prediction = model(X_batch)\n",
        "    train_loss = loss_function(train_prediction, y_batch)\n",
        "\n",
        "    \"\"\"\n",
        "        1. Initialize the optimizer to adjust the weight and bias\n",
        "        2. Do backward propagation with respect to train loss\n",
        "        3. Do step operation with respect to optimizer\n",
        "    \"\"\"\n",
        "\n",
        "    optimizer.zero_grad()\n",
        "    train_loss.backward()\n",
        "    optimizer.step()\n",
        "\n",
        "    # Checking CPU\n",
        "    y_batch = y_batch.cpu()\n",
        "    # Store the orginal train labels into train_labels\n",
        "    train_labels.extend(y_batch.flatten().detach().numpy())\n",
        "\n",
        "    # Store the train loss into train_loss\n",
        "    total_train_loss.append(train_loss.item())\n",
        "\n",
        "    # Store the predicted labels\n",
        "    train_predictions.extend(torch.argmax(train_prediction.cpu(), 1).flatten().detach().numpy())\n",
        "\n",
        "  # ===============================================================================================\n",
        "  # ===============================================================================================\n",
        "  \"\"\"\n",
        "      Store the train loss and accuracy into TRAIN_LOSS & TRAIN_ACC list after being completed Epoch\n",
        "  \"\"\"\n",
        "  # Store the accuracy into TRAIN_ACCURACY\n",
        "  TRAIN_ACC.append(accuracy_score(train_labels, train_predictions))\n",
        "\n",
        "  # Store the train loss into TRAIN_LOSS\n",
        "  TRAIN_LOSS.append(np.array(total_train_loss).mean())\n",
        "\n",
        "  ########################\n",
        "  #        Testing       #\n",
        "  ########################\n",
        "  model.eval()\n",
        "\n",
        "  for val_data, val_label in test_loader:\n",
        "    val_label = val_label.long()\n",
        "    # Convert GPU\n",
        "    val_data = val_data.to(device)\n",
        "    val_label = val_label.to(device)\n",
        "    # Do the prediction\n",
        "    val_prediction = model(val_data)\n",
        "    val_loss = loss_function(val_prediction, val_label)\n",
        "\n",
        "    # Checking CPU\n",
        "    val_label = val_label.cpu()\n",
        "    # Store the orginal validation labels into val_labels\n",
        "    val_labels.extend(val_label.flatten().detach().numpy())\n",
        "\n",
        "    # Store the validation loss into total_val_loss\n",
        "    total_val_loss.append(val_loss.item())\n",
        "\n",
        "    # Store the validation prediction labels\n",
        "    val_predictions.extend(torch.argmax(val_prediction.cpu(), 1).flatten().detach().numpy())\n",
        "\n",
        "  # ===============================================================================================\n",
        "  # ===============================================================================================\n",
        "  \"\"\"\n",
        "      Store the train loss and accuracy into VAL_LOSS & VAL_ACC list after being completed Epoch\n",
        "  \"\"\"\n",
        "  # Store the val loss into VAL_LOSS\n",
        "  VAL_LOSS.append(np.array(total_val_loss).mean())\n",
        "\n",
        "  # Store the validation accuracy into VAL_ACC\n",
        "  VAL_ACC.append(accuracy_score(val_labels, val_predictions))\n",
        "\n",
        "  ########################\n",
        "  #       Display        #\n",
        "  ########################\n",
        "\n",
        "  print(\"Epoch {}/{} \".format(epoch + 1, EPOCHS))\n",
        "\n",
        "  print(\"{}/{} [=========================] loss: {} - accuracy: {} - val_loss: {} - val_accuracy: {}\".format(train_loader.batch_size,\\\n",
        "                                                                                                             train_loader.batch_size,\\\n",
        "                                                                                                             np.array(total_train_loss).mean(),\\\n",
        "                                                                                                             accuracy_score(train_labels, train_predictions),\\\n",
        "                                                                                                             np.array(total_val_loss).mean(),\\\n",
        "                                                                                                             accuracy_score(val_labels, val_predictions)))"
      ],
      "metadata": {
        "colab": {
          "base_uri": "https://localhost:8080/"
        },
        "id": "FXG-6inpZlcq",
        "outputId": "a7922cf8-efd2-4c86-fd88-2774d4c0e460"
      },
      "execution_count": 16,
      "outputs": [
        {
          "output_type": "stream",
          "name": "stdout",
          "text": [
            "Epoch 1/50 \n",
            "128/128 [=========================] loss: 1.7281873960739005 - accuracy: 0.7385 - val_loss: 1.5932322966901562 - val_accuracy: 0.8672\n",
            "Epoch 2/50 \n",
            "128/128 [=========================] loss: 1.5709182618777635 - accuracy: 0.8909 - val_loss: 1.4919024720976624 - val_accuracy: 0.9703\n",
            "Epoch 3/50 \n",
            "128/128 [=========================] loss: 1.4872929264487489 - accuracy: 0.9750333333333333 - val_loss: 1.4817440524885925 - val_accuracy: 0.9798\n",
            "Epoch 4/50 \n",
            "128/128 [=========================] loss: 1.4804898070882377 - accuracy: 0.9813833333333334 - val_loss: 1.479623998267741 - val_accuracy: 0.9818\n",
            "Epoch 5/50 \n",
            "128/128 [=========================] loss: 1.47622190990936 - accuracy: 0.98575 - val_loss: 1.4747127928311312 - val_accuracy: 0.9869\n",
            "Epoch 6/50 \n",
            "128/128 [=========================] loss: 1.4750707390974325 - accuracy: 0.9864833333333334 - val_loss: 1.477678730518003 - val_accuracy: 0.984\n",
            "Epoch 7/50 \n",
            "128/128 [=========================] loss: 1.4734470196115945 - accuracy: 0.98825 - val_loss: 1.4739670768568787 - val_accuracy: 0.9873\n",
            "Epoch 8/50 \n",
            "128/128 [=========================] loss: 1.4724003274811865 - accuracy: 0.9889666666666667 - val_loss: 1.473676089999042 - val_accuracy: 0.9883\n",
            "Epoch 9/50 \n",
            "128/128 [=========================] loss: 1.471423920792049 - accuracy: 0.99005 - val_loss: 1.4718829634823376 - val_accuracy: 0.9902\n",
            "Epoch 10/50 \n",
            "128/128 [=========================] loss: 1.4702749753049187 - accuracy: 0.9911666666666666 - val_loss: 1.4713925651357145 - val_accuracy: 0.9898\n",
            "Epoch 11/50 \n",
            "128/128 [=========================] loss: 1.4705413234259275 - accuracy: 0.9907833333333333 - val_loss: 1.4758085510398768 - val_accuracy: 0.9858\n",
            "Epoch 12/50 \n",
            "128/128 [=========================] loss: 1.4704163966656747 - accuracy: 0.9907 - val_loss: 1.4711398112622998 - val_accuracy: 0.991\n",
            "Epoch 13/50 \n",
            "128/128 [=========================] loss: 1.4689079647633567 - accuracy: 0.99235 - val_loss: 1.4713638477687594 - val_accuracy: 0.9902\n",
            "Epoch 14/50 \n",
            "128/128 [=========================] loss: 1.4688371923178243 - accuracy: 0.9924666666666667 - val_loss: 1.470800614055199 - val_accuracy: 0.9905\n",
            "Epoch 15/50 \n",
            "128/128 [=========================] loss: 1.4681617257945827 - accuracy: 0.9931666666666666 - val_loss: 1.4722327084480962 - val_accuracy: 0.9896\n",
            "Epoch 16/50 \n",
            "128/128 [=========================] loss: 1.4670987205464703 - accuracy: 0.9941333333333333 - val_loss: 1.4704007197029982 - val_accuracy: 0.9912\n",
            "Epoch 17/50 \n",
            "128/128 [=========================] loss: 1.4676158878086472 - accuracy: 0.9936166666666667 - val_loss: 1.4718290235422835 - val_accuracy: 0.9892\n",
            "Epoch 18/50 \n",
            "128/128 [=========================] loss: 1.4666462297886929 - accuracy: 0.9946333333333334 - val_loss: 1.4698423388638073 - val_accuracy: 0.9912\n",
            "Epoch 19/50 \n",
            "128/128 [=========================] loss: 1.4661405259358096 - accuracy: 0.9950666666666667 - val_loss: 1.4697764764858197 - val_accuracy: 0.9916\n",
            "Epoch 20/50 \n",
            "128/128 [=========================] loss: 1.46723350431365 - accuracy: 0.994 - val_loss: 1.4711038447633575 - val_accuracy: 0.9902\n",
            "Epoch 21/50 \n",
            "128/128 [=========================] loss: 1.4670509295677072 - accuracy: 0.9941166666666666 - val_loss: 1.4723783535293387 - val_accuracy: 0.9894\n",
            "Epoch 22/50 \n",
            "128/128 [=========================] loss: 1.4666290450960333 - accuracy: 0.9945166666666667 - val_loss: 1.471748558780815 - val_accuracy: 0.9892\n",
            "Epoch 23/50 \n",
            "128/128 [=========================] loss: 1.4660855427479693 - accuracy: 0.995 - val_loss: 1.4691420446468304 - val_accuracy: 0.9921\n",
            "Epoch 24/50 \n",
            "128/128 [=========================] loss: 1.4659525890594352 - accuracy: 0.9951833333333333 - val_loss: 1.473122728021839 - val_accuracy: 0.9885\n",
            "Epoch 25/50 \n",
            "128/128 [=========================] loss: 1.465739991364957 - accuracy: 0.9955 - val_loss: 1.470339773576471 - val_accuracy: 0.9908\n",
            "Epoch 26/50 \n",
            "128/128 [=========================] loss: 1.4650392321381234 - accuracy: 0.9961333333333333 - val_loss: 1.4734927053692974 - val_accuracy: 0.9888\n",
            "Epoch 27/50 \n",
            "128/128 [=========================] loss: 1.4658576133154602 - accuracy: 0.9953666666666666 - val_loss: 1.4697303047663048 - val_accuracy: 0.9912\n",
            "Epoch 28/50 \n",
            "128/128 [=========================] loss: 1.4654756659892068 - accuracy: 0.9957166666666667 - val_loss: 1.4697430677051786 - val_accuracy: 0.9911\n",
            "Epoch 29/50 \n",
            "128/128 [=========================] loss: 1.4659413490722428 - accuracy: 0.9952333333333333 - val_loss: 1.4709412448013885 - val_accuracy: 0.9898\n",
            "Epoch 30/50 \n",
            "128/128 [=========================] loss: 1.4657833538075755 - accuracy: 0.9953166666666666 - val_loss: 1.4703083973896653 - val_accuracy: 0.9909\n",
            "Epoch 31/50 \n",
            "128/128 [=========================] loss: 1.4651138734207478 - accuracy: 0.996 - val_loss: 1.4733009579815441 - val_accuracy: 0.9893\n",
            "Epoch 32/50 \n",
            "128/128 [=========================] loss: 1.464837639824922 - accuracy: 0.99645 - val_loss: 1.470064964475511 - val_accuracy: 0.9908\n",
            "Epoch 33/50 \n",
            "128/128 [=========================] loss: 1.4654287694613817 - accuracy: 0.9956833333333334 - val_loss: 1.4712721562083764 - val_accuracy: 0.9895\n",
            "Epoch 34/50 \n",
            "128/128 [=========================] loss: 1.465830783345806 - accuracy: 0.9953833333333333 - val_loss: 1.4699011407321012 - val_accuracy: 0.991\n",
            "Epoch 35/50 \n",
            "128/128 [=========================] loss: 1.466030438825774 - accuracy: 0.9951 - val_loss: 1.4705516205558293 - val_accuracy: 0.9906\n",
            "Epoch 36/50 \n",
            "128/128 [=========================] loss: 1.4653405266275792 - accuracy: 0.9958333333333333 - val_loss: 1.4698336848729774 - val_accuracy: 0.9913\n",
            "Epoch 37/50 \n",
            "128/128 [=========================] loss: 1.46467999303773 - accuracy: 0.9965166666666667 - val_loss: 1.4716475568240202 - val_accuracy: 0.9894\n",
            "Epoch 38/50 \n",
            "128/128 [=========================] loss: 1.4647135556633792 - accuracy: 0.99645 - val_loss: 1.4698773984667621 - val_accuracy: 0.991\n",
            "Epoch 39/50 \n",
            "128/128 [=========================] loss: 1.464910332073789 - accuracy: 0.9962666666666666 - val_loss: 1.4699310622637785 - val_accuracy: 0.991\n",
            "Epoch 40/50 \n",
            "128/128 [=========================] loss: 1.4641512202809868 - accuracy: 0.997 - val_loss: 1.470781549622741 - val_accuracy: 0.9904\n",
            "Epoch 41/50 \n",
            "128/128 [=========================] loss: 1.4644282908836153 - accuracy: 0.9967333333333334 - val_loss: 1.4698446053492873 - val_accuracy: 0.9911\n",
            "Epoch 42/50 \n",
            "128/128 [=========================] loss: 1.4650955878849476 - accuracy: 0.9960666666666667 - val_loss: 1.4718768264673934 - val_accuracy: 0.9898\n",
            "Epoch 43/50 \n",
            "128/128 [=========================] loss: 1.464708316554901 - accuracy: 0.9965 - val_loss: 1.4723171659662753 - val_accuracy: 0.9887\n",
            "Epoch 44/50 \n",
            "128/128 [=========================] loss: 1.4644977352512416 - accuracy: 0.9966666666666667 - val_loss: 1.4711128322384026 - val_accuracy: 0.99\n",
            "Epoch 45/50 \n",
            "128/128 [=========================] loss: 1.4644264224241537 - accuracy: 0.9967166666666667 - val_loss: 1.4702259830281705 - val_accuracy: 0.9907\n",
            "Epoch 46/50 \n",
            "128/128 [=========================] loss: 1.4640022724676234 - accuracy: 0.9971833333333333 - val_loss: 1.4706776036491878 - val_accuracy: 0.9905\n",
            "Epoch 47/50 \n",
            "128/128 [=========================] loss: 1.4645000203077727 - accuracy: 0.9967333333333334 - val_loss: 1.4721121108984645 - val_accuracy: 0.9889\n",
            "Epoch 48/50 \n",
            "128/128 [=========================] loss: 1.4653435076223507 - accuracy: 0.9957666666666667 - val_loss: 1.4717325424846215 - val_accuracy: 0.9896\n",
            "Epoch 49/50 \n",
            "128/128 [=========================] loss: 1.4642445118442526 - accuracy: 0.9969166666666667 - val_loss: 1.471036577526527 - val_accuracy: 0.9902\n",
            "Epoch 50/50 \n",
            "128/128 [=========================] loss: 1.4642615437761808 - accuracy: 0.9969 - val_loss: 1.4707757023316395 - val_accuracy: 0.9902\n"
          ]
        }
      ]
    },
    {
      "cell_type": "markdown",
      "source": [
        "#####Display the loss & accuracy"
      ],
      "metadata": {
        "id": "yqCXBY2Qjl7o"
      }
    },
    {
      "cell_type": "code",
      "source": [
        "plt.plot(np.array(TRAIN_LOSS), label = 'train_loss')\n",
        "plt.plot(np.array(VAL_LOSS), label = 'val_loss')\n",
        "plt.title('Train Vs Test Loss')\n",
        "plt.xlabel('Epochs')\n",
        "plt.ylabel('Loss')\n",
        "plt.legend()\n",
        "plt.tight_layout()\n",
        "plt.show()"
      ],
      "metadata": {
        "colab": {
          "base_uri": "https://localhost:8080/",
          "height": 487
        },
        "id": "abe2A90xkpg5",
        "outputId": "12a8e75e-a6f7-4ad3-c7a5-c414d93bc5fb"
      },
      "execution_count": 17,
      "outputs": [
        {
          "output_type": "display_data",
          "data": {
            "text/plain": [
              "<Figure size 640x480 with 1 Axes>"
            ],
            "image/png": "[encoded data removed]"
          },
          "metadata": {}
        }
      ]
    },
    {
      "cell_type": "code",
      "source": [
        "plt.plot(np.array(TRAIN_ACC), label = 'train_accuracy')\n",
        "plt.plot(np.array(VAL_ACC), label = 'val_accuracy')\n",
        "plt.title('Train Vs Test accuracy')\n",
        "plt.xlabel('Epochs')\n",
        "plt.ylabel('Accuracy')\n",
        "plt.legend()\n",
        "plt.tight_layout()\n",
        "plt.show()"
      ],
      "metadata": {
        "colab": {
          "base_uri": "https://localhost:8080/",
          "height": 487
        },
        "id": "GjVUa2ipkpke",
        "outputId": "a2035757-ddc4-4709-bee0-161778a6ae34"
      },
      "execution_count": 18,
      "outputs": [
        {
          "output_type": "display_data",
          "data": {
            "text/plain": [
              "<Figure size 640x480 with 1 Axes>"
            ],
            "image/png": "[encoded data removed]"
          },
          "metadata": {}
        }
      ]
    },
    {
      "cell_type": "markdown",
      "source": [
        "#####Evaluation the model performance"
      ],
      "metadata": {
        "id": "PiNdMzogjpHD"
      }
    },
    {
      "cell_type": "code",
      "source": [
        "# Ealuation for training\n",
        "predicted_value = []\n",
        "actual_value    = []\n",
        "\n",
        "for train_data, train_label in train_loader:\n",
        "  # Convert the data and label into GPU\n",
        "  train_data  = train_data.to(device)\n",
        "  train_label = train_label.to(device)\n",
        "\n",
        "  # Do the prediction\n",
        "  predicted = model(train_data)\n",
        "\n",
        "  # Store the train prediction and actual value\n",
        "  predicted_value.extend(torch.argmax(predicted.cpu(), 1))\n",
        "  actual_value.extend(train_label.cpu())\n",
        "\n",
        "########################\n",
        "#       Display        #\n",
        "########################\n",
        "\n",
        "print(\"ACCURACY  # {}\".format(accuracy_score(actual_value, predicted_value)),'\\n')\n",
        "print(\"PRECISION # {}\".format(precision_score(actual_value, predicted_value, average = 'macro')),'\\n')\n",
        "print(\"RECALL    # {}\".format(recall_score(actual_value, predicted_value, average = 'macro')),'\\n')\n",
        "print(\"F1_SCORE  # {}\".format(f1_score(actual_value, predicted_value, average = 'macro')))"
      ],
      "metadata": {
        "colab": {
          "base_uri": "https://localhost:8080/"
        },
        "id": "GvqVxsdU0oCx",
        "outputId": "619daf92-d603-4a46-8301-f215f3a9cd0c"
      },
      "execution_count": 19,
      "outputs": [
        {
          "output_type": "stream",
          "name": "stdout",
          "text": [
            "ACCURACY  # 0.9968333333333333 \n",
            "\n",
            "PRECISION # 0.9968458606381467 \n",
            "\n",
            "RECALL    # 0.9968044377700316 \n",
            "\n",
            "F1_SCORE  # 0.9968183037801367\n"
          ]
        }
      ]
    },
    {
      "cell_type": "code",
      "source": [
        "# Evaluation for testing\n",
        "predicted_value = []\n",
        "actual_value    = []\n",
        "for test_data, test_label in test_loader:\n",
        "  # Convert data and label into GPU\n",
        "  test_data  = test_data.to(device)\n",
        "  test_label = test_label.to(device)\n",
        "\n",
        "  # Do the prediction\n",
        "  predicted = model(test_data)\n",
        "\n",
        "  # Store the test predicted value and actual value\n",
        "  predicted_value.extend(torch.argmax(predicted, 1).cpu())\n",
        "  actual_value.extend(test_label.cpu())\n",
        "\n",
        "########################\n",
        "#       Display        #\n",
        "########################\n",
        "\n",
        "print(\"ACCURACY  # {}\".format(accuracy_score(actual_value, predicted_value)),'\\n')\n",
        "print(\"PRECISION # {}\".format(precision_score(actual_value, predicted_value, average = 'macro')),'\\n')\n",
        "print(\"RECALL    # {}\".format(recall_score(actual_value, predicted_value, average = 'macro')),'\\n')\n",
        "print(\"F1_SCORE  # {}\".format(f1_score(actual_value, predicted_value, average = 'macro')))"
      ],
      "metadata": {
        "colab": {
          "base_uri": "https://localhost:8080/"
        },
        "id": "zEbm6f44y2a4",
        "outputId": "02b93c6b-e699-4e82-8c54-45e579df582b"
      },
      "execution_count": 20,
      "outputs": [
        {
          "output_type": "stream",
          "name": "stdout",
          "text": [
            "ACCURACY  # 0.9902 \n",
            "\n",
            "PRECISION # 0.9900835563240321 \n",
            "\n",
            "RECALL    # 0.9901084312741023 \n",
            "\n",
            "F1_SCORE  # 0.9900693921381606\n"
          ]
        }
      ]
    }
  ]
}