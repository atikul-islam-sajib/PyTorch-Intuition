{
  "nbformat": 4,
  "nbformat_minor": 0,
  "metadata": {
    "colab": {
      "provenance": []
    },
    "kernelspec": {
      "name": "python3",
      "display_name": "Python 3"
    },
    "language_info": {
      "name": "python"
    }
  },
  "cells": [
    {
      "cell_type": "code",
      "execution_count": 1,
      "metadata": {
        "id": "v6rihV3LDbPE"
      },
      "outputs": [],
      "source": [
        "import torch\n",
        "import torch.nn as nn"
      ]
    },
    {
      "cell_type": "markdown",
      "source": [
        "# 1. torch.tensor"
      ],
      "metadata": {
        "id": "zmMDGT2CDtyr"
      }
    },
    {
      "cell_type": "code",
      "source": [
        "torch.tensor([1, 2, 3])"
      ],
      "metadata": {
        "colab": {
          "base_uri": "https://localhost:8080/"
        },
        "id": "aL9F3cC3Du3g",
        "outputId": "ee703068-7eec-427f-ae09-333ae3ca8c4a"
      },
      "execution_count": 2,
      "outputs": [
        {
          "output_type": "execute_result",
          "data": {
            "text/plain": [
              "tensor([1, 2, 3])"
            ]
          },
          "metadata": {},
          "execution_count": 2
        }
      ]
    },
    {
      "cell_type": "code",
      "source": [
        "torch.tensor([\n",
        "    [1, 2, 3, 4],\n",
        "    [5, 6, 7, 8],\n",
        "    [-1, -2, -4, -5]\n",
        "    ])"
      ],
      "metadata": {
        "colab": {
          "base_uri": "https://localhost:8080/"
        },
        "id": "pjL5xikwDydb",
        "outputId": "d2b46b1c-ce63-4a0a-f70c-c8d00ffd0972"
      },
      "execution_count": 3,
      "outputs": [
        {
          "output_type": "execute_result",
          "data": {
            "text/plain": [
              "tensor([[ 1,  2,  3,  4],\n",
              "        [ 5,  6,  7,  8],\n",
              "        [-1, -2, -4, -5]])"
            ]
          },
          "metadata": {},
          "execution_count": 3
        }
      ]
    },
    {
      "cell_type": "markdown",
      "source": [
        "# 2. tensor.from_numpy()"
      ],
      "metadata": {
        "id": "ch9pcTOID8zA"
      }
    },
    {
      "cell_type": "code",
      "source": [
        "import numpy as np\n",
        "\n",
        "numpy_array = np.array([[1, 2, 3], [4, 5, 6], [7, 8, 9]])\n",
        "\n",
        "torch.from_numpy(numpy_array)"
      ],
      "metadata": {
        "colab": {
          "base_uri": "https://localhost:8080/"
        },
        "id": "mp7KDLyCD7GD",
        "outputId": "3d108008-942b-4919-aa54-3ae59330299b"
      },
      "execution_count": 5,
      "outputs": [
        {
          "output_type": "execute_result",
          "data": {
            "text/plain": [
              "tensor([[1, 2, 3],\n",
              "        [4, 5, 6],\n",
              "        [7, 8, 9]])"
            ]
          },
          "metadata": {},
          "execution_count": 5
        }
      ]
    },
    {
      "cell_type": "markdown",
      "source": [
        "# 3. torch.rand()"
      ],
      "metadata": {
        "id": "nBIfscdREKrr"
      }
    },
    {
      "cell_type": "code",
      "source": [
        "torch.rand((64, ))"
      ],
      "metadata": {
        "colab": {
          "base_uri": "https://localhost:8080/"
        },
        "id": "QvQjOU3bD__l",
        "outputId": "a41aa4dd-8e82-4c6d-cfd8-7be51d41e5d8"
      },
      "execution_count": 6,
      "outputs": [
        {
          "output_type": "execute_result",
          "data": {
            "text/plain": [
              "tensor([0.2879, 0.7074, 0.5927, 0.1065, 0.6812, 0.1596, 0.9077, 0.4218, 0.1269,\n",
              "        0.0154, 0.0336, 0.0259, 0.1336, 0.7461, 0.3158, 0.9848, 0.5135, 0.0424,\n",
              "        0.9745, 0.7851, 0.7774, 0.4299, 0.3129, 0.6555, 0.2877, 0.9156, 0.6988,\n",
              "        0.7501, 0.0225, 0.5706, 0.2309, 0.3715, 0.4577, 0.9540, 0.8458, 0.1157,\n",
              "        0.9286, 0.2692, 0.0663, 0.4839, 0.2434, 0.7551, 0.6745, 0.1343, 0.9668,\n",
              "        0.2710, 0.8578, 0.0329, 0.7793, 0.5783, 0.2942, 0.9932, 0.7695, 0.4298,\n",
              "        0.0473, 0.3777, 0.6348, 0.3552, 0.4711, 0.4534, 0.6343, 0.7969, 0.8647,\n",
              "        0.7943])"
            ]
          },
          "metadata": {},
          "execution_count": 6
        }
      ]
    },
    {
      "cell_type": "code",
      "source": [
        "torch.rand((3, 4), requires_grad=False)"
      ],
      "metadata": {
        "colab": {
          "base_uri": "https://localhost:8080/"
        },
        "id": "HTwyyacVESS_",
        "outputId": "a4bd8de3-85d8-4be5-fd98-3936126ae967"
      },
      "execution_count": 7,
      "outputs": [
        {
          "output_type": "execute_result",
          "data": {
            "text/plain": [
              "tensor([[0.8965, 0.0517, 0.7346, 0.6394],\n",
              "        [0.9682, 0.3184, 0.1341, 0.0233],\n",
              "        [0.0444, 0.0658, 0.3449, 0.5379]])"
            ]
          },
          "metadata": {},
          "execution_count": 7
        }
      ]
    },
    {
      "cell_type": "code",
      "source": [
        "torch.randn((1, 3, 4, 3), requires_grad=True)"
      ],
      "metadata": {
        "colab": {
          "base_uri": "https://localhost:8080/"
        },
        "id": "8RLo-Sz6EWjH",
        "outputId": "2606bdf0-86c1-45b7-bc0e-3017b192a82b"
      },
      "execution_count": 8,
      "outputs": [
        {
          "output_type": "execute_result",
          "data": {
            "text/plain": [
              "tensor([[[[-2.3131,  0.9159,  1.1986],\n",
              "          [ 0.0098, -0.5621, -0.6733],\n",
              "          [ 1.4921, -0.7759,  1.6776],\n",
              "          [-1.1419, -0.9289, -1.2960]],\n",
              "\n",
              "         [[ 0.5815, -0.1820,  0.3447],\n",
              "          [-1.2779, -0.0662, -0.7990],\n",
              "          [ 0.1317, -1.5522, -1.4993],\n",
              "          [ 0.5688, -1.0296,  0.2322]],\n",
              "\n",
              "         [[ 0.8314,  0.3032, -2.5463],\n",
              "          [-0.7366, -0.7238,  0.1896],\n",
              "          [ 0.3568, -0.0648, -0.9940],\n",
              "          [ 0.4168,  0.9036,  1.4462]]]], requires_grad=True)"
            ]
          },
          "metadata": {},
          "execution_count": 8
        }
      ]
    },
    {
      "cell_type": "markdown",
      "source": [
        "# 4. torch.randn()"
      ],
      "metadata": {
        "id": "IZT4gfHzEbmT"
      }
    },
    {
      "cell_type": "code",
      "source": [
        "torch.randn((32, ))"
      ],
      "metadata": {
        "colab": {
          "base_uri": "https://localhost:8080/"
        },
        "id": "jI5W1RmSEaat",
        "outputId": "5cfc1b69-3aaf-4d16-d404-308b81700f03"
      },
      "execution_count": 9,
      "outputs": [
        {
          "output_type": "execute_result",
          "data": {
            "text/plain": [
              "tensor([ 4.1509e-02, -6.5918e-01,  1.4121e+00, -5.0016e-01, -5.0924e-01,\n",
              "        -2.6735e-01,  3.2179e-01,  1.1298e+00, -5.2026e-01, -1.2437e+00,\n",
              "        -5.0593e-01,  1.3510e+00,  1.1401e+00, -9.1875e-01, -1.2874e-01,\n",
              "         2.5190e+00,  6.9868e-01, -1.1252e+00,  8.5781e-01,  1.5105e+00,\n",
              "        -1.5110e+00,  3.4401e-02,  7.9755e-04, -3.4918e-01, -6.8996e-01,\n",
              "        -1.1769e+00,  1.2362e+00,  8.6274e-01,  8.6256e-02, -8.4413e-02,\n",
              "        -7.4835e-01, -9.4213e-02])"
            ]
          },
          "metadata": {},
          "execution_count": 9
        }
      ]
    },
    {
      "cell_type": "code",
      "source": [
        "torch.randn((3, 4), requires_grad=False)"
      ],
      "metadata": {
        "colab": {
          "base_uri": "https://localhost:8080/"
        },
        "id": "Bzx1DF88EgGA",
        "outputId": "0ec72701-d96b-4f1d-8148-de0f42f99da9"
      },
      "execution_count": 10,
      "outputs": [
        {
          "output_type": "execute_result",
          "data": {
            "text/plain": [
              "tensor([[-0.8908,  1.5100, -0.3919,  0.3033],\n",
              "        [ 1.3150,  0.8491, -0.5049,  0.1708],\n",
              "        [-0.5798, -0.4325,  0.9730,  1.3282]])"
            ]
          },
          "metadata": {},
          "execution_count": 10
        }
      ]
    },
    {
      "cell_type": "code",
      "source": [
        "torch.randn((1, 3, 2, 1)).size()"
      ],
      "metadata": {
        "colab": {
          "base_uri": "https://localhost:8080/"
        },
        "id": "cAx-Szu6Ejpz",
        "outputId": "a1bab6aa-328c-4e0c-b9db-60088e79d96e"
      },
      "execution_count": 11,
      "outputs": [
        {
          "output_type": "execute_result",
          "data": {
            "text/plain": [
              "torch.Size([1, 3, 2, 1])"
            ]
          },
          "metadata": {},
          "execution_count": 11
        }
      ]
    },
    {
      "cell_type": "markdown",
      "source": [
        "# 5. torch.randint()"
      ],
      "metadata": {
        "id": "i5YDhZAgEqSN"
      }
    },
    {
      "cell_type": "code",
      "source": [
        "torch.randint(0, 20, (20, ))"
      ],
      "metadata": {
        "colab": {
          "base_uri": "https://localhost:8080/"
        },
        "id": "WP7MduxiEmaB",
        "outputId": "e7ac2883-1a03-4474-8823-2d2ed169a6df"
      },
      "execution_count": 12,
      "outputs": [
        {
          "output_type": "execute_result",
          "data": {
            "text/plain": [
              "tensor([ 1,  9,  0,  9, 18, 14,  7, 12, 18,  3,  1,  6,  6, 15,  4, 18,  5,  7,\n",
              "        11,  0])"
            ]
          },
          "metadata": {},
          "execution_count": 12
        }
      ]
    },
    {
      "cell_type": "code",
      "source": [
        "torch.randint(0, 10, (3, 4))"
      ],
      "metadata": {
        "colab": {
          "base_uri": "https://localhost:8080/"
        },
        "id": "Aqs5DvZ7Eu9j",
        "outputId": "5e8e42c6-2cc0-48a1-c3eb-71176682b919"
      },
      "execution_count": 13,
      "outputs": [
        {
          "output_type": "execute_result",
          "data": {
            "text/plain": [
              "tensor([[4, 2, 2, 1],\n",
              "        [4, 1, 8, 7],\n",
              "        [1, 4, 5, 6]])"
            ]
          },
          "metadata": {},
          "execution_count": 13
        }
      ]
    },
    {
      "cell_type": "code",
      "source": [
        "torch.randint(0, 2, (32, 3, 64, 64)).size()"
      ],
      "metadata": {
        "colab": {
          "base_uri": "https://localhost:8080/"
        },
        "id": "xf3EVqUAEyQc",
        "outputId": "3db84ba8-eccb-4bdd-e147-3decdd1e4025"
      },
      "execution_count": 14,
      "outputs": [
        {
          "output_type": "execute_result",
          "data": {
            "text/plain": [
              "torch.Size([32, 3, 64, 64])"
            ]
          },
          "metadata": {},
          "execution_count": 14
        }
      ]
    },
    {
      "cell_type": "markdown",
      "source": [
        "# 6. torch.min()"
      ],
      "metadata": {
        "id": "36i8_6WpE4LD"
      }
    },
    {
      "cell_type": "code",
      "source": [
        "torch.randint(0, 10, (32, )).min()"
      ],
      "metadata": {
        "colab": {
          "base_uri": "https://localhost:8080/"
        },
        "id": "DV72yQ6uE2Se",
        "outputId": "421ab685-7fea-4ff9-86b1-4ab62ada4aa9"
      },
      "execution_count": 16,
      "outputs": [
        {
          "output_type": "execute_result",
          "data": {
            "text/plain": [
              "tensor(0)"
            ]
          },
          "metadata": {},
          "execution_count": 16
        }
      ]
    },
    {
      "cell_type": "code",
      "source": [
        "tensor = torch.randint(0, 10, (2, 4))\n",
        "print(tensor)\n",
        "value1, _ = tensor.min(dim = 0) # Column - 4\n",
        "value2, _ = tensor.min(dim = 1)  # Row - 2\n",
        "\n",
        "print(value1, value2)"
      ],
      "metadata": {
        "colab": {
          "base_uri": "https://localhost:8080/"
        },
        "id": "ZekPGZG5E9Z3",
        "outputId": "7eabfc52-4125-480d-9a30-f9b3fc177b39"
      },
      "execution_count": 19,
      "outputs": [
        {
          "output_type": "stream",
          "name": "stdout",
          "text": [
            "tensor([[2, 3, 4, 3],\n",
            "        [2, 1, 9, 1]])\n",
            "tensor([2, 1, 4, 1]) tensor([2, 1])\n"
          ]
        }
      ]
    },
    {
      "cell_type": "markdown",
      "source": [
        "# 7. torch.max()"
      ],
      "metadata": {
        "id": "AnSGE3EuFePl"
      }
    },
    {
      "cell_type": "code",
      "source": [
        "torch.randint(0, 10, (32, )).max()"
      ],
      "metadata": {
        "colab": {
          "base_uri": "https://localhost:8080/"
        },
        "id": "nDL2PYIaFOIz",
        "outputId": "f0d4667a-9fb6-4196-8452-5b5cbf32542a"
      },
      "execution_count": 21,
      "outputs": [
        {
          "output_type": "execute_result",
          "data": {
            "text/plain": [
              "tensor(9)"
            ]
          },
          "metadata": {},
          "execution_count": 21
        }
      ]
    },
    {
      "cell_type": "code",
      "source": [
        "value, _ = torch.randint(0, 10, (3, 4)).max(dim = 0)\n",
        "value"
      ],
      "metadata": {
        "colab": {
          "base_uri": "https://localhost:8080/"
        },
        "id": "QYEpkzyNFh9r",
        "outputId": "422b6b69-e4de-42f0-98ca-7901fb8120b2"
      },
      "execution_count": 22,
      "outputs": [
        {
          "output_type": "execute_result",
          "data": {
            "text/plain": [
              "tensor([8, 7, 4, 9])"
            ]
          },
          "metadata": {},
          "execution_count": 22
        }
      ]
    },
    {
      "cell_type": "code",
      "source": [
        "value, _ = torch.randint(0, 10, (3, 4)).max(dim = 1)\n",
        "value"
      ],
      "metadata": {
        "colab": {
          "base_uri": "https://localhost:8080/"
        },
        "id": "vr4eGkbUFqqS",
        "outputId": "fe50192b-624c-44d1-9012-cf0138d9cf5b"
      },
      "execution_count": 23,
      "outputs": [
        {
          "output_type": "execute_result",
          "data": {
            "text/plain": [
              "tensor([5, 5, 7])"
            ]
          },
          "metadata": {},
          "execution_count": 23
        }
      ]
    },
    {
      "cell_type": "code",
      "source": [
        "value, _ = torch.randn((1, 3, 4, 3)).max(dim = 1)\n",
        "value"
      ],
      "metadata": {
        "colab": {
          "base_uri": "https://localhost:8080/"
        },
        "id": "xUv4ong_FtYT",
        "outputId": "e6845f70-4a66-484a-c339-929fde3e501e"
      },
      "execution_count": 25,
      "outputs": [
        {
          "output_type": "execute_result",
          "data": {
            "text/plain": [
              "tensor([[[ 1.1840, -0.3923,  1.0294],\n",
              "         [ 0.9598, -0.0276, -1.0178],\n",
              "         [ 0.6873,  0.3620, -0.0695],\n",
              "         [ 0.5820,  0.8694,  1.1276]]])"
            ]
          },
          "metadata": {},
          "execution_count": 25
        }
      ]
    },
    {
      "cell_type": "markdown",
      "source": [
        "# 8. torch.mean()"
      ],
      "metadata": {
        "id": "grDkcKFyF6CI"
      }
    },
    {
      "cell_type": "code",
      "source": [
        "torch.randn((32, )).mean()"
      ],
      "metadata": {
        "colab": {
          "base_uri": "https://localhost:8080/"
        },
        "id": "2n1HuKW9FyA0",
        "outputId": "29c42868-c875-4843-c25f-cf58f53729c4"
      },
      "execution_count": 28,
      "outputs": [
        {
          "output_type": "execute_result",
          "data": {
            "text/plain": [
              "tensor(0.1523)"
            ]
          },
          "metadata": {},
          "execution_count": 28
        }
      ]
    },
    {
      "cell_type": "code",
      "source": [
        "torch.randn((3, 4)).mean(dim = 0) # Column"
      ],
      "metadata": {
        "colab": {
          "base_uri": "https://localhost:8080/"
        },
        "id": "r_1-3I17F_Kp",
        "outputId": "9b84ca36-5d67-4a43-926a-431ba3a3d8f2"
      },
      "execution_count": 29,
      "outputs": [
        {
          "output_type": "execute_result",
          "data": {
            "text/plain": [
              "tensor([ 0.6504,  0.1579,  0.1069, -0.7590])"
            ]
          },
          "metadata": {},
          "execution_count": 29
        }
      ]
    },
    {
      "cell_type": "code",
      "source": [
        "torch.randn((3, 4)).mean(dim = 1) # ROW"
      ],
      "metadata": {
        "colab": {
          "base_uri": "https://localhost:8080/"
        },
        "id": "TMRLAWMoGIA2",
        "outputId": "ce459c4f-ac8b-42c4-9fa9-70fcf4e8b154"
      },
      "execution_count": 31,
      "outputs": [
        {
          "output_type": "execute_result",
          "data": {
            "text/plain": [
              "tensor([ 0.1803,  0.0176, -0.4434])"
            ]
          },
          "metadata": {},
          "execution_count": 31
        }
      ]
    },
    {
      "cell_type": "markdown",
      "source": [
        "# 9. torch.median()"
      ],
      "metadata": {
        "id": "zz2AlmxGGOEZ"
      }
    },
    {
      "cell_type": "code",
      "source": [
        "torch.randn((32, )).median()"
      ],
      "metadata": {
        "colab": {
          "base_uri": "https://localhost:8080/"
        },
        "id": "vRie8MB0GLkA",
        "outputId": "0da8ccda-3ca0-4242-96ef-658fedd66eae"
      },
      "execution_count": 32,
      "outputs": [
        {
          "output_type": "execute_result",
          "data": {
            "text/plain": [
              "tensor(-0.0591)"
            ]
          },
          "metadata": {},
          "execution_count": 32
        }
      ]
    },
    {
      "cell_type": "code",
      "source": [
        "value, _ = torch.randn((3, 4)).median(dim = 0) # Column\n",
        "value"
      ],
      "metadata": {
        "colab": {
          "base_uri": "https://localhost:8080/"
        },
        "id": "k_1ZA9bwGZWN",
        "outputId": "2aeabeef-dbb0-49c9-bce8-d48085f6d185"
      },
      "execution_count": 34,
      "outputs": [
        {
          "output_type": "execute_result",
          "data": {
            "text/plain": [
              "tensor([ 0.1355,  0.8060, -0.6115,  0.3586])"
            ]
          },
          "metadata": {},
          "execution_count": 34
        }
      ]
    },
    {
      "cell_type": "code",
      "source": [
        "value, _ = torch.randn((3, 10)).median(dim = 1) # ROW wise\n",
        "value"
      ],
      "metadata": {
        "colab": {
          "base_uri": "https://localhost:8080/"
        },
        "id": "shPv8PBcGdP3",
        "outputId": "49534b09-6689-44e7-e6c9-2935db9e5573"
      },
      "execution_count": 35,
      "outputs": [
        {
          "output_type": "execute_result",
          "data": {
            "text/plain": [
              "tensor([-0.2348, -0.6503,  0.3515])"
            ]
          },
          "metadata": {},
          "execution_count": 35
        }
      ]
    },
    {
      "cell_type": "markdown",
      "source": [
        "# 10. torch.std()"
      ],
      "metadata": {
        "id": "4NiDOKcgGn8k"
      }
    },
    {
      "cell_type": "code",
      "source": [
        "torch.randn((32, )).std()"
      ],
      "metadata": {
        "colab": {
          "base_uri": "https://localhost:8080/"
        },
        "id": "2kHgIqbwGmiT",
        "outputId": "cd2d46e9-60cd-4832-c3be-9275f82632c4"
      },
      "execution_count": 36,
      "outputs": [
        {
          "output_type": "execute_result",
          "data": {
            "text/plain": [
              "tensor(1.0402)"
            ]
          },
          "metadata": {},
          "execution_count": 36
        }
      ]
    },
    {
      "cell_type": "code",
      "source": [
        "torch.randn((3, 4)).std(dim = 0)"
      ],
      "metadata": {
        "colab": {
          "base_uri": "https://localhost:8080/"
        },
        "id": "JpVZtQuMGsgt",
        "outputId": "ebb7fc39-bba2-46b1-9af4-3c87b1b61c5d"
      },
      "execution_count": 37,
      "outputs": [
        {
          "output_type": "execute_result",
          "data": {
            "text/plain": [
              "tensor([0.1922, 0.3237, 1.0191, 0.4712])"
            ]
          },
          "metadata": {},
          "execution_count": 37
        }
      ]
    },
    {
      "cell_type": "code",
      "source": [
        "torch.randn((3, 4)).std(dim = 1)"
      ],
      "metadata": {
        "colab": {
          "base_uri": "https://localhost:8080/"
        },
        "id": "l7ISRmTYGwl2",
        "outputId": "9bc7ffe0-3f67-4f9f-c315-ae936172f8f8"
      },
      "execution_count": 38,
      "outputs": [
        {
          "output_type": "execute_result",
          "data": {
            "text/plain": [
              "tensor([0.9066, 0.8115, 0.6642])"
            ]
          },
          "metadata": {},
          "execution_count": 38
        }
      ]
    },
    {
      "cell_type": "markdown",
      "source": [
        "# 11. torch.var()"
      ],
      "metadata": {
        "id": "FDtnRLWoG1j3"
      }
    },
    {
      "cell_type": "code",
      "source": [
        "torch.randn((32, )).var()"
      ],
      "metadata": {
        "colab": {
          "base_uri": "https://localhost:8080/"
        },
        "id": "qTFI_SfuG0mh",
        "outputId": "99099d3c-bf4b-44ab-a9a3-31b51ff5ff3c"
      },
      "execution_count": 39,
      "outputs": [
        {
          "output_type": "execute_result",
          "data": {
            "text/plain": [
              "tensor(1.1771)"
            ]
          },
          "metadata": {},
          "execution_count": 39
        }
      ]
    },
    {
      "cell_type": "code",
      "source": [
        "torch.randn((3, 4)).var(dim = 0) # Column"
      ],
      "metadata": {
        "colab": {
          "base_uri": "https://localhost:8080/"
        },
        "id": "rYxZ4rGqG5VM",
        "outputId": "52645ddf-79d7-495d-d95f-cfe2fedc1d6b"
      },
      "execution_count": 40,
      "outputs": [
        {
          "output_type": "execute_result",
          "data": {
            "text/plain": [
              "tensor([1.2631, 1.1273, 0.0493, 1.5603])"
            ]
          },
          "metadata": {},
          "execution_count": 40
        }
      ]
    },
    {
      "cell_type": "code",
      "source": [
        "torch.randn((100, 4)).var(dim = 1) # ROW"
      ],
      "metadata": {
        "colab": {
          "base_uri": "https://localhost:8080/"
        },
        "id": "fm2q_snPG9wP",
        "outputId": "8c9b8bc2-5fbd-4fd4-b67c-4fba534a7d3e"
      },
      "execution_count": 41,
      "outputs": [
        {
          "output_type": "execute_result",
          "data": {
            "text/plain": [
              "tensor([1.4293, 0.4617, 1.2338, 0.1963, 1.3349, 3.1847, 2.0402, 0.0199, 2.8977,\n",
              "        0.5044, 0.3453, 0.9861, 0.3256, 1.3929, 0.6540, 1.1251, 0.5934, 0.9349,\n",
              "        1.0337, 1.4704, 0.7741, 0.3044, 1.2858, 1.4990, 1.9338, 1.2743, 0.0495,\n",
              "        1.0387, 0.3977, 1.4185, 0.4026, 0.0836, 1.0379, 0.6022, 0.2343, 1.5736,\n",
              "        0.8461, 4.9572, 1.9052, 0.3283, 0.9430, 0.4349, 0.7785, 2.3819, 1.1562,\n",
              "        1.3923, 0.8746, 1.8847, 1.2421, 0.5740, 0.5856, 0.1347, 2.2272, 0.2362,\n",
              "        0.3067, 0.6078, 1.5665, 1.0953, 0.9636, 0.4672, 0.1813, 0.5642, 0.3774,\n",
              "        1.4603, 1.9402, 0.5999, 0.1471, 0.9097, 0.1990, 0.0166, 0.9149, 0.8285,\n",
              "        1.4083, 1.0343, 0.2887, 1.7457, 1.6068, 0.5246, 0.8326, 1.3416, 1.0150,\n",
              "        3.4975, 0.9321, 0.7656, 0.3944, 1.0155, 0.2358, 3.3356, 0.4201, 1.6441,\n",
              "        1.6900, 2.2173, 2.1161, 1.1722, 0.2270, 0.9282, 1.5661, 1.6803, 0.8901,\n",
              "        0.7765])"
            ]
          },
          "metadata": {},
          "execution_count": 41
        }
      ]
    },
    {
      "cell_type": "markdown",
      "source": [
        "# 12. torch.size()"
      ],
      "metadata": {
        "id": "x9IBZHW1HGgr"
      }
    },
    {
      "cell_type": "code",
      "source": [
        "torch.randn((32, )).size()"
      ],
      "metadata": {
        "colab": {
          "base_uri": "https://localhost:8080/"
        },
        "id": "uuxdssI9HCvG",
        "outputId": "c443fb18-7978-46c0-f228-ce93c63f6634"
      },
      "execution_count": 42,
      "outputs": [
        {
          "output_type": "execute_result",
          "data": {
            "text/plain": [
              "torch.Size([32])"
            ]
          },
          "metadata": {},
          "execution_count": 42
        }
      ]
    },
    {
      "cell_type": "code",
      "source": [
        "torch.randn((3, 4)).size()"
      ],
      "metadata": {
        "colab": {
          "base_uri": "https://localhost:8080/"
        },
        "id": "MC3inEBwHKrq",
        "outputId": "046bb151-5c91-450d-eaff-49192cb74d41"
      },
      "execution_count": 43,
      "outputs": [
        {
          "output_type": "execute_result",
          "data": {
            "text/plain": [
              "torch.Size([3, 4])"
            ]
          },
          "metadata": {},
          "execution_count": 43
        }
      ]
    },
    {
      "cell_type": "code",
      "source": [
        "torch.randn((64, 3, 128, 128)).size()"
      ],
      "metadata": {
        "colab": {
          "base_uri": "https://localhost:8080/"
        },
        "id": "idS5CG_KHNOy",
        "outputId": "199a3572-f068-443a-a3b1-3a404e946939"
      },
      "execution_count": 44,
      "outputs": [
        {
          "output_type": "execute_result",
          "data": {
            "text/plain": [
              "torch.Size([64, 3, 128, 128])"
            ]
          },
          "metadata": {},
          "execution_count": 44
        }
      ]
    },
    {
      "cell_type": "code",
      "source": [
        "torch.randn((64, 3, 128, 128)).size(0), torch.randn((64, 3, 128, 128)).size(1), torch.randn((64, 3, 128, 128)).size(2), torch.randn((64, 3, 128, 128)).size(3)"
      ],
      "metadata": {
        "colab": {
          "base_uri": "https://localhost:8080/"
        },
        "id": "Ni5goLv-HQOT",
        "outputId": "43b89b72-b472-42a2-81c4-7c86dbcc073d"
      },
      "execution_count": 45,
      "outputs": [
        {
          "output_type": "execute_result",
          "data": {
            "text/plain": [
              "(64, 3, 128, 128)"
            ]
          },
          "metadata": {},
          "execution_count": 45
        }
      ]
    },
    {
      "cell_type": "markdown",
      "source": [
        "# 13. torch.shape"
      ],
      "metadata": {
        "id": "YQh_mqfrHX_D"
      }
    },
    {
      "cell_type": "code",
      "source": [
        "torch.randn((32, )).shape"
      ],
      "metadata": {
        "colab": {
          "base_uri": "https://localhost:8080/"
        },
        "id": "sZpSEIgkHUTE",
        "outputId": "373732b1-61a3-4633-a9eb-c556fc470552"
      },
      "execution_count": 47,
      "outputs": [
        {
          "output_type": "execute_result",
          "data": {
            "text/plain": [
              "torch.Size([32])"
            ]
          },
          "metadata": {},
          "execution_count": 47
        }
      ]
    },
    {
      "cell_type": "code",
      "source": [
        "torch.randint(0, 10, (3, 4)).shape"
      ],
      "metadata": {
        "colab": {
          "base_uri": "https://localhost:8080/"
        },
        "id": "GhrSmukUHbUe",
        "outputId": "2ebe02ee-bdd1-43da-fd2e-44a19bc313fe"
      },
      "execution_count": 48,
      "outputs": [
        {
          "output_type": "execute_result",
          "data": {
            "text/plain": [
              "torch.Size([3, 4])"
            ]
          },
          "metadata": {},
          "execution_count": 48
        }
      ]
    },
    {
      "cell_type": "code",
      "source": [
        "torch.randint(0, 10, (3, 4)).shape[-2], torch.randint(0, 10, (3, 4)).shape[-1]"
      ],
      "metadata": {
        "colab": {
          "base_uri": "https://localhost:8080/"
        },
        "id": "D_wszMsdHfay",
        "outputId": "17fd9fec-5a7d-4e50-d705-46ecc22e1ab0"
      },
      "execution_count": 49,
      "outputs": [
        {
          "output_type": "execute_result",
          "data": {
            "text/plain": [
              "(3, 4)"
            ]
          },
          "metadata": {},
          "execution_count": 49
        }
      ]
    },
    {
      "cell_type": "markdown",
      "source": [
        "# 14. torch.view()"
      ],
      "metadata": {
        "id": "CNkCgEpOHj6R"
      }
    },
    {
      "cell_type": "code",
      "source": [
        "torch.randn((32, )).view(4, 8)"
      ],
      "metadata": {
        "colab": {
          "base_uri": "https://localhost:8080/"
        },
        "id": "ut4NcYQQHihH",
        "outputId": "b265ae04-e2b4-4d09-8b6e-24802bc87588"
      },
      "execution_count": 51,
      "outputs": [
        {
          "output_type": "execute_result",
          "data": {
            "text/plain": [
              "tensor([[ 0.1176, -1.5417, -0.7072,  0.7718, -0.0225, -0.9214, -0.8569,  0.0078],\n",
              "        [-0.6288, -0.3703,  0.2088,  0.3321, -0.2647,  0.0927,  0.2509,  1.7455],\n",
              "        [ 0.4709,  1.8086,  0.1697, -1.2084, -0.7918, -0.1434,  0.1554, -0.2985],\n",
              "        [ 1.4156, -0.6272, -0.3088,  1.0513, -0.3334, -1.4484,  0.2837,  0.8279]])"
            ]
          },
          "metadata": {},
          "execution_count": 51
        }
      ]
    },
    {
      "cell_type": "code",
      "source": [
        "torch.randint(0, 10, (4, 5)).view(-1)"
      ],
      "metadata": {
        "colab": {
          "base_uri": "https://localhost:8080/"
        },
        "id": "FEx0I8j7HoE_",
        "outputId": "c2388052-36c5-4383-da3b-c9b598a20c27"
      },
      "execution_count": 52,
      "outputs": [
        {
          "output_type": "execute_result",
          "data": {
            "text/plain": [
              "tensor([8, 1, 5, 1, 0, 0, 7, 9, 2, 8, 7, 8, 2, 2, 4, 6, 5, 3, 9, 0])"
            ]
          },
          "metadata": {},
          "execution_count": 52
        }
      ]
    },
    {
      "cell_type": "code",
      "source": [
        "tensor = torch.randint(0, 10, (64, 3, 128, 128))\n",
        "\n",
        "tensor.view(tensor.size(0), tensor.size(2), tensor.size(3), tensor.size(1)).size()"
      ],
      "metadata": {
        "colab": {
          "base_uri": "https://localhost:8080/"
        },
        "id": "gvMU4NQbHven",
        "outputId": "dfa4c78a-292f-4b5f-de9b-5f9d03746440"
      },
      "execution_count": 56,
      "outputs": [
        {
          "output_type": "execute_result",
          "data": {
            "text/plain": [
              "torch.Size([64, 128, 128, 3])"
            ]
          },
          "metadata": {},
          "execution_count": 56
        }
      ]
    },
    {
      "cell_type": "markdown",
      "source": [
        "# 15.torch.reshape()"
      ],
      "metadata": {
        "id": "XS5x7_AzIJzd"
      }
    },
    {
      "cell_type": "code",
      "source": [
        "torch.rand((4, 5)).reshape(-1, 1, 5).size()"
      ],
      "metadata": {
        "colab": {
          "base_uri": "https://localhost:8080/"
        },
        "id": "QyvJTR_-H_ML",
        "outputId": "d0005be0-904f-4d84-9a30-13141e26281b"
      },
      "execution_count": 58,
      "outputs": [
        {
          "output_type": "execute_result",
          "data": {
            "text/plain": [
              "torch.Size([4, 1, 5])"
            ]
          },
          "metadata": {},
          "execution_count": 58
        }
      ]
    },
    {
      "cell_type": "code",
      "source": [
        "torch.randn((4, 4)).reshape(-1)"
      ],
      "metadata": {
        "colab": {
          "base_uri": "https://localhost:8080/"
        },
        "id": "sYS2lIbNISQC",
        "outputId": "5626552b-c8e6-4047-f3cd-534bde27ff9b"
      },
      "execution_count": 59,
      "outputs": [
        {
          "output_type": "execute_result",
          "data": {
            "text/plain": [
              "tensor([-0.7084,  0.7673,  1.0781, -2.0816,  1.3111,  0.3137, -0.5448,  0.3935,\n",
              "        -1.1664,  0.5169,  0.6165,  0.9459, -0.9768, -1.1498, -0.3106,  0.3427])"
            ]
          },
          "metadata": {},
          "execution_count": 59
        }
      ]
    },
    {
      "cell_type": "code",
      "source": [
        "torch.rand((1, 3, 64, 64)).reshape(-1, 64 * 3).size()"
      ],
      "metadata": {
        "colab": {
          "base_uri": "https://localhost:8080/"
        },
        "id": "xyND-hqvIXsR",
        "outputId": "95a58651-ec60-443e-f5e0-56558653fc40"
      },
      "execution_count": 63,
      "outputs": [
        {
          "output_type": "execute_result",
          "data": {
            "text/plain": [
              "torch.Size([64, 192])"
            ]
          },
          "metadata": {},
          "execution_count": 63
        }
      ]
    },
    {
      "cell_type": "markdown",
      "source": [
        "# 16. torch.cat()/concat()"
      ],
      "metadata": {
        "id": "vDf7YSAlInSl"
      }
    },
    {
      "cell_type": "code",
      "source": [
        "tensor1 = torch.randn((3, 4))\n",
        "tensor2 = torch.randn((3, 3))\n",
        "\n",
        "torch.cat((tensor1, tensor2), dim = 1) # Column wise\n",
        "torch.cat((tensor1, tensor2), dim = 1).size() # Column wise"
      ],
      "metadata": {
        "colab": {
          "base_uri": "https://localhost:8080/"
        },
        "id": "lWrD2V1DIdQu",
        "outputId": "c679e097-bafb-4e80-f74e-cb8b2b35ec5f"
      },
      "execution_count": 65,
      "outputs": [
        {
          "output_type": "execute_result",
          "data": {
            "text/plain": [
              "torch.Size([3, 7])"
            ]
          },
          "metadata": {},
          "execution_count": 65
        }
      ]
    },
    {
      "cell_type": "code",
      "source": [
        "tensor1 = torch.randn((1, 3, 128, 128))\n",
        "tensor2 = torch.randn((31, 3, 128, 128))\n",
        "\n",
        "torch.cat((tensor1, tensor2), dim = 0).size() # 32, 3, 128, 128"
      ],
      "metadata": {
        "colab": {
          "base_uri": "https://localhost:8080/"
        },
        "id": "pXrOTFk8I2No",
        "outputId": "d2224ac4-3c35-487a-fdda-a11ff3c2b3e1"
      },
      "execution_count": 66,
      "outputs": [
        {
          "output_type": "execute_result",
          "data": {
            "text/plain": [
              "torch.Size([32, 3, 128, 128])"
            ]
          },
          "metadata": {},
          "execution_count": 66
        }
      ]
    },
    {
      "cell_type": "code",
      "source": [
        "tensor1 = torch.randn((32, 1, 128, 128))\n",
        "tensor2 = torch.randn((32, 2, 128, 128))\n",
        "\n",
        "torch.cat((tensor1, tensor2), dim = 1).size()"
      ],
      "metadata": {
        "colab": {
          "base_uri": "https://localhost:8080/"
        },
        "id": "AiNuV7gVJHXb",
        "outputId": "37c68f91-6c07-4e13-d7f5-527c063fb97c"
      },
      "execution_count": 67,
      "outputs": [
        {
          "output_type": "execute_result",
          "data": {
            "text/plain": [
              "torch.Size([32, 3, 128, 128])"
            ]
          },
          "metadata": {},
          "execution_count": 67
        }
      ]
    },
    {
      "cell_type": "markdown",
      "source": [
        "# 17. torch.linspace()"
      ],
      "metadata": {
        "id": "53bQTGZHJXAl"
      }
    },
    {
      "cell_type": "code",
      "source": [
        "torch.linspace(0, 100, 20)"
      ],
      "metadata": {
        "colab": {
          "base_uri": "https://localhost:8080/"
        },
        "id": "vBiSTGW9JVMU",
        "outputId": "993ddb3b-816c-4e7f-f187-2fd8efc22b21"
      },
      "execution_count": 68,
      "outputs": [
        {
          "output_type": "execute_result",
          "data": {
            "text/plain": [
              "tensor([  0.0000,   5.2632,  10.5263,  15.7895,  21.0526,  26.3158,  31.5789,\n",
              "         36.8421,  42.1053,  47.3684,  52.6316,  57.8947,  63.1579,  68.4211,\n",
              "         73.6842,  78.9474,  84.2105,  89.4737,  94.7368, 100.0000])"
            ]
          },
          "metadata": {},
          "execution_count": 68
        }
      ]
    },
    {
      "cell_type": "markdown",
      "source": [
        "# 18. torch.logspace()"
      ],
      "metadata": {
        "id": "pNy3fj_MJeJh"
      }
    },
    {
      "cell_type": "code",
      "source": [
        "torch.logspace(0, 20, 3).size() # 3"
      ],
      "metadata": {
        "colab": {
          "base_uri": "https://localhost:8080/"
        },
        "id": "_UoL26IWJceb",
        "outputId": "1a596fc2-a787-4bd1-8887-57765b026024"
      },
      "execution_count": 69,
      "outputs": [
        {
          "output_type": "execute_result",
          "data": {
            "text/plain": [
              "torch.Size([3])"
            ]
          },
          "metadata": {},
          "execution_count": 69
        }
      ]
    },
    {
      "cell_type": "markdown",
      "source": [
        "# 19. torch.aranage()"
      ],
      "metadata": {
        "id": "KM4qP_fYJor9"
      }
    },
    {
      "cell_type": "code",
      "source": [
        "torch.arange(0, 100, 20).size()"
      ],
      "metadata": {
        "colab": {
          "base_uri": "https://localhost:8080/"
        },
        "id": "wkYz9ILlJm-_",
        "outputId": "16231d17-51f2-4160-c501-39f2ee5f0dab"
      },
      "execution_count": 70,
      "outputs": [
        {
          "output_type": "execute_result",
          "data": {
            "text/plain": [
              "torch.Size([5])"
            ]
          },
          "metadata": {},
          "execution_count": 70
        }
      ]
    },
    {
      "cell_type": "code",
      "source": [
        "torch.arange(0, 20, 100).size() # 1"
      ],
      "metadata": {
        "colab": {
          "base_uri": "https://localhost:8080/"
        },
        "id": "_JqtlsOkJvfW",
        "outputId": "d9c08936-5c12-46ab-b966-8a6f2abce09e"
      },
      "execution_count": 72,
      "outputs": [
        {
          "output_type": "execute_result",
          "data": {
            "text/plain": [
              "torch.Size([1])"
            ]
          },
          "metadata": {},
          "execution_count": 72
        }
      ]
    },
    {
      "cell_type": "markdown",
      "source": [
        "# 20. torch.flatten()"
      ],
      "metadata": {
        "id": "4x4e-saqJ2Z2"
      }
    },
    {
      "cell_type": "code",
      "source": [
        "torch.randn((3, 4)).size()"
      ],
      "metadata": {
        "colab": {
          "base_uri": "https://localhost:8080/"
        },
        "id": "Yt8V1zG3JzwG",
        "outputId": "3d018e27-81a7-4ac9-ac0a-b6738a9d07bb"
      },
      "execution_count": 73,
      "outputs": [
        {
          "output_type": "execute_result",
          "data": {
            "text/plain": [
              "torch.Size([3, 4])"
            ]
          },
          "metadata": {},
          "execution_count": 73
        }
      ]
    },
    {
      "cell_type": "code",
      "source": [
        "torch.randn((3, 4)).flatten() # 12"
      ],
      "metadata": {
        "colab": {
          "base_uri": "https://localhost:8080/"
        },
        "id": "45iM4Z2oJ62C",
        "outputId": "3864c9dc-b6a5-4bae-cafe-0f483c1940a6"
      },
      "execution_count": 74,
      "outputs": [
        {
          "output_type": "execute_result",
          "data": {
            "text/plain": [
              "tensor([-1.1507, -1.4161, -0.0726,  0.2527, -0.4816, -0.5236, -0.4865, -0.8100,\n",
              "         0.5297, -1.5634,  0.9782, -1.3677])"
            ]
          },
          "metadata": {},
          "execution_count": 74
        }
      ]
    },
    {
      "cell_type": "code",
      "source": [
        "torch.randn((1, 3, 128, 128)).flatten().size()"
      ],
      "metadata": {
        "colab": {
          "base_uri": "https://localhost:8080/"
        },
        "id": "7YBsHBTkJ9pS",
        "outputId": "2b6ae5d6-5d93-482c-e628-44c89f626a8b"
      },
      "execution_count": 76,
      "outputs": [
        {
          "output_type": "execute_result",
          "data": {
            "text/plain": [
              "torch.Size([49152])"
            ]
          },
          "metadata": {},
          "execution_count": 76
        }
      ]
    },
    {
      "cell_type": "markdown",
      "source": [
        "# 21. torch.zeros()"
      ],
      "metadata": {
        "id": "vi1-xDygKFAF"
      }
    },
    {
      "cell_type": "code",
      "source": [
        "torch.zeros((32, ))"
      ],
      "metadata": {
        "colab": {
          "base_uri": "https://localhost:8080/"
        },
        "id": "LoTlbmHlKBnp",
        "outputId": "0b33d155-910d-4169-b744-da5171776fa3"
      },
      "execution_count": 77,
      "outputs": [
        {
          "output_type": "execute_result",
          "data": {
            "text/plain": [
              "tensor([0., 0., 0., 0., 0., 0., 0., 0., 0., 0., 0., 0., 0., 0., 0., 0., 0., 0., 0., 0., 0., 0., 0., 0.,\n",
              "        0., 0., 0., 0., 0., 0., 0., 0.])"
            ]
          },
          "metadata": {},
          "execution_count": 77
        }
      ]
    },
    {
      "cell_type": "code",
      "source": [
        "torch.zeros((3, 4)).size()"
      ],
      "metadata": {
        "colab": {
          "base_uri": "https://localhost:8080/"
        },
        "id": "yjjIJWgkKIkM",
        "outputId": "b9d6647e-d03c-42bf-a061-2ecdb170d7a8"
      },
      "execution_count": 78,
      "outputs": [
        {
          "output_type": "execute_result",
          "data": {
            "text/plain": [
              "torch.Size([3, 4])"
            ]
          },
          "metadata": {},
          "execution_count": 78
        }
      ]
    },
    {
      "cell_type": "code",
      "source": [
        "torch.zeros((1, 3, 128, 128)).size()"
      ],
      "metadata": {
        "colab": {
          "base_uri": "https://localhost:8080/"
        },
        "id": "xi75hr1rKL9M",
        "outputId": "3c097f99-8eb8-4c56-8d6d-f4ce6ed9a855"
      },
      "execution_count": 79,
      "outputs": [
        {
          "output_type": "execute_result",
          "data": {
            "text/plain": [
              "torch.Size([1, 3, 128, 128])"
            ]
          },
          "metadata": {},
          "execution_count": 79
        }
      ]
    },
    {
      "cell_type": "markdown",
      "source": [
        "# 22. torch.ones()"
      ],
      "metadata": {
        "id": "ctiMohsCKPEY"
      }
    },
    {
      "cell_type": "code",
      "source": [
        "torch.ones((32, ))"
      ],
      "metadata": {
        "colab": {
          "base_uri": "https://localhost:8080/"
        },
        "id": "bx7XNFCxKOUv",
        "outputId": "6402471d-4fb3-44a2-fe33-64eaea86bc96"
      },
      "execution_count": 80,
      "outputs": [
        {
          "output_type": "execute_result",
          "data": {
            "text/plain": [
              "tensor([1., 1., 1., 1., 1., 1., 1., 1., 1., 1., 1., 1., 1., 1., 1., 1., 1., 1.,\n",
              "        1., 1., 1., 1., 1., 1., 1., 1., 1., 1., 1., 1., 1., 1.])"
            ]
          },
          "metadata": {},
          "execution_count": 80
        }
      ]
    },
    {
      "cell_type": "code",
      "source": [
        "torch.ones((2, 3))"
      ],
      "metadata": {
        "colab": {
          "base_uri": "https://localhost:8080/"
        },
        "id": "rlEt9zhFKSf4",
        "outputId": "88c65ab1-61b9-4e63-d761-261a607c1d11"
      },
      "execution_count": 81,
      "outputs": [
        {
          "output_type": "execute_result",
          "data": {
            "text/plain": [
              "tensor([[1., 1., 1.],\n",
              "        [1., 1., 1.]])"
            ]
          },
          "metadata": {},
          "execution_count": 81
        }
      ]
    },
    {
      "cell_type": "code",
      "source": [
        "torch.ones((1, 3, 128, 128)).size()"
      ],
      "metadata": {
        "colab": {
          "base_uri": "https://localhost:8080/"
        },
        "id": "5lpI-aOvKUCu",
        "outputId": "297d288b-d3fd-4f59-e522-efdffcb77bd3"
      },
      "execution_count": 82,
      "outputs": [
        {
          "output_type": "execute_result",
          "data": {
            "text/plain": [
              "torch.Size([1, 3, 128, 128])"
            ]
          },
          "metadata": {},
          "execution_count": 82
        }
      ]
    },
    {
      "cell_type": "markdown",
      "source": [
        "# 23. torch.ones_like()"
      ],
      "metadata": {
        "id": "Obt5nNZdKYVh"
      }
    },
    {
      "cell_type": "code",
      "source": [
        "torch.ones_like(torch.randint(0, 10, (64, ))).size()"
      ],
      "metadata": {
        "colab": {
          "base_uri": "https://localhost:8080/"
        },
        "id": "y-56iCw3KXe4",
        "outputId": "464e0f18-b0b3-410d-80d4-7bba0551fea5"
      },
      "execution_count": 83,
      "outputs": [
        {
          "output_type": "execute_result",
          "data": {
            "text/plain": [
              "torch.Size([64])"
            ]
          },
          "metadata": {},
          "execution_count": 83
        }
      ]
    },
    {
      "cell_type": "code",
      "source": [
        "torch.ones_like(torch.randint(0, 10, (3, 4)))"
      ],
      "metadata": {
        "colab": {
          "base_uri": "https://localhost:8080/"
        },
        "id": "DQNr8JCLKfvr",
        "outputId": "91defdc8-a8e0-4f9a-dbad-c6df165cb2ec"
      },
      "execution_count": 84,
      "outputs": [
        {
          "output_type": "execute_result",
          "data": {
            "text/plain": [
              "tensor([[1, 1, 1, 1],\n",
              "        [1, 1, 1, 1],\n",
              "        [1, 1, 1, 1]])"
            ]
          },
          "metadata": {},
          "execution_count": 84
        }
      ]
    },
    {
      "cell_type": "code",
      "source": [
        "torch.ones_like(torch.full((1, 3, 128, 128), 0.0001))"
      ],
      "metadata": {
        "colab": {
          "base_uri": "https://localhost:8080/"
        },
        "id": "eTPsJaHNKlbx",
        "outputId": "c3205f26-2eea-472c-d480-601c3d815be5"
      },
      "execution_count": 85,
      "outputs": [
        {
          "output_type": "execute_result",
          "data": {
            "text/plain": [
              "tensor([[[[1., 1., 1.,  ..., 1., 1., 1.],\n",
              "          [1., 1., 1.,  ..., 1., 1., 1.],\n",
              "          [1., 1., 1.,  ..., 1., 1., 1.],\n",
              "          ...,\n",
              "          [1., 1., 1.,  ..., 1., 1., 1.],\n",
              "          [1., 1., 1.,  ..., 1., 1., 1.],\n",
              "          [1., 1., 1.,  ..., 1., 1., 1.]],\n",
              "\n",
              "         [[1., 1., 1.,  ..., 1., 1., 1.],\n",
              "          [1., 1., 1.,  ..., 1., 1., 1.],\n",
              "          [1., 1., 1.,  ..., 1., 1., 1.],\n",
              "          ...,\n",
              "          [1., 1., 1.,  ..., 1., 1., 1.],\n",
              "          [1., 1., 1.,  ..., 1., 1., 1.],\n",
              "          [1., 1., 1.,  ..., 1., 1., 1.]],\n",
              "\n",
              "         [[1., 1., 1.,  ..., 1., 1., 1.],\n",
              "          [1., 1., 1.,  ..., 1., 1., 1.],\n",
              "          [1., 1., 1.,  ..., 1., 1., 1.],\n",
              "          ...,\n",
              "          [1., 1., 1.,  ..., 1., 1., 1.],\n",
              "          [1., 1., 1.,  ..., 1., 1., 1.],\n",
              "          [1., 1., 1.,  ..., 1., 1., 1.]]]])"
            ]
          },
          "metadata": {},
          "execution_count": 85
        }
      ]
    },
    {
      "cell_type": "markdown",
      "source": [
        "# 24. torch.zeros_like()"
      ],
      "metadata": {
        "id": "RVQCiB-KKtse"
      }
    },
    {
      "cell_type": "code",
      "source": [
        "torch.zeros_like(torch.randn(4, 2)).size()"
      ],
      "metadata": {
        "colab": {
          "base_uri": "https://localhost:8080/"
        },
        "id": "5FlyTq7IKsTw",
        "outputId": "c71acd10-ea0d-4595-8fbd-3bdd44616d0f"
      },
      "execution_count": 86,
      "outputs": [
        {
          "output_type": "execute_result",
          "data": {
            "text/plain": [
              "torch.Size([4, 2])"
            ]
          },
          "metadata": {},
          "execution_count": 86
        }
      ]
    },
    {
      "cell_type": "code",
      "source": [
        "torch.zeros_like(torch.randint(0,10, (32, 32, 32))).size()"
      ],
      "metadata": {
        "colab": {
          "base_uri": "https://localhost:8080/"
        },
        "id": "HC3FALsBK1Rq",
        "outputId": "2c77304c-f8e1-4fa0-d5ac-935d659df3a3"
      },
      "execution_count": 87,
      "outputs": [
        {
          "output_type": "execute_result",
          "data": {
            "text/plain": [
              "torch.Size([32, 32, 32])"
            ]
          },
          "metadata": {},
          "execution_count": 87
        }
      ]
    },
    {
      "cell_type": "code",
      "source": [
        "torch.zeros_like(torch.randint(0,10, (64, 32, 32, 32))).size()"
      ],
      "metadata": {
        "colab": {
          "base_uri": "https://localhost:8080/"
        },
        "id": "RJoXAlN2K9rd",
        "outputId": "bf8dc923-5dd1-4989-c00a-c6c4d14ac8af"
      },
      "execution_count": 88,
      "outputs": [
        {
          "output_type": "execute_result",
          "data": {
            "text/plain": [
              "torch.Size([64, 32, 32, 32])"
            ]
          },
          "metadata": {},
          "execution_count": 88
        }
      ]
    },
    {
      "cell_type": "markdown",
      "source": [
        "# 25. torch.full()"
      ],
      "metadata": {
        "id": "ywXEG1uFLBG0"
      }
    },
    {
      "cell_type": "code",
      "source": [
        "torch.full((32, ), -1e-2)"
      ],
      "metadata": {
        "colab": {
          "base_uri": "https://localhost:8080/"
        },
        "id": "7UIGrnPRLALR",
        "outputId": "07c8e83b-a3b5-44de-a7eb-3f0c947ea054"
      },
      "execution_count": 89,
      "outputs": [
        {
          "output_type": "execute_result",
          "data": {
            "text/plain": [
              "tensor([-0.0100, -0.0100, -0.0100, -0.0100, -0.0100, -0.0100, -0.0100, -0.0100,\n",
              "        -0.0100, -0.0100, -0.0100, -0.0100, -0.0100, -0.0100, -0.0100, -0.0100,\n",
              "        -0.0100, -0.0100, -0.0100, -0.0100, -0.0100, -0.0100, -0.0100, -0.0100,\n",
              "        -0.0100, -0.0100, -0.0100, -0.0100, -0.0100, -0.0100, -0.0100, -0.0100])"
            ]
          },
          "metadata": {},
          "execution_count": 89
        }
      ]
    },
    {
      "cell_type": "code",
      "source": [
        "torch.full((3, 4), -1.01)"
      ],
      "metadata": {
        "colab": {
          "base_uri": "https://localhost:8080/"
        },
        "id": "ByGR0bo6LHJU",
        "outputId": "b1a21319-c4af-489c-a3d5-c521dc267aa0"
      },
      "execution_count": 90,
      "outputs": [
        {
          "output_type": "execute_result",
          "data": {
            "text/plain": [
              "tensor([[-1.0100, -1.0100, -1.0100, -1.0100],\n",
              "        [-1.0100, -1.0100, -1.0100, -1.0100],\n",
              "        [-1.0100, -1.0100, -1.0100, -1.0100]])"
            ]
          },
          "metadata": {},
          "execution_count": 90
        }
      ]
    },
    {
      "cell_type": "code",
      "source": [
        "torch.full((1, 3, 128, 128), float(\"inf\"))"
      ],
      "metadata": {
        "colab": {
          "base_uri": "https://localhost:8080/"
        },
        "id": "3JaDNQqbLKmN",
        "outputId": "4808c5cd-8cda-483a-caec-427870de45aa"
      },
      "execution_count": 91,
      "outputs": [
        {
          "output_type": "execute_result",
          "data": {
            "text/plain": [
              "tensor([[[[inf, inf, inf,  ..., inf, inf, inf],\n",
              "          [inf, inf, inf,  ..., inf, inf, inf],\n",
              "          [inf, inf, inf,  ..., inf, inf, inf],\n",
              "          ...,\n",
              "          [inf, inf, inf,  ..., inf, inf, inf],\n",
              "          [inf, inf, inf,  ..., inf, inf, inf],\n",
              "          [inf, inf, inf,  ..., inf, inf, inf]],\n",
              "\n",
              "         [[inf, inf, inf,  ..., inf, inf, inf],\n",
              "          [inf, inf, inf,  ..., inf, inf, inf],\n",
              "          [inf, inf, inf,  ..., inf, inf, inf],\n",
              "          ...,\n",
              "          [inf, inf, inf,  ..., inf, inf, inf],\n",
              "          [inf, inf, inf,  ..., inf, inf, inf],\n",
              "          [inf, inf, inf,  ..., inf, inf, inf]],\n",
              "\n",
              "         [[inf, inf, inf,  ..., inf, inf, inf],\n",
              "          [inf, inf, inf,  ..., inf, inf, inf],\n",
              "          [inf, inf, inf,  ..., inf, inf, inf],\n",
              "          ...,\n",
              "          [inf, inf, inf,  ..., inf, inf, inf],\n",
              "          [inf, inf, inf,  ..., inf, inf, inf],\n",
              "          [inf, inf, inf,  ..., inf, inf, inf]]]])"
            ]
          },
          "metadata": {},
          "execution_count": 91
        }
      ]
    },
    {
      "cell_type": "markdown",
      "source": [
        "# 26. torch.unbind()"
      ],
      "metadata": {
        "id": "Ey0HfS18LRID"
      }
    },
    {
      "cell_type": "code",
      "source": [
        "torch.randn((3, 4)).unbind() # Tuple"
      ],
      "metadata": {
        "colab": {
          "base_uri": "https://localhost:8080/"
        },
        "id": "yKZ9HvOJLO1D",
        "outputId": "beb4cfd0-66d2-477a-ef56-c7f349095635"
      },
      "execution_count": 92,
      "outputs": [
        {
          "output_type": "execute_result",
          "data": {
            "text/plain": [
              "(tensor([-0.0693,  2.0306,  0.0519, -0.1673]),\n",
              " tensor([-1.1505,  0.2542,  0.5197,  2.1612]),\n",
              " tensor([-0.1325, -0.0031, -0.3239, -0.9847]))"
            ]
          },
          "metadata": {},
          "execution_count": 92
        }
      ]
    },
    {
      "cell_type": "code",
      "source": [
        "torch.randn((2, 3, 2, 2)).unbind()[0].size()"
      ],
      "metadata": {
        "colab": {
          "base_uri": "https://localhost:8080/"
        },
        "id": "dEA4kOQMLWtB",
        "outputId": "79c12e89-3452-4caf-ba1b-11286323089e"
      },
      "execution_count": 96,
      "outputs": [
        {
          "output_type": "execute_result",
          "data": {
            "text/plain": [
              "torch.Size([3, 2, 2])"
            ]
          },
          "metadata": {},
          "execution_count": 96
        }
      ]
    },
    {
      "cell_type": "markdown",
      "source": [
        "# 27. torch.tile()"
      ],
      "metadata": {
        "id": "Jl1HB4IBLfgJ"
      }
    },
    {
      "cell_type": "code",
      "source": [
        "torch.randn((64, 128, 128)).unsqueeze(1).tile(1, 3, 1, 1).size()"
      ],
      "metadata": {
        "colab": {
          "base_uri": "https://localhost:8080/"
        },
        "id": "omlguZa4LaL7",
        "outputId": "8b80474f-4866-462b-e2db-01e4c4f66d2b"
      },
      "execution_count": 97,
      "outputs": [
        {
          "output_type": "execute_result",
          "data": {
            "text/plain": [
              "torch.Size([64, 3, 128, 128])"
            ]
          },
          "metadata": {},
          "execution_count": 97
        }
      ]
    },
    {
      "cell_type": "code",
      "source": [
        "torch.randn((64, 3, 32, 32)).tile(1, 1, 4, 4).size()"
      ],
      "metadata": {
        "colab": {
          "base_uri": "https://localhost:8080/"
        },
        "id": "oL6YDOVfLnaS",
        "outputId": "695b94ac-41b4-4f9c-dc68-4ac93122fa24"
      },
      "execution_count": 98,
      "outputs": [
        {
          "output_type": "execute_result",
          "data": {
            "text/plain": [
              "torch.Size([64, 3, 128, 128])"
            ]
          },
          "metadata": {},
          "execution_count": 98
        }
      ]
    },
    {
      "cell_type": "markdown",
      "source": [
        "# 28. torch.pow()"
      ],
      "metadata": {
        "id": "98jS8HJ9LwDP"
      }
    },
    {
      "cell_type": "code",
      "source": [
        "torch.pow(torch.randint(0, 4, (2, )), exponent=2)"
      ],
      "metadata": {
        "colab": {
          "base_uri": "https://localhost:8080/"
        },
        "id": "QRfIz-cFLsfe",
        "outputId": "620c5e74-1185-4f20-8d5f-714a7fe327fc"
      },
      "execution_count": 100,
      "outputs": [
        {
          "output_type": "execute_result",
          "data": {
            "text/plain": [
              "tensor([9, 4])"
            ]
          },
          "metadata": {},
          "execution_count": 100
        }
      ]
    },
    {
      "cell_type": "code",
      "source": [
        "torch.pow(torch.randn((1, 3, 128, 128)), 0.001)"
      ],
      "metadata": {
        "colab": {
          "base_uri": "https://localhost:8080/"
        },
        "id": "9pExzlE9L2MQ",
        "outputId": "cd63d625-4dae-49a2-e5a7-e160738ac896"
      },
      "execution_count": 102,
      "outputs": [
        {
          "output_type": "execute_result",
          "data": {
            "text/plain": [
              "tensor([[[[0.9983, 0.9999, 0.9996,  ...,    nan, 0.9995, 0.9975],\n",
              "          [1.0006,    nan, 1.0001,  ...,    nan, 0.9978,    nan],\n",
              "          [   nan,    nan, 0.9992,  ..., 1.0008,    nan, 0.9954],\n",
              "          ...,\n",
              "          [0.9968,    nan,    nan,  ...,    nan,    nan,    nan],\n",
              "          [   nan, 0.9976, 1.0002,  ..., 0.9990,    nan,    nan],\n",
              "          [0.9997, 1.0002,    nan,  ..., 0.9978,    nan, 1.0004]],\n",
              "\n",
              "         [[   nan,    nan, 0.9998,  ..., 1.0004, 0.9983, 0.9998],\n",
              "          [0.9952,    nan,    nan,  ..., 0.9979,    nan,    nan],\n",
              "          [   nan,    nan, 1.0008,  ..., 0.9998,    nan,    nan],\n",
              "          ...,\n",
              "          [   nan, 0.9991,    nan,  ...,    nan,    nan, 0.9997],\n",
              "          [1.0006, 0.9997, 0.9980,  ..., 1.0002,    nan,    nan],\n",
              "          [   nan, 1.0004, 0.9998,  ..., 1.0006,    nan,    nan]],\n",
              "\n",
              "         [[   nan,    nan, 0.9998,  ..., 0.9989, 1.0005, 0.9998],\n",
              "          [0.9939,    nan,    nan,  ..., 1.0000,    nan,    nan],\n",
              "          [0.9996,    nan, 0.9987,  ...,    nan, 0.9997, 0.9966],\n",
              "          ...,\n",
              "          [   nan, 1.0001, 0.9991,  ..., 0.9994,    nan,    nan],\n",
              "          [0.9995,    nan,    nan,  ...,    nan,    nan, 0.9997],\n",
              "          [   nan,    nan,    nan,  ..., 0.9995, 0.9999, 0.9990]]]])"
            ]
          },
          "metadata": {},
          "execution_count": 102
        }
      ]
    },
    {
      "cell_type": "markdown",
      "source": [
        "# 29. torch.unsqueeze()"
      ],
      "metadata": {
        "id": "nVGbi24FMAwS"
      }
    },
    {
      "cell_type": "code",
      "source": [
        "torch.randn((4, 3)).unsqueeze(0).unsqueeze(-1).size()"
      ],
      "metadata": {
        "colab": {
          "base_uri": "https://localhost:8080/"
        },
        "id": "4zkL-unrL83F",
        "outputId": "7a46030b-effa-466d-9ad2-5e9dda7c270f"
      },
      "execution_count": 104,
      "outputs": [
        {
          "output_type": "execute_result",
          "data": {
            "text/plain": [
              "torch.Size([1, 4, 3, 1])"
            ]
          },
          "metadata": {},
          "execution_count": 104
        }
      ]
    },
    {
      "cell_type": "code",
      "source": [
        "torch.randn((4, 3)).unsqueeze(0).unsqueeze(-1).tile(64, 3, 18, 18*3).size()"
      ],
      "metadata": {
        "colab": {
          "base_uri": "https://localhost:8080/"
        },
        "id": "A6FNri55MJOH",
        "outputId": "32bfe4cb-fcd0-4c88-ee25-42da9e98cb64"
      },
      "execution_count": 106,
      "outputs": [
        {
          "output_type": "execute_result",
          "data": {
            "text/plain": [
              "torch.Size([64, 12, 54, 54])"
            ]
          },
          "metadata": {},
          "execution_count": 106
        }
      ]
    },
    {
      "cell_type": "markdown",
      "source": [
        "# torch.squeeze()"
      ],
      "metadata": {
        "id": "-yjSet_kMZjq"
      }
    },
    {
      "cell_type": "code",
      "source": [
        "torch.randn((3, 4)).squeeze()"
      ],
      "metadata": {
        "colab": {
          "base_uri": "https://localhost:8080/"
        },
        "id": "h_aS1Sl1MV8T",
        "outputId": "66c8683f-da5f-4dcc-eef6-33a0e5c49926"
      },
      "execution_count": 107,
      "outputs": [
        {
          "output_type": "execute_result",
          "data": {
            "text/plain": [
              "tensor([[ 0.1659,  0.2778,  0.8561,  0.1979],\n",
              "        [-1.3544, -1.1631,  0.6175, -0.4513],\n",
              "        [-1.4642,  0.6081,  0.8915,  0.7312]])"
            ]
          },
          "metadata": {},
          "execution_count": 107
        }
      ]
    },
    {
      "cell_type": "code",
      "source": [
        "torch.full((1, 3, 64, 64), 0.01).squeeze().size()"
      ],
      "metadata": {
        "colab": {
          "base_uri": "https://localhost:8080/"
        },
        "id": "u87JkrBhMeFF",
        "outputId": "f972cda4-bf60-40ef-8ed6-4f48a7248c76"
      },
      "execution_count": 109,
      "outputs": [
        {
          "output_type": "execute_result",
          "data": {
            "text/plain": [
              "torch.Size([3, 64, 64])"
            ]
          },
          "metadata": {},
          "execution_count": 109
        }
      ]
    },
    {
      "cell_type": "code",
      "source": [
        "torch.full((1, 3, 64, 64, 1, 1, 1), 0.01).squeeze().size()"
      ],
      "metadata": {
        "colab": {
          "base_uri": "https://localhost:8080/"
        },
        "id": "5SSFO-LeMjok",
        "outputId": "b1dddf5f-f6cd-4fdc-f2c7-47078d73affb"
      },
      "execution_count": 110,
      "outputs": [
        {
          "output_type": "execute_result",
          "data": {
            "text/plain": [
              "torch.Size([3, 64, 64])"
            ]
          },
          "metadata": {},
          "execution_count": 110
        }
      ]
    },
    {
      "cell_type": "markdown",
      "source": [
        "# 31. torch.eye()"
      ],
      "metadata": {
        "id": "UvTc4YmNMpyh"
      }
    },
    {
      "cell_type": "code",
      "source": [
        "torch.eye(3, 4)"
      ],
      "metadata": {
        "colab": {
          "base_uri": "https://localhost:8080/"
        },
        "id": "YsU07ooFMoBN",
        "outputId": "123920e8-39ff-426b-8919-6a5bc7ec4221"
      },
      "execution_count": 111,
      "outputs": [
        {
          "output_type": "execute_result",
          "data": {
            "text/plain": [
              "tensor([[1., 0., 0., 0.],\n",
              "        [0., 1., 0., 0.],\n",
              "        [0., 0., 1., 0.]])"
            ]
          },
          "metadata": {},
          "execution_count": 111
        }
      ]
    },
    {
      "cell_type": "code",
      "source": [
        "torch.eye(5)"
      ],
      "metadata": {
        "colab": {
          "base_uri": "https://localhost:8080/"
        },
        "id": "upRSfsvCMsvg",
        "outputId": "5e3f8952-4c62-4a4e-bfc5-497b8cb772b6"
      },
      "execution_count": 112,
      "outputs": [
        {
          "output_type": "execute_result",
          "data": {
            "text/plain": [
              "tensor([[1., 0., 0., 0., 0.],\n",
              "        [0., 1., 0., 0., 0.],\n",
              "        [0., 0., 1., 0., 0.],\n",
              "        [0., 0., 0., 1., 0.],\n",
              "        [0., 0., 0., 0., 1.]])"
            ]
          },
          "metadata": {},
          "execution_count": 112
        }
      ]
    },
    {
      "cell_type": "markdown",
      "source": [
        "# 32. torch.where()"
      ],
      "metadata": {
        "id": "wHCDM8LIMy7h"
      }
    },
    {
      "cell_type": "code",
      "source": [
        "torch.where(torch.randint(0, 10, (4, 6)) > 4, True, False)"
      ],
      "metadata": {
        "colab": {
          "base_uri": "https://localhost:8080/"
        },
        "id": "QFo_CFwwMu2Y",
        "outputId": "6429e33d-e047-4d6d-ca42-fcd4dcb7875d"
      },
      "execution_count": 114,
      "outputs": [
        {
          "output_type": "execute_result",
          "data": {
            "text/plain": [
              "tensor([[False,  True,  True,  True, False,  True],\n",
              "        [ True, False, False, False,  True,  True],\n",
              "        [False,  True, False,  True, False,  True],\n",
              "        [False,  True,  True,  True,  True, False]])"
            ]
          },
          "metadata": {},
          "execution_count": 114
        }
      ]
    },
    {
      "cell_type": "code",
      "source": [
        "result = torch.sigmoid(torch.randn((1, 3, 128, 128)))\n",
        "\n",
        "torch.where(result > 0.5, 1, 0)"
      ],
      "metadata": {
        "colab": {
          "base_uri": "https://localhost:8080/"
        },
        "id": "4oBKc2Z_M9Iy",
        "outputId": "01aef635-aea4-479c-e4d5-bcb795302d02"
      },
      "execution_count": 115,
      "outputs": [
        {
          "output_type": "execute_result",
          "data": {
            "text/plain": [
              "tensor([[[[0, 1, 0,  ..., 1, 1, 1],\n",
              "          [0, 0, 1,  ..., 0, 0, 1],\n",
              "          [1, 1, 1,  ..., 0, 1, 1],\n",
              "          ...,\n",
              "          [0, 0, 0,  ..., 0, 0, 1],\n",
              "          [0, 1, 1,  ..., 0, 0, 0],\n",
              "          [1, 1, 1,  ..., 0, 1, 0]],\n",
              "\n",
              "         [[0, 1, 1,  ..., 0, 1, 0],\n",
              "          [0, 0, 0,  ..., 1, 0, 0],\n",
              "          [1, 0, 1,  ..., 0, 1, 1],\n",
              "          ...,\n",
              "          [1, 1, 1,  ..., 1, 0, 1],\n",
              "          [1, 1, 0,  ..., 0, 1, 1],\n",
              "          [1, 0, 1,  ..., 0, 1, 1]],\n",
              "\n",
              "         [[1, 0, 0,  ..., 1, 1, 0],\n",
              "          [1, 0, 1,  ..., 1, 0, 1],\n",
              "          [0, 1, 0,  ..., 1, 0, 0],\n",
              "          ...,\n",
              "          [0, 1, 1,  ..., 0, 1, 1],\n",
              "          [1, 0, 1,  ..., 1, 1, 1],\n",
              "          [1, 0, 1,  ..., 1, 1, 0]]]])"
            ]
          },
          "metadata": {},
          "execution_count": 115
        }
      ]
    },
    {
      "cell_type": "markdown",
      "source": [
        "# 33. torch.tanspose()"
      ],
      "metadata": {
        "id": "s75mR_ilNPF2"
      }
    },
    {
      "cell_type": "code",
      "source": [
        "torch.randn((3, 4)).t().size()"
      ],
      "metadata": {
        "colab": {
          "base_uri": "https://localhost:8080/"
        },
        "id": "R4Y1m41yNMAW",
        "outputId": "58fc798b-7639-43f5-c779-8ba0a1bef93e"
      },
      "execution_count": 118,
      "outputs": [
        {
          "output_type": "execute_result",
          "data": {
            "text/plain": [
              "torch.Size([4, 3])"
            ]
          },
          "metadata": {},
          "execution_count": 118
        }
      ]
    },
    {
      "cell_type": "code",
      "source": [
        "torch.randn((1, 128, 64, 128)).transpose(1, 2).size() # 1, 64, 128, 128"
      ],
      "metadata": {
        "colab": {
          "base_uri": "https://localhost:8080/"
        },
        "id": "sRls4BSINTYm",
        "outputId": "f63703bb-c4e6-40f0-c021-ba814e991b28"
      },
      "execution_count": 119,
      "outputs": [
        {
          "output_type": "execute_result",
          "data": {
            "text/plain": [
              "torch.Size([1, 64, 128, 128])"
            ]
          },
          "metadata": {},
          "execution_count": 119
        }
      ]
    },
    {
      "cell_type": "code",
      "source": [
        "torch.randn((1, 3, 128, 64)).transpose(-1, -2) # 1, 3, 64, 128\n",
        "torch.randn((1, 3, 128, 64)).transpose(-1, -2).tile(1, 1, 2, 1).size() # 1, 3, 128, 128"
      ],
      "metadata": {
        "colab": {
          "base_uri": "https://localhost:8080/"
        },
        "id": "B5CRJFW0Nd1c",
        "outputId": "f60668a9-b5a7-4e89-f598-6c2e9a9dd553"
      },
      "execution_count": 120,
      "outputs": [
        {
          "output_type": "execute_result",
          "data": {
            "text/plain": [
              "torch.Size([1, 3, 128, 128])"
            ]
          },
          "metadata": {},
          "execution_count": 120
        }
      ]
    },
    {
      "cell_type": "markdown",
      "source": [
        "# 34. torch.stack()"
      ],
      "metadata": {
        "id": "9jKGP__JNyjq"
      }
    },
    {
      "cell_type": "code",
      "source": [
        "tensor1 = torch.randn((3, 4))\n",
        "tensor2 = torch.randn((3, 60))\n",
        "\n",
        "torch.hstack((tensor1, tensor2)).size()"
      ],
      "metadata": {
        "colab": {
          "base_uri": "https://localhost:8080/"
        },
        "id": "CsKWL1BQNtFN",
        "outputId": "4d2fc199-6e21-4a43-ce68-71635dc1fda9"
      },
      "execution_count": 121,
      "outputs": [
        {
          "output_type": "execute_result",
          "data": {
            "text/plain": [
              "torch.Size([3, 64])"
            ]
          },
          "metadata": {},
          "execution_count": 121
        }
      ]
    },
    {
      "cell_type": "markdown",
      "source": [
        "# 35. torch.vstack()"
      ],
      "metadata": {
        "id": "sKVRzZTGN_2O"
      }
    },
    {
      "cell_type": "code",
      "source": [
        "tensor1 = torch.full((1, 3, 128, 128), 0.000001)\n",
        "tensor2 = torch.full((61, 3, 128, 128), 0.01)\n",
        "\n",
        "torch.vstack((tensor1, tensor2)).size()"
      ],
      "metadata": {
        "colab": {
          "base_uri": "https://localhost:8080/"
        },
        "id": "QlM29p2uN-bJ",
        "outputId": "0eb64465-0beb-4546-d16d-93ed1816cf4c"
      },
      "execution_count": 122,
      "outputs": [
        {
          "output_type": "execute_result",
          "data": {
            "text/plain": [
              "torch.Size([62, 3, 128, 128])"
            ]
          },
          "metadata": {},
          "execution_count": 122
        }
      ]
    },
    {
      "cell_type": "markdown",
      "source": [
        "# 36. maxpool2d"
      ],
      "metadata": {
        "id": "g43T2mcKSzkn"
      }
    },
    {
      "cell_type": "code",
      "source": [
        "torch.max_pool2d(torch.randn((1, 3, 128, 128)), kernel_size=2, stride = 2).size()"
      ],
      "metadata": {
        "colab": {
          "base_uri": "https://localhost:8080/"
        },
        "id": "QatHj-q8ORqs",
        "outputId": "3856eb66-7044-4bd5-ef89-c64cffe7f9c9"
      },
      "execution_count": 124,
      "outputs": [
        {
          "output_type": "execute_result",
          "data": {
            "text/plain": [
              "torch.Size([1, 3, 64, 64])"
            ]
          },
          "metadata": {},
          "execution_count": 124
        }
      ]
    },
    {
      "cell_type": "code",
      "source": [
        "A = nn.MaxPool2d(kernel_size=2, stride = 2)\n",
        "\n",
        "A(torch.randn(1, 3, 128, 128)).size()"
      ],
      "metadata": {
        "colab": {
          "base_uri": "https://localhost:8080/"
        },
        "id": "ho_HnqgbS-B5",
        "outputId": "3047f484-44c7-4244-b05a-4b7c8e530bd6"
      },
      "execution_count": 126,
      "outputs": [
        {
          "output_type": "execute_result",
          "data": {
            "text/plain": [
              "torch.Size([1, 3, 64, 64])"
            ]
          },
          "metadata": {},
          "execution_count": 126
        }
      ]
    },
    {
      "cell_type": "markdown",
      "source": [
        "# 37. torch.sigmoid()"
      ],
      "metadata": {
        "id": "1OdilpORTKZu"
      }
    },
    {
      "cell_type": "code",
      "source": [
        "torch.sigmoid(torch.randn((1, 3, 128, 128))).size()"
      ],
      "metadata": {
        "colab": {
          "base_uri": "https://localhost:8080/"
        },
        "id": "5Upfe0J0TH1j",
        "outputId": "e454b1e5-7cfc-4858-fdbe-fd00087290c5"
      },
      "execution_count": 127,
      "outputs": [
        {
          "output_type": "execute_result",
          "data": {
            "text/plain": [
              "torch.Size([1, 3, 128, 128])"
            ]
          },
          "metadata": {},
          "execution_count": 127
        }
      ]
    },
    {
      "cell_type": "code",
      "source": [
        "A = nn.Sigmoid()\n",
        "\n",
        "A(torch.randn((1, 3, 128, 128))).size()"
      ],
      "metadata": {
        "colab": {
          "base_uri": "https://localhost:8080/"
        },
        "id": "h5iUIfseTSU1",
        "outputId": "e3ddb294-9791-4612-a69a-75cd61cf5249"
      },
      "execution_count": 128,
      "outputs": [
        {
          "output_type": "execute_result",
          "data": {
            "text/plain": [
              "torch.Size([1, 3, 128, 128])"
            ]
          },
          "metadata": {},
          "execution_count": 128
        }
      ]
    },
    {
      "cell_type": "markdown",
      "source": [
        "# 38. softmax()"
      ],
      "metadata": {
        "id": "61SQ9TEVTYEs"
      }
    },
    {
      "cell_type": "code",
      "source": [
        "torch.softmax(torch.randn((1, 3, 128, 128)), dim = 1).size()"
      ],
      "metadata": {
        "colab": {
          "base_uri": "https://localhost:8080/"
        },
        "id": "JXyVzReLTXHQ",
        "outputId": "aa304f54-f886-490a-b8f3-8f4af2e336dd"
      },
      "execution_count": 129,
      "outputs": [
        {
          "output_type": "execute_result",
          "data": {
            "text/plain": [
              "torch.Size([1, 3, 128, 128])"
            ]
          },
          "metadata": {},
          "execution_count": 129
        }
      ]
    },
    {
      "cell_type": "code",
      "source": [
        "torch.softmax(torch.randn((1, 3, 128, 128)), dim = 0).size()"
      ],
      "metadata": {
        "colab": {
          "base_uri": "https://localhost:8080/"
        },
        "id": "TwM8Td-sTgIg",
        "outputId": "42214cc7-65e6-432a-e075-89e39258d203"
      },
      "execution_count": 130,
      "outputs": [
        {
          "output_type": "execute_result",
          "data": {
            "text/plain": [
              "torch.Size([1, 3, 128, 128])"
            ]
          },
          "metadata": {},
          "execution_count": 130
        }
      ]
    },
    {
      "cell_type": "code",
      "source": [
        "A = nn.Softmax(dim = 1)\n",
        "\n",
        "A(torch.randn((1, 3, 128, 128))).size()"
      ],
      "metadata": {
        "colab": {
          "base_uri": "https://localhost:8080/"
        },
        "id": "BbgVI0rUTiF_",
        "outputId": "e81238ed-1224-445c-e490-aac4103abdd3"
      },
      "execution_count": 131,
      "outputs": [
        {
          "output_type": "execute_result",
          "data": {
            "text/plain": [
              "torch.Size([1, 3, 128, 128])"
            ]
          },
          "metadata": {},
          "execution_count": 131
        }
      ]
    },
    {
      "cell_type": "markdown",
      "source": [
        "# 39. torch.norm()"
      ],
      "metadata": {
        "id": "zAkfhQ6FTpQ0"
      }
    },
    {
      "cell_type": "code",
      "source": [
        "torch.norm(torch.randn((3, 4)), p = 1)"
      ],
      "metadata": {
        "colab": {
          "base_uri": "https://localhost:8080/"
        },
        "id": "HMa5MgxhToIn",
        "outputId": "f0f0a655-09ec-475d-8093-5f249cc5ed51"
      },
      "execution_count": 132,
      "outputs": [
        {
          "output_type": "execute_result",
          "data": {
            "text/plain": [
              "tensor(8.5281)"
            ]
          },
          "metadata": {},
          "execution_count": 132
        }
      ]
    },
    {
      "cell_type": "code",
      "source": [
        "torch.norm(torch.randn((1, 3, 64, 64)), p = 1, dim = 1).size()"
      ],
      "metadata": {
        "colab": {
          "base_uri": "https://localhost:8080/"
        },
        "id": "wRMa82G0TuUZ",
        "outputId": "09bcf733-adae-427f-cc97-745fb5b5155d"
      },
      "execution_count": 135,
      "outputs": [
        {
          "output_type": "execute_result",
          "data": {
            "text/plain": [
              "torch.Size([1, 64, 64])"
            ]
          },
          "metadata": {},
          "execution_count": 135
        }
      ]
    },
    {
      "cell_type": "code",
      "source": [
        "torch.norm(torch.randn((1, 3, 64, 64)), p = 1, dim = 0).size()"
      ],
      "metadata": {
        "colab": {
          "base_uri": "https://localhost:8080/"
        },
        "id": "-B8qz70dT0FY",
        "outputId": "db904d2a-2849-475c-bf27-c655ae29170d"
      },
      "execution_count": 136,
      "outputs": [
        {
          "output_type": "execute_result",
          "data": {
            "text/plain": [
              "torch.Size([3, 64, 64])"
            ]
          },
          "metadata": {},
          "execution_count": 136
        }
      ]
    },
    {
      "cell_type": "markdown",
      "source": [
        "# 40. torch.abs()"
      ],
      "metadata": {
        "id": "eVl0iH1yT70x"
      }
    },
    {
      "cell_type": "code",
      "source": [
        "torch.abs(torch.randn((1, 3, 64, 64)) - torch.randn((1, 3, 64, 64))).size()"
      ],
      "metadata": {
        "colab": {
          "base_uri": "https://localhost:8080/"
        },
        "id": "dxbOgcFZT5Ff",
        "outputId": "797f1837-235e-4645-9527-f472d621b90e"
      },
      "execution_count": 137,
      "outputs": [
        {
          "output_type": "execute_result",
          "data": {
            "text/plain": [
              "torch.Size([1, 3, 64, 64])"
            ]
          },
          "metadata": {},
          "execution_count": 137
        }
      ]
    },
    {
      "cell_type": "markdown",
      "source": [
        "# 41. torch.permute()"
      ],
      "metadata": {
        "id": "ck7yePmXUFu_"
      }
    },
    {
      "cell_type": "code",
      "source": [
        "torch.randn((1, 3, 64, 64)).permute(0, 2, 3, 1).size()"
      ],
      "metadata": {
        "colab": {
          "base_uri": "https://localhost:8080/"
        },
        "id": "2YDu7MNTUEO1",
        "outputId": "41d06de9-4ef3-45eb-c16e-111a09ff863f"
      },
      "execution_count": 138,
      "outputs": [
        {
          "output_type": "execute_result",
          "data": {
            "text/plain": [
              "torch.Size([1, 64, 64, 3])"
            ]
          },
          "metadata": {},
          "execution_count": 138
        }
      ]
    },
    {
      "cell_type": "code",
      "source": [
        "torch.randn((64, 32)).permute(1, 0).size()"
      ],
      "metadata": {
        "colab": {
          "base_uri": "https://localhost:8080/"
        },
        "id": "HwNtHAM5UMpo",
        "outputId": "23e4f5fe-db29-4737-88c5-72c3e80e8a05"
      },
      "execution_count": 139,
      "outputs": [
        {
          "output_type": "execute_result",
          "data": {
            "text/plain": [
              "torch.Size([32, 64])"
            ]
          },
          "metadata": {},
          "execution_count": 139
        }
      ]
    },
    {
      "cell_type": "markdown",
      "source": [
        "# 42. torch.argmax()"
      ],
      "metadata": {
        "id": "m18hmBhrUR4J"
      }
    },
    {
      "cell_type": "code",
      "source": [
        "torch.argmax(torch.randn((3, 4)))"
      ],
      "metadata": {
        "colab": {
          "base_uri": "https://localhost:8080/"
        },
        "id": "lQkxsY28UQ9m",
        "outputId": "d266bc97-765f-4abe-9b1a-20f6653c5c7a"
      },
      "execution_count": 140,
      "outputs": [
        {
          "output_type": "execute_result",
          "data": {
            "text/plain": [
              "tensor(5)"
            ]
          },
          "metadata": {},
          "execution_count": 140
        }
      ]
    },
    {
      "cell_type": "code",
      "source": [
        "torch.argmax(torch.randn((3, 4)), dim = 1) # ROW"
      ],
      "metadata": {
        "colab": {
          "base_uri": "https://localhost:8080/"
        },
        "id": "dGieVuAkUXjA",
        "outputId": "11974c79-5226-4bf3-b5cb-39bb3d2d63b0"
      },
      "execution_count": 141,
      "outputs": [
        {
          "output_type": "execute_result",
          "data": {
            "text/plain": [
              "tensor([2, 2, 3])"
            ]
          },
          "metadata": {},
          "execution_count": 141
        }
      ]
    },
    {
      "cell_type": "code",
      "source": [
        "torch.argmax(torch.randn((3, 4)), dim = 0) # Column"
      ],
      "metadata": {
        "colab": {
          "base_uri": "https://localhost:8080/"
        },
        "id": "NuCNQEcDUa0z",
        "outputId": "390314e0-399c-4850-e8d9-e4ab6cf2d63c"
      },
      "execution_count": 142,
      "outputs": [
        {
          "output_type": "execute_result",
          "data": {
            "text/plain": [
              "tensor([1, 1, 1, 1])"
            ]
          },
          "metadata": {},
          "execution_count": 142
        }
      ]
    },
    {
      "cell_type": "code",
      "source": [
        "torch.argmax(torch.randn((64, 3, 128, 128)), dim = 1).size() # ROW - (64, 128, 128)"
      ],
      "metadata": {
        "colab": {
          "base_uri": "https://localhost:8080/"
        },
        "id": "Cu68tURQUeEu",
        "outputId": "aff8ddd3-62d1-4028-c649-012d2b693f72"
      },
      "execution_count": 144,
      "outputs": [
        {
          "output_type": "execute_result",
          "data": {
            "text/plain": [
              "torch.Size([64, 128, 128])"
            ]
          },
          "metadata": {},
          "execution_count": 144
        }
      ]
    },
    {
      "cell_type": "code",
      "source": [
        "torch.argmax(torch.randn((64, 3, 128, 128)), dim = 1).size() # Column - (3, 128, 128)"
      ],
      "metadata": {
        "colab": {
          "base_uri": "https://localhost:8080/"
        },
        "id": "oHLtGj6rUoHT",
        "outputId": "a0c54913-b926-4e81-a718-b182339e8bb7"
      },
      "execution_count": 145,
      "outputs": [
        {
          "output_type": "execute_result",
          "data": {
            "text/plain": [
              "torch.Size([64, 128, 128])"
            ]
          },
          "metadata": {},
          "execution_count": 145
        }
      ]
    },
    {
      "cell_type": "markdown",
      "source": [
        "# 43.torch.argmin()"
      ],
      "metadata": {
        "id": "zN5o7nZdUugj"
      }
    },
    {
      "cell_type": "code",
      "source": [
        "torch.argmin(torch.randn((3, 4)))"
      ],
      "metadata": {
        "colab": {
          "base_uri": "https://localhost:8080/"
        },
        "id": "JjJdy4mDUtSq",
        "outputId": "da8366a3-10eb-428f-f08e-fd7e383cf430"
      },
      "execution_count": 146,
      "outputs": [
        {
          "output_type": "execute_result",
          "data": {
            "text/plain": [
              "tensor(3)"
            ]
          },
          "metadata": {},
          "execution_count": 146
        }
      ]
    },
    {
      "cell_type": "code",
      "source": [
        "torch.argmin(torch.randn((1, 3, 4, 4)), dim = 0).size() # Column - (3, 4, 4)"
      ],
      "metadata": {
        "colab": {
          "base_uri": "https://localhost:8080/"
        },
        "id": "jTNIncbWU0YO",
        "outputId": "618f2907-a675-41fd-ff70-8488334f714f"
      },
      "execution_count": 147,
      "outputs": [
        {
          "output_type": "execute_result",
          "data": {
            "text/plain": [
              "torch.Size([3, 4, 4])"
            ]
          },
          "metadata": {},
          "execution_count": 147
        }
      ]
    },
    {
      "cell_type": "code",
      "source": [
        "torch.argmin(torch.randn((1, 3, 4, 4)), dim = 1).size() # ROW - (1, 4, 4)"
      ],
      "metadata": {
        "colab": {
          "base_uri": "https://localhost:8080/"
        },
        "id": "V-uW9KnwU7O2",
        "outputId": "468bd0e0-dc8f-47e6-a36c-033b2c8a71d1"
      },
      "execution_count": 148,
      "outputs": [
        {
          "output_type": "execute_result",
          "data": {
            "text/plain": [
              "torch.Size([1, 4, 4])"
            ]
          },
          "metadata": {},
          "execution_count": 148
        }
      ]
    },
    {
      "cell_type": "markdown",
      "source": [
        "# 44. embeddings"
      ],
      "metadata": {
        "id": "iTgqAQGtVBfQ"
      }
    },
    {
      "cell_type": "code",
      "source": [
        "torch.embedding(torch.randint(0, 10, (64, )), 10, 512).size() # 64, 512"
      ],
      "metadata": {
        "id": "Wxy-O83SU-9u"
      },
      "execution_count": 153,
      "outputs": []
    },
    {
      "cell_type": "code",
      "source": [
        "A = nn.Embedding(10, 512)\n",
        "\n",
        "A(torch.randint(0, 10, (64, ))).size()"
      ],
      "metadata": {
        "colab": {
          "base_uri": "https://localhost:8080/"
        },
        "id": "wLEkRwEEVK5z",
        "outputId": "f301ddb0-34ca-4dda-ccaa-b3c8f3c7d772"
      },
      "execution_count": 154,
      "outputs": [
        {
          "output_type": "execute_result",
          "data": {
            "text/plain": [
              "torch.Size([64, 512])"
            ]
          },
          "metadata": {},
          "execution_count": 154
        }
      ]
    },
    {
      "cell_type": "code",
      "source": [
        "A = nn.Embedding(10, 512)\n",
        "\n",
        "A(torch.randint(0, 10, (1, 64, 512))).size()"
      ],
      "metadata": {
        "colab": {
          "base_uri": "https://localhost:8080/"
        },
        "id": "ANbhJJRLVXez",
        "outputId": "9a6f7c62-e391-42dd-8f88-780b720f2206"
      },
      "execution_count": 159,
      "outputs": [
        {
          "output_type": "execute_result",
          "data": {
            "text/plain": [
              "torch.Size([1, 64, 512, 512])"
            ]
          },
          "metadata": {},
          "execution_count": 159
        }
      ]
    },
    {
      "cell_type": "markdown",
      "source": [
        "# 45. torch.sort()"
      ],
      "metadata": {
        "id": "LWafoHxaV50a"
      }
    },
    {
      "cell_type": "code",
      "source": [
        "value, _ = torch.sort(torch.randn((4, )), descending=True)\n",
        "value"
      ],
      "metadata": {
        "colab": {
          "base_uri": "https://localhost:8080/"
        },
        "id": "ZBRNo__IVsJo",
        "outputId": "38d5530d-38ab-4f30-a44a-0bdefa6f34c5"
      },
      "execution_count": 161,
      "outputs": [
        {
          "output_type": "execute_result",
          "data": {
            "text/plain": [
              "tensor([1.9457, 1.6279, 1.3047, 0.5731])"
            ]
          },
          "metadata": {},
          "execution_count": 161
        }
      ]
    },
    {
      "cell_type": "code",
      "source": [
        "value, _ = torch.sort(torch.randn((4, )), descending=False)\n",
        "value"
      ],
      "metadata": {
        "colab": {
          "base_uri": "https://localhost:8080/"
        },
        "id": "CoHFLQP-WHLh",
        "outputId": "e5afe70e-1ab6-42ac-8ef4-343e5868dc99"
      },
      "execution_count": 162,
      "outputs": [
        {
          "output_type": "execute_result",
          "data": {
            "text/plain": [
              "tensor([-1.4018, -1.0059,  0.4816,  1.1820])"
            ]
          },
          "metadata": {},
          "execution_count": 162
        }
      ]
    },
    {
      "cell_type": "code",
      "source": [
        "value, _ = torch.sort(torch.randn((1, 3, 64, 64)), descending = True, dim =1) # ROW 1, 3, 64, 64\n",
        "value.size()"
      ],
      "metadata": {
        "colab": {
          "base_uri": "https://localhost:8080/"
        },
        "id": "Slo8K3aDWKxp",
        "outputId": "e08f8793-8a74-4553-8aba-01eb6169f71a"
      },
      "execution_count": 174,
      "outputs": [
        {
          "output_type": "execute_result",
          "data": {
            "text/plain": [
              "torch.Size([1, 3, 64, 64])"
            ]
          },
          "metadata": {},
          "execution_count": 174
        }
      ]
    },
    {
      "cell_type": "code",
      "source": [
        "value, _ = torch.sort(torch.randn((1, 3, 64, 64)), descending = True, dim =0) # Column 1, 3, 64, 64\n",
        "value.size()"
      ],
      "metadata": {
        "colab": {
          "base_uri": "https://localhost:8080/"
        },
        "id": "MzVerI6oW01O",
        "outputId": "21dfc686-a091-4e24-a071-5b04e1e497ad"
      },
      "execution_count": 176,
      "outputs": [
        {
          "output_type": "execute_result",
          "data": {
            "text/plain": [
              "torch.Size([1, 3, 64, 64])"
            ]
          },
          "metadata": {},
          "execution_count": 176
        }
      ]
    },
    {
      "cell_type": "markdown",
      "source": [
        "# 46. torch.clamp_"
      ],
      "metadata": {
        "id": "FqiypiZ9W76s"
      }
    },
    {
      "cell_type": "code",
      "source": [
        "torch.clamp_(torch.randn((3, 4)), min=-0.000001, max =.000001)"
      ],
      "metadata": {
        "colab": {
          "base_uri": "https://localhost:8080/"
        },
        "id": "AFvv-LHIW1Fa",
        "outputId": "5e4d36df-76e7-4fcb-8b06-6742ac4157b0"
      },
      "execution_count": 182,
      "outputs": [
        {
          "output_type": "execute_result",
          "data": {
            "text/plain": [
              "tensor([[ 1.0000e-06,  1.0000e-06, -1.0000e-06, -1.0000e-06],\n",
              "        [ 1.0000e-06, -1.0000e-06,  1.0000e-06, -1.0000e-06],\n",
              "        [-1.0000e-06,  1.0000e-06, -1.0000e-06,  1.0000e-06]])"
            ]
          },
          "metadata": {},
          "execution_count": 182
        }
      ]
    },
    {
      "cell_type": "markdown",
      "source": [
        "# 47. Upsameple"
      ],
      "metadata": {
        "id": "j9FLHTH8Xbnb"
      }
    },
    {
      "cell_type": "code",
      "source": [
        "A = nn.Upsample(scale_factor=2, mode=\"bilinear\", align_corners=False)\n",
        "\n",
        "A(torch.randn((1, 3, 128, 128))).size()  # 1, 3, 256, 256"
      ],
      "metadata": {
        "colab": {
          "base_uri": "https://localhost:8080/"
        },
        "id": "KB8UxD47Wce5",
        "outputId": "f6c3a611-3817-4abe-e97e-e289b29df30c"
      },
      "execution_count": 183,
      "outputs": [
        {
          "output_type": "execute_result",
          "data": {
            "text/plain": [
              "torch.Size([1, 3, 256, 256])"
            ]
          },
          "metadata": {},
          "execution_count": 183
        }
      ]
    },
    {
      "cell_type": "code",
      "source": [
        "A = nn.Upsample(scale_factor=4, mode=\"bilinear\", align_corners=False)\n",
        "\n",
        "A(torch.randn((1, 3, 128, 128))).size()  # 1, 3, 512, 512"
      ],
      "metadata": {
        "colab": {
          "base_uri": "https://localhost:8080/"
        },
        "id": "qsdlFFQ_X3eQ",
        "outputId": "2344c7e0-a4c1-4a85-c7de-c48098d8d749"
      },
      "execution_count": 184,
      "outputs": [
        {
          "output_type": "execute_result",
          "data": {
            "text/plain": [
              "torch.Size([1, 3, 512, 512])"
            ]
          },
          "metadata": {},
          "execution_count": 184
        }
      ]
    },
    {
      "cell_type": "markdown",
      "source": [
        "# 48. pixel_shuffle()"
      ],
      "metadata": {
        "id": "IV0bl8TiX7wN"
      }
    },
    {
      "cell_type": "code",
      "source": [
        "torch.pixel_shuffle(torch.randn((1, 64, 32, 32)), 2).size()"
      ],
      "metadata": {
        "colab": {
          "base_uri": "https://localhost:8080/"
        },
        "id": "JrQkaVmDX6sz",
        "outputId": "9c1c36a4-c3da-4e46-b1da-2ba921d24b76"
      },
      "execution_count": 186,
      "outputs": [
        {
          "output_type": "execute_result",
          "data": {
            "text/plain": [
              "torch.Size([1, 16, 64, 64])"
            ]
          },
          "metadata": {},
          "execution_count": 186
        }
      ]
    },
    {
      "cell_type": "code",
      "source": [
        "torch.randn((1, 64, 32, 32)).view(-1).size(), torch.pixel_shuffle(torch.randn((1, 64, 32, 32)), 2).view(-1).size()"
      ],
      "metadata": {
        "colab": {
          "base_uri": "https://localhost:8080/"
        },
        "id": "BoRy4CJ0YH4P",
        "outputId": "ec33ec9a-1fe8-49bd-9357-2d5360fa4076"
      },
      "execution_count": 187,
      "outputs": [
        {
          "output_type": "execute_result",
          "data": {
            "text/plain": [
              "(torch.Size([65536]), torch.Size([65536]))"
            ]
          },
          "metadata": {},
          "execution_count": 187
        }
      ]
    },
    {
      "cell_type": "code",
      "source": [
        "A = nn.PixelShuffle(upscale_factor=4)\n",
        "\n",
        "A(torch.randn((1, 16, 8, 8))).size()"
      ],
      "metadata": {
        "colab": {
          "base_uri": "https://localhost:8080/"
        },
        "id": "SnPtQdGtYQ0U",
        "outputId": "211aca65-92d2-45ca-892f-bb2c2d90d166"
      },
      "execution_count": 188,
      "outputs": [
        {
          "output_type": "execute_result",
          "data": {
            "text/plain": [
              "torch.Size([1, 1, 32, 32])"
            ]
          },
          "metadata": {},
          "execution_count": 188
        }
      ]
    },
    {
      "cell_type": "code",
      "source": [
        "torch.randn((1, 16, 8, 8)).view(-1).size(), A(torch.randn((1, 16, 8, 8))).flatten().size()"
      ],
      "metadata": {
        "colab": {
          "base_uri": "https://localhost:8080/"
        },
        "id": "EUilQR1VYXTP",
        "outputId": "176b33e5-d7e6-4e88-f443-f9446adeec33"
      },
      "execution_count": 189,
      "outputs": [
        {
          "output_type": "execute_result",
          "data": {
            "text/plain": [
              "(torch.Size([1024]), torch.Size([1024]))"
            ]
          },
          "metadata": {},
          "execution_count": 189
        }
      ]
    },
    {
      "cell_type": "markdown",
      "source": [
        "# 49. torch.chunk()"
      ],
      "metadata": {
        "id": "gdt2qEP-YgMZ"
      }
    },
    {
      "cell_type": "code",
      "source": [
        "tensor1, tensor2, tensor3, tensor4 = torch.full((16, 16), 0.001).chunk(4, dim = -1)\n",
        "\n",
        "tensor1.size(), tensor2.size(), tensor3.size(), tensor4.size()"
      ],
      "metadata": {
        "colab": {
          "base_uri": "https://localhost:8080/"
        },
        "id": "p-z5t09aYeGA",
        "outputId": "1bec6ece-9289-4fe1-b02c-66b0545b3fd5"
      },
      "execution_count": 196,
      "outputs": [
        {
          "output_type": "execute_result",
          "data": {
            "text/plain": [
              "(torch.Size([16, 4]),\n",
              " torch.Size([16, 4]),\n",
              " torch.Size([16, 4]),\n",
              " torch.Size([16, 4]))"
            ]
          },
          "metadata": {},
          "execution_count": 196
        }
      ]
    },
    {
      "cell_type": "code",
      "source": [
        "tensor1, tensor2 = torch.chunk((torch.randint(0, 10, (1, 3, 64, 16))), 2, dim = -2)\n",
        "\n",
        "tensor1.size(), tensor2.size()"
      ],
      "metadata": {
        "colab": {
          "base_uri": "https://localhost:8080/"
        },
        "id": "6b8fy7ZJZRa4",
        "outputId": "bcd0e92d-fb68-4379-a9ca-a2b2a3062979"
      },
      "execution_count": 198,
      "outputs": [
        {
          "output_type": "execute_result",
          "data": {
            "text/plain": [
              "(torch.Size([1, 3, 32, 16]), torch.Size([1, 3, 32, 16]))"
            ]
          },
          "metadata": {},
          "execution_count": 198
        }
      ]
    },
    {
      "cell_type": "markdown",
      "source": [
        "# 50. torch.triu()"
      ],
      "metadata": {
        "id": "uO_1LNzhZhdz"
      }
    },
    {
      "cell_type": "code",
      "source": [
        "torch.triu(torch.ones_like(torch.randn(4, 5)), diagonal=0)"
      ],
      "metadata": {
        "colab": {
          "base_uri": "https://localhost:8080/"
        },
        "id": "p-GO67ndZa7M",
        "outputId": "b1a81a01-5edf-4a3d-e438-1884a3513dbb"
      },
      "execution_count": 200,
      "outputs": [
        {
          "output_type": "execute_result",
          "data": {
            "text/plain": [
              "tensor([[1., 1., 1., 1., 1.],\n",
              "        [0., 1., 1., 1., 1.],\n",
              "        [0., 0., 1., 1., 1.],\n",
              "        [0., 0., 0., 1., 1.]])"
            ]
          },
          "metadata": {},
          "execution_count": 200
        }
      ]
    },
    {
      "cell_type": "code",
      "source": [
        "result = torch.triu(torch.ones_like(torch.randn(4, 5)), diagonal=1)\n",
        "\n",
        "torch.where(result == 0., 1., 0.)"
      ],
      "metadata": {
        "colab": {
          "base_uri": "https://localhost:8080/"
        },
        "id": "c3MtQwWxZrEL",
        "outputId": "940c35b5-9fac-474b-cd63-4ee2434fb24e"
      },
      "execution_count": 204,
      "outputs": [
        {
          "output_type": "execute_result",
          "data": {
            "text/plain": [
              "tensor([[1., 0., 0., 0., 0.],\n",
              "        [1., 1., 0., 0., 0.],\n",
              "        [1., 1., 1., 0., 0.],\n",
              "        [1., 1., 1., 1., 0.]])"
            ]
          },
          "metadata": {},
          "execution_count": 204
        }
      ]
    },
    {
      "cell_type": "code",
      "source": [
        "torch.triu(torch.ones((3, 4)), diagonal=-1)"
      ],
      "metadata": {
        "colab": {
          "base_uri": "https://localhost:8080/"
        },
        "id": "uJOXX5LdZ0wf",
        "outputId": "399878da-49a5-46f4-a353-05ab44f93b54"
      },
      "execution_count": 205,
      "outputs": [
        {
          "output_type": "execute_result",
          "data": {
            "text/plain": [
              "tensor([[1., 1., 1., 1.],\n",
              "        [1., 1., 1., 1.],\n",
              "        [0., 1., 1., 1.]])"
            ]
          },
          "metadata": {},
          "execution_count": 205
        }
      ]
    },
    {
      "cell_type": "markdown",
      "source": [
        "# 51. masked_fill()"
      ],
      "metadata": {
        "id": "LLxS33xgaGFC"
      }
    },
    {
      "cell_type": "code",
      "source": [
        "tensor = torch.randint(1, 10, (10, 4))\n",
        "torch.masked_fill(tensor, tensor == 3, 1000001)"
      ],
      "metadata": {
        "colab": {
          "base_uri": "https://localhost:8080/"
        },
        "id": "ihK-H4COaDh3",
        "outputId": "5368c4d8-bf64-4a49-c59d-3076bcefeae1"
      },
      "execution_count": 221,
      "outputs": [
        {
          "output_type": "execute_result",
          "data": {
            "text/plain": [
              "tensor([[      1,       5,       9,       8],\n",
              "        [      1, 1000001,       9,       4],\n",
              "        [      9,       6,       4,       4],\n",
              "        [      2,       2,       8, 1000001],\n",
              "        [      6,       7,       5,       1],\n",
              "        [      2, 1000001, 1000001,       2],\n",
              "        [      1,       4,       9,       6],\n",
              "        [      6,       4,       9,       4],\n",
              "        [      1,       8,       5,       1],\n",
              "        [      7,       2,       6,       8]])"
            ]
          },
          "metadata": {},
          "execution_count": 221
        }
      ]
    },
    {
      "cell_type": "code",
      "source": [
        "tensor.masked_fill(tensor == 5, 1001)"
      ],
      "metadata": {
        "colab": {
          "base_uri": "https://localhost:8080/"
        },
        "id": "D1eSDflwaXtC",
        "outputId": "f62a066c-72e7-4ca8-d41e-41f4705f7cc1"
      },
      "execution_count": 224,
      "outputs": [
        {
          "output_type": "execute_result",
          "data": {
            "text/plain": [
              "tensor([[   1, 1001,    9,    8],\n",
              "        [   1,    3,    9,    4],\n",
              "        [   9,    6,    4,    4],\n",
              "        [   2,    2,    8,    3],\n",
              "        [   6,    7, 1001,    1],\n",
              "        [   2,    3,    3,    2],\n",
              "        [   1,    4,    9,    6],\n",
              "        [   6,    4,    9,    4],\n",
              "        [   1,    8, 1001,    1],\n",
              "        [   7,    2,    6,    8]])"
            ]
          },
          "metadata": {},
          "execution_count": 224
        }
      ]
    },
    {
      "cell_type": "markdown",
      "source": [
        "# 52 add, sub, mul, div, matmul"
      ],
      "metadata": {
        "id": "45FgefVma-_o"
      }
    },
    {
      "cell_type": "code",
      "source": [
        "tensor1 = torch.randn((1, 3, 128, 128))\n",
        "tensor2 = torch.randn((1, 3, 128, 128))\n",
        "\n",
        "print(torch.add(tensor1, tensor2).size())\n",
        "\n",
        "print(torch.sub(tensor1, tensor2).size())\n",
        "\n",
        "print(torch.mul(tensor1, tensor2).size())\n",
        "\n",
        "print(torch.div(tensor1, tensor2).size())"
      ],
      "metadata": {
        "colab": {
          "base_uri": "https://localhost:8080/"
        },
        "id": "wFxP_Jsra44c",
        "outputId": "187b4c6b-2a8b-4b54-db77-174cc9d9fd46"
      },
      "execution_count": 225,
      "outputs": [
        {
          "output_type": "stream",
          "name": "stdout",
          "text": [
            "torch.Size([1, 3, 128, 128])\n",
            "torch.Size([1, 3, 128, 128])\n",
            "torch.Size([1, 3, 128, 128])\n",
            "torch.Size([1, 3, 128, 128])\n"
          ]
        }
      ]
    },
    {
      "cell_type": "code",
      "source": [
        "tensor1 = torch.randn((1, 3, 128, 128))\n",
        "tensor2 = torch.randn((128, ))\n",
        "\n",
        "print(torch.add(tensor1, tensor2).size())\n",
        "\n",
        "print(torch.sub(tensor1, tensor2).size())\n",
        "\n",
        "print(torch.mul(tensor1, tensor2).size())\n",
        "\n",
        "print(torch.div(tensor1, tensor2).size())"
      ],
      "metadata": {
        "colab": {
          "base_uri": "https://localhost:8080/"
        },
        "id": "IT5uxEULbSGG",
        "outputId": "4e8646c7-32da-4d29-ee66-2a21b3b7f4f6"
      },
      "execution_count": 226,
      "outputs": [
        {
          "output_type": "stream",
          "name": "stdout",
          "text": [
            "torch.Size([1, 3, 128, 128])\n",
            "torch.Size([1, 3, 128, 128])\n",
            "torch.Size([1, 3, 128, 128])\n",
            "torch.Size([1, 3, 128, 128])\n"
          ]
        }
      ]
    },
    {
      "cell_type": "code",
      "source": [
        "tensor1 = torch.randn((1, 3, 128, 128))\n",
        "tensor2 = torch.randn((128, ))\n",
        "tensor2 = tensor2.unsqueeze(0).unsqueeze(1).unsqueeze(2) # 1, 1, 1, 128 # Do the broad casting\n",
        "\n",
        "print(torch.add(tensor1, tensor2).size())\n",
        "\n",
        "print(torch.sub(tensor1, tensor2).size())\n",
        "\n",
        "print(torch.mul(tensor1, tensor2).size())\n",
        "\n",
        "print(torch.div(tensor1, tensor2).size())"
      ],
      "metadata": {
        "colab": {
          "base_uri": "https://localhost:8080/"
        },
        "id": "8MbnzrnbbU4O",
        "outputId": "d41d44b9-71c0-468b-e16b-4d1d359f5214"
      },
      "execution_count": 228,
      "outputs": [
        {
          "output_type": "stream",
          "name": "stdout",
          "text": [
            "torch.Size([1, 3, 128, 128])\n",
            "torch.Size([1, 3, 128, 128])\n",
            "torch.Size([1, 3, 128, 128])\n",
            "torch.Size([1, 3, 128, 128])\n"
          ]
        }
      ]
    },
    {
      "cell_type": "code",
      "source": [
        "tensor1 = torch.randn((1, 3, 128, 128))\n",
        "tensor2 = torch.randn((128, ))\n",
        "tensor2 = tensor2.unsqueeze(0).unsqueeze(1).unsqueeze(2) # 1, 1, 1, 128 # Do the broad casting\n",
        "tensor2 = tensor2.permute(0, 1, 3, 2)\n",
        "\n",
        "\n",
        "torch.matmul(tensor1, tensor2).size()"
      ],
      "metadata": {
        "colab": {
          "base_uri": "https://localhost:8080/"
        },
        "id": "9o2_-7oTbhrr",
        "outputId": "9e48faef-a6d5-4781-de0b-74a1adcd3f00"
      },
      "execution_count": 231,
      "outputs": [
        {
          "output_type": "execute_result",
          "data": {
            "text/plain": [
              "torch.Size([1, 3, 128, 1])"
            ]
          },
          "metadata": {},
          "execution_count": 231
        }
      ]
    },
    {
      "cell_type": "code",
      "source": [
        "tensor1 = torch.randn((1, 3, 128, 128))\n",
        "tensor2 = torch.randn((128, ))\n",
        "tensor2 = tensor2.unsqueeze(0).unsqueeze(1).unsqueeze(2) # 1, 1, 1, 128 # Do the broad casting\n",
        "\n",
        "(tensor1 * tensor2).size()"
      ],
      "metadata": {
        "colab": {
          "base_uri": "https://localhost:8080/"
        },
        "id": "IuWnTJq0btmq",
        "outputId": "aa12505f-22a1-40b1-d29f-070d8d0ba79a"
      },
      "execution_count": 233,
      "outputs": [
        {
          "output_type": "execute_result",
          "data": {
            "text/plain": [
              "torch.Size([1, 3, 128, 128])"
            ]
          },
          "metadata": {},
          "execution_count": 233
        }
      ]
    },
    {
      "cell_type": "code",
      "source": [],
      "metadata": {
        "id": "XFgyM3RGcG-s"
      },
      "execution_count": null,
      "outputs": []
    }
  ]
}