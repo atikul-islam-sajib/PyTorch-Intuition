{
  "nbformat": 4,
  "nbformat_minor": 0,
  "metadata": {
    "colab": {
      "provenance": [],
      "gpuType": "T4"
    },
    "kernelspec": {
      "name": "python3",
      "display_name": "Python 3"
    },
    "language_info": {
      "name": "python"
    },
    "accelerator": "GPU"
  },
  "cells": [
    {
      "cell_type": "code",
      "execution_count": 1,
      "metadata": {
        "id": "EGV-dq1E0dmq",
        "colab": {
          "base_uri": "https://localhost:8080/"
        },
        "outputId": "05856722-013d-4927-913d-f73f6601885f"
      },
      "outputs": [
        {
          "output_type": "stream",
          "name": "stdout",
          "text": [
            "Requirement already satisfied: keras in /usr/local/lib/python3.10/dist-packages (2.12.0)\n"
          ]
        }
      ],
      "source": [
        "# Import all necessity functions for Machine Learning\n",
        "import sys\n",
        "import math\n",
        "import string\n",
        "import numpy as np\n",
        "import pandas as pd\n",
        "import seaborn as sns\n",
        "import matplotlib.pyplot as plt\n",
        "import scipy as shc\n",
        "import warnings\n",
        "import zipfile\n",
        "import cv2\n",
        "import os\n",
        "import re\n",
        "import nltk\n",
        "import random\n",
        "import requests\n",
        "from bs4 import BeautifulSoup\n",
        "import re\n",
        "from collections import Counter\n",
        "from functools import reduce\n",
        "from itertools import chain\n",
        "from wordcloud import WordCloud\n",
        "from google.colab.patches import cv2_imshow\n",
        "from keras.preprocessing import image\n",
        "from sklearn.metrics._plot.confusion_matrix import confusion_matrix\n",
        "from sklearn.model_selection import train_test_split, KFold, StratifiedKFold, GridSearchCV, RandomizedSearchCV\n",
        "from sklearn.preprocessing import StandardScaler, RobustScaler, MinMaxScaler\n",
        "from sklearn.decomposition import PCA\n",
        "from sklearn.cluster import KMeans, DBSCAN, AgglomerativeClustering\n",
        "from sklearn.feature_selection import mutual_info_classif, mutual_info_regression, SelectKBest, chi2, VarianceThreshold\n",
        "from imblearn.under_sampling import RandomUnderSampler, NearMiss\n",
        "from imblearn.over_sampling import RandomOverSampler, SMOTE, SMOTEN, SMOTENC, SVMSMOTE, KMeansSMOTE, BorderlineSMOTE, ADASYN\n",
        "from imblearn.ensemble import EasyEnsembleClassifier\n",
        "from sklearn.feature_extraction.text import CountVectorizer, TfidfVectorizer\n",
        "from sklearn.naive_bayes import GaussianNB, BernoulliNB, MultinomialNB\n",
        "from sklearn.neighbors import KNeighborsClassifier, KNeighborsRegressor, NearestNeighbors\n",
        "from sklearn.linear_model import LinearRegression, LogisticRegression, SGDClassifier, SGDRegressor, Perceptron\n",
        "from sklearn.neural_network import MLPClassifier, MLPRegressor\n",
        "from sklearn.svm import SVC, SVR\n",
        "from sklearn.tree import DecisionTreeClassifier, DecisionTreeRegressor, ExtraTreeClassifier, ExtraTreeRegressor\n",
        "from sklearn.ensemble import BaggingClassifier, BaggingRegressor, RandomForestClassifier, RandomForestRegressor, VotingClassifier, VotingRegressor\n",
        "from sklearn.ensemble import AdaBoostClassifier, AdaBoostRegressor, GradientBoostingClassifier, GradientBoostingRegressor, StackingClassifier, StackingRegressor\n",
        "from sklearn.metrics import classification_report, mean_absolute_error, mean_squared_error, r2_score, accuracy_score, recall_score, precision_score, f1_score, silhouette_score\n",
        "from xgboost import XGBClassifier, XGBRegressor\n",
        "\n",
        "# Download keras\n",
        "!pip install keras\n",
        "\n",
        "# Import all necessity functions for Neural Network\n",
        "import tensorflow as tf\n",
        "from keras.models import Sequential, Model\n",
        "from keras.utils import plot_model\n",
        "from keras.layers import Dense, Conv2D, LSTM, GRU, RNN, Flatten, AvgPool2D, MaxPool2D, GlobalAveragePooling2D, BatchNormalization, Dropout, LeakyReLU, ELU, PReLU,  Embedding\n",
        "from keras.activations import tanh, relu, sigmoid, softmax, swish\n",
        "from keras.regularizers import L1, L2, L1L2\n",
        "from keras.optimizers import SGD, Adagrad, Adadelta, RMSprop, Adam, Adamax, Nadam\n",
        "from keras.initializers import HeNormal, HeUniform, GlorotNormal, GlorotUniform\n",
        "from keras.losses import SparseCategoricalCrossentropy, CategoricalCrossentropy, hinge, MSE, MAE, Huber, BinaryCrossentropy\n",
        "import keras.utils as image\n",
        "from google.colab.patches import cv2_imshow\n",
        "from keras.utils import plot_model\n",
        "\n",
        "# Plotting the confusion matrix\n",
        "from mlxtend.evaluate import confusion_matrix\n",
        "from mlxtend.plotting import plot_confusion_matrix\n",
        "from sklearn.metrics import multilabel_confusion_matrix\n",
        "from sklearn.metrics import confusion_matrix"
      ]
    },
    {
      "cell_type": "code",
      "source": [
        "# Remove all warnings\n",
        "import warnings\n",
        "warnings.filterwarnings(\"ignore\")"
      ],
      "metadata": {
        "id": "LtNPLbXT0lkz"
      },
      "execution_count": 2,
      "outputs": []
    },
    {
      "cell_type": "markdown",
      "source": [
        "#####Import the dataset"
      ],
      "metadata": {
        "id": "WULinOZQMErV"
      }
    },
    {
      "cell_type": "code",
      "source": [
        "import keras\n",
        "tf.keras.datasets.mnist.load_data(path=\"mnist.npz\")\n",
        "(X_train, y_train), (X_test, y_test) = keras.datasets.mnist.load_data()\n",
        "\n",
        "print(\"X_train shape # {} \".format(X_train.shape),'\\n')\n",
        "print(\"X_test shape  # {} \".format(X_test.shape),'\\n')\n",
        "print(\"y_train shape # {} \".format(y_train.shape),'\\n')\n",
        "print(\"y_test shape  # {} \".format(y_test.shape))"
      ],
      "metadata": {
        "colab": {
          "base_uri": "https://localhost:8080/"
        },
        "id": "WMzXAM2wMLk-",
        "outputId": "f1c1d084-0d71-462a-84b6-a13b48a22d8b"
      },
      "execution_count": 3,
      "outputs": [
        {
          "output_type": "stream",
          "name": "stdout",
          "text": [
            "X_train shape # (60000, 28, 28)  \n",
            "\n",
            "X_test shape  # (10000, 28, 28)  \n",
            "\n",
            "y_train shape # (60000,)  \n",
            "\n",
            "y_test shape  # (10000,) \n"
          ]
        }
      ]
    },
    {
      "cell_type": "markdown",
      "source": [
        "#####Display some of the dataset"
      ],
      "metadata": {
        "id": "owvvcwWRNCaL"
      }
    },
    {
      "cell_type": "code",
      "source": [
        "plt.figure(figsize = (16, 10))\n",
        "for index, data in enumerate(X_train[0:20]):\n",
        "  plt.subplot(2, 10, index + 1)\n",
        "  plt.imshow(data)\n",
        "\n",
        "plt.tight_layout()\n",
        "plt.show()"
      ],
      "metadata": {
        "colab": {
          "base_uri": "https://localhost:8080/",
          "height": 504
        },
        "id": "Ej8IuOFSNE4L",
        "outputId": "f875bc6c-17e7-4e4b-f8a7-f4b78fc6bd7a"
      },
      "execution_count": 4,
      "outputs": [
        {
          "output_type": "display_data",
          "data": {
            "text/plain": [
              "<Figure size 1600x1000 with 20 Axes>"
            ],
            "image/png": "[encoded data removed]"
          },
          "metadata": {}
        }
      ]
    },
    {
      "cell_type": "markdown",
      "source": [
        "#####Do the normalization"
      ],
      "metadata": {
        "id": "YsmuoKI6M_Z2"
      }
    },
    {
      "cell_type": "code",
      "source": [
        "X_train = X_train/255\n",
        "X_test  = X_test/255\n",
        "\n",
        "print(\"Normalozation is completed.\")"
      ],
      "metadata": {
        "colab": {
          "base_uri": "https://localhost:8080/"
        },
        "id": "KUNiP3bYM50a",
        "outputId": "729107bf-f1a8-42d9-98e6-6306d9ed925b"
      },
      "execution_count": 5,
      "outputs": [
        {
          "output_type": "stream",
          "name": "stdout",
          "text": [
            "Normalozation is completed.\n"
          ]
        }
      ]
    },
    {
      "cell_type": "code",
      "source": [
        "np.unique(y_test).shape[0]"
      ],
      "metadata": {
        "colab": {
          "base_uri": "https://localhost:8080/"
        },
        "id": "9QdVKFqKMLwD",
        "outputId": "33864ac5-e28f-4826-ae8a-254032ff5fed"
      },
      "execution_count": 6,
      "outputs": [
        {
          "output_type": "execute_result",
          "data": {
            "text/plain": [
              "10"
            ]
          },
          "metadata": {},
          "execution_count": 6
        }
      ]
    },
    {
      "cell_type": "markdown",
      "source": [
        "#####Convert the data type into float with respect to PyTorch"
      ],
      "metadata": {
        "id": "1FVeeAyKP11M"
      }
    },
    {
      "cell_type": "code",
      "source": [
        "import torch\n",
        "\n",
        "X_train = np.expand_dims(X_train, 1)\n",
        "X_train = torch.tensor(data = X_train, dtype = torch.float32)\n",
        "y_train = torch.tensor(data = y_train, dtype = torch.float32)\n",
        "\n",
        "X_test  = np.expand_dims(X_test, 1)\n",
        "X_test  = torch.tensor(data = X_test, dtype = torch.float32)\n",
        "y_test  = torch.tensor(data = y_test, dtype = torch.float32)"
      ],
      "metadata": {
        "id": "5jjcFeNPP64h"
      },
      "execution_count": 7,
      "outputs": []
    },
    {
      "cell_type": "markdown",
      "source": [
        "#####Initialize the DataLoader with batch_size: 64"
      ],
      "metadata": {
        "id": "OeOXtH3hOfBD"
      }
    },
    {
      "cell_type": "code",
      "source": [
        "import torch\n",
        "import torch.nn as nn\n",
        "import torch.functional as F\n",
        "import torch.optim as optim\n",
        "from torchsummary import summary\n",
        "from torch.utils.data import Dataset, DataLoader"
      ],
      "metadata": {
        "id": "M10ACt_VMLyG"
      },
      "execution_count": 8,
      "outputs": []
    },
    {
      "cell_type": "code",
      "source": [
        "BATCH_SIZE = 128\n",
        "train_loader = DataLoader(dataset = list(zip(X_train, y_train)), batch_size = BATCH_SIZE, shuffle = True)\n",
        "test_loader  = DataLoader(dataset = list(zip(X_test, y_test)), batch_size = BATCH_SIZE, shuffle = True)\n",
        "\n",
        "print(\"Batch size of Train # {} \".format(train_loader.batch_size),'\\n')\n",
        "print(\"Batch size of Test  # {} \".format(test_loader.batch_size),'\\n')\n",
        "\n",
        "train_data, train_label = next(iter(train_loader))\n",
        "test_data, test_label   = next(iter(test_loader))\n",
        "\n",
        "print(\"Train data shape with batch_size  # {} \".format(train_data.shape),'\\n')\n",
        "print(\"Train label shape with batch_size # {} \".format(train_label.shape),'\\n')\n",
        "\n",
        "print(\"Test data shape with batch_size   # {} \".format(test_data.shape),'\\n')\n",
        "print(\"Test label shape with batch_size  # {} \".format(test_label.shape))"
      ],
      "metadata": {
        "colab": {
          "base_uri": "https://localhost:8080/"
        },
        "id": "N28Jx4RYML1n",
        "outputId": "cc08b004-454d-4392-c577-7eade7b3e4ce"
      },
      "execution_count": 9,
      "outputs": [
        {
          "output_type": "stream",
          "name": "stdout",
          "text": [
            "Batch size of Train # 128  \n",
            "\n",
            "Batch size of Test  # 128  \n",
            "\n",
            "Train data shape with batch_size  # torch.Size([128, 1, 28, 28])  \n",
            "\n",
            "Train label shape with batch_size # torch.Size([128])  \n",
            "\n",
            "Test data shape with batch_size   # torch.Size([128, 1, 28, 28])  \n",
            "\n",
            "Test label shape with batch_size  # torch.Size([128]) \n"
          ]
        }
      ]
    },
    {
      "cell_type": "markdown",
      "source": [
        "#####Model Building"
      ],
      "metadata": {
        "id": "LouX5lscQLj_"
      }
    },
    {
      "cell_type": "code",
      "source": [
        "\"\"\"\n",
        "    Create a class named DigitClassifier that would take TWO parameters\n",
        "        1. input_channel\n",
        "        2. output_dimension\n",
        "\n",
        "    Call the super function so that it will inherit all the necessity methods from the parent class\n",
        "\"\"\"\n",
        "class DigitClassifier(nn.Module):\n",
        "  def __init__(self, input_channel = None, output_dimension = None):\n",
        "    super().__init__()\n",
        "\n",
        "    \"\"\"\n",
        "        Create a Sequential model that will take a couple of parameters like\n",
        "            1. in_channels : Define wether it is RGB or Gray. RGB-3, Gray-1\n",
        "            2. out_channels: Define the next neurons that defined with 64\n",
        "            3. kernel_size : Define the output of feature map that is used to extract the low and high level features from the image\n",
        "            4. stride : Defines the window movement while computing the feature map\n",
        "            5. padding: padding defines whether the output feature's size would be equivalent to orginal or not\n",
        "\n",
        "        Activation : ReLU, Defines whether the next neurons with respect to layer would be activated or not\n",
        "        Pooling-Layer: Defined the down sampling the feature map\n",
        "        Dropout Layer: Defined the overfitting\n",
        "        Input-Shape  : (28 * 28) * 1\n",
        "    \"\"\"\n",
        "    self.firstLayer = nn.Sequential(\n",
        "        nn.Conv2d(in_channels = input_channel, out_channels = 64, kernel_size = 3, stride = 1, padding = 1),\n",
        "        nn.ReLU(),\n",
        "        nn.MaxPool2d(kernel_size = 2, stride = 2),\n",
        "        nn.Dropout(p = 0.3)\n",
        "    )\n",
        "\n",
        "    \"\"\"\n",
        "        Create a Sequential model that will take a couple of parameters like\n",
        "            1. in_channels : Define wether it is RGB or Gray. RGB-3, Gray-1\n",
        "            2. out_channels: Define the next neurons that defined with 64\n",
        "            3. kernel_size : Define the output of feature map that is used to extract the low and high level features from the image\n",
        "            4. stride : Defines the window movement while computing the feature map\n",
        "            5. padding: padding defines whether the output feature's size would be equivalent to orginal or not\n",
        "\n",
        "        Activation : ReLU, Defines whether the next neurons with respect to layer would be activated or not\n",
        "        Pooling-Layer: Defined the down sampling the feature map\n",
        "        Dropout Layer: Defined the overfitting\n",
        "        Input-Shape : (14 * 14) * 64\n",
        "    \"\"\"\n",
        "    self.secondLayer = nn.Sequential(\n",
        "        nn.Conv2d(in_channels = 64, out_channels = 32, kernel_size = 3, stride = 1, padding = 1),\n",
        "        nn.ReLU(),\n",
        "        nn.MaxPool2d(kernel_size = 2, stride = 2),\n",
        "        nn.Dropout(p = 0.4)\n",
        "    )\n",
        "\n",
        "    \"\"\"\n",
        "    Input-Shape : (7 * 7) * 32\n",
        "    Create a fully connected layer with a couple of parameters\n",
        "    1. in_features: 7 * 7 * 32\n",
        "    2. out_features : 128\n",
        "    3. Activation : ReLU()\n",
        "    4. Dropout-rate: 0.5\n",
        "    \"\"\"\n",
        "    self.hiddenLayer1 = nn.Sequential(\n",
        "        nn.Linear(in_features = 7 * 7 * 32, out_features = 128),\n",
        "        nn.ReLU(),\n",
        "        nn.Dropout(p = 0.5)\n",
        "    )\n",
        "\n",
        "    \"\"\"\n",
        "        Create the second hidden Layer\n",
        "        1. in_features = 128\n",
        "        2. out_features = 64\n",
        "        3. Activation : ReLU\n",
        "    \"\"\"\n",
        "    self.hiddenLayer2 = nn.Sequential(\n",
        "        nn.Linear(in_features = 128, out_features = 64),\n",
        "        nn.ReLU()\n",
        "    )\n",
        "\n",
        "    \"\"\"\n",
        "        Create the output layer with\n",
        "        1. in_features = 64\n",
        "        2. out_features = output_dimension\n",
        "    \"\"\"\n",
        "    self.outputLayer = nn.Sequential(\n",
        "        nn.Linear(in_features = 64, out_features = output_dimension),\n",
        "        nn.Softmax()\n",
        "    )\n",
        "\n",
        "  def forward(self, x):\n",
        "    \"\"\"\n",
        "        For the First Layer that would take independent Features\n",
        "    \"\"\"\n",
        "    x = self.firstLayer(x)\n",
        "\n",
        "    \"\"\"\n",
        "        For the Second Layer that will take x: Inpendent Features\n",
        "    \"\"\"\n",
        "    x = self.secondLayer(x)\n",
        "\n",
        "    \"\"\"\n",
        "        For the Flatten operation that would assist us to add neural networks\n",
        "    \"\"\"\n",
        "    x = x.reshape(x.size(0), -1)\n",
        "\n",
        "    \"\"\"\n",
        "        For the First hidden Layer\n",
        "    \"\"\"\n",
        "    x = self.hiddenLayer1(x)\n",
        "\n",
        "    \"\"\"\n",
        "        For the Second Hidden Layer\n",
        "    \"\"\"\n",
        "    x = self.hiddenLayer2(x)\n",
        "\n",
        "    \"\"\"\n",
        "        For the Output Layer\n",
        "    \"\"\"\n",
        "    x = self.outputLayer(x)\n",
        "\n",
        "    return x\n"
      ],
      "metadata": {
        "id": "MCGq3w_iC6F0"
      },
      "execution_count": 12,
      "outputs": []
    },
    {
      "cell_type": "code",
      "source": [
        "# Call the model\n",
        "try:\n",
        "  model = DigitClassifier(input_channel = 1, output_dimension = 10)\n",
        "except Exception as e:\n",
        "  print(e.with_traceback())\n",
        "else:\n",
        "  print(model.parameters)"
      ],
      "metadata": {
        "colab": {
          "base_uri": "https://localhost:8080/"
        },
        "id": "RuubWA9TC6IY",
        "outputId": "9c64527b-2132-4b34-fdc5-cc38ffc51e9a"
      },
      "execution_count": 14,
      "outputs": [
        {
          "output_type": "stream",
          "name": "stdout",
          "text": [
            "<bound method Module.parameters of DigitClassifier(\n",
            "  (firstLayer): Sequential(\n",
            "    (0): Conv2d(1, 64, kernel_size=(3, 3), stride=(1, 1), padding=(1, 1))\n",
            "    (1): ReLU()\n",
            "    (2): MaxPool2d(kernel_size=2, stride=2, padding=0, dilation=1, ceil_mode=False)\n",
            "    (3): Dropout(p=0.3, inplace=False)\n",
            "  )\n",
            "  (secondLayer): Sequential(\n",
            "    (0): Conv2d(64, 32, kernel_size=(3, 3), stride=(1, 1), padding=(1, 1))\n",
            "    (1): ReLU()\n",
            "    (2): MaxPool2d(kernel_size=2, stride=2, padding=0, dilation=1, ceil_mode=False)\n",
            "    (3): Dropout(p=0.4, inplace=False)\n",
            "  )\n",
            "  (hiddenLayer1): Sequential(\n",
            "    (0): Linear(in_features=1568, out_features=128, bias=True)\n",
            "    (1): ReLU()\n",
            "    (2): Dropout(p=0.5, inplace=False)\n",
            "  )\n",
            "  (hiddenLayer2): Sequential(\n",
            "    (0): Linear(in_features=128, out_features=64, bias=True)\n",
            "    (1): ReLU()\n",
            "  )\n",
            "  (outputLayer): Sequential(\n",
            "    (0): Linear(in_features=64, out_features=10, bias=True)\n",
            "    (1): Softmax(dim=None)\n",
            "  )\n",
            ")>\n"
          ]
        }
      ]
    },
    {
      "cell_type": "markdown",
      "source": [
        "#####Define GPU"
      ],
      "metadata": {
        "id": "pqj965j4K5Pv"
      }
    },
    {
      "cell_type": "code",
      "source": [
        "device = torch.device('cuda' if torch.cuda.is_available else 'cpu')\n",
        "device"
      ],
      "metadata": {
        "colab": {
          "base_uri": "https://localhost:8080/"
        },
        "id": "vjmCANAlC6L8",
        "outputId": "ffe37e4d-f168-47f2-a27d-09c86f42c4a5"
      },
      "execution_count": 15,
      "outputs": [
        {
          "output_type": "execute_result",
          "data": {
            "text/plain": [
              "device(type='cuda')"
            ]
          },
          "metadata": {},
          "execution_count": 15
        }
      ]
    },
    {
      "cell_type": "code",
      "source": [
        "# Add the model into GPU\n",
        "model = model.to(device)"
      ],
      "metadata": {
        "id": "nfzn_b9MLJZc"
      },
      "execution_count": 16,
      "outputs": []
    },
    {
      "cell_type": "markdown",
      "source": [
        "#####Summary the model"
      ],
      "metadata": {
        "id": "kFVix6G9LFUs"
      }
    },
    {
      "cell_type": "code",
      "source": [
        "summary(model = model, input_size = X_train.shape[1:])"
      ],
      "metadata": {
        "colab": {
          "base_uri": "https://localhost:8080/"
        },
        "id": "YnrpjTtbLHOX",
        "outputId": "442dc5c9-3956-499c-904b-698849c8716f"
      },
      "execution_count": 17,
      "outputs": [
        {
          "output_type": "stream",
          "name": "stdout",
          "text": [
            "----------------------------------------------------------------\n",
            "        Layer (type)               Output Shape         Param #\n",
            "================================================================\n",
            "            Conv2d-1           [-1, 64, 28, 28]             640\n",
            "              ReLU-2           [-1, 64, 28, 28]               0\n",
            "         MaxPool2d-3           [-1, 64, 14, 14]               0\n",
            "           Dropout-4           [-1, 64, 14, 14]               0\n",
            "            Conv2d-5           [-1, 32, 14, 14]          18,464\n",
            "              ReLU-6           [-1, 32, 14, 14]               0\n",
            "         MaxPool2d-7             [-1, 32, 7, 7]               0\n",
            "           Dropout-8             [-1, 32, 7, 7]               0\n",
            "            Linear-9                  [-1, 128]         200,832\n",
            "             ReLU-10                  [-1, 128]               0\n",
            "          Dropout-11                  [-1, 128]               0\n",
            "           Linear-12                   [-1, 64]           8,256\n",
            "             ReLU-13                   [-1, 64]               0\n",
            "           Linear-14                   [-1, 10]             650\n",
            "          Softmax-15                   [-1, 10]               0\n",
            "================================================================\n",
            "Total params: 228,842\n",
            "Trainable params: 228,842\n",
            "Non-trainable params: 0\n",
            "----------------------------------------------------------------\n",
            "Input size (MB): 0.00\n",
            "Forward/backward pass size (MB): 1.08\n",
            "Params size (MB): 0.87\n",
            "Estimated Total Size (MB): 1.96\n",
            "----------------------------------------------------------------\n"
          ]
        }
      ]
    },
    {
      "cell_type": "code",
      "source": [
        "LEARNING_RATE = 0.001\n",
        "loss_function = nn.CrossEntropyLoss()\n",
        "optimizer = optim.AdamW(params = model.parameters(), lr = LEARNING_RATE)"
      ],
      "metadata": {
        "id": "WAJoJoCAZlZF"
      },
      "execution_count": 18,
      "outputs": []
    },
    {
      "cell_type": "markdown",
      "source": [
        "#####Train the model"
      ],
      "metadata": {
        "id": "3idUPpLEZ0wy"
      }
    },
    {
      "cell_type": "code",
      "source": [
        "# Initialize some varibales\n",
        "EPOCHS     = 50\n",
        "TRAIN_LOSS = []\n",
        "VAL_LOSS   = []\n",
        "TRAIN_ACC  = []\n",
        "VAL_ACC    = []\n",
        "\n",
        "# Call the model train\n",
        "model.train()\n",
        "\n",
        "\"\"\"\n",
        "    1. Run a loop with respect to EPOCHS\n",
        "\n",
        "    2. Initialize some of the crucial variables\n",
        "        1. total_train_loss: Define the total train loss with respect to epoch\n",
        "        2. total_val_loss  : Define the total validation loss with respect to epoch\n",
        "        3. train_predictions : Define the total train prediction with respect to epoch\n",
        "        4. val_predictions : Define the total validation predictions with respect to epoch\n",
        "        5. train_lables : Store all the train labels during batch size\n",
        "        6. val_labels : Store all the validation labels duirng batch size\n",
        "\n",
        "    3. Run a loop with respect to train_loader & extrac data and label\n",
        "\"\"\"\n",
        "#######################\n",
        "#      Training       #\n",
        "#######################\n",
        "\n",
        "for epoch in range(EPOCHS):\n",
        "  total_train_loss  = []\n",
        "  total_val_loss    = []\n",
        "  train_predictions = []\n",
        "  val_predictions   = []\n",
        "  train_labels      = []\n",
        "  val_labels        = []\n",
        "\n",
        "  for X_batch, y_batch in train_loader:\n",
        "    y_batch = y_batch.long()\n",
        "    # Connect GPU to X_batch & y_batch\n",
        "    X_batch = X_batch.to(device)\n",
        "    y_batch = y_batch.to(device)\n",
        "    # Do the prediction\n",
        "    train_prediction = model(X_batch)\n",
        "    train_loss = loss_function(train_prediction, y_batch)\n",
        "\n",
        "    \"\"\"\n",
        "        1. Initialize the optimizer to adjust the weight and bias\n",
        "        2. Do backward propagation with respect to train loss\n",
        "        3. Do step operation with respect to optimizer\n",
        "    \"\"\"\n",
        "\n",
        "    optimizer.zero_grad()\n",
        "    train_loss.backward()\n",
        "    optimizer.step()\n",
        "\n",
        "    # Checking CPU\n",
        "    y_batch = y_batch.cpu()\n",
        "    # Store the orginal train labels into train_labels\n",
        "    train_labels.extend(y_batch.flatten().detach().numpy())\n",
        "\n",
        "    # Store the train loss into train_loss\n",
        "    total_train_loss.append(train_loss.item())\n",
        "\n",
        "    # Store the predicted labels\n",
        "    train_predictions.extend(torch.argmax(train_prediction.cpu(), 1).flatten().detach().numpy())\n",
        "\n",
        "  # ===============================================================================================\n",
        "  # ===============================================================================================\n",
        "  \"\"\"\n",
        "      Store the train loss and accuracy into TRAIN_LOSS & TRAIN_ACC list after being completed Epoch\n",
        "  \"\"\"\n",
        "  # Store the accuracy into TRAIN_ACCURACY\n",
        "  TRAIN_ACC.append(accuracy_score(train_labels, train_predictions))\n",
        "\n",
        "  # Store the train loss into TRAIN_LOSS\n",
        "  TRAIN_LOSS.append(np.array(total_train_loss).mean())\n",
        "\n",
        "  ########################\n",
        "  #        Testing       #\n",
        "  ########################\n",
        "  model.eval()\n",
        "\n",
        "  for val_data, val_label in test_loader:\n",
        "    val_label = val_label.long()\n",
        "    # Convert GPU\n",
        "    val_data = val_data.to(device)\n",
        "    val_label = val_label.to(device)\n",
        "    # Do the prediction\n",
        "    val_prediction = model(val_data)\n",
        "    val_loss = loss_function(val_prediction, val_label)\n",
        "\n",
        "    # Checking CPU\n",
        "    val_label = val_label.cpu()\n",
        "    # Store the orginal validation labels into val_labels\n",
        "    val_labels.extend(val_label.flatten().detach().numpy())\n",
        "\n",
        "    # Store the validation loss into total_val_loss\n",
        "    total_val_loss.append(val_loss.item())\n",
        "\n",
        "    # Store the validation prediction labels\n",
        "    val_predictions.extend(torch.argmax(val_prediction.cpu(), 1).flatten().detach().numpy())\n",
        "\n",
        "  # ===============================================================================================\n",
        "  # ===============================================================================================\n",
        "  \"\"\"\n",
        "      Store the train loss and accuracy into VAL_LOSS & VAL_ACC list after being completed Epoch\n",
        "  \"\"\"\n",
        "  # Store the val loss into VAL_LOSS\n",
        "  VAL_LOSS.append(np.array(total_val_loss).mean())\n",
        "\n",
        "  # Store the validation accuracy into VAL_ACC\n",
        "  VAL_ACC.append(accuracy_score(val_labels, val_predictions))\n",
        "\n",
        "  ########################\n",
        "  #       Display        #\n",
        "  ########################\n",
        "\n",
        "  print(\"Epoch {}/{} \".format(epoch + 1, EPOCHS))\n",
        "\n",
        "  print(\"{}/{} [=========================] loss: {} - accuracy: {} - val_loss: {} - val_accuracy: {}\".format(train_loader.batch_size,\\\n",
        "                                                                                                             train_loader.batch_size,\\\n",
        "                                                                                                             np.array(total_train_loss).mean(),\\\n",
        "                                                                                                             accuracy_score(train_labels, train_predictions),\\\n",
        "                                                                                                             np.array(total_val_loss).mean(),\\\n",
        "                                                                                                             accuracy_score(val_labels, val_predictions)))"
      ],
      "metadata": {
        "colab": {
          "base_uri": "https://localhost:8080/"
        },
        "id": "FXG-6inpZlcq",
        "outputId": "67ef5ba6-f928-434e-9938-e76e741cc492"
      },
      "execution_count": 19,
      "outputs": [
        {
          "output_type": "stream",
          "name": "stdout",
          "text": [
            "Epoch 1/50 \n",
            "128/128 [=========================] loss: 1.6999340517434485 - accuracy: 0.7697166666666667 - val_loss: 1.5146035182325146 - val_accuracy: 0.9471\n",
            "Epoch 2/50 \n",
            "128/128 [=========================] loss: 1.4996962084699033 - accuracy: 0.9629166666666666 - val_loss: 1.4887926699239997 - val_accuracy: 0.9734\n",
            "Epoch 3/50 \n",
            "128/128 [=========================] loss: 1.4880089632737865 - accuracy: 0.9743833333333334 - val_loss: 1.4855705710906018 - val_accuracy: 0.9768\n",
            "Epoch 4/50 \n",
            "128/128 [=========================] loss: 1.4815991519610765 - accuracy: 0.98005 - val_loss: 1.4824650544154494 - val_accuracy: 0.98\n",
            "Epoch 5/50 \n",
            "128/128 [=========================] loss: 1.4787672084531804 - accuracy: 0.9829833333333333 - val_loss: 1.47802994824663 - val_accuracy: 0.9838\n",
            "Epoch 6/50 \n",
            "128/128 [=========================] loss: 1.4762039977604393 - accuracy: 0.9855666666666667 - val_loss: 1.4754968730709221 - val_accuracy: 0.9861\n",
            "Epoch 7/50 \n",
            "128/128 [=========================] loss: 1.4740220051584467 - accuracy: 0.9874833333333334 - val_loss: 1.4740328909475593 - val_accuracy: 0.987\n",
            "Epoch 8/50 \n",
            "128/128 [=========================] loss: 1.4735423850098144 - accuracy: 0.9878166666666667 - val_loss: 1.4794402454472795 - val_accuracy: 0.9827\n",
            "Epoch 9/50 \n",
            "128/128 [=========================] loss: 1.4727903673135396 - accuracy: 0.9887333333333334 - val_loss: 1.4750986491577536 - val_accuracy: 0.9867\n",
            "Epoch 10/50 \n",
            "128/128 [=========================] loss: 1.4718004139755834 - accuracy: 0.9895333333333334 - val_loss: 1.4736898051032536 - val_accuracy: 0.9872\n",
            "Epoch 11/50 \n",
            "128/128 [=========================] loss: 1.4699487320141498 - accuracy: 0.9914333333333334 - val_loss: 1.47404912906357 - val_accuracy: 0.9874\n",
            "Epoch 12/50 \n",
            "128/128 [=========================] loss: 1.4706329430090084 - accuracy: 0.9906833333333334 - val_loss: 1.4719702880593795 - val_accuracy: 0.989\n",
            "Epoch 13/50 \n",
            "128/128 [=========================] loss: 1.4694371037900067 - accuracy: 0.9919166666666667 - val_loss: 1.4722069486787048 - val_accuracy: 0.9888\n",
            "Epoch 14/50 \n",
            "128/128 [=========================] loss: 1.4692409099546322 - accuracy: 0.9919833333333333 - val_loss: 1.4731608448149283 - val_accuracy: 0.9886\n",
            "Epoch 15/50 \n",
            "128/128 [=========================] loss: 1.468147372131917 - accuracy: 0.9932166666666666 - val_loss: 1.4719001190571845 - val_accuracy: 0.9891\n",
            "Epoch 16/50 \n",
            "128/128 [=========================] loss: 1.4682886709790748 - accuracy: 0.9930166666666667 - val_loss: 1.4720023040530048 - val_accuracy: 0.9888\n",
            "Epoch 17/50 \n",
            "128/128 [=========================] loss: 1.4685179813584286 - accuracy: 0.9927666666666667 - val_loss: 1.4730724835697608 - val_accuracy: 0.9888\n",
            "Epoch 18/50 \n",
            "128/128 [=========================] loss: 1.4683071522316191 - accuracy: 0.9929666666666667 - val_loss: 1.4757995273493514 - val_accuracy: 0.9858\n",
            "Epoch 19/50 \n",
            "128/128 [=========================] loss: 1.4677073724234282 - accuracy: 0.9934666666666667 - val_loss: 1.4732218467736546 - val_accuracy: 0.988\n",
            "Epoch 20/50 \n",
            "128/128 [=========================] loss: 1.4673928970467054 - accuracy: 0.9939166666666667 - val_loss: 1.4728536334218858 - val_accuracy: 0.9889\n",
            "Epoch 21/50 \n",
            "128/128 [=========================] loss: 1.466637478962636 - accuracy: 0.9945666666666667 - val_loss: 1.4765327429469628 - val_accuracy: 0.9853\n",
            "Epoch 22/50 \n",
            "128/128 [=========================] loss: 1.4677090149190126 - accuracy: 0.9935 - val_loss: 1.471577663964863 - val_accuracy: 0.989\n",
            "Epoch 23/50 \n",
            "128/128 [=========================] loss: 1.4669661910803333 - accuracy: 0.99425 - val_loss: 1.47192888169349 - val_accuracy: 0.9888\n",
            "Epoch 24/50 \n",
            "128/128 [=========================] loss: 1.4669764674802832 - accuracy: 0.9942666666666666 - val_loss: 1.4729407799394825 - val_accuracy: 0.9879\n",
            "Epoch 25/50 \n",
            "128/128 [=========================] loss: 1.4666347511287436 - accuracy: 0.9944833333333334 - val_loss: 1.472981078715264 - val_accuracy: 0.988\n",
            "Epoch 26/50 \n",
            "128/128 [=========================] loss: 1.4659743980049833 - accuracy: 0.9952333333333333 - val_loss: 1.470997461789771 - val_accuracy: 0.9898\n",
            "Epoch 27/50 \n",
            "128/128 [=========================] loss: 1.4666011661354668 - accuracy: 0.9946166666666667 - val_loss: 1.4721910561187357 - val_accuracy: 0.9887\n",
            "Epoch 28/50 \n",
            "128/128 [=========================] loss: 1.465970184757257 - accuracy: 0.9952666666666666 - val_loss: 1.4722200496287285 - val_accuracy: 0.989\n",
            "Epoch 29/50 \n",
            "128/128 [=========================] loss: 1.4657535047165111 - accuracy: 0.9954 - val_loss: 1.4715489088734495 - val_accuracy: 0.9896\n",
            "Epoch 30/50 \n",
            "128/128 [=========================] loss: 1.4653484129956535 - accuracy: 0.9958166666666667 - val_loss: 1.472603011734878 - val_accuracy: 0.9889\n",
            "Epoch 31/50 \n",
            "128/128 [=========================] loss: 1.4664666154491368 - accuracy: 0.9946833333333334 - val_loss: 1.4723951424224466 - val_accuracy: 0.9885\n",
            "Epoch 32/50 \n",
            "128/128 [=========================] loss: 1.4662745692836705 - accuracy: 0.9949 - val_loss: 1.4724673877788494 - val_accuracy: 0.9887\n",
            "Epoch 33/50 \n",
            "128/128 [=========================] loss: 1.4655731873217421 - accuracy: 0.99565 - val_loss: 1.470423962496504 - val_accuracy: 0.9906\n",
            "Epoch 34/50 \n",
            "128/128 [=========================] loss: 1.4660132467619647 - accuracy: 0.9951833333333333 - val_loss: 1.4733342596247225 - val_accuracy: 0.9874\n",
            "Epoch 35/50 \n",
            "128/128 [=========================] loss: 1.4649989973507456 - accuracy: 0.9961 - val_loss: 1.469776066043709 - val_accuracy: 0.9911\n",
            "Epoch 36/50 \n",
            "128/128 [=========================] loss: 1.4651039564279096 - accuracy: 0.9960666666666667 - val_loss: 1.471241299110123 - val_accuracy: 0.9896\n",
            "Epoch 37/50 \n",
            "128/128 [=========================] loss: 1.4656296404185833 - accuracy: 0.9956 - val_loss: 1.4700037497508376 - val_accuracy: 0.9913\n",
            "Epoch 38/50 \n",
            "128/128 [=========================] loss: 1.4647909128335492 - accuracy: 0.99635 - val_loss: 1.4706865428369256 - val_accuracy: 0.9902\n",
            "Epoch 39/50 \n",
            "128/128 [=========================] loss: 1.4651167052132743 - accuracy: 0.9961166666666667 - val_loss: 1.4707022392297093 - val_accuracy: 0.9902\n",
            "Epoch 40/50 \n",
            "128/128 [=========================] loss: 1.4647452643176895 - accuracy: 0.9964666666666666 - val_loss: 1.4697060087059117 - val_accuracy: 0.9915\n",
            "Epoch 41/50 \n",
            "128/128 [=========================] loss: 1.465112870435979 - accuracy: 0.9960833333333333 - val_loss: 1.4711743955370746 - val_accuracy: 0.9907\n",
            "Epoch 42/50 \n",
            "128/128 [=========================] loss: 1.465060275754949 - accuracy: 0.99615 - val_loss: 1.4696213459666772 - val_accuracy: 0.9913\n",
            "Epoch 43/50 \n",
            "128/128 [=========================] loss: 1.46500970458171 - accuracy: 0.9962666666666666 - val_loss: 1.4733376548260073 - val_accuracy: 0.9877\n",
            "Epoch 44/50 \n",
            "128/128 [=========================] loss: 1.4651177595419163 - accuracy: 0.9961 - val_loss: 1.4697624263884146 - val_accuracy: 0.9914\n",
            "Epoch 45/50 \n",
            "128/128 [=========================] loss: 1.4648327885914458 - accuracy: 0.9963166666666666 - val_loss: 1.4713404042811333 - val_accuracy: 0.9898\n",
            "Epoch 46/50 \n",
            "128/128 [=========================] loss: 1.4649743873681595 - accuracy: 0.9962 - val_loss: 1.4696348362331149 - val_accuracy: 0.9914\n",
            "Epoch 47/50 \n",
            "128/128 [=========================] loss: 1.4640175203270496 - accuracy: 0.9971666666666666 - val_loss: 1.468875527381897 - val_accuracy: 0.992\n",
            "Epoch 48/50 \n",
            "128/128 [=========================] loss: 1.4643536267250077 - accuracy: 0.9968166666666667 - val_loss: 1.4693435596514353 - val_accuracy: 0.9918\n",
            "Epoch 49/50 \n",
            "128/128 [=========================] loss: 1.4650123833593276 - accuracy: 0.99615 - val_loss: 1.470166767699809 - val_accuracy: 0.9907\n",
            "Epoch 50/50 \n",
            "128/128 [=========================] loss: 1.4647859032474346 - accuracy: 0.99635 - val_loss: 1.4703768672822397 - val_accuracy: 0.9908\n"
          ]
        }
      ]
    },
    {
      "cell_type": "markdown",
      "source": [
        "#####Display the loss & accuracy"
      ],
      "metadata": {
        "id": "yqCXBY2Qjl7o"
      }
    },
    {
      "cell_type": "code",
      "source": [
        "plt.plot(np.array(TRAIN_LOSS), label = 'train_loss')\n",
        "plt.plot(np.array(VAL_LOSS), label = 'val_loss')\n",
        "plt.title('Train Vs Test Loss')\n",
        "plt.xlabel('Epochs')\n",
        "plt.ylabel('Loss')\n",
        "plt.legend()\n",
        "plt.tight_layout()\n",
        "plt.show()"
      ],
      "metadata": {
        "colab": {
          "base_uri": "https://localhost:8080/",
          "height": 487
        },
        "id": "abe2A90xkpg5",
        "outputId": "3f388449-b691-4d8f-a6af-53e0a5199d88"
      },
      "execution_count": 20,
      "outputs": [
        {
          "output_type": "display_data",
          "data": {
            "text/plain": [
              "<Figure size 640x480 with 1 Axes>"
            ],
            "image/png": "[encoded data removed]"
          },
          "metadata": {}
        }
      ]
    },
    {
      "cell_type": "code",
      "source": [
        "plt.plot(np.array(TRAIN_ACC), label = 'train_accuracy')\n",
        "plt.plot(np.array(VAL_ACC), label = 'val_accuracy')\n",
        "plt.title('Train Vs Test accuracy')\n",
        "plt.xlabel('Epochs')\n",
        "plt.ylabel('Accuracy')\n",
        "plt.legend()\n",
        "plt.tight_layout()\n",
        "plt.show()"
      ],
      "metadata": {
        "colab": {
          "base_uri": "https://localhost:8080/",
          "height": 487
        },
        "id": "GjVUa2ipkpke",
        "outputId": "ffcbe279-b889-48d4-fbda-ed224a8b826c"
      },
      "execution_count": 21,
      "outputs": [
        {
          "output_type": "display_data",
          "data": {
            "text/plain": [
              "<Figure size 640x480 with 1 Axes>"
            ],
            "image/png": "[encoded data removed]"
          },
          "metadata": {}
        }
      ]
    },
    {
      "cell_type": "markdown",
      "source": [
        "#####Evaluation the model performance"
      ],
      "metadata": {
        "id": "PiNdMzogjpHD"
      }
    },
    {
      "cell_type": "code",
      "source": [
        "# Ealuation for training\n",
        "predicted_value = []\n",
        "actual_value    = []\n",
        "\n",
        "for train_data, train_label in train_loader:\n",
        "  # Convert the data and label into GPU\n",
        "  train_data  = train_data.to(device)\n",
        "  train_label = train_label.to(device)\n",
        "\n",
        "  # Do the prediction\n",
        "  predicted = model(train_data)\n",
        "\n",
        "  # Store the train prediction and actual value\n",
        "  predicted_value.extend(torch.argmax(predicted.cpu(), 1))\n",
        "  actual_value.extend(train_label.cpu())\n",
        "\n",
        "########################\n",
        "#       Display        #\n",
        "########################\n",
        "\n",
        "print(\"ACCURACY  # {}\".format(accuracy_score(actual_value, predicted_value)),'\\n')\n",
        "print(\"PRECISION # {}\".format(precision_score(actual_value, predicted_value, average = 'macro')),'\\n')\n",
        "print(\"RECALL    # {}\".format(recall_score(actual_value, predicted_value, average = 'macro')),'\\n')\n",
        "print(\"F1_SCORE  # {}\".format(f1_score(actual_value, predicted_value, average = 'macro')))"
      ],
      "metadata": {
        "colab": {
          "base_uri": "https://localhost:8080/"
        },
        "id": "GvqVxsdU0oCx",
        "outputId": "c1be85c1-88d7-4141-e700-8e912ac8ad2d"
      },
      "execution_count": 22,
      "outputs": [
        {
          "output_type": "stream",
          "name": "stdout",
          "text": [
            "ACCURACY  # 0.9958166666666667 \n",
            "\n",
            "PRECISION # 0.995869300786184 \n",
            "\n",
            "RECALL    # 0.9957369763700374 \n",
            "\n",
            "F1_SCORE  # 0.9957963585024245\n"
          ]
        }
      ]
    },
    {
      "cell_type": "code",
      "source": [
        "# Evaluation for testing\n",
        "predicted_value = []\n",
        "actual_value    = []\n",
        "for test_data, test_label in test_loader:\n",
        "  # Convert data and label into GPU\n",
        "  test_data  = test_data.to(device)\n",
        "  test_label = test_label.to(device)\n",
        "\n",
        "  # Do the prediction\n",
        "  predicted = model(test_data)\n",
        "\n",
        "  # Store the test predicted value and actual value\n",
        "  predicted_value.extend(torch.argmax(predicted, 1).cpu())\n",
        "  actual_value.extend(test_label.cpu())\n",
        "\n",
        "########################\n",
        "#       Display        #\n",
        "########################\n",
        "\n",
        "print(\"ACCURACY  # {}\".format(accuracy_score(actual_value, predicted_value)),'\\n')\n",
        "print(\"PRECISION # {}\".format(precision_score(actual_value, predicted_value, average = 'macro')),'\\n')\n",
        "print(\"RECALL    # {}\".format(recall_score(actual_value, predicted_value, average = 'macro')),'\\n')\n",
        "print(\"F1_SCORE  # {}\".format(f1_score(actual_value, predicted_value, average = 'macro')))"
      ],
      "metadata": {
        "colab": {
          "base_uri": "https://localhost:8080/"
        },
        "id": "zEbm6f44y2a4",
        "outputId": "ae128ec8-086e-4da9-89d7-e0eb37db1659"
      },
      "execution_count": 23,
      "outputs": [
        {
          "output_type": "stream",
          "name": "stdout",
          "text": [
            "ACCURACY  # 0.9908 \n",
            "\n",
            "PRECISION # 0.9908883620501954 \n",
            "\n",
            "RECALL    # 0.9906363205618746 \n",
            "\n",
            "F1_SCORE  # 0.9907406439470249\n"
          ]
        }
      ]
    }
  ]
}