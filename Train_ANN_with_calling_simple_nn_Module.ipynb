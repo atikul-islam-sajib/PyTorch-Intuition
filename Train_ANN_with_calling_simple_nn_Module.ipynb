{
  "nbformat": 4,
  "nbformat_minor": 0,
  "metadata": {
    "colab": {
      "provenance": []
    },
    "kernelspec": {
      "name": "python3",
      "display_name": "Python 3"
    },
    "language_info": {
      "name": "python"
    }
  },
  "cells": [
    {
      "cell_type": "code",
      "execution_count": 1,
      "metadata": {
        "id": "Q-DfthG1_8qS"
      },
      "outputs": [],
      "source": [
        "import numpy as np\n",
        "import pandas as pd"
      ]
    },
    {
      "cell_type": "code",
      "source": [
        "\"\"\"\n",
        "Import the dataset\n",
        "\"\"\"\n",
        "df = pd.read_csv('/content/diabetes.csv')\n",
        "\n",
        "df.head()"
      ],
      "metadata": {
        "colab": {
          "base_uri": "https://localhost:8080/",
          "height": 206
        },
        "id": "Leg7zIBGAIzb",
        "outputId": "0a6c058d-b4b7-43fe-e024-884e60565a87"
      },
      "execution_count": 2,
      "outputs": [
        {
          "output_type": "execute_result",
          "data": {
            "text/plain": [
              "   Pregnancies  Glucose  BloodPressure  SkinThickness  Insulin   BMI  \\\n",
              "0            6      148             72             35        0  33.6   \n",
              "1            1       85             66             29        0  26.6   \n",
              "2            8      183             64              0        0  23.3   \n",
              "3            1       89             66             23       94  28.1   \n",
              "4            0      137             40             35      168  43.1   \n",
              "\n",
              "   DiabetesPedigreeFunction  Age  Outcome  \n",
              "0                     0.627   50        1  \n",
              "1                     0.351   31        0  \n",
              "2                     0.672   32        1  \n",
              "3                     0.167   21        0  \n",
              "4                     2.288   33        1  "
            ],
            "text/html": [
              "\n",
              "\n",
              "  <div id=\"df-abbd20d1-e2f4-4993-9596-05cf2ee265a7\">\n",
              "    <div class=\"colab-df-container\">\n",
              "      <div>\n",
              "<style scoped>\n",
              "    .dataframe tbody tr th:only-of-type {\n",
              "        vertical-align: middle;\n",
              "    }\n",
              "\n",
              "    .dataframe tbody tr th {\n",
              "        vertical-align: top;\n",
              "    }\n",
              "\n",
              "    .dataframe thead th {\n",
              "        text-align: right;\n",
              "    }\n",
              "</style>\n",
              "<table border=\"1\" class=\"dataframe\">\n",
              "  <thead>\n",
              "    <tr style=\"text-align: right;\">\n",
              "      <th></th>\n",
              "      <th>Pregnancies</th>\n",
              "      <th>Glucose</th>\n",
              "      <th>BloodPressure</th>\n",
              "      <th>SkinThickness</th>\n",
              "      <th>Insulin</th>\n",
              "      <th>BMI</th>\n",
              "      <th>DiabetesPedigreeFunction</th>\n",
              "      <th>Age</th>\n",
              "      <th>Outcome</th>\n",
              "    </tr>\n",
              "  </thead>\n",
              "  <tbody>\n",
              "    <tr>\n",
              "      <th>0</th>\n",
              "      <td>6</td>\n",
              "      <td>148</td>\n",
              "      <td>72</td>\n",
              "      <td>35</td>\n",
              "      <td>0</td>\n",
              "      <td>33.6</td>\n",
              "      <td>0.627</td>\n",
              "      <td>50</td>\n",
              "      <td>1</td>\n",
              "    </tr>\n",
              "    <tr>\n",
              "      <th>1</th>\n",
              "      <td>1</td>\n",
              "      <td>85</td>\n",
              "      <td>66</td>\n",
              "      <td>29</td>\n",
              "      <td>0</td>\n",
              "      <td>26.6</td>\n",
              "      <td>0.351</td>\n",
              "      <td>31</td>\n",
              "      <td>0</td>\n",
              "    </tr>\n",
              "    <tr>\n",
              "      <th>2</th>\n",
              "      <td>8</td>\n",
              "      <td>183</td>\n",
              "      <td>64</td>\n",
              "      <td>0</td>\n",
              "      <td>0</td>\n",
              "      <td>23.3</td>\n",
              "      <td>0.672</td>\n",
              "      <td>32</td>\n",
              "      <td>1</td>\n",
              "    </tr>\n",
              "    <tr>\n",
              "      <th>3</th>\n",
              "      <td>1</td>\n",
              "      <td>89</td>\n",
              "      <td>66</td>\n",
              "      <td>23</td>\n",
              "      <td>94</td>\n",
              "      <td>28.1</td>\n",
              "      <td>0.167</td>\n",
              "      <td>21</td>\n",
              "      <td>0</td>\n",
              "    </tr>\n",
              "    <tr>\n",
              "      <th>4</th>\n",
              "      <td>0</td>\n",
              "      <td>137</td>\n",
              "      <td>40</td>\n",
              "      <td>35</td>\n",
              "      <td>168</td>\n",
              "      <td>43.1</td>\n",
              "      <td>2.288</td>\n",
              "      <td>33</td>\n",
              "      <td>1</td>\n",
              "    </tr>\n",
              "  </tbody>\n",
              "</table>\n",
              "</div>\n",
              "      <button class=\"colab-df-convert\" onclick=\"convertToInteractive('df-abbd20d1-e2f4-4993-9596-05cf2ee265a7')\"\n",
              "              title=\"Convert this dataframe to an interactive table.\"\n",
              "              style=\"display:none;\">\n",
              "\n",
              "  <svg xmlns=\"http://www.w3.org/2000/svg\" height=\"24px\"viewBox=\"0 0 24 24\"\n",
              "       width=\"24px\">\n",
              "    <path d=\"M0 0h24v24H0V0z\" fill=\"none\"/>\n",
              "    <path d=\"M18.56 5.44l.94 2.06.94-2.06 2.06-.94-2.06-.94-.94-2.06-.94 2.06-2.06.94zm-11 1L8.5 8.5l.94-2.06 2.06-.94-2.06-.94L8.5 2.5l-.94 2.06-2.06.94zm10 10l.94 2.06.94-2.06 2.06-.94-2.06-.94-.94-2.06-.94 2.06-2.06.94z\"/><path d=\"M17.41 7.96l-1.37-1.37c-.4-.4-.92-.59-1.43-.59-.52 0-1.04.2-1.43.59L10.3 9.45l-7.72 7.72c-.78.78-.78 2.05 0 2.83L4 21.41c.39.39.9.59 1.41.59.51 0 1.02-.2 1.41-.59l7.78-7.78 2.81-2.81c.8-.78.8-2.07 0-2.86zM5.41 20L4 18.59l7.72-7.72 1.47 1.35L5.41 20z\"/>\n",
              "  </svg>\n",
              "      </button>\n",
              "\n",
              "\n",
              "\n",
              "    <div id=\"df-94495ee4-62a9-4b00-800e-64538c73be6b\">\n",
              "      <button class=\"colab-df-quickchart\" onclick=\"quickchart('df-94495ee4-62a9-4b00-800e-64538c73be6b')\"\n",
              "              title=\"Suggest charts.\"\n",
              "              style=\"display:none;\">\n",
              "\n",
              "<svg xmlns=\"http://www.w3.org/2000/svg\" height=\"24px\"viewBox=\"0 0 24 24\"\n",
              "     width=\"24px\">\n",
              "    <g>\n",
              "        <path d=\"M19 3H5c-1.1 0-2 .9-2 2v14c0 1.1.9 2 2 2h14c1.1 0 2-.9 2-2V5c0-1.1-.9-2-2-2zM9 17H7v-7h2v7zm4 0h-2V7h2v10zm4 0h-2v-4h2v4z\"/>\n",
              "    </g>\n",
              "</svg>\n",
              "      </button>\n",
              "    </div>\n",
              "\n",
              "<style>\n",
              "  .colab-df-quickchart {\n",
              "    background-color: #E8F0FE;\n",
              "    border: none;\n",
              "    border-radius: 50%;\n",
              "    cursor: pointer;\n",
              "    display: none;\n",
              "    fill: #1967D2;\n",
              "    height: 32px;\n",
              "    padding: 0 0 0 0;\n",
              "    width: 32px;\n",
              "  }\n",
              "\n",
              "  .colab-df-quickchart:hover {\n",
              "    background-color: #E2EBFA;\n",
              "    box-shadow: 0px 1px 2px rgba(60, 64, 67, 0.3), 0px 1px 3px 1px rgba(60, 64, 67, 0.15);\n",
              "    fill: #174EA6;\n",
              "  }\n",
              "\n",
              "  [theme=dark] .colab-df-quickchart {\n",
              "    background-color: #3B4455;\n",
              "    fill: #D2E3FC;\n",
              "  }\n",
              "\n",
              "  [theme=dark] .colab-df-quickchart:hover {\n",
              "    background-color: #434B5C;\n",
              "    box-shadow: 0px 1px 3px 1px rgba(0, 0, 0, 0.15);\n",
              "    filter: drop-shadow(0px 1px 2px rgba(0, 0, 0, 0.3));\n",
              "    fill: #FFFFFF;\n",
              "  }\n",
              "</style>\n",
              "\n",
              "    <script>\n",
              "      async function quickchart(key) {\n",
              "        const containerElement = document.querySelector('#' + key);\n",
              "        const charts = await google.colab.kernel.invokeFunction(\n",
              "            'suggestCharts', [key], {});\n",
              "      }\n",
              "    </script>\n",
              "\n",
              "      <script>\n",
              "\n",
              "function displayQuickchartButton(domScope) {\n",
              "  let quickchartButtonEl =\n",
              "    domScope.querySelector('#df-94495ee4-62a9-4b00-800e-64538c73be6b button.colab-df-quickchart');\n",
              "  quickchartButtonEl.style.display =\n",
              "    google.colab.kernel.accessAllowed ? 'block' : 'none';\n",
              "}\n",
              "\n",
              "        displayQuickchartButton(document);\n",
              "      </script>\n",
              "      <style>\n",
              "    .colab-df-container {\n",
              "      display:flex;\n",
              "      flex-wrap:wrap;\n",
              "      gap: 12px;\n",
              "    }\n",
              "\n",
              "    .colab-df-convert {\n",
              "      background-color: #E8F0FE;\n",
              "      border: none;\n",
              "      border-radius: 50%;\n",
              "      cursor: pointer;\n",
              "      display: none;\n",
              "      fill: #1967D2;\n",
              "      height: 32px;\n",
              "      padding: 0 0 0 0;\n",
              "      width: 32px;\n",
              "    }\n",
              "\n",
              "    .colab-df-convert:hover {\n",
              "      background-color: #E2EBFA;\n",
              "      box-shadow: 0px 1px 2px rgba(60, 64, 67, 0.3), 0px 1px 3px 1px rgba(60, 64, 67, 0.15);\n",
              "      fill: #174EA6;\n",
              "    }\n",
              "\n",
              "    [theme=dark] .colab-df-convert {\n",
              "      background-color: #3B4455;\n",
              "      fill: #D2E3FC;\n",
              "    }\n",
              "\n",
              "    [theme=dark] .colab-df-convert:hover {\n",
              "      background-color: #434B5C;\n",
              "      box-shadow: 0px 1px 3px 1px rgba(0, 0, 0, 0.15);\n",
              "      filter: drop-shadow(0px 1px 2px rgba(0, 0, 0, 0.3));\n",
              "      fill: #FFFFFF;\n",
              "    }\n",
              "  </style>\n",
              "\n",
              "      <script>\n",
              "        const buttonEl =\n",
              "          document.querySelector('#df-abbd20d1-e2f4-4993-9596-05cf2ee265a7 button.colab-df-convert');\n",
              "        buttonEl.style.display =\n",
              "          google.colab.kernel.accessAllowed ? 'block' : 'none';\n",
              "\n",
              "        async function convertToInteractive(key) {\n",
              "          const element = document.querySelector('#df-abbd20d1-e2f4-4993-9596-05cf2ee265a7');\n",
              "          const dataTable =\n",
              "            await google.colab.kernel.invokeFunction('convertToInteractive',\n",
              "                                                     [key], {});\n",
              "          if (!dataTable) return;\n",
              "\n",
              "          const docLinkHtml = 'Like what you see? Visit the ' +\n",
              "            '<a target=\"_blank\" href=https://colab.research.google.com/notebooks/data_table.ipynb>data table notebook</a>'\n",
              "            + ' to learn more about interactive tables.';\n",
              "          element.innerHTML = '';\n",
              "          dataTable['output_type'] = 'display_data';\n",
              "          await google.colab.output.renderOutput(dataTable, element);\n",
              "          const docLink = document.createElement('div');\n",
              "          docLink.innerHTML = docLinkHtml;\n",
              "          element.appendChild(docLink);\n",
              "        }\n",
              "      </script>\n",
              "    </div>\n",
              "  </div>\n"
            ]
          },
          "metadata": {},
          "execution_count": 2
        }
      ]
    },
    {
      "cell_type": "code",
      "source": [
        "\"\"\"\n",
        "Check NaN value appeared or not\n",
        "\"\"\"\n",
        "df.isnull().sum()"
      ],
      "metadata": {
        "colab": {
          "base_uri": "https://localhost:8080/"
        },
        "id": "zUsAl2oAAPtn",
        "outputId": "4bed111b-ca7e-4977-a7cf-64097fd37a37"
      },
      "execution_count": 3,
      "outputs": [
        {
          "output_type": "execute_result",
          "data": {
            "text/plain": [
              "Pregnancies                 0\n",
              "Glucose                     0\n",
              "BloodPressure               0\n",
              "SkinThickness               0\n",
              "Insulin                     0\n",
              "BMI                         0\n",
              "DiabetesPedigreeFunction    0\n",
              "Age                         0\n",
              "Outcome                     0\n",
              "dtype: int64"
            ]
          },
          "metadata": {},
          "execution_count": 3
        }
      ]
    },
    {
      "cell_type": "code",
      "source": [
        "\"\"\"\n",
        "Split the dataset into train and test\n",
        "\"\"\"\n",
        "import torch\n",
        "from sklearn.model_selection import train_test_split\n",
        "\n",
        "X = df.iloc[:, :-1].values\n",
        "y = df.iloc[:, -1].values\n",
        "\n",
        "\"\"\"\n",
        "Should be convert this X and y into Float, Otherwise it will show ERROR\n",
        "\"\"\"\n",
        "X = torch.tensor(X, dtype = torch.float32)\n",
        "y = torch.tensor(y, dtype = torch.float32)\n",
        "\n",
        "X_train, X_test, y_train, y_test = train_test_split(X, y,\\\n",
        "                                                    test_size = 0.20,\\\n",
        "                                                    random_state = 42,\\\n",
        "                                                    shuffle = True)\n",
        "\n",
        "print('X_train shape is # {}'.format(X_train.shape),'\\n')\n",
        "print('X_test  shape is # {}'.format(X_test.shape),'\\n')\n",
        "print('y_train shape is # {}'.format(y_train.shape),'\\n')\n",
        "print('y_test  shape is # {}'.format(y_test.shape))"
      ],
      "metadata": {
        "colab": {
          "base_uri": "https://localhost:8080/"
        },
        "id": "g4Y2BIllAVwh",
        "outputId": "1dd78b43-ec3e-4972-c856-cdf97ed52e23"
      },
      "execution_count": 4,
      "outputs": [
        {
          "output_type": "stream",
          "name": "stdout",
          "text": [
            "X_train shape is # torch.Size([614, 8]) \n",
            "\n",
            "X_test  shape is # torch.Size([154, 8]) \n",
            "\n",
            "y_train shape is # torch.Size([614]) \n",
            "\n",
            "y_test  shape is # torch.Size([154])\n"
          ]
        }
      ]
    },
    {
      "cell_type": "code",
      "source": [
        "X_train[0:2]"
      ],
      "metadata": {
        "colab": {
          "base_uri": "https://localhost:8080/"
        },
        "id": "mHJ55eooAmOL",
        "outputId": "981ade1a-1f2e-4f6e-dd2d-9eed5f6d893c"
      },
      "execution_count": 5,
      "outputs": [
        {
          "output_type": "execute_result",
          "data": {
            "text/plain": [
              "tensor([[  2.0000,  84.0000,   0.0000,   0.0000,   0.0000,   0.0000,   0.3040,\n",
              "          21.0000],\n",
              "        [  9.0000, 112.0000,  82.0000,  24.0000,   0.0000,  28.2000,   1.2820,\n",
              "          50.0000]])"
            ]
          },
          "metadata": {},
          "execution_count": 5
        }
      ]
    },
    {
      "cell_type": "code",
      "source": [
        "\"\"\"\n",
        "Import the DataLoader function so that we can initialize the batch_size\n",
        "\"\"\"\n",
        "import torch\n",
        "from torch.utils.data import Dataset, DataLoader\n",
        "\n",
        "data_loader = DataLoader(dataset = list(zip(X_train, y_train)),\\\n",
        "                         batch_size = 16,\\\n",
        "                         shuffle = True)\n",
        "data, labels = next(iter(data_loader))\n",
        "\n",
        "print(\"The shape of singular batch size of training # {}\".format(data.size()))\n",
        "print(\"The shape of singular batch size of testing  # {}\".format(labels.size()))"
      ],
      "metadata": {
        "colab": {
          "base_uri": "https://localhost:8080/"
        },
        "id": "2uTnyHaXA9tc",
        "outputId": "9d59a77a-4fe9-4b5b-de6e-17fc43fd3eb8"
      },
      "execution_count": 6,
      "outputs": [
        {
          "output_type": "stream",
          "name": "stdout",
          "text": [
            "The shape of singular batch size of training # torch.Size([16, 8])\n",
            "The shape of singular batch size of testing  # torch.Size([16])\n"
          ]
        }
      ]
    },
    {
      "cell_type": "markdown",
      "source": [
        "#Creating the ANN architecture"
      ],
      "metadata": {
        "id": "gJ8_x614Bvxd"
      }
    },
    {
      "cell_type": "code",
      "source": [
        "\"\"\"\n",
        "Import the necessity liabries.\n",
        "\"\"\"\n",
        "import torch.nn as nn\n",
        "\n",
        "\"\"\"\n",
        "Creating a class that will inherit the parent class named `nn.Module`.\n",
        "\"\"\"\n",
        "class DiabeticsClassifier(nn.Module):\n",
        "  \"\"\"\n",
        "  Create a constructors that might take some of the parameters. Here, I did not pass anything.\n",
        "  \"\"\"\n",
        "  def __init__(self):\n",
        "    \"\"\"\n",
        "    Call the super() functions that has some properties\n",
        "    \"\"\"\n",
        "    super().__init__()\n",
        "    \"\"\"\n",
        "    Create the first hidden layer with its activation functions\n",
        "    \"\"\"\n",
        "    self.hidden_1 = nn.Linear(in_features = 8,\\\n",
        "                              out_features = 64,\\\n",
        "                              bias = True)\n",
        "    self.activation_1 = nn.ReLU()\n",
        "\n",
        "    \"\"\"\n",
        "    Create the second hidden hidden layer with its activation function\n",
        "    \"\"\"\n",
        "    self.hidden_2 = nn.Linear(in_features = 64,\\\n",
        "                              out_features = 32,\\\n",
        "                              bias = True)\n",
        "    self.activation_2 = nn.ReLU()\n",
        "\n",
        "    \"\"\"\n",
        "    Create the output layer with its activation function\n",
        "    \"\"\"\n",
        "    self.output = nn.Linear(in_features = 32,\\\n",
        "                            out_features = 1,\\\n",
        "                            bias = True)\n",
        "    self.activation_output = nn.Sigmoid()\n",
        "\n",
        "  def forward(self, x):\n",
        "    \"\"\"\n",
        "    Formula of forward propagation `activation(W^T + B)`; `x` means training dataset\n",
        "    \"\"\"\n",
        "    x = self.activation_1(self.hidden_1(x))\n",
        "    x = self.activation_2(self.hidden_2(x))\n",
        "    x = self.activation_output(self.output(x))\n",
        "\n",
        "    return x\n",
        "\n",
        "\"\"\"\n",
        "Create an object of this class\n",
        "\"\"\"\n",
        "\n",
        "model = DiabeticsClassifier()\n",
        "\n",
        "print(model)"
      ],
      "metadata": {
        "colab": {
          "base_uri": "https://localhost:8080/"
        },
        "id": "4LkEBjgrBsWO",
        "outputId": "a3d55015-cbf1-4aa5-f00d-1fbb17f974ee"
      },
      "execution_count": 7,
      "outputs": [
        {
          "output_type": "stream",
          "name": "stdout",
          "text": [
            "DiabeticsClassifier(\n",
            "  (hidden_1): Linear(in_features=8, out_features=64, bias=True)\n",
            "  (activation_1): ReLU()\n",
            "  (hidden_2): Linear(in_features=64, out_features=32, bias=True)\n",
            "  (activation_2): ReLU()\n",
            "  (output): Linear(in_features=32, out_features=1, bias=True)\n",
            "  (activation_output): Sigmoid()\n",
            ")\n"
          ]
        }
      ]
    },
    {
      "cell_type": "code",
      "source": [
        "print(model.parameters)"
      ],
      "metadata": {
        "colab": {
          "base_uri": "https://localhost:8080/"
        },
        "id": "PLGBNldSFUW0",
        "outputId": "533dab18-c54e-4bd5-a37e-132bc122f202"
      },
      "execution_count": 8,
      "outputs": [
        {
          "output_type": "stream",
          "name": "stdout",
          "text": [
            "<bound method Module.parameters of DiabeticsClassifier(\n",
            "  (hidden_1): Linear(in_features=8, out_features=64, bias=True)\n",
            "  (activation_1): ReLU()\n",
            "  (hidden_2): Linear(in_features=64, out_features=32, bias=True)\n",
            "  (activation_2): ReLU()\n",
            "  (output): Linear(in_features=32, out_features=1, bias=True)\n",
            "  (activation_output): Sigmoid()\n",
            ")>\n"
          ]
        }
      ]
    },
    {
      "cell_type": "code",
      "source": [
        "print(model.parameters())"
      ],
      "metadata": {
        "colab": {
          "base_uri": "https://localhost:8080/"
        },
        "id": "N8GZ6uP2FQ6B",
        "outputId": "ab779549-1108-4f24-d773-b2393a1671a3"
      },
      "execution_count": 9,
      "outputs": [
        {
          "output_type": "stream",
          "name": "stdout",
          "text": [
            "<generator object Module.parameters at 0x7be243a73d10>\n"
          ]
        }
      ]
    },
    {
      "cell_type": "code",
      "source": [
        "from torchsummary import summary"
      ],
      "metadata": {
        "id": "EzpkgPKKHrqM"
      },
      "execution_count": 10,
      "outputs": []
    },
    {
      "cell_type": "code",
      "source": [
        "\"\"\"\n",
        "Create the model summary. This will take two parameters(1. Model 2. shape of training/input data)\n",
        "\"\"\"\n",
        "summary(model, X_train.shape)"
      ],
      "metadata": {
        "colab": {
          "base_uri": "https://localhost:8080/"
        },
        "id": "qBHHscDxHv0z",
        "outputId": "58c84ba0-ac37-4b6f-a670-10ecf52806ae"
      },
      "execution_count": 11,
      "outputs": [
        {
          "output_type": "stream",
          "name": "stdout",
          "text": [
            "----------------------------------------------------------------\n",
            "        Layer (type)               Output Shape         Param #\n",
            "================================================================\n",
            "            Linear-1              [-1, 614, 64]             576\n",
            "              ReLU-2              [-1, 614, 64]               0\n",
            "            Linear-3              [-1, 614, 32]           2,080\n",
            "              ReLU-4              [-1, 614, 32]               0\n",
            "            Linear-5               [-1, 614, 1]              33\n",
            "           Sigmoid-6               [-1, 614, 1]               0\n",
            "================================================================\n",
            "Total params: 2,689\n",
            "Trainable params: 2,689\n",
            "Non-trainable params: 0\n",
            "----------------------------------------------------------------\n",
            "Input size (MB): 0.02\n",
            "Forward/backward pass size (MB): 0.91\n",
            "Params size (MB): 0.01\n",
            "Estimated Total Size (MB): 0.94\n",
            "----------------------------------------------------------------\n"
          ]
        }
      ]
    },
    {
      "cell_type": "markdown",
      "source": [
        "#Training the model"
      ],
      "metadata": {
        "id": "cH590rPYIy0k"
      }
    },
    {
      "cell_type": "code",
      "source": [
        "\"\"\"\n",
        "Import the liabries\n",
        "\"\"\"\n",
        "\n",
        "import torch.optim as optim\n",
        "\n",
        "\"\"\"\n",
        "Define the loss function - I am solving `Binary Class Classification`\n",
        "\"\"\"\n",
        "\n",
        "loss_function = nn.BCELoss()\n",
        "\"\"\"\n",
        "Define the optimizer - In this case; Adam() optimizer\n",
        "\"\"\"\n",
        "optimizer = optim.Adam(model.parameters(), lr = 0.01)"
      ],
      "metadata": {
        "id": "MqjpH6AkI04p"
      },
      "execution_count": 12,
      "outputs": []
    },
    {
      "cell_type": "code",
      "source": [
        "\"\"\"Initialize the number of EPOCH you want to\"\"\"\n",
        "EPOCHS = 100\n",
        "LOSS = []\n",
        "model.train()\n",
        "for iteration, epoch in enumerate(range(EPOCHS)):\n",
        "  \"\"\"Call the data_loader so that we can pass the X_train data to the model with batch_size\"\"\"\n",
        "  for X_batch, y_batch in data_loader:\n",
        "    \"\"\"Pass the X_batch to the model\"\"\"\n",
        "    prediction = model(X_batch)\n",
        "    \"\"\"Calculate the loss function\"\"\"\n",
        "    loss = loss_function(prediction, y_batch.reshape(-1, 1))\n",
        "    \"\"\"Append this loss function\"\"\"\n",
        "    LOSS.append(loss)\n",
        "    \"\"\"Initialize the Gradient\"\"\"\n",
        "    optimizer.zero_grad()\n",
        "    \"\"\"After calculating the loss, we should be done the Backward propagation\"\"\"\n",
        "    loss.backward()\n",
        "    optimizer.step()\n",
        "  \"\"\"Display the loss function\"\"\"\n",
        "  print(\"For Epoch # {} :: The loss function of this model is ## {}\".format(epoch, loss))"
      ],
      "metadata": {
        "colab": {
          "base_uri": "https://localhost:8080/"
        },
        "id": "4_p9-uTKI1EG",
        "outputId": "b2551517-e525-4f46-964d-617a48675de2"
      },
      "execution_count": 13,
      "outputs": [
        {
          "output_type": "stream",
          "name": "stdout",
          "text": [
            "For Epoch # 0 :: The loss function of this model is ## 0.687446653842926\n",
            "For Epoch # 1 :: The loss function of this model is ## 0.9370222091674805\n",
            "For Epoch # 2 :: The loss function of this model is ## 0.3934587240219116\n",
            "For Epoch # 3 :: The loss function of this model is ## 0.6038882732391357\n",
            "For Epoch # 4 :: The loss function of this model is ## 0.992443859577179\n",
            "For Epoch # 5 :: The loss function of this model is ## 0.6026235818862915\n",
            "For Epoch # 6 :: The loss function of this model is ## 0.6145830750465393\n",
            "For Epoch # 7 :: The loss function of this model is ## 0.6781362891197205\n",
            "For Epoch # 8 :: The loss function of this model is ## 0.40171611309051514\n",
            "For Epoch # 9 :: The loss function of this model is ## 0.6775991320610046\n",
            "For Epoch # 10 :: The loss function of this model is ## 0.528370201587677\n",
            "For Epoch # 11 :: The loss function of this model is ## 0.8693141937255859\n",
            "For Epoch # 12 :: The loss function of this model is ## 0.3977154493331909\n",
            "For Epoch # 13 :: The loss function of this model is ## 0.3425613343715668\n",
            "For Epoch # 14 :: The loss function of this model is ## 0.4184350073337555\n",
            "For Epoch # 15 :: The loss function of this model is ## 0.416021466255188\n",
            "For Epoch # 16 :: The loss function of this model is ## 0.4360102713108063\n",
            "For Epoch # 17 :: The loss function of this model is ## 0.6634065508842468\n",
            "For Epoch # 18 :: The loss function of this model is ## 0.8099863529205322\n",
            "For Epoch # 19 :: The loss function of this model is ## 0.4905428886413574\n",
            "For Epoch # 20 :: The loss function of this model is ## 0.4672985374927521\n",
            "For Epoch # 21 :: The loss function of this model is ## 0.29071953892707825\n",
            "For Epoch # 22 :: The loss function of this model is ## 0.8066837191581726\n",
            "For Epoch # 23 :: The loss function of this model is ## 0.17439568042755127\n",
            "For Epoch # 24 :: The loss function of this model is ## 0.4125474989414215\n",
            "For Epoch # 25 :: The loss function of this model is ## 0.518200695514679\n",
            "For Epoch # 26 :: The loss function of this model is ## 0.8561646938323975\n",
            "For Epoch # 27 :: The loss function of this model is ## 0.36037537455558777\n",
            "For Epoch # 28 :: The loss function of this model is ## 0.4733641445636749\n",
            "For Epoch # 29 :: The loss function of this model is ## 0.6186003088951111\n",
            "For Epoch # 30 :: The loss function of this model is ## 0.33387458324432373\n",
            "For Epoch # 31 :: The loss function of this model is ## 0.5287619829177856\n",
            "For Epoch # 32 :: The loss function of this model is ## 0.7214396595954895\n",
            "For Epoch # 33 :: The loss function of this model is ## 0.6407549381256104\n",
            "For Epoch # 34 :: The loss function of this model is ## 0.6096802353858948\n",
            "For Epoch # 35 :: The loss function of this model is ## 1.0143494606018066\n",
            "For Epoch # 36 :: The loss function of this model is ## 0.8714232444763184\n",
            "For Epoch # 37 :: The loss function of this model is ## 0.6489116549491882\n",
            "For Epoch # 38 :: The loss function of this model is ## 0.6645459532737732\n",
            "For Epoch # 39 :: The loss function of this model is ## 0.9154350757598877\n",
            "For Epoch # 40 :: The loss function of this model is ## 0.3314657509326935\n",
            "For Epoch # 41 :: The loss function of this model is ## 0.5095146298408508\n",
            "For Epoch # 42 :: The loss function of this model is ## 0.5845025181770325\n",
            "For Epoch # 43 :: The loss function of this model is ## 0.23343008756637573\n",
            "For Epoch # 44 :: The loss function of this model is ## 0.6331292986869812\n",
            "For Epoch # 45 :: The loss function of this model is ## 0.6442390084266663\n",
            "For Epoch # 46 :: The loss function of this model is ## 0.3903341591358185\n",
            "For Epoch # 47 :: The loss function of this model is ## 0.7975584864616394\n",
            "For Epoch # 48 :: The loss function of this model is ## 0.7166334986686707\n",
            "For Epoch # 49 :: The loss function of this model is ## 0.41228851675987244\n",
            "For Epoch # 50 :: The loss function of this model is ## 0.25086450576782227\n",
            "For Epoch # 51 :: The loss function of this model is ## 0.5105929374694824\n",
            "For Epoch # 52 :: The loss function of this model is ## 0.518815279006958\n",
            "For Epoch # 53 :: The loss function of this model is ## 0.4736713469028473\n",
            "For Epoch # 54 :: The loss function of this model is ## 0.5850301384925842\n",
            "For Epoch # 55 :: The loss function of this model is ## 0.504547655582428\n",
            "For Epoch # 56 :: The loss function of this model is ## 0.6420188546180725\n",
            "For Epoch # 57 :: The loss function of this model is ## 0.48032817244529724\n",
            "For Epoch # 58 :: The loss function of this model is ## 0.3495785892009735\n",
            "For Epoch # 59 :: The loss function of this model is ## 0.5391223430633545\n",
            "For Epoch # 60 :: The loss function of this model is ## 0.6322569251060486\n",
            "For Epoch # 61 :: The loss function of this model is ## 0.6447650194168091\n",
            "For Epoch # 62 :: The loss function of this model is ## 0.3998950719833374\n",
            "For Epoch # 63 :: The loss function of this model is ## 0.30708909034729004\n",
            "For Epoch # 64 :: The loss function of this model is ## 0.30962762236595154\n",
            "For Epoch # 65 :: The loss function of this model is ## 0.6263981461524963\n",
            "For Epoch # 66 :: The loss function of this model is ## 0.45030179619789124\n",
            "For Epoch # 67 :: The loss function of this model is ## 0.6372808814048767\n",
            "For Epoch # 68 :: The loss function of this model is ## 0.39575257897377014\n",
            "For Epoch # 69 :: The loss function of this model is ## 0.27929237484931946\n",
            "For Epoch # 70 :: The loss function of this model is ## 0.6480767130851746\n",
            "For Epoch # 71 :: The loss function of this model is ## 0.3543485403060913\n",
            "For Epoch # 72 :: The loss function of this model is ## 0.5107157230377197\n",
            "For Epoch # 73 :: The loss function of this model is ## 0.9685423970222473\n",
            "For Epoch # 74 :: The loss function of this model is ## 0.6567190885543823\n",
            "For Epoch # 75 :: The loss function of this model is ## 0.6914710402488708\n",
            "For Epoch # 76 :: The loss function of this model is ## 0.6215217709541321\n",
            "For Epoch # 77 :: The loss function of this model is ## 0.7623984813690186\n",
            "For Epoch # 78 :: The loss function of this model is ## 0.3395511209964752\n",
            "For Epoch # 79 :: The loss function of this model is ## 0.29227951169013977\n",
            "For Epoch # 80 :: The loss function of this model is ## 0.2625497281551361\n",
            "For Epoch # 81 :: The loss function of this model is ## 0.5468212962150574\n",
            "For Epoch # 82 :: The loss function of this model is ## 0.4776216447353363\n",
            "For Epoch # 83 :: The loss function of this model is ## 0.42183542251586914\n",
            "For Epoch # 84 :: The loss function of this model is ## 0.35242095589637756\n",
            "For Epoch # 85 :: The loss function of this model is ## 0.6163643598556519\n",
            "For Epoch # 86 :: The loss function of this model is ## 0.2967489957809448\n",
            "For Epoch # 87 :: The loss function of this model is ## 0.45832595229148865\n",
            "For Epoch # 88 :: The loss function of this model is ## 0.3933999836444855\n",
            "For Epoch # 89 :: The loss function of this model is ## 0.31288179755210876\n",
            "For Epoch # 90 :: The loss function of this model is ## 0.45341941714286804\n",
            "For Epoch # 91 :: The loss function of this model is ## 1.0126259326934814\n",
            "For Epoch # 92 :: The loss function of this model is ## 0.5465232729911804\n",
            "For Epoch # 93 :: The loss function of this model is ## 0.5656790137290955\n",
            "For Epoch # 94 :: The loss function of this model is ## 0.6311011910438538\n",
            "For Epoch # 95 :: The loss function of this model is ## 1.183800458908081\n",
            "For Epoch # 96 :: The loss function of this model is ## 0.5310785174369812\n",
            "For Epoch # 97 :: The loss function of this model is ## 0.4138281047344208\n",
            "For Epoch # 98 :: The loss function of this model is ## 0.2834794223308563\n",
            "For Epoch # 99 :: The loss function of this model is ## 0.33642593026161194\n"
          ]
        }
      ]
    },
    {
      "cell_type": "code",
      "source": [
        "import matplotlib.pyplot as plt\n",
        "\n",
        "with torch.no_grad():\n",
        "  plt.plot(np.array(LOSS))"
      ],
      "metadata": {
        "colab": {
          "base_uri": "https://localhost:8080/",
          "height": 430
        },
        "id": "SysPaMp0OI_o",
        "outputId": "d9c77f40-f69e-444b-f2fc-da14649e5e3c"
      },
      "execution_count": 14,
      "outputs": [
        {
          "output_type": "display_data",
          "data": {
            "text/plain": [
              "<Figure size 640x480 with 1 Axes>"
            ],
            "image/png": "[encoded data removed]"
          },
          "metadata": {}
        }
      ]
    },
    {
      "cell_type": "code",
      "source": [
        "predicted = model(X_test)"
      ],
      "metadata": {
        "id": "gWoXBmUXPUkp"
      },
      "execution_count": 15,
      "outputs": []
    },
    {
      "cell_type": "code",
      "source": [
        "y_pred = torch.where(predicted.flatten() > 0.5, 1, 0)"
      ],
      "metadata": {
        "id": "kHzYq8vRPYwV"
      },
      "execution_count": 16,
      "outputs": []
    },
    {
      "cell_type": "code",
      "source": [
        "from sklearn.metrics import accuracy_score, precision_score, recall_score, f1_score\n",
        "\n",
        "print(\"The accuracy score is  = \", accuracy_score(y_pred, y_test))\n",
        "print(\"The precision score is = \", precision_score(y_pred, y_test))\n",
        "print(\"The recall score is    = \", recall_score(y_pred, y_test))\n",
        "print(\"The f1 score of ths is = \", f1_score(y_pred, y_test))"
      ],
      "metadata": {
        "colab": {
          "base_uri": "https://localhost:8080/"
        },
        "id": "pacy_bybPd8V",
        "outputId": "5517a596-94a4-40df-da55-7938e5d08cfd"
      },
      "execution_count": 17,
      "outputs": [
        {
          "output_type": "stream",
          "name": "stdout",
          "text": [
            "The accuracy score is  =  0.7532467532467533\n",
            "The precision score is =  0.4727272727272727\n",
            "The recall score is    =  0.7428571428571429\n",
            "The f1 score of ths is =  0.5777777777777778\n"
          ]
        }
      ]
    }
  ]
}