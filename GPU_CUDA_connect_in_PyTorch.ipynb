{
  "nbformat": 4,
  "nbformat_minor": 0,
  "metadata": {
    "colab": {
      "provenance": [],
      "gpuType": "T4"
    },
    "kernelspec": {
      "name": "python3",
      "display_name": "Python 3"
    },
    "language_info": {
      "name": "python"
    },
    "accelerator": "GPU"
  },
  "cells": [
    {
      "cell_type": "code",
      "execution_count": 26,
      "metadata": {
        "id": "AsNzor2rzHt9"
      },
      "outputs": [],
      "source": [
        "# Import all necessity functions for Machine Learning #####\n",
        "import numpy as np\n",
        "import pandas as pd\n",
        "import seaborn as sns\n",
        "import matplotlib.pyplot as plt\n",
        "import warnings\n",
        "from sklearn.metrics._plot.confusion_matrix import confusion_matrix\n",
        "from sklearn.model_selection import train_test_split, KFold, StratifiedKFold, GridSearchCV, RandomizedSearchCV\n",
        "from sklearn.preprocessing import StandardScaler, RobustScaler, MinMaxScaler\n",
        "from sklearn.decomposition import PCA\n",
        "from sklearn.metrics import classification_report, mean_absolute_error, mean_squared_error, r2_score, accuracy_score, recall_score, precision_score, f1_score"
      ]
    },
    {
      "cell_type": "markdown",
      "source": [
        "#####Import the dataset"
      ],
      "metadata": {
        "id": "wMNTOjGUzWux"
      }
    },
    {
      "cell_type": "code",
      "source": [
        "df = pd.read_csv('/content/Iris.csv')\n",
        "df.head()"
      ],
      "metadata": {
        "colab": {
          "base_uri": "https://localhost:8080/",
          "height": 206
        },
        "id": "Fn94MZ4ezZUq",
        "outputId": "39b3a207-2f54-45c5-d178-2bfcb057f41e"
      },
      "execution_count": 2,
      "outputs": [
        {
          "output_type": "execute_result",
          "data": {
            "text/plain": [
              "   Id  SepalLengthCm  SepalWidthCm  PetalLengthCm  PetalWidthCm      Species\n",
              "0   1            5.1           3.5            1.4           0.2  Iris-setosa\n",
              "1   2            4.9           3.0            1.4           0.2  Iris-setosa\n",
              "2   3            4.7           3.2            1.3           0.2  Iris-setosa\n",
              "3   4            4.6           3.1            1.5           0.2  Iris-setosa\n",
              "4   5            5.0           3.6            1.4           0.2  Iris-setosa"
            ],
            "text/html": [
              "\n",
              "\n",
              "  <div id=\"df-f11a1f41-39a0-4344-a27d-ac2f039a59f5\">\n",
              "    <div class=\"colab-df-container\">\n",
              "      <div>\n",
              "<style scoped>\n",
              "    .dataframe tbody tr th:only-of-type {\n",
              "        vertical-align: middle;\n",
              "    }\n",
              "\n",
              "    .dataframe tbody tr th {\n",
              "        vertical-align: top;\n",
              "    }\n",
              "\n",
              "    .dataframe thead th {\n",
              "        text-align: right;\n",
              "    }\n",
              "</style>\n",
              "<table border=\"1\" class=\"dataframe\">\n",
              "  <thead>\n",
              "    <tr style=\"text-align: right;\">\n",
              "      <th></th>\n",
              "      <th>Id</th>\n",
              "      <th>SepalLengthCm</th>\n",
              "      <th>SepalWidthCm</th>\n",
              "      <th>PetalLengthCm</th>\n",
              "      <th>PetalWidthCm</th>\n",
              "      <th>Species</th>\n",
              "    </tr>\n",
              "  </thead>\n",
              "  <tbody>\n",
              "    <tr>\n",
              "      <th>0</th>\n",
              "      <td>1</td>\n",
              "      <td>5.1</td>\n",
              "      <td>3.5</td>\n",
              "      <td>1.4</td>\n",
              "      <td>0.2</td>\n",
              "      <td>Iris-setosa</td>\n",
              "    </tr>\n",
              "    <tr>\n",
              "      <th>1</th>\n",
              "      <td>2</td>\n",
              "      <td>4.9</td>\n",
              "      <td>3.0</td>\n",
              "      <td>1.4</td>\n",
              "      <td>0.2</td>\n",
              "      <td>Iris-setosa</td>\n",
              "    </tr>\n",
              "    <tr>\n",
              "      <th>2</th>\n",
              "      <td>3</td>\n",
              "      <td>4.7</td>\n",
              "      <td>3.2</td>\n",
              "      <td>1.3</td>\n",
              "      <td>0.2</td>\n",
              "      <td>Iris-setosa</td>\n",
              "    </tr>\n",
              "    <tr>\n",
              "      <th>3</th>\n",
              "      <td>4</td>\n",
              "      <td>4.6</td>\n",
              "      <td>3.1</td>\n",
              "      <td>1.5</td>\n",
              "      <td>0.2</td>\n",
              "      <td>Iris-setosa</td>\n",
              "    </tr>\n",
              "    <tr>\n",
              "      <th>4</th>\n",
              "      <td>5</td>\n",
              "      <td>5.0</td>\n",
              "      <td>3.6</td>\n",
              "      <td>1.4</td>\n",
              "      <td>0.2</td>\n",
              "      <td>Iris-setosa</td>\n",
              "    </tr>\n",
              "  </tbody>\n",
              "</table>\n",
              "</div>\n",
              "      <button class=\"colab-df-convert\" onclick=\"convertToInteractive('df-f11a1f41-39a0-4344-a27d-ac2f039a59f5')\"\n",
              "              title=\"Convert this dataframe to an interactive table.\"\n",
              "              style=\"display:none;\">\n",
              "\n",
              "  <svg xmlns=\"http://www.w3.org/2000/svg\" height=\"24px\"viewBox=\"0 0 24 24\"\n",
              "       width=\"24px\">\n",
              "    <path d=\"M0 0h24v24H0V0z\" fill=\"none\"/>\n",
              "    <path d=\"M18.56 5.44l.94 2.06.94-2.06 2.06-.94-2.06-.94-.94-2.06-.94 2.06-2.06.94zm-11 1L8.5 8.5l.94-2.06 2.06-.94-2.06-.94L8.5 2.5l-.94 2.06-2.06.94zm10 10l.94 2.06.94-2.06 2.06-.94-2.06-.94-.94-2.06-.94 2.06-2.06.94z\"/><path d=\"M17.41 7.96l-1.37-1.37c-.4-.4-.92-.59-1.43-.59-.52 0-1.04.2-1.43.59L10.3 9.45l-7.72 7.72c-.78.78-.78 2.05 0 2.83L4 21.41c.39.39.9.59 1.41.59.51 0 1.02-.2 1.41-.59l7.78-7.78 2.81-2.81c.8-.78.8-2.07 0-2.86zM5.41 20L4 18.59l7.72-7.72 1.47 1.35L5.41 20z\"/>\n",
              "  </svg>\n",
              "      </button>\n",
              "\n",
              "\n",
              "\n",
              "    <div id=\"df-257be9fa-6e1d-4c0e-9e10-e4bc7c5b05f1\">\n",
              "      <button class=\"colab-df-quickchart\" onclick=\"quickchart('df-257be9fa-6e1d-4c0e-9e10-e4bc7c5b05f1')\"\n",
              "              title=\"Suggest charts.\"\n",
              "              style=\"display:none;\">\n",
              "\n",
              "<svg xmlns=\"http://www.w3.org/2000/svg\" height=\"24px\"viewBox=\"0 0 24 24\"\n",
              "     width=\"24px\">\n",
              "    <g>\n",
              "        <path d=\"M19 3H5c-1.1 0-2 .9-2 2v14c0 1.1.9 2 2 2h14c1.1 0 2-.9 2-2V5c0-1.1-.9-2-2-2zM9 17H7v-7h2v7zm4 0h-2V7h2v10zm4 0h-2v-4h2v4z\"/>\n",
              "    </g>\n",
              "</svg>\n",
              "      </button>\n",
              "    </div>\n",
              "\n",
              "<style>\n",
              "  .colab-df-quickchart {\n",
              "    background-color: #E8F0FE;\n",
              "    border: none;\n",
              "    border-radius: 50%;\n",
              "    cursor: pointer;\n",
              "    display: none;\n",
              "    fill: #1967D2;\n",
              "    height: 32px;\n",
              "    padding: 0 0 0 0;\n",
              "    width: 32px;\n",
              "  }\n",
              "\n",
              "  .colab-df-quickchart:hover {\n",
              "    background-color: #E2EBFA;\n",
              "    box-shadow: 0px 1px 2px rgba(60, 64, 67, 0.3), 0px 1px 3px 1px rgba(60, 64, 67, 0.15);\n",
              "    fill: #174EA6;\n",
              "  }\n",
              "\n",
              "  [theme=dark] .colab-df-quickchart {\n",
              "    background-color: #3B4455;\n",
              "    fill: #D2E3FC;\n",
              "  }\n",
              "\n",
              "  [theme=dark] .colab-df-quickchart:hover {\n",
              "    background-color: #434B5C;\n",
              "    box-shadow: 0px 1px 3px 1px rgba(0, 0, 0, 0.15);\n",
              "    filter: drop-shadow(0px 1px 2px rgba(0, 0, 0, 0.3));\n",
              "    fill: #FFFFFF;\n",
              "  }\n",
              "</style>\n",
              "\n",
              "    <script>\n",
              "      async function quickchart(key) {\n",
              "        const containerElement = document.querySelector('#' + key);\n",
              "        const charts = await google.colab.kernel.invokeFunction(\n",
              "            'suggestCharts', [key], {});\n",
              "      }\n",
              "    </script>\n",
              "\n",
              "      <script>\n",
              "\n",
              "function displayQuickchartButton(domScope) {\n",
              "  let quickchartButtonEl =\n",
              "    domScope.querySelector('#df-257be9fa-6e1d-4c0e-9e10-e4bc7c5b05f1 button.colab-df-quickchart');\n",
              "  quickchartButtonEl.style.display =\n",
              "    google.colab.kernel.accessAllowed ? 'block' : 'none';\n",
              "}\n",
              "\n",
              "        displayQuickchartButton(document);\n",
              "      </script>\n",
              "      <style>\n",
              "    .colab-df-container {\n",
              "      display:flex;\n",
              "      flex-wrap:wrap;\n",
              "      gap: 12px;\n",
              "    }\n",
              "\n",
              "    .colab-df-convert {\n",
              "      background-color: #E8F0FE;\n",
              "      border: none;\n",
              "      border-radius: 50%;\n",
              "      cursor: pointer;\n",
              "      display: none;\n",
              "      fill: #1967D2;\n",
              "      height: 32px;\n",
              "      padding: 0 0 0 0;\n",
              "      width: 32px;\n",
              "    }\n",
              "\n",
              "    .colab-df-convert:hover {\n",
              "      background-color: #E2EBFA;\n",
              "      box-shadow: 0px 1px 2px rgba(60, 64, 67, 0.3), 0px 1px 3px 1px rgba(60, 64, 67, 0.15);\n",
              "      fill: #174EA6;\n",
              "    }\n",
              "\n",
              "    [theme=dark] .colab-df-convert {\n",
              "      background-color: #3B4455;\n",
              "      fill: #D2E3FC;\n",
              "    }\n",
              "\n",
              "    [theme=dark] .colab-df-convert:hover {\n",
              "      background-color: #434B5C;\n",
              "      box-shadow: 0px 1px 3px 1px rgba(0, 0, 0, 0.15);\n",
              "      filter: drop-shadow(0px 1px 2px rgba(0, 0, 0, 0.3));\n",
              "      fill: #FFFFFF;\n",
              "    }\n",
              "  </style>\n",
              "\n",
              "      <script>\n",
              "        const buttonEl =\n",
              "          document.querySelector('#df-f11a1f41-39a0-4344-a27d-ac2f039a59f5 button.colab-df-convert');\n",
              "        buttonEl.style.display =\n",
              "          google.colab.kernel.accessAllowed ? 'block' : 'none';\n",
              "\n",
              "        async function convertToInteractive(key) {\n",
              "          const element = document.querySelector('#df-f11a1f41-39a0-4344-a27d-ac2f039a59f5');\n",
              "          const dataTable =\n",
              "            await google.colab.kernel.invokeFunction('convertToInteractive',\n",
              "                                                     [key], {});\n",
              "          if (!dataTable) return;\n",
              "\n",
              "          const docLinkHtml = 'Like what you see? Visit the ' +\n",
              "            '<a target=\"_blank\" href=https://colab.research.google.com/notebooks/data_table.ipynb>data table notebook</a>'\n",
              "            + ' to learn more about interactive tables.';\n",
              "          element.innerHTML = '';\n",
              "          dataTable['output_type'] = 'display_data';\n",
              "          await google.colab.output.renderOutput(dataTable, element);\n",
              "          const docLink = document.createElement('div');\n",
              "          docLink.innerHTML = docLinkHtml;\n",
              "          element.appendChild(docLink);\n",
              "        }\n",
              "      </script>\n",
              "    </div>\n",
              "  </div>\n"
            ]
          },
          "metadata": {},
          "execution_count": 2
        }
      ]
    },
    {
      "cell_type": "markdown",
      "source": [
        "#####Convert this target class into Numerical"
      ],
      "metadata": {
        "id": "50K_TzBgziCY"
      }
    },
    {
      "cell_type": "code",
      "source": [
        "df.loc[:, 'Species'] = df.loc[:, 'Species'].\\\n",
        "      map({value: index for index, value\\\n",
        "      in enumerate(df.loc[:, 'Species'].value_counts().index)})\n",
        "\n",
        "df.head()"
      ],
      "metadata": {
        "colab": {
          "base_uri": "https://localhost:8080/",
          "height": 261
        },
        "id": "JrnUOjpizhZA",
        "outputId": "fee08ecd-1631-45a1-abb2-99239d7d5f5e"
      },
      "execution_count": 3,
      "outputs": [
        {
          "output_type": "stream",
          "name": "stderr",
          "text": [
            "<ipython-input-3-cadeae4ab286>:1: DeprecationWarning: In a future version, `df.iloc[:, i] = newvals` will attempt to set the values inplace instead of always setting a new array. To retain the old behavior, use either `df[df.columns[i]] = newvals` or, if columns are non-unique, `df.isetitem(i, newvals)`\n",
            "  df.loc[:, 'Species'] = df.loc[:, 'Species'].\\\n"
          ]
        },
        {
          "output_type": "execute_result",
          "data": {
            "text/plain": [
              "   Id  SepalLengthCm  SepalWidthCm  PetalLengthCm  PetalWidthCm  Species\n",
              "0   1            5.1           3.5            1.4           0.2        0\n",
              "1   2            4.9           3.0            1.4           0.2        0\n",
              "2   3            4.7           3.2            1.3           0.2        0\n",
              "3   4            4.6           3.1            1.5           0.2        0\n",
              "4   5            5.0           3.6            1.4           0.2        0"
            ],
            "text/html": [
              "\n",
              "\n",
              "  <div id=\"df-514cf949-5eb3-4aaa-8818-18aca1d94e41\">\n",
              "    <div class=\"colab-df-container\">\n",
              "      <div>\n",
              "<style scoped>\n",
              "    .dataframe tbody tr th:only-of-type {\n",
              "        vertical-align: middle;\n",
              "    }\n",
              "\n",
              "    .dataframe tbody tr th {\n",
              "        vertical-align: top;\n",
              "    }\n",
              "\n",
              "    .dataframe thead th {\n",
              "        text-align: right;\n",
              "    }\n",
              "</style>\n",
              "<table border=\"1\" class=\"dataframe\">\n",
              "  <thead>\n",
              "    <tr style=\"text-align: right;\">\n",
              "      <th></th>\n",
              "      <th>Id</th>\n",
              "      <th>SepalLengthCm</th>\n",
              "      <th>SepalWidthCm</th>\n",
              "      <th>PetalLengthCm</th>\n",
              "      <th>PetalWidthCm</th>\n",
              "      <th>Species</th>\n",
              "    </tr>\n",
              "  </thead>\n",
              "  <tbody>\n",
              "    <tr>\n",
              "      <th>0</th>\n",
              "      <td>1</td>\n",
              "      <td>5.1</td>\n",
              "      <td>3.5</td>\n",
              "      <td>1.4</td>\n",
              "      <td>0.2</td>\n",
              "      <td>0</td>\n",
              "    </tr>\n",
              "    <tr>\n",
              "      <th>1</th>\n",
              "      <td>2</td>\n",
              "      <td>4.9</td>\n",
              "      <td>3.0</td>\n",
              "      <td>1.4</td>\n",
              "      <td>0.2</td>\n",
              "      <td>0</td>\n",
              "    </tr>\n",
              "    <tr>\n",
              "      <th>2</th>\n",
              "      <td>3</td>\n",
              "      <td>4.7</td>\n",
              "      <td>3.2</td>\n",
              "      <td>1.3</td>\n",
              "      <td>0.2</td>\n",
              "      <td>0</td>\n",
              "    </tr>\n",
              "    <tr>\n",
              "      <th>3</th>\n",
              "      <td>4</td>\n",
              "      <td>4.6</td>\n",
              "      <td>3.1</td>\n",
              "      <td>1.5</td>\n",
              "      <td>0.2</td>\n",
              "      <td>0</td>\n",
              "    </tr>\n",
              "    <tr>\n",
              "      <th>4</th>\n",
              "      <td>5</td>\n",
              "      <td>5.0</td>\n",
              "      <td>3.6</td>\n",
              "      <td>1.4</td>\n",
              "      <td>0.2</td>\n",
              "      <td>0</td>\n",
              "    </tr>\n",
              "  </tbody>\n",
              "</table>\n",
              "</div>\n",
              "      <button class=\"colab-df-convert\" onclick=\"convertToInteractive('df-514cf949-5eb3-4aaa-8818-18aca1d94e41')\"\n",
              "              title=\"Convert this dataframe to an interactive table.\"\n",
              "              style=\"display:none;\">\n",
              "\n",
              "  <svg xmlns=\"http://www.w3.org/2000/svg\" height=\"24px\"viewBox=\"0 0 24 24\"\n",
              "       width=\"24px\">\n",
              "    <path d=\"M0 0h24v24H0V0z\" fill=\"none\"/>\n",
              "    <path d=\"M18.56 5.44l.94 2.06.94-2.06 2.06-.94-2.06-.94-.94-2.06-.94 2.06-2.06.94zm-11 1L8.5 8.5l.94-2.06 2.06-.94-2.06-.94L8.5 2.5l-.94 2.06-2.06.94zm10 10l.94 2.06.94-2.06 2.06-.94-2.06-.94-.94-2.06-.94 2.06-2.06.94z\"/><path d=\"M17.41 7.96l-1.37-1.37c-.4-.4-.92-.59-1.43-.59-.52 0-1.04.2-1.43.59L10.3 9.45l-7.72 7.72c-.78.78-.78 2.05 0 2.83L4 21.41c.39.39.9.59 1.41.59.51 0 1.02-.2 1.41-.59l7.78-7.78 2.81-2.81c.8-.78.8-2.07 0-2.86zM5.41 20L4 18.59l7.72-7.72 1.47 1.35L5.41 20z\"/>\n",
              "  </svg>\n",
              "      </button>\n",
              "\n",
              "\n",
              "\n",
              "    <div id=\"df-6916582b-cf1e-4860-a78d-ec6f0b956f2a\">\n",
              "      <button class=\"colab-df-quickchart\" onclick=\"quickchart('df-6916582b-cf1e-4860-a78d-ec6f0b956f2a')\"\n",
              "              title=\"Suggest charts.\"\n",
              "              style=\"display:none;\">\n",
              "\n",
              "<svg xmlns=\"http://www.w3.org/2000/svg\" height=\"24px\"viewBox=\"0 0 24 24\"\n",
              "     width=\"24px\">\n",
              "    <g>\n",
              "        <path d=\"M19 3H5c-1.1 0-2 .9-2 2v14c0 1.1.9 2 2 2h14c1.1 0 2-.9 2-2V5c0-1.1-.9-2-2-2zM9 17H7v-7h2v7zm4 0h-2V7h2v10zm4 0h-2v-4h2v4z\"/>\n",
              "    </g>\n",
              "</svg>\n",
              "      </button>\n",
              "    </div>\n",
              "\n",
              "<style>\n",
              "  .colab-df-quickchart {\n",
              "    background-color: #E8F0FE;\n",
              "    border: none;\n",
              "    border-radius: 50%;\n",
              "    cursor: pointer;\n",
              "    display: none;\n",
              "    fill: #1967D2;\n",
              "    height: 32px;\n",
              "    padding: 0 0 0 0;\n",
              "    width: 32px;\n",
              "  }\n",
              "\n",
              "  .colab-df-quickchart:hover {\n",
              "    background-color: #E2EBFA;\n",
              "    box-shadow: 0px 1px 2px rgba(60, 64, 67, 0.3), 0px 1px 3px 1px rgba(60, 64, 67, 0.15);\n",
              "    fill: #174EA6;\n",
              "  }\n",
              "\n",
              "  [theme=dark] .colab-df-quickchart {\n",
              "    background-color: #3B4455;\n",
              "    fill: #D2E3FC;\n",
              "  }\n",
              "\n",
              "  [theme=dark] .colab-df-quickchart:hover {\n",
              "    background-color: #434B5C;\n",
              "    box-shadow: 0px 1px 3px 1px rgba(0, 0, 0, 0.15);\n",
              "    filter: drop-shadow(0px 1px 2px rgba(0, 0, 0, 0.3));\n",
              "    fill: #FFFFFF;\n",
              "  }\n",
              "</style>\n",
              "\n",
              "    <script>\n",
              "      async function quickchart(key) {\n",
              "        const containerElement = document.querySelector('#' + key);\n",
              "        const charts = await google.colab.kernel.invokeFunction(\n",
              "            'suggestCharts', [key], {});\n",
              "      }\n",
              "    </script>\n",
              "\n",
              "      <script>\n",
              "\n",
              "function displayQuickchartButton(domScope) {\n",
              "  let quickchartButtonEl =\n",
              "    domScope.querySelector('#df-6916582b-cf1e-4860-a78d-ec6f0b956f2a button.colab-df-quickchart');\n",
              "  quickchartButtonEl.style.display =\n",
              "    google.colab.kernel.accessAllowed ? 'block' : 'none';\n",
              "}\n",
              "\n",
              "        displayQuickchartButton(document);\n",
              "      </script>\n",
              "      <style>\n",
              "    .colab-df-container {\n",
              "      display:flex;\n",
              "      flex-wrap:wrap;\n",
              "      gap: 12px;\n",
              "    }\n",
              "\n",
              "    .colab-df-convert {\n",
              "      background-color: #E8F0FE;\n",
              "      border: none;\n",
              "      border-radius: 50%;\n",
              "      cursor: pointer;\n",
              "      display: none;\n",
              "      fill: #1967D2;\n",
              "      height: 32px;\n",
              "      padding: 0 0 0 0;\n",
              "      width: 32px;\n",
              "    }\n",
              "\n",
              "    .colab-df-convert:hover {\n",
              "      background-color: #E2EBFA;\n",
              "      box-shadow: 0px 1px 2px rgba(60, 64, 67, 0.3), 0px 1px 3px 1px rgba(60, 64, 67, 0.15);\n",
              "      fill: #174EA6;\n",
              "    }\n",
              "\n",
              "    [theme=dark] .colab-df-convert {\n",
              "      background-color: #3B4455;\n",
              "      fill: #D2E3FC;\n",
              "    }\n",
              "\n",
              "    [theme=dark] .colab-df-convert:hover {\n",
              "      background-color: #434B5C;\n",
              "      box-shadow: 0px 1px 3px 1px rgba(0, 0, 0, 0.15);\n",
              "      filter: drop-shadow(0px 1px 2px rgba(0, 0, 0, 0.3));\n",
              "      fill: #FFFFFF;\n",
              "    }\n",
              "  </style>\n",
              "\n",
              "      <script>\n",
              "        const buttonEl =\n",
              "          document.querySelector('#df-514cf949-5eb3-4aaa-8818-18aca1d94e41 button.colab-df-convert');\n",
              "        buttonEl.style.display =\n",
              "          google.colab.kernel.accessAllowed ? 'block' : 'none';\n",
              "\n",
              "        async function convertToInteractive(key) {\n",
              "          const element = document.querySelector('#df-514cf949-5eb3-4aaa-8818-18aca1d94e41');\n",
              "          const dataTable =\n",
              "            await google.colab.kernel.invokeFunction('convertToInteractive',\n",
              "                                                     [key], {});\n",
              "          if (!dataTable) return;\n",
              "\n",
              "          const docLinkHtml = 'Like what you see? Visit the ' +\n",
              "            '<a target=\"_blank\" href=https://colab.research.google.com/notebooks/data_table.ipynb>data table notebook</a>'\n",
              "            + ' to learn more about interactive tables.';\n",
              "          element.innerHTML = '';\n",
              "          dataTable['output_type'] = 'display_data';\n",
              "          await google.colab.output.renderOutput(dataTable, element);\n",
              "          const docLink = document.createElement('div');\n",
              "          docLink.innerHTML = docLinkHtml;\n",
              "          element.appendChild(docLink);\n",
              "        }\n",
              "      </script>\n",
              "    </div>\n",
              "  </div>\n"
            ]
          },
          "metadata": {},
          "execution_count": 3
        }
      ]
    },
    {
      "cell_type": "markdown",
      "source": [
        "#####Scaling the dataset"
      ],
      "metadata": {
        "id": "h5gUoDJN0KV8"
      }
    },
    {
      "cell_type": "code",
      "source": [
        "StandardScaler = StandardScaler()\n",
        "independent = StandardScaler.fit_transform(df.iloc[:, :-1].values)\n",
        "independent = pd.DataFrame(independent, columns = df.columns[:-1])\n",
        "df = pd.concat([independent, df.iloc[:, -1]], axis = 1)\n",
        "df.head()"
      ],
      "metadata": {
        "colab": {
          "base_uri": "https://localhost:8080/",
          "height": 206
        },
        "id": "JhsF-qS80IoC",
        "outputId": "8d92f86d-7d8b-4dd1-b1fe-315e73ea1d56"
      },
      "execution_count": 4,
      "outputs": [
        {
          "output_type": "execute_result",
          "data": {
            "text/plain": [
              "         Id  SepalLengthCm  SepalWidthCm  PetalLengthCm  PetalWidthCm  Species\n",
              "0 -1.720542      -0.900681      1.032057      -1.341272     -1.312977        0\n",
              "1 -1.697448      -1.143017     -0.124958      -1.341272     -1.312977        0\n",
              "2 -1.674353      -1.385353      0.337848      -1.398138     -1.312977        0\n",
              "3 -1.651258      -1.506521      0.106445      -1.284407     -1.312977        0\n",
              "4 -1.628164      -1.021849      1.263460      -1.341272     -1.312977        0"
            ],
            "text/html": [
              "\n",
              "\n",
              "  <div id=\"df-c2bdf9ba-324f-4d34-abd5-5f76e1d4ae2c\">\n",
              "    <div class=\"colab-df-container\">\n",
              "      <div>\n",
              "<style scoped>\n",
              "    .dataframe tbody tr th:only-of-type {\n",
              "        vertical-align: middle;\n",
              "    }\n",
              "\n",
              "    .dataframe tbody tr th {\n",
              "        vertical-align: top;\n",
              "    }\n",
              "\n",
              "    .dataframe thead th {\n",
              "        text-align: right;\n",
              "    }\n",
              "</style>\n",
              "<table border=\"1\" class=\"dataframe\">\n",
              "  <thead>\n",
              "    <tr style=\"text-align: right;\">\n",
              "      <th></th>\n",
              "      <th>Id</th>\n",
              "      <th>SepalLengthCm</th>\n",
              "      <th>SepalWidthCm</th>\n",
              "      <th>PetalLengthCm</th>\n",
              "      <th>PetalWidthCm</th>\n",
              "      <th>Species</th>\n",
              "    </tr>\n",
              "  </thead>\n",
              "  <tbody>\n",
              "    <tr>\n",
              "      <th>0</th>\n",
              "      <td>-1.720542</td>\n",
              "      <td>-0.900681</td>\n",
              "      <td>1.032057</td>\n",
              "      <td>-1.341272</td>\n",
              "      <td>-1.312977</td>\n",
              "      <td>0</td>\n",
              "    </tr>\n",
              "    <tr>\n",
              "      <th>1</th>\n",
              "      <td>-1.697448</td>\n",
              "      <td>-1.143017</td>\n",
              "      <td>-0.124958</td>\n",
              "      <td>-1.341272</td>\n",
              "      <td>-1.312977</td>\n",
              "      <td>0</td>\n",
              "    </tr>\n",
              "    <tr>\n",
              "      <th>2</th>\n",
              "      <td>-1.674353</td>\n",
              "      <td>-1.385353</td>\n",
              "      <td>0.337848</td>\n",
              "      <td>-1.398138</td>\n",
              "      <td>-1.312977</td>\n",
              "      <td>0</td>\n",
              "    </tr>\n",
              "    <tr>\n",
              "      <th>3</th>\n",
              "      <td>-1.651258</td>\n",
              "      <td>-1.506521</td>\n",
              "      <td>0.106445</td>\n",
              "      <td>-1.284407</td>\n",
              "      <td>-1.312977</td>\n",
              "      <td>0</td>\n",
              "    </tr>\n",
              "    <tr>\n",
              "      <th>4</th>\n",
              "      <td>-1.628164</td>\n",
              "      <td>-1.021849</td>\n",
              "      <td>1.263460</td>\n",
              "      <td>-1.341272</td>\n",
              "      <td>-1.312977</td>\n",
              "      <td>0</td>\n",
              "    </tr>\n",
              "  </tbody>\n",
              "</table>\n",
              "</div>\n",
              "      <button class=\"colab-df-convert\" onclick=\"convertToInteractive('df-c2bdf9ba-324f-4d34-abd5-5f76e1d4ae2c')\"\n",
              "              title=\"Convert this dataframe to an interactive table.\"\n",
              "              style=\"display:none;\">\n",
              "\n",
              "  <svg xmlns=\"http://www.w3.org/2000/svg\" height=\"24px\"viewBox=\"0 0 24 24\"\n",
              "       width=\"24px\">\n",
              "    <path d=\"M0 0h24v24H0V0z\" fill=\"none\"/>\n",
              "    <path d=\"M18.56 5.44l.94 2.06.94-2.06 2.06-.94-2.06-.94-.94-2.06-.94 2.06-2.06.94zm-11 1L8.5 8.5l.94-2.06 2.06-.94-2.06-.94L8.5 2.5l-.94 2.06-2.06.94zm10 10l.94 2.06.94-2.06 2.06-.94-2.06-.94-.94-2.06-.94 2.06-2.06.94z\"/><path d=\"M17.41 7.96l-1.37-1.37c-.4-.4-.92-.59-1.43-.59-.52 0-1.04.2-1.43.59L10.3 9.45l-7.72 7.72c-.78.78-.78 2.05 0 2.83L4 21.41c.39.39.9.59 1.41.59.51 0 1.02-.2 1.41-.59l7.78-7.78 2.81-2.81c.8-.78.8-2.07 0-2.86zM5.41 20L4 18.59l7.72-7.72 1.47 1.35L5.41 20z\"/>\n",
              "  </svg>\n",
              "      </button>\n",
              "\n",
              "\n",
              "\n",
              "    <div id=\"df-8b273072-19eb-4632-b072-bda76d7975e9\">\n",
              "      <button class=\"colab-df-quickchart\" onclick=\"quickchart('df-8b273072-19eb-4632-b072-bda76d7975e9')\"\n",
              "              title=\"Suggest charts.\"\n",
              "              style=\"display:none;\">\n",
              "\n",
              "<svg xmlns=\"http://www.w3.org/2000/svg\" height=\"24px\"viewBox=\"0 0 24 24\"\n",
              "     width=\"24px\">\n",
              "    <g>\n",
              "        <path d=\"M19 3H5c-1.1 0-2 .9-2 2v14c0 1.1.9 2 2 2h14c1.1 0 2-.9 2-2V5c0-1.1-.9-2-2-2zM9 17H7v-7h2v7zm4 0h-2V7h2v10zm4 0h-2v-4h2v4z\"/>\n",
              "    </g>\n",
              "</svg>\n",
              "      </button>\n",
              "    </div>\n",
              "\n",
              "<style>\n",
              "  .colab-df-quickchart {\n",
              "    background-color: #E8F0FE;\n",
              "    border: none;\n",
              "    border-radius: 50%;\n",
              "    cursor: pointer;\n",
              "    display: none;\n",
              "    fill: #1967D2;\n",
              "    height: 32px;\n",
              "    padding: 0 0 0 0;\n",
              "    width: 32px;\n",
              "  }\n",
              "\n",
              "  .colab-df-quickchart:hover {\n",
              "    background-color: #E2EBFA;\n",
              "    box-shadow: 0px 1px 2px rgba(60, 64, 67, 0.3), 0px 1px 3px 1px rgba(60, 64, 67, 0.15);\n",
              "    fill: #174EA6;\n",
              "  }\n",
              "\n",
              "  [theme=dark] .colab-df-quickchart {\n",
              "    background-color: #3B4455;\n",
              "    fill: #D2E3FC;\n",
              "  }\n",
              "\n",
              "  [theme=dark] .colab-df-quickchart:hover {\n",
              "    background-color: #434B5C;\n",
              "    box-shadow: 0px 1px 3px 1px rgba(0, 0, 0, 0.15);\n",
              "    filter: drop-shadow(0px 1px 2px rgba(0, 0, 0, 0.3));\n",
              "    fill: #FFFFFF;\n",
              "  }\n",
              "</style>\n",
              "\n",
              "    <script>\n",
              "      async function quickchart(key) {\n",
              "        const containerElement = document.querySelector('#' + key);\n",
              "        const charts = await google.colab.kernel.invokeFunction(\n",
              "            'suggestCharts', [key], {});\n",
              "      }\n",
              "    </script>\n",
              "\n",
              "      <script>\n",
              "\n",
              "function displayQuickchartButton(domScope) {\n",
              "  let quickchartButtonEl =\n",
              "    domScope.querySelector('#df-8b273072-19eb-4632-b072-bda76d7975e9 button.colab-df-quickchart');\n",
              "  quickchartButtonEl.style.display =\n",
              "    google.colab.kernel.accessAllowed ? 'block' : 'none';\n",
              "}\n",
              "\n",
              "        displayQuickchartButton(document);\n",
              "      </script>\n",
              "      <style>\n",
              "    .colab-df-container {\n",
              "      display:flex;\n",
              "      flex-wrap:wrap;\n",
              "      gap: 12px;\n",
              "    }\n",
              "\n",
              "    .colab-df-convert {\n",
              "      background-color: #E8F0FE;\n",
              "      border: none;\n",
              "      border-radius: 50%;\n",
              "      cursor: pointer;\n",
              "      display: none;\n",
              "      fill: #1967D2;\n",
              "      height: 32px;\n",
              "      padding: 0 0 0 0;\n",
              "      width: 32px;\n",
              "    }\n",
              "\n",
              "    .colab-df-convert:hover {\n",
              "      background-color: #E2EBFA;\n",
              "      box-shadow: 0px 1px 2px rgba(60, 64, 67, 0.3), 0px 1px 3px 1px rgba(60, 64, 67, 0.15);\n",
              "      fill: #174EA6;\n",
              "    }\n",
              "\n",
              "    [theme=dark] .colab-df-convert {\n",
              "      background-color: #3B4455;\n",
              "      fill: #D2E3FC;\n",
              "    }\n",
              "\n",
              "    [theme=dark] .colab-df-convert:hover {\n",
              "      background-color: #434B5C;\n",
              "      box-shadow: 0px 1px 3px 1px rgba(0, 0, 0, 0.15);\n",
              "      filter: drop-shadow(0px 1px 2px rgba(0, 0, 0, 0.3));\n",
              "      fill: #FFFFFF;\n",
              "    }\n",
              "  </style>\n",
              "\n",
              "      <script>\n",
              "        const buttonEl =\n",
              "          document.querySelector('#df-c2bdf9ba-324f-4d34-abd5-5f76e1d4ae2c button.colab-df-convert');\n",
              "        buttonEl.style.display =\n",
              "          google.colab.kernel.accessAllowed ? 'block' : 'none';\n",
              "\n",
              "        async function convertToInteractive(key) {\n",
              "          const element = document.querySelector('#df-c2bdf9ba-324f-4d34-abd5-5f76e1d4ae2c');\n",
              "          const dataTable =\n",
              "            await google.colab.kernel.invokeFunction('convertToInteractive',\n",
              "                                                     [key], {});\n",
              "          if (!dataTable) return;\n",
              "\n",
              "          const docLinkHtml = 'Like what you see? Visit the ' +\n",
              "            '<a target=\"_blank\" href=https://colab.research.google.com/notebooks/data_table.ipynb>data table notebook</a>'\n",
              "            + ' to learn more about interactive tables.';\n",
              "          element.innerHTML = '';\n",
              "          dataTable['output_type'] = 'display_data';\n",
              "          await google.colab.output.renderOutput(dataTable, element);\n",
              "          const docLink = document.createElement('div');\n",
              "          docLink.innerHTML = docLinkHtml;\n",
              "          element.appendChild(docLink);\n",
              "        }\n",
              "      </script>\n",
              "    </div>\n",
              "  </div>\n"
            ]
          },
          "metadata": {},
          "execution_count": 4
        }
      ]
    },
    {
      "cell_type": "markdown",
      "source": [
        "#####Drop the Id column"
      ],
      "metadata": {
        "id": "xco87CFS05-M"
      }
    },
    {
      "cell_type": "code",
      "source": [
        "try:\n",
        "  df.drop(['Id'], axis = 1, inplace = True)\n",
        "except Exception as e:\n",
        "  print(e.with_traceback)\n",
        "else:\n",
        "  print(\"Id column is deleted !!!\")"
      ],
      "metadata": {
        "colab": {
          "base_uri": "https://localhost:8080/"
        },
        "id": "sSutY1P108K9",
        "outputId": "76993b20-82ed-44ab-ef4d-55fe14a67eef"
      },
      "execution_count": 5,
      "outputs": [
        {
          "output_type": "stream",
          "name": "stdout",
          "text": [
            "Id column is deleted !!!\n"
          ]
        }
      ]
    },
    {
      "cell_type": "markdown",
      "source": [
        "#####Split the dataset with train and test"
      ],
      "metadata": {
        "id": "Lx9KI4i21PvA"
      }
    },
    {
      "cell_type": "code",
      "source": [
        "X = df.iloc[:, :-1].values\n",
        "y = df.iloc[:, -1].values\n",
        "\n",
        "X_train, X_test, y_train, y_test = train_test_split(X, y, test_size = 0.25, random_state = 42)\n",
        "\n",
        "print(\"The shape of X_train is # {} \".format(X_train.shape),'\\n')\n",
        "print(\"The shape of X_test  is # {} \".format(X_test .shape),'\\n')\n",
        "print(\"The shape of y_train is # {} \".format(y_train.shape),'\\n')\n",
        "print(\"The shape of y_test  is # {} \".format(y_test.shape))"
      ],
      "metadata": {
        "colab": {
          "base_uri": "https://localhost:8080/"
        },
        "id": "Ix3m1Hkg1Smy",
        "outputId": "2b724342-643a-4a72-ac06-c58f4133a04d"
      },
      "execution_count": 6,
      "outputs": [
        {
          "output_type": "stream",
          "name": "stdout",
          "text": [
            "The shape of X_train is # (112, 4)  \n",
            "\n",
            "The shape of X_test  is # (38, 4)  \n",
            "\n",
            "The shape of y_train is # (112,)  \n",
            "\n",
            "The shape of y_test  is # (38,) \n"
          ]
        }
      ]
    },
    {
      "cell_type": "markdown",
      "source": [
        "#####Initiate the DataLoader with batch_size :: 16"
      ],
      "metadata": {
        "id": "ATB3wGSJ1y6T"
      }
    },
    {
      "cell_type": "code",
      "source": [
        "import torch\n",
        "import torch.nn as nn\n",
        "import torch.functional as F\n",
        "import torch.optim as optim\n",
        "from torchsummary import summary\n",
        "from torch.utils.data import Dataset, DataLoader\n",
        "\n",
        "\"\"\"\"Convert X_train and X_test into torch Float\"\"\"\n",
        "X_train = torch.tensor(data = X_train, dtype = torch.float32)\n",
        "X_test  = torch.tensor(data = X_test, dtype = torch.float32)\n",
        "\n",
        "\"\"\"Initiate the DataLoader\"\"\"\n",
        "loader = DataLoader(dataset = list(zip(X_train, y_train)), batch_size = 32, shuffle = True)\n",
        "print(\"The batch size of this loader # {} \".format(loader.batch_size))"
      ],
      "metadata": {
        "colab": {
          "base_uri": "https://localhost:8080/"
        },
        "id": "mEjL5OsO1SpD",
        "outputId": "e6d1fb31-827b-4c5a-d152-7ba9833455d6"
      },
      "execution_count": 7,
      "outputs": [
        {
          "output_type": "stream",
          "name": "stdout",
          "text": [
            "The batch size of this loader # 32 \n"
          ]
        }
      ]
    },
    {
      "cell_type": "code",
      "source": [
        "data, labels = next(iter(loader))\n",
        "print(\"The shape of singular batch size of training data # {} \".format(data.shape))\n",
        "print(\"The shape of singular batch size of label data # {} \".format(labels.shape))"
      ],
      "metadata": {
        "colab": {
          "base_uri": "https://localhost:8080/"
        },
        "id": "k9WEF8Bj1SsG",
        "outputId": "0a80393a-a37c-4175-c5b9-e49bd9994e83"
      },
      "execution_count": 8,
      "outputs": [
        {
          "output_type": "stream",
          "name": "stdout",
          "text": [
            "The shape of singular batch size of training data # torch.Size([32, 4]) \n",
            "The shape of singular batch size of label data # torch.Size([32]) \n"
          ]
        }
      ]
    },
    {
      "cell_type": "markdown",
      "source": [
        "#####Initialize the loss function & optimizer"
      ],
      "metadata": {
        "id": "azY7s3JYZm5L"
      }
    },
    {
      "cell_type": "code",
      "source": [
        "# LEARNING_RATE = 0.001\n",
        "# loss_function = nn.CrossEntropyLoss()\n",
        "# optimizer = optim.Adam(params = model.parameters(), lr = LEARNING_RATE)"
      ],
      "metadata": {
        "id": "jq8L2eykZrLs"
      },
      "execution_count": 9,
      "outputs": []
    },
    {
      "cell_type": "markdown",
      "source": [
        "#####Model Building using Sequential"
      ],
      "metadata": {
        "id": "oVAesePK3Sdm"
      }
    },
    {
      "cell_type": "code",
      "source": [
        "\"\"\"\n",
        "    Create a class named IrisClassifier that will take TWO parameters\n",
        "    1. input_dimension  : This will determine how many features that I am going to train.\n",
        "    2. output_dimension : This will determine how many output that I intend to\n",
        "\"\"\"\n",
        "class IrisClassifier(nn.Module):\n",
        "  def __init__(self, input_dimension = None, output_dimension = None):\n",
        "    # Call the super class that will inherit all the methods that would be needed\n",
        "    super().__init__()\n",
        "    \"\"\"\n",
        "        Create the First Layer\n",
        "        1. in_features : that would be the input_dimension\n",
        "        2. out_features: that would be the neurons that will be passed\n",
        "        3. Activation  : ReLU\n",
        "        4. weight init : he_normal\n",
        "        5. Dropout rate: 0.5\n",
        "    \"\"\"\n",
        "    self.FirstLayer = nn.Sequential(\n",
        "        # Create the first hidden layer\n",
        "        nn.Linear(in_features = input_dimension, out_features = 64),\n",
        "        # Initialize the activation function\n",
        "        nn.ReLU(),\n",
        "        # Initialize the dropout ration with 0.3\n",
        "        nn.Dropout(p = 0.5)\n",
        "    )\n",
        "\n",
        "    \"\"\"\n",
        "        Create the Second Layer\n",
        "        1. in_features : that would be the input_dimension\n",
        "        2. out_features: that would be the neurons that will be passed\n",
        "        3. Activation  : ReLU\n",
        "        4. weight init : he_normal\n",
        "        5. Dropout rate: 0.6\n",
        "    \"\"\"\n",
        "    self.SecondLayer = nn.Sequential(\n",
        "        # Create the first hidden layer\n",
        "        nn.Linear(in_features = 64, out_features = 32),\n",
        "        # Initialize the activation function\n",
        "        nn.ReLU(),\n",
        "        # Initialize the dropout ration with 0.3\n",
        "        nn.Dropout(p = 0.6)\n",
        "    )\n",
        "\n",
        "    \"\"\"\n",
        "        Create the Output Layer\n",
        "        1. in_features : that would be the input_dimension\n",
        "        2. out_features: that would be the neurons that will be passed\n",
        "        3. Activation  : Softmax\n",
        "        4. weight init : glorot_uniform\n",
        "    \"\"\"\n",
        "    self.OutputLayer = nn.Sequential(\n",
        "        # Create the first hidden layer\n",
        "        nn.Linear(in_features = 32, out_features = output_dimension),\n",
        "        # Initialize the activation function\n",
        "        nn.Softmax()\n",
        "    )\n",
        "\n",
        "  def forward(self, x):\n",
        "    # For the First Layer\n",
        "    x = self.FirstLayer(x)\n",
        "\n",
        "    # For the Second Layer\n",
        "    x = self.SecondLayer(x)\n",
        "\n",
        "    # For the Output Layer\n",
        "    x = self.OutputLayer(x)\n",
        "\n",
        "    return x"
      ],
      "metadata": {
        "id": "9QbnC7E8Z9IE"
      },
      "execution_count": 10,
      "outputs": []
    },
    {
      "cell_type": "code",
      "source": [
        "# Call the IrisClassifier model\n",
        "try:\n",
        "  model = IrisClassifier(input_dimension = X_train.shape[1], output_dimension = len(np.unique(y_test)))\n",
        "except Exception as e:\n",
        "  print(e.with_traceback)\n",
        "else:\n",
        "  print(model.parameters)"
      ],
      "metadata": {
        "colab": {
          "base_uri": "https://localhost:8080/"
        },
        "id": "OQTtVMGUZ9KX",
        "outputId": "17e3f260-d42f-46db-8d58-12635f0a2a2d"
      },
      "execution_count": 11,
      "outputs": [
        {
          "output_type": "stream",
          "name": "stdout",
          "text": [
            "<bound method Module.parameters of IrisClassifier(\n",
            "  (FirstLayer): Sequential(\n",
            "    (0): Linear(in_features=4, out_features=64, bias=True)\n",
            "    (1): ReLU()\n",
            "    (2): Dropout(p=0.5, inplace=False)\n",
            "  )\n",
            "  (SecondLayer): Sequential(\n",
            "    (0): Linear(in_features=64, out_features=32, bias=True)\n",
            "    (1): ReLU()\n",
            "    (2): Dropout(p=0.6, inplace=False)\n",
            "  )\n",
            "  (OutputLayer): Sequential(\n",
            "    (0): Linear(in_features=32, out_features=3, bias=True)\n",
            "    (1): Softmax(dim=None)\n",
            "  )\n",
            ")>\n"
          ]
        }
      ]
    },
    {
      "cell_type": "markdown",
      "source": [
        "#GPU Connect"
      ],
      "metadata": {
        "id": "Ut5NhQdCMxnB"
      }
    },
    {
      "cell_type": "code",
      "source": [
        "device = torch.device('cuda' if torch.cuda.is_available() else 'cpu')"
      ],
      "metadata": {
        "id": "e2MoqBWWM0H9"
      },
      "execution_count": 12,
      "outputs": []
    },
    {
      "cell_type": "code",
      "source": [
        "device"
      ],
      "metadata": {
        "colab": {
          "base_uri": "https://localhost:8080/"
        },
        "id": "XQNFVoNpNH_1",
        "outputId": "f6c4bcf4-51af-4d25-8c78-958b5eb54d57"
      },
      "execution_count": 13,
      "outputs": [
        {
          "output_type": "execute_result",
          "data": {
            "text/plain": [
              "device(type='cuda')"
            ]
          },
          "metadata": {},
          "execution_count": 13
        }
      ]
    },
    {
      "cell_type": "code",
      "source": [
        "# Display the model\n",
        "summary(model = model.to(device), input_size = X_train.shape)"
      ],
      "metadata": {
        "colab": {
          "base_uri": "https://localhost:8080/"
        },
        "id": "LAwsDCB_Z9M9",
        "outputId": "a3387f93-d1a6-4bd1-8f82-73205d4bdd5c"
      },
      "execution_count": 14,
      "outputs": [
        {
          "output_type": "stream",
          "name": "stdout",
          "text": [
            "----------------------------------------------------------------\n",
            "        Layer (type)               Output Shape         Param #\n",
            "================================================================\n",
            "            Linear-1              [-1, 112, 64]             320\n",
            "              ReLU-2              [-1, 112, 64]               0\n",
            "           Dropout-3              [-1, 112, 64]               0\n",
            "            Linear-4              [-1, 112, 32]           2,080\n",
            "              ReLU-5              [-1, 112, 32]               0\n",
            "           Dropout-6              [-1, 112, 32]               0\n",
            "            Linear-7               [-1, 112, 3]              99\n",
            "           Softmax-8               [-1, 112, 3]               0\n",
            "================================================================\n",
            "Total params: 2,499\n",
            "Trainable params: 2,499\n",
            "Non-trainable params: 0\n",
            "----------------------------------------------------------------\n",
            "Input size (MB): 0.00\n",
            "Forward/backward pass size (MB): 0.25\n",
            "Params size (MB): 0.01\n",
            "Estimated Total Size (MB): 0.26\n",
            "----------------------------------------------------------------\n"
          ]
        },
        {
          "output_type": "stream",
          "name": "stderr",
          "text": [
            "/usr/local/lib/python3.10/dist-packages/torch/nn/modules/container.py:217: UserWarning: Implicit dimension choice for softmax has been deprecated. Change the call to include dim=X as an argument.\n",
            "  input = module(input)\n"
          ]
        }
      ]
    },
    {
      "cell_type": "code",
      "source": [
        "LEARNING_RATE = 0.01\n",
        "loss_function = nn.CrossEntropyLoss()\n",
        "optimizer = optim.Adam(params = model.parameters(), lr = LEARNING_RATE)"
      ],
      "metadata": {
        "id": "sxGrMsFYZ9PA"
      },
      "execution_count": 15,
      "outputs": []
    },
    {
      "cell_type": "markdown",
      "source": [
        "###"
      ],
      "metadata": {
        "id": "_wVrX1bLMuV8"
      }
    },
    {
      "cell_type": "code",
      "source": [
        "optimizer, loss_function"
      ],
      "metadata": {
        "colab": {
          "base_uri": "https://localhost:8080/"
        },
        "id": "7YbGvy3wdOGH",
        "outputId": "045dae04-5d61-494f-8566-a994566b0a09"
      },
      "execution_count": 16,
      "outputs": [
        {
          "output_type": "execute_result",
          "data": {
            "text/plain": [
              "(Adam (\n",
              " Parameter Group 0\n",
              "     amsgrad: False\n",
              "     betas: (0.9, 0.999)\n",
              "     capturable: False\n",
              "     differentiable: False\n",
              "     eps: 1e-08\n",
              "     foreach: None\n",
              "     fused: None\n",
              "     lr: 0.01\n",
              "     maximize: False\n",
              "     weight_decay: 0\n",
              " ),\n",
              " CrossEntropyLoss())"
            ]
          },
          "metadata": {},
          "execution_count": 16
        }
      ]
    },
    {
      "cell_type": "code",
      "source": [
        "next(iter(model.parameters()))"
      ],
      "metadata": {
        "colab": {
          "base_uri": "https://localhost:8080/"
        },
        "id": "M1SOcngJdVQM",
        "outputId": "0eb65bb7-1427-4576-90ac-580f65021912"
      },
      "execution_count": 17,
      "outputs": [
        {
          "output_type": "execute_result",
          "data": {
            "text/plain": [
              "Parameter containing:\n",
              "tensor([[ 0.3043,  0.1389,  0.3442, -0.2007],\n",
              "        [-0.1466, -0.4842,  0.4583, -0.4807],\n",
              "        [ 0.0263,  0.4941,  0.2787, -0.1545],\n",
              "        [ 0.1831, -0.3804,  0.3254,  0.3530],\n",
              "        [ 0.2945, -0.4491,  0.2180, -0.3944],\n",
              "        [ 0.1569, -0.1408, -0.3972,  0.0211],\n",
              "        [-0.1059, -0.1074,  0.4653,  0.2371],\n",
              "        [-0.2546,  0.0021,  0.4338, -0.0618],\n",
              "        [-0.1619,  0.1629,  0.0657, -0.2663],\n",
              "        [ 0.1359, -0.2051,  0.4008, -0.3585],\n",
              "        [-0.2288, -0.3674,  0.3531,  0.0706],\n",
              "        [ 0.3963,  0.3008, -0.0806, -0.4845],\n",
              "        [ 0.4347,  0.3648,  0.3142, -0.0693],\n",
              "        [ 0.0373,  0.1903,  0.3458,  0.3467],\n",
              "        [-0.4352, -0.3405, -0.1079, -0.0135],\n",
              "        [ 0.3983, -0.4364, -0.3498,  0.0031],\n",
              "        [-0.0349,  0.0308, -0.1714,  0.2048],\n",
              "        [-0.3480, -0.4316,  0.3230, -0.0138],\n",
              "        [-0.0855,  0.1425,  0.3176,  0.1894],\n",
              "        [ 0.1637, -0.2390, -0.2488,  0.1890],\n",
              "        [ 0.0705, -0.3595,  0.1647,  0.1332],\n",
              "        [ 0.4185, -0.0763,  0.4838,  0.0787],\n",
              "        [ 0.2209,  0.0763, -0.4650,  0.3877],\n",
              "        [ 0.2403,  0.4791, -0.3365,  0.4147],\n",
              "        [ 0.1653,  0.3816, -0.2643, -0.3800],\n",
              "        [ 0.2198,  0.3049, -0.2061,  0.4640],\n",
              "        [-0.3484, -0.4198,  0.1685, -0.3400],\n",
              "        [ 0.2475,  0.4983,  0.0773, -0.1556],\n",
              "        [-0.0150, -0.0241, -0.0526, -0.2601],\n",
              "        [ 0.0667, -0.3538, -0.0914, -0.4448],\n",
              "        [-0.1088,  0.1656, -0.2511, -0.2563],\n",
              "        [-0.1105, -0.1761,  0.3537,  0.1023],\n",
              "        [ 0.0153,  0.2209, -0.2705, -0.2247],\n",
              "        [-0.1090, -0.1486,  0.2787,  0.3074],\n",
              "        [-0.3381, -0.0572,  0.2958,  0.0725],\n",
              "        [ 0.0463,  0.2818,  0.2273,  0.2563],\n",
              "        [ 0.4171,  0.4572,  0.3072,  0.3717],\n",
              "        [-0.3072, -0.3426,  0.2707, -0.0217],\n",
              "        [-0.0979, -0.0373, -0.4023, -0.4317],\n",
              "        [-0.0478,  0.2286,  0.3430, -0.3255],\n",
              "        [ 0.3041, -0.2903,  0.1034,  0.0473],\n",
              "        [-0.1820, -0.2775, -0.3233, -0.2513],\n",
              "        [ 0.3620,  0.2522,  0.1400,  0.4383],\n",
              "        [-0.0331,  0.1999,  0.3127, -0.0178],\n",
              "        [-0.0491,  0.2856, -0.1625,  0.1592],\n",
              "        [ 0.0987, -0.4162, -0.4269,  0.3487],\n",
              "        [-0.4716,  0.1604,  0.2221, -0.0421],\n",
              "        [ 0.1287,  0.1247, -0.2546, -0.3605],\n",
              "        [ 0.1385,  0.1967, -0.1995, -0.3154],\n",
              "        [-0.0404, -0.2976,  0.3374,  0.2843],\n",
              "        [-0.4309, -0.3744,  0.1091, -0.0564],\n",
              "        [-0.3304, -0.3972,  0.1297, -0.0920],\n",
              "        [ 0.2705, -0.3126, -0.0339, -0.0896],\n",
              "        [ 0.4277,  0.1800, -0.4831, -0.3339],\n",
              "        [-0.0177,  0.0259, -0.2443,  0.4125],\n",
              "        [ 0.4115, -0.2991, -0.4666,  0.4890],\n",
              "        [-0.0794,  0.2337, -0.4034, -0.0690],\n",
              "        [-0.1831,  0.0604,  0.1201, -0.3700],\n",
              "        [ 0.3236, -0.1060,  0.2437, -0.4647],\n",
              "        [ 0.3018,  0.0336, -0.2718,  0.3515],\n",
              "        [-0.2159,  0.1691, -0.4718,  0.0239],\n",
              "        [-0.4435,  0.1134,  0.0069,  0.3208],\n",
              "        [-0.3057,  0.2142,  0.4133,  0.0728],\n",
              "        [ 0.3993, -0.2873,  0.1501, -0.1620]], device='cuda:0',\n",
              "       requires_grad=True)"
            ]
          },
          "metadata": {},
          "execution_count": 17
        }
      ]
    },
    {
      "cell_type": "code",
      "source": [
        "model.state_dict()"
      ],
      "metadata": {
        "colab": {
          "base_uri": "https://localhost:8080/"
        },
        "id": "u3JVGrxsdav6",
        "outputId": "af6f114f-068d-446c-b8e8-4973d507fd45"
      },
      "execution_count": 18,
      "outputs": [
        {
          "output_type": "execute_result",
          "data": {
            "text/plain": [
              "OrderedDict([('FirstLayer.0.weight',\n",
              "              tensor([[ 0.3043,  0.1389,  0.3442, -0.2007],\n",
              "                      [-0.1466, -0.4842,  0.4583, -0.4807],\n",
              "                      [ 0.0263,  0.4941,  0.2787, -0.1545],\n",
              "                      [ 0.1831, -0.3804,  0.3254,  0.3530],\n",
              "                      [ 0.2945, -0.4491,  0.2180, -0.3944],\n",
              "                      [ 0.1569, -0.1408, -0.3972,  0.0211],\n",
              "                      [-0.1059, -0.1074,  0.4653,  0.2371],\n",
              "                      [-0.2546,  0.0021,  0.4338, -0.0618],\n",
              "                      [-0.1619,  0.1629,  0.0657, -0.2663],\n",
              "                      [ 0.1359, -0.2051,  0.4008, -0.3585],\n",
              "                      [-0.2288, -0.3674,  0.3531,  0.0706],\n",
              "                      [ 0.3963,  0.3008, -0.0806, -0.4845],\n",
              "                      [ 0.4347,  0.3648,  0.3142, -0.0693],\n",
              "                      [ 0.0373,  0.1903,  0.3458,  0.3467],\n",
              "                      [-0.4352, -0.3405, -0.1079, -0.0135],\n",
              "                      [ 0.3983, -0.4364, -0.3498,  0.0031],\n",
              "                      [-0.0349,  0.0308, -0.1714,  0.2048],\n",
              "                      [-0.3480, -0.4316,  0.3230, -0.0138],\n",
              "                      [-0.0855,  0.1425,  0.3176,  0.1894],\n",
              "                      [ 0.1637, -0.2390, -0.2488,  0.1890],\n",
              "                      [ 0.0705, -0.3595,  0.1647,  0.1332],\n",
              "                      [ 0.4185, -0.0763,  0.4838,  0.0787],\n",
              "                      [ 0.2209,  0.0763, -0.4650,  0.3877],\n",
              "                      [ 0.2403,  0.4791, -0.3365,  0.4147],\n",
              "                      [ 0.1653,  0.3816, -0.2643, -0.3800],\n",
              "                      [ 0.2198,  0.3049, -0.2061,  0.4640],\n",
              "                      [-0.3484, -0.4198,  0.1685, -0.3400],\n",
              "                      [ 0.2475,  0.4983,  0.0773, -0.1556],\n",
              "                      [-0.0150, -0.0241, -0.0526, -0.2601],\n",
              "                      [ 0.0667, -0.3538, -0.0914, -0.4448],\n",
              "                      [-0.1088,  0.1656, -0.2511, -0.2563],\n",
              "                      [-0.1105, -0.1761,  0.3537,  0.1023],\n",
              "                      [ 0.0153,  0.2209, -0.2705, -0.2247],\n",
              "                      [-0.1090, -0.1486,  0.2787,  0.3074],\n",
              "                      [-0.3381, -0.0572,  0.2958,  0.0725],\n",
              "                      [ 0.0463,  0.2818,  0.2273,  0.2563],\n",
              "                      [ 0.4171,  0.4572,  0.3072,  0.3717],\n",
              "                      [-0.3072, -0.3426,  0.2707, -0.0217],\n",
              "                      [-0.0979, -0.0373, -0.4023, -0.4317],\n",
              "                      [-0.0478,  0.2286,  0.3430, -0.3255],\n",
              "                      [ 0.3041, -0.2903,  0.1034,  0.0473],\n",
              "                      [-0.1820, -0.2775, -0.3233, -0.2513],\n",
              "                      [ 0.3620,  0.2522,  0.1400,  0.4383],\n",
              "                      [-0.0331,  0.1999,  0.3127, -0.0178],\n",
              "                      [-0.0491,  0.2856, -0.1625,  0.1592],\n",
              "                      [ 0.0987, -0.4162, -0.4269,  0.3487],\n",
              "                      [-0.4716,  0.1604,  0.2221, -0.0421],\n",
              "                      [ 0.1287,  0.1247, -0.2546, -0.3605],\n",
              "                      [ 0.1385,  0.1967, -0.1995, -0.3154],\n",
              "                      [-0.0404, -0.2976,  0.3374,  0.2843],\n",
              "                      [-0.4309, -0.3744,  0.1091, -0.0564],\n",
              "                      [-0.3304, -0.3972,  0.1297, -0.0920],\n",
              "                      [ 0.2705, -0.3126, -0.0339, -0.0896],\n",
              "                      [ 0.4277,  0.1800, -0.4831, -0.3339],\n",
              "                      [-0.0177,  0.0259, -0.2443,  0.4125],\n",
              "                      [ 0.4115, -0.2991, -0.4666,  0.4890],\n",
              "                      [-0.0794,  0.2337, -0.4034, -0.0690],\n",
              "                      [-0.1831,  0.0604,  0.1201, -0.3700],\n",
              "                      [ 0.3236, -0.1060,  0.2437, -0.4647],\n",
              "                      [ 0.3018,  0.0336, -0.2718,  0.3515],\n",
              "                      [-0.2159,  0.1691, -0.4718,  0.0239],\n",
              "                      [-0.4435,  0.1134,  0.0069,  0.3208],\n",
              "                      [-0.3057,  0.2142,  0.4133,  0.0728],\n",
              "                      [ 0.3993, -0.2873,  0.1501, -0.1620]], device='cuda:0')),\n",
              "             ('FirstLayer.0.bias',\n",
              "              tensor([ 0.4427,  0.1142,  0.4002, -0.0498, -0.1644,  0.2011,  0.2094,  0.0813,\n",
              "                      -0.4978, -0.4726,  0.0569, -0.0775,  0.2904,  0.1989,  0.1324, -0.1536,\n",
              "                      -0.2279, -0.1139, -0.3229,  0.0739,  0.2737,  0.2856,  0.4009,  0.3751,\n",
              "                       0.3094, -0.0549, -0.4271,  0.1858,  0.3438,  0.0891, -0.4555, -0.2042,\n",
              "                      -0.3705, -0.0744, -0.1297, -0.4321,  0.1219,  0.4434, -0.2997,  0.1396,\n",
              "                      -0.4254,  0.4046, -0.3234, -0.4739,  0.2875, -0.0489,  0.3428, -0.4874,\n",
              "                       0.0075, -0.1070,  0.3073,  0.3880,  0.0307, -0.4051, -0.1772,  0.2054,\n",
              "                       0.0326, -0.4334,  0.0590,  0.3749,  0.4779, -0.1805, -0.4009,  0.0426],\n",
              "                     device='cuda:0')),\n",
              "             ('SecondLayer.0.weight',\n",
              "              tensor([[-0.0148,  0.0487, -0.1059,  ..., -0.1232,  0.0614,  0.0761],\n",
              "                      [ 0.0832, -0.0374, -0.0655,  ...,  0.0198,  0.0945, -0.0888],\n",
              "                      [ 0.0775,  0.1009, -0.0154,  ...,  0.1218, -0.0168,  0.0695],\n",
              "                      ...,\n",
              "                      [ 0.0705,  0.1162,  0.0024,  ...,  0.0190, -0.0659, -0.0470],\n",
              "                      [ 0.0525, -0.0282, -0.0123,  ...,  0.0260,  0.0656, -0.0288],\n",
              "                      [ 0.0570,  0.0026,  0.0792,  ...,  0.1124,  0.0130, -0.1005]],\n",
              "                     device='cuda:0')),\n",
              "             ('SecondLayer.0.bias',\n",
              "              tensor([-0.0373, -0.0643, -0.1184,  0.0636,  0.0490,  0.0822, -0.0732,  0.0371,\n",
              "                       0.0833, -0.1017, -0.0630,  0.0591, -0.1198,  0.1112, -0.0653, -0.0710,\n",
              "                       0.0615,  0.0341, -0.0350, -0.1096, -0.0126,  0.0217,  0.0348,  0.0707,\n",
              "                       0.0022,  0.0350, -0.0137, -0.0347,  0.0692,  0.0396,  0.0077, -0.0243],\n",
              "                     device='cuda:0')),\n",
              "             ('OutputLayer.0.weight',\n",
              "              tensor([[-0.1498,  0.0535,  0.1178,  0.1361, -0.1093, -0.1426,  0.1700, -0.1020,\n",
              "                        0.1382, -0.0205, -0.1437, -0.0152,  0.1757, -0.1694,  0.0939,  0.0231,\n",
              "                       -0.0184, -0.1260,  0.1211, -0.1554, -0.0904, -0.1728, -0.0627,  0.1307,\n",
              "                       -0.1162, -0.0559, -0.0414,  0.1090, -0.1202,  0.0350, -0.0589,  0.1518],\n",
              "                      [ 0.1048,  0.0327, -0.0726,  0.1670, -0.0171,  0.1165,  0.1130,  0.0692,\n",
              "                       -0.1164,  0.0021, -0.0968,  0.0051,  0.1271, -0.0599, -0.0831, -0.1133,\n",
              "                        0.1209,  0.0582, -0.0210,  0.0021,  0.0890, -0.0939,  0.0856, -0.0762,\n",
              "                        0.0416,  0.0723, -0.0033,  0.1483,  0.0236, -0.0461, -0.0772, -0.0655],\n",
              "                      [-0.1505,  0.0339, -0.0309, -0.1458,  0.0939,  0.0394,  0.0591, -0.0715,\n",
              "                        0.1615, -0.0865, -0.0124, -0.0491, -0.0165,  0.0086,  0.0346,  0.0395,\n",
              "                        0.1548, -0.0534, -0.0970, -0.0661, -0.1643,  0.1111,  0.0685,  0.0487,\n",
              "                       -0.1324,  0.0056, -0.0626, -0.0462,  0.0739, -0.0878,  0.0581, -0.0620]],\n",
              "                     device='cuda:0')),\n",
              "             ('OutputLayer.0.bias',\n",
              "              tensor([-0.1546,  0.0852,  0.1716], device='cuda:0'))])"
            ]
          },
          "metadata": {},
          "execution_count": 18
        }
      ]
    },
    {
      "cell_type": "markdown",
      "source": [
        "#####Do the training"
      ],
      "metadata": {
        "id": "ipghsG2kddCa"
      }
    },
    {
      "cell_type": "code",
      "source": [
        "BATCH_SIZE = 16\n",
        "train_loader = DataLoader(dataset = list(zip(X_train, y_train)), batch_size = BATCH_SIZE, shuffle = True)\n",
        "test_loader  = DataLoader(dataset = list(zip(X_test, y_test)), batch_size = BATCH_SIZE, shuffle = True)"
      ],
      "metadata": {
        "id": "NkFmjElhenmW"
      },
      "execution_count": 19,
      "outputs": []
    },
    {
      "cell_type": "code",
      "source": [
        "model.to(device)"
      ],
      "metadata": {
        "colab": {
          "base_uri": "https://localhost:8080/"
        },
        "id": "XyAB11LONxpn",
        "outputId": "01582b66-ed54-4659-c019-904f48167607"
      },
      "execution_count": 28,
      "outputs": [
        {
          "output_type": "execute_result",
          "data": {
            "text/plain": [
              "IrisClassifier(\n",
              "  (FirstLayer): Sequential(\n",
              "    (0): Linear(in_features=4, out_features=64, bias=True)\n",
              "    (1): ReLU()\n",
              "    (2): Dropout(p=0.5, inplace=False)\n",
              "  )\n",
              "  (SecondLayer): Sequential(\n",
              "    (0): Linear(in_features=64, out_features=32, bias=True)\n",
              "    (1): ReLU()\n",
              "    (2): Dropout(p=0.6, inplace=False)\n",
              "  )\n",
              "  (OutputLayer): Sequential(\n",
              "    (0): Linear(in_features=32, out_features=3, bias=True)\n",
              "    (1): Softmax(dim=None)\n",
              "  )\n",
              ")"
            ]
          },
          "metadata": {},
          "execution_count": 28
        }
      ]
    },
    {
      "cell_type": "markdown",
      "source": [
        "#####Ignore the warning"
      ],
      "metadata": {
        "id": "Mad07mcuRQNr"
      }
    },
    {
      "cell_type": "code",
      "source": [
        "import warnings\n",
        "warnings.filterwarnings('ignore')"
      ],
      "metadata": {
        "id": "2oP5wRJQRSDe"
      },
      "execution_count": 34,
      "outputs": []
    },
    {
      "cell_type": "code",
      "source": [
        "EPOCHS = 100\n",
        "history = {'loss': [], 'val_loss': [], 'accuracy': [], 'val_accuracy': []}\n",
        "TRAIN_LOSS = []\n",
        "VAL_LOSS   = []\n",
        "TRAIN_ACCURACY = []\n",
        "VAL_ACCURACY   = []\n",
        "\n",
        "########################\n",
        "#       Training       #\n",
        "########################\n",
        "\n",
        "# train the model\n",
        "model.train()\n",
        "# Run a loop with respect to defined Epoch\n",
        "for epoch in range(EPOCHS):\n",
        "  \"\"\"\n",
        "      1. Extract the data(X_batch), label(y_batch) from the `train_loader`\n",
        "      2. Pass X_batch as a training data into the model and do the prediction\n",
        "      3. Compute the Loss Function\n",
        "      4. Store computed loss into TRAIN_LOSS\n",
        "  \"\"\"\n",
        "  for (X_batch, y_batch) in train_loader:\n",
        "    \"\"\"\n",
        "        GPU initialize in data and label with respect to X_batch and y_batch\n",
        "    \"\"\"\n",
        "\n",
        "    # Do the Initialize GPU with X_batch\n",
        "    X_batch = X_batch.to(device)\n",
        "    # Do the Initialize GPU with y_batch\n",
        "    y_batch = y_batch.to(device)\n",
        "\n",
        "    # Do the prediction\n",
        "    train_prediction = model(X_batch)\n",
        "    # Compute the loss with the predicted and orginal\n",
        "    train_loss = loss_function(train_prediction, y_batch)\n",
        "    \"\"\"\n",
        "        1. Initiate the Optimizer\n",
        "        2. Do the backward propagation with respect to train_loss\n",
        "        3. Do the step with optimizer\n",
        "    \"\"\"\n",
        "    # Initialize the optimizer\n",
        "    optimizer.zero_grad()\n",
        "    # Do back propagation\n",
        "    train_loss.backward()\n",
        "    # Do the step with respect to optimizer\n",
        "    optimizer.step()\n",
        "\n",
        "  ########################\n",
        "  # Compute the Accuracy #\n",
        "  ########################\n",
        "\n",
        "  # Do the prediction of training\n",
        "  train_predicted = torch.argmax(train_prediction, dim = 1)\n",
        "  # Append the train accuracy\n",
        "  TRAIN_ACCURACY.append(accuracy_score(train_predicted.cpu(), y_batch.cpu()))\n",
        "  # Append the train loss\n",
        "  history['accuracy'].append(accuracy_score(train_predicted.cpu(), y_batch.cpu()))\n",
        "  with torch.no_grad():\n",
        "    # Append the train loss\n",
        "    TRAIN_LOSS.append(train_loss.item())\n",
        "    # Append the train loss into the history\n",
        "    history['loss'].append(train_loss.item())\n",
        "\n",
        "  ########################\n",
        "  #       Testing        #\n",
        "  ########################\n",
        "\n",
        "  \"\"\"\n",
        "      1. Extract the data(val_batch), label(val_batch) from the `test_loader`\n",
        "      2. Pass val_batch as a training data into the model and do the prediction\n",
        "      3. Compute the Loss Function\n",
        "      4. Store computed loss into VAL_LOSS & VAL_ACCURACY\n",
        "  \"\"\"\n",
        "  # Run a loop with respect to test_loader\n",
        "  for (val_data, val_label) in test_loader:\n",
        "    \"\"\"\n",
        "        GPU Initialize with respect to val_data, val_label\n",
        "    \"\"\"\n",
        "\n",
        "    # Do the Initialize GPU with val_data\n",
        "    val_data = val_data.to(device)\n",
        "    # Do the Initialize GPU with val_label\n",
        "    val_label = val_label.to(device)\n",
        "\n",
        "    # Do the prediction\n",
        "    test_prediction = model(val_data)\n",
        "    # Compute the loss\n",
        "    test_loss = loss_function(test_prediction, val_label)\n",
        "\n",
        "  ##########################\n",
        "  #  Compute the Accuracy  #\n",
        "  ##########################\n",
        "\n",
        "  # Append the test loss\n",
        "  with torch.no_grad():\n",
        "    VAL_LOSS.append(test_loss.item())\n",
        "    history['val_loss'].append(test_loss.item())\n",
        "    # Compute the accuracy\n",
        "    test_predicted = torch.argmax(test_prediction, dim = 1)\n",
        "    # Append the accuracy of testing data\n",
        "    VAL_ACCURACY.append(accuracy_score(test_predicted.cpu(), val_label.cpu()))\n",
        "    history['val_accuracy'].append(accuracy_score(test_predicted.cpu(), val_label.cpu()))\n",
        "\n",
        "  #########################\n",
        "  #        Display        #\n",
        "  #########################\n",
        "\n",
        "  print(\"Epoch {}/{} \".format(epoch + 1, EPOCHS))\n",
        "  print(\"{}/{} [=========================] loss: {} - accuracy: {} - val_loss: {} - val_accuracy: {} \".format(train_loader.batch_size,\\\n",
        "                                                                                                              train_loader.batch_size,\\\n",
        "                                                                                                              np.array(train_loss.item()).mean(),\n",
        "                                                                                                              accuracy_score(train_predicted.cpu(), y_batch.cpu()),\\\n",
        "                                                                                                              np.array(test_loss.item()).mean(),\\\n",
        "                                                                                                              accuracy_score(test_predicted.cpu(), val_label.cpu())))"
      ],
      "metadata": {
        "colab": {
          "base_uri": "https://localhost:8080/"
        },
        "id": "zJhVd8redfLK",
        "outputId": "c0168f47-c883-4648-d957-9d171df415b0"
      },
      "execution_count": 35,
      "outputs": [
        {
          "output_type": "stream",
          "name": "stdout",
          "text": [
            "Epoch 1/100 \n",
            "16/16 [=========================] loss: 0.551636278629303 - accuracy: 1.0 - val_loss: 0.5515057444572449 - val_accuracy: 1.0 \n",
            "Epoch 2/100 \n",
            "16/16 [=========================] loss: 0.56097412109375 - accuracy: 1.0 - val_loss: 0.5526416897773743 - val_accuracy: 1.0 \n",
            "Epoch 3/100 \n",
            "16/16 [=========================] loss: 0.5515031218528748 - accuracy: 1.0 - val_loss: 0.6598098874092102 - val_accuracy: 0.8333333333333334 \n",
            "Epoch 4/100 \n",
            "16/16 [=========================] loss: 0.5515528321266174 - accuracy: 1.0 - val_loss: 0.730879008769989 - val_accuracy: 0.8333333333333334 \n",
            "Epoch 5/100 \n",
            "16/16 [=========================] loss: 0.6139188408851624 - accuracy: 0.9375 - val_loss: 0.5600662231445312 - val_accuracy: 1.0 \n",
            "Epoch 6/100 \n",
            "16/16 [=========================] loss: 0.7229887843132019 - accuracy: 0.8125 - val_loss: 0.6522335410118103 - val_accuracy: 0.8333333333333334 \n",
            "Epoch 7/100 \n",
            "16/16 [=========================] loss: 0.6407696008682251 - accuracy: 0.875 - val_loss: 0.5516579151153564 - val_accuracy: 1.0 \n",
            "Epoch 8/100 \n",
            "16/16 [=========================] loss: 0.6058950424194336 - accuracy: 0.9375 - val_loss: 0.5552220940589905 - val_accuracy: 1.0 \n",
            "Epoch 9/100 \n",
            "16/16 [=========================] loss: 0.6095042824745178 - accuracy: 0.9375 - val_loss: 0.5517867207527161 - val_accuracy: 1.0 \n",
            "Epoch 10/100 \n",
            "16/16 [=========================] loss: 0.5518696308135986 - accuracy: 1.0 - val_loss: 0.6440321803092957 - val_accuracy: 0.8333333333333334 \n",
            "Epoch 11/100 \n",
            "16/16 [=========================] loss: 0.5546504259109497 - accuracy: 1.0 - val_loss: 0.5515211820602417 - val_accuracy: 1.0 \n",
            "Epoch 12/100 \n",
            "16/16 [=========================] loss: 0.5569107532501221 - accuracy: 1.0 - val_loss: 0.5514448285102844 - val_accuracy: 1.0 \n",
            "Epoch 13/100 \n",
            "16/16 [=========================] loss: 0.6167889833450317 - accuracy: 0.9375 - val_loss: 0.5558280348777771 - val_accuracy: 1.0 \n",
            "Epoch 14/100 \n",
            "16/16 [=========================] loss: 0.5514483451843262 - accuracy: 1.0 - val_loss: 0.5522558093070984 - val_accuracy: 1.0 \n",
            "Epoch 15/100 \n",
            "16/16 [=========================] loss: 0.6121734976768494 - accuracy: 0.9375 - val_loss: 0.551444947719574 - val_accuracy: 1.0 \n",
            "Epoch 16/100 \n",
            "16/16 [=========================] loss: 0.5529946088790894 - accuracy: 1.0 - val_loss: 0.5514644980430603 - val_accuracy: 1.0 \n",
            "Epoch 17/100 \n",
            "16/16 [=========================] loss: 0.5520592927932739 - accuracy: 1.0 - val_loss: 0.5514554381370544 - val_accuracy: 1.0 \n",
            "Epoch 18/100 \n",
            "16/16 [=========================] loss: 0.6077634692192078 - accuracy: 0.9375 - val_loss: 0.5588085651397705 - val_accuracy: 1.0 \n",
            "Epoch 19/100 \n",
            "16/16 [=========================] loss: 0.5606176853179932 - accuracy: 1.0 - val_loss: 0.551448404788971 - val_accuracy: 1.0 \n",
            "Epoch 20/100 \n",
            "16/16 [=========================] loss: 0.5528401732444763 - accuracy: 1.0 - val_loss: 0.5516316294670105 - val_accuracy: 1.0 \n",
            "Epoch 21/100 \n",
            "16/16 [=========================] loss: 0.5540962815284729 - accuracy: 1.0 - val_loss: 0.5654371380805969 - val_accuracy: 1.0 \n",
            "Epoch 22/100 \n",
            "16/16 [=========================] loss: 0.5659396648406982 - accuracy: 1.0 - val_loss: 0.551491916179657 - val_accuracy: 1.0 \n",
            "Epoch 23/100 \n",
            "16/16 [=========================] loss: 0.5634902119636536 - accuracy: 1.0 - val_loss: 0.5515141487121582 - val_accuracy: 1.0 \n",
            "Epoch 24/100 \n",
            "16/16 [=========================] loss: 0.5542563199996948 - accuracy: 1.0 - val_loss: 0.5514448285102844 - val_accuracy: 1.0 \n",
            "Epoch 25/100 \n",
            "16/16 [=========================] loss: 0.5681564807891846 - accuracy: 1.0 - val_loss: 0.5515663027763367 - val_accuracy: 1.0 \n",
            "Epoch 26/100 \n",
            "16/16 [=========================] loss: 0.5905482769012451 - accuracy: 0.9375 - val_loss: 0.5514473915100098 - val_accuracy: 1.0 \n",
            "Epoch 27/100 \n",
            "16/16 [=========================] loss: 0.6139809489250183 - accuracy: 0.9375 - val_loss: 0.5514461398124695 - val_accuracy: 1.0 \n",
            "Epoch 28/100 \n",
            "16/16 [=========================] loss: 0.5515021085739136 - accuracy: 1.0 - val_loss: 0.5514896512031555 - val_accuracy: 1.0 \n",
            "Epoch 29/100 \n",
            "16/16 [=========================] loss: 0.5532877445220947 - accuracy: 1.0 - val_loss: 0.5514450669288635 - val_accuracy: 1.0 \n",
            "Epoch 30/100 \n",
            "16/16 [=========================] loss: 0.6245453953742981 - accuracy: 0.9375 - val_loss: 0.718221127986908 - val_accuracy: 0.8333333333333334 \n",
            "Epoch 31/100 \n",
            "16/16 [=========================] loss: 0.5615092515945435 - accuracy: 1.0 - val_loss: 0.5514453053474426 - val_accuracy: 1.0 \n",
            "Epoch 32/100 \n",
            "16/16 [=========================] loss: 0.6656556725502014 - accuracy: 0.875 - val_loss: 0.6429517865180969 - val_accuracy: 0.8333333333333334 \n",
            "Epoch 33/100 \n",
            "16/16 [=========================] loss: 0.551445484161377 - accuracy: 1.0 - val_loss: 0.5514448881149292 - val_accuracy: 1.0 \n",
            "Epoch 34/100 \n",
            "16/16 [=========================] loss: 0.5514814853668213 - accuracy: 1.0 - val_loss: 0.5514447689056396 - val_accuracy: 1.0 \n",
            "Epoch 35/100 \n",
            "16/16 [=========================] loss: 0.5871596336364746 - accuracy: 0.9375 - val_loss: 0.551545262336731 - val_accuracy: 1.0 \n",
            "Epoch 36/100 \n",
            "16/16 [=========================] loss: 0.5522665977478027 - accuracy: 1.0 - val_loss: 0.5540229082107544 - val_accuracy: 1.0 \n",
            "Epoch 37/100 \n",
            "16/16 [=========================] loss: 0.7188596129417419 - accuracy: 0.8125 - val_loss: 0.5538983941078186 - val_accuracy: 1.0 \n",
            "Epoch 38/100 \n",
            "16/16 [=========================] loss: 0.5935649871826172 - accuracy: 1.0 - val_loss: 0.8094186782836914 - val_accuracy: 0.6666666666666666 \n",
            "Epoch 39/100 \n",
            "16/16 [=========================] loss: 0.613972008228302 - accuracy: 0.9375 - val_loss: 0.5514571070671082 - val_accuracy: 1.0 \n",
            "Epoch 40/100 \n",
            "16/16 [=========================] loss: 0.5527507066726685 - accuracy: 1.0 - val_loss: 0.5514476895332336 - val_accuracy: 1.0 \n",
            "Epoch 41/100 \n",
            "16/16 [=========================] loss: 0.5515917539596558 - accuracy: 1.0 - val_loss: 0.5514469146728516 - val_accuracy: 1.0 \n",
            "Epoch 42/100 \n",
            "16/16 [=========================] loss: 0.7387263774871826 - accuracy: 0.8125 - val_loss: 0.7147995829582214 - val_accuracy: 0.8333333333333334 \n",
            "Epoch 43/100 \n",
            "16/16 [=========================] loss: 0.6064749360084534 - accuracy: 0.9375 - val_loss: 0.5899400115013123 - val_accuracy: 1.0 \n",
            "Epoch 44/100 \n",
            "16/16 [=========================] loss: 0.6150105595588684 - accuracy: 0.9375 - val_loss: 0.551446259021759 - val_accuracy: 1.0 \n",
            "Epoch 45/100 \n",
            "16/16 [=========================] loss: 0.615066647529602 - accuracy: 0.9375 - val_loss: 0.5514447689056396 - val_accuracy: 1.0 \n",
            "Epoch 46/100 \n",
            "16/16 [=========================] loss: 0.5516471266746521 - accuracy: 1.0 - val_loss: 0.5514464974403381 - val_accuracy: 1.0 \n",
            "Epoch 47/100 \n",
            "16/16 [=========================] loss: 0.6265754103660583 - accuracy: 0.9375 - val_loss: 0.5519874095916748 - val_accuracy: 1.0 \n",
            "Epoch 48/100 \n",
            "16/16 [=========================] loss: 0.6141244769096375 - accuracy: 0.9375 - val_loss: 0.5515515804290771 - val_accuracy: 1.0 \n",
            "Epoch 49/100 \n",
            "16/16 [=========================] loss: 0.6113488674163818 - accuracy: 0.9375 - val_loss: 0.5515571236610413 - val_accuracy: 1.0 \n",
            "Epoch 50/100 \n",
            "16/16 [=========================] loss: 0.5526448488235474 - accuracy: 1.0 - val_loss: 0.5514984130859375 - val_accuracy: 1.0 \n",
            "Epoch 51/100 \n",
            "16/16 [=========================] loss: 0.6605944037437439 - accuracy: 0.875 - val_loss: 0.5514479279518127 - val_accuracy: 1.0 \n",
            "Epoch 52/100 \n",
            "16/16 [=========================] loss: 0.5657986402511597 - accuracy: 1.0 - val_loss: 0.551444947719574 - val_accuracy: 1.0 \n",
            "Epoch 53/100 \n",
            "16/16 [=========================] loss: 0.6370682716369629 - accuracy: 0.875 - val_loss: 0.5514585971832275 - val_accuracy: 1.0 \n",
            "Epoch 54/100 \n",
            "16/16 [=========================] loss: 0.5558385848999023 - accuracy: 1.0 - val_loss: 0.6199150681495667 - val_accuracy: 0.8333333333333334 \n",
            "Epoch 55/100 \n",
            "16/16 [=========================] loss: 0.6139712929725647 - accuracy: 0.9375 - val_loss: 0.5515632629394531 - val_accuracy: 1.0 \n",
            "Epoch 56/100 \n",
            "16/16 [=========================] loss: 0.5515044927597046 - accuracy: 1.0 - val_loss: 0.5514485239982605 - val_accuracy: 1.0 \n",
            "Epoch 57/100 \n",
            "16/16 [=========================] loss: 0.5896220803260803 - accuracy: 0.9375 - val_loss: 0.8829941749572754 - val_accuracy: 0.6666666666666666 \n",
            "Epoch 58/100 \n",
            "16/16 [=========================] loss: 0.5935132503509521 - accuracy: 0.9375 - val_loss: 0.7213724255561829 - val_accuracy: 0.8333333333333334 \n",
            "Epoch 59/100 \n",
            "16/16 [=========================] loss: 0.6518624424934387 - accuracy: 0.875 - val_loss: 0.6185712218284607 - val_accuracy: 1.0 \n",
            "Epoch 60/100 \n",
            "16/16 [=========================] loss: 0.552473783493042 - accuracy: 1.0 - val_loss: 0.5514448285102844 - val_accuracy: 1.0 \n",
            "Epoch 61/100 \n",
            "16/16 [=========================] loss: 0.5515220761299133 - accuracy: 1.0 - val_loss: 0.6082521080970764 - val_accuracy: 1.0 \n",
            "Epoch 62/100 \n",
            "16/16 [=========================] loss: 0.5515307188034058 - accuracy: 1.0 - val_loss: 0.5514447689056396 - val_accuracy: 1.0 \n",
            "Epoch 63/100 \n",
            "16/16 [=========================] loss: 0.5519104599952698 - accuracy: 1.0 - val_loss: 0.7423340678215027 - val_accuracy: 0.8333333333333334 \n",
            "Epoch 64/100 \n",
            "16/16 [=========================] loss: 0.5516566634178162 - accuracy: 1.0 - val_loss: 0.5517359375953674 - val_accuracy: 1.0 \n",
            "Epoch 65/100 \n",
            "16/16 [=========================] loss: 0.6764726638793945 - accuracy: 0.875 - val_loss: 0.551633894443512 - val_accuracy: 1.0 \n",
            "Epoch 66/100 \n",
            "16/16 [=========================] loss: 0.6040871739387512 - accuracy: 0.9375 - val_loss: 0.5661000609397888 - val_accuracy: 1.0 \n",
            "Epoch 67/100 \n",
            "16/16 [=========================] loss: 0.5514470934867859 - accuracy: 1.0 - val_loss: 0.5515773892402649 - val_accuracy: 1.0 \n",
            "Epoch 68/100 \n",
            "16/16 [=========================] loss: 0.5526176691055298 - accuracy: 1.0 - val_loss: 0.5514609217643738 - val_accuracy: 1.0 \n",
            "Epoch 69/100 \n",
            "16/16 [=========================] loss: 0.551574170589447 - accuracy: 1.0 - val_loss: 0.5514447689056396 - val_accuracy: 1.0 \n",
            "Epoch 70/100 \n",
            "16/16 [=========================] loss: 0.6139470934867859 - accuracy: 0.9375 - val_loss: 0.5514447689056396 - val_accuracy: 1.0 \n",
            "Epoch 71/100 \n",
            "16/16 [=========================] loss: 0.6749195456504822 - accuracy: 0.875 - val_loss: 0.5520680546760559 - val_accuracy: 1.0 \n",
            "Epoch 72/100 \n",
            "16/16 [=========================] loss: 0.6683722734451294 - accuracy: 0.875 - val_loss: 0.5517768263816833 - val_accuracy: 1.0 \n",
            "Epoch 73/100 \n",
            "16/16 [=========================] loss: 0.5517560839653015 - accuracy: 1.0 - val_loss: 0.5514448285102844 - val_accuracy: 1.0 \n",
            "Epoch 74/100 \n",
            "16/16 [=========================] loss: 0.551450788974762 - accuracy: 1.0 - val_loss: 0.7181112766265869 - val_accuracy: 0.8333333333333334 \n",
            "Epoch 75/100 \n",
            "16/16 [=========================] loss: 0.614944338798523 - accuracy: 0.9375 - val_loss: 0.5514447689056396 - val_accuracy: 1.0 \n",
            "Epoch 76/100 \n",
            "16/16 [=========================] loss: 0.5514448881149292 - accuracy: 1.0 - val_loss: 0.5514454245567322 - val_accuracy: 1.0 \n",
            "Epoch 77/100 \n",
            "16/16 [=========================] loss: 0.5515714883804321 - accuracy: 1.0 - val_loss: 0.5514447689056396 - val_accuracy: 1.0 \n",
            "Epoch 78/100 \n",
            "16/16 [=========================] loss: 0.5989372730255127 - accuracy: 0.9375 - val_loss: 0.55173259973526 - val_accuracy: 1.0 \n",
            "Epoch 79/100 \n",
            "16/16 [=========================] loss: 0.5516917109489441 - accuracy: 1.0 - val_loss: 0.5516718029975891 - val_accuracy: 1.0 \n",
            "Epoch 80/100 \n",
            "16/16 [=========================] loss: 0.5531342625617981 - accuracy: 1.0 - val_loss: 0.5577767491340637 - val_accuracy: 1.0 \n",
            "Epoch 81/100 \n",
            "16/16 [=========================] loss: 0.5517281889915466 - accuracy: 1.0 - val_loss: 0.5514447689056396 - val_accuracy: 1.0 \n",
            "Epoch 82/100 \n",
            "16/16 [=========================] loss: 0.6275001764297485 - accuracy: 0.9375 - val_loss: 0.5514736175537109 - val_accuracy: 1.0 \n",
            "Epoch 83/100 \n",
            "16/16 [=========================] loss: 0.555047869682312 - accuracy: 1.0 - val_loss: 0.5514447689056396 - val_accuracy: 1.0 \n",
            "Epoch 84/100 \n",
            "16/16 [=========================] loss: 0.6064997911453247 - accuracy: 0.9375 - val_loss: 0.5514447689056396 - val_accuracy: 1.0 \n",
            "Epoch 85/100 \n",
            "16/16 [=========================] loss: 0.5514499545097351 - accuracy: 1.0 - val_loss: 0.5514447689056396 - val_accuracy: 1.0 \n",
            "Epoch 86/100 \n",
            "16/16 [=========================] loss: 0.5862045884132385 - accuracy: 0.9375 - val_loss: 0.5514634847640991 - val_accuracy: 1.0 \n",
            "Epoch 87/100 \n",
            "16/16 [=========================] loss: 0.5514581203460693 - accuracy: 1.0 - val_loss: 0.5514448285102844 - val_accuracy: 1.0 \n",
            "Epoch 88/100 \n",
            "16/16 [=========================] loss: 0.61434006690979 - accuracy: 0.9375 - val_loss: 0.5518519282341003 - val_accuracy: 1.0 \n",
            "Epoch 89/100 \n",
            "16/16 [=========================] loss: 0.5515790581703186 - accuracy: 1.0 - val_loss: 0.5514447689056396 - val_accuracy: 1.0 \n",
            "Epoch 90/100 \n",
            "16/16 [=========================] loss: 0.6647157669067383 - accuracy: 0.875 - val_loss: 0.5517547726631165 - val_accuracy: 1.0 \n",
            "Epoch 91/100 \n",
            "16/16 [=========================] loss: 0.5514451265335083 - accuracy: 1.0 - val_loss: 0.5521844029426575 - val_accuracy: 1.0 \n",
            "Epoch 92/100 \n",
            "16/16 [=========================] loss: 0.5519383549690247 - accuracy: 1.0 - val_loss: 0.5514447689056396 - val_accuracy: 1.0 \n",
            "Epoch 93/100 \n",
            "16/16 [=========================] loss: 0.5520502924919128 - accuracy: 1.0 - val_loss: 0.5515866875648499 - val_accuracy: 1.0 \n",
            "Epoch 94/100 \n",
            "16/16 [=========================] loss: 0.5514450073242188 - accuracy: 1.0 - val_loss: 0.5516931414604187 - val_accuracy: 1.0 \n",
            "Epoch 95/100 \n",
            "16/16 [=========================] loss: 0.5514475107192993 - accuracy: 1.0 - val_loss: 0.7139456868171692 - val_accuracy: 0.8333333333333334 \n",
            "Epoch 96/100 \n",
            "16/16 [=========================] loss: 0.6696922779083252 - accuracy: 0.875 - val_loss: 0.5525524020195007 - val_accuracy: 1.0 \n",
            "Epoch 97/100 \n",
            "16/16 [=========================] loss: 0.6405242681503296 - accuracy: 0.9375 - val_loss: 0.5543004870414734 - val_accuracy: 1.0 \n",
            "Epoch 98/100 \n",
            "16/16 [=========================] loss: 0.6139506101608276 - accuracy: 0.9375 - val_loss: 0.5514450669288635 - val_accuracy: 1.0 \n",
            "Epoch 99/100 \n",
            "16/16 [=========================] loss: 0.5699588060379028 - accuracy: 1.0 - val_loss: 0.5514758229255676 - val_accuracy: 1.0 \n",
            "Epoch 100/100 \n",
            "16/16 [=========================] loss: 0.6069068312644958 - accuracy: 0.9375 - val_loss: 0.5711130499839783 - val_accuracy: 1.0 \n"
          ]
        }
      ]
    },
    {
      "cell_type": "markdown",
      "source": [
        "#####Do the evaluation"
      ],
      "metadata": {
        "id": "-Yl97umcoSAG"
      }
    },
    {
      "cell_type": "code",
      "source": [
        "plt.title('Train vs Test loss')\n",
        "plt.plot(history['loss'], label = 'train_loss')\n",
        "plt.plot(history['val_loss'], label = 'test_loss')\n",
        "plt.legend()\n",
        "plt.xlabel('Epochs')\n",
        "plt.ylabel('loss')\n",
        "plt.tight_layout()\n",
        "plt.grid(True)\n",
        "plt.show()"
      ],
      "metadata": {
        "colab": {
          "base_uri": "https://localhost:8080/",
          "height": 487
        },
        "id": "GUz2_X8vlT2s",
        "outputId": "d5e9ac4a-54ae-4447-f370-26b23195f606"
      },
      "execution_count": 36,
      "outputs": [
        {
          "output_type": "display_data",
          "data": {
            "text/plain": [
              "<Figure size 640x480 with 1 Axes>"
            ],
            "image/png": "[encoded data removed]"
          },
          "metadata": {}
        }
      ]
    },
    {
      "cell_type": "code",
      "source": [
        "plt.title('Train vs Test accuracy')\n",
        "plt.plot(history['accuracy'], label = 'train_accuracy')\n",
        "plt.plot(history['val_accuracy'], label = 'test_accuracy')\n",
        "plt.legend()\n",
        "plt.xlabel('Epochs')\n",
        "plt.ylabel('accuracy')\n",
        "plt.tight_layout()\n",
        "plt.grid(True)\n",
        "plt.show()"
      ],
      "metadata": {
        "colab": {
          "base_uri": "https://localhost:8080/",
          "height": 487
        },
        "id": "JAtGt9Q0mfI8",
        "outputId": "6c9f4444-7992-490d-8982-78e9b6b9973c"
      },
      "execution_count": 37,
      "outputs": [
        {
          "output_type": "display_data",
          "data": {
            "text/plain": [
              "<Figure size 640x480 with 1 Axes>"
            ],
            "image/png": "[encoded data removed]"
          },
          "metadata": {}
        }
      ]
    },
    {
      "cell_type": "code",
      "source": [
        "# Move X_test to the same device as the model (GPU)\n",
        "X_test = X_test.to(device)\n",
        "\n",
        "# Make predictions\n",
        "predicted = model(X_test)\n",
        "predicted = torch.argmax(predicted, dim=1)\n",
        "print(\"ACCURACY  # {} \".format(accuracy_score(predicted.cpu(), y_test)), '\\n')\n",
        "print(\"PRECISION # {} \".format(precision_score(predicted.cpu(), y_test, average='micro')), '\\n')\n",
        "print(\"RECALL    # {} \".format(recall_score(predicted.cpu(), y_test, average='micro')), '\\n')\n",
        "print(\"F1_SCORE  # {} \".format(f1_score(predicted.cpu(), y_test, average='micro')))\n"
      ],
      "metadata": {
        "colab": {
          "base_uri": "https://localhost:8080/"
        },
        "id": "dWkbHJFinewp",
        "outputId": "f91eea50-3bc0-4239-8afd-5c546f9ee855"
      },
      "execution_count": 43,
      "outputs": [
        {
          "output_type": "stream",
          "name": "stdout",
          "text": [
            "ACCURACY  # 1.0  \n",
            "\n",
            "PRECISION # 1.0  \n",
            "\n",
            "RECALL    # 1.0  \n",
            "\n",
            "F1_SCORE  # 1.0 \n"
          ]
        }
      ]
    }
  ]
}