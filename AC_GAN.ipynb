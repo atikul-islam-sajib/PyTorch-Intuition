{
  "nbformat": 4,
  "nbformat_minor": 0,
  "metadata": {
    "colab": {
      "provenance": [],
      "gpuType": "T4"
    },
    "kernelspec": {
      "name": "python3",
      "display_name": "Python 3"
    },
    "language_info": {
      "name": "python"
    },
    "accelerator": "GPU"
  },
  "cells": [
    {
      "cell_type": "code",
      "execution_count": null,
      "metadata": {
        "id": "yEch5Epz4xOF"
      },
      "outputs": [],
      "source": [
        "import torch\n",
        "import torch.nn as nn\n",
        "import torch.optim as optim\n",
        "from torchvision import datasets, transforms\n",
        "from torch.utils.data import DataLoader\n",
        "import numpy as np"
      ]
    },
    {
      "cell_type": "code",
      "source": [
        "transform = transforms.Compose([\n",
        "    transforms.Resize(64),\n",
        "    transforms.ToTensor(),\n",
        "    transforms.Normalize((0.5, 0.5, 0.5), (0.5, 0.5, 0.5)),\n",
        "])\n",
        "\n",
        "batch_size = 128\n",
        "dataset = datasets.CIFAR10(root='./data', download=True, transform=transform)\n",
        "dataloader = DataLoader(dataset, batch_size=batch_size, shuffle=True)\n"
      ],
      "metadata": {
        "id": "yr30Q4Zj41av"
      },
      "execution_count": null,
      "outputs": []
    },
    {
      "cell_type": "code",
      "source": [
        "class Generator(nn.Module):\n",
        "    def __init__(self, z_dim, num_classes, img_channels):\n",
        "        super(Generator, self).__init__()\n",
        "        self.label_emb = nn.Embedding(num_classes, z_dim)\n",
        "        self.gen = nn.Sequential(\n",
        "            nn.ConvTranspose2d(z_dim * 2, 512, 4, 1, 0, bias=False),\n",
        "            nn.BatchNorm2d(512),\n",
        "            nn.ReLU(True),\n",
        "            nn.ConvTranspose2d(512, 256, 4, 2, 1, bias=False),\n",
        "            nn.BatchNorm2d(256),\n",
        "            nn.ReLU(True),\n",
        "            nn.ConvTranspose2d(256, 128, 4, 2, 1, bias=False),\n",
        "            nn.BatchNorm2d(128),\n",
        "            nn.ReLU(True),\n",
        "            nn.ConvTranspose2d(128, img_channels, 4, 2, 1, bias=False),\n",
        "            nn.Tanh()\n",
        "        )\n",
        "\n",
        "    def forward(self, noise, labels):\n",
        "        c = self.label_emb(labels)\n",
        "        x = torch.cat([noise, c], 1).unsqueeze(2).unsqueeze(3)\n",
        "        return self.gen(x)"
      ],
      "metadata": {
        "id": "rIbmqaNY41dC"
      },
      "execution_count": null,
      "outputs": []
    },
    {
      "cell_type": "code",
      "source": [
        "class Discriminator(nn.Module):\n",
        "    def __init__(self, num_classes, img_channels):\n",
        "        super(Discriminator, self).__init__()\n",
        "        self.disc = nn.Sequential(\n",
        "            nn.Conv2d(img_channels, 128, 4, 2, 1),\n",
        "            nn.LeakyReLU(0.2, inplace=True),\n",
        "            nn.Conv2d(128, 256, 4, 2, 1, bias=False),\n",
        "            nn.BatchNorm2d(256),\n",
        "            nn.LeakyReLU(0.2, inplace=True),\n",
        "            nn.Conv2d(256, 512, 4, 2, 1, bias=False),\n",
        "            nn.BatchNorm2d(512),\n",
        "            nn.LeakyReLU(0.2, inplace=True),\n",
        "            nn.Conv2d(512, 1024, 4, 2, 1, bias=False),\n",
        "            nn.BatchNorm2d(1024),\n",
        "            nn.LeakyReLU(0.2, inplace=True),\n",
        "        )\n",
        "        self.classifier = nn.Sequential(\n",
        "            nn.Linear(1024 * 4 * 4, 1),\n",
        "            nn.Sigmoid(),\n",
        "        )\n",
        "        self.aux_classifier = nn.Sequential(\n",
        "            nn.Linear(1024 * 4 * 4, num_classes),\n",
        "            nn.Softmax(dim=1),\n",
        "        )\n",
        "\n",
        "    def forward(self, img):\n",
        "        out = self.disc(img)\n",
        "        out = out.view(out.shape[0], -1)\n",
        "        validity = self.classifier(out)\n",
        "        label = self.aux_classifier(out)\n",
        "        return validity, label"
      ],
      "metadata": {
        "id": "cqqQRcMf41fN"
      },
      "execution_count": null,
      "outputs": []
    },
    {
      "cell_type": "code",
      "source": [
        "# Hyperparameters\n",
        "z_dim = 100\n",
        "num_classes = 10\n",
        "img_channels = 3\n",
        "lr = 0.0002\n",
        "beta1 = 0.5\n",
        "\n",
        "device = torch.device(\"cuda\" if torch.cuda.is_available() else \"cpu\")\n",
        "\n",
        "# Model\n",
        "generator = Generator(z_dim, num_classes, img_channels).to(device)\n",
        "discriminator = Discriminator(num_classes, img_channels).to(device)\n",
        "\n",
        "# Optimizers\n",
        "opt_gen = optim.Adam(generator.parameters(), lr=lr, betas=(beta1, 0.999))\n",
        "opt_disc = optim.Adam(discriminator.parameters(), lr=lr, betas=(beta1, 0.999))\n",
        "\n",
        "# Loss function\n",
        "adversarial_loss = nn.BCELoss()\n",
        "auxiliary_loss = nn.CrossEntropyLoss()\n"
      ],
      "metadata": {
        "id": "2xl8FEmF41hX"
      },
      "execution_count": null,
      "outputs": []
    },
    {
      "cell_type": "code",
      "source": [
        "num_epochs = 200\n",
        "for epoch in range(num_epochs):\n",
        "    for i, (imgs, labels) in enumerate(dataloader):\n",
        "        batch_size = imgs.shape[0]\n",
        "        imgs = imgs.to(device)\n",
        "        labels = labels.to(device)\n",
        "        valid = torch.ones(batch_size, 1).to(device)\n",
        "        fake = torch.zeros(batch_size, 1).to(device)\n",
        "\n",
        "        # Train Generator\n",
        "        opt_gen.zero_grad()\n",
        "        z = torch.randn(batch_size, z_dim).to(device)\n",
        "        gen_labels = torch.randint(0, num_classes, (batch_size,)).to(device)\n",
        "        gen_imgs = generator(z, gen_labels)\n",
        "        validity, pred_label = discriminator(gen_imgs)\n",
        "        g_loss = adversarial_loss(validity, valid) + auxiliary_loss(pred_label, gen_labels)\n",
        "        g_loss.backward()\n",
        "        opt_gen.step()\n",
        "\n",
        "        # Train Discriminator\n",
        "        opt_disc.zero_grad()\n",
        "        validity_real, pred_label_real = discriminator(imgs)\n",
        "        d_real_loss = (adversarial_loss(validity_real, valid) +\n",
        "                       auxiliary_loss(pred_label_real, labels)) / 2\n",
        "\n",
        "        validity_fake, pred_label_fake = discriminator(gen_imgs.detach())\n",
        "        d_fake_loss = (adversarial_loss(validity_fake, fake) +\n",
        "                       auxiliary_loss(pred_label_fake, gen_labels)) / 2\n",
        "\n",
        "        d_loss = (d_real_loss + d_fake_loss) / 2\n",
        "        d_loss.backward()\n",
        "        opt_disc.step()\n",
        "\n",
        "    print(f\"Epoch [{epoch+1}/{num_epochs}] Loss D: {d_loss.item()}, loss G: {g_loss.item()}\")\n"
      ],
      "metadata": {
        "id": "x0sEtcq3488P"
      },
      "execution_count": null,
      "outputs": []
    }
  ]
}