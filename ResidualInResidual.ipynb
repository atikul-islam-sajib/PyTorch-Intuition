{
  "nbformat": 4,
  "nbformat_minor": 0,
  "metadata": {
    "colab": {
      "provenance": []
    },
    "kernelspec": {
      "name": "python3",
      "display_name": "Python 3"
    },
    "language_info": {
      "name": "python"
    }
  },
  "cells": [
    {
      "cell_type": "code",
      "execution_count": 1,
      "metadata": {
        "id": "U4hkCn9QignU"
      },
      "outputs": [],
      "source": [
        "import torch\n",
        "import torch.nn as nn"
      ]
    },
    {
      "cell_type": "code",
      "source": [
        "class DenseBlock(nn.Module):\n",
        "  def __init__(self, in_channels = 64, out_channels = 64):\n",
        "    super(DenseBlock, self).__init__()\n",
        "\n",
        "    self.in_channels = in_channels\n",
        "    self.out_channels = out_channels\n",
        "    self.kernel_size = 3\n",
        "    self.stride = 1\n",
        "    self.padding = 1\n",
        "\n",
        "    self.block1 = nn.Sequential(\n",
        "        nn.Conv2d(in_channels=1*self.in_channels, out_channels=self.out_channels, kernel_size=self.kernel_size, stride=self.stride, padding=self.padding),\n",
        "        nn.LeakyReLU(negative_slope=0.2)\n",
        "    )\n",
        "\n",
        "    self.block2 = nn.Sequential(\n",
        "        nn.Conv2d(in_channels=2*self.in_channels, out_channels=self.out_channels, kernel_size=self.kernel_size, stride=self.stride, padding=self.padding),\n",
        "        nn.LeakyReLU(negative_slope=0.2)\n",
        "    )\n",
        "\n",
        "    self.block3 = nn.Sequential(\n",
        "        nn.Conv2d(in_channels=3*self.in_channels, out_channels=self.out_channels, kernel_size=self.kernel_size, stride=self.stride, padding=self.padding),\n",
        "        nn.LeakyReLU(negative_slope=0.2)\n",
        "    )\n",
        "\n",
        "    self.block4 = nn.Sequential(\n",
        "        nn.Conv2d(in_channels=4*self.in_channels, out_channels=self.out_channels, kernel_size=self.kernel_size, stride=self.stride, padding=self.padding),\n",
        "        nn.LeakyReLU(negative_slope=0.2)\n",
        "    )\n",
        "\n",
        "    self.block5 = nn.Sequential(\n",
        "        nn.Conv2d(in_channels=5*self.in_channels, out_channels=self.out_channels, kernel_size=self.kernel_size, stride=self.stride, padding=self.padding),\n",
        "        nn.LeakyReLU(negative_slope=0.2)\n",
        "    )\n",
        "\n",
        "  def forward(self, x):\n",
        "    x1 = self.block1(x)\n",
        "    x1= torch.cat((x, x), dim = 1)\n",
        "\n",
        "    x2 = self.block2(x1)\n",
        "    x2 = torch.cat((x1, x2), dim = 1)\n",
        "\n",
        "    x3 = self.block3(x2)\n",
        "    x3 = torch.cat((x2, x3), dim = 1)\n",
        "\n",
        "    x4 = self.block4(x3)\n",
        "    x4 = torch.cat((x3, x4), dim = 1)\n",
        "\n",
        "    return self.block5(x4)"
      ],
      "metadata": {
        "id": "6Os3WQFpjFZD"
      },
      "execution_count": 16,
      "outputs": []
    },
    {
      "cell_type": "code",
      "source": [
        "netDense = DenseBlock(in_channels=64, out_channels=64)\n",
        "\n",
        "netDense(torch.randn((1, 64, 64, 64))).size()"
      ],
      "metadata": {
        "colab": {
          "base_uri": "https://localhost:8080/"
        },
        "id": "rDDB63OgkeLe",
        "outputId": "939468a5-6469-4cc2-d0e8-b92f9bf48d02"
      },
      "execution_count": 17,
      "outputs": [
        {
          "output_type": "execute_result",
          "data": {
            "text/plain": [
              "torch.Size([1, 64, 64, 64])"
            ]
          },
          "metadata": {},
          "execution_count": 17
        }
      ]
    },
    {
      "cell_type": "code",
      "source": [
        "class ResidualInResidual(nn.Module):\n",
        "  def __init__(self, in_channels = 64, out_channels = 64, alpha = 0.85):\n",
        "    super(ResidualInResidual, self).__init__()\n",
        "\n",
        "    self.in_channels = in_channels\n",
        "    self.out_channels = out_channels\n",
        "    self.alpha = 0.85\n",
        "\n",
        "    self.layers = []\n",
        "\n",
        "    self.dense_block = nn.Sequential(*[DenseBlock(in_channels=self.in_channels, out_channels=self.out_channels) for _ in range(3)])\n",
        "\n",
        "  def forward(self, x):\n",
        "    for block in self.dense_block:\n",
        "      x = torch.mul(block(x), self.alpha)\n",
        "    return x\n"
      ],
      "metadata": {
        "id": "q7S6lh33ikdq"
      },
      "execution_count": 35,
      "outputs": []
    },
    {
      "cell_type": "code",
      "source": [
        "netResidual = ResidualInResidual(in_channels=64, out_channels=64)\n",
        "\n",
        "netResidual(torch.randn((1, 64, 64, 64))).size()"
      ],
      "metadata": {
        "colab": {
          "base_uri": "https://localhost:8080/"
        },
        "id": "sJ4wcYAKi3Oq",
        "outputId": "a550323d-1c84-462c-c127-eba2a7cec2f3"
      },
      "execution_count": 36,
      "outputs": [
        {
          "output_type": "execute_result",
          "data": {
            "text/plain": [
              "torch.Size([1, 64, 64, 64])"
            ]
          },
          "metadata": {},
          "execution_count": 36
        }
      ]
    },
    {
      "cell_type": "code",
      "source": [
        "class ResidualInResidual(nn.Module):\n",
        "  def __init__(self, in_channels = 64, out_channels = 64, alpha = 0.85):\n",
        "    super(ResidualInResidual, self).__init__()\n",
        "\n",
        "    self.in_channels = in_channels\n",
        "    self.out_channels = out_channels\n",
        "    self.alpha = 0.85\n",
        "\n",
        "    self.layers = []\n",
        "\n",
        "    self.dense_block1 = DenseBlock(in_channels=self.in_channels, out_channels=self.out_channels)\n",
        "    self.dense_block2 = DenseBlock(in_channels=self.in_channels, out_channels=self.out_channels)\n",
        "    self.dense_block3 = DenseBlock(in_channels=self.in_channels, out_channels=self.out_channels)\n",
        "\n",
        "  def forward(self, x):\n",
        "    block1 = self.dense_block1(x)\n",
        "    block1 = torch.mul(block1, self.alpha)\n",
        "\n",
        "\n",
        "    block2 = self.dense_block1(block1)\n",
        "    block2 = torch.mul(block2, self.alpha)\n",
        "\n",
        "    block3 = self.dense_block1(block2)\n",
        "    block3 = torch.mul(block3, self.alpha)\n",
        "\n",
        "    return block3"
      ],
      "metadata": {
        "id": "rwO6BeBPn-mO"
      },
      "execution_count": 37,
      "outputs": []
    },
    {
      "cell_type": "code",
      "source": [
        "netResidual = ResidualInResidual(in_channels=64, out_channels=64)\n",
        "netResidual(torch.randn((1, 64, 64, 64))).size()"
      ],
      "metadata": {
        "colab": {
          "base_uri": "https://localhost:8080/"
        },
        "id": "TACCH3onqesz",
        "outputId": "f95725c9-47dc-4c37-8b35-0d31bf8ec144"
      },
      "execution_count": 39,
      "outputs": [
        {
          "output_type": "execute_result",
          "data": {
            "text/plain": [
              "torch.Size([1, 64, 64, 64])"
            ]
          },
          "metadata": {},
          "execution_count": 39
        }
      ]
    },
    {
      "cell_type": "code",
      "source": [],
      "metadata": {
        "id": "Gz4Vi6yLqhTR"
      },
      "execution_count": null,
      "outputs": []
    }
  ]
}